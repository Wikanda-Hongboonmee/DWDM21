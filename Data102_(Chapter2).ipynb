{
  "nbformat": 4,
  "nbformat_minor": 0,
  "metadata": {
    "colab": {
      "name": "Data102 (Chapter2).ipynb",
      "provenance": [],
      "authorship_tag": "ABX9TyP92H7WWKz+iCZuyRItqcKC",
      "include_colab_link": true
    },
    "kernelspec": {
      "name": "python3",
      "display_name": "Python 3"
    },
    "language_info": {
      "name": "python"
    }
  },
  "cells": [
    {
      "cell_type": "markdown",
      "metadata": {
        "id": "view-in-github",
        "colab_type": "text"
      },
      "source": [
        "<a href=\"https://colab.research.google.com/github/Wikanda-Hongboonmee/DWDM21/blob/main/Data102_(Chapter2).ipynb\" target=\"_parent\"><img src=\"https://colab.research.google.com/assets/colab-badge.svg\" alt=\"Open In Colab\"/></a>"
      ]
    },
    {
      "cell_type": "code",
      "metadata": {
        "id": "lGizOge4KYh6"
      },
      "source": [
        "import pandas as pd  # pandas เป็น Package ที่ใช้เกี่ยวกับการจัดการข้อมูลที่เป็นตาราง , เรียกใช้โดยการ import แล้วตามด้วยชื่อ Package"
      ],
      "execution_count": 1,
      "outputs": []
    },
    {
      "cell_type": "code",
      "metadata": {
        "colab": {
          "base_uri": "https://localhost:8080/"
        },
        "id": "cIZvWckOPLxh",
        "outputId": "572321c2-167c-4d9c-e14c-ce59b278e239"
      },
      "source": [
        "from google.colab import drive  # เชื่อมต่อกับ google drive ที่เราเก็บข้อมูลไว้\n",
        "drive.mount('/content/drive')"
      ],
      "execution_count": 2,
      "outputs": [
        {
          "output_type": "stream",
          "text": [
            "Mounted at /content/drive\n"
          ],
          "name": "stdout"
        }
      ]
    },
    {
      "cell_type": "code",
      "metadata": {
        "colab": {
          "base_uri": "https://localhost:8080/"
        },
        "id": "LYFzigTNPxg6",
        "outputId": "32420e98-ae0e-4579-fb9a-6b73f80201ca"
      },
      "source": [
        "ls # แสดง content ถ้ายังไม่เชื่อมจะขึ้นแค่ drive แต่ถ้าเชื่อมติดจะขึ้นว่า drive/  sample_data/"
      ],
      "execution_count": 3,
      "outputs": [
        {
          "output_type": "stream",
          "text": [
            "\u001b[0m\u001b[01;34mdrive\u001b[0m/  \u001b[01;34msample_data\u001b[0m/\n"
          ],
          "name": "stdout"
        }
      ]
    },
    {
      "cell_type": "code",
      "metadata": {
        "id": "cPPgGCtbQfsP"
      },
      "source": [
        "import os # เป็น package ที่เอาไว้จัดการไฟล์และเอาไว้ดูที่มาของไฟล์หรือ path"
      ],
      "execution_count": 4,
      "outputs": []
    },
    {
      "cell_type": "code",
      "metadata": {
        "id": "CYXoMs48QsP7"
      },
      "source": [
        "path = '/content/drive/My Drive/DWDM2021_DATA' "
      ],
      "execution_count": 5,
      "outputs": []
    },
    {
      "cell_type": "code",
      "metadata": {
        "colab": {
          "base_uri": "https://localhost:8080/",
          "height": 487
        },
        "id": "HK0PwGF7QTmS",
        "outputId": "f8aec61c-2f17-4b17-c613-555829ff828b"
      },
      "source": [
        "data = pd.read_csv(os.path.join(path,'thailand_covid-19_testing_data.csv')) # ไฟล์ที่เราต้องการ\n",
        "data # print data ดูว่ามันหน้าตาเป็นยังไง"
      ],
      "execution_count": 6,
      "outputs": [
        {
          "output_type": "execute_result",
          "data": {
            "text/html": [
              "<div>\n",
              "<style scoped>\n",
              "    .dataframe tbody tr th:only-of-type {\n",
              "        vertical-align: middle;\n",
              "    }\n",
              "\n",
              "    .dataframe tbody tr th {\n",
              "        vertical-align: top;\n",
              "    }\n",
              "\n",
              "    .dataframe thead th {\n",
              "        text-align: right;\n",
              "    }\n",
              "</style>\n",
              "<table border=\"1\" class=\"dataframe\">\n",
              "  <thead>\n",
              "    <tr style=\"text-align: right;\">\n",
              "      <th></th>\n",
              "      <th>Date</th>\n",
              "      <th>positive</th>\n",
              "      <th>Total Testing</th>\n",
              "      <th>Unnamed: 3</th>\n",
              "      <th>Unnamed: 4</th>\n",
              "      <th>Unnamed: 5</th>\n",
              "      <th>Unnamed: 6</th>\n",
              "      <th>Unnamed: 7</th>\n",
              "      <th>Unnamed: 8</th>\n",
              "      <th>Unnamed: 9</th>\n",
              "      <th>Unnamed: 10</th>\n",
              "      <th>Unnamed: 11</th>\n",
              "      <th>Unnamed: 12</th>\n",
              "      <th>Unnamed: 13</th>\n",
              "      <th>Unnamed: 14</th>\n",
              "      <th>Unnamed: 15</th>\n",
              "      <th>Unnamed: 16</th>\n",
              "      <th>Unnamed: 17</th>\n",
              "      <th>Unnamed: 18</th>\n",
              "      <th>Unnamed: 19</th>\n",
              "      <th>Unnamed: 20</th>\n",
              "      <th>Unnamed: 21</th>\n",
              "      <th>Unnamed: 22</th>\n",
              "      <th>Unnamed: 23</th>\n",
              "      <th>Unnamed: 24</th>\n",
              "      <th>Unnamed: 25</th>\n",
              "      <th>Unnamed: 26</th>\n",
              "      <th>Unnamed: 27</th>\n",
              "      <th>Unnamed: 28</th>\n",
              "      <th>Unnamed: 29</th>\n",
              "      <th>Unnamed: 30</th>\n",
              "      <th>Unnamed: 31</th>\n",
              "      <th>Unnamed: 32</th>\n",
              "      <th>Unnamed: 33</th>\n",
              "      <th>Unnamed: 34</th>\n",
              "      <th>Unnamed: 35</th>\n",
              "      <th>Unnamed: 36</th>\n",
              "      <th>Unnamed: 37</th>\n",
              "      <th>Unnamed: 38</th>\n",
              "      <th>Unnamed: 39</th>\n",
              "      <th>...</th>\n",
              "      <th>Unnamed: 82</th>\n",
              "      <th>Unnamed: 83</th>\n",
              "      <th>Unnamed: 84</th>\n",
              "      <th>Unnamed: 85</th>\n",
              "      <th>Unnamed: 86</th>\n",
              "      <th>Unnamed: 87</th>\n",
              "      <th>Unnamed: 88</th>\n",
              "      <th>Unnamed: 89</th>\n",
              "      <th>Unnamed: 90</th>\n",
              "      <th>Unnamed: 91</th>\n",
              "      <th>Unnamed: 92</th>\n",
              "      <th>Unnamed: 93</th>\n",
              "      <th>Unnamed: 94</th>\n",
              "      <th>Unnamed: 95</th>\n",
              "      <th>Unnamed: 96</th>\n",
              "      <th>Unnamed: 97</th>\n",
              "      <th>Unnamed: 98</th>\n",
              "      <th>Unnamed: 99</th>\n",
              "      <th>Unnamed: 100</th>\n",
              "      <th>Unnamed: 101</th>\n",
              "      <th>Unnamed: 102</th>\n",
              "      <th>Unnamed: 103</th>\n",
              "      <th>Unnamed: 104</th>\n",
              "      <th>Unnamed: 105</th>\n",
              "      <th>Unnamed: 106</th>\n",
              "      <th>Unnamed: 107</th>\n",
              "      <th>Unnamed: 108</th>\n",
              "      <th>Unnamed: 109</th>\n",
              "      <th>Unnamed: 110</th>\n",
              "      <th>Unnamed: 111</th>\n",
              "      <th>Unnamed: 112</th>\n",
              "      <th>Unnamed: 113</th>\n",
              "      <th>Unnamed: 114</th>\n",
              "      <th>Unnamed: 115</th>\n",
              "      <th>Unnamed: 116</th>\n",
              "      <th>Unnamed: 117</th>\n",
              "      <th>Unnamed: 118</th>\n",
              "      <th>Unnamed: 119</th>\n",
              "      <th>Unnamed: 120</th>\n",
              "      <th>Unnamed: 121</th>\n",
              "    </tr>\n",
              "  </thead>\n",
              "  <tbody>\n",
              "    <tr>\n",
              "      <th>0</th>\n",
              "      <td>Cannot specify date</td>\n",
              "      <td>2963</td>\n",
              "      <td>32131</td>\n",
              "      <td>NaN</td>\n",
              "      <td>NaN</td>\n",
              "      <td>NaN</td>\n",
              "      <td>NaN</td>\n",
              "      <td>NaN</td>\n",
              "      <td>NaN</td>\n",
              "      <td>NaN</td>\n",
              "      <td>NaN</td>\n",
              "      <td>NaN</td>\n",
              "      <td>NaN</td>\n",
              "      <td>NaN</td>\n",
              "      <td>NaN</td>\n",
              "      <td>NaN</td>\n",
              "      <td>NaN</td>\n",
              "      <td>NaN</td>\n",
              "      <td>NaN</td>\n",
              "      <td>NaN</td>\n",
              "      <td>NaN</td>\n",
              "      <td>NaN</td>\n",
              "      <td>NaN</td>\n",
              "      <td>NaN</td>\n",
              "      <td>NaN</td>\n",
              "      <td>NaN</td>\n",
              "      <td>NaN</td>\n",
              "      <td>NaN</td>\n",
              "      <td>NaN</td>\n",
              "      <td>NaN</td>\n",
              "      <td>NaN</td>\n",
              "      <td>NaN</td>\n",
              "      <td>NaN</td>\n",
              "      <td>NaN</td>\n",
              "      <td>NaN</td>\n",
              "      <td>NaN</td>\n",
              "      <td>NaN</td>\n",
              "      <td>NaN</td>\n",
              "      <td>NaN</td>\n",
              "      <td>NaN</td>\n",
              "      <td>...</td>\n",
              "      <td>NaN</td>\n",
              "      <td>NaN</td>\n",
              "      <td>NaN</td>\n",
              "      <td>NaN</td>\n",
              "      <td>NaN</td>\n",
              "      <td>NaN</td>\n",
              "      <td>NaN</td>\n",
              "      <td>NaN</td>\n",
              "      <td>NaN</td>\n",
              "      <td>NaN</td>\n",
              "      <td>NaN</td>\n",
              "      <td>NaN</td>\n",
              "      <td>NaN</td>\n",
              "      <td>NaN</td>\n",
              "      <td>NaN</td>\n",
              "      <td>NaN</td>\n",
              "      <td>NaN</td>\n",
              "      <td>NaN</td>\n",
              "      <td>NaN</td>\n",
              "      <td>NaN</td>\n",
              "      <td>NaN</td>\n",
              "      <td>NaN</td>\n",
              "      <td>NaN</td>\n",
              "      <td>NaN</td>\n",
              "      <td>NaN</td>\n",
              "      <td>NaN</td>\n",
              "      <td>NaN</td>\n",
              "      <td>NaN</td>\n",
              "      <td>NaN</td>\n",
              "      <td>NaN</td>\n",
              "      <td>NaN</td>\n",
              "      <td>NaN</td>\n",
              "      <td>NaN</td>\n",
              "      <td>NaN</td>\n",
              "      <td>NaN</td>\n",
              "      <td>NaN</td>\n",
              "      <td>NaN</td>\n",
              "      <td>NaN</td>\n",
              "      <td>NaN</td>\n",
              "      <td>NaN</td>\n",
              "    </tr>\n",
              "    <tr>\n",
              "      <th>1</th>\n",
              "      <td>1/1/2020</td>\n",
              "      <td>0</td>\n",
              "      <td>0</td>\n",
              "      <td>NaN</td>\n",
              "      <td>NaN</td>\n",
              "      <td>NaN</td>\n",
              "      <td>NaN</td>\n",
              "      <td>NaN</td>\n",
              "      <td>NaN</td>\n",
              "      <td>NaN</td>\n",
              "      <td>NaN</td>\n",
              "      <td>NaN</td>\n",
              "      <td>NaN</td>\n",
              "      <td>NaN</td>\n",
              "      <td>NaN</td>\n",
              "      <td>NaN</td>\n",
              "      <td>NaN</td>\n",
              "      <td>NaN</td>\n",
              "      <td>NaN</td>\n",
              "      <td>NaN</td>\n",
              "      <td>NaN</td>\n",
              "      <td>NaN</td>\n",
              "      <td>NaN</td>\n",
              "      <td>NaN</td>\n",
              "      <td>NaN</td>\n",
              "      <td>NaN</td>\n",
              "      <td>NaN</td>\n",
              "      <td>NaN</td>\n",
              "      <td>NaN</td>\n",
              "      <td>NaN</td>\n",
              "      <td>NaN</td>\n",
              "      <td>NaN</td>\n",
              "      <td>NaN</td>\n",
              "      <td>NaN</td>\n",
              "      <td>NaN</td>\n",
              "      <td>NaN</td>\n",
              "      <td>NaN</td>\n",
              "      <td>NaN</td>\n",
              "      <td>NaN</td>\n",
              "      <td>NaN</td>\n",
              "      <td>...</td>\n",
              "      <td>12</td>\n",
              "      <td>NaN</td>\n",
              "      <td>13</td>\n",
              "      <td>NaN</td>\n",
              "      <td>14</td>\n",
              "      <td>NaN</td>\n",
              "      <td>15</td>\n",
              "      <td>NaN</td>\n",
              "      <td>16</td>\n",
              "      <td>NaN</td>\n",
              "      <td>17</td>\n",
              "      <td>NaN</td>\n",
              "      <td>18</td>\n",
              "      <td>NaN</td>\n",
              "      <td>19</td>\n",
              "      <td>NaN</td>\n",
              "      <td>20</td>\n",
              "      <td>NaN</td>\n",
              "      <td>21</td>\n",
              "      <td>NaN</td>\n",
              "      <td>22</td>\n",
              "      <td>NaN</td>\n",
              "      <td>23</td>\n",
              "      <td>NaN</td>\n",
              "      <td>24</td>\n",
              "      <td>NaN</td>\n",
              "      <td>25</td>\n",
              "      <td>NaN</td>\n",
              "      <td>26</td>\n",
              "      <td>NaN</td>\n",
              "      <td>27</td>\n",
              "      <td>NaN</td>\n",
              "      <td>28</td>\n",
              "      <td>NaN</td>\n",
              "      <td>29</td>\n",
              "      <td>NaN</td>\n",
              "      <td>30</td>\n",
              "      <td>NaN</td>\n",
              "      <td>31</td>\n",
              "      <td>NaN</td>\n",
              "    </tr>\n",
              "    <tr>\n",
              "      <th>2</th>\n",
              "      <td>2/1/2020</td>\n",
              "      <td>0</td>\n",
              "      <td>0</td>\n",
              "      <td>NaN</td>\n",
              "      <td>NaN</td>\n",
              "      <td>NaN</td>\n",
              "      <td>NaN</td>\n",
              "      <td>NaN</td>\n",
              "      <td>NaN</td>\n",
              "      <td>NaN</td>\n",
              "      <td>NaN</td>\n",
              "      <td>NaN</td>\n",
              "      <td>NaN</td>\n",
              "      <td>NaN</td>\n",
              "      <td>NaN</td>\n",
              "      <td>NaN</td>\n",
              "      <td>NaN</td>\n",
              "      <td>NaN</td>\n",
              "      <td>NaN</td>\n",
              "      <td>NaN</td>\n",
              "      <td>NaN</td>\n",
              "      <td>NaN</td>\n",
              "      <td>NaN</td>\n",
              "      <td>NaN</td>\n",
              "      <td>NaN</td>\n",
              "      <td>NaN</td>\n",
              "      <td>NaN</td>\n",
              "      <td>NaN</td>\n",
              "      <td>NaN</td>\n",
              "      <td>NaN</td>\n",
              "      <td>NaN</td>\n",
              "      <td>NaN</td>\n",
              "      <td>NaN</td>\n",
              "      <td>NaN</td>\n",
              "      <td>NaN</td>\n",
              "      <td>NaN</td>\n",
              "      <td>NaN</td>\n",
              "      <td>NaN</td>\n",
              "      <td>NaN</td>\n",
              "      <td>NaN</td>\n",
              "      <td>...</td>\n",
              "      <td>Pos</td>\n",
              "      <td>Pos</td>\n",
              "      <td>Total</td>\n",
              "      <td>Pos</td>\n",
              "      <td>Total</td>\n",
              "      <td>Pos</td>\n",
              "      <td>Total</td>\n",
              "      <td>Pos</td>\n",
              "      <td>Total</td>\n",
              "      <td>Pos</td>\n",
              "      <td>Pos</td>\n",
              "      <td>Total</td>\n",
              "      <td>Pos</td>\n",
              "      <td>Total</td>\n",
              "      <td>Pos</td>\n",
              "      <td>Total</td>\n",
              "      <td>Pos</td>\n",
              "      <td>Total</td>\n",
              "      <td>Pos</td>\n",
              "      <td>Pos</td>\n",
              "      <td>Total</td>\n",
              "      <td>Pos</td>\n",
              "      <td>Total</td>\n",
              "      <td>Pos</td>\n",
              "      <td>Total</td>\n",
              "      <td>Pos</td>\n",
              "      <td>Total</td>\n",
              "      <td>Pos</td>\n",
              "      <td>Pos</td>\n",
              "      <td>Total</td>\n",
              "      <td>Pos</td>\n",
              "      <td>Total</td>\n",
              "      <td>Pos</td>\n",
              "      <td>Total</td>\n",
              "      <td>Pos</td>\n",
              "      <td>Total</td>\n",
              "      <td>Pos</td>\n",
              "      <td>Pos</td>\n",
              "      <td>Pos</td>\n",
              "      <td>Pos</td>\n",
              "    </tr>\n",
              "    <tr>\n",
              "      <th>3</th>\n",
              "      <td>3/1/2020</td>\n",
              "      <td>0</td>\n",
              "      <td>0</td>\n",
              "      <td>NaN</td>\n",
              "      <td>NaN</td>\n",
              "      <td>NaN</td>\n",
              "      <td>NaN</td>\n",
              "      <td>NaN</td>\n",
              "      <td>NaN</td>\n",
              "      <td>NaN</td>\n",
              "      <td>NaN</td>\n",
              "      <td>NaN</td>\n",
              "      <td>NaN</td>\n",
              "      <td>NaN</td>\n",
              "      <td>NaN</td>\n",
              "      <td>NaN</td>\n",
              "      <td>NaN</td>\n",
              "      <td>NaN</td>\n",
              "      <td>NaN</td>\n",
              "      <td>NaN</td>\n",
              "      <td>NaN</td>\n",
              "      <td>NaN</td>\n",
              "      <td>NaN</td>\n",
              "      <td>NaN</td>\n",
              "      <td>NaN</td>\n",
              "      <td>NaN</td>\n",
              "      <td>NaN</td>\n",
              "      <td>NaN</td>\n",
              "      <td>NaN</td>\n",
              "      <td>NaN</td>\n",
              "      <td>NaN</td>\n",
              "      <td>NaN</td>\n",
              "      <td>NaN</td>\n",
              "      <td>NaN</td>\n",
              "      <td>NaN</td>\n",
              "      <td>NaN</td>\n",
              "      <td>NaN</td>\n",
              "      <td>NaN</td>\n",
              "      <td>NaN</td>\n",
              "      <td>NaN</td>\n",
              "      <td>...</td>\n",
              "      <td>NaN</td>\n",
              "      <td>NaN</td>\n",
              "      <td>NaN</td>\n",
              "      <td>NaN</td>\n",
              "      <td>NaN</td>\n",
              "      <td>NaN</td>\n",
              "      <td>NaN</td>\n",
              "      <td>NaN</td>\n",
              "      <td>NaN</td>\n",
              "      <td>NaN</td>\n",
              "      <td>NaN</td>\n",
              "      <td>NaN</td>\n",
              "      <td>NaN</td>\n",
              "      <td>NaN</td>\n",
              "      <td>NaN</td>\n",
              "      <td>NaN</td>\n",
              "      <td>NaN</td>\n",
              "      <td>NaN</td>\n",
              "      <td>NaN</td>\n",
              "      <td>NaN</td>\n",
              "      <td>NaN</td>\n",
              "      <td>NaN</td>\n",
              "      <td>NaN</td>\n",
              "      <td>NaN</td>\n",
              "      <td>NaN</td>\n",
              "      <td>NaN</td>\n",
              "      <td>NaN</td>\n",
              "      <td>NaN</td>\n",
              "      <td>NaN</td>\n",
              "      <td>NaN</td>\n",
              "      <td>NaN</td>\n",
              "      <td>NaN</td>\n",
              "      <td>NaN</td>\n",
              "      <td>NaN</td>\n",
              "      <td>NaN</td>\n",
              "      <td>NaN</td>\n",
              "      <td>NaN</td>\n",
              "      <td>NaN</td>\n",
              "      <td>NaN</td>\n",
              "      <td>NaN</td>\n",
              "    </tr>\n",
              "    <tr>\n",
              "      <th>4</th>\n",
              "      <td>4/1/2020</td>\n",
              "      <td>0</td>\n",
              "      <td>2</td>\n",
              "      <td>NaN</td>\n",
              "      <td>NaN</td>\n",
              "      <td>NaN</td>\n",
              "      <td>NaN</td>\n",
              "      <td>NaN</td>\n",
              "      <td>NaN</td>\n",
              "      <td>NaN</td>\n",
              "      <td>NaN</td>\n",
              "      <td>NaN</td>\n",
              "      <td>NaN</td>\n",
              "      <td>NaN</td>\n",
              "      <td>NaN</td>\n",
              "      <td>NaN</td>\n",
              "      <td>NaN</td>\n",
              "      <td>NaN</td>\n",
              "      <td>NaN</td>\n",
              "      <td>NaN</td>\n",
              "      <td>NaN</td>\n",
              "      <td>NaN</td>\n",
              "      <td>NaN</td>\n",
              "      <td>NaN</td>\n",
              "      <td>NaN</td>\n",
              "      <td>NaN</td>\n",
              "      <td>NaN</td>\n",
              "      <td>NaN</td>\n",
              "      <td>NaN</td>\n",
              "      <td>NaN</td>\n",
              "      <td>NaN</td>\n",
              "      <td>NaN</td>\n",
              "      <td>NaN</td>\n",
              "      <td>NaN</td>\n",
              "      <td>NaN</td>\n",
              "      <td>NaN</td>\n",
              "      <td>NaN</td>\n",
              "      <td>NaN</td>\n",
              "      <td>NaN</td>\n",
              "      <td>NaN</td>\n",
              "      <td>...</td>\n",
              "      <td>NaN</td>\n",
              "      <td>NaN</td>\n",
              "      <td>NaN</td>\n",
              "      <td>NaN</td>\n",
              "      <td>NaN</td>\n",
              "      <td>NaN</td>\n",
              "      <td>NaN</td>\n",
              "      <td>NaN</td>\n",
              "      <td>NaN</td>\n",
              "      <td>NaN</td>\n",
              "      <td>NaN</td>\n",
              "      <td>NaN</td>\n",
              "      <td>NaN</td>\n",
              "      <td>NaN</td>\n",
              "      <td>NaN</td>\n",
              "      <td>NaN</td>\n",
              "      <td>NaN</td>\n",
              "      <td>NaN</td>\n",
              "      <td>NaN</td>\n",
              "      <td>NaN</td>\n",
              "      <td>NaN</td>\n",
              "      <td>NaN</td>\n",
              "      <td>NaN</td>\n",
              "      <td>NaN</td>\n",
              "      <td>NaN</td>\n",
              "      <td>NaN</td>\n",
              "      <td>NaN</td>\n",
              "      <td>NaN</td>\n",
              "      <td>NaN</td>\n",
              "      <td>NaN</td>\n",
              "      <td>NaN</td>\n",
              "      <td>NaN</td>\n",
              "      <td>NaN</td>\n",
              "      <td>NaN</td>\n",
              "      <td>NaN</td>\n",
              "      <td>NaN</td>\n",
              "      <td>NaN</td>\n",
              "      <td>NaN</td>\n",
              "      <td>NaN</td>\n",
              "      <td>NaN</td>\n",
              "    </tr>\n",
              "    <tr>\n",
              "      <th>...</th>\n",
              "      <td>...</td>\n",
              "      <td>...</td>\n",
              "      <td>...</td>\n",
              "      <td>...</td>\n",
              "      <td>...</td>\n",
              "      <td>...</td>\n",
              "      <td>...</td>\n",
              "      <td>...</td>\n",
              "      <td>...</td>\n",
              "      <td>...</td>\n",
              "      <td>...</td>\n",
              "      <td>...</td>\n",
              "      <td>...</td>\n",
              "      <td>...</td>\n",
              "      <td>...</td>\n",
              "      <td>...</td>\n",
              "      <td>...</td>\n",
              "      <td>...</td>\n",
              "      <td>...</td>\n",
              "      <td>...</td>\n",
              "      <td>...</td>\n",
              "      <td>...</td>\n",
              "      <td>...</td>\n",
              "      <td>...</td>\n",
              "      <td>...</td>\n",
              "      <td>...</td>\n",
              "      <td>...</td>\n",
              "      <td>...</td>\n",
              "      <td>...</td>\n",
              "      <td>...</td>\n",
              "      <td>...</td>\n",
              "      <td>...</td>\n",
              "      <td>...</td>\n",
              "      <td>...</td>\n",
              "      <td>...</td>\n",
              "      <td>...</td>\n",
              "      <td>...</td>\n",
              "      <td>...</td>\n",
              "      <td>...</td>\n",
              "      <td>...</td>\n",
              "      <td>...</td>\n",
              "      <td>...</td>\n",
              "      <td>...</td>\n",
              "      <td>...</td>\n",
              "      <td>...</td>\n",
              "      <td>...</td>\n",
              "      <td>...</td>\n",
              "      <td>...</td>\n",
              "      <td>...</td>\n",
              "      <td>...</td>\n",
              "      <td>...</td>\n",
              "      <td>...</td>\n",
              "      <td>...</td>\n",
              "      <td>...</td>\n",
              "      <td>...</td>\n",
              "      <td>...</td>\n",
              "      <td>...</td>\n",
              "      <td>...</td>\n",
              "      <td>...</td>\n",
              "      <td>...</td>\n",
              "      <td>...</td>\n",
              "      <td>...</td>\n",
              "      <td>...</td>\n",
              "      <td>...</td>\n",
              "      <td>...</td>\n",
              "      <td>...</td>\n",
              "      <td>...</td>\n",
              "      <td>...</td>\n",
              "      <td>...</td>\n",
              "      <td>...</td>\n",
              "      <td>...</td>\n",
              "      <td>...</td>\n",
              "      <td>...</td>\n",
              "      <td>...</td>\n",
              "      <td>...</td>\n",
              "      <td>...</td>\n",
              "      <td>...</td>\n",
              "      <td>...</td>\n",
              "      <td>...</td>\n",
              "      <td>...</td>\n",
              "      <td>...</td>\n",
              "    </tr>\n",
              "    <tr>\n",
              "      <th>567</th>\n",
              "      <td>20/7/2021</td>\n",
              "      <td>68403</td>\n",
              "      <td>10152</td>\n",
              "      <td>NaN</td>\n",
              "      <td>NaN</td>\n",
              "      <td>NaN</td>\n",
              "      <td>NaN</td>\n",
              "      <td>NaN</td>\n",
              "      <td>NaN</td>\n",
              "      <td>NaN</td>\n",
              "      <td>NaN</td>\n",
              "      <td>NaN</td>\n",
              "      <td>NaN</td>\n",
              "      <td>NaN</td>\n",
              "      <td>NaN</td>\n",
              "      <td>NaN</td>\n",
              "      <td>NaN</td>\n",
              "      <td>NaN</td>\n",
              "      <td>NaN</td>\n",
              "      <td>NaN</td>\n",
              "      <td>NaN</td>\n",
              "      <td>NaN</td>\n",
              "      <td>NaN</td>\n",
              "      <td>NaN</td>\n",
              "      <td>NaN</td>\n",
              "      <td>NaN</td>\n",
              "      <td>NaN</td>\n",
              "      <td>NaN</td>\n",
              "      <td>NaN</td>\n",
              "      <td>NaN</td>\n",
              "      <td>NaN</td>\n",
              "      <td>NaN</td>\n",
              "      <td>NaN</td>\n",
              "      <td>NaN</td>\n",
              "      <td>NaN</td>\n",
              "      <td>NaN</td>\n",
              "      <td>NaN</td>\n",
              "      <td>NaN</td>\n",
              "      <td>NaN</td>\n",
              "      <td>NaN</td>\n",
              "      <td>...</td>\n",
              "      <td>NaN</td>\n",
              "      <td>NaN</td>\n",
              "      <td>NaN</td>\n",
              "      <td>NaN</td>\n",
              "      <td>NaN</td>\n",
              "      <td>NaN</td>\n",
              "      <td>NaN</td>\n",
              "      <td>NaN</td>\n",
              "      <td>NaN</td>\n",
              "      <td>NaN</td>\n",
              "      <td>NaN</td>\n",
              "      <td>NaN</td>\n",
              "      <td>NaN</td>\n",
              "      <td>NaN</td>\n",
              "      <td>NaN</td>\n",
              "      <td>NaN</td>\n",
              "      <td>NaN</td>\n",
              "      <td>NaN</td>\n",
              "      <td>NaN</td>\n",
              "      <td>NaN</td>\n",
              "      <td>NaN</td>\n",
              "      <td>NaN</td>\n",
              "      <td>NaN</td>\n",
              "      <td>NaN</td>\n",
              "      <td>NaN</td>\n",
              "      <td>NaN</td>\n",
              "      <td>NaN</td>\n",
              "      <td>NaN</td>\n",
              "      <td>NaN</td>\n",
              "      <td>NaN</td>\n",
              "      <td>NaN</td>\n",
              "      <td>NaN</td>\n",
              "      <td>NaN</td>\n",
              "      <td>NaN</td>\n",
              "      <td>NaN</td>\n",
              "      <td>NaN</td>\n",
              "      <td>NaN</td>\n",
              "      <td>NaN</td>\n",
              "      <td>NaN</td>\n",
              "      <td>NaN</td>\n",
              "    </tr>\n",
              "    <tr>\n",
              "      <th>568</th>\n",
              "      <td>21/7/2021</td>\n",
              "      <td>82325</td>\n",
              "      <td>12210</td>\n",
              "      <td>NaN</td>\n",
              "      <td>NaN</td>\n",
              "      <td>NaN</td>\n",
              "      <td>NaN</td>\n",
              "      <td>NaN</td>\n",
              "      <td>NaN</td>\n",
              "      <td>NaN</td>\n",
              "      <td>NaN</td>\n",
              "      <td>NaN</td>\n",
              "      <td>NaN</td>\n",
              "      <td>NaN</td>\n",
              "      <td>NaN</td>\n",
              "      <td>NaN</td>\n",
              "      <td>NaN</td>\n",
              "      <td>NaN</td>\n",
              "      <td>NaN</td>\n",
              "      <td>NaN</td>\n",
              "      <td>NaN</td>\n",
              "      <td>NaN</td>\n",
              "      <td>NaN</td>\n",
              "      <td>NaN</td>\n",
              "      <td>NaN</td>\n",
              "      <td>NaN</td>\n",
              "      <td>NaN</td>\n",
              "      <td>NaN</td>\n",
              "      <td>NaN</td>\n",
              "      <td>NaN</td>\n",
              "      <td>NaN</td>\n",
              "      <td>NaN</td>\n",
              "      <td>NaN</td>\n",
              "      <td>NaN</td>\n",
              "      <td>NaN</td>\n",
              "      <td>NaN</td>\n",
              "      <td>NaN</td>\n",
              "      <td>NaN</td>\n",
              "      <td>NaN</td>\n",
              "      <td>NaN</td>\n",
              "      <td>...</td>\n",
              "      <td>NaN</td>\n",
              "      <td>NaN</td>\n",
              "      <td>NaN</td>\n",
              "      <td>NaN</td>\n",
              "      <td>NaN</td>\n",
              "      <td>NaN</td>\n",
              "      <td>NaN</td>\n",
              "      <td>NaN</td>\n",
              "      <td>NaN</td>\n",
              "      <td>NaN</td>\n",
              "      <td>NaN</td>\n",
              "      <td>NaN</td>\n",
              "      <td>NaN</td>\n",
              "      <td>NaN</td>\n",
              "      <td>NaN</td>\n",
              "      <td>NaN</td>\n",
              "      <td>NaN</td>\n",
              "      <td>NaN</td>\n",
              "      <td>NaN</td>\n",
              "      <td>NaN</td>\n",
              "      <td>NaN</td>\n",
              "      <td>NaN</td>\n",
              "      <td>NaN</td>\n",
              "      <td>NaN</td>\n",
              "      <td>NaN</td>\n",
              "      <td>NaN</td>\n",
              "      <td>NaN</td>\n",
              "      <td>NaN</td>\n",
              "      <td>NaN</td>\n",
              "      <td>NaN</td>\n",
              "      <td>NaN</td>\n",
              "      <td>NaN</td>\n",
              "      <td>NaN</td>\n",
              "      <td>NaN</td>\n",
              "      <td>NaN</td>\n",
              "      <td>NaN</td>\n",
              "      <td>NaN</td>\n",
              "      <td>NaN</td>\n",
              "      <td>NaN</td>\n",
              "      <td>NaN</td>\n",
              "    </tr>\n",
              "    <tr>\n",
              "      <th>569</th>\n",
              "      <td>22/7/2021</td>\n",
              "      <td>62846</td>\n",
              "      <td>10623</td>\n",
              "      <td>NaN</td>\n",
              "      <td>NaN</td>\n",
              "      <td>NaN</td>\n",
              "      <td>NaN</td>\n",
              "      <td>NaN</td>\n",
              "      <td>NaN</td>\n",
              "      <td>NaN</td>\n",
              "      <td>NaN</td>\n",
              "      <td>NaN</td>\n",
              "      <td>NaN</td>\n",
              "      <td>NaN</td>\n",
              "      <td>NaN</td>\n",
              "      <td>NaN</td>\n",
              "      <td>NaN</td>\n",
              "      <td>NaN</td>\n",
              "      <td>NaN</td>\n",
              "      <td>NaN</td>\n",
              "      <td>NaN</td>\n",
              "      <td>NaN</td>\n",
              "      <td>NaN</td>\n",
              "      <td>NaN</td>\n",
              "      <td>NaN</td>\n",
              "      <td>NaN</td>\n",
              "      <td>NaN</td>\n",
              "      <td>NaN</td>\n",
              "      <td>NaN</td>\n",
              "      <td>NaN</td>\n",
              "      <td>NaN</td>\n",
              "      <td>NaN</td>\n",
              "      <td>NaN</td>\n",
              "      <td>NaN</td>\n",
              "      <td>NaN</td>\n",
              "      <td>NaN</td>\n",
              "      <td>NaN</td>\n",
              "      <td>NaN</td>\n",
              "      <td>NaN</td>\n",
              "      <td>NaN</td>\n",
              "      <td>...</td>\n",
              "      <td>NaN</td>\n",
              "      <td>NaN</td>\n",
              "      <td>NaN</td>\n",
              "      <td>NaN</td>\n",
              "      <td>NaN</td>\n",
              "      <td>NaN</td>\n",
              "      <td>NaN</td>\n",
              "      <td>NaN</td>\n",
              "      <td>NaN</td>\n",
              "      <td>NaN</td>\n",
              "      <td>NaN</td>\n",
              "      <td>NaN</td>\n",
              "      <td>NaN</td>\n",
              "      <td>NaN</td>\n",
              "      <td>NaN</td>\n",
              "      <td>NaN</td>\n",
              "      <td>NaN</td>\n",
              "      <td>NaN</td>\n",
              "      <td>NaN</td>\n",
              "      <td>NaN</td>\n",
              "      <td>NaN</td>\n",
              "      <td>NaN</td>\n",
              "      <td>NaN</td>\n",
              "      <td>NaN</td>\n",
              "      <td>NaN</td>\n",
              "      <td>NaN</td>\n",
              "      <td>NaN</td>\n",
              "      <td>NaN</td>\n",
              "      <td>NaN</td>\n",
              "      <td>NaN</td>\n",
              "      <td>NaN</td>\n",
              "      <td>NaN</td>\n",
              "      <td>NaN</td>\n",
              "      <td>NaN</td>\n",
              "      <td>NaN</td>\n",
              "      <td>NaN</td>\n",
              "      <td>NaN</td>\n",
              "      <td>NaN</td>\n",
              "      <td>NaN</td>\n",
              "      <td>NaN</td>\n",
              "    </tr>\n",
              "    <tr>\n",
              "      <th>570</th>\n",
              "      <td>23/7/2021</td>\n",
              "      <td>58851</td>\n",
              "      <td>10200</td>\n",
              "      <td>NaN</td>\n",
              "      <td>NaN</td>\n",
              "      <td>NaN</td>\n",
              "      <td>NaN</td>\n",
              "      <td>NaN</td>\n",
              "      <td>NaN</td>\n",
              "      <td>NaN</td>\n",
              "      <td>NaN</td>\n",
              "      <td>NaN</td>\n",
              "      <td>NaN</td>\n",
              "      <td>NaN</td>\n",
              "      <td>NaN</td>\n",
              "      <td>NaN</td>\n",
              "      <td>NaN</td>\n",
              "      <td>NaN</td>\n",
              "      <td>NaN</td>\n",
              "      <td>NaN</td>\n",
              "      <td>NaN</td>\n",
              "      <td>NaN</td>\n",
              "      <td>NaN</td>\n",
              "      <td>NaN</td>\n",
              "      <td>NaN</td>\n",
              "      <td>NaN</td>\n",
              "      <td>NaN</td>\n",
              "      <td>NaN</td>\n",
              "      <td>NaN</td>\n",
              "      <td>NaN</td>\n",
              "      <td>NaN</td>\n",
              "      <td>NaN</td>\n",
              "      <td>NaN</td>\n",
              "      <td>NaN</td>\n",
              "      <td>NaN</td>\n",
              "      <td>NaN</td>\n",
              "      <td>NaN</td>\n",
              "      <td>NaN</td>\n",
              "      <td>NaN</td>\n",
              "      <td>NaN</td>\n",
              "      <td>...</td>\n",
              "      <td>NaN</td>\n",
              "      <td>NaN</td>\n",
              "      <td>NaN</td>\n",
              "      <td>NaN</td>\n",
              "      <td>NaN</td>\n",
              "      <td>NaN</td>\n",
              "      <td>NaN</td>\n",
              "      <td>NaN</td>\n",
              "      <td>NaN</td>\n",
              "      <td>NaN</td>\n",
              "      <td>NaN</td>\n",
              "      <td>NaN</td>\n",
              "      <td>NaN</td>\n",
              "      <td>NaN</td>\n",
              "      <td>NaN</td>\n",
              "      <td>NaN</td>\n",
              "      <td>NaN</td>\n",
              "      <td>NaN</td>\n",
              "      <td>NaN</td>\n",
              "      <td>NaN</td>\n",
              "      <td>NaN</td>\n",
              "      <td>NaN</td>\n",
              "      <td>NaN</td>\n",
              "      <td>NaN</td>\n",
              "      <td>NaN</td>\n",
              "      <td>NaN</td>\n",
              "      <td>NaN</td>\n",
              "      <td>NaN</td>\n",
              "      <td>NaN</td>\n",
              "      <td>NaN</td>\n",
              "      <td>NaN</td>\n",
              "      <td>NaN</td>\n",
              "      <td>NaN</td>\n",
              "      <td>NaN</td>\n",
              "      <td>NaN</td>\n",
              "      <td>NaN</td>\n",
              "      <td>NaN</td>\n",
              "      <td>NaN</td>\n",
              "      <td>NaN</td>\n",
              "      <td>NaN</td>\n",
              "    </tr>\n",
              "    <tr>\n",
              "      <th>571</th>\n",
              "      <td>24/7/2021</td>\n",
              "      <td>67283</td>\n",
              "      <td>13745</td>\n",
              "      <td>NaN</td>\n",
              "      <td>NaN</td>\n",
              "      <td>NaN</td>\n",
              "      <td>NaN</td>\n",
              "      <td>NaN</td>\n",
              "      <td>NaN</td>\n",
              "      <td>NaN</td>\n",
              "      <td>NaN</td>\n",
              "      <td>NaN</td>\n",
              "      <td>NaN</td>\n",
              "      <td>NaN</td>\n",
              "      <td>NaN</td>\n",
              "      <td>NaN</td>\n",
              "      <td>NaN</td>\n",
              "      <td>NaN</td>\n",
              "      <td>NaN</td>\n",
              "      <td>NaN</td>\n",
              "      <td>NaN</td>\n",
              "      <td>NaN</td>\n",
              "      <td>NaN</td>\n",
              "      <td>NaN</td>\n",
              "      <td>NaN</td>\n",
              "      <td>NaN</td>\n",
              "      <td>NaN</td>\n",
              "      <td>NaN</td>\n",
              "      <td>NaN</td>\n",
              "      <td>NaN</td>\n",
              "      <td>NaN</td>\n",
              "      <td>NaN</td>\n",
              "      <td>NaN</td>\n",
              "      <td>NaN</td>\n",
              "      <td>NaN</td>\n",
              "      <td>NaN</td>\n",
              "      <td>NaN</td>\n",
              "      <td>NaN</td>\n",
              "      <td>NaN</td>\n",
              "      <td>NaN</td>\n",
              "      <td>...</td>\n",
              "      <td>NaN</td>\n",
              "      <td>NaN</td>\n",
              "      <td>NaN</td>\n",
              "      <td>NaN</td>\n",
              "      <td>NaN</td>\n",
              "      <td>NaN</td>\n",
              "      <td>NaN</td>\n",
              "      <td>NaN</td>\n",
              "      <td>NaN</td>\n",
              "      <td>NaN</td>\n",
              "      <td>NaN</td>\n",
              "      <td>NaN</td>\n",
              "      <td>NaN</td>\n",
              "      <td>NaN</td>\n",
              "      <td>NaN</td>\n",
              "      <td>NaN</td>\n",
              "      <td>NaN</td>\n",
              "      <td>NaN</td>\n",
              "      <td>NaN</td>\n",
              "      <td>NaN</td>\n",
              "      <td>NaN</td>\n",
              "      <td>NaN</td>\n",
              "      <td>NaN</td>\n",
              "      <td>NaN</td>\n",
              "      <td>NaN</td>\n",
              "      <td>NaN</td>\n",
              "      <td>NaN</td>\n",
              "      <td>NaN</td>\n",
              "      <td>NaN</td>\n",
              "      <td>NaN</td>\n",
              "      <td>NaN</td>\n",
              "      <td>NaN</td>\n",
              "      <td>NaN</td>\n",
              "      <td>NaN</td>\n",
              "      <td>NaN</td>\n",
              "      <td>NaN</td>\n",
              "      <td>NaN</td>\n",
              "      <td>NaN</td>\n",
              "      <td>NaN</td>\n",
              "      <td>NaN</td>\n",
              "    </tr>\n",
              "  </tbody>\n",
              "</table>\n",
              "<p>572 rows × 122 columns</p>\n",
              "</div>"
            ],
            "text/plain": [
              "                    Date  positive  ...  Unnamed: 120  Unnamed: 121\n",
              "0    Cannot specify date      2963  ...           NaN           NaN\n",
              "1               1/1/2020         0  ...            31           NaN\n",
              "2               2/1/2020         0  ...           Pos           Pos\n",
              "3               3/1/2020         0  ...           NaN           NaN\n",
              "4               4/1/2020         0  ...           NaN           NaN\n",
              "..                   ...       ...  ...           ...           ...\n",
              "567            20/7/2021     68403  ...           NaN           NaN\n",
              "568            21/7/2021     82325  ...           NaN           NaN\n",
              "569            22/7/2021     62846  ...           NaN           NaN\n",
              "570            23/7/2021     58851  ...           NaN           NaN\n",
              "571            24/7/2021     67283  ...           NaN           NaN\n",
              "\n",
              "[572 rows x 122 columns]"
            ]
          },
          "metadata": {
            "tags": []
          },
          "execution_count": 6
        }
      ]
    },
    {
      "cell_type": "markdown",
      "metadata": {
        "id": "IoxVpineCc0L"
      },
      "source": [
        "Nan = Not a Number (ช่องว่าง)"
      ]
    },
    {
      "cell_type": "code",
      "metadata": {
        "id": "WGnIzucUB1s5",
        "colab": {
          "base_uri": "https://localhost:8080/",
          "height": 417
        },
        "outputId": "8d70cef8-ca74-4393-8167-1cdf25bc94c9"
      },
      "source": [
        "data.iloc[:,:3] # iloc เอาไว้ตัดข้อมูล โดยข้างหน้าคอมม่าเป็นแถว ข้างหลังคอมม่าเป็นหลัก\n",
        "# ถ้ารันข้อมูลแล้วมันแสดงผลออกมาแปลว่ามันไม่ได้รันเก็บไว้ใน memory แค่รันเพื่อแสดงผลอย่างเดียว ไม่สามารถเรียกใช้ได้"
      ],
      "execution_count": 7,
      "outputs": [
        {
          "output_type": "execute_result",
          "data": {
            "text/html": [
              "<div>\n",
              "<style scoped>\n",
              "    .dataframe tbody tr th:only-of-type {\n",
              "        vertical-align: middle;\n",
              "    }\n",
              "\n",
              "    .dataframe tbody tr th {\n",
              "        vertical-align: top;\n",
              "    }\n",
              "\n",
              "    .dataframe thead th {\n",
              "        text-align: right;\n",
              "    }\n",
              "</style>\n",
              "<table border=\"1\" class=\"dataframe\">\n",
              "  <thead>\n",
              "    <tr style=\"text-align: right;\">\n",
              "      <th></th>\n",
              "      <th>Date</th>\n",
              "      <th>positive</th>\n",
              "      <th>Total Testing</th>\n",
              "    </tr>\n",
              "  </thead>\n",
              "  <tbody>\n",
              "    <tr>\n",
              "      <th>0</th>\n",
              "      <td>Cannot specify date</td>\n",
              "      <td>2963</td>\n",
              "      <td>32131</td>\n",
              "    </tr>\n",
              "    <tr>\n",
              "      <th>1</th>\n",
              "      <td>1/1/2020</td>\n",
              "      <td>0</td>\n",
              "      <td>0</td>\n",
              "    </tr>\n",
              "    <tr>\n",
              "      <th>2</th>\n",
              "      <td>2/1/2020</td>\n",
              "      <td>0</td>\n",
              "      <td>0</td>\n",
              "    </tr>\n",
              "    <tr>\n",
              "      <th>3</th>\n",
              "      <td>3/1/2020</td>\n",
              "      <td>0</td>\n",
              "      <td>0</td>\n",
              "    </tr>\n",
              "    <tr>\n",
              "      <th>4</th>\n",
              "      <td>4/1/2020</td>\n",
              "      <td>0</td>\n",
              "      <td>2</td>\n",
              "    </tr>\n",
              "    <tr>\n",
              "      <th>...</th>\n",
              "      <td>...</td>\n",
              "      <td>...</td>\n",
              "      <td>...</td>\n",
              "    </tr>\n",
              "    <tr>\n",
              "      <th>567</th>\n",
              "      <td>20/7/2021</td>\n",
              "      <td>68403</td>\n",
              "      <td>10152</td>\n",
              "    </tr>\n",
              "    <tr>\n",
              "      <th>568</th>\n",
              "      <td>21/7/2021</td>\n",
              "      <td>82325</td>\n",
              "      <td>12210</td>\n",
              "    </tr>\n",
              "    <tr>\n",
              "      <th>569</th>\n",
              "      <td>22/7/2021</td>\n",
              "      <td>62846</td>\n",
              "      <td>10623</td>\n",
              "    </tr>\n",
              "    <tr>\n",
              "      <th>570</th>\n",
              "      <td>23/7/2021</td>\n",
              "      <td>58851</td>\n",
              "      <td>10200</td>\n",
              "    </tr>\n",
              "    <tr>\n",
              "      <th>571</th>\n",
              "      <td>24/7/2021</td>\n",
              "      <td>67283</td>\n",
              "      <td>13745</td>\n",
              "    </tr>\n",
              "  </tbody>\n",
              "</table>\n",
              "<p>572 rows × 3 columns</p>\n",
              "</div>"
            ],
            "text/plain": [
              "                    Date  positive  Total Testing\n",
              "0    Cannot specify date      2963          32131\n",
              "1               1/1/2020         0              0\n",
              "2               2/1/2020         0              0\n",
              "3               3/1/2020         0              0\n",
              "4               4/1/2020         0              2\n",
              "..                   ...       ...            ...\n",
              "567            20/7/2021     68403          10152\n",
              "568            21/7/2021     82325          12210\n",
              "569            22/7/2021     62846          10623\n",
              "570            23/7/2021     58851          10200\n",
              "571            24/7/2021     67283          13745\n",
              "\n",
              "[572 rows x 3 columns]"
            ]
          },
          "metadata": {
            "tags": []
          },
          "execution_count": 7
        }
      ]
    },
    {
      "cell_type": "code",
      "metadata": {
        "id": "Fl7STH3mDkwj"
      },
      "source": [
        "dataN = data.iloc[:,:3] # เอาตัวแปรมารับ เพื่อเอาข้อมูลไปใช้ต่อ"
      ],
      "execution_count": 8,
      "outputs": []
    },
    {
      "cell_type": "code",
      "metadata": {
        "id": "kruJiEKxEbg2",
        "colab": {
          "base_uri": "https://localhost:8080/",
          "height": 417
        },
        "outputId": "2b5ea2a0-d354-48aa-ec08-1014276bd483"
      },
      "source": [
        "dataN # เรียกดูหน้าตาของข้อมูลว่าเป็นยังไง"
      ],
      "execution_count": 9,
      "outputs": [
        {
          "output_type": "execute_result",
          "data": {
            "text/html": [
              "<div>\n",
              "<style scoped>\n",
              "    .dataframe tbody tr th:only-of-type {\n",
              "        vertical-align: middle;\n",
              "    }\n",
              "\n",
              "    .dataframe tbody tr th {\n",
              "        vertical-align: top;\n",
              "    }\n",
              "\n",
              "    .dataframe thead th {\n",
              "        text-align: right;\n",
              "    }\n",
              "</style>\n",
              "<table border=\"1\" class=\"dataframe\">\n",
              "  <thead>\n",
              "    <tr style=\"text-align: right;\">\n",
              "      <th></th>\n",
              "      <th>Date</th>\n",
              "      <th>positive</th>\n",
              "      <th>Total Testing</th>\n",
              "    </tr>\n",
              "  </thead>\n",
              "  <tbody>\n",
              "    <tr>\n",
              "      <th>0</th>\n",
              "      <td>Cannot specify date</td>\n",
              "      <td>2963</td>\n",
              "      <td>32131</td>\n",
              "    </tr>\n",
              "    <tr>\n",
              "      <th>1</th>\n",
              "      <td>1/1/2020</td>\n",
              "      <td>0</td>\n",
              "      <td>0</td>\n",
              "    </tr>\n",
              "    <tr>\n",
              "      <th>2</th>\n",
              "      <td>2/1/2020</td>\n",
              "      <td>0</td>\n",
              "      <td>0</td>\n",
              "    </tr>\n",
              "    <tr>\n",
              "      <th>3</th>\n",
              "      <td>3/1/2020</td>\n",
              "      <td>0</td>\n",
              "      <td>0</td>\n",
              "    </tr>\n",
              "    <tr>\n",
              "      <th>4</th>\n",
              "      <td>4/1/2020</td>\n",
              "      <td>0</td>\n",
              "      <td>2</td>\n",
              "    </tr>\n",
              "    <tr>\n",
              "      <th>...</th>\n",
              "      <td>...</td>\n",
              "      <td>...</td>\n",
              "      <td>...</td>\n",
              "    </tr>\n",
              "    <tr>\n",
              "      <th>567</th>\n",
              "      <td>20/7/2021</td>\n",
              "      <td>68403</td>\n",
              "      <td>10152</td>\n",
              "    </tr>\n",
              "    <tr>\n",
              "      <th>568</th>\n",
              "      <td>21/7/2021</td>\n",
              "      <td>82325</td>\n",
              "      <td>12210</td>\n",
              "    </tr>\n",
              "    <tr>\n",
              "      <th>569</th>\n",
              "      <td>22/7/2021</td>\n",
              "      <td>62846</td>\n",
              "      <td>10623</td>\n",
              "    </tr>\n",
              "    <tr>\n",
              "      <th>570</th>\n",
              "      <td>23/7/2021</td>\n",
              "      <td>58851</td>\n",
              "      <td>10200</td>\n",
              "    </tr>\n",
              "    <tr>\n",
              "      <th>571</th>\n",
              "      <td>24/7/2021</td>\n",
              "      <td>67283</td>\n",
              "      <td>13745</td>\n",
              "    </tr>\n",
              "  </tbody>\n",
              "</table>\n",
              "<p>572 rows × 3 columns</p>\n",
              "</div>"
            ],
            "text/plain": [
              "                    Date  positive  Total Testing\n",
              "0    Cannot specify date      2963          32131\n",
              "1               1/1/2020         0              0\n",
              "2               2/1/2020         0              0\n",
              "3               3/1/2020         0              0\n",
              "4               4/1/2020         0              2\n",
              "..                   ...       ...            ...\n",
              "567            20/7/2021     68403          10152\n",
              "568            21/7/2021     82325          12210\n",
              "569            22/7/2021     62846          10623\n",
              "570            23/7/2021     58851          10200\n",
              "571            24/7/2021     67283          13745\n",
              "\n",
              "[572 rows x 3 columns]"
            ]
          },
          "metadata": {
            "tags": []
          },
          "execution_count": 9
        }
      ]
    },
    {
      "cell_type": "markdown",
      "metadata": {
        "id": "9CkpM0JvEiiw"
      },
      "source": [
        "### .head() .tail()"
      ]
    },
    {
      "cell_type": "code",
      "metadata": {
        "id": "dSr6XlIyEgnU",
        "colab": {
          "base_uri": "https://localhost:8080/",
          "height": 203
        },
        "outputId": "12bd8785-9479-47b4-db1f-c1749e2162af"
      },
      "source": [
        "dataN.head() # เอาไว้ดูตรงหัวตาราง"
      ],
      "execution_count": 10,
      "outputs": [
        {
          "output_type": "execute_result",
          "data": {
            "text/html": [
              "<div>\n",
              "<style scoped>\n",
              "    .dataframe tbody tr th:only-of-type {\n",
              "        vertical-align: middle;\n",
              "    }\n",
              "\n",
              "    .dataframe tbody tr th {\n",
              "        vertical-align: top;\n",
              "    }\n",
              "\n",
              "    .dataframe thead th {\n",
              "        text-align: right;\n",
              "    }\n",
              "</style>\n",
              "<table border=\"1\" class=\"dataframe\">\n",
              "  <thead>\n",
              "    <tr style=\"text-align: right;\">\n",
              "      <th></th>\n",
              "      <th>Date</th>\n",
              "      <th>positive</th>\n",
              "      <th>Total Testing</th>\n",
              "    </tr>\n",
              "  </thead>\n",
              "  <tbody>\n",
              "    <tr>\n",
              "      <th>0</th>\n",
              "      <td>Cannot specify date</td>\n",
              "      <td>2963</td>\n",
              "      <td>32131</td>\n",
              "    </tr>\n",
              "    <tr>\n",
              "      <th>1</th>\n",
              "      <td>1/1/2020</td>\n",
              "      <td>0</td>\n",
              "      <td>0</td>\n",
              "    </tr>\n",
              "    <tr>\n",
              "      <th>2</th>\n",
              "      <td>2/1/2020</td>\n",
              "      <td>0</td>\n",
              "      <td>0</td>\n",
              "    </tr>\n",
              "    <tr>\n",
              "      <th>3</th>\n",
              "      <td>3/1/2020</td>\n",
              "      <td>0</td>\n",
              "      <td>0</td>\n",
              "    </tr>\n",
              "    <tr>\n",
              "      <th>4</th>\n",
              "      <td>4/1/2020</td>\n",
              "      <td>0</td>\n",
              "      <td>2</td>\n",
              "    </tr>\n",
              "  </tbody>\n",
              "</table>\n",
              "</div>"
            ],
            "text/plain": [
              "                  Date  positive  Total Testing\n",
              "0  Cannot specify date      2963          32131\n",
              "1             1/1/2020         0              0\n",
              "2             2/1/2020         0              0\n",
              "3             3/1/2020         0              0\n",
              "4             4/1/2020         0              2"
            ]
          },
          "metadata": {
            "tags": []
          },
          "execution_count": 10
        }
      ]
    },
    {
      "cell_type": "code",
      "metadata": {
        "id": "q9g4oYhME2WS",
        "colab": {
          "base_uri": "https://localhost:8080/",
          "height": 450
        },
        "outputId": "ff6c926f-1731-4fb6-d94e-d6c0a7f2ec8d"
      },
      "source": [
        "dataN.head(13) # เอาไว้ดูตรงหัวตาราง สามารถระบุจำนวน record ได้โดยใส่เลขลงไปใน ()"
      ],
      "execution_count": 11,
      "outputs": [
        {
          "output_type": "execute_result",
          "data": {
            "text/html": [
              "<div>\n",
              "<style scoped>\n",
              "    .dataframe tbody tr th:only-of-type {\n",
              "        vertical-align: middle;\n",
              "    }\n",
              "\n",
              "    .dataframe tbody tr th {\n",
              "        vertical-align: top;\n",
              "    }\n",
              "\n",
              "    .dataframe thead th {\n",
              "        text-align: right;\n",
              "    }\n",
              "</style>\n",
              "<table border=\"1\" class=\"dataframe\">\n",
              "  <thead>\n",
              "    <tr style=\"text-align: right;\">\n",
              "      <th></th>\n",
              "      <th>Date</th>\n",
              "      <th>positive</th>\n",
              "      <th>Total Testing</th>\n",
              "    </tr>\n",
              "  </thead>\n",
              "  <tbody>\n",
              "    <tr>\n",
              "      <th>0</th>\n",
              "      <td>Cannot specify date</td>\n",
              "      <td>2963</td>\n",
              "      <td>32131</td>\n",
              "    </tr>\n",
              "    <tr>\n",
              "      <th>1</th>\n",
              "      <td>1/1/2020</td>\n",
              "      <td>0</td>\n",
              "      <td>0</td>\n",
              "    </tr>\n",
              "    <tr>\n",
              "      <th>2</th>\n",
              "      <td>2/1/2020</td>\n",
              "      <td>0</td>\n",
              "      <td>0</td>\n",
              "    </tr>\n",
              "    <tr>\n",
              "      <th>3</th>\n",
              "      <td>3/1/2020</td>\n",
              "      <td>0</td>\n",
              "      <td>0</td>\n",
              "    </tr>\n",
              "    <tr>\n",
              "      <th>4</th>\n",
              "      <td>4/1/2020</td>\n",
              "      <td>0</td>\n",
              "      <td>2</td>\n",
              "    </tr>\n",
              "    <tr>\n",
              "      <th>5</th>\n",
              "      <td>5/1/2020</td>\n",
              "      <td>0</td>\n",
              "      <td>2</td>\n",
              "    </tr>\n",
              "    <tr>\n",
              "      <th>6</th>\n",
              "      <td>6/1/2020</td>\n",
              "      <td>0</td>\n",
              "      <td>5</td>\n",
              "    </tr>\n",
              "    <tr>\n",
              "      <th>7</th>\n",
              "      <td>7/1/2020</td>\n",
              "      <td>0</td>\n",
              "      <td>0</td>\n",
              "    </tr>\n",
              "    <tr>\n",
              "      <th>8</th>\n",
              "      <td>8/1/2020</td>\n",
              "      <td>1</td>\n",
              "      <td>1</td>\n",
              "    </tr>\n",
              "    <tr>\n",
              "      <th>9</th>\n",
              "      <td>9/1/2020</td>\n",
              "      <td>4</td>\n",
              "      <td>13</td>\n",
              "    </tr>\n",
              "    <tr>\n",
              "      <th>10</th>\n",
              "      <td>10/1/2020</td>\n",
              "      <td>0</td>\n",
              "      <td>18</td>\n",
              "    </tr>\n",
              "    <tr>\n",
              "      <th>11</th>\n",
              "      <td>11/1/2020</td>\n",
              "      <td>0</td>\n",
              "      <td>3</td>\n",
              "    </tr>\n",
              "    <tr>\n",
              "      <th>12</th>\n",
              "      <td>12/1/2020</td>\n",
              "      <td>2</td>\n",
              "      <td>6</td>\n",
              "    </tr>\n",
              "  </tbody>\n",
              "</table>\n",
              "</div>"
            ],
            "text/plain": [
              "                   Date  positive  Total Testing\n",
              "0   Cannot specify date      2963          32131\n",
              "1              1/1/2020         0              0\n",
              "2              2/1/2020         0              0\n",
              "3              3/1/2020         0              0\n",
              "4              4/1/2020         0              2\n",
              "5              5/1/2020         0              2\n",
              "6              6/1/2020         0              5\n",
              "7              7/1/2020         0              0\n",
              "8              8/1/2020         1              1\n",
              "9              9/1/2020         4             13\n",
              "10            10/1/2020         0             18\n",
              "11            11/1/2020         0              3\n",
              "12            12/1/2020         2              6"
            ]
          },
          "metadata": {
            "tags": []
          },
          "execution_count": 11
        }
      ]
    },
    {
      "cell_type": "code",
      "metadata": {
        "id": "bEQE24gzEvHn",
        "colab": {
          "base_uri": "https://localhost:8080/",
          "height": 203
        },
        "outputId": "05df1886-efe1-4922-8848-63e80ce11107"
      },
      "source": [
        "dataN.tail() # เอาไว้ดูตรงท้ายตาราง"
      ],
      "execution_count": 12,
      "outputs": [
        {
          "output_type": "execute_result",
          "data": {
            "text/html": [
              "<div>\n",
              "<style scoped>\n",
              "    .dataframe tbody tr th:only-of-type {\n",
              "        vertical-align: middle;\n",
              "    }\n",
              "\n",
              "    .dataframe tbody tr th {\n",
              "        vertical-align: top;\n",
              "    }\n",
              "\n",
              "    .dataframe thead th {\n",
              "        text-align: right;\n",
              "    }\n",
              "</style>\n",
              "<table border=\"1\" class=\"dataframe\">\n",
              "  <thead>\n",
              "    <tr style=\"text-align: right;\">\n",
              "      <th></th>\n",
              "      <th>Date</th>\n",
              "      <th>positive</th>\n",
              "      <th>Total Testing</th>\n",
              "    </tr>\n",
              "  </thead>\n",
              "  <tbody>\n",
              "    <tr>\n",
              "      <th>567</th>\n",
              "      <td>20/7/2021</td>\n",
              "      <td>68403</td>\n",
              "      <td>10152</td>\n",
              "    </tr>\n",
              "    <tr>\n",
              "      <th>568</th>\n",
              "      <td>21/7/2021</td>\n",
              "      <td>82325</td>\n",
              "      <td>12210</td>\n",
              "    </tr>\n",
              "    <tr>\n",
              "      <th>569</th>\n",
              "      <td>22/7/2021</td>\n",
              "      <td>62846</td>\n",
              "      <td>10623</td>\n",
              "    </tr>\n",
              "    <tr>\n",
              "      <th>570</th>\n",
              "      <td>23/7/2021</td>\n",
              "      <td>58851</td>\n",
              "      <td>10200</td>\n",
              "    </tr>\n",
              "    <tr>\n",
              "      <th>571</th>\n",
              "      <td>24/7/2021</td>\n",
              "      <td>67283</td>\n",
              "      <td>13745</td>\n",
              "    </tr>\n",
              "  </tbody>\n",
              "</table>\n",
              "</div>"
            ],
            "text/plain": [
              "          Date  positive  Total Testing\n",
              "567  20/7/2021     68403          10152\n",
              "568  21/7/2021     82325          12210\n",
              "569  22/7/2021     62846          10623\n",
              "570  23/7/2021     58851          10200\n",
              "571  24/7/2021     67283          13745"
            ]
          },
          "metadata": {
            "tags": []
          },
          "execution_count": 12
        }
      ]
    },
    {
      "cell_type": "code",
      "metadata": {
        "id": "ipOzm-CuFLIh",
        "colab": {
          "base_uri": "https://localhost:8080/",
          "height": 450
        },
        "outputId": "0a908f55-c687-48cc-c26d-aa8e90be16ff"
      },
      "source": [
        "dataN.tail(13) # เอาไว้ดูตรงท้ายตาราง สามารถระบุจำนวน record ได้โดยใส่เลขลงไปใน ()"
      ],
      "execution_count": 13,
      "outputs": [
        {
          "output_type": "execute_result",
          "data": {
            "text/html": [
              "<div>\n",
              "<style scoped>\n",
              "    .dataframe tbody tr th:only-of-type {\n",
              "        vertical-align: middle;\n",
              "    }\n",
              "\n",
              "    .dataframe tbody tr th {\n",
              "        vertical-align: top;\n",
              "    }\n",
              "\n",
              "    .dataframe thead th {\n",
              "        text-align: right;\n",
              "    }\n",
              "</style>\n",
              "<table border=\"1\" class=\"dataframe\">\n",
              "  <thead>\n",
              "    <tr style=\"text-align: right;\">\n",
              "      <th></th>\n",
              "      <th>Date</th>\n",
              "      <th>positive</th>\n",
              "      <th>Total Testing</th>\n",
              "    </tr>\n",
              "  </thead>\n",
              "  <tbody>\n",
              "    <tr>\n",
              "      <th>559</th>\n",
              "      <td>12/7/2021</td>\n",
              "      <td>6391</td>\n",
              "      <td>56775</td>\n",
              "    </tr>\n",
              "    <tr>\n",
              "      <th>560</th>\n",
              "      <td>13/7/2021</td>\n",
              "      <td>7549</td>\n",
              "      <td>70798</td>\n",
              "    </tr>\n",
              "    <tr>\n",
              "      <th>561</th>\n",
              "      <td>14/7/2021</td>\n",
              "      <td>7877</td>\n",
              "      <td>65836</td>\n",
              "    </tr>\n",
              "    <tr>\n",
              "      <th>562</th>\n",
              "      <td>15/7/2021</td>\n",
              "      <td>8648</td>\n",
              "      <td>70403</td>\n",
              "    </tr>\n",
              "    <tr>\n",
              "      <th>563</th>\n",
              "      <td>16/7/2021</td>\n",
              "      <td>9627</td>\n",
              "      <td>73260</td>\n",
              "    </tr>\n",
              "    <tr>\n",
              "      <th>564</th>\n",
              "      <td>17/7/2021</td>\n",
              "      <td>9221</td>\n",
              "      <td>68384</td>\n",
              "    </tr>\n",
              "    <tr>\n",
              "      <th>565</th>\n",
              "      <td>18/7/2021</td>\n",
              "      <td>68326</td>\n",
              "      <td>12192</td>\n",
              "    </tr>\n",
              "    <tr>\n",
              "      <th>566</th>\n",
              "      <td>19/7/2021</td>\n",
              "      <td>64522</td>\n",
              "      <td>9466</td>\n",
              "    </tr>\n",
              "    <tr>\n",
              "      <th>567</th>\n",
              "      <td>20/7/2021</td>\n",
              "      <td>68403</td>\n",
              "      <td>10152</td>\n",
              "    </tr>\n",
              "    <tr>\n",
              "      <th>568</th>\n",
              "      <td>21/7/2021</td>\n",
              "      <td>82325</td>\n",
              "      <td>12210</td>\n",
              "    </tr>\n",
              "    <tr>\n",
              "      <th>569</th>\n",
              "      <td>22/7/2021</td>\n",
              "      <td>62846</td>\n",
              "      <td>10623</td>\n",
              "    </tr>\n",
              "    <tr>\n",
              "      <th>570</th>\n",
              "      <td>23/7/2021</td>\n",
              "      <td>58851</td>\n",
              "      <td>10200</td>\n",
              "    </tr>\n",
              "    <tr>\n",
              "      <th>571</th>\n",
              "      <td>24/7/2021</td>\n",
              "      <td>67283</td>\n",
              "      <td>13745</td>\n",
              "    </tr>\n",
              "  </tbody>\n",
              "</table>\n",
              "</div>"
            ],
            "text/plain": [
              "          Date  positive  Total Testing\n",
              "559  12/7/2021      6391          56775\n",
              "560  13/7/2021      7549          70798\n",
              "561  14/7/2021      7877          65836\n",
              "562  15/7/2021      8648          70403\n",
              "563  16/7/2021      9627          73260\n",
              "564  17/7/2021      9221          68384\n",
              "565  18/7/2021     68326          12192\n",
              "566  19/7/2021     64522           9466\n",
              "567  20/7/2021     68403          10152\n",
              "568  21/7/2021     82325          12210\n",
              "569  22/7/2021     62846          10623\n",
              "570  23/7/2021     58851          10200\n",
              "571  24/7/2021     67283          13745"
            ]
          },
          "metadata": {
            "tags": []
          },
          "execution_count": 13
        }
      ]
    },
    {
      "cell_type": "code",
      "metadata": {
        "id": "rk-DoQRcGzDG",
        "colab": {
          "base_uri": "https://localhost:8080/",
          "height": 295
        },
        "outputId": "9f4ac2ec-8eac-4c5d-e634-be2ff316e660"
      },
      "source": [
        "dataN.describe() # describe เอาไว้ดูค่าสถิติต่าง ๆ เช่น จำนวนข้อมูลทั้งหมด, ค่าเฉลี่ย, มัธยฐาน, ค่าต่ำสุด, ค่าสูงสุด"
      ],
      "execution_count": 14,
      "outputs": [
        {
          "output_type": "execute_result",
          "data": {
            "text/html": [
              "<div>\n",
              "<style scoped>\n",
              "    .dataframe tbody tr th:only-of-type {\n",
              "        vertical-align: middle;\n",
              "    }\n",
              "\n",
              "    .dataframe tbody tr th {\n",
              "        vertical-align: top;\n",
              "    }\n",
              "\n",
              "    .dataframe thead th {\n",
              "        text-align: right;\n",
              "    }\n",
              "</style>\n",
              "<table border=\"1\" class=\"dataframe\">\n",
              "  <thead>\n",
              "    <tr style=\"text-align: right;\">\n",
              "      <th></th>\n",
              "      <th>positive</th>\n",
              "      <th>Total Testing</th>\n",
              "    </tr>\n",
              "  </thead>\n",
              "  <tbody>\n",
              "    <tr>\n",
              "      <th>count</th>\n",
              "      <td>572.000000</td>\n",
              "      <td>572.000000</td>\n",
              "    </tr>\n",
              "    <tr>\n",
              "      <th>mean</th>\n",
              "      <td>1521.506993</td>\n",
              "      <td>17116.451049</td>\n",
              "    </tr>\n",
              "    <tr>\n",
              "      <th>std</th>\n",
              "      <td>7562.214501</td>\n",
              "      <td>22202.577993</td>\n",
              "    </tr>\n",
              "    <tr>\n",
              "      <th>min</th>\n",
              "      <td>0.000000</td>\n",
              "      <td>0.000000</td>\n",
              "    </tr>\n",
              "    <tr>\n",
              "      <th>25%</th>\n",
              "      <td>6.000000</td>\n",
              "      <td>3599.500000</td>\n",
              "    </tr>\n",
              "    <tr>\n",
              "      <th>50%</th>\n",
              "      <td>29.000000</td>\n",
              "      <td>5778.500000</td>\n",
              "    </tr>\n",
              "    <tr>\n",
              "      <th>75%</th>\n",
              "      <td>235.250000</td>\n",
              "      <td>19707.000000</td>\n",
              "    </tr>\n",
              "    <tr>\n",
              "      <th>max</th>\n",
              "      <td>82325.000000</td>\n",
              "      <td>82290.000000</td>\n",
              "    </tr>\n",
              "  </tbody>\n",
              "</table>\n",
              "</div>"
            ],
            "text/plain": [
              "           positive  Total Testing\n",
              "count    572.000000     572.000000\n",
              "mean    1521.506993   17116.451049\n",
              "std     7562.214501   22202.577993\n",
              "min        0.000000       0.000000\n",
              "25%        6.000000    3599.500000\n",
              "50%       29.000000    5778.500000\n",
              "75%      235.250000   19707.000000\n",
              "max    82325.000000   82290.000000"
            ]
          },
          "metadata": {
            "tags": []
          },
          "execution_count": 14
        }
      ]
    },
    {
      "cell_type": "markdown",
      "metadata": {
        "id": "FeyvwZpALbB0"
      },
      "source": [
        "### Boxplot\n",
        "![image.png](data:image/png;base64,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)"
      ]
    },
    {
      "cell_type": "code",
      "metadata": {
        "id": "hSzn60t3G5Mn"
      },
      "source": [
        "from matplotlib import pyplot as  plt  # package นี้ใช้สำหรับวาดรูปหรือ plot กราฟ"
      ],
      "execution_count": 15,
      "outputs": []
    },
    {
      "cell_type": "markdown",
      "metadata": {
        "id": "TWuWTvBcPbRg"
      },
      "source": [
        "![image.png](data:image/png;base64,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)"
      ]
    },
    {
      "cell_type": "code",
      "metadata": {
        "id": "CwVLqM5KQw5Q",
        "colab": {
          "base_uri": "https://localhost:8080/"
        },
        "outputId": "c09fa348-0bc5-4c41-c2cd-0e94c3fd5323"
      },
      "source": [
        "dataN['positive'] # จะดึงข้อมูลที่อยู่ในคอลัมน์ของ positive ออกมา"
      ],
      "execution_count": 16,
      "outputs": [
        {
          "output_type": "execute_result",
          "data": {
            "text/plain": [
              "0       2963\n",
              "1          0\n",
              "2          0\n",
              "3          0\n",
              "4          0\n",
              "       ...  \n",
              "567    68403\n",
              "568    82325\n",
              "569    62846\n",
              "570    58851\n",
              "571    67283\n",
              "Name: positive, Length: 572, dtype: int64"
            ]
          },
          "metadata": {
            "tags": []
          },
          "execution_count": 16
        }
      ]
    },
    {
      "cell_type": "code",
      "metadata": {
        "id": "7FLS6xZIQ7aP",
        "colab": {
          "base_uri": "https://localhost:8080/"
        },
        "outputId": "e878fbdd-4726-468a-ec67-2584352821eb"
      },
      "source": [
        "dataN['positive'][1:] # ตัดข้อมูลตัวแรกออกเพราะดูแล้วไม่น่าจะใช่ อาจจะเก็บรวบรวมมาหลายวัน"
      ],
      "execution_count": 17,
      "outputs": [
        {
          "output_type": "execute_result",
          "data": {
            "text/plain": [
              "1          0\n",
              "2          0\n",
              "3          0\n",
              "4          0\n",
              "5          0\n",
              "       ...  \n",
              "567    68403\n",
              "568    82325\n",
              "569    62846\n",
              "570    58851\n",
              "571    67283\n",
              "Name: positive, Length: 571, dtype: int64"
            ]
          },
          "metadata": {
            "tags": []
          },
          "execution_count": 17
        }
      ]
    },
    {
      "cell_type": "code",
      "metadata": {
        "id": "0o9u1lQfORxh",
        "colab": {
          "base_uri": "https://localhost:8080/",
          "height": 399
        },
        "outputId": "af5a3736-8a7a-4f9f-c3d1-d41f1ecc6924"
      },
      "source": [
        "plt.boxplot(dataN['positive'][1:]) # plot กราฟของ positive"
      ],
      "execution_count": 18,
      "outputs": [
        {
          "output_type": "execute_result",
          "data": {
            "text/plain": [
              "{'boxes': [<matplotlib.lines.Line2D at 0x7fcac0531510>],\n",
              " 'caps': [<matplotlib.lines.Line2D at 0x7fcac053c590>,\n",
              "  <matplotlib.lines.Line2D at 0x7fcac053cad0>],\n",
              " 'fliers': [<matplotlib.lines.Line2D at 0x7fcac0522ad0>],\n",
              " 'means': [],\n",
              " 'medians': [<matplotlib.lines.Line2D at 0x7fcac04c3090>],\n",
              " 'whiskers': [<matplotlib.lines.Line2D at 0x7fcac0531ad0>,\n",
              "  <matplotlib.lines.Line2D at 0x7fcac053c050>]}"
            ]
          },
          "metadata": {
            "tags": []
          },
          "execution_count": 18
        },
        {
          "output_type": "display_data",
          "data": {
            "image/png": "[encoded data removed]",
            "text/plain": [
              "<Figure size 432x288 with 1 Axes>"
            ]
          },
          "metadata": {
            "tags": [],
            "needs_background": "light"
          }
        }
      ]
    },
    {
      "cell_type": "code",
      "metadata": {
        "id": "IPfOPRf5RRzp",
        "colab": {
          "base_uri": "https://localhost:8080/",
          "height": 399
        },
        "outputId": "9f151a43-da5a-407c-a324-0819a527d4b7"
      },
      "source": [
        "plt.boxplot(dataN['Total Testing'][1:]) # plot กราฟของ Total Testing"
      ],
      "execution_count": 19,
      "outputs": [
        {
          "output_type": "execute_result",
          "data": {
            "text/plain": [
              "{'boxes': [<matplotlib.lines.Line2D at 0x7fcac0551cd0>],\n",
              " 'caps': [<matplotlib.lines.Line2D at 0x7fcac04a6710>,\n",
              "  <matplotlib.lines.Line2D at 0x7fcac04a6c50>],\n",
              " 'fliers': [<matplotlib.lines.Line2D at 0x7fcac0003750>],\n",
              " 'means': [],\n",
              " 'medians': [<matplotlib.lines.Line2D at 0x7fcac0003210>],\n",
              " 'whiskers': [<matplotlib.lines.Line2D at 0x7fcac0c0c410>,\n",
              "  <matplotlib.lines.Line2D at 0x7fcac04a6210>]}"
            ]
          },
          "metadata": {
            "tags": []
          },
          "execution_count": 19
        },
        {
          "output_type": "display_data",
          "data": {
            "image/png": "[encoded data removed]",
            "text/plain": [
              "<Figure size 432x288 with 1 Axes>"
            ]
          },
          "metadata": {
            "tags": [],
            "needs_background": "light"
          }
        }
      ]
    },
    {
      "cell_type": "code",
      "metadata": {
        "id": "dDzCv0wNRYaB",
        "colab": {
          "base_uri": "https://localhost:8080/",
          "height": 399
        },
        "outputId": "ae99e41a-7e09-4912-9abe-b5ae6caffb01"
      },
      "source": [
        "plt.boxplot(dataN['positive'][-54:])"
      ],
      "execution_count": 20,
      "outputs": [
        {
          "output_type": "execute_result",
          "data": {
            "text/plain": [
              "{'boxes': [<matplotlib.lines.Line2D at 0x7fcabffdfc50>],\n",
              " 'caps': [<matplotlib.lines.Line2D at 0x7fcabffe7c90>,\n",
              "  <matplotlib.lines.Line2D at 0x7fcabffef210>],\n",
              " 'fliers': [<matplotlib.lines.Line2D at 0x7fcabffefcd0>],\n",
              " 'means': [],\n",
              " 'medians': [<matplotlib.lines.Line2D at 0x7fcabffef790>],\n",
              " 'whiskers': [<matplotlib.lines.Line2D at 0x7fcabffe7210>,\n",
              "  <matplotlib.lines.Line2D at 0x7fcabffe7750>]}"
            ]
          },
          "metadata": {
            "tags": []
          },
          "execution_count": 20
        },
        {
          "output_type": "display_data",
          "data": {
            "image/png": "[encoded data removed]",
            "text/plain": [
              "<Figure size 432x288 with 1 Axes>"
            ]
          },
          "metadata": {
            "tags": [],
            "needs_background": "light"
          }
        }
      ]
    },
    {
      "cell_type": "code",
      "metadata": {
        "id": "xGBhE-blSQt_",
        "colab": {
          "base_uri": "https://localhost:8080/",
          "height": 399
        },
        "outputId": "398ddaf3-242f-4c6c-d5c8-68c00bdadd99"
      },
      "source": [
        "plt.boxplot(dataN['Total Testing'][-54:])"
      ],
      "execution_count": 21,
      "outputs": [
        {
          "output_type": "execute_result",
          "data": {
            "text/plain": [
              "{'boxes': [<matplotlib.lines.Line2D at 0x7fcabff610d0>],\n",
              " 'caps': [<matplotlib.lines.Line2D at 0x7fcabff6a150>,\n",
              "  <matplotlib.lines.Line2D at 0x7fcabff6a690>],\n",
              " 'fliers': [<matplotlib.lines.Line2D at 0x7fcabff72190>],\n",
              " 'means': [],\n",
              " 'medians': [<matplotlib.lines.Line2D at 0x7fcabff6ac10>],\n",
              " 'whiskers': [<matplotlib.lines.Line2D at 0x7fcabff61690>,\n",
              "  <matplotlib.lines.Line2D at 0x7fcabff61bd0>]}"
            ]
          },
          "metadata": {
            "tags": []
          },
          "execution_count": 21
        },
        {
          "output_type": "display_data",
          "data": {
            "image/png": "[encoded data removed]",
            "text/plain": [
              "<Figure size 432x288 with 1 Axes>"
            ]
          },
          "metadata": {
            "tags": [],
            "needs_background": "light"
          }
        }
      ]
    },
    {
      "cell_type": "markdown",
      "metadata": {
        "id": "HBgVgF7XTak-"
      },
      "source": [
        "### Time Series Plot"
      ]
    },
    {
      "cell_type": "code",
      "metadata": {
        "id": "wF1UotKuSkix",
        "colab": {
          "base_uri": "https://localhost:8080/"
        },
        "outputId": "478c8cb5-a82d-4b81-a39e-11aedf9f2c36"
      },
      "source": [
        "len(dataN['positive'][1:])"
      ],
      "execution_count": 22,
      "outputs": [
        {
          "output_type": "execute_result",
          "data": {
            "text/plain": [
              "571"
            ]
          },
          "metadata": {
            "tags": []
          },
          "execution_count": 22
        }
      ]
    },
    {
      "cell_type": "code",
      "metadata": {
        "id": "8tw6-EOuUFiS",
        "colab": {
          "base_uri": "https://localhost:8080/",
          "height": 282
        },
        "outputId": "7609ab5c-b153-4cfd-aa73-9336cf25941c"
      },
      "source": [
        "plt.plot(range(len(dataN['positive'][1:-7])),dataN['positive'][1:-7]) # ที่เป็น -7 เพราะว่า 7 record สุดท้ายค่ามันผิดปกติ น่าจะกรอกสลับกัน"
      ],
      "execution_count": 23,
      "outputs": [
        {
          "output_type": "execute_result",
          "data": {
            "text/plain": [
              "[<matplotlib.lines.Line2D at 0x7fcabfed8690>]"
            ]
          },
          "metadata": {
            "tags": []
          },
          "execution_count": 23
        },
        {
          "output_type": "display_data",
          "data": {
            "image/png": "[encoded data removed]",
            "text/plain": [
              "<Figure size 432x288 with 1 Axes>"
            ]
          },
          "metadata": {
            "tags": [],
            "needs_background": "light"
          }
        }
      ]
    },
    {
      "cell_type": "code",
      "metadata": {
        "id": "Yxj298BeVPBx",
        "colab": {
          "base_uri": "https://localhost:8080/",
          "height": 282
        },
        "outputId": "fb3165b6-2601-44df-fe04-94c42d36308a"
      },
      "source": [
        "plt.plot(range(len(dataN['Total Testing'][1:-7])),dataN['Total Testing'][1:-7])"
      ],
      "execution_count": 24,
      "outputs": [
        {
          "output_type": "execute_result",
          "data": {
            "text/plain": [
              "[<matplotlib.lines.Line2D at 0x7fcabfe3fe90>]"
            ]
          },
          "metadata": {
            "tags": []
          },
          "execution_count": 24
        },
        {
          "output_type": "display_data",
          "data": {
            "image/png": "[encoded data removed]",
            "text/plain": [
              "<Figure size 432x288 with 1 Axes>"
            ]
          },
          "metadata": {
            "tags": [],
            "needs_background": "light"
          }
        }
      ]
    },
    {
      "cell_type": "code",
      "metadata": {
        "id": "Se1BFgDtWCjk",
        "colab": {
          "base_uri": "https://localhost:8080/",
          "height": 282
        },
        "outputId": "7e7679fb-baa5-4e1d-a44f-8f01b1f840c5"
      },
      "source": [
        "plt.plot(range(len(dataN['positive'][1:-7])),dataN['positive'][1:-7],'r--') # plot ทั้งสองกราฟเปรียบเทียบกัน\n",
        "plt.plot(range(len(dataN['Total Testing'][1:-7])),dataN['Total Testing'][1:-7],'b--')"
      ],
      "execution_count": 26,
      "outputs": [
        {
          "output_type": "execute_result",
          "data": {
            "text/plain": [
              "[<matplotlib.lines.Line2D at 0x7fcabfda54d0>]"
            ]
          },
          "metadata": {
            "tags": []
          },
          "execution_count": 26
        },
        {
          "output_type": "display_data",
          "data": {
            "image/png": "[encoded data removed]",
            "text/plain": [
              "<Figure size 432x288 with 1 Axes>"
            ]
          },
          "metadata": {
            "tags": [],
            "needs_background": "light"
          }
        }
      ]
    },
    {
      "cell_type": "code",
      "metadata": {
        "id": "28kk3u6yWFiH",
        "colab": {
          "base_uri": "https://localhost:8080/",
          "height": 282
        },
        "outputId": "e7710147-8cba-4c44-87e6-d1d3b792bfd9"
      },
      "source": [
        "plt.plot(range(len(dataN['positive'][1:])),dataN['positive'][1:],'r--') # ลอง plot แบบไม่ต้องตัด 7 record สุดท้ายออก\n",
        "plt.plot(range(len(dataN['Total Testing'][1:])),dataN['Total Testing'][1:],'b--')"
      ],
      "execution_count": 27,
      "outputs": [
        {
          "output_type": "execute_result",
          "data": {
            "text/plain": [
              "[<matplotlib.lines.Line2D at 0x7fcabfd09b10>]"
            ]
          },
          "metadata": {
            "tags": []
          },
          "execution_count": 27
        },
        {
          "output_type": "display_data",
          "data": {
            "image/png": "[encoded data removed]",
            "text/plain": [
              "<Figure size 432x288 with 1 Axes>"
            ]
          },
          "metadata": {
            "tags": [],
            "needs_background": "light"
          }
        }
      ]
    },
    {
      "cell_type": "code",
      "metadata": {
        "id": "GxT3YqECWxco",
        "colab": {
          "base_uri": "https://localhost:8080/",
          "height": 282
        },
        "outputId": "c632078c-876a-4a1d-b8a3-b479bfaf8225"
      },
      "source": [
        "plt.plot(range(len(dataN['positive'][450:])),dataN['positive'][450:],'r--') # ลอง plot แบบไม่ต้องตัด 7 record สุดท้ายออก\n",
        "plt.plot(range(len(dataN['Total Testing'][450:])),dataN['Total Testing'][450:],'b--')"
      ],
      "execution_count": 28,
      "outputs": [
        {
          "output_type": "execute_result",
          "data": {
            "text/plain": [
              "[<matplotlib.lines.Line2D at 0x7fcabfc7b3d0>]"
            ]
          },
          "metadata": {
            "tags": []
          },
          "execution_count": 28
        },
        {
          "output_type": "display_data",
          "data": {
            "image/png": "[encoded data removed]",
            "text/plain": [
              "<Figure size 432x288 with 1 Axes>"
            ]
          },
          "metadata": {
            "tags": [],
            "needs_background": "light"
          }
        }
      ]
    },
    {
      "cell_type": "code",
      "metadata": {
        "id": "1bU478OmWhTS"
      },
      "source": [
        "# จะเห็นว่าจากกราฟมันสลับที่กันอย่างชัดเจน แสดงว่าข้อมูลผิดพลาด อาจจะกรอกข้อมูลสลับกัน"
      ],
      "execution_count": 29,
      "outputs": []
    }
  ]
}