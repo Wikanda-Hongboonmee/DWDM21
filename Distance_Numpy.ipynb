{
  "nbformat": 4,
  "nbformat_minor": 0,
  "metadata": {
    "colab": {
      "name": "Distance Numpy.ipynb",
      "provenance": [],
      "authorship_tag": "ABX9TyMsWWjFPzMHtcLwVDlxk7ZO",
      "include_colab_link": true
    },
    "kernelspec": {
      "name": "python3",
      "display_name": "Python 3"
    },
    "language_info": {
      "name": "python"
    }
  },
  "cells": [
    {
      "cell_type": "markdown",
      "metadata": {
        "id": "view-in-github",
        "colab_type": "text"
      },
      "source": [
        "<a href=\"https://colab.research.google.com/github/Wikanda-Hongboonmee/DWDM21/blob/main/Distance_Numpy.ipynb\" target=\"_parent\"><img src=\"https://colab.research.google.com/assets/colab-badge.svg\" alt=\"Open In Colab\"/></a>"
      ]
    },
    {
      "cell_type": "code",
      "metadata": {
        "id": "IiZMl7OedCy1"
      },
      "source": [
        "import numpy as np # package สำหรับทำงานกับข้อมูลที่เป็นตัวเลข ที่อยู่ในรูป matrix"
      ],
      "execution_count": 2,
      "outputs": []
    },
    {
      "cell_type": "markdown",
      "metadata": {
        "id": "RouK2Ytfdk3b"
      },
      "source": [
        "#**Numpy Array**"
      ]
    },
    {
      "cell_type": "markdown",
      "metadata": {
        "id": "6zOEsG5Udrd2"
      },
      "source": [
        "### สร้าง Numpy Array (Matrix)"
      ]
    },
    {
      "cell_type": "code",
      "metadata": {
        "id": "ijjwkJa0dpzm"
      },
      "source": [
        "np_a = np.array([[1,2,3],[4,5,6]]) # สร้าง numpy array ที่มี 2 แถว 3 หลัก"
      ],
      "execution_count": 3,
      "outputs": []
    },
    {
      "cell_type": "code",
      "metadata": {
        "colab": {
          "base_uri": "https://localhost:8080/"
        },
        "id": "WCmGQh3pd6aG",
        "outputId": "8f8ea2a6-f5d2-4682-d53c-88bc19f32ce4"
      },
      "source": [
        "np_a"
      ],
      "execution_count": 4,
      "outputs": [
        {
          "output_type": "execute_result",
          "data": {
            "text/plain": [
              "array([[1, 2, 3],\n",
              "       [4, 5, 6]])"
            ]
          },
          "metadata": {},
          "execution_count": 4
        }
      ]
    },
    {
      "cell_type": "code",
      "metadata": {
        "colab": {
          "base_uri": "https://localhost:8080/"
        },
        "id": "b3RPMHzWd_2X",
        "outputId": "a1d3f9d4-5aab-479e-c121-56222edb6634"
      },
      "source": [
        "np_a.shape"
      ],
      "execution_count": 5,
      "outputs": [
        {
          "output_type": "execute_result",
          "data": {
            "text/plain": [
              "(2, 3)"
            ]
          },
          "metadata": {},
          "execution_count": 5
        }
      ]
    },
    {
      "cell_type": "code",
      "metadata": {
        "colab": {
          "base_uri": "https://localhost:8080/"
        },
        "id": "OofnfqRiePb3",
        "outputId": "a09fc8a2-c69b-4e37-8a7b-ff17760173b0"
      },
      "source": [
        "np_b = np.array([[1,4],[2,5],[3,6]])\n",
        "np_b"
      ],
      "execution_count": 6,
      "outputs": [
        {
          "output_type": "execute_result",
          "data": {
            "text/plain": [
              "array([[1, 4],\n",
              "       [2, 5],\n",
              "       [3, 6]])"
            ]
          },
          "metadata": {},
          "execution_count": 6
        }
      ]
    },
    {
      "cell_type": "markdown",
      "metadata": {
        "id": "fYX5s5Quen6F"
      },
      "source": [
        "matrix transpose"
      ]
    },
    {
      "cell_type": "code",
      "metadata": {
        "colab": {
          "base_uri": "https://localhost:8080/"
        },
        "id": "ATcytP17ebFv",
        "outputId": "768b5352-f38a-48de-b0a8-2bd8e727a868"
      },
      "source": [
        "np_a.T  # กลับแถวเป็นหลัก หลักเป็นแถว"
      ],
      "execution_count": 8,
      "outputs": [
        {
          "output_type": "execute_result",
          "data": {
            "text/plain": [
              "array([[1, 4],\n",
              "       [2, 5],\n",
              "       [3, 6]])"
            ]
          },
          "metadata": {},
          "execution_count": 8
        }
      ]
    },
    {
      "cell_type": "markdown",
      "metadata": {
        "id": "ZiFBmiTqe964"
      },
      "source": [
        "### สร้าง matrix เริ่มต้น (zeros, ones)"
      ]
    },
    {
      "cell_type": "code",
      "metadata": {
        "colab": {
          "base_uri": "https://localhost:8080/"
        },
        "id": "8014GjxGes4I",
        "outputId": "8ad88ee8-9ed9-4343-9278-04858e1fc7ba"
      },
      "source": [
        "np_z = np.zeros((4,5))\n",
        "np_z"
      ],
      "execution_count": 10,
      "outputs": [
        {
          "output_type": "execute_result",
          "data": {
            "text/plain": [
              "array([[0., 0., 0., 0., 0.],\n",
              "       [0., 0., 0., 0., 0.],\n",
              "       [0., 0., 0., 0., 0.],\n",
              "       [0., 0., 0., 0., 0.]])"
            ]
          },
          "metadata": {},
          "execution_count": 10
        }
      ]
    },
    {
      "cell_type": "code",
      "metadata": {
        "colab": {
          "base_uri": "https://localhost:8080/"
        },
        "id": "X8lGm3nifj5A",
        "outputId": "4134602d-88f3-4ff2-f3a8-d1064e87a9e9"
      },
      "source": [
        "np_o = np.ones((5,6))\n",
        "np_o"
      ],
      "execution_count": 11,
      "outputs": [
        {
          "output_type": "execute_result",
          "data": {
            "text/plain": [
              "array([[1., 1., 1., 1., 1., 1.],\n",
              "       [1., 1., 1., 1., 1., 1.],\n",
              "       [1., 1., 1., 1., 1., 1.],\n",
              "       [1., 1., 1., 1., 1., 1.],\n",
              "       [1., 1., 1., 1., 1., 1.]])"
            ]
          },
          "metadata": {},
          "execution_count": 11
        }
      ]
    },
    {
      "cell_type": "code",
      "metadata": {
        "colab": {
          "base_uri": "https://localhost:8080/"
        },
        "id": "3ZE1va1gfo67",
        "outputId": "2f04213a-b690-4d32-a4a9-18dd3092b51a"
      },
      "source": [
        "np_200 = 200*np.ones((4,7))\n",
        "np_200"
      ],
      "execution_count": 12,
      "outputs": [
        {
          "output_type": "execute_result",
          "data": {
            "text/plain": [
              "array([[200., 200., 200., 200., 200., 200., 200.],\n",
              "       [200., 200., 200., 200., 200., 200., 200.],\n",
              "       [200., 200., 200., 200., 200., 200., 200.],\n",
              "       [200., 200., 200., 200., 200., 200., 200.]])"
            ]
          },
          "metadata": {},
          "execution_count": 12
        }
      ]
    },
    {
      "cell_type": "markdown",
      "metadata": {
        "id": "uEqg3J3egsh2"
      },
      "source": [
        "### สร้าง matrix random"
      ]
    },
    {
      "cell_type": "code",
      "metadata": {
        "colab": {
          "base_uri": "https://localhost:8080/"
        },
        "id": "CpK140oSgDAZ",
        "outputId": "6778510d-a346-4540-f953-49e543676c12"
      },
      "source": [
        "np.random.randn(5,5) # random เลขมาจาก normal distribution ที่มี mu = 0 std = 1"
      ],
      "execution_count": 13,
      "outputs": [
        {
          "output_type": "execute_result",
          "data": {
            "text/plain": [
              "array([[ 2.33785002,  0.68422161,  0.13799745, -0.10563662,  0.42943532],\n",
              "       [-0.06774043, -0.54710752, -0.48575408, -0.06396437,  0.4494887 ],\n",
              "       [-0.34711251, -0.05011241,  1.22798491, -1.62020772, -0.67730366],\n",
              "       [ 0.29237929, -0.91560059,  0.6477699 , -1.34126522,  0.6931197 ],\n",
              "       [-0.67090623, -0.55167091, -0.34396587,  1.76480481,  0.58505623]])"
            ]
          },
          "metadata": {},
          "execution_count": 13
        }
      ]
    },
    {
      "cell_type": "code",
      "metadata": {
        "colab": {
          "base_uri": "https://localhost:8080/"
        },
        "id": "T_ME1vTMhCTc",
        "outputId": "1ab7c9e0-64b9-4bdb-8ca8-d47a97e519c4"
      },
      "source": [
        "2+(5*np.random.randn(3,3)) # random เลขมาจาก normal distribution ที่มี mu = 2 std = 5"
      ],
      "execution_count": 16,
      "outputs": [
        {
          "output_type": "execute_result",
          "data": {
            "text/plain": [
              "array([[-2.96240741,  9.62245445,  6.13899443],\n",
              "       [ 6.75359135, -5.86056553,  2.79458984],\n",
              "       [ 9.15111623, -2.46476632,  3.19756695]])"
            ]
          },
          "metadata": {},
          "execution_count": 16
        }
      ]
    },
    {
      "cell_type": "code",
      "metadata": {
        "colab": {
          "base_uri": "https://localhost:8080/"
        },
        "id": "6qbEmZB7hLNm",
        "outputId": "d9e02aad-cd69-4934-900b-3011ff3bbba2"
      },
      "source": [
        "np.random.randint(5,11,(4,5)) # random เลขจำนวนเต็มระหว่าง 5 ถึง 11 [5,11) ขนาด (4x5)"
      ],
      "execution_count": 18,
      "outputs": [
        {
          "output_type": "execute_result",
          "data": {
            "text/plain": [
              "array([[ 5, 10,  9,  8,  7],\n",
              "       [ 6, 10, 10,  9,  7],\n",
              "       [ 8,  7,  8,  7,  5],\n",
              "       [ 6,  7,  6,  6,  7]])"
            ]
          },
          "metadata": {},
          "execution_count": 18
        }
      ]
    },
    {
      "cell_type": "code",
      "metadata": {
        "id": "FiT3bGSlhhdW"
      },
      "source": [
        ""
      ],
      "execution_count": null,
      "outputs": []
    }
  ]
}