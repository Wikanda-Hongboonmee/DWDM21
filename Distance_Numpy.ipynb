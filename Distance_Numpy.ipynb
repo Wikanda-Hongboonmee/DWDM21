{
  "nbformat": 4,
  "nbformat_minor": 0,
  "metadata": {
    "colab": {
      "name": "Distance Numpy.ipynb",
      "provenance": [],
      "toc_visible": true,
      "authorship_tag": "ABX9TyN5Yb/8I2usf3s4nqdPttLP",
      "include_colab_link": true
    },
    "kernelspec": {
      "name": "python3",
      "display_name": "Python 3"
    },
    "language_info": {
      "name": "python"
    }
  },
  "cells": [
    {
      "cell_type": "markdown",
      "metadata": {
        "id": "view-in-github",
        "colab_type": "text"
      },
      "source": [
        "<a href=\"https://colab.research.google.com/github/Wikanda-Hongboonmee/DWDM21/blob/main/Distance_Numpy.ipynb\" target=\"_parent\"><img src=\"https://colab.research.google.com/assets/colab-badge.svg\" alt=\"Open In Colab\"/></a>"
      ]
    },
    {
      "cell_type": "code",
      "metadata": {
        "id": "IiZMl7OedCy1"
      },
      "source": [
        "import numpy as np # เป็น package สำหรับทำงานกับข้อมูลที่เป็นตัวเลข ที่อยู่ในรูปของ Matrix"
      ],
      "execution_count": null,
      "outputs": []
    },
    {
      "cell_type": "markdown",
      "metadata": {
        "id": "RouK2Ytfdk3b"
      },
      "source": [
        "#**Numpy Array**"
      ]
    },
    {
      "cell_type": "markdown",
      "metadata": {
        "id": "6zOEsG5Udrd2"
      },
      "source": [
        "## สร้าง Numpy Array (Matrix)"
      ]
    },
    {
      "cell_type": "code",
      "metadata": {
        "id": "ijjwkJa0dpzm"
      },
      "source": [
        "np_a = np.array([[1,2,3],[4,5,6]]) # สร้าง numpy array ที่มี 2 แถว 3 หลัก"
      ],
      "execution_count": null,
      "outputs": []
    },
    {
      "cell_type": "code",
      "metadata": {
        "colab": {
          "base_uri": "https://localhost:8080/"
        },
        "id": "WCmGQh3pd6aG",
        "outputId": "8e8dda2e-44b7-4fcd-8282-e1962b8a102b"
      },
      "source": [
        "np_a"
      ],
      "execution_count": null,
      "outputs": [
        {
          "output_type": "execute_result",
          "data": {
            "text/plain": [
              "array([[1, 2, 3],\n",
              "       [4, 5, 6]])"
            ]
          },
          "metadata": {},
          "execution_count": 76
        }
      ]
    },
    {
      "cell_type": "code",
      "metadata": {
        "colab": {
          "base_uri": "https://localhost:8080/"
        },
        "id": "b3RPMHzWd_2X",
        "outputId": "0718077f-2753-453f-a488-d4861cefe6f0"
      },
      "source": [
        "np_a.shape # ตรวจสอบขนาดของ Matrix"
      ],
      "execution_count": null,
      "outputs": [
        {
          "output_type": "execute_result",
          "data": {
            "text/plain": [
              "(2, 3)"
            ]
          },
          "metadata": {},
          "execution_count": 77
        }
      ]
    },
    {
      "cell_type": "code",
      "metadata": {
        "colab": {
          "base_uri": "https://localhost:8080/"
        },
        "id": "OofnfqRiePb3",
        "outputId": "862827ba-5b79-4608-8cb2-e0638c218758"
      },
      "source": [
        "np_b = np.array([[1,4],[2,5],[3,6]]) # สร้าง numpy array ที่มี 3 แถว 2 หลัก\n",
        "np_b"
      ],
      "execution_count": null,
      "outputs": [
        {
          "output_type": "execute_result",
          "data": {
            "text/plain": [
              "array([[1, 4],\n",
              "       [2, 5],\n",
              "       [3, 6]])"
            ]
          },
          "metadata": {},
          "execution_count": 78
        }
      ]
    },
    {
      "cell_type": "markdown",
      "metadata": {
        "id": "fYX5s5Quen6F"
      },
      "source": [
        "### matrix transpose"
      ]
    },
    {
      "cell_type": "code",
      "metadata": {
        "colab": {
          "base_uri": "https://localhost:8080/"
        },
        "id": "ATcytP17ebFv",
        "outputId": "66fb4f89-bbbf-4255-c504-dfe255f57012"
      },
      "source": [
        "np_a.T  # Transpose - สลับแถวเป็นหลัก หลักเป็นแถว"
      ],
      "execution_count": null,
      "outputs": [
        {
          "output_type": "execute_result",
          "data": {
            "text/plain": [
              "array([[1, 4],\n",
              "       [2, 5],\n",
              "       [3, 6]])"
            ]
          },
          "metadata": {},
          "execution_count": 79
        }
      ]
    },
    {
      "cell_type": "markdown",
      "metadata": {
        "id": "ZiFBmiTqe964"
      },
      "source": [
        "## สร้าง matrix เริ่มต้น (zeros, ones)"
      ]
    },
    {
      "cell_type": "code",
      "metadata": {
        "colab": {
          "base_uri": "https://localhost:8080/"
        },
        "id": "8014GjxGes4I",
        "outputId": "795ba6ed-b614-4d10-dbe9-4d561df0df33"
      },
      "source": [
        "np_z = np.zeros((4,5))\n",
        "np_z"
      ],
      "execution_count": null,
      "outputs": [
        {
          "output_type": "execute_result",
          "data": {
            "text/plain": [
              "array([[0., 0., 0., 0., 0.],\n",
              "       [0., 0., 0., 0., 0.],\n",
              "       [0., 0., 0., 0., 0.],\n",
              "       [0., 0., 0., 0., 0.]])"
            ]
          },
          "metadata": {},
          "execution_count": 80
        }
      ]
    },
    {
      "cell_type": "code",
      "metadata": {
        "colab": {
          "base_uri": "https://localhost:8080/"
        },
        "id": "X8lGm3nifj5A",
        "outputId": "b39f6402-4c23-4a37-d3e9-97e71d00baa3"
      },
      "source": [
        "np_o = np.ones((5,6))\n",
        "np_o"
      ],
      "execution_count": null,
      "outputs": [
        {
          "output_type": "execute_result",
          "data": {
            "text/plain": [
              "array([[1., 1., 1., 1., 1., 1.],\n",
              "       [1., 1., 1., 1., 1., 1.],\n",
              "       [1., 1., 1., 1., 1., 1.],\n",
              "       [1., 1., 1., 1., 1., 1.],\n",
              "       [1., 1., 1., 1., 1., 1.]])"
            ]
          },
          "metadata": {},
          "execution_count": 81
        }
      ]
    },
    {
      "cell_type": "code",
      "metadata": {
        "colab": {
          "base_uri": "https://localhost:8080/"
        },
        "id": "3ZE1va1gfo67",
        "outputId": "e9739303-2502-43a5-f2ee-a10eb7fec731"
      },
      "source": [
        "np_200 = 200*np.ones((4,7))\n",
        "np_200"
      ],
      "execution_count": null,
      "outputs": [
        {
          "output_type": "execute_result",
          "data": {
            "text/plain": [
              "array([[200., 200., 200., 200., 200., 200., 200.],\n",
              "       [200., 200., 200., 200., 200., 200., 200.],\n",
              "       [200., 200., 200., 200., 200., 200., 200.],\n",
              "       [200., 200., 200., 200., 200., 200., 200.]])"
            ]
          },
          "metadata": {},
          "execution_count": 82
        }
      ]
    },
    {
      "cell_type": "markdown",
      "metadata": {
        "id": "uEqg3J3egsh2"
      },
      "source": [
        "## สร้าง matrix random"
      ]
    },
    {
      "cell_type": "code",
      "metadata": {
        "colab": {
          "base_uri": "https://localhost:8080/"
        },
        "id": "CpK140oSgDAZ",
        "outputId": "38706c66-1aee-4bcc-a1be-397e89908f8c"
      },
      "source": [
        "np.random.randn(5,5) # random เลขมาจาก normal distribution ที่มี mu = 0 std = 1"
      ],
      "execution_count": null,
      "outputs": [
        {
          "output_type": "execute_result",
          "data": {
            "text/plain": [
              "array([[-0.29263338, -0.60180222, -1.61539421,  0.26901752,  2.4491594 ],\n",
              "       [-0.02976729,  0.09601678,  1.33342547, -1.71493661,  0.44203041],\n",
              "       [ 0.98873944, -1.28490658, -0.7042959 ,  1.20142673,  0.76662289],\n",
              "       [-0.42223307,  0.39472733, -0.89853317,  0.28231685,  0.22444929],\n",
              "       [ 0.45380862,  0.36130663, -0.49091752, -0.1103105 ,  0.15230519]])"
            ]
          },
          "metadata": {},
          "execution_count": 83
        }
      ]
    },
    {
      "cell_type": "code",
      "metadata": {
        "colab": {
          "base_uri": "https://localhost:8080/"
        },
        "id": "T_ME1vTMhCTc",
        "outputId": "3e38b336-2dc5-414c-d6bb-ea2fd0818bd7"
      },
      "source": [
        "2+(5*np.random.randn(3,3)) # random เลขมาจาก normal distribution ที่มี mu = 2 std = 5"
      ],
      "execution_count": null,
      "outputs": [
        {
          "output_type": "execute_result",
          "data": {
            "text/plain": [
              "array([[ 1.78220062,  8.1874875 ,  3.91862246],\n",
              "       [-1.03762615,  4.18364228,  4.24078321],\n",
              "       [10.05592208, -0.01357886, -4.09722759]])"
            ]
          },
          "metadata": {},
          "execution_count": 84
        }
      ]
    },
    {
      "cell_type": "code",
      "metadata": {
        "colab": {
          "base_uri": "https://localhost:8080/"
        },
        "id": "6qbEmZB7hLNm",
        "outputId": "63369929-a759-4485-f284-5f1716b5779c"
      },
      "source": [
        "np.random.randint(5,11,(4,5)) # random เลขจำนวนเต็มระหว่าง 5 ถึง 11 [5,11) ขนาด (4x5)"
      ],
      "execution_count": null,
      "outputs": [
        {
          "output_type": "execute_result",
          "data": {
            "text/plain": [
              "array([[ 9,  6,  8,  7, 10],\n",
              "       [ 8, 10,  9,  5,  8],\n",
              "       [10,  9,  6,  7, 10],\n",
              "       [ 5,  6,  7,  9,  8]])"
            ]
          },
          "metadata": {},
          "execution_count": 85
        }
      ]
    },
    {
      "cell_type": "markdown",
      "metadata": {
        "id": "1mU2D4muOrwT"
      },
      "source": [
        "### matrix properties"
      ]
    },
    {
      "cell_type": "code",
      "metadata": {
        "id": "FiT3bGSlhhdW",
        "colab": {
          "base_uri": "https://localhost:8080/"
        },
        "outputId": "b5278513-2f37-4fc5-b73b-339eac056315"
      },
      "source": [
        "np_a"
      ],
      "execution_count": null,
      "outputs": [
        {
          "output_type": "execute_result",
          "data": {
            "text/plain": [
              "array([[1, 2, 3],\n",
              "       [4, 5, 6]])"
            ]
          },
          "metadata": {},
          "execution_count": 86
        }
      ]
    },
    {
      "cell_type": "code",
      "metadata": {
        "colab": {
          "base_uri": "https://localhost:8080/"
        },
        "id": "KpCKQGPhOxJZ",
        "outputId": "434d5674-035f-4c49-fbe6-36a5c326ab13"
      },
      "source": [
        "np_a.T # Transpose - สลับแถวเป็นหลัก หลักเป็นแถว"
      ],
      "execution_count": null,
      "outputs": [
        {
          "output_type": "execute_result",
          "data": {
            "text/plain": [
              "array([[1, 4],\n",
              "       [2, 5],\n",
              "       [3, 6]])"
            ]
          },
          "metadata": {},
          "execution_count": 87
        }
      ]
    },
    {
      "cell_type": "code",
      "metadata": {
        "colab": {
          "base_uri": "https://localhost:8080/"
        },
        "id": "u4SUC54OOyrl",
        "outputId": "a86c36c3-4562-418a-c282-fd480e3ed7f4"
      },
      "source": [
        "1 + np_a # add scalar to matrix จะบวกไปทุกๆตัวใน matrix"
      ],
      "execution_count": null,
      "outputs": [
        {
          "output_type": "execute_result",
          "data": {
            "text/plain": [
              "array([[2, 3, 4],\n",
              "       [5, 6, 7]])"
            ]
          },
          "metadata": {},
          "execution_count": 88
        }
      ]
    },
    {
      "cell_type": "code",
      "metadata": {
        "colab": {
          "base_uri": "https://localhost:8080/"
        },
        "id": "v6oJ9piBPAe0",
        "outputId": "62b92f82-fb89-42b0-83ce-38ec6319d0be"
      },
      "source": [
        "2*np_a # multiply scalar to matrix จะคูณไปทุกๆตัวของ matrix"
      ],
      "execution_count": null,
      "outputs": [
        {
          "output_type": "execute_result",
          "data": {
            "text/plain": [
              "array([[ 2,  4,  6],\n",
              "       [ 8, 10, 12]])"
            ]
          },
          "metadata": {},
          "execution_count": 89
        }
      ]
    },
    {
      "cell_type": "code",
      "metadata": {
        "colab": {
          "base_uri": "https://localhost:8080/"
        },
        "id": "ip5V__YGPMms",
        "outputId": "da154a3e-6806-4b9f-cae9-05302d08c41b"
      },
      "source": [
        "np_c = np.array([[6,5,4],[3,2,1]])\n",
        "np_c"
      ],
      "execution_count": null,
      "outputs": [
        {
          "output_type": "execute_result",
          "data": {
            "text/plain": [
              "array([[6, 5, 4],\n",
              "       [3, 2, 1]])"
            ]
          },
          "metadata": {},
          "execution_count": 90
        }
      ]
    },
    {
      "cell_type": "code",
      "metadata": {
        "colab": {
          "base_uri": "https://localhost:8080/"
        },
        "id": "zlfNA9-ePadY",
        "outputId": "3790a4fc-5608-4717-ae9a-a3d898f3456b"
      },
      "source": [
        "np_a + np_c # adding matrix to matrix"
      ],
      "execution_count": null,
      "outputs": [
        {
          "output_type": "execute_result",
          "data": {
            "text/plain": [
              "array([[7, 7, 7],\n",
              "       [7, 7, 7]])"
            ]
          },
          "metadata": {},
          "execution_count": 91
        }
      ]
    },
    {
      "cell_type": "code",
      "metadata": {
        "colab": {
          "base_uri": "https://localhost:8080/"
        },
        "id": "CY96zzLxPhTV",
        "outputId": "29babc09-9ae2-40d7-b448-8613c0fdeb1f"
      },
      "source": [
        "np_a.shape"
      ],
      "execution_count": null,
      "outputs": [
        {
          "output_type": "execute_result",
          "data": {
            "text/plain": [
              "(2, 3)"
            ]
          },
          "metadata": {},
          "execution_count": 92
        }
      ]
    },
    {
      "cell_type": "code",
      "metadata": {
        "colab": {
          "base_uri": "https://localhost:8080/"
        },
        "id": "B3v--69EQHmu",
        "outputId": "eba90374-a9c0-4e21-d542-5d89ec353c97"
      },
      "source": [
        "np_c.shape"
      ],
      "execution_count": null,
      "outputs": [
        {
          "output_type": "execute_result",
          "data": {
            "text/plain": [
              "(2, 3)"
            ]
          },
          "metadata": {},
          "execution_count": 93
        }
      ]
    },
    {
      "cell_type": "code",
      "metadata": {
        "colab": {
          "base_uri": "https://localhost:8080/"
        },
        "id": "yzcnbD4SQk7T",
        "outputId": "455b925d-0f19-465b-89c7-06b619a1ec06"
      },
      "source": [
        "np_c.T.shape"
      ],
      "execution_count": null,
      "outputs": [
        {
          "output_type": "execute_result",
          "data": {
            "text/plain": [
              "(3, 2)"
            ]
          },
          "metadata": {},
          "execution_count": 94
        }
      ]
    },
    {
      "cell_type": "markdown",
      "metadata": {
        "id": "QSZhtg5eRMmJ"
      },
      "source": [
        "![image.png](data:image/png;base64,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)"
      ]
    },
    {
      "cell_type": "code",
      "metadata": {
        "colab": {
          "base_uri": "https://localhost:8080/"
        },
        "id": "kPjkPyJuQJ4e",
        "outputId": "e42514e4-0033-4ffe-c991-797999d6f2ae"
      },
      "source": [
        "np.dot(np_a,np_c.T) # multipling matrix to matrix (a,b) x (b,c) = (a,c)"
      ],
      "execution_count": null,
      "outputs": [
        {
          "output_type": "execute_result",
          "data": {
            "text/plain": [
              "array([[28, 10],\n",
              "       [73, 28]])"
            ]
          },
          "metadata": {},
          "execution_count": 95
        }
      ]
    },
    {
      "cell_type": "markdown",
      "metadata": {
        "id": "5-5-MvS5RPFI"
      },
      "source": [
        "## Indexing & Slicing ( Index - ชี้,  Slice - ตัด )"
      ]
    },
    {
      "cell_type": "code",
      "metadata": {
        "colab": {
          "base_uri": "https://localhost:8080/"
        },
        "id": "YgrvyY6aQUm_",
        "outputId": "dabf6ca3-384f-422c-a159-3e80fdf81c5a"
      },
      "source": [
        "np_a"
      ],
      "execution_count": null,
      "outputs": [
        {
          "output_type": "execute_result",
          "data": {
            "text/plain": [
              "array([[1, 2, 3],\n",
              "       [4, 5, 6]])"
            ]
          },
          "metadata": {},
          "execution_count": 96
        }
      ]
    },
    {
      "cell_type": "code",
      "metadata": {
        "colab": {
          "base_uri": "https://localhost:8080/"
        },
        "id": "wgdYZ5atR739",
        "outputId": "7053d4e3-4419-4ad0-b6b0-cc8a6d8c0108"
      },
      "source": [
        "np_a[1,1] # เริ่มนับตั้งแต่แถวที่ 0 หลักที่ 0"
      ],
      "execution_count": null,
      "outputs": [
        {
          "output_type": "execute_result",
          "data": {
            "text/plain": [
              "5"
            ]
          },
          "metadata": {},
          "execution_count": 97
        }
      ]
    },
    {
      "cell_type": "code",
      "metadata": {
        "colab": {
          "base_uri": "https://localhost:8080/"
        },
        "id": "Zh0PxUfmR-XP",
        "outputId": "97eb9473-e30c-4f99-818f-f28d272d5bfe"
      },
      "source": [
        "np_a[:2,:2]"
      ],
      "execution_count": null,
      "outputs": [
        {
          "output_type": "execute_result",
          "data": {
            "text/plain": [
              "array([[1, 2],\n",
              "       [4, 5]])"
            ]
          },
          "metadata": {},
          "execution_count": 98
        }
      ]
    },
    {
      "cell_type": "code",
      "metadata": {
        "colab": {
          "base_uri": "https://localhost:8080/"
        },
        "id": "cME0-OhHSUcV",
        "outputId": "f1617bf6-0fec-4b25-8a12-b031a8325f20"
      },
      "source": [
        "np_a[0,:]"
      ],
      "execution_count": null,
      "outputs": [
        {
          "output_type": "execute_result",
          "data": {
            "text/plain": [
              "array([1, 2, 3])"
            ]
          },
          "metadata": {},
          "execution_count": 99
        }
      ]
    },
    {
      "cell_type": "markdown",
      "metadata": {
        "id": "XhmC3uflSvua"
      },
      "source": [
        "## Useful functions"
      ]
    },
    {
      "cell_type": "code",
      "metadata": {
        "colab": {
          "base_uri": "https://localhost:8080/"
        },
        "id": "ZmTiHTEPTWed",
        "outputId": "14b0955e-1e33-41fc-abce-93bf8723aa41"
      },
      "source": [
        "np_a"
      ],
      "execution_count": null,
      "outputs": [
        {
          "output_type": "execute_result",
          "data": {
            "text/plain": [
              "array([[1, 2, 3],\n",
              "       [4, 5, 6]])"
            ]
          },
          "metadata": {},
          "execution_count": 100
        }
      ]
    },
    {
      "cell_type": "code",
      "metadata": {
        "colab": {
          "base_uri": "https://localhost:8080/"
        },
        "id": "4z4muhxRSXNm",
        "outputId": "e35946df-5236-4e8a-d616-6eb87dbbadb7"
      },
      "source": [
        "np.sum(np_a) # เอาเลขทุกๆตัวใน np_a มารวมกัน"
      ],
      "execution_count": null,
      "outputs": [
        {
          "output_type": "execute_result",
          "data": {
            "text/plain": [
              "21"
            ]
          },
          "metadata": {},
          "execution_count": 101
        }
      ]
    },
    {
      "cell_type": "code",
      "metadata": {
        "colab": {
          "base_uri": "https://localhost:8080/"
        },
        "id": "RJUdJSFiS2mU",
        "outputId": "abf1b338-bbc3-43e5-816f-d367f1a68ce8"
      },
      "source": [
        "np.sum(np_a,axis=0) # axis เป็นการเลือกแกนว่าจะให้ sum ในแนวแกนไหน (0 = แกนนอน)"
      ],
      "execution_count": null,
      "outputs": [
        {
          "output_type": "execute_result",
          "data": {
            "text/plain": [
              "array([5, 7, 9])"
            ]
          },
          "metadata": {},
          "execution_count": 102
        }
      ]
    },
    {
      "cell_type": "code",
      "metadata": {
        "colab": {
          "base_uri": "https://localhost:8080/"
        },
        "id": "gkQGj64oTJI_",
        "outputId": "81e54cf1-09d3-420a-d925-994b08b86791"
      },
      "source": [
        "np.sum(np_a,axis=1) # axis เป็นการเลือกแกนว่าจะให้ sum ในแนวแกนไหน (1 = แกนตั้ง)"
      ],
      "execution_count": null,
      "outputs": [
        {
          "output_type": "execute_result",
          "data": {
            "text/plain": [
              "array([ 6, 15])"
            ]
          },
          "metadata": {},
          "execution_count": 103
        }
      ]
    },
    {
      "cell_type": "code",
      "metadata": {
        "colab": {
          "base_uri": "https://localhost:8080/"
        },
        "id": "YaibeqkNTTQF",
        "outputId": "ce1c3f8c-c88e-44e2-ce32-7ea263a7ae24"
      },
      "source": [
        "np.mean(np_a) # หา mean ของ np_a"
      ],
      "execution_count": null,
      "outputs": [
        {
          "output_type": "execute_result",
          "data": {
            "text/plain": [
              "3.5"
            ]
          },
          "metadata": {},
          "execution_count": 104
        }
      ]
    },
    {
      "cell_type": "code",
      "metadata": {
        "colab": {
          "base_uri": "https://localhost:8080/"
        },
        "id": "xOreF5t4TcrK",
        "outputId": "ac3f9570-a974-4669-e791-3e0058155791"
      },
      "source": [
        "np.mean(np_a,axis=0) # หา mean ของคอลัมน์"
      ],
      "execution_count": null,
      "outputs": [
        {
          "output_type": "execute_result",
          "data": {
            "text/plain": [
              "array([2.5, 3.5, 4.5])"
            ]
          },
          "metadata": {},
          "execution_count": 105
        }
      ]
    },
    {
      "cell_type": "markdown",
      "metadata": {
        "id": "Mj2dPLV-UvkV"
      },
      "source": [
        "## วนลูปเอง"
      ]
    },
    {
      "cell_type": "markdown",
      "metadata": {
        "id": "3bs7CwsnVBEH"
      },
      "source": [
        "### summation"
      ]
    },
    {
      "cell_type": "markdown",
      "metadata": {
        "id": "hNAkr0HAW7ly"
      },
      "source": [
        "np.sum(np_a)"
      ]
    },
    {
      "cell_type": "code",
      "metadata": {
        "colab": {
          "base_uri": "https://localhost:8080/"
        },
        "id": "FvuY6X6YTqTY",
        "outputId": "bd93ba56-be27-4738-8a42-089e6a4ce989"
      },
      "source": [
        "# การวนลูปใน numpy array วิ่งไปตามแถวกับไปตามหลัก\n",
        "sum_all = 0\n",
        "for row in range(np_a.shape[0]) : # วนในแถว\n",
        "    for column in range(np_a.shape[1]) : # วนในหลัก\n",
        "        sum_all = sum_all + np_a[row,column]\n",
        "        print(f'we are at row={row},column={column} np_a[{row},{column}]={np_a[row,column]}  sum_all={sum_all}')\n",
        "print(sum_all)"
      ],
      "execution_count": null,
      "outputs": [
        {
          "output_type": "stream",
          "name": "stdout",
          "text": [
            "we are at row=0,column=0 np_a[0,0]=1  sum_all=1\n",
            "we are at row=0,column=1 np_a[0,1]=2  sum_all=3\n",
            "we are at row=0,column=2 np_a[0,2]=3  sum_all=6\n",
            "we are at row=1,column=0 np_a[1,0]=4  sum_all=10\n",
            "we are at row=1,column=1 np_a[1,1]=5  sum_all=15\n",
            "we are at row=1,column=2 np_a[1,2]=6  sum_all=21\n",
            "21\n"
          ]
        }
      ]
    },
    {
      "cell_type": "markdown",
      "metadata": {
        "id": "FVfKcyb0W2G7"
      },
      "source": [
        "np.sum(np_a,axis=0) บวกในแนวแกนนอน"
      ]
    },
    {
      "cell_type": "code",
      "metadata": {
        "colab": {
          "base_uri": "https://localhost:8080/"
        },
        "id": "inDuRLJxV_rE",
        "outputId": "7c059368-f93a-4450-8bfa-6adbfd51d103"
      },
      "source": [
        "# การวนลูปใน numpy array วิ่งไปตามแถวกับไปตามหลัก\n",
        "sum_all = np.zeros(np_a.shape[1])\n",
        "for row in range(np_a.shape[0]) : # วนในแถว\n",
        "    for column in range(np_a.shape[1]) : # วนในหลัก\n",
        "        sum_all[column] = sum_all[column] + np_a[row,column]\n",
        "print(sum_all)"
      ],
      "execution_count": null,
      "outputs": [
        {
          "output_type": "stream",
          "name": "stdout",
          "text": [
            "[5. 7. 9.]\n"
          ]
        }
      ]
    },
    {
      "cell_type": "markdown",
      "metadata": {
        "id": "gXCiJSZ6YVa0"
      },
      "source": [
        "## **Quiz กลุ่ม**\n",
        "\n",
        "วนลูปหาค่า\n",
        "\n",
        "1. ```np.sum(np_a,axis=1)```\n",
        "2. ```np.mean(np_a)```\n",
        "3. ```np.mean(np_a,axis=0)```\n",
        "4. ```np.mean(np_a,axis=1)```\n",
        "5. np.max(np_a) \n",
        "6. np.max(np_a,axis=0) \n",
        "7. np.max(np_a,axis=1)\n",
        "8. np.min(np_a) \n",
        "9. np.min(np_a,axis=0) \n",
        "10. np.min(np_a,axis=1) \n",
        "\n"
      ]
    },
    {
      "cell_type": "markdown",
      "metadata": {
        "id": "1KlfVGSjXu5C"
      },
      "source": [
        "**1. np.sum(np_a,axis=1)** "
      ]
    },
    {
      "cell_type": "code",
      "metadata": {
        "colab": {
          "base_uri": "https://localhost:8080/"
        },
        "id": "icieKhQcXmTo",
        "outputId": "a1571738-e06a-4324-a4cc-356c59fc9093"
      },
      "source": [
        "sum_all = np.zeros(np_a.shape[0])\n",
        "for row in range(np_a.shape[0]) : # วนในแถว\n",
        "    for column in range(np_a.shape[1]) : # วนในหลัก\n",
        "        sum_all[row] = sum_all[row] + np_a[row,column] \n",
        "print(sum_all)"
      ],
      "execution_count": null,
      "outputs": [
        {
          "output_type": "stream",
          "name": "stdout",
          "text": [
            "[ 6. 15.]\n"
          ]
        }
      ]
    },
    {
      "cell_type": "markdown",
      "metadata": {
        "id": "ckiUt9BXoYzb"
      },
      "source": [
        "**2. np.mean(np_a)**"
      ]
    },
    {
      "cell_type": "code",
      "metadata": {
        "colab": {
          "base_uri": "https://localhost:8080/"
        },
        "id": "87Oryp8uoXZA",
        "outputId": "cdce14f6-89e5-44c9-c69f-1fcb5cc9ee5d"
      },
      "source": [
        "mean_all = 0\n",
        "for row in range(np_a.shape[0]):\n",
        "    for col in range(np_a.shape[1]):\n",
        "        mean_all = mean_all + np_a[row,col]\n",
        "mean_all = mean_all/(np_a.shape[0]*np_a.shape[1])\n",
        "print(mean_all)"
      ],
      "execution_count": null,
      "outputs": [
        {
          "output_type": "stream",
          "name": "stdout",
          "text": [
            "3.5\n"
          ]
        }
      ]
    },
    {
      "cell_type": "markdown",
      "metadata": {
        "id": "sJDHQbUrovMg"
      },
      "source": [
        "**3. np.mean(np_a,axis=0)**"
      ]
    },
    {
      "cell_type": "code",
      "metadata": {
        "colab": {
          "base_uri": "https://localhost:8080/"
        },
        "id": "9fW9aegmoybq",
        "outputId": "a9bd0215-1b77-48a1-afae-561e5feee11d"
      },
      "source": [
        "mean_all = np.zeros(np_a.shape[1])\n",
        "for row in range(np_a.shape[0]):\n",
        "     for col in range(np_a.shape[1]):\n",
        "          mean_all[col] = mean_all[col] + np_a[row,col]/np_a.shape[0]\n",
        "print(mean_all)"
      ],
      "execution_count": null,
      "outputs": [
        {
          "output_type": "stream",
          "name": "stdout",
          "text": [
            "[2.5 3.5 4.5]\n"
          ]
        }
      ]
    },
    {
      "cell_type": "markdown",
      "metadata": {
        "id": "0lvDX29qpCjo"
      },
      "source": [
        "**4. np.mean(np_a,axis=1)**"
      ]
    },
    {
      "cell_type": "code",
      "metadata": {
        "colab": {
          "base_uri": "https://localhost:8080/"
        },
        "id": "-ig_-uVfpGNH",
        "outputId": "26344212-a23a-4d79-f314-014fe0c0c08c"
      },
      "source": [
        "sum_all = np.zeros(np_a.shape[0])\n",
        "for row in range(np_a.shape[0]):\n",
        "    for col in range(np_a.shape[1]): \n",
        "        sum_all[row] = sum_all[row] + np_a[row,col]\n",
        "sum_all = sum_all/np_a.shape[1]\n",
        "print(sum_all)"
      ],
      "execution_count": null,
      "outputs": [
        {
          "output_type": "stream",
          "name": "stdout",
          "text": [
            "[2. 5.]\n"
          ]
        }
      ]
    },
    {
      "cell_type": "markdown",
      "metadata": {
        "id": "wOOzK6NLpX0F"
      },
      "source": [
        "**5. np.max(np_a)**"
      ]
    },
    {
      "cell_type": "code",
      "metadata": {
        "colab": {
          "base_uri": "https://localhost:8080/"
        },
        "id": "6xTa-ywSpI-4",
        "outputId": "693f8e04-87aa-44b1-a8b6-aa65f1eb3fd9"
      },
      "source": [
        "max_a = -100000000\n",
        "for row in range(np_a.shape[0]):\n",
        "    for col in range(np_a.shape[1]):\n",
        "        if np_a[row,col] > max_a :\n",
        "            max_a = np_a[row,col]\n",
        "print(max_a)"
      ],
      "execution_count": null,
      "outputs": [
        {
          "output_type": "stream",
          "name": "stdout",
          "text": [
            "6\n"
          ]
        }
      ]
    },
    {
      "cell_type": "markdown",
      "metadata": {
        "id": "9a94BeTYpaNv"
      },
      "source": [
        "**6. np.max(np_a,axis=0)**"
      ]
    },
    {
      "cell_type": "code",
      "metadata": {
        "colab": {
          "base_uri": "https://localhost:8080/"
        },
        "id": "DMNXlnOqpdtm",
        "outputId": "6758a2a4-7a6a-4d2d-889b-e88ff8845701"
      },
      "source": [
        "max_all = -100000 * np.ones(np_a.shape[1])\n",
        "for col in range(np_a.shape[1]):\n",
        "    for row in range(np_a.shape[0]):\n",
        "        if np_a[row,col] > max_all[col]: \n",
        "            max_all[col] = np_a[row,col]\n",
        "print(max_all)"
      ],
      "execution_count": null,
      "outputs": [
        {
          "output_type": "stream",
          "name": "stdout",
          "text": [
            "[4. 5. 6.]\n"
          ]
        }
      ]
    },
    {
      "cell_type": "markdown",
      "metadata": {
        "id": "eNpSwFbdpeHU"
      },
      "source": [
        "**7. np.max(np_a,axis=1)**"
      ]
    },
    {
      "cell_type": "code",
      "metadata": {
        "colab": {
          "base_uri": "https://localhost:8080/"
        },
        "id": "ETEFtGSophX5",
        "outputId": "485e0c08-9162-4a0f-cf2e-08d2daddea49"
      },
      "source": [
        "max_all = np.zeros(np_a.shape[0])\n",
        "for row in range(np_a.shape[0]):\n",
        "    max_all[row] = max(np_a[row,:])\n",
        "print(max_all)"
      ],
      "execution_count": null,
      "outputs": [
        {
          "output_type": "stream",
          "name": "stdout",
          "text": [
            "[3. 6.]\n"
          ]
        }
      ]
    },
    {
      "cell_type": "markdown",
      "metadata": {
        "id": "BgBN4oIUp4yT"
      },
      "source": [
        "**8. np.min(np_a)**"
      ]
    },
    {
      "cell_type": "code",
      "metadata": {
        "colab": {
          "base_uri": "https://localhost:8080/"
        },
        "id": "FuCHF1cip8v_",
        "outputId": "771fe468-80d0-4df1-fb66-cb10cca4b893"
      },
      "source": [
        "minV = 100000\n",
        "for row in range(np_a.shape[0]):\n",
        "    for col in range(np_a.shape[1]):\n",
        "        if np_a[row,col] < minV:\n",
        "            minV = np_a[row,col]\n",
        "print(minV)"
      ],
      "execution_count": null,
      "outputs": [
        {
          "output_type": "stream",
          "name": "stdout",
          "text": [
            "1\n"
          ]
        }
      ]
    },
    {
      "cell_type": "markdown",
      "metadata": {
        "id": "YqqhAtLLp9G9"
      },
      "source": [
        "**9. np.min(np_a,axis=0)**"
      ]
    },
    {
      "cell_type": "code",
      "metadata": {
        "colab": {
          "base_uri": "https://localhost:8080/"
        },
        "id": "8qUSNJVNqBX9",
        "outputId": "02fd5b2f-6c39-4e60-a253-35c679a28d3d"
      },
      "source": [
        "min_all = np.zeros(np_a.shape[1])\n",
        "for col in range(np_a.shape[1]):\n",
        "    min_all[col] = min(np_a[:,col])\n",
        "print(min_all)"
      ],
      "execution_count": null,
      "outputs": [
        {
          "output_type": "stream",
          "name": "stdout",
          "text": [
            "[1. 2. 3.]\n"
          ]
        }
      ]
    },
    {
      "cell_type": "markdown",
      "metadata": {
        "id": "0nDIQmizqB-D"
      },
      "source": [
        "**10. np.min(np_a,axis=1)**"
      ]
    },
    {
      "cell_type": "code",
      "metadata": {
        "colab": {
          "base_uri": "https://localhost:8080/"
        },
        "id": "W0zvXU2XqFkL",
        "outputId": "fdbc6da3-fc72-4a1f-eb1d-0b16eaad7cc2"
      },
      "source": [
        "min_row = np.zeros(np_a.shape[0])\n",
        "for row in range(np_a.shape[0]):\n",
        "   min_row[row] = min(np_a[row,:])\n",
        "print(min_row)"
      ],
      "execution_count": null,
      "outputs": [
        {
          "output_type": "stream",
          "name": "stdout",
          "text": [
            "[1. 4.]\n"
          ]
        }
      ]
    },
    {
      "cell_type": "markdown",
      "metadata": {
        "id": "VvyuSQE1Xf4J"
      },
      "source": [
        "# **Distance Matrix**"
      ]
    },
    {
      "cell_type": "code",
      "metadata": {
        "colab": {
          "base_uri": "https://localhost:8080/"
        },
        "id": "4KbdZtOIXfWx",
        "outputId": "7b9a058f-c5fd-49e5-e2f9-10ae175bec08"
      },
      "source": [
        "data1 = np.array([[1,2],[3,5],[2,0],[4,5]])\n",
        "data1"
      ],
      "execution_count": null,
      "outputs": [
        {
          "output_type": "execute_result",
          "data": {
            "text/plain": [
              "array([[1, 2],\n",
              "       [3, 5],\n",
              "       [2, 0],\n",
              "       [4, 5]])"
            ]
          },
          "metadata": {},
          "execution_count": 118
        }
      ]
    },
    {
      "cell_type": "code",
      "metadata": {
        "colab": {
          "base_uri": "https://localhost:8080/",
          "height": 281
        },
        "id": "aRoFrNuZZGOm",
        "outputId": "abf87f1d-d594-446e-e150-7050b7214bf7"
      },
      "source": [
        "from matplotlib import pyplot as plt \n",
        "plt.scatter(data1[:,0],data1[:,1])"
      ],
      "execution_count": null,
      "outputs": [
        {
          "output_type": "execute_result",
          "data": {
            "text/plain": [
              "<matplotlib.collections.PathCollection at 0x7f1bd1844810>"
            ]
          },
          "metadata": {},
          "execution_count": 119
        },
        {
          "output_type": "display_data",
          "data": {
            "image/png": "[encoded data removed]",
            "text/plain": [
              "<Figure size 432x288 with 1 Axes>"
            ]
          },
          "metadata": {
            "needs_background": "light"
          }
        }
      ]
    },
    {
      "cell_type": "markdown",
      "metadata": {
        "id": "lwPR6lmAabcZ"
      },
      "source": [
        "## Euclidean Distance (L2-norm)\n",
        "$\\sqrt{(x_1-x_2)^2+(y_1-y_2)^2}$"
      ]
    },
    {
      "cell_type": "markdown",
      "metadata": {
        "id": "RmQBpK4keFaT"
      },
      "source": [
        "dist(P1,P2)"
      ]
    },
    {
      "cell_type": "code",
      "metadata": {
        "colab": {
          "base_uri": "https://localhost:8080/"
        },
        "id": "qYUthdbhaaVk",
        "outputId": "87e22a30-4917-416b-af14-2b494ffd6844"
      },
      "source": [
        "dist_p1_p2 = np.sqrt(np.power(data1[0,0] - data1[1,0],2) + np.power(data1[0,1] - data1[1,1],2))\n",
        "dist_p1_p2 "
      ],
      "execution_count": null,
      "outputs": [
        {
          "output_type": "execute_result",
          "data": {
            "text/plain": [
              "3.605551275463989"
            ]
          },
          "metadata": {},
          "execution_count": 120
        }
      ]
    },
    {
      "cell_type": "markdown",
      "metadata": {
        "id": "NNlUNQ28eK_o"
      },
      "source": [
        "dist(P1,P3)"
      ]
    },
    {
      "cell_type": "code",
      "metadata": {
        "colab": {
          "base_uri": "https://localhost:8080/"
        },
        "id": "rqJxCe8vcT-a",
        "outputId": "7e717762-ec12-43c6-cd4e-bebc26bb1cdd"
      },
      "source": [
        "dist_p1_p3 = np.sqrt(np.power(data1[0,0] - data1[2,0],2) + np.power(data1[0,1] - data1[2,1],2))\n",
        "dist_p1_p3"
      ],
      "execution_count": null,
      "outputs": [
        {
          "output_type": "execute_result",
          "data": {
            "text/plain": [
              "2.23606797749979"
            ]
          },
          "metadata": {},
          "execution_count": 121
        }
      ]
    },
    {
      "cell_type": "markdown",
      "metadata": {
        "id": "V_iE74bVeOFj"
      },
      "source": [
        "dist(P1,P4)"
      ]
    },
    {
      "cell_type": "code",
      "metadata": {
        "colab": {
          "base_uri": "https://localhost:8080/"
        },
        "id": "-J3FFEx_dW7a",
        "outputId": "a37effef-adb9-4370-e662-3b528e4c7b7a"
      },
      "source": [
        "dist_p1_p4 = np.sqrt(np.power(data1[0,0] - data1[3,0],2) + np.power(data1[0,1] - data1[3,1],2))\n",
        "dist_p1_p4"
      ],
      "execution_count": null,
      "outputs": [
        {
          "output_type": "execute_result",
          "data": {
            "text/plain": [
              "4.242640687119285"
            ]
          },
          "metadata": {},
          "execution_count": 122
        }
      ]
    },
    {
      "cell_type": "markdown",
      "metadata": {
        "id": "nL5JyE-ZeRVX"
      },
      "source": [
        "dist(P2,P3)"
      ]
    },
    {
      "cell_type": "code",
      "metadata": {
        "colab": {
          "base_uri": "https://localhost:8080/"
        },
        "id": "BPa7WX0ydbEz",
        "outputId": "0f1781fb-a9ec-40df-b63c-ecd73bfc8154"
      },
      "source": [
        "dist_p2_p3 = np.sqrt(np.power(data1[1,0] - data1[2,0],2) + np.power(data1[1,1] - data1[2,1],2))\n",
        "dist_p2_p3"
      ],
      "execution_count": null,
      "outputs": [
        {
          "output_type": "execute_result",
          "data": {
            "text/plain": [
              "5.0990195135927845"
            ]
          },
          "metadata": {},
          "execution_count": 123
        }
      ]
    },
    {
      "cell_type": "markdown",
      "metadata": {
        "id": "tQtxshs2eUoG"
      },
      "source": [
        "dist(P2,P4)"
      ]
    },
    {
      "cell_type": "code",
      "metadata": {
        "colab": {
          "base_uri": "https://localhost:8080/"
        },
        "id": "pAIxdXHndltf",
        "outputId": "78760a0e-a00d-45c1-e7f7-23c623a60266"
      },
      "source": [
        "dist_p2_p4 = np.sqrt(np.power(data1[1,0] - data1[3,0],2) + np.power(data1[1,1] - data1[3,1],2))\n",
        "dist_p2_p4"
      ],
      "execution_count": null,
      "outputs": [
        {
          "output_type": "execute_result",
          "data": {
            "text/plain": [
              "1.0"
            ]
          },
          "metadata": {},
          "execution_count": 124
        }
      ]
    },
    {
      "cell_type": "markdown",
      "metadata": {
        "id": "M_I0NAnceW-c"
      },
      "source": [
        "dist(P3,P4)"
      ]
    },
    {
      "cell_type": "code",
      "metadata": {
        "colab": {
          "base_uri": "https://localhost:8080/"
        },
        "id": "az2NVf-3dsqz",
        "outputId": "39533eb9-407b-42bb-a2fe-9b34c4ce4ab7"
      },
      "source": [
        "dist_p3_p4 = np.sqrt(np.power(data1[2,0] - data1[3,0],2) + np.power(data1[2,1] - data1[3,1],2))\n",
        "dist_p3_p4"
      ],
      "execution_count": null,
      "outputs": [
        {
          "output_type": "execute_result",
          "data": {
            "text/plain": [
              "5.385164807134504"
            ]
          },
          "metadata": {},
          "execution_count": 125
        }
      ]
    },
    {
      "cell_type": "markdown",
      "metadata": {
        "id": "K8y9DqwigEsp"
      },
      "source": [
        "## **Distance function**"
      ]
    },
    {
      "cell_type": "markdown",
      "metadata": {
        "id": "bY6jgM0hh6Rz"
      },
      "source": [
        "Dimention = 2"
      ]
    },
    {
      "cell_type": "code",
      "metadata": {
        "id": "VurRW2DVd5b2"
      },
      "source": [
        "def dist_l2(p1,p2) :\n",
        "    return np.sqrt(np.power(p1[0]-p2[0],2) + np.power(p1[1]-p2[1],2))"
      ],
      "execution_count": null,
      "outputs": []
    },
    {
      "cell_type": "code",
      "metadata": {
        "colab": {
          "base_uri": "https://localhost:8080/"
        },
        "id": "nC7WUydng4uh",
        "outputId": "025523f6-4244-4089-90e6-26c34478aeb2"
      },
      "source": [
        "# p1 = data1[0,:], p2 = data1[1,:] input ของ function มี 2 ตัว\n",
        "dist_l2(data1[0,:],data1[1,:]) # ตัดเอาแค่แถวแรก ทุกหลัก , ตัดเอาแถวสอง เอาทุกหลัก"
      ],
      "execution_count": null,
      "outputs": [
        {
          "output_type": "execute_result",
          "data": {
            "text/plain": [
              "3.605551275463989"
            ]
          },
          "metadata": {},
          "execution_count": 127
        }
      ]
    },
    {
      "cell_type": "code",
      "metadata": {
        "colab": {
          "base_uri": "https://localhost:8080/"
        },
        "id": "Tin-lHHVhKj-",
        "outputId": "14c7fb4e-b453-4406-aec1-047c196c7ab5"
      },
      "source": [
        "# p2 = data1[1,:], p4 = data1[3,:] input ของ function มี 2 ตัว\n",
        "dist_l2(data1[1,:],data1[3,:])"
      ],
      "execution_count": null,
      "outputs": [
        {
          "output_type": "execute_result",
          "data": {
            "text/plain": [
              "1.0"
            ]
          },
          "metadata": {},
          "execution_count": 128
        }
      ]
    },
    {
      "cell_type": "markdown",
      "metadata": {
        "id": "_KXhrqHeh_Gc"
      },
      "source": [
        "Dimention = n"
      ]
    },
    {
      "cell_type": "code",
      "metadata": {
        "id": "tT40AuzMhP38"
      },
      "source": [
        "def dist_l2_n(p1,p2) :\n",
        "    sum = 0\n",
        "    for i in range(len(p1)) :\n",
        "        sum = sum + np.power(p1[i]-p2[i],2)\n",
        "    return np.sqrt(sum)"
      ],
      "execution_count": null,
      "outputs": []
    },
    {
      "cell_type": "code",
      "metadata": {
        "colab": {
          "base_uri": "https://localhost:8080/"
        },
        "id": "cwYjCiKajxyZ",
        "outputId": "a6a050cc-4244-4c14-955c-8d7d35fb6cc4"
      },
      "source": [
        "dist_l2_n(data1[0,:],data1[1,:])"
      ],
      "execution_count": null,
      "outputs": [
        {
          "output_type": "execute_result",
          "data": {
            "text/plain": [
              "3.605551275463989"
            ]
          },
          "metadata": {},
          "execution_count": 130
        }
      ]
    },
    {
      "cell_type": "markdown",
      "metadata": {
        "id": "Ps32oV7mkFdf"
      },
      "source": [
        "## Manhattan Distance (L1-norm)\n",
        "$ |x_1-x_2| +  |y_1-y_2 |$"
      ]
    },
    {
      "cell_type": "markdown",
      "metadata": {
        "id": "yRDEQjrlp8xa"
      },
      "source": [
        "## **Quiz6**\n",
        "เขียน function คำนวณ manhattan distance ของ ข้อมูล 2 dimensions"
      ]
    },
    {
      "cell_type": "markdown",
      "metadata": {
        "id": "bMA3RMEbnzfP"
      },
      "source": [
        "Dimention = 2"
      ]
    },
    {
      "cell_type": "code",
      "metadata": {
        "colab": {
          "base_uri": "https://localhost:8080/"
        },
        "id": "AXogwuCWj_S5",
        "outputId": "5498de58-a249-4f71-b3f8-e46af92f9a25"
      },
      "source": [
        "distm_p1_p2 = np.abs(data1[0,0] - data1[1,0]) + np.abs(data1[0,1] - data1[1,1])\n",
        "distm_p1_p2 "
      ],
      "execution_count": null,
      "outputs": [
        {
          "output_type": "execute_result",
          "data": {
            "text/plain": [
              "5"
            ]
          },
          "metadata": {},
          "execution_count": 131
        }
      ]
    },
    {
      "cell_type": "code",
      "metadata": {
        "id": "hlz3YSrsk-AL"
      },
      "source": [
        "def dist_l1n(p1,p2) :\n",
        "    return np.abs(p1[0] - p2[0]) + np.abs(p1[1] - p2[1])"
      ],
      "execution_count": null,
      "outputs": []
    },
    {
      "cell_type": "code",
      "metadata": {
        "colab": {
          "base_uri": "https://localhost:8080/"
        },
        "id": "Y4bdAA6Qltvb",
        "outputId": "ab568948-4a69-46cf-c7a2-4e0b6304995c"
      },
      "source": [
        "dist_l1n(data1[0,:],data1[1,:])"
      ],
      "execution_count": null,
      "outputs": [
        {
          "output_type": "execute_result",
          "data": {
            "text/plain": [
              "5"
            ]
          },
          "metadata": {},
          "execution_count": 133
        }
      ]
    },
    {
      "cell_type": "markdown",
      "metadata": {
        "id": "g5E7o76vqAtx"
      },
      "source": [
        "## **HW11**\n",
        "\n",
        "1. Function คำนวณ manhattan distance ของ ข้อมูล N dimensions\n",
        "2. Function คำนวณ L-$\\infty$ ของ ข้อมูล N dimensions\n",
        "3. Function คำนวณ Distance Matrix ด้วย Euclidean Distance"
      ]
    },
    {
      "cell_type": "markdown",
      "metadata": {
        "id": "-mQ_0V4qqNGp"
      },
      "source": [
        "**1. Function คำนวณ manhattan distance ของ ข้อมูล N dimensions**"
      ]
    },
    {
      "cell_type": "markdown",
      "metadata": {
        "id": "2uQWhrj_nwV5"
      },
      "source": [
        "Dimention = n"
      ]
    },
    {
      "cell_type": "code",
      "metadata": {
        "id": "sy2VpgOtn31r"
      },
      "source": [
        "def dist_l1_n(p1,p2) :\n",
        "    sum = 0\n",
        "    for i in range(len(p1)) :\n",
        "        sum = sum + np.abs(p1[i]-p2[i])\n",
        "    return np.abs(sum)"
      ],
      "execution_count": null,
      "outputs": []
    },
    {
      "cell_type": "code",
      "metadata": {
        "id": "hLr210B5oF8L",
        "colab": {
          "base_uri": "https://localhost:8080/"
        },
        "outputId": "01f023d6-74ef-4843-abdc-3ed27a969180"
      },
      "source": [
        "dist_l1_n(data1[0,:],data1[1,:])"
      ],
      "execution_count": null,
      "outputs": [
        {
          "output_type": "execute_result",
          "data": {
            "text/plain": [
              "5"
            ]
          },
          "metadata": {},
          "execution_count": 135
        }
      ]
    },
    {
      "cell_type": "markdown",
      "metadata": {
        "id": "JcziZRXjqRLZ"
      },
      "source": [
        "**2. Function คำนวณ L-$\\infty$ ของ ข้อมูล N dimensions**"
      ]
    },
    {
      "cell_type": "markdown",
      "metadata": {
        "id": "7NK71LIvaHtG"
      },
      "source": [
        "Dimention = 2"
      ]
    },
    {
      "cell_type": "code",
      "metadata": {
        "id": "gbY0toT5aNPY"
      },
      "source": [
        "def dist_lim(p1,p2) :\n",
        "   return np.maximum((np.abs(p1[0] - p2[0])),(np.abs(p1[1] - p2[1])))"
      ],
      "execution_count": null,
      "outputs": []
    },
    {
      "cell_type": "code",
      "metadata": {
        "id": "aUZ6gBOCetT2",
        "colab": {
          "base_uri": "https://localhost:8080/"
        },
        "outputId": "60f4669a-ebb0-468e-e8f7-25a600ec2347"
      },
      "source": [
        "dist_lim(data1[0,:],data1[1,:])"
      ],
      "execution_count": null,
      "outputs": [
        {
          "output_type": "execute_result",
          "data": {
            "text/plain": [
              "3"
            ]
          },
          "metadata": {},
          "execution_count": 137
        }
      ]
    },
    {
      "cell_type": "markdown",
      "metadata": {
        "id": "smUo6L3f6VqF"
      },
      "source": [
        "Dimention = n"
      ]
    },
    {
      "cell_type": "code",
      "metadata": {
        "id": "yPDgjGKioVqs"
      },
      "source": [
        "# เฉลย - แก้ไขเพิ่มเติมข้อ 2\n",
        "def dist_lim(p1,p2) :\n",
        "    maxv = -100000\n",
        "    for i in range(len(p1)) :\n",
        "        this_dist = np.abs(p1[i]-p2[i])\n",
        "        if this_dist > maxv:\n",
        "            maxv = this_dist\n",
        "    return maxv"
      ],
      "execution_count": null,
      "outputs": []
    },
    {
      "cell_type": "code",
      "metadata": {
        "id": "L-UKLKq95x7z",
        "colab": {
          "base_uri": "https://localhost:8080/"
        },
        "outputId": "2a0176c1-3433-4d00-880c-ad29ef111c57"
      },
      "source": [
        "dist_lim(data1[0,:],data1[1,:])"
      ],
      "execution_count": null,
      "outputs": [
        {
          "output_type": "execute_result",
          "data": {
            "text/plain": [
              "3"
            ]
          },
          "metadata": {},
          "execution_count": 139
        }
      ]
    },
    {
      "cell_type": "code",
      "metadata": {
        "colab": {
          "base_uri": "https://localhost:8080/"
        },
        "id": "HyKM5kyGJjkS",
        "outputId": "f97433da-e346-45d7-b68b-b387558b7647"
      },
      "source": [
        "dist_lim([-20,2,7],[0,5,9]) # ลองสร้างเมทริกขึ้นมาใหม่ "
      ],
      "execution_count": null,
      "outputs": [
        {
          "output_type": "execute_result",
          "data": {
            "text/plain": [
              "20"
            ]
          },
          "metadata": {},
          "execution_count": 140
        }
      ]
    },
    {
      "cell_type": "markdown",
      "metadata": {
        "id": "E8HrZExmqTXR"
      },
      "source": [
        "**3. Function คำนวณ Distance Matrix ด้วย Euclidean Distance**"
      ]
    },
    {
      "cell_type": "code",
      "metadata": {
        "id": "97QDKonMqV6R"
      },
      "source": [
        "# เฉลย - แก้ไขเพิ่มเติมข้อ 3\n",
        "def dist_mat_eud(data) :\n",
        "    d_mat = np.zeros((data.shape[0],data.shape[0]))\n",
        "    for i in range(data.shape[0]) :\n",
        "        for j in range(data.shape[0]) :\n",
        "            d_mat[i,j] = dist_l2_n(data[i,:],data[j,:])\n",
        "    return d_mat"
      ],
      "execution_count": null,
      "outputs": []
    },
    {
      "cell_type": "code",
      "metadata": {
        "colab": {
          "base_uri": "https://localhost:8080/"
        },
        "id": "ivn5mtxPNvtb",
        "outputId": "a7461917-0a79-412c-e6ef-e2e858cc7d52"
      },
      "source": [
        "dist_mat_eud(data1)"
      ],
      "execution_count": null,
      "outputs": [
        {
          "output_type": "execute_result",
          "data": {
            "text/plain": [
              "array([[0.        , 3.60555128, 2.23606798, 4.24264069],\n",
              "       [3.60555128, 0.        , 5.09901951, 1.        ],\n",
              "       [2.23606798, 5.09901951, 0.        , 5.38516481],\n",
              "       [4.24264069, 1.        , 5.38516481, 0.        ]])"
            ]
          },
          "metadata": {},
          "execution_count": 142
        }
      ]
    },
    {
      "cell_type": "markdown",
      "metadata": {
        "id": "zDdmcAEFj5VX"
      },
      "source": [
        "##**Distance of Binary Value**"
      ]
    },
    {
      "cell_type": "markdown",
      "metadata": {
        "id": "LOrlV0SPkKNO"
      },
      "source": [
        "Create table"
      ]
    },
    {
      "cell_type": "markdown",
      "metadata": {
        "id": "ZbdskJ1vkrUH"
      },
      "source": [
        "![image.png](data:image/png;base64,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)"
      ]
    },
    {
      "cell_type": "code",
      "metadata": {
        "id": "85QoMA9RoLkL"
      },
      "source": [
        "import pandas as pd"
      ],
      "execution_count": null,
      "outputs": []
    },
    {
      "cell_type": "code",
      "metadata": {
        "colab": {
          "base_uri": "https://localhost:8080/",
          "height": 141
        },
        "id": "avSOYY22NzcU",
        "outputId": "8bd2450a-8d34-4e44-9902-eb4591ab8a2f"
      },
      "source": [
        "records = [['Jack',1,1,0,1,0,0,0],\n",
        "               ['Mary',0,1,0,1,0,1,0],\n",
        "               ['Jim',1,1,1,0,0,0,0]]\n",
        "labels = ['Name','Gender','Fever','Cough','Test-1','Test-2','Test-3','Test-4']\n",
        "\n",
        "binary_table = pd.DataFrame.from_records(records,columns=labels)\n",
        "binary_table"
      ],
      "execution_count": null,
      "outputs": [
        {
          "output_type": "execute_result",
          "data": {
            "text/html": [
              "<div>\n",
              "<style scoped>\n",
              "    .dataframe tbody tr th:only-of-type {\n",
              "        vertical-align: middle;\n",
              "    }\n",
              "\n",
              "    .dataframe tbody tr th {\n",
              "        vertical-align: top;\n",
              "    }\n",
              "\n",
              "    .dataframe thead th {\n",
              "        text-align: right;\n",
              "    }\n",
              "</style>\n",
              "<table border=\"1\" class=\"dataframe\">\n",
              "  <thead>\n",
              "    <tr style=\"text-align: right;\">\n",
              "      <th></th>\n",
              "      <th>Name</th>\n",
              "      <th>Gender</th>\n",
              "      <th>Fever</th>\n",
              "      <th>Cough</th>\n",
              "      <th>Test-1</th>\n",
              "      <th>Test-2</th>\n",
              "      <th>Test-3</th>\n",
              "      <th>Test-4</th>\n",
              "    </tr>\n",
              "  </thead>\n",
              "  <tbody>\n",
              "    <tr>\n",
              "      <th>0</th>\n",
              "      <td>Jack</td>\n",
              "      <td>1</td>\n",
              "      <td>1</td>\n",
              "      <td>0</td>\n",
              "      <td>1</td>\n",
              "      <td>0</td>\n",
              "      <td>0</td>\n",
              "      <td>0</td>\n",
              "    </tr>\n",
              "    <tr>\n",
              "      <th>1</th>\n",
              "      <td>Mary</td>\n",
              "      <td>0</td>\n",
              "      <td>1</td>\n",
              "      <td>0</td>\n",
              "      <td>1</td>\n",
              "      <td>0</td>\n",
              "      <td>1</td>\n",
              "      <td>0</td>\n",
              "    </tr>\n",
              "    <tr>\n",
              "      <th>2</th>\n",
              "      <td>Jim</td>\n",
              "      <td>1</td>\n",
              "      <td>1</td>\n",
              "      <td>1</td>\n",
              "      <td>0</td>\n",
              "      <td>0</td>\n",
              "      <td>0</td>\n",
              "      <td>0</td>\n",
              "    </tr>\n",
              "  </tbody>\n",
              "</table>\n",
              "</div>"
            ],
            "text/plain": [
              "   Name  Gender  Fever  Cough  Test-1  Test-2  Test-3  Test-4\n",
              "0  Jack       1      1      0       1       0       0       0\n",
              "1  Mary       0      1      0       1       0       1       0\n",
              "2   Jim       1      1      1       0       0       0       0"
            ]
          },
          "metadata": {},
          "execution_count": 145
        }
      ]
    },
    {
      "cell_type": "code",
      "metadata": {
        "id": "P-QB5y_roJYZ"
      },
      "source": [
        "def dist_binary_symmetric(p1,p2) :\n",
        "    q = 0\n",
        "    r = 0\n",
        "    s = 0\n",
        "    t = 0\n",
        "    \n",
        "    for i in range(len(p1)) :\n",
        "        if (p1[i] == 1) and (p2[i] == 1) :\n",
        "            q = q+1\n",
        "\n",
        "        if (p1[i] == 0) and (p2[i] == 1) :\n",
        "            r = r+1\n",
        "\n",
        "        if (p1[i] == 1) and (p2[i] == 0) :\n",
        "            s = s+1\n",
        "\n",
        "        if (p1[i] == 0) and (p2[i] == 0) :\n",
        "            t = t+1\n",
        "    return (r+s)/(q+r+s+t)\n",
        "    "
      ],
      "execution_count": null,
      "outputs": []
    },
    {
      "cell_type": "code",
      "metadata": {
        "id": "G26quI1JsCco",
        "colab": {
          "base_uri": "https://localhost:8080/"
        },
        "outputId": "97a20f2c-dc44-4ff4-b71b-115b52501719"
      },
      "source": [
        "# d (Jack,Mary)\n",
        "dist_binary_symmetric(binary_table.iloc[0,1:],binary_table.iloc[1,1:]) # คอลัมน์ที่ 0 ไม่เอา เอาตั้งแต่คอลัมน์ที่ 1 เป็นต้นไป"
      ],
      "execution_count": null,
      "outputs": [
        {
          "output_type": "execute_result",
          "data": {
            "text/plain": [
              "0.2857142857142857"
            ]
          },
          "metadata": {},
          "execution_count": 150
        }
      ]
    },
    {
      "cell_type": "code",
      "metadata": {
        "id": "PNtb48UPs0f5"
      },
      "source": [
        ""
      ],
      "execution_count": null,
      "outputs": []
    }
  ]
}