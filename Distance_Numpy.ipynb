{
  "nbformat": 4,
  "nbformat_minor": 0,
  "metadata": {
    "colab": {
      "name": "Distance Numpy.ipynb",
      "provenance": [],
      "authorship_tag": "ABX9TyPESv7VZRk0SEBJ0+9GYbhJ",
      "include_colab_link": true
    },
    "kernelspec": {
      "name": "python3",
      "display_name": "Python 3"
    },
    "language_info": {
      "name": "python"
    }
  },
  "cells": [
    {
      "cell_type": "markdown",
      "metadata": {
        "id": "view-in-github",
        "colab_type": "text"
      },
      "source": [
        "<a href=\"https://colab.research.google.com/github/Wikanda-Hongboonmee/DWDM21/blob/main/Distance_Numpy.ipynb\" target=\"_parent\"><img src=\"https://colab.research.google.com/assets/colab-badge.svg\" alt=\"Open In Colab\"/></a>"
      ]
    },
    {
      "cell_type": "code",
      "metadata": {
        "id": "IiZMl7OedCy1"
      },
      "source": [
        "import numpy as np # เป็น package สำหรับทำงานกับข้อมูลที่เป็นตัวเลข ที่อยู่ในรูปของ Matrix"
      ],
      "execution_count": 1,
      "outputs": []
    },
    {
      "cell_type": "markdown",
      "metadata": {
        "id": "RouK2Ytfdk3b"
      },
      "source": [
        "#**Numpy Array**"
      ]
    },
    {
      "cell_type": "markdown",
      "metadata": {
        "id": "6zOEsG5Udrd2"
      },
      "source": [
        "### สร้าง Numpy Array (Matrix)"
      ]
    },
    {
      "cell_type": "code",
      "metadata": {
        "id": "ijjwkJa0dpzm"
      },
      "source": [
        "np_a = np.array([[1,2,3],[4,5,6]]) # สร้าง numpy array ที่มี 2 แถว 3 หลัก"
      ],
      "execution_count": 2,
      "outputs": []
    },
    {
      "cell_type": "code",
      "metadata": {
        "colab": {
          "base_uri": "https://localhost:8080/"
        },
        "id": "WCmGQh3pd6aG",
        "outputId": "f7da882f-c574-40f6-8c1a-175fd9073e2d"
      },
      "source": [
        "np_a"
      ],
      "execution_count": 3,
      "outputs": [
        {
          "output_type": "execute_result",
          "data": {
            "text/plain": [
              "array([[1, 2, 3],\n",
              "       [4, 5, 6]])"
            ]
          },
          "metadata": {},
          "execution_count": 3
        }
      ]
    },
    {
      "cell_type": "code",
      "metadata": {
        "colab": {
          "base_uri": "https://localhost:8080/"
        },
        "id": "b3RPMHzWd_2X",
        "outputId": "d596f547-d023-409d-d3a2-f41280c2c7f7"
      },
      "source": [
        "np_a.shape # ตรวจสอบขนาดของ Matrix"
      ],
      "execution_count": 4,
      "outputs": [
        {
          "output_type": "execute_result",
          "data": {
            "text/plain": [
              "(2, 3)"
            ]
          },
          "metadata": {},
          "execution_count": 4
        }
      ]
    },
    {
      "cell_type": "code",
      "metadata": {
        "colab": {
          "base_uri": "https://localhost:8080/"
        },
        "id": "OofnfqRiePb3",
        "outputId": "d52ad865-6478-4939-e888-95d02a49a484"
      },
      "source": [
        "np_b = np.array([[1,4],[2,5],[3,6]]) # สร้าง numpy array ที่มี 3 แถว 2 หลัก\n",
        "np_b"
      ],
      "execution_count": 5,
      "outputs": [
        {
          "output_type": "execute_result",
          "data": {
            "text/plain": [
              "array([[1, 4],\n",
              "       [2, 5],\n",
              "       [3, 6]])"
            ]
          },
          "metadata": {},
          "execution_count": 5
        }
      ]
    },
    {
      "cell_type": "markdown",
      "metadata": {
        "id": "fYX5s5Quen6F"
      },
      "source": [
        "matrix transpose"
      ]
    },
    {
      "cell_type": "code",
      "metadata": {
        "colab": {
          "base_uri": "https://localhost:8080/"
        },
        "id": "ATcytP17ebFv",
        "outputId": "06620f4b-e3e3-4681-a5c8-a6f49f522cba"
      },
      "source": [
        "np_a.T  # Transpose - สลับแถวเป็นหลัก หลักเป็นแถว"
      ],
      "execution_count": 6,
      "outputs": [
        {
          "output_type": "execute_result",
          "data": {
            "text/plain": [
              "array([[1, 4],\n",
              "       [2, 5],\n",
              "       [3, 6]])"
            ]
          },
          "metadata": {},
          "execution_count": 6
        }
      ]
    },
    {
      "cell_type": "markdown",
      "metadata": {
        "id": "ZiFBmiTqe964"
      },
      "source": [
        "### สร้าง matrix เริ่มต้น (zeros, ones)"
      ]
    },
    {
      "cell_type": "code",
      "metadata": {
        "colab": {
          "base_uri": "https://localhost:8080/"
        },
        "id": "8014GjxGes4I",
        "outputId": "39cd782f-4989-4b67-bb2f-6037b83d0831"
      },
      "source": [
        "np_z = np.zeros((4,5))\n",
        "np_z"
      ],
      "execution_count": 7,
      "outputs": [
        {
          "output_type": "execute_result",
          "data": {
            "text/plain": [
              "array([[0., 0., 0., 0., 0.],\n",
              "       [0., 0., 0., 0., 0.],\n",
              "       [0., 0., 0., 0., 0.],\n",
              "       [0., 0., 0., 0., 0.]])"
            ]
          },
          "metadata": {},
          "execution_count": 7
        }
      ]
    },
    {
      "cell_type": "code",
      "metadata": {
        "colab": {
          "base_uri": "https://localhost:8080/"
        },
        "id": "X8lGm3nifj5A",
        "outputId": "d1b6ebed-15cb-44f2-8181-53543bb397dc"
      },
      "source": [
        "np_o = np.ones((5,6))\n",
        "np_o"
      ],
      "execution_count": 8,
      "outputs": [
        {
          "output_type": "execute_result",
          "data": {
            "text/plain": [
              "array([[1., 1., 1., 1., 1., 1.],\n",
              "       [1., 1., 1., 1., 1., 1.],\n",
              "       [1., 1., 1., 1., 1., 1.],\n",
              "       [1., 1., 1., 1., 1., 1.],\n",
              "       [1., 1., 1., 1., 1., 1.]])"
            ]
          },
          "metadata": {},
          "execution_count": 8
        }
      ]
    },
    {
      "cell_type": "code",
      "metadata": {
        "colab": {
          "base_uri": "https://localhost:8080/"
        },
        "id": "3ZE1va1gfo67",
        "outputId": "ddb6c95f-1609-43d7-b1ee-0ea341c73df3"
      },
      "source": [
        "np_200 = 200*np.ones((4,7))\n",
        "np_200"
      ],
      "execution_count": 9,
      "outputs": [
        {
          "output_type": "execute_result",
          "data": {
            "text/plain": [
              "array([[200., 200., 200., 200., 200., 200., 200.],\n",
              "       [200., 200., 200., 200., 200., 200., 200.],\n",
              "       [200., 200., 200., 200., 200., 200., 200.],\n",
              "       [200., 200., 200., 200., 200., 200., 200.]])"
            ]
          },
          "metadata": {},
          "execution_count": 9
        }
      ]
    },
    {
      "cell_type": "markdown",
      "metadata": {
        "id": "uEqg3J3egsh2"
      },
      "source": [
        "### สร้าง matrix random"
      ]
    },
    {
      "cell_type": "code",
      "metadata": {
        "colab": {
          "base_uri": "https://localhost:8080/"
        },
        "id": "CpK140oSgDAZ",
        "outputId": "12657329-0f56-425f-b92e-26928cdf730e"
      },
      "source": [
        "np.random.randn(5,5) # random เลขมาจาก normal distribution ที่มี mu = 0 std = 1"
      ],
      "execution_count": 10,
      "outputs": [
        {
          "output_type": "execute_result",
          "data": {
            "text/plain": [
              "array([[ 3.85263976e-01,  3.30749944e-01, -1.96085771e+00,\n",
              "         2.94981335e-01, -3.41314889e-01],\n",
              "       [ 2.68252663e-01,  3.89250474e-01,  6.50734671e-01,\n",
              "        -1.59255596e-03, -1.28675625e-01],\n",
              "       [-3.68307470e-01, -4.12422486e-01,  1.53169458e+00,\n",
              "        -2.41290305e+00, -7.87149597e-01],\n",
              "       [-4.05663817e-02,  6.61674044e-01,  5.24970331e-03,\n",
              "        -2.81293571e+00, -4.64888345e-01],\n",
              "       [-8.63920820e-01,  1.03058397e+00,  1.06860708e+00,\n",
              "        -2.59473121e-01, -7.03349002e-01]])"
            ]
          },
          "metadata": {},
          "execution_count": 10
        }
      ]
    },
    {
      "cell_type": "code",
      "metadata": {
        "colab": {
          "base_uri": "https://localhost:8080/"
        },
        "id": "T_ME1vTMhCTc",
        "outputId": "0f5582fa-595f-49ad-c244-e804cf2f3348"
      },
      "source": [
        "2+(5*np.random.randn(3,3)) # random เลขมาจาก normal distribution ที่มี mu = 2 std = 5"
      ],
      "execution_count": 11,
      "outputs": [
        {
          "output_type": "execute_result",
          "data": {
            "text/plain": [
              "array([[-0.90725602, -4.31040743, -0.18076038],\n",
              "       [ 4.39454585,  9.4644066 , 10.76488212],\n",
              "       [ 9.74409789,  4.20009617,  1.16162534]])"
            ]
          },
          "metadata": {},
          "execution_count": 11
        }
      ]
    },
    {
      "cell_type": "code",
      "metadata": {
        "colab": {
          "base_uri": "https://localhost:8080/"
        },
        "id": "6qbEmZB7hLNm",
        "outputId": "cb2129ae-26fd-4599-ebc4-d2e617c4d7a4"
      },
      "source": [
        "np.random.randint(5,11,(4,5)) # random เลขจำนวนเต็มระหว่าง 5 ถึง 11 [5,11) ขนาด (4x5)"
      ],
      "execution_count": 12,
      "outputs": [
        {
          "output_type": "execute_result",
          "data": {
            "text/plain": [
              "array([[ 7,  9,  8,  9,  8],\n",
              "       [ 6,  8,  8,  7, 10],\n",
              "       [10,  8, 10,  6,  7],\n",
              "       [10,  5,  8,  7,  6]])"
            ]
          },
          "metadata": {},
          "execution_count": 12
        }
      ]
    },
    {
      "cell_type": "markdown",
      "metadata": {
        "id": "1mU2D4muOrwT"
      },
      "source": [
        "matrix properties"
      ]
    },
    {
      "cell_type": "code",
      "metadata": {
        "id": "FiT3bGSlhhdW",
        "colab": {
          "base_uri": "https://localhost:8080/"
        },
        "outputId": "6e1f6fa7-e4d6-4f5d-f120-9ac572157f42"
      },
      "source": [
        "np_a"
      ],
      "execution_count": 13,
      "outputs": [
        {
          "output_type": "execute_result",
          "data": {
            "text/plain": [
              "array([[1, 2, 3],\n",
              "       [4, 5, 6]])"
            ]
          },
          "metadata": {},
          "execution_count": 13
        }
      ]
    },
    {
      "cell_type": "code",
      "metadata": {
        "colab": {
          "base_uri": "https://localhost:8080/"
        },
        "id": "KpCKQGPhOxJZ",
        "outputId": "4c59b23f-3ab7-4173-acea-93497026dc24"
      },
      "source": [
        "np_a.T # Transpose"
      ],
      "execution_count": 14,
      "outputs": [
        {
          "output_type": "execute_result",
          "data": {
            "text/plain": [
              "array([[1, 4],\n",
              "       [2, 5],\n",
              "       [3, 6]])"
            ]
          },
          "metadata": {},
          "execution_count": 14
        }
      ]
    },
    {
      "cell_type": "code",
      "metadata": {
        "colab": {
          "base_uri": "https://localhost:8080/"
        },
        "id": "u4SUC54OOyrl",
        "outputId": "1d455706-8adf-4521-cca8-94a40bda1770"
      },
      "source": [
        "1 + np_a # add scalar to matrix จะบวกไปทุกๆตัวใน matrix"
      ],
      "execution_count": 15,
      "outputs": [
        {
          "output_type": "execute_result",
          "data": {
            "text/plain": [
              "array([[2, 3, 4],\n",
              "       [5, 6, 7]])"
            ]
          },
          "metadata": {},
          "execution_count": 15
        }
      ]
    },
    {
      "cell_type": "code",
      "metadata": {
        "colab": {
          "base_uri": "https://localhost:8080/"
        },
        "id": "v6oJ9piBPAe0",
        "outputId": "1488cefe-4c91-432f-e40b-285bbac993bd"
      },
      "source": [
        "2*np_a # multiply scalar to matrix จะคูณไปทุกๆตัวของ matrix"
      ],
      "execution_count": 16,
      "outputs": [
        {
          "output_type": "execute_result",
          "data": {
            "text/plain": [
              "array([[ 2,  4,  6],\n",
              "       [ 8, 10, 12]])"
            ]
          },
          "metadata": {},
          "execution_count": 16
        }
      ]
    },
    {
      "cell_type": "code",
      "metadata": {
        "colab": {
          "base_uri": "https://localhost:8080/"
        },
        "id": "ip5V__YGPMms",
        "outputId": "de130391-ffb8-4ea2-845d-7b5bdb8412d9"
      },
      "source": [
        "np_c = np.array([[6,5,4],[3,2,1]])\n",
        "np_c"
      ],
      "execution_count": 17,
      "outputs": [
        {
          "output_type": "execute_result",
          "data": {
            "text/plain": [
              "array([[6, 5, 4],\n",
              "       [3, 2, 1]])"
            ]
          },
          "metadata": {},
          "execution_count": 17
        }
      ]
    },
    {
      "cell_type": "code",
      "metadata": {
        "colab": {
          "base_uri": "https://localhost:8080/"
        },
        "id": "zlfNA9-ePadY",
        "outputId": "f3451161-7ab9-43e9-e133-edf7f42db3f9"
      },
      "source": [
        "np_a + np_c # adding matrix to matrix"
      ],
      "execution_count": 18,
      "outputs": [
        {
          "output_type": "execute_result",
          "data": {
            "text/plain": [
              "array([[7, 7, 7],\n",
              "       [7, 7, 7]])"
            ]
          },
          "metadata": {},
          "execution_count": 18
        }
      ]
    },
    {
      "cell_type": "code",
      "metadata": {
        "colab": {
          "base_uri": "https://localhost:8080/"
        },
        "id": "CY96zzLxPhTV",
        "outputId": "019dbf18-2c82-495f-c4ea-2ce6b0db88f7"
      },
      "source": [
        "np_a.shape"
      ],
      "execution_count": 19,
      "outputs": [
        {
          "output_type": "execute_result",
          "data": {
            "text/plain": [
              "(2, 3)"
            ]
          },
          "metadata": {},
          "execution_count": 19
        }
      ]
    },
    {
      "cell_type": "code",
      "metadata": {
        "colab": {
          "base_uri": "https://localhost:8080/"
        },
        "id": "B3v--69EQHmu",
        "outputId": "02a57314-1cda-4b8c-f391-d07a2d3aab3a"
      },
      "source": [
        "np_c.shape"
      ],
      "execution_count": 20,
      "outputs": [
        {
          "output_type": "execute_result",
          "data": {
            "text/plain": [
              "(2, 3)"
            ]
          },
          "metadata": {},
          "execution_count": 20
        }
      ]
    },
    {
      "cell_type": "code",
      "metadata": {
        "colab": {
          "base_uri": "https://localhost:8080/"
        },
        "id": "yzcnbD4SQk7T",
        "outputId": "889e21f1-b69f-456f-9a2e-7f53568246d3"
      },
      "source": [
        "np_c.T.shape"
      ],
      "execution_count": 21,
      "outputs": [
        {
          "output_type": "execute_result",
          "data": {
            "text/plain": [
              "(3, 2)"
            ]
          },
          "metadata": {},
          "execution_count": 21
        }
      ]
    },
    {
      "cell_type": "markdown",
      "metadata": {
        "id": "QSZhtg5eRMmJ"
      },
      "source": [
        "![image.png](data:image/png;base64,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)"
      ]
    },
    {
      "cell_type": "code",
      "metadata": {
        "colab": {
          "base_uri": "https://localhost:8080/"
        },
        "id": "kPjkPyJuQJ4e",
        "outputId": "4a30b23f-824f-46bd-b2ed-f2fbfb40da5e"
      },
      "source": [
        "np.dot(np_a,np_c.T) # multipling matrix to matrix (a,b) x (b,c) = (a,c)"
      ],
      "execution_count": 22,
      "outputs": [
        {
          "output_type": "execute_result",
          "data": {
            "text/plain": [
              "array([[28, 10],\n",
              "       [73, 28]])"
            ]
          },
          "metadata": {},
          "execution_count": 22
        }
      ]
    },
    {
      "cell_type": "markdown",
      "metadata": {
        "id": "5-5-MvS5RPFI"
      },
      "source": [
        "## Indexing & Slicing ( Index - ชี้,  Slice - ตัด )"
      ]
    },
    {
      "cell_type": "code",
      "metadata": {
        "colab": {
          "base_uri": "https://localhost:8080/"
        },
        "id": "YgrvyY6aQUm_",
        "outputId": "9ba3bc81-f94d-4e4e-f956-d368e87fdec7"
      },
      "source": [
        "np_a"
      ],
      "execution_count": 23,
      "outputs": [
        {
          "output_type": "execute_result",
          "data": {
            "text/plain": [
              "array([[1, 2, 3],\n",
              "       [4, 5, 6]])"
            ]
          },
          "metadata": {},
          "execution_count": 23
        }
      ]
    },
    {
      "cell_type": "code",
      "metadata": {
        "colab": {
          "base_uri": "https://localhost:8080/"
        },
        "id": "wgdYZ5atR739",
        "outputId": "9d68be9b-3094-4ab1-e9ce-600dc9eef0f0"
      },
      "source": [
        "np_a[1,1] # เริ่มนับตั้งแต่แถวที่ 0 หลักที่ 0"
      ],
      "execution_count": 24,
      "outputs": [
        {
          "output_type": "execute_result",
          "data": {
            "text/plain": [
              "5"
            ]
          },
          "metadata": {},
          "execution_count": 24
        }
      ]
    },
    {
      "cell_type": "code",
      "metadata": {
        "colab": {
          "base_uri": "https://localhost:8080/"
        },
        "id": "Zh0PxUfmR-XP",
        "outputId": "c73b03f4-c20a-48fa-b750-90143866be7f"
      },
      "source": [
        "np_a[:2,:2]"
      ],
      "execution_count": 25,
      "outputs": [
        {
          "output_type": "execute_result",
          "data": {
            "text/plain": [
              "array([[1, 2],\n",
              "       [4, 5]])"
            ]
          },
          "metadata": {},
          "execution_count": 25
        }
      ]
    },
    {
      "cell_type": "code",
      "metadata": {
        "colab": {
          "base_uri": "https://localhost:8080/"
        },
        "id": "cME0-OhHSUcV",
        "outputId": "dc0c4e98-4f35-4c7a-d9e6-d37b3154778b"
      },
      "source": [
        "np_a[0,:]"
      ],
      "execution_count": 26,
      "outputs": [
        {
          "output_type": "execute_result",
          "data": {
            "text/plain": [
              "array([1, 2, 3])"
            ]
          },
          "metadata": {},
          "execution_count": 26
        }
      ]
    },
    {
      "cell_type": "markdown",
      "metadata": {
        "id": "XhmC3uflSvua"
      },
      "source": [
        "### Useful functions"
      ]
    },
    {
      "cell_type": "code",
      "metadata": {
        "colab": {
          "base_uri": "https://localhost:8080/"
        },
        "id": "ZmTiHTEPTWed",
        "outputId": "7ab7a094-ec36-4b4b-9492-e5068c336291"
      },
      "source": [
        "np_a"
      ],
      "execution_count": 27,
      "outputs": [
        {
          "output_type": "execute_result",
          "data": {
            "text/plain": [
              "array([[1, 2, 3],\n",
              "       [4, 5, 6]])"
            ]
          },
          "metadata": {},
          "execution_count": 27
        }
      ]
    },
    {
      "cell_type": "code",
      "metadata": {
        "colab": {
          "base_uri": "https://localhost:8080/"
        },
        "id": "4z4muhxRSXNm",
        "outputId": "ea2f5a7f-b85d-4a0b-a2fc-b6ba6b0f4806"
      },
      "source": [
        "np.sum(np_a) # เอาเลขทุกๆตัวใน np_a มารวมกัน"
      ],
      "execution_count": 28,
      "outputs": [
        {
          "output_type": "execute_result",
          "data": {
            "text/plain": [
              "21"
            ]
          },
          "metadata": {},
          "execution_count": 28
        }
      ]
    },
    {
      "cell_type": "code",
      "metadata": {
        "colab": {
          "base_uri": "https://localhost:8080/"
        },
        "id": "RJUdJSFiS2mU",
        "outputId": "4b34b306-eadc-4356-e42f-0d98939f48ca"
      },
      "source": [
        "np.sum(np_a,axis=0) # axis เป็นการเลือกแกนว่าจะให้ sum ในแนวแกนไหน (0 = แกนนอน)"
      ],
      "execution_count": 29,
      "outputs": [
        {
          "output_type": "execute_result",
          "data": {
            "text/plain": [
              "array([5, 7, 9])"
            ]
          },
          "metadata": {},
          "execution_count": 29
        }
      ]
    },
    {
      "cell_type": "code",
      "metadata": {
        "colab": {
          "base_uri": "https://localhost:8080/"
        },
        "id": "gkQGj64oTJI_",
        "outputId": "5be28329-3d47-4e06-d2b0-6e9fafa24ce9"
      },
      "source": [
        "np.sum(np_a,axis=1) # axis เป็นการเลือกแกนว่าจะให้ sum ในแนวแกนไหน (1 = แกนตั้ง)"
      ],
      "execution_count": 30,
      "outputs": [
        {
          "output_type": "execute_result",
          "data": {
            "text/plain": [
              "array([ 6, 15])"
            ]
          },
          "metadata": {},
          "execution_count": 30
        }
      ]
    },
    {
      "cell_type": "code",
      "metadata": {
        "colab": {
          "base_uri": "https://localhost:8080/"
        },
        "id": "YaibeqkNTTQF",
        "outputId": "dd948f30-c26b-4833-f7be-e844182a0e10"
      },
      "source": [
        "np.mean(np_a)"
      ],
      "execution_count": 31,
      "outputs": [
        {
          "output_type": "execute_result",
          "data": {
            "text/plain": [
              "3.5"
            ]
          },
          "metadata": {},
          "execution_count": 31
        }
      ]
    },
    {
      "cell_type": "code",
      "metadata": {
        "colab": {
          "base_uri": "https://localhost:8080/"
        },
        "id": "xOreF5t4TcrK",
        "outputId": "0b68cebf-4f5a-452c-a1f3-c940c460cdff"
      },
      "source": [
        "np.mean(np_a,axis=0) # หา mean ของคอลัมน์"
      ],
      "execution_count": 32,
      "outputs": [
        {
          "output_type": "execute_result",
          "data": {
            "text/plain": [
              "array([2.5, 3.5, 4.5])"
            ]
          },
          "metadata": {},
          "execution_count": 32
        }
      ]
    },
    {
      "cell_type": "markdown",
      "metadata": {
        "id": "Mj2dPLV-UvkV"
      },
      "source": [
        "### วนลูปเอง"
      ]
    },
    {
      "cell_type": "markdown",
      "metadata": {
        "id": "3bs7CwsnVBEH"
      },
      "source": [
        "summation"
      ]
    },
    {
      "cell_type": "markdown",
      "metadata": {
        "id": "hNAkr0HAW7ly"
      },
      "source": [
        "np.sum(np_a)"
      ]
    },
    {
      "cell_type": "code",
      "metadata": {
        "colab": {
          "base_uri": "https://localhost:8080/"
        },
        "id": "FvuY6X6YTqTY",
        "outputId": "73c149f1-996a-4098-e246-4c9d53d91a6b"
      },
      "source": [
        "# การวนลูปใน numpy array วิ่งไปตามแถวกับไปตามหลัก\n",
        "sum_all = 0\n",
        "for row in range(np_a.shape[0]) : # วนในแถว\n",
        "    for column in range(np_a.shape[1]) : # วนในหลัก\n",
        "        sum_all = sum_all + np_a[row,column]\n",
        "        print(f'we are at row={row},column={column} np_a[{row},{column}]={np_a[row,column]}  sum_all={sum_all}')\n",
        "print(sum_all)"
      ],
      "execution_count": 33,
      "outputs": [
        {
          "output_type": "stream",
          "text": [
            "we are at row=0,column=0 np_a[0,0]=1  sum_all=1\n",
            "we are at row=0,column=1 np_a[0,1]=2  sum_all=3\n",
            "we are at row=0,column=2 np_a[0,2]=3  sum_all=6\n",
            "we are at row=1,column=0 np_a[1,0]=4  sum_all=10\n",
            "we are at row=1,column=1 np_a[1,1]=5  sum_all=15\n",
            "we are at row=1,column=2 np_a[1,2]=6  sum_all=21\n",
            "21\n"
          ],
          "name": "stdout"
        }
      ]
    },
    {
      "cell_type": "markdown",
      "metadata": {
        "id": "FVfKcyb0W2G7"
      },
      "source": [
        "np.sum(np_a,axis=0) บวกในแนวแกนนอน"
      ]
    },
    {
      "cell_type": "code",
      "metadata": {
        "colab": {
          "base_uri": "https://localhost:8080/"
        },
        "id": "inDuRLJxV_rE",
        "outputId": "d35348d8-60cf-4a02-9feb-15c8bd6d4a61"
      },
      "source": [
        "# การวนลูปใน numpy array วิ่งไปตามแถวกับไปตามหลัก\n",
        "sum_all = np.zeros(np_a.shape[1])\n",
        "for row in range(np_a.shape[0]) : # วนในแถว\n",
        "    for column in range(np_a.shape[1]) : # วนในหลัก\n",
        "        sum_all[column] = sum_all[column] + np_a[row,column]\n",
        "print(sum_all)"
      ],
      "execution_count": 34,
      "outputs": [
        {
          "output_type": "stream",
          "text": [
            "[5. 7. 9.]\n"
          ],
          "name": "stdout"
        }
      ]
    },
    {
      "cell_type": "markdown",
      "metadata": {
        "id": "gXCiJSZ6YVa0"
      },
      "source": [
        "Quiz กลุ่ม\n",
        "\n",
        "วนลูปหาค่า\n",
        "\n",
        "1. ```np.sum(np_a,axis=1)```\n",
        "2. ```np.mean(np_a)```\n",
        "3. ```np.mean(np_a,axis=0)```\n",
        "4. ```np.mean(np_a,axis=1)```\n",
        "5. np.max(np_a) \n",
        "6. np.max(np_a,axis=0) \n",
        "7. np.max(np_a,axis=1)\n",
        "8. np.min(np_a) \n",
        "9. np.min(np_a,axis=0) \n",
        "10. np.min(np_a,axis=1) \n",
        "\n"
      ]
    },
    {
      "cell_type": "markdown",
      "metadata": {
        "id": "1KlfVGSjXu5C"
      },
      "source": [
        "**1. np.sum(np_a,axis=1)** "
      ]
    },
    {
      "cell_type": "code",
      "metadata": {
        "colab": {
          "base_uri": "https://localhost:8080/"
        },
        "id": "icieKhQcXmTo",
        "outputId": "7b5cd8e2-a47e-49e5-f83d-f8ccd987f601"
      },
      "source": [
        "sum_all = np.zeros(np_a.shape[0])\n",
        "for row in range(np_a.shape[0]) : # วนในแถว\n",
        "    for column in range(np_a.shape[1]) : # วนในหลัก\n",
        "        sum_all[row] = sum_all[row] + np_a[row,column] \n",
        "print(sum_all)"
      ],
      "execution_count": 35,
      "outputs": [
        {
          "output_type": "stream",
          "text": [
            "[ 6. 15.]\n"
          ],
          "name": "stdout"
        }
      ]
    },
    {
      "cell_type": "markdown",
      "metadata": {
        "id": "ckiUt9BXoYzb"
      },
      "source": [
        "**2. np.mean(np_a)**"
      ]
    },
    {
      "cell_type": "code",
      "metadata": {
        "colab": {
          "base_uri": "https://localhost:8080/"
        },
        "id": "87Oryp8uoXZA",
        "outputId": "45b715b6-4b71-4908-e97d-10780f8fa185"
      },
      "source": [
        "mean_all = 0\n",
        "for row in range(np_a.shape[0]):\n",
        "    for col in range(np_a.shape[1]):\n",
        "        mean_all = mean_all + np_a[row,col]\n",
        "mean_all = mean_all/(np_a.shape[0]*np_a.shape[1])\n",
        "print(mean_all)"
      ],
      "execution_count": 36,
      "outputs": [
        {
          "output_type": "stream",
          "text": [
            "3.5\n"
          ],
          "name": "stdout"
        }
      ]
    },
    {
      "cell_type": "markdown",
      "metadata": {
        "id": "sJDHQbUrovMg"
      },
      "source": [
        "**3. np.mean(np_a,axis=0)**"
      ]
    },
    {
      "cell_type": "code",
      "metadata": {
        "colab": {
          "base_uri": "https://localhost:8080/"
        },
        "id": "9fW9aegmoybq",
        "outputId": "aaf2a86f-40a3-4b56-ddeb-92e75cdc4837"
      },
      "source": [
        "mean_all = np.zeros(np_a.shape[1])\n",
        "for row in range(np_a.shape[0]):\n",
        "     for col in range(np_a.shape[1]):\n",
        "          mean_all[col] = mean_all[col] + np_a[row,col]/np_a.shape[0]\n",
        "print(mean_all)"
      ],
      "execution_count": 37,
      "outputs": [
        {
          "output_type": "stream",
          "text": [
            "[2.5 3.5 4.5]\n"
          ],
          "name": "stdout"
        }
      ]
    },
    {
      "cell_type": "markdown",
      "metadata": {
        "id": "0lvDX29qpCjo"
      },
      "source": [
        "**4. np.mean(np_a,axis=1)**"
      ]
    },
    {
      "cell_type": "code",
      "metadata": {
        "id": "-ig_-uVfpGNH",
        "outputId": "399a2514-bafc-401f-a28c-230876a458d2",
        "colab": {
          "base_uri": "https://localhost:8080/"
        }
      },
      "source": [
        "sum_all = np.zeros(np_a.shape[0])\n",
        "for row in range(np_a.shape[0]):\n",
        "    for col in range(np_a.shape[1]): \n",
        "        sum_all[row] = sum_all[row] + np_a[row,col]\n",
        "sum_all = sum_all/np_a.shape[1]\n",
        "print(sum_all)"
      ],
      "execution_count": 38,
      "outputs": [
        {
          "output_type": "stream",
          "text": [
            "[2. 5.]\n"
          ],
          "name": "stdout"
        }
      ]
    },
    {
      "cell_type": "code",
      "metadata": {
        "id": "6xTa-ywSpI-4"
      },
      "source": [
        ""
      ],
      "execution_count": null,
      "outputs": []
    }
  ]
}