{
  "nbformat": 4,
  "nbformat_minor": 0,
  "metadata": {
    "colab": {
      "name": "Data101 (Chapter2).ipynb",
      "provenance": [],
      "authorship_tag": "ABX9TyPbw4CyoIdrhevxLbke9H8r",
      "include_colab_link": true
    },
    "kernelspec": {
      "name": "python3",
      "display_name": "Python 3"
    },
    "language_info": {
      "name": "python"
    }
  },
  "cells": [
    {
      "cell_type": "markdown",
      "metadata": {
        "id": "view-in-github",
        "colab_type": "text"
      },
      "source": [
        "<a href=\"https://colab.research.google.com/github/Wikanda-Hongboonmee/DWDM21/blob/main/Data101_(Chapter2).ipynb\" target=\"_parent\"><img src=\"https://colab.research.google.com/assets/colab-badge.svg\" alt=\"Open In Colab\"/></a>"
      ]
    },
    {
      "cell_type": "markdown",
      "metadata": {
        "id": "MYUs9470z3f4"
      },
      "source": [
        "ข้อความที่อยู่ใน **Textbox** จะเป็นภาษา **Markdown** คือ ใช้เครื่องหมายในการแสดงผล เช่น **#** ตัวใหญ่ * ตัวหนา"
      ]
    },
    {
      "cell_type": "markdown",
      "metadata": {
        "id": "utGNvn0ktm64"
      },
      "source": [
        "**ข้อดีหนึ่งของ Python** คือมี Package สำหรับการทำงานต่างๆมากมายให้เราเลือกใช้ \n",
        "\n",
        "ซึ่ง Pandas เป็น Package สำหรับการทำงานกับข้อมูลที่อยู่ในรูปแบบของตาราง \n",
        "\n",
        "โดย Pandas จะเรียกตารางนั้นว่า **Data Frame**"
      ]
    },
    {
      "cell_type": "code",
      "metadata": {
        "id": "_u4cT_OZrzss"
      },
      "source": [
        "import pandas  # เป็น Package ที่ใช้เกี่ยวกับการจัดการข้อมูล , เรียกใช้โดยการ import แล้วตามด้วยชื่อ Package"
      ],
      "execution_count": 1,
      "outputs": []
    },
    {
      "cell_type": "code",
      "metadata": {
        "id": "CUE6wuVTs7w4"
      },
      "source": [
        "import pandas as pd  # การ import package อีกแบบหนึ่ง เหมือนกับด้านบน แต่ว่ามีการตั้งชื่อให้กับ Package ที่โหลดมาใหม่ว่า pd"
      ],
      "execution_count": 2,
      "outputs": []
    },
    {
      "cell_type": "markdown",
      "metadata": {
        "id": "GeXQ5SXXus6h"
      },
      "source": [
        "ไฟล์ที่จะได้เจอส่วนใหญ่ในวิชานี้เป็นไฟล์ .csv ( **CSV = comma seperated values** )  เป็นไฟล์หลักที่เราจะได้ใช้ในวิชานี้ \n",
        "\n",
        "เป็นไฟล์ที่ใช้เก็บข้อมูลตาราง ที่เข้าใจได้ง่าย ใช้ comma ในการแบ่งข้อมูลแต่ละตัว ใช้ enter ในการแบ่ง record "
      ]
    },
    {
      "cell_type": "code",
      "metadata": {
        "id": "Jgu8ry8hup5Q"
      },
      "source": [
        "data_df = pd.read_csv( 'data.csv' )  # เรียกใช้ไฟล์ csv ที่เราต้องการ โดย pd.read_csv ( 'ชื่อไฟล์' )"
      ],
      "execution_count": 4,
      "outputs": []
    },
    {
      "cell_type": "code",
      "metadata": {
        "colab": {
          "base_uri": "https://localhost:8080/",
          "height": 141
        },
        "id": "NLheDzj0xPWQ",
        "outputId": "df207434-11c4-4491-cb8f-8f516def96da"
      },
      "source": [
        "data_df   # แสดงผลไฟล์ data_df"
      ],
      "execution_count": 5,
      "outputs": [
        {
          "output_type": "execute_result",
          "data": {
            "text/html": [
              "<div>\n",
              "<style scoped>\n",
              "    .dataframe tbody tr th:only-of-type {\n",
              "        vertical-align: middle;\n",
              "    }\n",
              "\n",
              "    .dataframe tbody tr th {\n",
              "        vertical-align: top;\n",
              "    }\n",
              "\n",
              "    .dataframe thead th {\n",
              "        text-align: right;\n",
              "    }\n",
              "</style>\n",
              "<table border=\"1\" class=\"dataframe\">\n",
              "  <thead>\n",
              "    <tr style=\"text-align: right;\">\n",
              "      <th></th>\n",
              "      <th>name</th>\n",
              "      <th>age</th>\n",
              "      <th>city</th>\n",
              "    </tr>\n",
              "  </thead>\n",
              "  <tbody>\n",
              "    <tr>\n",
              "      <th>0</th>\n",
              "      <td>Tom</td>\n",
              "      <td>27</td>\n",
              "      <td>Khon Kaen</td>\n",
              "    </tr>\n",
              "    <tr>\n",
              "      <th>1</th>\n",
              "      <td>Paul</td>\n",
              "      <td>15</td>\n",
              "      <td>Bangkok</td>\n",
              "    </tr>\n",
              "    <tr>\n",
              "      <th>2</th>\n",
              "      <td>Sarah</td>\n",
              "      <td>49</td>\n",
              "      <td>London</td>\n",
              "    </tr>\n",
              "  </tbody>\n",
              "</table>\n",
              "</div>"
            ],
            "text/plain": [
              "    name  age       city\n",
              "0    Tom   27  Khon Kaen\n",
              "1   Paul   15    Bangkok\n",
              "2  Sarah   49     London"
            ]
          },
          "metadata": {
            "tags": []
          },
          "execution_count": 5
        }
      ]
    },
    {
      "cell_type": "code",
      "metadata": {
        "colab": {
          "base_uri": "https://localhost:8080/",
          "height": 141
        },
        "id": "LYzBtFcGxRWh",
        "outputId": "a508ee27-a2d8-414d-f7b0-bda476a3449b"
      },
      "source": [
        "data_df2 = pandas.read_csv( 'data.csv' ) \n",
        "data_df2  # แสดงผลไฟล์ data_df2"
      ],
      "execution_count": 6,
      "outputs": [
        {
          "output_type": "execute_result",
          "data": {
            "text/html": [
              "<div>\n",
              "<style scoped>\n",
              "    .dataframe tbody tr th:only-of-type {\n",
              "        vertical-align: middle;\n",
              "    }\n",
              "\n",
              "    .dataframe tbody tr th {\n",
              "        vertical-align: top;\n",
              "    }\n",
              "\n",
              "    .dataframe thead th {\n",
              "        text-align: right;\n",
              "    }\n",
              "</style>\n",
              "<table border=\"1\" class=\"dataframe\">\n",
              "  <thead>\n",
              "    <tr style=\"text-align: right;\">\n",
              "      <th></th>\n",
              "      <th>name</th>\n",
              "      <th>age</th>\n",
              "      <th>city</th>\n",
              "    </tr>\n",
              "  </thead>\n",
              "  <tbody>\n",
              "    <tr>\n",
              "      <th>0</th>\n",
              "      <td>Tom</td>\n",
              "      <td>27</td>\n",
              "      <td>Khon Kaen</td>\n",
              "    </tr>\n",
              "    <tr>\n",
              "      <th>1</th>\n",
              "      <td>Paul</td>\n",
              "      <td>15</td>\n",
              "      <td>Bangkok</td>\n",
              "    </tr>\n",
              "    <tr>\n",
              "      <th>2</th>\n",
              "      <td>Sarah</td>\n",
              "      <td>49</td>\n",
              "      <td>London</td>\n",
              "    </tr>\n",
              "  </tbody>\n",
              "</table>\n",
              "</div>"
            ],
            "text/plain": [
              "    name  age       city\n",
              "0    Tom   27  Khon Kaen\n",
              "1   Paul   15    Bangkok\n",
              "2  Sarah   49     London"
            ]
          },
          "metadata": {
            "tags": []
          },
          "execution_count": 6
        }
      ]
    },
    {
      "cell_type": "markdown",
      "metadata": {
        "id": "M8eapTsRyh6I"
      },
      "source": [
        "#  Basic Python \n",
        "## Variables"
      ]
    },
    {
      "cell_type": "markdown",
      "metadata": {
        "id": "UOx_S5Ad1rls"
      },
      "source": [
        "**ข้อกำหนดในการตั้งตัวแปร**\n",
        "\n",
        "1.   ชื่อห้ามมีเว้นวรรค\n",
        "2.   ใช้ภาษาอังกฤษ ( เป็นไปได้ควรใช้ภาษาอังกฤษเสมอ )\n",
        "3.   ตัวเล็กกับตัวใหญ่แตกต่างกัน ( case sensitive )\n",
        "4.    ห้ามใช้ตัวเลขเป็นตัวหน้า\n",
        "\n",
        "\n"
      ]
    },
    {
      "cell_type": "code",
      "metadata": {
        "id": "GAg7LntGyK2W"
      },
      "source": [
        "variable_a = 12  # สร้างตัวแปรขึ้นมาใหม่โดยกำหนดให้ตัวแปร variable_a มีค่าเท่ากับ 12 (เป็นตัวเลข)\n",
        "variable_b = ' abcde '   # ' ' เรียกว่า quote เอาไว้ตอนจะพิมพ์ข้อความ (string)\n",
        "variable_c = variable_a  # ค่าของ variable_c เท่ากับ variable_a เรากำหนดค่าอะไรให้มัน มันจะเปลี่ยนตามตัวแปรนั้นๆ"
      ],
      "execution_count": 7,
      "outputs": []
    },
    {
      "cell_type": "code",
      "metadata": {
        "colab": {
          "base_uri": "https://localhost:8080/"
        },
        "id": "N0daN15i1JHu",
        "outputId": "e8859637-04e9-45b7-b2f8-313b5f9c3822"
      },
      "source": [
        "variable_a"
      ],
      "execution_count": 8,
      "outputs": [
        {
          "output_type": "execute_result",
          "data": {
            "text/plain": [
              "12"
            ]
          },
          "metadata": {
            "tags": []
          },
          "execution_count": 8
        }
      ]
    },
    {
      "cell_type": "code",
      "metadata": {
        "colab": {
          "base_uri": "https://localhost:8080/",
          "height": 33
        },
        "id": "e6lMkuYg1NIC",
        "outputId": "b862fb0c-e5d2-4fba-ed92-121e9588768f"
      },
      "source": [
        "variable_b"
      ],
      "execution_count": 9,
      "outputs": [
        {
          "output_type": "execute_result",
          "data": {
            "application/vnd.google.colaboratory.intrinsic+json": {
              "type": "string"
            },
            "text/plain": [
              "' abcde '"
            ]
          },
          "metadata": {
            "tags": []
          },
          "execution_count": 9
        }
      ]
    },
    {
      "cell_type": "code",
      "metadata": {
        "colab": {
          "base_uri": "https://localhost:8080/"
        },
        "id": "dRQdSNlU1OP4",
        "outputId": "43d39122-4111-43da-9a2d-7e55f0769c4d"
      },
      "source": [
        "variable_c"
      ],
      "execution_count": 10,
      "outputs": [
        {
          "output_type": "execute_result",
          "data": {
            "text/plain": [
              "12"
            ]
          },
          "metadata": {
            "tags": []
          },
          "execution_count": 10
        }
      ]
    },
    {
      "cell_type": "code",
      "metadata": {
        "colab": {
          "base_uri": "https://localhost:8080/",
          "height": 129
        },
        "id": "ry_rQuaJ2tq-",
        "outputId": "0543a230-2c5b-42e8-d2bc-d29e4206d3c2"
      },
      "source": [
        "variable a = 6  # ชื่อตัวแปรห้ามมีเว้นวรรค"
      ],
      "execution_count": 12,
      "outputs": [
        {
          "output_type": "error",
          "ename": "SyntaxError",
          "evalue": "ignored",
          "traceback": [
            "\u001b[0;36m  File \u001b[0;32m\"<ipython-input-12-5dd2524253ac>\"\u001b[0;36m, line \u001b[0;32m1\u001b[0m\n\u001b[0;31m    variable a = 6  # ชื่อตัวแปรห้ามมีเว้นวรรค\u001b[0m\n\u001b[0m             ^\u001b[0m\n\u001b[0;31mSyntaxError\u001b[0m\u001b[0;31m:\u001b[0m invalid syntax\n"
          ]
        }
      ]
    },
    {
      "cell_type": "code",
      "metadata": {
        "colab": {
          "base_uri": "https://localhost:8080/"
        },
        "id": "f5rHnQDk1QLD",
        "outputId": "94fde730-a4a8-4224-ea4d-f740261c33ad"
      },
      "source": [
        "ตัวแปร = 3     #  colab ใช้ภาษาไทยในการตั้งชื่อตัวแปรได้แต่ว่าเป็นไปได้ไม่ควรใช้ภาษาไทย\n",
        "ตัวแปร"
      ],
      "execution_count": 13,
      "outputs": [
        {
          "output_type": "execute_result",
          "data": {
            "text/plain": [
              "3"
            ]
          },
          "metadata": {
            "tags": []
          },
          "execution_count": 13
        }
      ]
    },
    {
      "cell_type": "code",
      "metadata": {
        "colab": {
          "base_uri": "https://localhost:8080/"
        },
        "id": "Aj5VyzSZ2r26",
        "outputId": "cd107187-0897-4112-f934-6a4ab934616b"
      },
      "source": [
        "v_a = 1    # ตัวเล็กกับตัวใหญ่แตกต่างกัน ( case sensitive )\n",
        "v_A = 2\n",
        "print(v_a) # เนื่องจากมีตัวแปร 2 ตัว จึงใช้คำสั่ง print เป็นคำสั่งที่ใช้แสดงผลตัวแปร\n",
        "print(v_A)"
      ],
      "execution_count": 14,
      "outputs": [
        {
          "output_type": "stream",
          "text": [
            "1\n",
            "2\n"
          ],
          "name": "stdout"
        }
      ]
    },
    {
      "cell_type": "code",
      "metadata": {
        "colab": {
          "base_uri": "https://localhost:8080/"
        },
        "id": "MCNKGnYO3b7u",
        "outputId": "87261e5a-e840-46d9-a396-743b981dd636"
      },
      "source": [
        "v_a = 1    # ตัวเล็กกับตัวใหญ่แตกต่างกัน ( case sensitive )\n",
        "v_a = 2    # ค่ามันทับกัน จะแสดงผลค่าล่าสุดที่กำหนดให้แก่ตัวแปรนั้น ๆ \n",
        "print(v_a) # เนื่องจากมีตัวแปร 2 ตัว จึงใช้คำสั่ง print เป็นคำสั่งที่ใช้แสดงผลตัวแปร\n",
        "print(v_a)"
      ],
      "execution_count": 15,
      "outputs": [
        {
          "output_type": "stream",
          "text": [
            "2\n",
            "2\n"
          ],
          "name": "stdout"
        }
      ]
    },
    {
      "cell_type": "code",
      "metadata": {
        "colab": {
          "base_uri": "https://localhost:8080/",
          "height": 129
        },
        "id": "9ymHFnRc3hDL",
        "outputId": "fd2f13ac-76c3-4469-a2f9-fdde98a8a0de"
      },
      "source": [
        "2_a = 1   #  ห้ามใช้ตัวเลขเป็นตัวหน้า"
      ],
      "execution_count": 16,
      "outputs": [
        {
          "output_type": "error",
          "ename": "SyntaxError",
          "evalue": "ignored",
          "traceback": [
            "\u001b[0;36m  File \u001b[0;32m\"<ipython-input-16-299149bc55df>\"\u001b[0;36m, line \u001b[0;32m1\u001b[0m\n\u001b[0;31m    2_a = 1   #  ห้ามใช้ตัวเลขเป็นตัวหน้า\u001b[0m\n\u001b[0m     ^\u001b[0m\n\u001b[0;31mSyntaxError\u001b[0m\u001b[0;31m:\u001b[0m invalid token\n"
          ]
        }
      ]
    },
    {
      "cell_type": "code",
      "metadata": {
        "id": "Vu3CjQ6131oT"
      },
      "source": [
        "variable_a = 12  # สร้างตัวแปรขึ้นมาใหม่โดยกำหนดให้ตัวแปร variable_a มีค่าเท่ากับ 12 (เป็นตัวเลข)\n",
        "variable_b = ' abcde '   # ' ' เรียกว่า quote เอาไว้ตอนจะพิมพ์ข้อความ (string)\n",
        "variable_c = variable_a  # ค่าของ variable_c เท่ากับ variable_a เรากำหนดค่าอะไรให้มัน มันจะเปลี่ยนตามตัวแปรนั้นๆ\n",
        "variable_d = -41.2  # ตัวเลขสามารถอยู่ด้านหลังตัวแปรได้ แต่นำหน้าตัวแปรไม่ได้\n",
        "variable_4 = \"KKU\"   # เราสามารถใช้ double quote แทน quote ได้ "
      ],
      "execution_count": 17,
      "outputs": []
    },
    {
      "cell_type": "code",
      "metadata": {
        "colab": {
          "base_uri": "https://localhost:8080/"
        },
        "id": "51IWu5oA4jW8",
        "outputId": "a6bc70e8-0060-4917-8841-e067eb9e0b68"
      },
      "source": [
        "variable_x = variable_c + variable_d # นำตัวเลขมาบวกกันได้ \n",
        "print(variable_x) "
      ],
      "execution_count": 18,
      "outputs": [
        {
          "output_type": "stream",
          "text": [
            "-29.200000000000003\n"
          ],
          "name": "stdout"
        }
      ]
    },
    {
      "cell_type": "code",
      "metadata": {
        "colab": {
          "base_uri": "https://localhost:8080/"
        },
        "id": "-lbYJ7DD4wNH",
        "outputId": "f2e8cb6e-4cf9-485b-e8a4-849ee79214a0"
      },
      "source": [
        "print(variable_b + variable_4) # นำข้อความมาบวกกันได้ "
      ],
      "execution_count": 19,
      "outputs": [
        {
          "output_type": "stream",
          "text": [
            " abcde KKU\n"
          ],
          "name": "stdout"
        }
      ]
    },
    {
      "cell_type": "code",
      "metadata": {
        "colab": {
          "base_uri": "https://localhost:8080/",
          "height": 163
        },
        "id": "ZRkYTfQM6iLZ",
        "outputId": "7c6fcf31-150f-4b55-8a04-de0720a7c223"
      },
      "source": [
        "print(variable_a + variable_b) # นำตัวเลขมาบวกกับข้อความไม่ได้"
      ],
      "execution_count": 20,
      "outputs": [
        {
          "output_type": "error",
          "ename": "TypeError",
          "evalue": "ignored",
          "traceback": [
            "\u001b[0;31m---------------------------------------------------------------------------\u001b[0m",
            "\u001b[0;31mTypeError\u001b[0m                                 Traceback (most recent call last)",
            "\u001b[0;32m<ipython-input-20-c9773be329d2>\u001b[0m in \u001b[0;36m<module>\u001b[0;34m()\u001b[0m\n\u001b[0;32m----> 1\u001b[0;31m \u001b[0mprint\u001b[0m\u001b[0;34m(\u001b[0m\u001b[0mvariable_a\u001b[0m \u001b[0;34m+\u001b[0m \u001b[0mvariable_b\u001b[0m\u001b[0;34m)\u001b[0m \u001b[0;31m# นำตัวเลขมาบวกกับข้อความไม่ได้\u001b[0m\u001b[0;34m\u001b[0m\u001b[0;34m\u001b[0m\u001b[0m\n\u001b[0m",
            "\u001b[0;31mTypeError\u001b[0m: unsupported operand type(s) for +: 'int' and 'str'"
          ]
        }
      ]
    },
    {
      "cell_type": "markdown",
      "metadata": {
        "id": "m3SxsrO67CQj"
      },
      "source": [
        "## Casting int()  float() stri()\n",
        "\n",
        "เราสามารถเปลี่ยนชนิดของตัวแปรได้ "
      ]
    },
    {
      "cell_type": "code",
      "metadata": {
        "colab": {
          "base_uri": "https://localhost:8080/"
        },
        "id": "SB0aX3N-67JG",
        "outputId": "49a61b26-20a8-4697-80d2-10b2cbedb386"
      },
      "source": [
        "print(variable_x) # ผลบวกเป็น float\n",
        "print(int(variable_x)) # เปลี่ยนผลบวกเป็นจำนวนเต็มหรือ int"
      ],
      "execution_count": 21,
      "outputs": [
        {
          "output_type": "stream",
          "text": [
            "-29.200000000000003\n",
            "-29\n"
          ],
          "name": "stdout"
        }
      ]
    },
    {
      "cell_type": "code",
      "metadata": {
        "colab": {
          "base_uri": "https://localhost:8080/"
        },
        "id": "3QkSbbnX7Z6X",
        "outputId": "58dc4688-4387-4512-8def-889f007a370b"
      },
      "source": [
        "v_x = str(variable_x) # เปลี่ยนให้เป็น string\n",
        "print(str(variable_x)) "
      ],
      "execution_count": 22,
      "outputs": [
        {
          "output_type": "stream",
          "text": [
            "-29.200000000000003\n"
          ],
          "name": "stdout"
        }
      ]
    },
    {
      "cell_type": "code",
      "metadata": {
        "colab": {
          "base_uri": "https://localhost:8080/",
          "height": 163
        },
        "id": "l1I5SMCG7zTM",
        "outputId": "255ad85a-1cf7-4d0b-d9b6-6d27cc980431"
      },
      "source": [
        "v_x + variable_a  # เอามาบวกกันไม่ได้ เนื่องจากเปลี่ยน v_x เป็น string ไปแล้ว"
      ],
      "execution_count": 23,
      "outputs": [
        {
          "output_type": "error",
          "ename": "TypeError",
          "evalue": "ignored",
          "traceback": [
            "\u001b[0;31m---------------------------------------------------------------------------\u001b[0m",
            "\u001b[0;31mTypeError\u001b[0m                                 Traceback (most recent call last)",
            "\u001b[0;32m<ipython-input-23-0987a2f09f0c>\u001b[0m in \u001b[0;36m<module>\u001b[0;34m()\u001b[0m\n\u001b[0;32m----> 1\u001b[0;31m \u001b[0mv_x\u001b[0m \u001b[0;34m+\u001b[0m \u001b[0mvariable_a\u001b[0m  \u001b[0;31m# เอามาบวกกันไม่ได้ เนื่องจากเปลี่ยน v_x เป็น string ไปแล้ว\u001b[0m\u001b[0;34m\u001b[0m\u001b[0;34m\u001b[0m\u001b[0m\n\u001b[0m",
            "\u001b[0;31mTypeError\u001b[0m: can only concatenate str (not \"int\") to str"
          ]
        }
      ]
    },
    {
      "cell_type": "code",
      "metadata": {
        "colab": {
          "base_uri": "https://localhost:8080/",
          "height": 33
        },
        "id": "m4IoQB1a8AWv",
        "outputId": "7b11e48e-0190-43fa-a6bc-9508f0fb59c8"
      },
      "source": [
        "v_x  # แสดงผลออกมามันมี quote แสดงว่าเป็นข้อความหรือ string"
      ],
      "execution_count": 24,
      "outputs": [
        {
          "output_type": "execute_result",
          "data": {
            "application/vnd.google.colaboratory.intrinsic+json": {
              "type": "string"
            },
            "text/plain": [
              "'-29.200000000000003'"
            ]
          },
          "metadata": {
            "tags": []
          },
          "execution_count": 24
        }
      ]
    },
    {
      "cell_type": "code",
      "metadata": {
        "colab": {
          "base_uri": "https://localhost:8080/"
        },
        "id": "5fyrrWvM8dd2",
        "outputId": "89d3e27c-3fef-4042-9d72-cd9a6225ae94"
      },
      "source": [
        "float(v_x)  # เปลี่ยนเป็น float แสดงผลออกมาจะเป็นตัวเลข"
      ],
      "execution_count": 25,
      "outputs": [
        {
          "output_type": "execute_result",
          "data": {
            "text/plain": [
              "-29.200000000000003"
            ]
          },
          "metadata": {
            "tags": []
          },
          "execution_count": 25
        }
      ]
    },
    {
      "cell_type": "markdown",
      "metadata": {
        "id": "O15LlAE_835u"
      },
      "source": [
        "# Data Structure \n",
        "## list ()\n",
        "list เป็นตัวแปรหรือตัวเลขหลายๆตัวมาเรียงต่อๆกัน"
      ]
    },
    {
      "cell_type": "code",
      "metadata": {
        "id": "HdGQhkgT8u0B"
      },
      "source": [
        "list_a = [1,2,0.2,'abs']  # [ ] คือ square brackets , ลำดับใน list มีความสำคัญ\n",
        "list_b = [2,'xyz',list_a,[1,2,0.0]] "
      ],
      "execution_count": 26,
      "outputs": []
    },
    {
      "cell_type": "code",
      "metadata": {
        "colab": {
          "base_uri": "https://localhost:8080/"
        },
        "id": "1uhdQLdv940J",
        "outputId": "2dd167b7-b484-43b1-d6ac-ba182a1360d4"
      },
      "source": [
        "list_a"
      ],
      "execution_count": 27,
      "outputs": [
        {
          "output_type": "execute_result",
          "data": {
            "text/plain": [
              "[1, 2, 0.2, 'abs']"
            ]
          },
          "metadata": {
            "tags": []
          },
          "execution_count": 27
        }
      ]
    },
    {
      "cell_type": "code",
      "metadata": {
        "colab": {
          "base_uri": "https://localhost:8080/"
        },
        "id": "2wKa64ia96Y_",
        "outputId": "68050ebe-0203-40bd-c83a-4eadf99a4f34"
      },
      "source": [
        "list_b"
      ],
      "execution_count": 28,
      "outputs": [
        {
          "output_type": "execute_result",
          "data": {
            "text/plain": [
              "[2, 'xyz', [1, 2, 0.2, 'abs'], [1, 2, 0.0]]"
            ]
          },
          "metadata": {
            "tags": []
          },
          "execution_count": 28
        }
      ]
    },
    {
      "cell_type": "code",
      "metadata": {
        "colab": {
          "base_uri": "https://localhost:8080/"
        },
        "id": "F75MoFYy98oJ",
        "outputId": "dee8c873-1241-41cd-fe75-d6345e2e1619"
      },
      "source": [
        "len(list_b) # เป็นคำสั่งที่เอาไว้ดูว่า list มีสมาชิกทั้งหมดกี่ตัว"
      ],
      "execution_count": 29,
      "outputs": [
        {
          "output_type": "execute_result",
          "data": {
            "text/plain": [
              "4"
            ]
          },
          "metadata": {
            "tags": []
          },
          "execution_count": 29
        }
      ]
    },
    {
      "cell_type": "code",
      "metadata": {
        "colab": {
          "base_uri": "https://localhost:8080/"
        },
        "id": "spD5OBrd-UTy",
        "outputId": "4b728721-319d-4778-fb73-699cee9f14a5"
      },
      "source": [
        "list_b[3] # ชี้สมาชิกตัวที่ 3 ใน list_b (เริ่มนับตัวแรกเป็นตัวที่ 0)"
      ],
      "execution_count": 30,
      "outputs": [
        {
          "output_type": "execute_result",
          "data": {
            "text/plain": [
              "[1, 2, 0.0]"
            ]
          },
          "metadata": {
            "tags": []
          },
          "execution_count": 30
        }
      ]
    },
    {
      "cell_type": "code",
      "metadata": {
        "colab": {
          "base_uri": "https://localhost:8080/"
        },
        "id": "eZ6vGO0a-gC3",
        "outputId": "4a56a124-2af4-4d19-f105-22d39e8f2762"
      },
      "source": [
        "list_b[3][1] # ชี้สมาชิกตัวที่ 3 ลำดับที่ 1 ใน list_b"
      ],
      "execution_count": 31,
      "outputs": [
        {
          "output_type": "execute_result",
          "data": {
            "text/plain": [
              "2"
            ]
          },
          "metadata": {
            "tags": []
          },
          "execution_count": 31
        }
      ]
    },
    {
      "cell_type": "markdown",
      "metadata": {
        "id": "F68G2n2b-4ya"
      },
      "source": [
        "string คือ list ของ ตัวหนังสือ "
      ]
    },
    {
      "cell_type": "code",
      "metadata": {
        "id": "ZKECHhe3-r60"
      },
      "source": [
        "a = 'Stat KKU'"
      ],
      "execution_count": 32,
      "outputs": []
    },
    {
      "cell_type": "code",
      "metadata": {
        "colab": {
          "base_uri": "https://localhost:8080/",
          "height": 33
        },
        "id": "BTTBTiiU_D_B",
        "outputId": "a65653a9-d2ee-4b47-866b-db810251ed14"
      },
      "source": [
        "a[4]"
      ],
      "execution_count": 33,
      "outputs": [
        {
          "output_type": "execute_result",
          "data": {
            "application/vnd.google.colaboratory.intrinsic+json": {
              "type": "string"
            },
            "text/plain": [
              "' '"
            ]
          },
          "metadata": {
            "tags": []
          },
          "execution_count": 33
        }
      ]
    },
    {
      "cell_type": "markdown",
      "metadata": {
        "id": "Fx2NavAm_kyK"
      },
      "source": [
        "## วิธีการสร้าง list แบบที่ 2 list ว่าง"
      ]
    },
    {
      "cell_type": "code",
      "metadata": {
        "id": "vWq_V2y7_HVf"
      },
      "source": [
        "list_c = list()  # แบบที่ 1\n",
        "list_d = [] # แบบที่ 2"
      ],
      "execution_count": 34,
      "outputs": []
    },
    {
      "cell_type": "code",
      "metadata": {
        "colab": {
          "base_uri": "https://localhost:8080/"
        },
        "id": "9q87-Qts_4YD",
        "outputId": "35c2dd8f-78e9-433d-a701-540f11724071"
      },
      "source": [
        "list_c"
      ],
      "execution_count": 35,
      "outputs": [
        {
          "output_type": "execute_result",
          "data": {
            "text/plain": [
              "[]"
            ]
          },
          "metadata": {
            "tags": []
          },
          "execution_count": 35
        }
      ]
    },
    {
      "cell_type": "code",
      "metadata": {
        "colab": {
          "base_uri": "https://localhost:8080/"
        },
        "id": "pX54KpWz_7Zo",
        "outputId": "9932b042-a478-4b80-b957-1ccb348a0233"
      },
      "source": [
        "list_d"
      ],
      "execution_count": 36,
      "outputs": [
        {
          "output_type": "execute_result",
          "data": {
            "text/plain": [
              "[]"
            ]
          },
          "metadata": {
            "tags": []
          },
          "execution_count": 36
        }
      ]
    },
    {
      "cell_type": "markdown",
      "metadata": {
        "id": "oG0aFPyPAj3s"
      },
      "source": [
        "### เติมค่าลงไปใน list (.append())"
      ]
    },
    {
      "cell_type": "code",
      "metadata": {
        "id": "OFonSxto_9qH"
      },
      "source": [
        "list_d.append('a') # ค่าที่เพิ่มเข้าไปจะไปต่อด้านหลังของ list"
      ],
      "execution_count": 37,
      "outputs": []
    },
    {
      "cell_type": "code",
      "metadata": {
        "colab": {
          "base_uri": "https://localhost:8080/"
        },
        "id": "euXLuwiyAuOx",
        "outputId": "b31a8504-8819-459e-d210-6a9c4075ec56"
      },
      "source": [
        "list_d"
      ],
      "execution_count": 38,
      "outputs": [
        {
          "output_type": "execute_result",
          "data": {
            "text/plain": [
              "['a']"
            ]
          },
          "metadata": {
            "tags": []
          },
          "execution_count": 38
        }
      ]
    },
    {
      "cell_type": "code",
      "metadata": {
        "id": "5LvUGfLeAvnu"
      },
      "source": [
        "list_d.append(56)"
      ],
      "execution_count": 39,
      "outputs": []
    },
    {
      "cell_type": "code",
      "metadata": {
        "colab": {
          "base_uri": "https://localhost:8080/"
        },
        "id": "_0r43L39A39R",
        "outputId": "cc6821c9-5141-4e35-9ada-6ca5d5480ffd"
      },
      "source": [
        "list_d"
      ],
      "execution_count": 40,
      "outputs": [
        {
          "output_type": "execute_result",
          "data": {
            "text/plain": [
              "['a', 56]"
            ]
          },
          "metadata": {
            "tags": []
          },
          "execution_count": 40
        }
      ]
    },
    {
      "cell_type": "markdown",
      "metadata": {
        "id": "PjWAbiNIBTZi"
      },
      "source": [
        "### การชี้ค่าใน list (indexing)\n",
        "\n",
        "\n",
        "1.   ใช้ลำดับในการชี้\n",
        "2.   ลำดับเริ่มต้นจาก 0\n",
        "3.   สามารถชี้จากข้างหลังได้โดยใช้ **negative index**\n",
        "\n"
      ]
    },
    {
      "cell_type": "code",
      "metadata": {
        "colab": {
          "base_uri": "https://localhost:8080/"
        },
        "id": "tQaC_1owA6T8",
        "outputId": "0278502a-f2c6-4bfc-d31a-8d596cab6b4e"
      },
      "source": [
        "list_b"
      ],
      "execution_count": 41,
      "outputs": [
        {
          "output_type": "execute_result",
          "data": {
            "text/plain": [
              "[2, 'xyz', [1, 2, 0.2, 'abs'], [1, 2, 0.0]]"
            ]
          },
          "metadata": {
            "tags": []
          },
          "execution_count": 41
        }
      ]
    },
    {
      "cell_type": "code",
      "metadata": {
        "colab": {
          "base_uri": "https://localhost:8080/"
        },
        "id": "B9MFm0KqBmEt",
        "outputId": "57be5c61-0c9f-4134-e8e0-5eef97bee3ac"
      },
      "source": [
        "list_b[-1] # -1 ก็จะชี้ตัวท้ายสุดที่อยู่ใน list"
      ],
      "execution_count": 42,
      "outputs": [
        {
          "output_type": "execute_result",
          "data": {
            "text/plain": [
              "[1, 2, 0.0]"
            ]
          },
          "metadata": {
            "tags": []
          },
          "execution_count": 42
        }
      ]
    },
    {
      "cell_type": "markdown",
      "metadata": {
        "id": "5f6tv3MQCSKv"
      },
      "source": [
        "### list slicing"
      ]
    },
    {
      "cell_type": "markdown",
      "metadata": {
        "id": "7peK-RdPC8_9"
      },
      "source": [
        "เราจะตัด list โดยเอาตั้งแต่ [ตัวหน้า:ตัวก่อนตัวหลัง]\n",
        "\n",
        "ถ้าเป็นสัญลักษณ์คณิตศาสตร์ **[ตัวหน้า:ตัวหลัง)**"
      ]
    },
    {
      "cell_type": "code",
      "metadata": {
        "id": "xX7lZ7lBBpFY"
      },
      "source": [
        "list_ex = [1,2,3,5,6,8,-1,20,50,0]"
      ],
      "execution_count": 43,
      "outputs": []
    },
    {
      "cell_type": "code",
      "metadata": {
        "colab": {
          "base_uri": "https://localhost:8080/"
        },
        "id": "M_KkZfO4Capa",
        "outputId": "d193a375-2575-4cd0-f5ad-24491f17e109"
      },
      "source": [
        "list_ex[1:6]  # เราจะตัด list โดยเอาตั้งแต่ ตัวข้างหน้า ถึง ตัวก่อนหน้าตัวข้างหลัง : "
      ],
      "execution_count": 44,
      "outputs": [
        {
          "output_type": "execute_result",
          "data": {
            "text/plain": [
              "[2, 3, 5, 6, 8]"
            ]
          },
          "metadata": {
            "tags": []
          },
          "execution_count": 44
        }
      ]
    },
    {
      "cell_type": "code",
      "metadata": {
        "colab": {
          "base_uri": "https://localhost:8080/"
        },
        "id": "B6Cqi9lJCgyU",
        "outputId": "d2582026-96cd-4b45-aa3d-ecaf2f3517ce"
      },
      "source": [
        "list_ex[4:]  # เอาตั้งแต่ตัวที่ 4 ไปจนถึงตัวสุดท้าย"
      ],
      "execution_count": 45,
      "outputs": [
        {
          "output_type": "execute_result",
          "data": {
            "text/plain": [
              "[6, 8, -1, 20, 50, 0]"
            ]
          },
          "metadata": {
            "tags": []
          },
          "execution_count": 45
        }
      ]
    },
    {
      "cell_type": "code",
      "metadata": {
        "colab": {
          "base_uri": "https://localhost:8080/"
        },
        "id": "SbyCtF1eDggf",
        "outputId": "bfda249d-d31a-4ea6-828e-b5d1efde63b8"
      },
      "source": [
        "list_ex[:6]  # เอาตั้งแต่ตัวแรกไปจนถึงตัวก่อนหน้าตัวที่ 6"
      ],
      "execution_count": 46,
      "outputs": [
        {
          "output_type": "execute_result",
          "data": {
            "text/plain": [
              "[1, 2, 3, 5, 6, 8]"
            ]
          },
          "metadata": {
            "tags": []
          },
          "execution_count": 46
        }
      ]
    },
    {
      "cell_type": "markdown",
      "metadata": {
        "id": "VoBkGuTLEI96"
      },
      "source": [
        "[จุดเริ่มต้น: จุดสุดท้าย: step] "
      ]
    },
    {
      "cell_type": "code",
      "metadata": {
        "colab": {
          "base_uri": "https://localhost:8080/"
        },
        "id": "gqdSRRYlDoHu",
        "outputId": "ba322b17-eecc-4b21-8f6f-12a78e66c383"
      },
      "source": [
        "list_ex[::2]  # เอาตั้งแต่ตัวแรกไปจนถึงตัวสุดท้าย step 2 หมายถึง กระโดดไปทีละ 2 ข้ามไปตัวนึง"
      ],
      "execution_count": 47,
      "outputs": [
        {
          "output_type": "execute_result",
          "data": {
            "text/plain": [
              "[1, 3, 6, -1, 50]"
            ]
          },
          "metadata": {
            "tags": []
          },
          "execution_count": 47
        }
      ]
    },
    {
      "cell_type": "code",
      "metadata": {
        "colab": {
          "base_uri": "https://localhost:8080/"
        },
        "id": "h8wc905lEBAj",
        "outputId": "37bbae2e-b27b-4bd2-a285-4593f0adffb2"
      },
      "source": [
        "list_ex[::-1] # กลับ list เอาตัวแรกไปอยู่ด้านหลัง ตัวหลังมาอยู่ด้านหน้า"
      ],
      "execution_count": 48,
      "outputs": [
        {
          "output_type": "execute_result",
          "data": {
            "text/plain": [
              "[0, 50, 20, -1, 8, 6, 5, 3, 2, 1]"
            ]
          },
          "metadata": {
            "tags": []
          },
          "execution_count": 48
        }
      ]
    },
    {
      "cell_type": "code",
      "metadata": {
        "colab": {
          "base_uri": "https://localhost:8080/"
        },
        "id": "_wcJlWHjEols",
        "outputId": "64331844-163f-4221-d257-cbcb1d02ed0d"
      },
      "source": [
        "list_ex[::3] # กระโดดไปทีละ 3 ข้ามไป 2 "
      ],
      "execution_count": 49,
      "outputs": [
        {
          "output_type": "execute_result",
          "data": {
            "text/plain": [
              "[1, 5, -1, 0]"
            ]
          },
          "metadata": {
            "tags": []
          },
          "execution_count": 49
        }
      ]
    },
    {
      "cell_type": "code",
      "metadata": {
        "colab": {
          "base_uri": "https://localhost:8080/",
          "height": 33
        },
        "id": "Lt54GHvOEyq1",
        "outputId": "7eefc11c-262b-4034-e83d-b489092685fd"
      },
      "source": [
        "a"
      ],
      "execution_count": 50,
      "outputs": [
        {
          "output_type": "execute_result",
          "data": {
            "application/vnd.google.colaboratory.intrinsic+json": {
              "type": "string"
            },
            "text/plain": [
              "'Stat KKU'"
            ]
          },
          "metadata": {
            "tags": []
          },
          "execution_count": 50
        }
      ]
    },
    {
      "cell_type": "code",
      "metadata": {
        "colab": {
          "base_uri": "https://localhost:8080/",
          "height": 33
        },
        "id": "Oal-iBkpE8ll",
        "outputId": "951d1bef-9702-4626-84fc-a26ab88a45c7"
      },
      "source": [
        "a[5:]"
      ],
      "execution_count": 51,
      "outputs": [
        {
          "output_type": "execute_result",
          "data": {
            "application/vnd.google.colaboratory.intrinsic+json": {
              "type": "string"
            },
            "text/plain": [
              "'KKU'"
            ]
          },
          "metadata": {
            "tags": []
          },
          "execution_count": 51
        }
      ]
    },
    {
      "cell_type": "code",
      "metadata": {
        "colab": {
          "base_uri": "https://localhost:8080/",
          "height": 33
        },
        "id": "9Gyd6xN_FAg1",
        "outputId": "fa6befd6-fe25-4b95-db9c-54ad7aaa06b6"
      },
      "source": [
        "a[-3:]"
      ],
      "execution_count": 52,
      "outputs": [
        {
          "output_type": "execute_result",
          "data": {
            "application/vnd.google.colaboratory.intrinsic+json": {
              "type": "string"
            },
            "text/plain": [
              "'KKU'"
            ]
          },
          "metadata": {
            "tags": []
          },
          "execution_count": 52
        }
      ]
    },
    {
      "cell_type": "code",
      "metadata": {
        "colab": {
          "base_uri": "https://localhost:8080/",
          "height": 33
        },
        "id": "VoK4eWI6F2be",
        "outputId": "61f464f3-9071-4608-aff1-008ccc45a106"
      },
      "source": [
        "a[5:8]"
      ],
      "execution_count": 53,
      "outputs": [
        {
          "output_type": "execute_result",
          "data": {
            "application/vnd.google.colaboratory.intrinsic+json": {
              "type": "string"
            },
            "text/plain": [
              "'KKU'"
            ]
          },
          "metadata": {
            "tags": []
          },
          "execution_count": 53
        }
      ]
    },
    {
      "cell_type": "code",
      "metadata": {
        "colab": {
          "base_uri": "https://localhost:8080/",
          "height": 33
        },
        "id": "_puJz2mXF7Ti",
        "outputId": "ba3e524f-3cca-4961-c34a-d6697e057323"
      },
      "source": [
        "a[5::]"
      ],
      "execution_count": 54,
      "outputs": [
        {
          "output_type": "execute_result",
          "data": {
            "application/vnd.google.colaboratory.intrinsic+json": {
              "type": "string"
            },
            "text/plain": [
              "'KKU'"
            ]
          },
          "metadata": {
            "tags": []
          },
          "execution_count": 54
        }
      ]
    },
    {
      "cell_type": "code",
      "metadata": {
        "colab": {
          "base_uri": "https://localhost:8080/",
          "height": 33
        },
        "id": "CslkUpBEGPop",
        "outputId": "e72ba9db-22c2-4a93-92ac-2e917b365f26"
      },
      "source": [
        "a[-3::]"
      ],
      "execution_count": 55,
      "outputs": [
        {
          "output_type": "execute_result",
          "data": {
            "application/vnd.google.colaboratory.intrinsic+json": {
              "type": "string"
            },
            "text/plain": [
              "'KKU'"
            ]
          },
          "metadata": {
            "tags": []
          },
          "execution_count": 55
        }
      ]
    },
    {
      "cell_type": "markdown",
      "metadata": {
        "id": "8UVe4b5VGpTI"
      },
      "source": [
        "### list + list"
      ]
    },
    {
      "cell_type": "code",
      "metadata": {
        "colab": {
          "base_uri": "https://localhost:8080/"
        },
        "id": "FcTV5q44GX54",
        "outputId": "ac76060e-ec54-48ee-db4d-3fac47cf6558"
      },
      "source": [
        "print(list_a)\n",
        "print(list_b)"
      ],
      "execution_count": 56,
      "outputs": [
        {
          "output_type": "stream",
          "text": [
            "[1, 2, 0.2, 'abs']\n",
            "[2, 'xyz', [1, 2, 0.2, 'abs'], [1, 2, 0.0]]\n"
          ],
          "name": "stdout"
        }
      ]
    },
    {
      "cell_type": "code",
      "metadata": {
        "colab": {
          "base_uri": "https://localhost:8080/"
        },
        "id": "NxAhZoncG7Hj",
        "outputId": "56deb514-96f1-491d-afe8-730d93ed8090"
      },
      "source": [
        "list_a + list_b # เราสามารถเอา list มาบวกกันได้"
      ],
      "execution_count": 57,
      "outputs": [
        {
          "output_type": "execute_result",
          "data": {
            "text/plain": [
              "[1, 2, 0.2, 'abs', 2, 'xyz', [1, 2, 0.2, 'abs'], [1, 2, 0.0]]"
            ]
          },
          "metadata": {
            "tags": []
          },
          "execution_count": 57
        }
      ]
    },
    {
      "cell_type": "markdown",
      "metadata": {
        "id": "oVYV2zBXLNzl"
      },
      "source": [
        "### format string"
      ]
    },
    {
      "cell_type": "markdown",
      "metadata": {
        "id": "AuxlH-CPLv1i"
      },
      "source": [
        "**f'string {ตัวแปร}**   โดย {} เรียกว่า curly brackets\n"
      ]
    },
    {
      "cell_type": "code",
      "metadata": {
        "colab": {
          "base_uri": "https://localhost:8080/",
          "height": 33
        },
        "id": "jI_5fhPiLSVo",
        "outputId": "1a3dab4b-36c7-41ce-ed99-762cd74231c1"
      },
      "source": [
        "f'ตัวแปร list_a มีค่าคือ {list_a}'"
      ],
      "execution_count": 58,
      "outputs": [
        {
          "output_type": "execute_result",
          "data": {
            "application/vnd.google.colaboratory.intrinsic+json": {
              "type": "string"
            },
            "text/plain": [
              "\"ตัวแปร list_a มีค่าคือ [1, 2, 0.2, 'abs']\""
            ]
          },
          "metadata": {
            "tags": []
          },
          "execution_count": 58
        }
      ]
    },
    {
      "cell_type": "markdown",
      "metadata": {
        "id": "BU-4m7DSHVRX"
      },
      "source": [
        "## Loop"
      ]
    },
    {
      "cell_type": "markdown",
      "metadata": {
        "id": "PxoDnlqMBjNz"
      },
      "source": [
        "**ทำงานซ้ำ ๆ หรือทำงานคล้าย ๆ กัน**"
      ]
    },
    {
      "cell_type": "markdown",
      "metadata": {
        "id": "zcEBfmtGKXag"
      },
      "source": [
        "for ตัวแปรที่จะรับค่าจาก list in list ที่จะนำมาวนลูป\n",
        "\n",
        "        do something  # in loop\n",
        "        do another thing  # in loop\n",
        "\n",
        "do other thing # out side loop"
      ]
    },
    {
      "cell_type": "code",
      "metadata": {
        "colab": {
          "base_uri": "https://localhost:8080/"
        },
        "id": "KpHbl2lYJmcy",
        "outputId": "951998ed-cf9e-4462-e2e7-887ecf120e7b"
      },
      "source": [
        "for  i  in  [1,2,3,4,5] :    # i จะวนเป็นตัวเลขตามใน list ด้านหลัง\n",
        "      print(i+1)    # i จะแสดงผลออกมาเป็น i+1 "
      ],
      "execution_count": 59,
      "outputs": [
        {
          "output_type": "stream",
          "text": [
            "2\n",
            "3\n",
            "4\n",
            "5\n",
            "6\n"
          ],
          "name": "stdout"
        }
      ]
    },
    {
      "cell_type": "code",
      "metadata": {
        "colab": {
          "base_uri": "https://localhost:8080/"
        },
        "id": "Xqn6_FcDMV0z",
        "outputId": "551a58cc-fb07-4762-8625-db5276400167"
      },
      "source": [
        "for x in  [1,2,3,4,5] :\n",
        "      print(f'ค่าตัวแปร x คือ {x} และ x+2 = {x+2}')"
      ],
      "execution_count": 60,
      "outputs": [
        {
          "output_type": "stream",
          "text": [
            "ค่าตัวแปร x คือ 1 และ x+2 = 3\n",
            "ค่าตัวแปร x คือ 2 และ x+2 = 4\n",
            "ค่าตัวแปร x คือ 3 และ x+2 = 5\n",
            "ค่าตัวแปร x คือ 4 และ x+2 = 6\n",
            "ค่าตัวแปร x คือ 5 และ x+2 = 7\n"
          ],
          "name": "stdout"
        }
      ]
    },
    {
      "cell_type": "code",
      "metadata": {
        "colab": {
          "base_uri": "https://localhost:8080/"
        },
        "id": "cI6Ohp10M0bP",
        "outputId": "eb3d5356-6bfa-446d-99c5-654440e3204d"
      },
      "source": [
        "list5 = [1,2,3,4,5]\n",
        "for x in list5 :\n",
        "      print(f'ค่าตัวแปร x คือ {x} และ x+2 = {x+2}')"
      ],
      "execution_count": 61,
      "outputs": [
        {
          "output_type": "stream",
          "text": [
            "ค่าตัวแปร x คือ 1 และ x+2 = 3\n",
            "ค่าตัวแปร x คือ 2 และ x+2 = 4\n",
            "ค่าตัวแปร x คือ 3 และ x+2 = 5\n",
            "ค่าตัวแปร x คือ 4 และ x+2 = 6\n",
            "ค่าตัวแปร x คือ 5 และ x+2 = 7\n"
          ],
          "name": "stdout"
        }
      ]
    },
    {
      "cell_type": "code",
      "metadata": {
        "colab": {
          "base_uri": "https://localhost:8080/"
        },
        "id": "L7IZKqq0NK4t",
        "outputId": "2d720f0f-99b6-4cae-f09e-728e74cea705"
      },
      "source": [
        "range(10)"
      ],
      "execution_count": 62,
      "outputs": [
        {
          "output_type": "execute_result",
          "data": {
            "text/plain": [
              "range(0, 10)"
            ]
          },
          "metadata": {
            "tags": []
          },
          "execution_count": 62
        }
      ]
    },
    {
      "cell_type": "code",
      "metadata": {
        "colab": {
          "base_uri": "https://localhost:8080/"
        },
        "id": "MR4wXTX2NDu-",
        "outputId": "6e7ea1d4-7379-46fd-e49d-e544948d79f6"
      },
      "source": [
        "list(range(10))  # สร้าง list ที่มีค่าเริ่มต้นตั้งแต่ 0 ถึง 10  ตัวเลขตัวเดียวกำหนดแค่จุดจบ"
      ],
      "execution_count": 63,
      "outputs": [
        {
          "output_type": "execute_result",
          "data": {
            "text/plain": [
              "[0, 1, 2, 3, 4, 5, 6, 7, 8, 9]"
            ]
          },
          "metadata": {
            "tags": []
          },
          "execution_count": 63
        }
      ]
    },
    {
      "cell_type": "code",
      "metadata": {
        "colab": {
          "base_uri": "https://localhost:8080/"
        },
        "id": "qrgLA4c8NU6X",
        "outputId": "b68640c9-94af-4e28-950d-d6bf74785561"
      },
      "source": [
        "for i in range(2,7) :    # มีสองตัวคือกำหนดจุดเริ่มและจุดจบ \n",
        "      print (i)"
      ],
      "execution_count": 64,
      "outputs": [
        {
          "output_type": "stream",
          "text": [
            "2\n",
            "3\n",
            "4\n",
            "5\n",
            "6\n"
          ],
          "name": "stdout"
        }
      ]
    },
    {
      "cell_type": "code",
      "metadata": {
        "colab": {
          "base_uri": "https://localhost:8080/"
        },
        "id": "I07KMnFNN5zc",
        "outputId": "d24c5604-1308-45e9-f802-37ed8ab4ee3a"
      },
      "source": [
        "for i in range(2,7,2) :    # มีสองตัวคือกำหนดจุดเริ่มและจุดจบ กำหนด step คือ 2 แปลว่าข้ามไปตัวนึง\n",
        "      print (i)"
      ],
      "execution_count": 65,
      "outputs": [
        {
          "output_type": "stream",
          "text": [
            "2\n",
            "4\n",
            "6\n"
          ],
          "name": "stdout"
        }
      ]
    },
    {
      "cell_type": "code",
      "metadata": {
        "colab": {
          "base_uri": "https://localhost:8080/"
        },
        "id": "yUunmm2IOXso",
        "outputId": "7f8da582-e7b4-41b0-9f17-7f9b60f7d1e2"
      },
      "source": [
        "for i in range(5) :  # แบบนี้แปลว่าเราจะวนลูปทั้งหมด 5 รอบ\n",
        "      print('hahahahahaha')"
      ],
      "execution_count": 66,
      "outputs": [
        {
          "output_type": "stream",
          "text": [
            "hahahahahaha\n",
            "hahahahahaha\n",
            "hahahahahaha\n",
            "hahahahahaha\n",
            "hahahahahaha\n"
          ],
          "name": "stdout"
        }
      ]
    },
    {
      "cell_type": "code",
      "metadata": {
        "colab": {
          "base_uri": "https://localhost:8080/"
        },
        "id": "a_1aYTbGOl7E",
        "outputId": "a8f91b39-e2d1-4d9c-c0af-c76013bc3c2e"
      },
      "source": [
        "for i in range(5) :  # แบบนี้แปลว่าเราจะวนลูปทั้งหมด 5 รอบ\n",
        "      print('hahahahahaha')\n",
        "      x = i+3\n",
        "      print(f'i={i}  x={x}')  # print 2 รอบ แสดงผล 2 บรรทัด"
      ],
      "execution_count": 67,
      "outputs": [
        {
          "output_type": "stream",
          "text": [
            "hahahahahaha\n",
            "i=0  x=3\n",
            "hahahahahaha\n",
            "i=1  x=4\n",
            "hahahahahaha\n",
            "i=2  x=5\n",
            "hahahahahaha\n",
            "i=3  x=6\n",
            "hahahahahaha\n",
            "i=4  x=7\n"
          ],
          "name": "stdout"
        }
      ]
    },
    {
      "cell_type": "markdown",
      "metadata": {
        "id": "ZnqXMKZNPF_Z"
      },
      "source": [
        "##Nested loop"
      ]
    },
    {
      "cell_type": "markdown",
      "metadata": {
        "id": "RIzfi-uJPKaI"
      },
      "source": [
        "ลูปซ้อนลูป"
      ]
    },
    {
      "cell_type": "code",
      "metadata": {
        "colab": {
          "base_uri": "https://localhost:8080/"
        },
        "id": "j8snOk96POLI",
        "outputId": "4958d13f-55e2-4daf-8163-9aa9d2754f96"
      },
      "source": [
        "for i in range(3) :       # ตอนแรกจะเริ่มวนลูปของ i ทีละตัวก่อน แล้วเอาไปจับกับ j ให้ครบทุกตัว \n",
        "      print(f'now i = {i}')\n",
        "      print('start j loop')  \n",
        "      for j in range(4) :\n",
        "            print(f' i = {i} j = {j} i+j = {+j}')\n",
        "      print('end j loop')"
      ],
      "execution_count": 68,
      "outputs": [
        {
          "output_type": "stream",
          "text": [
            "now i = 0\n",
            "start j loop\n",
            " i = 0 j = 0 i+j = 0\n",
            " i = 0 j = 1 i+j = 1\n",
            " i = 0 j = 2 i+j = 2\n",
            " i = 0 j = 3 i+j = 3\n",
            "end j loop\n",
            "now i = 1\n",
            "start j loop\n",
            " i = 1 j = 0 i+j = 0\n",
            " i = 1 j = 1 i+j = 1\n",
            " i = 1 j = 2 i+j = 2\n",
            " i = 1 j = 3 i+j = 3\n",
            "end j loop\n",
            "now i = 2\n",
            "start j loop\n",
            " i = 2 j = 0 i+j = 0\n",
            " i = 2 j = 1 i+j = 1\n",
            " i = 2 j = 2 i+j = 2\n",
            " i = 2 j = 3 i+j = 3\n",
            "end j loop\n"
          ],
          "name": "stdout"
        }
      ]
    },
    {
      "cell_type": "markdown",
      "metadata": {
        "id": "KSj27epuHmjO"
      },
      "source": [
        "### Condition ( if statement )\n"
      ]
    },
    {
      "cell_type": "markdown",
      "metadata": {
        "id": "Ko68F4auFb1t"
      },
      "source": [
        "\n",
        "\n",
        "\n",
        "if  เงื่อนไขที่จะตรวจสอบ (==,!=,<,>,<=,>=):\n",
        "\n",
        "      ถ้าเงื่อนไขเป็นจริง  ทำงาน 1\n",
        "      ถ้าเงื่อนไขเป็นจริง  ทำงาน 2"
      ]
    },
    {
      "cell_type": "code",
      "metadata": {
        "id": "dc4He8q8HlKN",
        "colab": {
          "base_uri": "https://localhost:8080/"
        },
        "outputId": "413c3937-04c8-4a09-8917-a46c2881a3ac"
      },
      "source": [
        "stringx = 'dujijofplpnbuwduuwjfl[p[p[nidvxaklpl'\n",
        "\n",
        "if len(stringx) > 30 :\n",
        "      print(f'{stringx} is longer than 30 characters')"
      ],
      "execution_count": 69,
      "outputs": [
        {
          "output_type": "stream",
          "text": [
            "dujijofplpnbuwduuwjfl[p[p[nidvxaklpl is longer than 30 characters\n"
          ],
          "name": "stdout"
        }
      ]
    },
    {
      "cell_type": "code",
      "metadata": {
        "id": "go0_X0OAG6mb"
      },
      "source": [
        "stringx = 'dujijofplpnbuwduuwjfl[p[p[nidvxaklpl'  \n",
        "\n",
        "if len(stringx) > 100 :     # ถ้ามันไม่เป็นไปตามเงื่อนไขจะไม่แสดงผลลัพธ์ที่ได้ออกมา\n",
        "      print(f'{stringx} is longer than 100 characters')"
      ],
      "execution_count": 73,
      "outputs": []
    },
    {
      "cell_type": "markdown",
      "metadata": {
        "id": "urD54GivHiUJ"
      },
      "source": [
        "if  เงื่อนไขที่จะตรวจสอบ (==,!=,<,>,<=,>=):\n",
        "\n",
        "      ถ้าเงื่อนไขเป็นจริง  ทำงาน 1\n",
        "      ถ้าเงื่อนไขเป็นจริง  ทำงาน 2\n",
        "\n",
        " else :  # ตรวจสอบเงื่อนไขข้างบนแล้วไม่เป็นจริง\n",
        " \n",
        "      ทำงานที่ x"
      ]
    },
    {
      "cell_type": "code",
      "metadata": {
        "id": "0zwGBGvaHeek",
        "outputId": "776e7071-7e96-4a11-ec54-5cfc6f071efe",
        "colab": {
          "base_uri": "https://localhost:8080/"
        }
      },
      "source": [
        "stringx = 'dujijofplpnbuwduuwjfl[p[p[nidvxaklpl'  \n",
        "\n",
        "if len(stringx) > 100 :     \n",
        "      print(f'{stringx} is longer than 100 characters')  # ถ้าเงื่อนไขนี้ไม่เป็นจริง จะทำตามเงื่อนไขข้างล่างต่อ\n",
        "else :\n",
        "      print(f'{stringx} in {len(stringx)} characters long ')"
      ],
      "execution_count": 76,
      "outputs": [
        {
          "output_type": "stream",
          "text": [
            "dujijofplpnbuwduuwjfl[p[p[nidvxaklpl in 36 characters long \n"
          ],
          "name": "stdout"
        }
      ]
    },
    {
      "cell_type": "markdown",
      "metadata": {
        "id": "REKq0FzBJMel"
      },
      "source": [
        "if  เงื่อนไขที่จะตรวจสอบ (==,!=,<,>,<=,>=):\n",
        "\n",
        "      ถ้าเงื่อนไขเป็นจริง  ทำงาน 1    # ตรวจสอบว่าเป็นไปตามเงื่อนไขนี้หรือป่าว ถ้าไม่เป็นจริงจะไปเงื่อนไขต่อไป\n",
        "      ถ้าเงื่อนไขเป็นจริง  ทำงาน 2\n",
        "\n",
        "elif เงื่อนไขที่จะตรวจสอบต่อไปถ้าเงื่อนไขข้างบนไม่เป็นจริง :\n",
        "\n",
        "      ถ้าเงื่อนไขเป็นจริง ทำงานที่ a1    # ข้างบนไม่เป็นจริง จะตรวจสอบเงื่อนไขอันนี้ ถ้าเงื่อนไขไม่เป็นจริงจะตรวจสอบเงื่อนไขต่อไปข้างล่าง\n",
        "      ถ้าเงื่อนไขเป็นจริง ทำงานที่ a2\n",
        "\n",
        "elif เงื่อนไขที่จะตรวจสอบต่อไปถ้าเงื่อนไขข้างบนไม่เป็นจริง :\n",
        "\n",
        "      ถ้าเงื่อนไขเป็นจริง ทำงานที่ b1    # ข้างบนไม่เป็นจริง จะตรวจสอบเงื่อนไขอันนี้ ถ้าเงื่อนไขไม่เป็นจริงจะตรวจสอบเงื่อนไขต่อไปข้างล่าง\n",
        "      ถ้าเงื่อนไขเป็นจริง ทำงานที่ b2\n",
        "\n",
        "else :  # ตรวจสอบเงื่อนไขข้างบนแล้วไม่เป็นจริง ถึงจะมาทำอันนี้\n",
        " \n",
        "      ทำงานที่ x"
      ]
    },
    {
      "cell_type": "code",
      "metadata": {
        "id": "5D7fpO73Kxzt",
        "outputId": "9a07f409-eb84-45bc-bb07-c228ee2a0d6e",
        "colab": {
          "base_uri": "https://localhost:8080/"
        }
      },
      "source": [
        "password = '12345'\n",
        "\n",
        "input_pass = '123'\n",
        "if input_pass == password :   # ถ้าตรงกับ password ที่ตั้งไว้ให้ print คำว่า Welcome! ถ้าไม่ตรงจะต้องตรวจสอบเงื่อนไขต่อไป\n",
        "      print('Welcome!')\n",
        "elif  len(input_pass) > len(password) :  # ตรวจสอบว่าความยาวของ input_pass ยาวกว่า password มั้ย ถ้าไม่จะต้องตรวจสอบเงื่อนไขต่อไป\n",
        "      print('Too long , try again!')\n",
        "elif  len(input_pass) < len(password) :  # ตรวจสอบว่าความยาวของ input_pass สั้นกว่า password มั้ย ถ้าไม่จะต้องตรวจสอบเงื่อนไขต่อไป\n",
        "      print('Too short , try again!')\n",
        "else :\n",
        "      print('Wrong password , try again')  # เนื่องจากตรวจสอบเงื่อนไขข้างบนทั้งหมดมาแล้วไม่เป็นจริง "
      ],
      "execution_count": 82,
      "outputs": [
        {
          "output_type": "stream",
          "text": [
            "Too short , try again!\n"
          ],
          "name": "stdout"
        }
      ]
    },
    {
      "cell_type": "code",
      "metadata": {
        "id": "KY44oWwJNYsq",
        "outputId": "1efa218b-56ee-483e-8908-0cb59dd768d9",
        "colab": {
          "base_uri": "https://localhost:8080/"
        }
      },
      "source": [
        "password = '12345'\n",
        "\n",
        "input_pass = '123ef'\n",
        "if input_pass == password :   # ถ้าตรงกับ password ที่ตั้งไว้ให้ print คำว่า Welcome! ถ้าไม่ตรงจะต้องตรวจสอบเงื่อนไขต่อไป\n",
        "      print('Welcome!')\n",
        "elif  len(input_pass) > len(password) :  # ตรวจสอบว่าความยาวของ input_pass ยาวกว่า password มั้ย ถ้าไม่จะต้องตรวจสอบเงื่อนไขต่อไป\n",
        "      print('Too long , try again!')\n",
        "elif  len(input_pass) < len(password) :  # ตรวจสอบว่าความยาวของ input_pass สั้นกว่า password มั้ย ถ้าไม่จะต้องตรวจสอบเงื่อนไขต่อไป\n",
        "      print('Too short , try again!')\n",
        "else :\n",
        "      print('Wrong password , try again')  # เนื่องจากตรวจสอบเงื่อนไขข้างบนทั้งหมดมาแล้วไม่เป็นจริง "
      ],
      "execution_count": 83,
      "outputs": [
        {
          "output_type": "stream",
          "text": [
            "Wrong password , try again\n"
          ],
          "name": "stdout"
        }
      ]
    },
    {
      "cell_type": "markdown",
      "metadata": {
        "id": "0eZpwyL9HZYS"
      },
      "source": [
        "### Quiz 1 หา min\n"
      ]
    },
    {
      "cell_type": "code",
      "metadata": {
        "id": "lkIC8DAjKQ6U"
      },
      "source": [
        "list_ex2 = [1,5,9,-19,-2,0] # หาค่าที่น้อยที่สุดใน list_ex โดยไม่ใช้ function min"
      ],
      "execution_count": 86,
      "outputs": []
    },
    {
      "cell_type": "code",
      "metadata": {
        "id": "o29lBtqaN6dX",
        "outputId": "e88c4e04-83c1-4510-b0c2-d2db3b5cd066",
        "colab": {
          "base_uri": "https://localhost:8080/"
        }
      },
      "source": [
        "list_ex2 = [1,5,9,-19,-2,0]\n",
        "\n",
        "min = list_ex2[0]\n",
        "i = 0 # ลำดับของค่าต่ำสุดเริ่มต้น\n",
        "for x in list_ex2: # ทำการวนซ้ำตามจำนวนในลิสต์\n",
        "    if(x<min): # ถ้ามากกว่าค่าสูงสุดเดิม\n",
        "        min = x # ให้เปลี่ยนเป็นค่านั้น\n",
        "        imin = i # และเปลี่ยนลำดับด้วย\n",
        "    i += 1\n",
        "print(f'ค่าที่น้อยที่สุด คือ {min}')"
      ],
      "execution_count": 98,
      "outputs": [
        {
          "output_type": "stream",
          "text": [
            "ค่าที่น้อยที่สุด คือ -19\n"
          ],
          "name": "stdout"
        }
      ]
    },
    {
      "cell_type": "markdown",
      "metadata": {
        "id": "mBHVGrPzLBtT"
      },
      "source": [
        "### Quiz 2 ตัดเกรด"
      ]
    },
    {
      "cell_type": "markdown",
      "metadata": {
        "id": "Ll30Ir0xFmN_"
      },
      "source": [
        "### Function"
      ]
    },
    {
      "cell_type": "code",
      "metadata": {
        "id": "TKufSvjmForv"
      },
      "source": [
        ""
      ],
      "execution_count": null,
      "outputs": []
    }
  ]
}