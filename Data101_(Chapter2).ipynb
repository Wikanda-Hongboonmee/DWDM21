{
  "nbformat": 4,
  "nbformat_minor": 0,
  "metadata": {
    "colab": {
      "name": "Data101 (Chapter2).ipynb",
      "provenance": [],
      "authorship_tag": "ABX9TyMqYDGKH0F1dZNhs4Y/V472",
      "include_colab_link": true
    },
    "kernelspec": {
      "name": "python3",
      "display_name": "Python 3"
    },
    "language_info": {
      "name": "python"
    }
  },
  "cells": [
    {
      "cell_type": "markdown",
      "metadata": {
        "id": "view-in-github",
        "colab_type": "text"
      },
      "source": [
        "<a href=\"https://colab.research.google.com/github/Wikanda-Hongboonmee/DWDM21/blob/main/Data101_(Chapter2).ipynb\" target=\"_parent\"><img src=\"https://colab.research.google.com/assets/colab-badge.svg\" alt=\"Open In Colab\"/></a>"
      ]
    },
    {
      "cell_type": "markdown",
      "metadata": {
        "id": "MYUs9470z3f4"
      },
      "source": [
        "ข้อความที่อยู่ใน **Textbox** จะเป็นภาษา **Markdown** คือ ใช้เครื่องหมายในการแสดงผล เช่น **#** ตัวใหญ่ * ตัวหนา"
      ]
    },
    {
      "cell_type": "markdown",
      "metadata": {
        "id": "utGNvn0ktm64"
      },
      "source": [
        "**ข้อดีหนึ่งของ Python** คือมี Package สำหรับการทำงานต่างๆมากมายให้เราเลือกใช้ \n",
        "\n",
        "ซึ่ง Pandas เป็น Package สำหรับการทำงานกับข้อมูลที่อยู่ในรูปแบบของตาราง \n",
        "\n",
        "โดย Pandas จะเรียกตารางนั้นว่า **Data Frame**"
      ]
    },
    {
      "cell_type": "code",
      "metadata": {
        "id": "_u4cT_OZrzss"
      },
      "source": [
        "import pandas  # เป็น Package ที่ใช้เกี่ยวกับการจัดการข้อมูล , เรียกใช้โดยการ import แล้วตามด้วยชื่อ Package"
      ],
      "execution_count": null,
      "outputs": []
    },
    {
      "cell_type": "code",
      "metadata": {
        "id": "CUE6wuVTs7w4"
      },
      "source": [
        "import pandas as pd  # การ import package อีกแบบหนึ่ง เหมือนกับด้านบน แต่ว่ามีการตั้งชื่อให้กับ Package ที่โหลดมาใหม่ว่า pd"
      ],
      "execution_count": null,
      "outputs": []
    },
    {
      "cell_type": "markdown",
      "metadata": {
        "id": "GeXQ5SXXus6h"
      },
      "source": [
        "ไฟล์ที่จะได้เจอส่วนใหญ่ในวิชานี้เป็นไฟล์ .csv ( **CSV = comma seperated values** )  เป็นไฟล์หลักที่เราจะได้ใช้ในวิชานี้ \n",
        "\n",
        "เป็นไฟล์ที่ใช้เก็บข้อมูลตาราง ที่เข้าใจได้ง่าย ใช้ comma ในการแบ่งข้อมูลแต่ละตัว ใช้ enter ในการแบ่ง record "
      ]
    },
    {
      "cell_type": "code",
      "metadata": {
        "id": "Jgu8ry8hup5Q"
      },
      "source": [
        "data_df = pd.read_csv( 'data.csv' )  # เรียกใช้ไฟล์ csv ที่เราต้องการ โดย pd.read_csv ( 'ชื่อไฟล์' )"
      ],
      "execution_count": null,
      "outputs": []
    },
    {
      "cell_type": "code",
      "metadata": {
        "colab": {
          "base_uri": "https://localhost:8080/",
          "height": 142
        },
        "id": "NLheDzj0xPWQ",
        "outputId": "e62fa4b9-d120-4f28-92e8-d692f29348bf"
      },
      "source": [
        "data_df   # แสดงผลไฟล์ data_df"
      ],
      "execution_count": null,
      "outputs": [
        {
          "output_type": "execute_result",
          "data": {
            "text/html": [
              "<div>\n",
              "<style scoped>\n",
              "    .dataframe tbody tr th:only-of-type {\n",
              "        vertical-align: middle;\n",
              "    }\n",
              "\n",
              "    .dataframe tbody tr th {\n",
              "        vertical-align: top;\n",
              "    }\n",
              "\n",
              "    .dataframe thead th {\n",
              "        text-align: right;\n",
              "    }\n",
              "</style>\n",
              "<table border=\"1\" class=\"dataframe\">\n",
              "  <thead>\n",
              "    <tr style=\"text-align: right;\">\n",
              "      <th></th>\n",
              "      <th>name</th>\n",
              "      <th>age</th>\n",
              "      <th>city</th>\n",
              "    </tr>\n",
              "  </thead>\n",
              "  <tbody>\n",
              "    <tr>\n",
              "      <th>0</th>\n",
              "      <td>Tom</td>\n",
              "      <td>27</td>\n",
              "      <td>Khon Kaen</td>\n",
              "    </tr>\n",
              "    <tr>\n",
              "      <th>1</th>\n",
              "      <td>Paul</td>\n",
              "      <td>15</td>\n",
              "      <td>Bangkok</td>\n",
              "    </tr>\n",
              "    <tr>\n",
              "      <th>2</th>\n",
              "      <td>Sarah</td>\n",
              "      <td>49</td>\n",
              "      <td>London</td>\n",
              "    </tr>\n",
              "  </tbody>\n",
              "</table>\n",
              "</div>"
            ],
            "text/plain": [
              "    name  age       city\n",
              "0    Tom   27  Khon Kaen\n",
              "1   Paul   15    Bangkok\n",
              "2  Sarah   49     London"
            ]
          },
          "metadata": {
            "tags": []
          },
          "execution_count": 4
        }
      ]
    },
    {
      "cell_type": "code",
      "metadata": {
        "colab": {
          "base_uri": "https://localhost:8080/",
          "height": 142
        },
        "id": "LYzBtFcGxRWh",
        "outputId": "f781e0b3-3887-4841-cc7e-6083f95567e6"
      },
      "source": [
        "data_df2 = pandas.read_csv( 'data.csv' ) \n",
        "data_df2  # แสดงผลไฟล์ data_df2"
      ],
      "execution_count": null,
      "outputs": [
        {
          "output_type": "execute_result",
          "data": {
            "text/html": [
              "<div>\n",
              "<style scoped>\n",
              "    .dataframe tbody tr th:only-of-type {\n",
              "        vertical-align: middle;\n",
              "    }\n",
              "\n",
              "    .dataframe tbody tr th {\n",
              "        vertical-align: top;\n",
              "    }\n",
              "\n",
              "    .dataframe thead th {\n",
              "        text-align: right;\n",
              "    }\n",
              "</style>\n",
              "<table border=\"1\" class=\"dataframe\">\n",
              "  <thead>\n",
              "    <tr style=\"text-align: right;\">\n",
              "      <th></th>\n",
              "      <th>name</th>\n",
              "      <th>age</th>\n",
              "      <th>city</th>\n",
              "    </tr>\n",
              "  </thead>\n",
              "  <tbody>\n",
              "    <tr>\n",
              "      <th>0</th>\n",
              "      <td>Tom</td>\n",
              "      <td>27</td>\n",
              "      <td>Khon Kaen</td>\n",
              "    </tr>\n",
              "    <tr>\n",
              "      <th>1</th>\n",
              "      <td>Paul</td>\n",
              "      <td>15</td>\n",
              "      <td>Bangkok</td>\n",
              "    </tr>\n",
              "    <tr>\n",
              "      <th>2</th>\n",
              "      <td>Sarah</td>\n",
              "      <td>49</td>\n",
              "      <td>London</td>\n",
              "    </tr>\n",
              "  </tbody>\n",
              "</table>\n",
              "</div>"
            ],
            "text/plain": [
              "    name  age       city\n",
              "0    Tom   27  Khon Kaen\n",
              "1   Paul   15    Bangkok\n",
              "2  Sarah   49     London"
            ]
          },
          "metadata": {
            "tags": []
          },
          "execution_count": 5
        }
      ]
    },
    {
      "cell_type": "markdown",
      "metadata": {
        "id": "M8eapTsRyh6I"
      },
      "source": [
        "#  Basic Python \n",
        "## Variables"
      ]
    },
    {
      "cell_type": "markdown",
      "metadata": {
        "id": "UOx_S5Ad1rls"
      },
      "source": [
        "**ข้อกำหนดในการตั้งตัวแปร**\n",
        "\n",
        "1.   ชื่อห้ามมีเว้นวรรค\n",
        "2.   ใช้ภาษาอังกฤษ ( เป็นไปได้ควรใช้ภาษาอังกฤษเสมอ )\n",
        "3.   ตัวเล็กกับตัวใหญ่แตกต่างกัน ( case sensitive )\n",
        "4.    ห้ามใช้ตัวเลขเป็นตัวหน้า\n",
        "\n",
        "\n"
      ]
    },
    {
      "cell_type": "code",
      "metadata": {
        "id": "GAg7LntGyK2W"
      },
      "source": [
        "variable_a = 12  # สร้างตัวแปรขึ้นมาใหม่โดยกำหนดให้ตัวแปร variable_a มีค่าเท่ากับ 12 (เป็นตัวเลข)\n",
        "variable_b = ' abcde '   # ' ' เรียกว่า quote เอาไว้ตอนจะพิมพ์ข้อความ (string)\n",
        "variable_c = variable_a  # ค่าของ variable_c เท่ากับ variable_a เรากำหนดค่าอะไรให้มัน มันจะเปลี่ยนตามตัวแปรนั้นๆ"
      ],
      "execution_count": null,
      "outputs": []
    },
    {
      "cell_type": "code",
      "metadata": {
        "colab": {
          "base_uri": "https://localhost:8080/"
        },
        "id": "N0daN15i1JHu",
        "outputId": "4727fe22-d5e5-481e-b7f5-c4208befc5ab"
      },
      "source": [
        "variable_a"
      ],
      "execution_count": null,
      "outputs": [
        {
          "output_type": "execute_result",
          "data": {
            "text/plain": [
              "12"
            ]
          },
          "metadata": {
            "tags": []
          },
          "execution_count": 7
        }
      ]
    },
    {
      "cell_type": "code",
      "metadata": {
        "colab": {
          "base_uri": "https://localhost:8080/",
          "height": 35
        },
        "id": "e6lMkuYg1NIC",
        "outputId": "368d4cad-8d2e-4a29-8422-69b912cfaa65"
      },
      "source": [
        "variable_b"
      ],
      "execution_count": null,
      "outputs": [
        {
          "output_type": "execute_result",
          "data": {
            "application/vnd.google.colaboratory.intrinsic+json": {
              "type": "string"
            },
            "text/plain": [
              "' abcde '"
            ]
          },
          "metadata": {
            "tags": []
          },
          "execution_count": 8
        }
      ]
    },
    {
      "cell_type": "code",
      "metadata": {
        "colab": {
          "base_uri": "https://localhost:8080/"
        },
        "id": "dRQdSNlU1OP4",
        "outputId": "264fa28a-1408-49d0-965f-d89398ec95b0"
      },
      "source": [
        "variable_c"
      ],
      "execution_count": null,
      "outputs": [
        {
          "output_type": "execute_result",
          "data": {
            "text/plain": [
              "12"
            ]
          },
          "metadata": {
            "tags": []
          },
          "execution_count": 9
        }
      ]
    },
    {
      "cell_type": "code",
      "metadata": {
        "colab": {
          "base_uri": "https://localhost:8080/",
          "height": 130
        },
        "id": "ry_rQuaJ2tq-",
        "outputId": "7f1da99e-c97d-47c0-dc4e-8b2bf17c9cb0"
      },
      "source": [
        "variable a = 6  # ชื่อตัวแปรห้ามมีเว้นวรรค"
      ],
      "execution_count": null,
      "outputs": [
        {
          "output_type": "error",
          "ename": "SyntaxError",
          "evalue": "ignored",
          "traceback": [
            "\u001b[0;36m  File \u001b[0;32m\"<ipython-input-10-5dd2524253ac>\"\u001b[0;36m, line \u001b[0;32m1\u001b[0m\n\u001b[0;31m    variable a = 6  # ชื่อตัวแปรห้ามมีเว้นวรรค\u001b[0m\n\u001b[0m             ^\u001b[0m\n\u001b[0;31mSyntaxError\u001b[0m\u001b[0;31m:\u001b[0m invalid syntax\n"
          ]
        }
      ]
    },
    {
      "cell_type": "code",
      "metadata": {
        "colab": {
          "base_uri": "https://localhost:8080/"
        },
        "id": "f5rHnQDk1QLD",
        "outputId": "56939b07-fdf8-4e36-d70e-45a85e853666"
      },
      "source": [
        "ตัวแปร = 3     #  colab ใช้ภาษาไทยในการตั้งชื่อตัวแปรได้แต่ว่าเป็นไปได้ไม่ควรใช้ภาษาไทย\n",
        "ตัวแปร"
      ],
      "execution_count": null,
      "outputs": [
        {
          "output_type": "execute_result",
          "data": {
            "text/plain": [
              "3"
            ]
          },
          "metadata": {
            "tags": []
          },
          "execution_count": 11
        }
      ]
    },
    {
      "cell_type": "code",
      "metadata": {
        "colab": {
          "base_uri": "https://localhost:8080/"
        },
        "id": "Aj5VyzSZ2r26",
        "outputId": "c91d32cb-ef69-496c-b540-6739c6e9b91d"
      },
      "source": [
        "v_a = 1    # ตัวเล็กกับตัวใหญ่แตกต่างกัน ( case sensitive )\n",
        "v_A = 2\n",
        "print(v_a) # เนื่องจากมีตัวแปร 2 ตัว จึงใช้คำสั่ง print เป็นคำสั่งที่ใช้แสดงผลตัวแปร\n",
        "print(v_A)"
      ],
      "execution_count": null,
      "outputs": [
        {
          "output_type": "stream",
          "text": [
            "1\n",
            "2\n"
          ],
          "name": "stdout"
        }
      ]
    },
    {
      "cell_type": "code",
      "metadata": {
        "colab": {
          "base_uri": "https://localhost:8080/"
        },
        "id": "MCNKGnYO3b7u",
        "outputId": "afd49e0b-f8ec-4438-a1bf-0223364eeef9"
      },
      "source": [
        "v_a = 1    # ตัวเล็กกับตัวใหญ่แตกต่างกัน ( case sensitive )\n",
        "v_a = 2    # ค่ามันทับกัน จะแสดงผลค่าล่าสุดที่กำหนดให้แก่ตัวแปรนั้น ๆ \n",
        "print(v_a) # เนื่องจากมีตัวแปร 2 ตัว จึงใช้คำสั่ง print เป็นคำสั่งที่ใช้แสดงผลตัวแปร\n",
        "print(v_a)"
      ],
      "execution_count": null,
      "outputs": [
        {
          "output_type": "stream",
          "text": [
            "2\n",
            "2\n"
          ],
          "name": "stdout"
        }
      ]
    },
    {
      "cell_type": "code",
      "metadata": {
        "colab": {
          "base_uri": "https://localhost:8080/",
          "height": 130
        },
        "id": "9ymHFnRc3hDL",
        "outputId": "e0a67620-6ee3-4bd6-b36b-6c78d537aff0"
      },
      "source": [
        "2_a = 1   #  ห้ามใช้ตัวเลขเป็นตัวหน้า"
      ],
      "execution_count": null,
      "outputs": [
        {
          "output_type": "error",
          "ename": "SyntaxError",
          "evalue": "ignored",
          "traceback": [
            "\u001b[0;36m  File \u001b[0;32m\"<ipython-input-14-299149bc55df>\"\u001b[0;36m, line \u001b[0;32m1\u001b[0m\n\u001b[0;31m    2_a = 1   #  ห้ามใช้ตัวเลขเป็นตัวหน้า\u001b[0m\n\u001b[0m     ^\u001b[0m\n\u001b[0;31mSyntaxError\u001b[0m\u001b[0;31m:\u001b[0m invalid token\n"
          ]
        }
      ]
    },
    {
      "cell_type": "code",
      "metadata": {
        "id": "Vu3CjQ6131oT"
      },
      "source": [
        "variable_a = 12  # สร้างตัวแปรขึ้นมาใหม่โดยกำหนดให้ตัวแปร variable_a มีค่าเท่ากับ 12 (เป็นตัวเลข)\n",
        "variable_b = ' abcde '   # ' ' เรียกว่า quote เอาไว้ตอนจะพิมพ์ข้อความ (string)\n",
        "variable_c = variable_a  # ค่าของ variable_c เท่ากับ variable_a เรากำหนดค่าอะไรให้มัน มันจะเปลี่ยนตามตัวแปรนั้นๆ\n",
        "variable_d = -41.2  # ตัวเลขสามารถอยู่ด้านหลังตัวแปรได้ แต่นำหน้าตัวแปรไม่ได้\n",
        "variable_4 = \"KKU\"   # เราสามารถใช้ double quote แทน quote ได้ "
      ],
      "execution_count": null,
      "outputs": []
    },
    {
      "cell_type": "code",
      "metadata": {
        "colab": {
          "base_uri": "https://localhost:8080/"
        },
        "id": "51IWu5oA4jW8",
        "outputId": "b87308f9-d6ff-41d1-a23a-264cd3fb47e9"
      },
      "source": [
        "variable_x = variable_c + variable_d # นำตัวเลขมาบวกกันได้ \n",
        "print(variable_x) "
      ],
      "execution_count": null,
      "outputs": [
        {
          "output_type": "stream",
          "text": [
            "-29.200000000000003\n"
          ],
          "name": "stdout"
        }
      ]
    },
    {
      "cell_type": "code",
      "metadata": {
        "colab": {
          "base_uri": "https://localhost:8080/"
        },
        "id": "-lbYJ7DD4wNH",
        "outputId": "22fefdec-8fcc-4f9f-bf2b-a79b17a8df44"
      },
      "source": [
        "print(variable_b + variable_4) # นำข้อความมาบวกกันได้ "
      ],
      "execution_count": null,
      "outputs": [
        {
          "output_type": "stream",
          "text": [
            " abcde KKU\n"
          ],
          "name": "stdout"
        }
      ]
    },
    {
      "cell_type": "code",
      "metadata": {
        "colab": {
          "base_uri": "https://localhost:8080/",
          "height": 163
        },
        "id": "ZRkYTfQM6iLZ",
        "outputId": "4b4416ad-1a0d-48f1-f121-2b361a6d1ffa"
      },
      "source": [
        "print(variable_a + variable_b) # นำตัวเลขมาบวกกับข้อความไม่ได้"
      ],
      "execution_count": null,
      "outputs": [
        {
          "output_type": "error",
          "ename": "TypeError",
          "evalue": "ignored",
          "traceback": [
            "\u001b[0;31m---------------------------------------------------------------------------\u001b[0m",
            "\u001b[0;31mTypeError\u001b[0m                                 Traceback (most recent call last)",
            "\u001b[0;32m<ipython-input-18-c9773be329d2>\u001b[0m in \u001b[0;36m<module>\u001b[0;34m()\u001b[0m\n\u001b[0;32m----> 1\u001b[0;31m \u001b[0mprint\u001b[0m\u001b[0;34m(\u001b[0m\u001b[0mvariable_a\u001b[0m \u001b[0;34m+\u001b[0m \u001b[0mvariable_b\u001b[0m\u001b[0;34m)\u001b[0m \u001b[0;31m# นำตัวเลขมาบวกกับข้อความไม่ได้\u001b[0m\u001b[0;34m\u001b[0m\u001b[0;34m\u001b[0m\u001b[0m\n\u001b[0m",
            "\u001b[0;31mTypeError\u001b[0m: unsupported operand type(s) for +: 'int' and 'str'"
          ]
        }
      ]
    },
    {
      "cell_type": "markdown",
      "metadata": {
        "id": "m3SxsrO67CQj"
      },
      "source": [
        "## Casting int()  float() stri()\n",
        "\n",
        "เราสามารถเปลี่ยนชนิดของตัวแปรได้ "
      ]
    },
    {
      "cell_type": "code",
      "metadata": {
        "colab": {
          "base_uri": "https://localhost:8080/"
        },
        "id": "SB0aX3N-67JG",
        "outputId": "7720c5ed-01b2-4a13-c4b2-4ee7f4eff064"
      },
      "source": [
        "print(variable_x) # ผลบวกเป็น float\n",
        "print(int(variable_x)) # เปลี่ยนผลบวกเป็นจำนวนเต็มหรือ int"
      ],
      "execution_count": null,
      "outputs": [
        {
          "output_type": "stream",
          "text": [
            "-29.200000000000003\n",
            "-29\n"
          ],
          "name": "stdout"
        }
      ]
    },
    {
      "cell_type": "code",
      "metadata": {
        "colab": {
          "base_uri": "https://localhost:8080/"
        },
        "id": "3QkSbbnX7Z6X",
        "outputId": "fd8d1ac8-2f31-4c73-c5d7-2a165ff55023"
      },
      "source": [
        "v_x = str(variable_x) # เปลี่ยนให้เป็น string\n",
        "print(str(variable_x)) "
      ],
      "execution_count": null,
      "outputs": [
        {
          "output_type": "stream",
          "text": [
            "-29.200000000000003\n"
          ],
          "name": "stdout"
        }
      ]
    },
    {
      "cell_type": "code",
      "metadata": {
        "colab": {
          "base_uri": "https://localhost:8080/",
          "height": 163
        },
        "id": "l1I5SMCG7zTM",
        "outputId": "cd6e5ee4-9cf4-45e4-e692-472f564e1a27"
      },
      "source": [
        "v_x + variable_a  # เอามาบวกกันไม่ได้ เนื่องจากเปลี่ยน v_x เป็น string ไปแล้ว"
      ],
      "execution_count": null,
      "outputs": [
        {
          "output_type": "error",
          "ename": "TypeError",
          "evalue": "ignored",
          "traceback": [
            "\u001b[0;31m---------------------------------------------------------------------------\u001b[0m",
            "\u001b[0;31mTypeError\u001b[0m                                 Traceback (most recent call last)",
            "\u001b[0;32m<ipython-input-21-0987a2f09f0c>\u001b[0m in \u001b[0;36m<module>\u001b[0;34m()\u001b[0m\n\u001b[0;32m----> 1\u001b[0;31m \u001b[0mv_x\u001b[0m \u001b[0;34m+\u001b[0m \u001b[0mvariable_a\u001b[0m  \u001b[0;31m# เอามาบวกกันไม่ได้ เนื่องจากเปลี่ยน v_x เป็น string ไปแล้ว\u001b[0m\u001b[0;34m\u001b[0m\u001b[0;34m\u001b[0m\u001b[0m\n\u001b[0m",
            "\u001b[0;31mTypeError\u001b[0m: can only concatenate str (not \"int\") to str"
          ]
        }
      ]
    },
    {
      "cell_type": "code",
      "metadata": {
        "colab": {
          "base_uri": "https://localhost:8080/",
          "height": 35
        },
        "id": "m4IoQB1a8AWv",
        "outputId": "9ba4aeb1-3e54-40f2-8972-31eecbf25181"
      },
      "source": [
        "v_x  # แสดงผลออกมามันมี quote แสดงว่าเป็นข้อความหรือ string"
      ],
      "execution_count": null,
      "outputs": [
        {
          "output_type": "execute_result",
          "data": {
            "application/vnd.google.colaboratory.intrinsic+json": {
              "type": "string"
            },
            "text/plain": [
              "'-29.200000000000003'"
            ]
          },
          "metadata": {
            "tags": []
          },
          "execution_count": 22
        }
      ]
    },
    {
      "cell_type": "code",
      "metadata": {
        "colab": {
          "base_uri": "https://localhost:8080/"
        },
        "id": "5fyrrWvM8dd2",
        "outputId": "f6f8819a-33b4-4636-88a8-cb2a697c3bf0"
      },
      "source": [
        "float(v_x)  # เปลี่ยนเป็น float แสดงผลออกมาจะเป็นตัวเลข"
      ],
      "execution_count": null,
      "outputs": [
        {
          "output_type": "execute_result",
          "data": {
            "text/plain": [
              "-29.200000000000003"
            ]
          },
          "metadata": {
            "tags": []
          },
          "execution_count": 23
        }
      ]
    },
    {
      "cell_type": "markdown",
      "metadata": {
        "id": "O15LlAE_835u"
      },
      "source": [
        "# Data Structure \n",
        "## list ()\n",
        "list เป็นตัวแปรหรือตัวเลขหลายๆตัวมาเรียงต่อๆกัน"
      ]
    },
    {
      "cell_type": "code",
      "metadata": {
        "id": "HdGQhkgT8u0B"
      },
      "source": [
        "list_a = [1,2,0.2,'abs']  # [ ] คือ square brackets , ลำดับใน list มีความสำคัญ\n",
        "list_b = [2,'xyz',list_a,[1,2,0.0]] "
      ],
      "execution_count": null,
      "outputs": []
    },
    {
      "cell_type": "code",
      "metadata": {
        "colab": {
          "base_uri": "https://localhost:8080/"
        },
        "id": "1uhdQLdv940J",
        "outputId": "652ebef3-6b43-4806-ccb1-e84805d2c7e5"
      },
      "source": [
        "list_a"
      ],
      "execution_count": null,
      "outputs": [
        {
          "output_type": "execute_result",
          "data": {
            "text/plain": [
              "[1, 2, 0.2, 'abs']"
            ]
          },
          "metadata": {
            "tags": []
          },
          "execution_count": 25
        }
      ]
    },
    {
      "cell_type": "code",
      "metadata": {
        "colab": {
          "base_uri": "https://localhost:8080/"
        },
        "id": "2wKa64ia96Y_",
        "outputId": "e0faa513-e705-4b0f-8d96-64a10b30f0d3"
      },
      "source": [
        "list_b"
      ],
      "execution_count": null,
      "outputs": [
        {
          "output_type": "execute_result",
          "data": {
            "text/plain": [
              "[2, 'xyz', [1, 2, 0.2, 'abs'], [1, 2, 0.0]]"
            ]
          },
          "metadata": {
            "tags": []
          },
          "execution_count": 26
        }
      ]
    },
    {
      "cell_type": "code",
      "metadata": {
        "colab": {
          "base_uri": "https://localhost:8080/"
        },
        "id": "F75MoFYy98oJ",
        "outputId": "2d25dd6f-1c9f-440e-b789-f662feab57fb"
      },
      "source": [
        "len(list_b) # เป็นคำสั่งที่เอาไว้ดูว่า list มีสมาชิกทั้งหมดกี่ตัว"
      ],
      "execution_count": null,
      "outputs": [
        {
          "output_type": "execute_result",
          "data": {
            "text/plain": [
              "4"
            ]
          },
          "metadata": {
            "tags": []
          },
          "execution_count": 27
        }
      ]
    },
    {
      "cell_type": "code",
      "metadata": {
        "colab": {
          "base_uri": "https://localhost:8080/"
        },
        "id": "spD5OBrd-UTy",
        "outputId": "627adf63-badb-4c2c-8a81-c581467199e3"
      },
      "source": [
        "list_b[3] # ชี้สมาชิกตัวที่ 3 ใน list_b (เริ่มนับตัวแรกเป็นตัวที่ 0)"
      ],
      "execution_count": null,
      "outputs": [
        {
          "output_type": "execute_result",
          "data": {
            "text/plain": [
              "[1, 2, 0.0]"
            ]
          },
          "metadata": {
            "tags": []
          },
          "execution_count": 28
        }
      ]
    },
    {
      "cell_type": "code",
      "metadata": {
        "colab": {
          "base_uri": "https://localhost:8080/"
        },
        "id": "eZ6vGO0a-gC3",
        "outputId": "05347100-cf62-423a-bd5d-0def1c5cab1b"
      },
      "source": [
        "list_b[3][1] # ชี้สมาชิกตัวที่ 3 ลำดับที่ 1 ใน list_b"
      ],
      "execution_count": null,
      "outputs": [
        {
          "output_type": "execute_result",
          "data": {
            "text/plain": [
              "2"
            ]
          },
          "metadata": {
            "tags": []
          },
          "execution_count": 29
        }
      ]
    },
    {
      "cell_type": "markdown",
      "metadata": {
        "id": "F68G2n2b-4ya"
      },
      "source": [
        "string คือ list ของ ตัวหนังสือ "
      ]
    },
    {
      "cell_type": "code",
      "metadata": {
        "id": "ZKECHhe3-r60"
      },
      "source": [
        "a = 'Stat KKU'"
      ],
      "execution_count": null,
      "outputs": []
    },
    {
      "cell_type": "code",
      "metadata": {
        "colab": {
          "base_uri": "https://localhost:8080/",
          "height": 35
        },
        "id": "BTTBTiiU_D_B",
        "outputId": "89f03014-f5cf-4557-8b50-0d2f66f10fbf"
      },
      "source": [
        "a[4]"
      ],
      "execution_count": null,
      "outputs": [
        {
          "output_type": "execute_result",
          "data": {
            "application/vnd.google.colaboratory.intrinsic+json": {
              "type": "string"
            },
            "text/plain": [
              "' '"
            ]
          },
          "metadata": {
            "tags": []
          },
          "execution_count": 31
        }
      ]
    },
    {
      "cell_type": "markdown",
      "metadata": {
        "id": "Fx2NavAm_kyK"
      },
      "source": [
        "## วิธีการสร้าง list แบบที่ 2 list ว่าง"
      ]
    },
    {
      "cell_type": "code",
      "metadata": {
        "id": "vWq_V2y7_HVf"
      },
      "source": [
        "list_c = list()  # แบบที่ 1\n",
        "list_d = [] # แบบที่ 2"
      ],
      "execution_count": null,
      "outputs": []
    },
    {
      "cell_type": "code",
      "metadata": {
        "colab": {
          "base_uri": "https://localhost:8080/"
        },
        "id": "9q87-Qts_4YD",
        "outputId": "60ca30f4-1b17-495a-d9ce-4db4963295bd"
      },
      "source": [
        "list_c"
      ],
      "execution_count": null,
      "outputs": [
        {
          "output_type": "execute_result",
          "data": {
            "text/plain": [
              "[]"
            ]
          },
          "metadata": {
            "tags": []
          },
          "execution_count": 33
        }
      ]
    },
    {
      "cell_type": "code",
      "metadata": {
        "colab": {
          "base_uri": "https://localhost:8080/"
        },
        "id": "pX54KpWz_7Zo",
        "outputId": "3624c810-cd08-4680-9c8a-d1b48486878e"
      },
      "source": [
        "list_d"
      ],
      "execution_count": null,
      "outputs": [
        {
          "output_type": "execute_result",
          "data": {
            "text/plain": [
              "[]"
            ]
          },
          "metadata": {
            "tags": []
          },
          "execution_count": 34
        }
      ]
    },
    {
      "cell_type": "markdown",
      "metadata": {
        "id": "oG0aFPyPAj3s"
      },
      "source": [
        "### เติมค่าลงไปใน list (.append())"
      ]
    },
    {
      "cell_type": "code",
      "metadata": {
        "id": "OFonSxto_9qH"
      },
      "source": [
        "list_d.append('a') # ค่าที่เพิ่มเข้าไปจะไปต่อด้านหลังของ list"
      ],
      "execution_count": null,
      "outputs": []
    },
    {
      "cell_type": "code",
      "metadata": {
        "colab": {
          "base_uri": "https://localhost:8080/"
        },
        "id": "euXLuwiyAuOx",
        "outputId": "353b74b5-8637-4d3e-a55d-d4c4a68a0b5f"
      },
      "source": [
        "list_d"
      ],
      "execution_count": null,
      "outputs": [
        {
          "output_type": "execute_result",
          "data": {
            "text/plain": [
              "['a', 56, 'a']"
            ]
          },
          "metadata": {
            "tags": []
          },
          "execution_count": 40
        }
      ]
    },
    {
      "cell_type": "code",
      "metadata": {
        "id": "5LvUGfLeAvnu"
      },
      "source": [
        "list_d.append(56)"
      ],
      "execution_count": null,
      "outputs": []
    },
    {
      "cell_type": "code",
      "metadata": {
        "colab": {
          "base_uri": "https://localhost:8080/"
        },
        "id": "_0r43L39A39R",
        "outputId": "83031823-7716-4831-d9b8-688224297921"
      },
      "source": [
        "list_d"
      ],
      "execution_count": null,
      "outputs": [
        {
          "output_type": "execute_result",
          "data": {
            "text/plain": [
              "['a', 56, 'a', 56]"
            ]
          },
          "metadata": {
            "tags": []
          },
          "execution_count": 42
        }
      ]
    },
    {
      "cell_type": "markdown",
      "metadata": {
        "id": "PjWAbiNIBTZi"
      },
      "source": [
        "### การชี้ค่าใน list (indexing)\n",
        "\n",
        "\n",
        "1.   ใช้ลำดับในการชี้\n",
        "2.   ลำดับเริ่มต้นจาก 0\n",
        "3.   สามารถชี้จากข้างหลังได้โดยใช้ **negative index**\n",
        "\n"
      ]
    },
    {
      "cell_type": "code",
      "metadata": {
        "colab": {
          "base_uri": "https://localhost:8080/"
        },
        "id": "tQaC_1owA6T8",
        "outputId": "647feecb-9fb4-4f5b-ff0b-e5fc2c6033ae"
      },
      "source": [
        "list_b"
      ],
      "execution_count": null,
      "outputs": [
        {
          "output_type": "execute_result",
          "data": {
            "text/plain": [
              "[2, 'xyz', [1, 2, 0.2, 'abs'], [1, 2, 0.0]]"
            ]
          },
          "metadata": {
            "tags": []
          },
          "execution_count": 43
        }
      ]
    },
    {
      "cell_type": "code",
      "metadata": {
        "colab": {
          "base_uri": "https://localhost:8080/"
        },
        "id": "B9MFm0KqBmEt",
        "outputId": "f23e0960-a137-4258-9e58-4726861a0693"
      },
      "source": [
        "list_b[-1] # -1 ก็จะชี้ตัวท้ายสุดที่อยู่ใน list"
      ],
      "execution_count": null,
      "outputs": [
        {
          "output_type": "execute_result",
          "data": {
            "text/plain": [
              "[1, 2, 0.0]"
            ]
          },
          "metadata": {
            "tags": []
          },
          "execution_count": 44
        }
      ]
    },
    {
      "cell_type": "markdown",
      "metadata": {
        "id": "5f6tv3MQCSKv"
      },
      "source": [
        "### list slicing"
      ]
    },
    {
      "cell_type": "markdown",
      "metadata": {
        "id": "7peK-RdPC8_9"
      },
      "source": [
        "เราจะตัด list โดยเอาตั้งแต่ [ตัวหน้า:ตัวก่อนตัวหลัง]\n",
        "\n",
        "ถ้าเป็นสัญลักษณ์คณิตศาสตร์ **[ตัวหน้า:ตัวหลัง)**"
      ]
    },
    {
      "cell_type": "code",
      "metadata": {
        "id": "xX7lZ7lBBpFY"
      },
      "source": [
        "list_ex = [1,2,3,5,6,8,-1,20,50,0]"
      ],
      "execution_count": null,
      "outputs": []
    },
    {
      "cell_type": "code",
      "metadata": {
        "colab": {
          "base_uri": "https://localhost:8080/"
        },
        "id": "M_KkZfO4Capa",
        "outputId": "71c2bb92-6a80-40fd-b258-77718686d13a"
      },
      "source": [
        "list_ex[1:6]  # เราจะตัด list โดยเอาตั้งแต่ ตัวข้างหน้า ถึง ตัวก่อนหน้าตัวข้างหลัง : "
      ],
      "execution_count": null,
      "outputs": [
        {
          "output_type": "execute_result",
          "data": {
            "text/plain": [
              "[2, 3, 5, 6, 8]"
            ]
          },
          "metadata": {
            "tags": []
          },
          "execution_count": 46
        }
      ]
    },
    {
      "cell_type": "code",
      "metadata": {
        "colab": {
          "base_uri": "https://localhost:8080/"
        },
        "id": "B6Cqi9lJCgyU",
        "outputId": "a7e0527d-2869-4dfb-baeb-43c7e9c0e4a1"
      },
      "source": [
        "list_ex[4:]  # เอาตั้งแต่ตัวที่ 4 ไปจนถึงตัวสุดท้าย"
      ],
      "execution_count": null,
      "outputs": [
        {
          "output_type": "execute_result",
          "data": {
            "text/plain": [
              "[6, 8, -1, 20, 50, 0]"
            ]
          },
          "metadata": {
            "tags": []
          },
          "execution_count": 47
        }
      ]
    },
    {
      "cell_type": "code",
      "metadata": {
        "colab": {
          "base_uri": "https://localhost:8080/"
        },
        "id": "SbyCtF1eDggf",
        "outputId": "af7c1709-feff-44f3-bb34-d0d6fe54224d"
      },
      "source": [
        "list_ex[:6]  # เอาตั้งแต่ตัวแรกไปจนถึงตัวก่อนหน้าตัวที่ 6"
      ],
      "execution_count": null,
      "outputs": [
        {
          "output_type": "execute_result",
          "data": {
            "text/plain": [
              "[1, 2, 3, 5, 6, 8]"
            ]
          },
          "metadata": {
            "tags": []
          },
          "execution_count": 48
        }
      ]
    },
    {
      "cell_type": "markdown",
      "metadata": {
        "id": "VoBkGuTLEI96"
      },
      "source": [
        "[จุดเริ่มต้น: จุดสุดท้าย: step] "
      ]
    },
    {
      "cell_type": "code",
      "metadata": {
        "colab": {
          "base_uri": "https://localhost:8080/"
        },
        "id": "gqdSRRYlDoHu",
        "outputId": "54b56964-e7ab-4557-debe-52c85b5e48a1"
      },
      "source": [
        "list_ex[::2]  # เอาตั้งแต่ตัวแรกไปจนถึงตัวสุดท้าย step 2 หมายถึง กระโดดไปทีละ 2 ข้ามไปตัวนึง"
      ],
      "execution_count": null,
      "outputs": [
        {
          "output_type": "execute_result",
          "data": {
            "text/plain": [
              "[1, 3, 6, -1, 50]"
            ]
          },
          "metadata": {
            "tags": []
          },
          "execution_count": 49
        }
      ]
    },
    {
      "cell_type": "code",
      "metadata": {
        "colab": {
          "base_uri": "https://localhost:8080/"
        },
        "id": "h8wc905lEBAj",
        "outputId": "c5d4baf3-6309-4594-a3f4-ee74fe240d9b"
      },
      "source": [
        "list_ex[::-1] # กลับ list เอาตัวแรกไปอยู่ด้านหลัง ตัวหลังมาอยู่ด้านหน้า"
      ],
      "execution_count": null,
      "outputs": [
        {
          "output_type": "execute_result",
          "data": {
            "text/plain": [
              "[0, 50, 20, -1, 8, 6, 5, 3, 2, 1]"
            ]
          },
          "metadata": {
            "tags": []
          },
          "execution_count": 50
        }
      ]
    },
    {
      "cell_type": "code",
      "metadata": {
        "colab": {
          "base_uri": "https://localhost:8080/"
        },
        "id": "_wcJlWHjEols",
        "outputId": "83c40046-217d-45dd-807b-d16755e14759"
      },
      "source": [
        "list_ex[::3] # กระโดดไปทีละ 3 ข้ามไป 2 "
      ],
      "execution_count": null,
      "outputs": [
        {
          "output_type": "execute_result",
          "data": {
            "text/plain": [
              "[1, 5, -1, 0]"
            ]
          },
          "metadata": {
            "tags": []
          },
          "execution_count": 51
        }
      ]
    },
    {
      "cell_type": "code",
      "metadata": {
        "colab": {
          "base_uri": "https://localhost:8080/",
          "height": 35
        },
        "id": "Lt54GHvOEyq1",
        "outputId": "091e2a17-f5bb-4a84-8aa8-b6d93040baaf"
      },
      "source": [
        "a"
      ],
      "execution_count": null,
      "outputs": [
        {
          "output_type": "execute_result",
          "data": {
            "application/vnd.google.colaboratory.intrinsic+json": {
              "type": "string"
            },
            "text/plain": [
              "'Stat KKU'"
            ]
          },
          "metadata": {
            "tags": []
          },
          "execution_count": 52
        }
      ]
    },
    {
      "cell_type": "code",
      "metadata": {
        "colab": {
          "base_uri": "https://localhost:8080/",
          "height": 35
        },
        "id": "Oal-iBkpE8ll",
        "outputId": "6ac00a94-e089-4405-f988-67e9512d9d7e"
      },
      "source": [
        "a[5:]"
      ],
      "execution_count": null,
      "outputs": [
        {
          "output_type": "execute_result",
          "data": {
            "application/vnd.google.colaboratory.intrinsic+json": {
              "type": "string"
            },
            "text/plain": [
              "'KKU'"
            ]
          },
          "metadata": {
            "tags": []
          },
          "execution_count": 53
        }
      ]
    },
    {
      "cell_type": "code",
      "metadata": {
        "colab": {
          "base_uri": "https://localhost:8080/",
          "height": 35
        },
        "id": "9Gyd6xN_FAg1",
        "outputId": "65289cdd-effc-4501-c4ef-c043054888cb"
      },
      "source": [
        "a[-3:]"
      ],
      "execution_count": null,
      "outputs": [
        {
          "output_type": "execute_result",
          "data": {
            "application/vnd.google.colaboratory.intrinsic+json": {
              "type": "string"
            },
            "text/plain": [
              "'KKU'"
            ]
          },
          "metadata": {
            "tags": []
          },
          "execution_count": 54
        }
      ]
    },
    {
      "cell_type": "code",
      "metadata": {
        "colab": {
          "base_uri": "https://localhost:8080/",
          "height": 35
        },
        "id": "VoK4eWI6F2be",
        "outputId": "b096d52f-3204-4140-ce3d-24f369925d19"
      },
      "source": [
        "a[5:8]"
      ],
      "execution_count": null,
      "outputs": [
        {
          "output_type": "execute_result",
          "data": {
            "application/vnd.google.colaboratory.intrinsic+json": {
              "type": "string"
            },
            "text/plain": [
              "'KKU'"
            ]
          },
          "metadata": {
            "tags": []
          },
          "execution_count": 55
        }
      ]
    },
    {
      "cell_type": "code",
      "metadata": {
        "colab": {
          "base_uri": "https://localhost:8080/",
          "height": 35
        },
        "id": "_puJz2mXF7Ti",
        "outputId": "13b2ba3d-e149-4d8f-9813-31db5a5834f9"
      },
      "source": [
        "a[5::]"
      ],
      "execution_count": null,
      "outputs": [
        {
          "output_type": "execute_result",
          "data": {
            "application/vnd.google.colaboratory.intrinsic+json": {
              "type": "string"
            },
            "text/plain": [
              "'KKU'"
            ]
          },
          "metadata": {
            "tags": []
          },
          "execution_count": 56
        }
      ]
    },
    {
      "cell_type": "code",
      "metadata": {
        "colab": {
          "base_uri": "https://localhost:8080/",
          "height": 35
        },
        "id": "CslkUpBEGPop",
        "outputId": "82a89df8-7723-4f26-a794-0327ecfdb99c"
      },
      "source": [
        "a[-3::]"
      ],
      "execution_count": null,
      "outputs": [
        {
          "output_type": "execute_result",
          "data": {
            "application/vnd.google.colaboratory.intrinsic+json": {
              "type": "string"
            },
            "text/plain": [
              "'KKU'"
            ]
          },
          "metadata": {
            "tags": []
          },
          "execution_count": 57
        }
      ]
    },
    {
      "cell_type": "markdown",
      "metadata": {
        "id": "8UVe4b5VGpTI"
      },
      "source": [
        "### list + list"
      ]
    },
    {
      "cell_type": "code",
      "metadata": {
        "colab": {
          "base_uri": "https://localhost:8080/"
        },
        "id": "FcTV5q44GX54",
        "outputId": "b2a3cf71-d919-4190-a41c-875cacbfd989"
      },
      "source": [
        "print(list_a)\n",
        "print(list_b)"
      ],
      "execution_count": null,
      "outputs": [
        {
          "output_type": "stream",
          "text": [
            "[1, 2, 0.2, 'abs']\n",
            "[2, 'xyz', [1, 2, 0.2, 'abs'], [1, 2, 0.0]]\n"
          ],
          "name": "stdout"
        }
      ]
    },
    {
      "cell_type": "code",
      "metadata": {
        "colab": {
          "base_uri": "https://localhost:8080/"
        },
        "id": "NxAhZoncG7Hj",
        "outputId": "6bb35127-04ea-4bb5-88b0-9ffc550ab328"
      },
      "source": [
        "list_a + list_b # เราสามารถเอา list มาบวกกันได้"
      ],
      "execution_count": null,
      "outputs": [
        {
          "output_type": "execute_result",
          "data": {
            "text/plain": [
              "[1, 2, 0.2, 'abs', 2, 'xyz', [1, 2, 0.2, 'abs'], [1, 2, 0.0]]"
            ]
          },
          "metadata": {
            "tags": []
          },
          "execution_count": 59
        }
      ]
    },
    {
      "cell_type": "markdown",
      "metadata": {
        "id": "oVYV2zBXLNzl"
      },
      "source": [
        "### format string"
      ]
    },
    {
      "cell_type": "markdown",
      "metadata": {
        "id": "AuxlH-CPLv1i"
      },
      "source": [
        "**f'string {ตัวแปร}**   โดย {} เรียกว่า curly brackets\n"
      ]
    },
    {
      "cell_type": "code",
      "metadata": {
        "colab": {
          "base_uri": "https://localhost:8080/",
          "height": 35
        },
        "id": "jI_5fhPiLSVo",
        "outputId": "d26074e0-58c6-49bf-cf72-6a97235fc9dd"
      },
      "source": [
        "f'ตัวแปร list_a มีค่าคือ {list_a}'"
      ],
      "execution_count": null,
      "outputs": [
        {
          "output_type": "execute_result",
          "data": {
            "application/vnd.google.colaboratory.intrinsic+json": {
              "type": "string"
            },
            "text/plain": [
              "\"ตัวแปร list_a มีค่าคือ [1, 2, 0.2, 'abs']\""
            ]
          },
          "metadata": {
            "tags": []
          },
          "execution_count": 60
        }
      ]
    },
    {
      "cell_type": "markdown",
      "metadata": {
        "id": "BU-4m7DSHVRX"
      },
      "source": [
        "## Loop"
      ]
    },
    {
      "cell_type": "markdown",
      "metadata": {
        "id": "PxoDnlqMBjNz"
      },
      "source": [
        "**ทำงานซ้ำ ๆ หรือทำงานคล้าย ๆ กัน**"
      ]
    },
    {
      "cell_type": "markdown",
      "metadata": {
        "id": "zcEBfmtGKXag"
      },
      "source": [
        "for ตัวแปรที่จะรับค่าจาก list in list ที่จะนำมาวนลูป\n",
        "\n",
        "        do something  # in loop\n",
        "        do another thing  # in loop\n",
        "\n",
        "do other thing # out side loop"
      ]
    },
    {
      "cell_type": "code",
      "metadata": {
        "colab": {
          "base_uri": "https://localhost:8080/"
        },
        "id": "KpHbl2lYJmcy",
        "outputId": "24b6f727-78a5-4a49-f8d0-d3f335e944b7"
      },
      "source": [
        "for  i  in  [1,2,3,4,5] :    # i จะวนเป็นตัวเลขตามใน list ด้านหลัง\n",
        "      print(i+1)    # i จะแสดงผลออกมาเป็น i+1 "
      ],
      "execution_count": 1,
      "outputs": [
        {
          "output_type": "stream",
          "text": [
            "2\n",
            "3\n",
            "4\n",
            "5\n",
            "6\n"
          ],
          "name": "stdout"
        }
      ]
    },
    {
      "cell_type": "code",
      "metadata": {
        "colab": {
          "base_uri": "https://localhost:8080/"
        },
        "id": "Xqn6_FcDMV0z",
        "outputId": "1bcfbe4d-b386-4f85-eeaf-c42fa770e662"
      },
      "source": [
        "for x in  [1,2,3,4,5] :\n",
        "      print(f'ค่าตัวแปร x คือ {x} และ x+2 = {x+2}')"
      ],
      "execution_count": 2,
      "outputs": [
        {
          "output_type": "stream",
          "text": [
            "ค่าตัวแปร x คือ 1 และ x+2 = 3\n",
            "ค่าตัวแปร x คือ 2 และ x+2 = 4\n",
            "ค่าตัวแปร x คือ 3 และ x+2 = 5\n",
            "ค่าตัวแปร x คือ 4 และ x+2 = 6\n",
            "ค่าตัวแปร x คือ 5 และ x+2 = 7\n"
          ],
          "name": "stdout"
        }
      ]
    },
    {
      "cell_type": "code",
      "metadata": {
        "colab": {
          "base_uri": "https://localhost:8080/"
        },
        "id": "cI6Ohp10M0bP",
        "outputId": "cc9e4742-ee83-438c-f320-1bf5d0b1f0dd"
      },
      "source": [
        "list5 = [1,2,3,4,5]\n",
        "for x in list5 :\n",
        "      print(f'ค่าตัวแปร x คือ {x} และ x+2 = {x+2}')"
      ],
      "execution_count": 3,
      "outputs": [
        {
          "output_type": "stream",
          "text": [
            "ค่าตัวแปร x คือ 1 และ x+2 = 3\n",
            "ค่าตัวแปร x คือ 2 และ x+2 = 4\n",
            "ค่าตัวแปร x คือ 3 และ x+2 = 5\n",
            "ค่าตัวแปร x คือ 4 และ x+2 = 6\n",
            "ค่าตัวแปร x คือ 5 และ x+2 = 7\n"
          ],
          "name": "stdout"
        }
      ]
    },
    {
      "cell_type": "code",
      "metadata": {
        "colab": {
          "base_uri": "https://localhost:8080/"
        },
        "id": "L7IZKqq0NK4t",
        "outputId": "7ca241ad-4567-4743-cc44-0e453ac873f3"
      },
      "source": [
        "range(10)"
      ],
      "execution_count": 4,
      "outputs": [
        {
          "output_type": "execute_result",
          "data": {
            "text/plain": [
              "range(0, 10)"
            ]
          },
          "metadata": {
            "tags": []
          },
          "execution_count": 4
        }
      ]
    },
    {
      "cell_type": "code",
      "metadata": {
        "colab": {
          "base_uri": "https://localhost:8080/"
        },
        "id": "MR4wXTX2NDu-",
        "outputId": "36854524-a110-4a0e-a38f-2ac26ad9a5af"
      },
      "source": [
        "list(range(10))  # สร้าง list ที่มีค่าเริ่มต้นตั้งแต่ 0 ถึง 10  ตัวเลขตัวเดียวกำหนดแค่จุดจบ"
      ],
      "execution_count": 5,
      "outputs": [
        {
          "output_type": "execute_result",
          "data": {
            "text/plain": [
              "[0, 1, 2, 3, 4, 5, 6, 7, 8, 9]"
            ]
          },
          "metadata": {
            "tags": []
          },
          "execution_count": 5
        }
      ]
    },
    {
      "cell_type": "code",
      "metadata": {
        "colab": {
          "base_uri": "https://localhost:8080/"
        },
        "id": "qrgLA4c8NU6X",
        "outputId": "62540059-0931-4c50-c4db-b82cea122839"
      },
      "source": [
        "for i in range(2,7) :    # มีสองตัวคือกำหนดจุดเริ่มและจุดจบ \n",
        "      print (i)"
      ],
      "execution_count": 6,
      "outputs": [
        {
          "output_type": "stream",
          "text": [
            "2\n",
            "3\n",
            "4\n",
            "5\n",
            "6\n"
          ],
          "name": "stdout"
        }
      ]
    },
    {
      "cell_type": "code",
      "metadata": {
        "colab": {
          "base_uri": "https://localhost:8080/"
        },
        "id": "I07KMnFNN5zc",
        "outputId": "9e2c6afb-4140-418a-fe01-094d4592c1bc"
      },
      "source": [
        "for i in range(2,7,2) :    # มีสองตัวคือกำหนดจุดเริ่มและจุดจบ กำหนด step คือ 2 แปลว่าข้ามไปตัวนึง\n",
        "      print (i)"
      ],
      "execution_count": 7,
      "outputs": [
        {
          "output_type": "stream",
          "text": [
            "2\n",
            "4\n",
            "6\n"
          ],
          "name": "stdout"
        }
      ]
    },
    {
      "cell_type": "code",
      "metadata": {
        "colab": {
          "base_uri": "https://localhost:8080/"
        },
        "id": "yUunmm2IOXso",
        "outputId": "a7efde6b-af20-4a42-e5e3-8f7c77d0e9d3"
      },
      "source": [
        "for i in range(5) :  # แบบนี้แปลว่าเราจะวนลูปทั้งหมด 5 รอบ\n",
        "      print('hahahahahaha')"
      ],
      "execution_count": 8,
      "outputs": [
        {
          "output_type": "stream",
          "text": [
            "hahahahahaha\n",
            "hahahahahaha\n",
            "hahahahahaha\n",
            "hahahahahaha\n",
            "hahahahahaha\n"
          ],
          "name": "stdout"
        }
      ]
    },
    {
      "cell_type": "code",
      "metadata": {
        "colab": {
          "base_uri": "https://localhost:8080/"
        },
        "id": "a_1aYTbGOl7E",
        "outputId": "52a58ed8-cdbb-4b89-f6b9-fa155536aa30"
      },
      "source": [
        "for i in range(5) :  # แบบนี้แปลว่าเราจะวนลูปทั้งหมด 5 รอบ\n",
        "      print('hahahahahaha')\n",
        "      x = i+3\n",
        "      print(f'i={i}  x={x}')  # print 2 รอบ แสดงผล 2 บรรทัด"
      ],
      "execution_count": 9,
      "outputs": [
        {
          "output_type": "stream",
          "text": [
            "hahahahahaha\n",
            "i=0  x=3\n",
            "hahahahahaha\n",
            "i=1  x=4\n",
            "hahahahahaha\n",
            "i=2  x=5\n",
            "hahahahahaha\n",
            "i=3  x=6\n",
            "hahahahahaha\n",
            "i=4  x=7\n"
          ],
          "name": "stdout"
        }
      ]
    },
    {
      "cell_type": "markdown",
      "metadata": {
        "id": "ZnqXMKZNPF_Z"
      },
      "source": [
        "##Nested loop"
      ]
    },
    {
      "cell_type": "markdown",
      "metadata": {
        "id": "RIzfi-uJPKaI"
      },
      "source": [
        "ลูปซ้อนลูป"
      ]
    },
    {
      "cell_type": "code",
      "metadata": {
        "colab": {
          "base_uri": "https://localhost:8080/"
        },
        "id": "j8snOk96POLI",
        "outputId": "9c617e10-cf07-4fbf-d4b3-c5a73a03cd0d"
      },
      "source": [
        "for i in range(3) :       # ตอนแรกจะเริ่มวนลูปของ i ทีละตัวก่อน แล้วเอาไปจับกับ j ให้ครบทุกตัว \n",
        "      print(f'now i = {i}')\n",
        "      print('start j loop')  \n",
        "      for j in range(4) :\n",
        "            print(f' i = {i} j = {j} i+j = {+j}')\n",
        "      print('end j loop')"
      ],
      "execution_count": 10,
      "outputs": [
        {
          "output_type": "stream",
          "text": [
            "now i = 0\n",
            "start j loop\n",
            " i = 0 j = 0 i+j = 0\n",
            " i = 0 j = 1 i+j = 1\n",
            " i = 0 j = 2 i+j = 2\n",
            " i = 0 j = 3 i+j = 3\n",
            "end j loop\n",
            "now i = 1\n",
            "start j loop\n",
            " i = 1 j = 0 i+j = 0\n",
            " i = 1 j = 1 i+j = 1\n",
            " i = 1 j = 2 i+j = 2\n",
            " i = 1 j = 3 i+j = 3\n",
            "end j loop\n",
            "now i = 2\n",
            "start j loop\n",
            " i = 2 j = 0 i+j = 0\n",
            " i = 2 j = 1 i+j = 1\n",
            " i = 2 j = 2 i+j = 2\n",
            " i = 2 j = 3 i+j = 3\n",
            "end j loop\n"
          ],
          "name": "stdout"
        }
      ]
    },
    {
      "cell_type": "markdown",
      "metadata": {
        "id": "KSj27epuHmjO"
      },
      "source": [
        "### Condition ( if statement )\n"
      ]
    },
    {
      "cell_type": "markdown",
      "metadata": {
        "id": "Ko68F4auFb1t"
      },
      "source": [
        "\n",
        "\n",
        "\n",
        "if  เงื่อนไขที่จะตรวจสอบ (==,!=,<,>,<=,>=):\n",
        "\n",
        "      ถ้าเงื่อนไขเป็นจริง  ทำงาน 1\n",
        "      ถ้าเงื่อนไขเป็นจริง  ทำงาน 2"
      ]
    },
    {
      "cell_type": "code",
      "metadata": {
        "id": "dc4He8q8HlKN",
        "colab": {
          "base_uri": "https://localhost:8080/"
        },
        "outputId": "ce89656c-3dba-4b34-9e6f-8d1cbf9382ce"
      },
      "source": [
        "stringx = 'dujijofplpnbuwduuwjfl[p[p[nidvxaklpl'\n",
        "\n",
        "if len(stringx) > 30 :\n",
        "      print(f'{stringx} is longer than 30 characters')"
      ],
      "execution_count": 11,
      "outputs": [
        {
          "output_type": "stream",
          "text": [
            "dujijofplpnbuwduuwjfl[p[p[nidvxaklpl is longer than 30 characters\n"
          ],
          "name": "stdout"
        }
      ]
    },
    {
      "cell_type": "code",
      "metadata": {
        "id": "go0_X0OAG6mb"
      },
      "source": [
        "stringx = 'dujijofplpnbuwduuwjfl[p[p[nidvxaklpl'  \n",
        "\n",
        "if len(stringx) > 100 :     # ถ้ามันไม่เป็นไปตามเงื่อนไขจะไม่แสดงผลลัพธ์ที่ได้ออกมา\n",
        "      print(f'{stringx} is longer than 100 characters')"
      ],
      "execution_count": 12,
      "outputs": []
    },
    {
      "cell_type": "markdown",
      "metadata": {
        "id": "urD54GivHiUJ"
      },
      "source": [
        "if  เงื่อนไขที่จะตรวจสอบ (==,!=,<,>,<=,>=):\n",
        "\n",
        "      ถ้าเงื่อนไขเป็นจริง  ทำงาน 1\n",
        "      ถ้าเงื่อนไขเป็นจริง  ทำงาน 2\n",
        "\n",
        " else :  # ตรวจสอบเงื่อนไขข้างบนแล้วไม่เป็นจริง\n",
        " \n",
        "      ทำงานที่ x"
      ]
    },
    {
      "cell_type": "code",
      "metadata": {
        "colab": {
          "base_uri": "https://localhost:8080/"
        },
        "id": "0zwGBGvaHeek",
        "outputId": "7355248e-15a3-4fbe-9d0d-71b42b809550"
      },
      "source": [
        "stringx = 'dujijofplpnbuwduuwjfl[p[p[nidvxaklpl'  \n",
        "\n",
        "if len(stringx) > 100 :     \n",
        "      print(f'{stringx} is longer than 100 characters')  # ถ้าเงื่อนไขนี้ไม่เป็นจริง จะทำตามเงื่อนไขข้างล่างต่อ\n",
        "else :\n",
        "      print(f'{stringx} in {len(stringx)} characters long ')"
      ],
      "execution_count": 13,
      "outputs": [
        {
          "output_type": "stream",
          "text": [
            "dujijofplpnbuwduuwjfl[p[p[nidvxaklpl in 36 characters long \n"
          ],
          "name": "stdout"
        }
      ]
    },
    {
      "cell_type": "markdown",
      "metadata": {
        "id": "REKq0FzBJMel"
      },
      "source": [
        "if  เงื่อนไขที่จะตรวจสอบ (==,!=,<,>,<=,>=):\n",
        "\n",
        "      ถ้าเงื่อนไขเป็นจริง  ทำงาน 1    # ตรวจสอบว่าเป็นไปตามเงื่อนไขนี้หรือป่าว ถ้าไม่เป็นจริงจะไปเงื่อนไขต่อไป\n",
        "      ถ้าเงื่อนไขเป็นจริง  ทำงาน 2\n",
        "\n",
        "elif เงื่อนไขที่จะตรวจสอบต่อไปถ้าเงื่อนไขข้างบนไม่เป็นจริง :\n",
        "\n",
        "      ถ้าเงื่อนไขเป็นจริง ทำงานที่ a1    # ข้างบนไม่เป็นจริง จะตรวจสอบเงื่อนไขอันนี้ ถ้าเงื่อนไขไม่เป็นจริงจะตรวจสอบเงื่อนไขต่อไปข้างล่าง\n",
        "      ถ้าเงื่อนไขเป็นจริง ทำงานที่ a2\n",
        "\n",
        "elif เงื่อนไขที่จะตรวจสอบต่อไปถ้าเงื่อนไขข้างบนไม่เป็นจริง :\n",
        "\n",
        "      ถ้าเงื่อนไขเป็นจริง ทำงานที่ b1    # ข้างบนไม่เป็นจริง จะตรวจสอบเงื่อนไขอันนี้ ถ้าเงื่อนไขไม่เป็นจริงจะตรวจสอบเงื่อนไขต่อไปข้างล่าง\n",
        "      ถ้าเงื่อนไขเป็นจริง ทำงานที่ b2\n",
        "\n",
        "else :  # ตรวจสอบเงื่อนไขข้างบนแล้วไม่เป็นจริง ถึงจะมาทำอันนี้\n",
        " \n",
        "      ทำงานที่ x"
      ]
    },
    {
      "cell_type": "code",
      "metadata": {
        "colab": {
          "base_uri": "https://localhost:8080/"
        },
        "id": "5D7fpO73Kxzt",
        "outputId": "c3cc7cc9-221b-45c6-c4ab-ae0909e064d0"
      },
      "source": [
        "password = '12345'\n",
        "\n",
        "input_pass = '123'\n",
        "if input_pass == password :   # ถ้าตรงกับ password ที่ตั้งไว้ให้ print คำว่า Welcome! ถ้าไม่ตรงจะต้องตรวจสอบเงื่อนไขต่อไป\n",
        "      print('Welcome!')\n",
        "elif  len(input_pass) > len(password) :  # ตรวจสอบว่าความยาวของ input_pass ยาวกว่า password มั้ย ถ้าไม่จะต้องตรวจสอบเงื่อนไขต่อไป\n",
        "      print('Too long , try again!')\n",
        "elif  len(input_pass) < len(password) :  # ตรวจสอบว่าความยาวของ input_pass สั้นกว่า password มั้ย ถ้าไม่จะต้องตรวจสอบเงื่อนไขต่อไป\n",
        "      print('Too short , try again!')\n",
        "else :\n",
        "      print('Wrong password , try again')  # เนื่องจากตรวจสอบเงื่อนไขข้างบนทั้งหมดมาแล้วไม่เป็นจริง "
      ],
      "execution_count": 14,
      "outputs": [
        {
          "output_type": "stream",
          "text": [
            "Too short , try again!\n"
          ],
          "name": "stdout"
        }
      ]
    },
    {
      "cell_type": "code",
      "metadata": {
        "colab": {
          "base_uri": "https://localhost:8080/"
        },
        "id": "KY44oWwJNYsq",
        "outputId": "23565d8b-b7f5-4bfa-8687-44b256faf523"
      },
      "source": [
        "password = '12345'\n",
        "\n",
        "input_pass = '123ef'\n",
        "if input_pass == password :   # ถ้าตรงกับ password ที่ตั้งไว้ให้ print คำว่า Welcome! ถ้าไม่ตรงจะต้องตรวจสอบเงื่อนไขต่อไป\n",
        "      print('Welcome!')\n",
        "elif  len(input_pass) > len(password) :  # ตรวจสอบว่าความยาวของ input_pass ยาวกว่า password มั้ย ถ้าไม่จะต้องตรวจสอบเงื่อนไขต่อไป\n",
        "      print('Too long , try again!')\n",
        "elif  len(input_pass) < len(password) :  # ตรวจสอบว่าความยาวของ input_pass สั้นกว่า password มั้ย ถ้าไม่จะต้องตรวจสอบเงื่อนไขต่อไป\n",
        "      print('Too short , try again!')\n",
        "else :\n",
        "      print('Wrong password , try again')  # เนื่องจากตรวจสอบเงื่อนไขข้างบนทั้งหมดมาแล้วไม่เป็นจริง "
      ],
      "execution_count": 15,
      "outputs": [
        {
          "output_type": "stream",
          "text": [
            "Wrong password , try again\n"
          ],
          "name": "stdout"
        }
      ]
    },
    {
      "cell_type": "markdown",
      "metadata": {
        "id": "0eZpwyL9HZYS"
      },
      "source": [
        "### Quiz 1 หา min\n"
      ]
    },
    {
      "cell_type": "code",
      "metadata": {
        "id": "lkIC8DAjKQ6U"
      },
      "source": [
        "list_ex2 = [1,5,9,-19,-2,0] # หาค่าที่น้อยที่สุดใน list_ex โดยไม่ใช้ function min"
      ],
      "execution_count": 16,
      "outputs": []
    },
    {
      "cell_type": "code",
      "metadata": {
        "colab": {
          "base_uri": "https://localhost:8080/"
        },
        "id": "o29lBtqaN6dX",
        "outputId": "fcb5a6d8-b4e1-4706-ad1a-a9b4f08a255c"
      },
      "source": [
        "min = 0\n",
        "for x in list_ex2: # ทำการวนซ้ำตามจำนวนในลิสต์\n",
        "    if x < min : # ถ้าน้อยกว่าค่าต่ำสุดค่าเดิม\n",
        "        min = x # ให้เปลี่ยนเป็นค่านั้น\n",
        "print (f'ค่าที่น้อยที่สุด คือ {min}')"
      ],
      "execution_count": 17,
      "outputs": [
        {
          "output_type": "stream",
          "text": [
            "ค่าที่น้อยที่สุด คือ -19\n"
          ],
          "name": "stdout"
        }
      ]
    },
    {
      "cell_type": "code",
      "metadata": {
        "colab": {
          "base_uri": "https://localhost:8080/"
        },
        "id": "EtaWQdCWUNN_",
        "outputId": "4af4be95-50b1-433b-d903-83f345aaaa96"
      },
      "source": [
        "min = 0\n",
        "print(list_ex2)\n",
        "for x in list_ex2: # ทำการวนซ้ำตามจำนวนในลิสต์\n",
        "    print(f'now x = {x} , min = {min}')\n",
        "    print('start condition')\n",
        "    if x < min : # ถ้าน้อยกว่าค่าต่ำสุดค่าเดิม\n",
        "        print(f'x < min, update min -> {x}')\n",
        "        min = x # ให้เปลี่ยนเป็นค่านั้น\n",
        "    else:\n",
        "        print('x >= min , not update')\n",
        "    print('end condition, go to next x')\n",
        "print (f'ดังนั้น ค่าที่น้อยที่สุด คือ {min}')"
      ],
      "execution_count": 18,
      "outputs": [
        {
          "output_type": "stream",
          "text": [
            "[1, 5, 9, -19, -2, 0]\n",
            "now x = 1 , min = 0\n",
            "start condition\n",
            "x >= min , not update\n",
            "end condition, go to next x\n",
            "now x = 5 , min = 0\n",
            "start condition\n",
            "x >= min , not update\n",
            "end condition, go to next x\n",
            "now x = 9 , min = 0\n",
            "start condition\n",
            "x >= min , not update\n",
            "end condition, go to next x\n",
            "now x = -19 , min = 0\n",
            "start condition\n",
            "x < min, update min -> -19\n",
            "end condition, go to next x\n",
            "now x = -2 , min = -19\n",
            "start condition\n",
            "x >= min , not update\n",
            "end condition, go to next x\n",
            "now x = 0 , min = -19\n",
            "start condition\n",
            "x >= min , not update\n",
            "end condition, go to next x\n",
            "ดังนั้น ค่าที่น้อยที่สุด คือ -19\n"
          ],
          "name": "stdout"
        }
      ]
    },
    {
      "cell_type": "markdown",
      "metadata": {
        "id": "mBHVGrPzLBtT"
      },
      "source": [
        "### Homework 3 ตัดเกรด"
      ]
    },
    {
      "cell_type": "code",
      "metadata": {
        "id": "kPRBNchvV5BL"
      },
      "source": [
        "score = [49,65,70,95,82,55,89,20,77,77,81,59,10]  # ตัดเกรด คะแนนใน list score (ใช้ if กับ for)"
      ],
      "execution_count": 19,
      "outputs": []
    },
    {
      "cell_type": "code",
      "metadata": {
        "id": "yjdyTjmLrNsp",
        "colab": {
          "base_uri": "https://localhost:8080/"
        },
        "outputId": "ba2ea21c-0e43-449c-d545-83b05ac8b895"
      },
      "source": [
        "for z in score : # ตัดเกรด คะแนนใน list score\n",
        "    if z >= 80 :\n",
        "        print(f'score = {z}  grade = A')\n",
        "    elif z >= 75 and z < 80 :\n",
        "        print(f'score = {z}  grade = B+')\n",
        "    elif z >= 70 and z < 75:\n",
        "        print(f'score = {z}  grade = B')\n",
        "    elif z >= 65 and z < 70:\n",
        "        print(f'score = {z}  grade = C+')\n",
        "    elif z >= 60 and z < 65:\n",
        "        print(f'score = {z}  grade = C')\n",
        "    elif z >= 55 and z < 60:\n",
        "        print(f'score = {z}  grade = D+')\n",
        "    elif z >= 50 and z < 55:\n",
        "        print(f'score = {z}  grade = D')\n",
        "    else:\n",
        "        print(f'score = {z}  grade = F')"
      ],
      "execution_count": 20,
      "outputs": [
        {
          "output_type": "stream",
          "text": [
            "score = 49  grade = F\n",
            "score = 65  grade = C+\n",
            "score = 70  grade = B\n",
            "score = 95  grade = A\n",
            "score = 82  grade = A\n",
            "score = 55  grade = D+\n",
            "score = 89  grade = A\n",
            "score = 20  grade = F\n",
            "score = 77  grade = B+\n",
            "score = 77  grade = B+\n",
            "score = 81  grade = A\n",
            "score = 59  grade = D+\n",
            "score = 10  grade = F\n"
          ],
          "name": "stdout"
        }
      ]
    },
    {
      "cell_type": "markdown",
      "metadata": {
        "id": "Ll30Ir0xFmN_"
      },
      "source": [
        "### Function\n",
        "\n",
        "```python\n",
        "def ชื่อฟังก์ชัน (input1,input2,...) :\n",
        "      งานxxx\n",
        "      งานyyy\n",
        "      return output\n",
        "```\n",
        "\n",
        "\n",
        "ส่วนประกอบสำคัญที่จะต้องมี คือ\n",
        "*   input\n",
        "*   process (ไม่มีไม่ได้)\n",
        "*   output\n",
        "\n"
      ]
    },
    {
      "cell_type": "markdown",
      "metadata": {
        "id": "-5b2aUMEx5mT"
      },
      "source": [
        "![image.png](data:image/png;base64,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)"
      ]
    },
    {
      "cell_type": "markdown",
      "metadata": {
        "id": "YesFfx0Ryu0F"
      },
      "source": [
        "ฟังก์ชั่นที่มีครบทุกส่วนประกอบ\n",
        "\n",
        "**Example 1**"
      ]
    },
    {
      "cell_type": "code",
      "metadata": {
        "id": "TKufSvjmForv"
      },
      "source": [
        "def grading(score) :  # ฟังก์ชั่นนี้รับ score มาเป็น input\n",
        "      if score >= 80 :  # กระบวนการทำงาน (process)\n",
        "            grade = 'A'\n",
        "      elif score >= 75 and score < 80 :\n",
        "            grade = 'B+'\n",
        "      elif score >= 70 and score < 75 :\n",
        "            grade = 'B'\n",
        "      elif score >= 65 and score < 70 : \n",
        "            grade = 'C+'\n",
        "      elif score >= 60 and score < 65 :\n",
        "            grade = 'C'\n",
        "      elif score >= 55 and score < 60 :\n",
        "            grade = 'D+'\n",
        "      elif score >= 50 and score < 55 :\n",
        "            grade = 'D'\n",
        "      else:\n",
        "            grade = 'F'\n",
        "\n",
        "      return grade"
      ],
      "execution_count": 31,
      "outputs": []
    },
    {
      "cell_type": "code",
      "metadata": {
        "colab": {
          "base_uri": "https://localhost:8080/"
        },
        "id": "ChvRXUws1HbD",
        "outputId": "d6282e8b-8479-4169-8ae8-c87dfd1569db"
      },
      "source": [
        "score = [49,65,70,95,82,55,89,20,77,77,81,59,10] \n",
        "for i in score :\n",
        "      print(f'score = {i} grade = {grading(i)}')  # output"
      ],
      "execution_count": 32,
      "outputs": [
        {
          "output_type": "stream",
          "text": [
            "score = 49 grade = F\n",
            "score = 65 grade = C+\n",
            "score = 70 grade = B\n",
            "score = 95 grade = A\n",
            "score = 82 grade = A\n",
            "score = 55 grade = D+\n",
            "score = 89 grade = A\n",
            "score = 20 grade = F\n",
            "score = 77 grade = B+\n",
            "score = 77 grade = B+\n",
            "score = 81 grade = A\n",
            "score = 59 grade = D+\n",
            "score = 10 grade = F\n"
          ],
          "name": "stdout"
        }
      ]
    },
    {
      "cell_type": "code",
      "metadata": {
        "id": "L8JkJqrE2xPC"
      },
      "source": [
        "def grading_list(list_score) : # input list_score\n",
        "      grade_list = []\n",
        "      for score in list_score :\n",
        "            if score >= 80 :  # กระบวนการทำงาน (process)\n",
        "                grade = 'A'\n",
        "            elif score >= 75 and score < 80 :\n",
        "                grade = 'B+'\n",
        "            elif score >= 70 and score < 75 :\n",
        "                grade = 'B'\n",
        "            elif score >= 65 and score < 70 : \n",
        "                grade = 'C+'\n",
        "            elif score >= 60 and score < 65 :\n",
        "                grade = 'C'\n",
        "            elif score >= 55 and score < 60 :\n",
        "                grade = 'D+'\n",
        "            elif score >= 50 and score < 55 :\n",
        "                grade = 'D'\n",
        "            else:\n",
        "                grade = 'F'\n",
        "            grade_list.append([score,grade])\n",
        "      return grade_list"
      ],
      "execution_count": 43,
      "outputs": []
    },
    {
      "cell_type": "code",
      "metadata": {
        "colab": {
          "base_uri": "https://localhost:8080/"
        },
        "id": "MX_npoNf3r3C",
        "outputId": "7a0b57c8-e509-4cf9-acdc-125fb0b5726d"
      },
      "source": [
        "g = grading_list(score)  # output\n",
        "g"
      ],
      "execution_count": 38,
      "outputs": [
        {
          "output_type": "execute_result",
          "data": {
            "text/plain": [
              "[[49, 'F'],\n",
              " [65, 'C+'],\n",
              " [70, 'B'],\n",
              " [95, 'A'],\n",
              " [82, 'A'],\n",
              " [55, 'D+'],\n",
              " [89, 'A'],\n",
              " [20, 'F'],\n",
              " [77, 'B+'],\n",
              " [77, 'B+'],\n",
              " [81, 'A'],\n",
              " [59, 'D+'],\n",
              " [10, 'F']]"
            ]
          },
          "metadata": {
            "tags": []
          },
          "execution_count": 38
        }
      ]
    },
    {
      "cell_type": "code",
      "metadata": {
        "colab": {
          "base_uri": "https://localhost:8080/"
        },
        "id": "_ZrwuKd35Mmw",
        "outputId": "143aa192-a2bd-470c-dcf5-d4fb98a28c6c"
      },
      "source": [
        "for i in g :\n",
        "        print(f'score = {i[0]} grade = {i[1]}')"
      ],
      "execution_count": 41,
      "outputs": [
        {
          "output_type": "stream",
          "text": [
            "score = 49 grade = F\n",
            "score = 65 grade = C+\n",
            "score = 70 grade = B\n",
            "score = 95 grade = A\n",
            "score = 82 grade = A\n",
            "score = 55 grade = D+\n",
            "score = 89 grade = A\n",
            "score = 20 grade = F\n",
            "score = 77 grade = B+\n",
            "score = 77 grade = B+\n",
            "score = 81 grade = A\n",
            "score = 59 grade = D+\n",
            "score = 10 grade = F\n"
          ],
          "name": "stdout"
        }
      ]
    },
    {
      "cell_type": "code",
      "metadata": {
        "id": "ZsTI_5d72dAb"
      },
      "source": [
        "def grading2(score) :  # ฟังก์ชั่นนี้รับ score มาเป็น input\n",
        "        if score >= 80 :  # กระบวนการทำงาน (process)\n",
        "                return 'A'\n",
        "        elif score >= 75 and score < 80 :\n",
        "                return 'B+'\n",
        "        elif score >= 70 and score < 75 :\n",
        "                return 'B'\n",
        "        elif score >= 65 and score < 70 : \n",
        "                return 'C+'\n",
        "        elif score >= 60 and score < 65 :\n",
        "                return 'C'\n",
        "        elif score >= 55 and score < 60 :\n",
        "                return 'D+'\n",
        "        elif score >= 50 and score < 55 :\n",
        "            return 'D'\n",
        "        else:\n",
        "                return 'F'"
      ],
      "execution_count": 46,
      "outputs": []
    },
    {
      "cell_type": "code",
      "metadata": {
        "colab": {
          "base_uri": "https://localhost:8080/"
        },
        "id": "UUCVNUEm7h2y",
        "outputId": "607894bd-abb7-45ed-9fd3-915a1bd0b2a5"
      },
      "source": [
        "score = [49,65,70,95,82,55,89,20,77,77,81,59,10] \n",
        "for i in score :\n",
        "      print(f'score = {i} grade = {grading2(i)}')  # output"
      ],
      "execution_count": 45,
      "outputs": [
        {
          "output_type": "stream",
          "text": [
            "score = 49 grade = F\n",
            "score = 65 grade = C+\n",
            "score = 70 grade = B\n",
            "score = 95 grade = A\n",
            "score = 82 grade = A\n",
            "score = 55 grade = D+\n",
            "score = 89 grade = A\n",
            "score = 20 grade = F\n",
            "score = 77 grade = B+\n",
            "score = 77 grade = B+\n",
            "score = 81 grade = A\n",
            "score = 59 grade = D+\n",
            "score = 10 grade = F\n"
          ],
          "name": "stdout"
        }
      ]
    },
    {
      "cell_type": "markdown",
      "metadata": {
        "id": "Q6-dqxXG7qEj"
      },
      "source": [
        "ฟังก์ชั่นที่ไม่มี input มีแต่ process กับ output\n",
        "\n",
        "**Example 2**"
      ]
    },
    {
      "cell_type": "code",
      "metadata": {
        "id": "SppEUwtF7q3a"
      },
      "source": [
        "def mypi() :\n",
        "        return 3.14  # process"
      ],
      "execution_count": 52,
      "outputs": []
    },
    {
      "cell_type": "code",
      "metadata": {
        "colab": {
          "base_uri": "https://localhost:8080/"
        },
        "id": "evjQSZQr9N24",
        "outputId": "e411802a-78f2-4679-db5a-be05a8306e6a"
      },
      "source": [
        "r = 10 \n",
        "print(f'รัศมี = {r} จะมีเส้นรอบวง = {2*mypi()*r}') # output"
      ],
      "execution_count": 51,
      "outputs": [
        {
          "output_type": "stream",
          "text": [
            "รัศมี = 10 จะมีเส้นรอบวง = 62.800000000000004\n"
          ],
          "name": "stdout"
        }
      ]
    },
    {
      "cell_type": "markdown",
      "metadata": {
        "id": "UB_hLeK995bC"
      },
      "source": [
        "ฟังก์ชั่นที่ไม่มี output มีแต่ process กับ input\n",
        "\n",
        "**Example 3**"
      ]
    },
    {
      "cell_type": "code",
      "metadata": {
        "id": "JW2wYmCg9gVT"
      },
      "source": [
        "def grading_nooutput(score) :\n",
        "    if z >= 80 :\n",
        "        print('grade = A')\n",
        "    elif z >= 75 and z < 80 :\n",
        "        print('grade = B+')\n",
        "    elif z >= 70 and z < 75:\n",
        "        print('grade = B')\n",
        "    elif z >= 65 and z < 70:\n",
        "        print('grade = C+')\n",
        "    elif z >= 60 and z < 65:\n",
        "        print('grade = C')\n",
        "    elif z >= 55 and z < 60:\n",
        "        print('grade = D+')\n",
        "    elif z >= 50 and z < 55:\n",
        "        print('grade = D')\n",
        "    else:\n",
        "        print('grade = F')"
      ],
      "execution_count": 58,
      "outputs": []
    },
    {
      "cell_type": "code",
      "metadata": {
        "colab": {
          "base_uri": "https://localhost:8080/"
        },
        "id": "qRCf9WdH-VoQ",
        "outputId": "9203c3ca-e494-44b0-8a02-261a25b8645e"
      },
      "source": [
        "score = [49,65,70,95,82,55,89,20,77,77,81,59,10] \n",
        "for z in score :\n",
        "            print(f'score = {z}', end='  ')  # output\n",
        "            grading_nooutput(z)"
      ],
      "execution_count": 59,
      "outputs": [
        {
          "output_type": "stream",
          "text": [
            "score = 49  grade = F\n",
            "score = 65  grade = C+\n",
            "score = 70  grade = B\n",
            "score = 95  grade = A\n",
            "score = 82  grade = A\n",
            "score = 55  grade = D+\n",
            "score = 89  grade = A\n",
            "score = 20  grade = F\n",
            "score = 77  grade = B+\n",
            "score = 77  grade = B+\n",
            "score = 81  grade = A\n",
            "score = 59  grade = D+\n",
            "score = 10  grade = F\n"
          ],
          "name": "stdout"
        }
      ]
    },
    {
      "cell_type": "markdown",
      "metadata": {
        "id": "J8H-tB0j_eVw"
      },
      "source": [
        "ฟังก์ชั่นที่ไม่มี output กับ input มีแต่ process\n",
        "\n",
        "**Example 3**"
      ]
    },
    {
      "cell_type": "code",
      "metadata": {
        "id": "miiYXd67-oly"
      },
      "source": [
        "def draw_rect() :\n",
        "        print('=========')\n",
        "        print('l                   l')\n",
        "        print('l                   l')\n",
        "        print('=========')"
      ],
      "execution_count": 60,
      "outputs": []
    },
    {
      "cell_type": "code",
      "metadata": {
        "colab": {
          "base_uri": "https://localhost:8080/"
        },
        "id": "pW8aiSJ-_-OF",
        "outputId": "9a9a8f2a-dff2-47ff-b0ed-4ac27d15ff50"
      },
      "source": [
        "draw_rect()\n",
        "draw_rect()"
      ],
      "execution_count": 61,
      "outputs": [
        {
          "output_type": "stream",
          "text": [
            "=========\n",
            "l                   l\n",
            "l                   l\n",
            "=========\n",
            "=========\n",
            "l                   l\n",
            "l                   l\n",
            "=========\n"
          ],
          "name": "stdout"
        }
      ]
    },
    {
      "cell_type": "markdown",
      "metadata": {
        "id": "v3GQSdszBGmt"
      },
      "source": [
        "### ลักษณะของ input(parameter)\n",
        "\n",
        "\n",
        "*   จำเป็นต้องใส่ (non-dafault argument)\n",
        "*   ไม่จำเป็นต้องใส่ (dafault argument)\n",
        "\n"
      ]
    },
    {
      "cell_type": "code",
      "metadata": {
        "id": "oPNXvqRBAIGg"
      },
      "source": [
        "def A(input1, input2 = 3) : # input 1 ไม่มีค่า default คือไม่มีเท่ากับ\n",
        "        return input1+input2"
      ],
      "execution_count": 62,
      "outputs": []
    },
    {
      "cell_type": "code",
      "metadata": {
        "colab": {
          "base_uri": "https://localhost:8080/"
        },
        "id": "JKm15myjCNum",
        "outputId": "3a30f661-cd21-45f2-cc4e-adb70366c885"
      },
      "source": [
        "A(1) # input 1 เท่ากับ 1"
      ],
      "execution_count": 63,
      "outputs": [
        {
          "output_type": "execute_result",
          "data": {
            "text/plain": [
              "4"
            ]
          },
          "metadata": {
            "tags": []
          },
          "execution_count": 63
        }
      ]
    },
    {
      "cell_type": "code",
      "metadata": {
        "colab": {
          "base_uri": "https://localhost:8080/"
        },
        "id": "dj1W5c9ACSD_",
        "outputId": "cb8f3516-64fa-482d-e6ae-c8a38090f68b"
      },
      "source": [
        "A(1,6)"
      ],
      "execution_count": 64,
      "outputs": [
        {
          "output_type": "execute_result",
          "data": {
            "text/plain": [
              "7"
            ]
          },
          "metadata": {
            "tags": []
          },
          "execution_count": 64
        }
      ]
    },
    {
      "cell_type": "code",
      "metadata": {
        "colab": {
          "base_uri": "https://localhost:8080/",
          "height": 163
        },
        "id": "RZQvOYnrCd6b",
        "outputId": "d41a6d49-d687-45e7-d4a3-6e9a8a56d35d"
      },
      "source": [
        "A( ) # ถ้าเราไม่ได้กำหนดให้เป็นค่า Defalt แปลว่ามันจำเป็นที่จะต้องใส่ค่า ไม่งั้นจะไม่สามารถรันได้"
      ],
      "execution_count": 66,
      "outputs": [
        {
          "output_type": "error",
          "ename": "TypeError",
          "evalue": "ignored",
          "traceback": [
            "\u001b[0;31m---------------------------------------------------------------------------\u001b[0m",
            "\u001b[0;31mTypeError\u001b[0m                                 Traceback (most recent call last)",
            "\u001b[0;32m<ipython-input-66-8adb82a4bf56>\u001b[0m in \u001b[0;36m<module>\u001b[0;34m()\u001b[0m\n\u001b[0;32m----> 1\u001b[0;31m \u001b[0mA\u001b[0m\u001b[0;34m(\u001b[0m \u001b[0;34m)\u001b[0m \u001b[0;31m# ถ้าเราไม่ได้กำหนดให้เป็นค่า Defalt แปลว่ามันจำเป็นที่จะต้องใส่ค่า ไม่งั้นจะไม่สามารถรันได้\u001b[0m\u001b[0;34m\u001b[0m\u001b[0;34m\u001b[0m\u001b[0m\n\u001b[0m",
            "\u001b[0;31mTypeError\u001b[0m: A() missing 1 required positional argument: 'input1'"
          ]
        }
      ]
    },
    {
      "cell_type": "code",
      "metadata": {
        "id": "iUp40CFfCsWr"
      },
      "source": [
        "def printlove(input1, input2 = 'STAT', input3 = 'KKU') : # ลำดับชองพารามิเตอร์มีความสำคัญ\n",
        "        print(f'{input1} love {input2} {input3}')"
      ],
      "execution_count": 68,
      "outputs": []
    },
    {
      "cell_type": "code",
      "metadata": {
        "colab": {
          "base_uri": "https://localhost:8080/"
        },
        "id": "cDV89OXzDPIJ",
        "outputId": "b32b2e8a-a28f-45db-bb1f-8a30f4ed8c01"
      },
      "source": [
        "printlove('Wikanda') # input ลำดับที่ 1"
      ],
      "execution_count": 69,
      "outputs": [
        {
          "output_type": "stream",
          "text": [
            "Wikanda love STAT KKU\n"
          ],
          "name": "stdout"
        }
      ]
    },
    {
      "cell_type": "code",
      "metadata": {
        "colab": {
          "base_uri": "https://localhost:8080/"
        },
        "id": "FeohgHSdDX7Q",
        "outputId": "cee4b7a6-5ec8-4e9d-958b-3562c0ebf308"
      },
      "source": [
        "printlove('Wikanda','SI','STAT')"
      ],
      "execution_count": 70,
      "outputs": [
        {
          "output_type": "stream",
          "text": [
            "Wikanda love SI STAT\n"
          ],
          "name": "stdout"
        }
      ]
    },
    {
      "cell_type": "code",
      "metadata": {
        "colab": {
          "base_uri": "https://localhost:8080/"
        },
        "id": "6ueT9rSqDdfw",
        "outputId": "33af244c-d8af-4fee-b7af-b6cb74249534"
      },
      "source": [
        "printlove(input3 = 'Wikanda',input2 = 'SI',input1 ='STAT') # เปลี่ยนลำดับได้โดยการกำหนดเองเลย"
      ],
      "execution_count": 71,
      "outputs": [
        {
          "output_type": "stream",
          "text": [
            "STAT love SI Wikanda\n"
          ],
          "name": "stdout"
        }
      ]
    },
    {
      "cell_type": "code",
      "metadata": {
        "colab": {
          "base_uri": "https://localhost:8080/",
          "height": 130
        },
        "id": "wS5yGjeDD1gD",
        "outputId": "74bd5151-962b-438f-fb36-c79db46a1191"
      },
      "source": [
        "def printlove(input2 = 'STAT', input1) :  # ต้องเอา input ที่สำคัญข้นก่อนหรือว่า input ที่ไม่มีค่า default\n",
        "        print(f'{input1} love {input2} {input3}')"
      ],
      "execution_count": 72,
      "outputs": [
        {
          "output_type": "error",
          "ename": "SyntaxError",
          "evalue": "ignored",
          "traceback": [
            "\u001b[0;36m  File \u001b[0;32m\"<ipython-input-72-7a0d10b0afac>\"\u001b[0;36m, line \u001b[0;32m1\u001b[0m\n\u001b[0;31m    def printlove(input2 = 'STAT', input1) :\u001b[0m\n\u001b[0m                 ^\u001b[0m\n\u001b[0;31mSyntaxError\u001b[0m\u001b[0;31m:\u001b[0m non-default argument follows default argument\n"
          ]
        }
      ]
    },
    {
      "cell_type": "markdown",
      "metadata": {
        "id": "JAK_JR0tFPrx"
      },
      "source": [
        "###Quiz 2\n",
        "สร้างฟังก์ชั่น\n",
        "\n",
        "\n",
        "*   วาดรูปบ้าน\n",
        "*   วาดรูปต้นไม้\n",
        "( วาดไว้ข้างกัน )\n",
        "\n"
      ]
    },
    {
      "cell_type": "code",
      "metadata": {
        "id": "eGuHEGUYFNlc"
      },
      "source": [
        "def draw_2() :    \n",
        "        print('             oOo                     ')\n",
        "        print('           oo                         ')\n",
        "        print('      ___l-l_         ^^^        ')\n",
        "        print('    /______\\    ^^^^^^    ')\n",
        "        print('     l   l.  l  l       ^^^^       ')\n",
        "        print('     l   l_ l  l           lll          ')\n",
        "        print(' /////////////////////////////  ')"
      ],
      "execution_count": 74,
      "outputs": []
    },
    {
      "cell_type": "code",
      "metadata": {
        "id": "EU3zQl9IIFXK",
        "outputId": "e61f08c6-e319-4720-aa9a-8f2d79eed970",
        "colab": {
          "base_uri": "https://localhost:8080/"
        }
      },
      "source": [
        "draw_2()"
      ],
      "execution_count": 75,
      "outputs": [
        {
          "output_type": "stream",
          "text": [
            "             oOo                     \n",
            "           oo                         \n",
            "      ___l-l_         ^^^        \n",
            "    /______\\    ^^^^^^    \n",
            "     l   l.  l  l       ^^^^       \n",
            "     l   l_ l  l           lll          \n",
            " /////////////////////////////  \n"
          ],
          "name": "stdout"
        }
      ]
    }
  ]
}