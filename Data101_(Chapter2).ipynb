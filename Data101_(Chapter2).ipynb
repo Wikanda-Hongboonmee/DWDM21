{
  "nbformat": 4,
  "nbformat_minor": 0,
  "metadata": {
    "colab": {
      "name": "Data101 (Chapter2).ipynb",
      "provenance": [],
      "authorship_tag": "ABX9TyMz2/HZDrXITWAgyjYLJ0u/",
      "include_colab_link": true
    },
    "kernelspec": {
      "name": "python3",
      "display_name": "Python 3"
    },
    "language_info": {
      "name": "python"
    }
  },
  "cells": [
    {
      "cell_type": "markdown",
      "metadata": {
        "id": "view-in-github",
        "colab_type": "text"
      },
      "source": [
        "<a href=\"https://colab.research.google.com/github/Wikanda-Hongboonmee/DWDM21/blob/main/Data101_(Chapter2).ipynb\" target=\"_parent\"><img src=\"https://colab.research.google.com/assets/colab-badge.svg\" alt=\"Open In Colab\"/></a>"
      ]
    },
    {
      "cell_type": "markdown",
      "metadata": {
        "id": "MYUs9470z3f4"
      },
      "source": [
        "ข้อความที่อยู่ใน **Textbox** จะเป็นภาษา **Markdown** คือ ใช้เครื่องหมายในการแสดงผล เช่น **#** ตัวใหญ่ * ตัวหนา"
      ]
    },
    {
      "cell_type": "markdown",
      "metadata": {
        "id": "utGNvn0ktm64"
      },
      "source": [
        "**ข้อดีหนึ่งของ Python** คือมี Package สำหรับการทำงานต่างๆมากมายให้เราเลือกใช้ \n",
        "\n",
        "ซึ่ง Pandas เป็น Package สำหรับการทำงานกับข้อมูลที่อยู่ในรูปแบบของตาราง \n",
        "\n",
        "โดย Pandas จะเรียกตารางนั้นว่า **Data Frame**"
      ]
    },
    {
      "cell_type": "code",
      "metadata": {
        "id": "_u4cT_OZrzss"
      },
      "source": [
        "import pandas  # เป็น Package ที่ใช้เกี่ยวกับการจัดการข้อมูล , เรียกใช้โดยการ import แล้วตามด้วยชื่อ Package"
      ],
      "execution_count": 1,
      "outputs": []
    },
    {
      "cell_type": "code",
      "metadata": {
        "id": "CUE6wuVTs7w4"
      },
      "source": [
        "import pandas as pd  # การ import package อีกแบบหนึ่ง เหมือนกับด้านบน แต่ว่ามีการตั้งชื่อให้กับ Package ที่โหลดมาใหม่ว่า pd"
      ],
      "execution_count": 2,
      "outputs": []
    },
    {
      "cell_type": "markdown",
      "metadata": {
        "id": "GeXQ5SXXus6h"
      },
      "source": [
        "ไฟล์ที่จะได้เจอส่วนใหญ่ในวิชานี้เป็นไฟล์ .csv ( **CSV = comma seperated values** )  เป็นไฟล์หลักที่เราจะได้ใช้ในวิชานี้ \n",
        "\n",
        "เป็นไฟล์ที่ใช้เก็บข้อมูลตาราง ที่เข้าใจได้ง่าย ใช้ comma ในการแบ่งข้อมูลแต่ละตัว ใช้ enter ในการแบ่ง record "
      ]
    },
    {
      "cell_type": "code",
      "metadata": {
        "id": "Jgu8ry8hup5Q"
      },
      "source": [
        "data_df = pd.read_csv( 'data.csv' )  # เรียกใช้ไฟล์ csv ที่เราต้องการ โดย pd.read_csv ( 'ชื่อไฟล์' )"
      ],
      "execution_count": 3,
      "outputs": []
    },
    {
      "cell_type": "code",
      "metadata": {
        "colab": {
          "base_uri": "https://localhost:8080/",
          "height": 142
        },
        "id": "NLheDzj0xPWQ",
        "outputId": "e62fa4b9-d120-4f28-92e8-d692f29348bf"
      },
      "source": [
        "data_df   # แสดงผลไฟล์ data_df"
      ],
      "execution_count": 4,
      "outputs": [
        {
          "output_type": "execute_result",
          "data": {
            "text/html": [
              "<div>\n",
              "<style scoped>\n",
              "    .dataframe tbody tr th:only-of-type {\n",
              "        vertical-align: middle;\n",
              "    }\n",
              "\n",
              "    .dataframe tbody tr th {\n",
              "        vertical-align: top;\n",
              "    }\n",
              "\n",
              "    .dataframe thead th {\n",
              "        text-align: right;\n",
              "    }\n",
              "</style>\n",
              "<table border=\"1\" class=\"dataframe\">\n",
              "  <thead>\n",
              "    <tr style=\"text-align: right;\">\n",
              "      <th></th>\n",
              "      <th>name</th>\n",
              "      <th>age</th>\n",
              "      <th>city</th>\n",
              "    </tr>\n",
              "  </thead>\n",
              "  <tbody>\n",
              "    <tr>\n",
              "      <th>0</th>\n",
              "      <td>Tom</td>\n",
              "      <td>27</td>\n",
              "      <td>Khon Kaen</td>\n",
              "    </tr>\n",
              "    <tr>\n",
              "      <th>1</th>\n",
              "      <td>Paul</td>\n",
              "      <td>15</td>\n",
              "      <td>Bangkok</td>\n",
              "    </tr>\n",
              "    <tr>\n",
              "      <th>2</th>\n",
              "      <td>Sarah</td>\n",
              "      <td>49</td>\n",
              "      <td>London</td>\n",
              "    </tr>\n",
              "  </tbody>\n",
              "</table>\n",
              "</div>"
            ],
            "text/plain": [
              "    name  age       city\n",
              "0    Tom   27  Khon Kaen\n",
              "1   Paul   15    Bangkok\n",
              "2  Sarah   49     London"
            ]
          },
          "metadata": {
            "tags": []
          },
          "execution_count": 4
        }
      ]
    },
    {
      "cell_type": "code",
      "metadata": {
        "colab": {
          "base_uri": "https://localhost:8080/",
          "height": 142
        },
        "id": "LYzBtFcGxRWh",
        "outputId": "f781e0b3-3887-4841-cc7e-6083f95567e6"
      },
      "source": [
        "data_df2 = pandas.read_csv( 'data.csv' ) \n",
        "data_df2  # แสดงผลไฟล์ data_df2"
      ],
      "execution_count": 5,
      "outputs": [
        {
          "output_type": "execute_result",
          "data": {
            "text/html": [
              "<div>\n",
              "<style scoped>\n",
              "    .dataframe tbody tr th:only-of-type {\n",
              "        vertical-align: middle;\n",
              "    }\n",
              "\n",
              "    .dataframe tbody tr th {\n",
              "        vertical-align: top;\n",
              "    }\n",
              "\n",
              "    .dataframe thead th {\n",
              "        text-align: right;\n",
              "    }\n",
              "</style>\n",
              "<table border=\"1\" class=\"dataframe\">\n",
              "  <thead>\n",
              "    <tr style=\"text-align: right;\">\n",
              "      <th></th>\n",
              "      <th>name</th>\n",
              "      <th>age</th>\n",
              "      <th>city</th>\n",
              "    </tr>\n",
              "  </thead>\n",
              "  <tbody>\n",
              "    <tr>\n",
              "      <th>0</th>\n",
              "      <td>Tom</td>\n",
              "      <td>27</td>\n",
              "      <td>Khon Kaen</td>\n",
              "    </tr>\n",
              "    <tr>\n",
              "      <th>1</th>\n",
              "      <td>Paul</td>\n",
              "      <td>15</td>\n",
              "      <td>Bangkok</td>\n",
              "    </tr>\n",
              "    <tr>\n",
              "      <th>2</th>\n",
              "      <td>Sarah</td>\n",
              "      <td>49</td>\n",
              "      <td>London</td>\n",
              "    </tr>\n",
              "  </tbody>\n",
              "</table>\n",
              "</div>"
            ],
            "text/plain": [
              "    name  age       city\n",
              "0    Tom   27  Khon Kaen\n",
              "1   Paul   15    Bangkok\n",
              "2  Sarah   49     London"
            ]
          },
          "metadata": {
            "tags": []
          },
          "execution_count": 5
        }
      ]
    },
    {
      "cell_type": "markdown",
      "metadata": {
        "id": "M8eapTsRyh6I"
      },
      "source": [
        "#  Basic Python \n",
        "## Variables"
      ]
    },
    {
      "cell_type": "markdown",
      "metadata": {
        "id": "UOx_S5Ad1rls"
      },
      "source": [
        "**ข้อกำหนดในการตั้งตัวแปร**\n",
        "\n",
        "1.   ชื่อห้ามมีเว้นวรรค\n",
        "2.   ใช้ภาษาอังกฤษ ( เป็นไปได้ควรใช้ภาษาอังกฤษเสมอ )\n",
        "3.   ตัวเล็กกับตัวใหญ่แตกต่างกัน ( case sensitive )\n",
        "4.    ห้ามใช้ตัวเลขเป็นตัวหน้า\n",
        "\n",
        "\n"
      ]
    },
    {
      "cell_type": "code",
      "metadata": {
        "id": "GAg7LntGyK2W"
      },
      "source": [
        "variable_a = 12  # สร้างตัวแปรขึ้นมาใหม่โดยกำหนดให้ตัวแปร variable_a มีค่าเท่ากับ 12 (เป็นตัวเลข)\n",
        "variable_b = ' abcde '   # ' ' เรียกว่า quote เอาไว้ตอนจะพิมพ์ข้อความ (string)\n",
        "variable_c = variable_a  # ค่าของ variable_c เท่ากับ variable_a เรากำหนดค่าอะไรให้มัน มันจะเปลี่ยนตามตัวแปรนั้นๆ"
      ],
      "execution_count": 6,
      "outputs": []
    },
    {
      "cell_type": "code",
      "metadata": {
        "colab": {
          "base_uri": "https://localhost:8080/"
        },
        "id": "N0daN15i1JHu",
        "outputId": "4727fe22-d5e5-481e-b7f5-c4208befc5ab"
      },
      "source": [
        "variable_a"
      ],
      "execution_count": 7,
      "outputs": [
        {
          "output_type": "execute_result",
          "data": {
            "text/plain": [
              "12"
            ]
          },
          "metadata": {
            "tags": []
          },
          "execution_count": 7
        }
      ]
    },
    {
      "cell_type": "code",
      "metadata": {
        "colab": {
          "base_uri": "https://localhost:8080/",
          "height": 35
        },
        "id": "e6lMkuYg1NIC",
        "outputId": "368d4cad-8d2e-4a29-8422-69b912cfaa65"
      },
      "source": [
        "variable_b"
      ],
      "execution_count": 8,
      "outputs": [
        {
          "output_type": "execute_result",
          "data": {
            "application/vnd.google.colaboratory.intrinsic+json": {
              "type": "string"
            },
            "text/plain": [
              "' abcde '"
            ]
          },
          "metadata": {
            "tags": []
          },
          "execution_count": 8
        }
      ]
    },
    {
      "cell_type": "code",
      "metadata": {
        "colab": {
          "base_uri": "https://localhost:8080/"
        },
        "id": "dRQdSNlU1OP4",
        "outputId": "264fa28a-1408-49d0-965f-d89398ec95b0"
      },
      "source": [
        "variable_c"
      ],
      "execution_count": 9,
      "outputs": [
        {
          "output_type": "execute_result",
          "data": {
            "text/plain": [
              "12"
            ]
          },
          "metadata": {
            "tags": []
          },
          "execution_count": 9
        }
      ]
    },
    {
      "cell_type": "code",
      "metadata": {
        "colab": {
          "base_uri": "https://localhost:8080/",
          "height": 130
        },
        "id": "ry_rQuaJ2tq-",
        "outputId": "7f1da99e-c97d-47c0-dc4e-8b2bf17c9cb0"
      },
      "source": [
        "variable a = 6  # ชื่อตัวแปรห้ามมีเว้นวรรค"
      ],
      "execution_count": 10,
      "outputs": [
        {
          "output_type": "error",
          "ename": "SyntaxError",
          "evalue": "ignored",
          "traceback": [
            "\u001b[0;36m  File \u001b[0;32m\"<ipython-input-10-5dd2524253ac>\"\u001b[0;36m, line \u001b[0;32m1\u001b[0m\n\u001b[0;31m    variable a = 6  # ชื่อตัวแปรห้ามมีเว้นวรรค\u001b[0m\n\u001b[0m             ^\u001b[0m\n\u001b[0;31mSyntaxError\u001b[0m\u001b[0;31m:\u001b[0m invalid syntax\n"
          ]
        }
      ]
    },
    {
      "cell_type": "code",
      "metadata": {
        "colab": {
          "base_uri": "https://localhost:8080/"
        },
        "id": "f5rHnQDk1QLD",
        "outputId": "56939b07-fdf8-4e36-d70e-45a85e853666"
      },
      "source": [
        "ตัวแปร = 3     #  colab ใช้ภาษาไทยในการตั้งชื่อตัวแปรได้แต่ว่าเป็นไปได้ไม่ควรใช้ภาษาไทย\n",
        "ตัวแปร"
      ],
      "execution_count": 11,
      "outputs": [
        {
          "output_type": "execute_result",
          "data": {
            "text/plain": [
              "3"
            ]
          },
          "metadata": {
            "tags": []
          },
          "execution_count": 11
        }
      ]
    },
    {
      "cell_type": "code",
      "metadata": {
        "colab": {
          "base_uri": "https://localhost:8080/"
        },
        "id": "Aj5VyzSZ2r26",
        "outputId": "c91d32cb-ef69-496c-b540-6739c6e9b91d"
      },
      "source": [
        "v_a = 1    # ตัวเล็กกับตัวใหญ่แตกต่างกัน ( case sensitive )\n",
        "v_A = 2\n",
        "print(v_a) # เนื่องจากมีตัวแปร 2 ตัว จึงใช้คำสั่ง print เป็นคำสั่งที่ใช้แสดงผลตัวแปร\n",
        "print(v_A)"
      ],
      "execution_count": 12,
      "outputs": [
        {
          "output_type": "stream",
          "text": [
            "1\n",
            "2\n"
          ],
          "name": "stdout"
        }
      ]
    },
    {
      "cell_type": "code",
      "metadata": {
        "colab": {
          "base_uri": "https://localhost:8080/"
        },
        "id": "MCNKGnYO3b7u",
        "outputId": "afd49e0b-f8ec-4438-a1bf-0223364eeef9"
      },
      "source": [
        "v_a = 1    # ตัวเล็กกับตัวใหญ่แตกต่างกัน ( case sensitive )\n",
        "v_a = 2    # ค่ามันทับกัน จะแสดงผลค่าล่าสุดที่กำหนดให้แก่ตัวแปรนั้น ๆ \n",
        "print(v_a) # เนื่องจากมีตัวแปร 2 ตัว จึงใช้คำสั่ง print เป็นคำสั่งที่ใช้แสดงผลตัวแปร\n",
        "print(v_a)"
      ],
      "execution_count": 13,
      "outputs": [
        {
          "output_type": "stream",
          "text": [
            "2\n",
            "2\n"
          ],
          "name": "stdout"
        }
      ]
    },
    {
      "cell_type": "code",
      "metadata": {
        "colab": {
          "base_uri": "https://localhost:8080/",
          "height": 130
        },
        "id": "9ymHFnRc3hDL",
        "outputId": "e0a67620-6ee3-4bd6-b36b-6c78d537aff0"
      },
      "source": [
        "2_a = 1   #  ห้ามใช้ตัวเลขเป็นตัวหน้า"
      ],
      "execution_count": 14,
      "outputs": [
        {
          "output_type": "error",
          "ename": "SyntaxError",
          "evalue": "ignored",
          "traceback": [
            "\u001b[0;36m  File \u001b[0;32m\"<ipython-input-14-299149bc55df>\"\u001b[0;36m, line \u001b[0;32m1\u001b[0m\n\u001b[0;31m    2_a = 1   #  ห้ามใช้ตัวเลขเป็นตัวหน้า\u001b[0m\n\u001b[0m     ^\u001b[0m\n\u001b[0;31mSyntaxError\u001b[0m\u001b[0;31m:\u001b[0m invalid token\n"
          ]
        }
      ]
    },
    {
      "cell_type": "code",
      "metadata": {
        "id": "Vu3CjQ6131oT"
      },
      "source": [
        "variable_a = 12  # สร้างตัวแปรขึ้นมาใหม่โดยกำหนดให้ตัวแปร variable_a มีค่าเท่ากับ 12 (เป็นตัวเลข)\n",
        "variable_b = ' abcde '   # ' ' เรียกว่า quote เอาไว้ตอนจะพิมพ์ข้อความ (string)\n",
        "variable_c = variable_a  # ค่าของ variable_c เท่ากับ variable_a เรากำหนดค่าอะไรให้มัน มันจะเปลี่ยนตามตัวแปรนั้นๆ\n",
        "variable_d = -41.2  # ตัวเลขสามารถอยู่ด้านหลังตัวแปรได้ แต่นำหน้าตัวแปรไม่ได้\n",
        "variable_4 = \"KKU\"   # เราสามารถใช้ double quote แทน quote ได้ "
      ],
      "execution_count": 15,
      "outputs": []
    },
    {
      "cell_type": "code",
      "metadata": {
        "colab": {
          "base_uri": "https://localhost:8080/"
        },
        "id": "51IWu5oA4jW8",
        "outputId": "b87308f9-d6ff-41d1-a23a-264cd3fb47e9"
      },
      "source": [
        "variable_x = variable_c + variable_d # นำตัวเลขมาบวกกันได้ \n",
        "print(variable_x) "
      ],
      "execution_count": 16,
      "outputs": [
        {
          "output_type": "stream",
          "text": [
            "-29.200000000000003\n"
          ],
          "name": "stdout"
        }
      ]
    },
    {
      "cell_type": "code",
      "metadata": {
        "colab": {
          "base_uri": "https://localhost:8080/"
        },
        "id": "-lbYJ7DD4wNH",
        "outputId": "22fefdec-8fcc-4f9f-bf2b-a79b17a8df44"
      },
      "source": [
        "print(variable_b + variable_4) # นำข้อความมาบวกกันได้ "
      ],
      "execution_count": 17,
      "outputs": [
        {
          "output_type": "stream",
          "text": [
            " abcde KKU\n"
          ],
          "name": "stdout"
        }
      ]
    },
    {
      "cell_type": "code",
      "metadata": {
        "colab": {
          "base_uri": "https://localhost:8080/",
          "height": 163
        },
        "id": "ZRkYTfQM6iLZ",
        "outputId": "4b4416ad-1a0d-48f1-f121-2b361a6d1ffa"
      },
      "source": [
        "print(variable_a + variable_b) # นำตัวเลขมาบวกกับข้อความไม่ได้"
      ],
      "execution_count": 18,
      "outputs": [
        {
          "output_type": "error",
          "ename": "TypeError",
          "evalue": "ignored",
          "traceback": [
            "\u001b[0;31m---------------------------------------------------------------------------\u001b[0m",
            "\u001b[0;31mTypeError\u001b[0m                                 Traceback (most recent call last)",
            "\u001b[0;32m<ipython-input-18-c9773be329d2>\u001b[0m in \u001b[0;36m<module>\u001b[0;34m()\u001b[0m\n\u001b[0;32m----> 1\u001b[0;31m \u001b[0mprint\u001b[0m\u001b[0;34m(\u001b[0m\u001b[0mvariable_a\u001b[0m \u001b[0;34m+\u001b[0m \u001b[0mvariable_b\u001b[0m\u001b[0;34m)\u001b[0m \u001b[0;31m# นำตัวเลขมาบวกกับข้อความไม่ได้\u001b[0m\u001b[0;34m\u001b[0m\u001b[0;34m\u001b[0m\u001b[0m\n\u001b[0m",
            "\u001b[0;31mTypeError\u001b[0m: unsupported operand type(s) for +: 'int' and 'str'"
          ]
        }
      ]
    },
    {
      "cell_type": "markdown",
      "metadata": {
        "id": "m3SxsrO67CQj"
      },
      "source": [
        "## Casting int()  float() stri()\n",
        "\n",
        "เราสามารถเปลี่ยนชนิดของตัวแปรได้ "
      ]
    },
    {
      "cell_type": "code",
      "metadata": {
        "colab": {
          "base_uri": "https://localhost:8080/"
        },
        "id": "SB0aX3N-67JG",
        "outputId": "7720c5ed-01b2-4a13-c4b2-4ee7f4eff064"
      },
      "source": [
        "print(variable_x) # ผลบวกเป็น float\n",
        "print(int(variable_x)) # เปลี่ยนผลบวกเป็นจำนวนเต็มหรือ int"
      ],
      "execution_count": 19,
      "outputs": [
        {
          "output_type": "stream",
          "text": [
            "-29.200000000000003\n",
            "-29\n"
          ],
          "name": "stdout"
        }
      ]
    },
    {
      "cell_type": "code",
      "metadata": {
        "colab": {
          "base_uri": "https://localhost:8080/"
        },
        "id": "3QkSbbnX7Z6X",
        "outputId": "fd8d1ac8-2f31-4c73-c5d7-2a165ff55023"
      },
      "source": [
        "v_x = str(variable_x) # เปลี่ยนให้เป็น string\n",
        "print(str(variable_x)) "
      ],
      "execution_count": 20,
      "outputs": [
        {
          "output_type": "stream",
          "text": [
            "-29.200000000000003\n"
          ],
          "name": "stdout"
        }
      ]
    },
    {
      "cell_type": "code",
      "metadata": {
        "colab": {
          "base_uri": "https://localhost:8080/",
          "height": 163
        },
        "id": "l1I5SMCG7zTM",
        "outputId": "cd6e5ee4-9cf4-45e4-e692-472f564e1a27"
      },
      "source": [
        "v_x + variable_a  # เอามาบวกกันไม่ได้ เนื่องจากเปลี่ยน v_x เป็น string ไปแล้ว"
      ],
      "execution_count": 21,
      "outputs": [
        {
          "output_type": "error",
          "ename": "TypeError",
          "evalue": "ignored",
          "traceback": [
            "\u001b[0;31m---------------------------------------------------------------------------\u001b[0m",
            "\u001b[0;31mTypeError\u001b[0m                                 Traceback (most recent call last)",
            "\u001b[0;32m<ipython-input-21-0987a2f09f0c>\u001b[0m in \u001b[0;36m<module>\u001b[0;34m()\u001b[0m\n\u001b[0;32m----> 1\u001b[0;31m \u001b[0mv_x\u001b[0m \u001b[0;34m+\u001b[0m \u001b[0mvariable_a\u001b[0m  \u001b[0;31m# เอามาบวกกันไม่ได้ เนื่องจากเปลี่ยน v_x เป็น string ไปแล้ว\u001b[0m\u001b[0;34m\u001b[0m\u001b[0;34m\u001b[0m\u001b[0m\n\u001b[0m",
            "\u001b[0;31mTypeError\u001b[0m: can only concatenate str (not \"int\") to str"
          ]
        }
      ]
    },
    {
      "cell_type": "code",
      "metadata": {
        "colab": {
          "base_uri": "https://localhost:8080/",
          "height": 35
        },
        "id": "m4IoQB1a8AWv",
        "outputId": "9ba4aeb1-3e54-40f2-8972-31eecbf25181"
      },
      "source": [
        "v_x  # แสดงผลออกมามันมี quote แสดงว่าเป็นข้อความหรือ string"
      ],
      "execution_count": 22,
      "outputs": [
        {
          "output_type": "execute_result",
          "data": {
            "application/vnd.google.colaboratory.intrinsic+json": {
              "type": "string"
            },
            "text/plain": [
              "'-29.200000000000003'"
            ]
          },
          "metadata": {
            "tags": []
          },
          "execution_count": 22
        }
      ]
    },
    {
      "cell_type": "code",
      "metadata": {
        "colab": {
          "base_uri": "https://localhost:8080/"
        },
        "id": "5fyrrWvM8dd2",
        "outputId": "f6f8819a-33b4-4636-88a8-cb2a697c3bf0"
      },
      "source": [
        "float(v_x)  # เปลี่ยนเป็น float แสดงผลออกมาจะเป็นตัวเลข"
      ],
      "execution_count": 23,
      "outputs": [
        {
          "output_type": "execute_result",
          "data": {
            "text/plain": [
              "-29.200000000000003"
            ]
          },
          "metadata": {
            "tags": []
          },
          "execution_count": 23
        }
      ]
    },
    {
      "cell_type": "markdown",
      "metadata": {
        "id": "O15LlAE_835u"
      },
      "source": [
        "# Data Structure \n",
        "## list ()\n",
        "list เป็นตัวแปรหรือตัวเลขหลายๆตัวมาเรียงต่อๆกัน"
      ]
    },
    {
      "cell_type": "code",
      "metadata": {
        "id": "HdGQhkgT8u0B"
      },
      "source": [
        "list_a = [1,2,0.2,'abs']  # [ ] คือ square brackets , ลำดับใน list มีความสำคัญ\n",
        "list_b = [2,'xyz',list_a,[1,2,0.0]] "
      ],
      "execution_count": 24,
      "outputs": []
    },
    {
      "cell_type": "code",
      "metadata": {
        "colab": {
          "base_uri": "https://localhost:8080/"
        },
        "id": "1uhdQLdv940J",
        "outputId": "652ebef3-6b43-4806-ccb1-e84805d2c7e5"
      },
      "source": [
        "list_a"
      ],
      "execution_count": 25,
      "outputs": [
        {
          "output_type": "execute_result",
          "data": {
            "text/plain": [
              "[1, 2, 0.2, 'abs']"
            ]
          },
          "metadata": {
            "tags": []
          },
          "execution_count": 25
        }
      ]
    },
    {
      "cell_type": "code",
      "metadata": {
        "colab": {
          "base_uri": "https://localhost:8080/"
        },
        "id": "2wKa64ia96Y_",
        "outputId": "e0faa513-e705-4b0f-8d96-64a10b30f0d3"
      },
      "source": [
        "list_b"
      ],
      "execution_count": 26,
      "outputs": [
        {
          "output_type": "execute_result",
          "data": {
            "text/plain": [
              "[2, 'xyz', [1, 2, 0.2, 'abs'], [1, 2, 0.0]]"
            ]
          },
          "metadata": {
            "tags": []
          },
          "execution_count": 26
        }
      ]
    },
    {
      "cell_type": "code",
      "metadata": {
        "colab": {
          "base_uri": "https://localhost:8080/"
        },
        "id": "F75MoFYy98oJ",
        "outputId": "2d25dd6f-1c9f-440e-b789-f662feab57fb"
      },
      "source": [
        "len(list_b) # เป็นคำสั่งที่เอาไว้ดูว่า list มีสมาชิกทั้งหมดกี่ตัว"
      ],
      "execution_count": 27,
      "outputs": [
        {
          "output_type": "execute_result",
          "data": {
            "text/plain": [
              "4"
            ]
          },
          "metadata": {
            "tags": []
          },
          "execution_count": 27
        }
      ]
    },
    {
      "cell_type": "code",
      "metadata": {
        "colab": {
          "base_uri": "https://localhost:8080/"
        },
        "id": "spD5OBrd-UTy",
        "outputId": "627adf63-badb-4c2c-8a81-c581467199e3"
      },
      "source": [
        "list_b[3] # ชี้สมาชิกตัวที่ 3 ใน list_b (เริ่มนับตัวแรกเป็นตัวที่ 0)"
      ],
      "execution_count": 28,
      "outputs": [
        {
          "output_type": "execute_result",
          "data": {
            "text/plain": [
              "[1, 2, 0.0]"
            ]
          },
          "metadata": {
            "tags": []
          },
          "execution_count": 28
        }
      ]
    },
    {
      "cell_type": "code",
      "metadata": {
        "colab": {
          "base_uri": "https://localhost:8080/"
        },
        "id": "eZ6vGO0a-gC3",
        "outputId": "05347100-cf62-423a-bd5d-0def1c5cab1b"
      },
      "source": [
        "list_b[3][1] # ชี้สมาชิกตัวที่ 3 ลำดับที่ 1 ใน list_b"
      ],
      "execution_count": 29,
      "outputs": [
        {
          "output_type": "execute_result",
          "data": {
            "text/plain": [
              "2"
            ]
          },
          "metadata": {
            "tags": []
          },
          "execution_count": 29
        }
      ]
    },
    {
      "cell_type": "markdown",
      "metadata": {
        "id": "F68G2n2b-4ya"
      },
      "source": [
        "string คือ list ของ ตัวหนังสือ "
      ]
    },
    {
      "cell_type": "code",
      "metadata": {
        "id": "ZKECHhe3-r60"
      },
      "source": [
        "a = 'Stat KKU'"
      ],
      "execution_count": 30,
      "outputs": []
    },
    {
      "cell_type": "code",
      "metadata": {
        "colab": {
          "base_uri": "https://localhost:8080/",
          "height": 35
        },
        "id": "BTTBTiiU_D_B",
        "outputId": "89f03014-f5cf-4557-8b50-0d2f66f10fbf"
      },
      "source": [
        "a[4]"
      ],
      "execution_count": 31,
      "outputs": [
        {
          "output_type": "execute_result",
          "data": {
            "application/vnd.google.colaboratory.intrinsic+json": {
              "type": "string"
            },
            "text/plain": [
              "' '"
            ]
          },
          "metadata": {
            "tags": []
          },
          "execution_count": 31
        }
      ]
    },
    {
      "cell_type": "markdown",
      "metadata": {
        "id": "Fx2NavAm_kyK"
      },
      "source": [
        "## วิธีการสร้าง list แบบที่ 2 list ว่าง"
      ]
    },
    {
      "cell_type": "code",
      "metadata": {
        "id": "vWq_V2y7_HVf"
      },
      "source": [
        "list_c = list()  # แบบที่ 1\n",
        "list_d = [] # แบบที่ 2"
      ],
      "execution_count": 32,
      "outputs": []
    },
    {
      "cell_type": "code",
      "metadata": {
        "colab": {
          "base_uri": "https://localhost:8080/"
        },
        "id": "9q87-Qts_4YD",
        "outputId": "60ca30f4-1b17-495a-d9ce-4db4963295bd"
      },
      "source": [
        "list_c"
      ],
      "execution_count": 33,
      "outputs": [
        {
          "output_type": "execute_result",
          "data": {
            "text/plain": [
              "[]"
            ]
          },
          "metadata": {
            "tags": []
          },
          "execution_count": 33
        }
      ]
    },
    {
      "cell_type": "code",
      "metadata": {
        "colab": {
          "base_uri": "https://localhost:8080/"
        },
        "id": "pX54KpWz_7Zo",
        "outputId": "3624c810-cd08-4680-9c8a-d1b48486878e"
      },
      "source": [
        "list_d"
      ],
      "execution_count": 34,
      "outputs": [
        {
          "output_type": "execute_result",
          "data": {
            "text/plain": [
              "[]"
            ]
          },
          "metadata": {
            "tags": []
          },
          "execution_count": 34
        }
      ]
    },
    {
      "cell_type": "markdown",
      "metadata": {
        "id": "oG0aFPyPAj3s"
      },
      "source": [
        "### เติมค่าลงไปใน list (.append())"
      ]
    },
    {
      "cell_type": "code",
      "metadata": {
        "id": "OFonSxto_9qH"
      },
      "source": [
        "list_d.append('a') # ค่าที่เพิ่มเข้าไปจะไปต่อด้านหลังของ list"
      ],
      "execution_count": 39,
      "outputs": []
    },
    {
      "cell_type": "code",
      "metadata": {
        "colab": {
          "base_uri": "https://localhost:8080/"
        },
        "id": "euXLuwiyAuOx",
        "outputId": "353b74b5-8637-4d3e-a55d-d4c4a68a0b5f"
      },
      "source": [
        "list_d"
      ],
      "execution_count": 40,
      "outputs": [
        {
          "output_type": "execute_result",
          "data": {
            "text/plain": [
              "['a', 56, 'a']"
            ]
          },
          "metadata": {
            "tags": []
          },
          "execution_count": 40
        }
      ]
    },
    {
      "cell_type": "code",
      "metadata": {
        "id": "5LvUGfLeAvnu"
      },
      "source": [
        "list_d.append(56)"
      ],
      "execution_count": 41,
      "outputs": []
    },
    {
      "cell_type": "code",
      "metadata": {
        "colab": {
          "base_uri": "https://localhost:8080/"
        },
        "id": "_0r43L39A39R",
        "outputId": "83031823-7716-4831-d9b8-688224297921"
      },
      "source": [
        "list_d"
      ],
      "execution_count": 42,
      "outputs": [
        {
          "output_type": "execute_result",
          "data": {
            "text/plain": [
              "['a', 56, 'a', 56]"
            ]
          },
          "metadata": {
            "tags": []
          },
          "execution_count": 42
        }
      ]
    },
    {
      "cell_type": "markdown",
      "metadata": {
        "id": "PjWAbiNIBTZi"
      },
      "source": [
        "### การชี้ค่าใน list (indexing)\n",
        "\n",
        "\n",
        "1.   ใช้ลำดับในการชี้\n",
        "2.   ลำดับเริ่มต้นจาก 0\n",
        "3.   สามารถชี้จากข้างหลังได้โดยใช้ **negative index**\n",
        "\n"
      ]
    },
    {
      "cell_type": "code",
      "metadata": {
        "colab": {
          "base_uri": "https://localhost:8080/"
        },
        "id": "tQaC_1owA6T8",
        "outputId": "647feecb-9fb4-4f5b-ff0b-e5fc2c6033ae"
      },
      "source": [
        "list_b"
      ],
      "execution_count": 43,
      "outputs": [
        {
          "output_type": "execute_result",
          "data": {
            "text/plain": [
              "[2, 'xyz', [1, 2, 0.2, 'abs'], [1, 2, 0.0]]"
            ]
          },
          "metadata": {
            "tags": []
          },
          "execution_count": 43
        }
      ]
    },
    {
      "cell_type": "code",
      "metadata": {
        "colab": {
          "base_uri": "https://localhost:8080/"
        },
        "id": "B9MFm0KqBmEt",
        "outputId": "f23e0960-a137-4258-9e58-4726861a0693"
      },
      "source": [
        "list_b[-1] # -1 ก็จะชี้ตัวท้ายสุดที่อยู่ใน list"
      ],
      "execution_count": 44,
      "outputs": [
        {
          "output_type": "execute_result",
          "data": {
            "text/plain": [
              "[1, 2, 0.0]"
            ]
          },
          "metadata": {
            "tags": []
          },
          "execution_count": 44
        }
      ]
    },
    {
      "cell_type": "markdown",
      "metadata": {
        "id": "5f6tv3MQCSKv"
      },
      "source": [
        "### list slicing"
      ]
    },
    {
      "cell_type": "markdown",
      "metadata": {
        "id": "7peK-RdPC8_9"
      },
      "source": [
        "เราจะตัด list โดยเอาตั้งแต่ [ตัวหน้า:ตัวก่อนตัวหลัง]\n",
        "\n",
        "ถ้าเป็นสัญลักษณ์คณิตศาสตร์ **[ตัวหน้า:ตัวหลัง)**"
      ]
    },
    {
      "cell_type": "code",
      "metadata": {
        "id": "xX7lZ7lBBpFY"
      },
      "source": [
        "list_ex = [1,2,3,5,6,8,-1,20,50,0]"
      ],
      "execution_count": 45,
      "outputs": []
    },
    {
      "cell_type": "code",
      "metadata": {
        "colab": {
          "base_uri": "https://localhost:8080/"
        },
        "id": "M_KkZfO4Capa",
        "outputId": "71c2bb92-6a80-40fd-b258-77718686d13a"
      },
      "source": [
        "list_ex[1:6]  # เราจะตัด list โดยเอาตั้งแต่ ตัวข้างหน้า ถึง ตัวก่อนหน้าตัวข้างหลัง : "
      ],
      "execution_count": 46,
      "outputs": [
        {
          "output_type": "execute_result",
          "data": {
            "text/plain": [
              "[2, 3, 5, 6, 8]"
            ]
          },
          "metadata": {
            "tags": []
          },
          "execution_count": 46
        }
      ]
    },
    {
      "cell_type": "code",
      "metadata": {
        "colab": {
          "base_uri": "https://localhost:8080/"
        },
        "id": "B6Cqi9lJCgyU",
        "outputId": "a7e0527d-2869-4dfb-baeb-43c7e9c0e4a1"
      },
      "source": [
        "list_ex[4:]  # เอาตั้งแต่ตัวที่ 4 ไปจนถึงตัวสุดท้าย"
      ],
      "execution_count": 47,
      "outputs": [
        {
          "output_type": "execute_result",
          "data": {
            "text/plain": [
              "[6, 8, -1, 20, 50, 0]"
            ]
          },
          "metadata": {
            "tags": []
          },
          "execution_count": 47
        }
      ]
    },
    {
      "cell_type": "code",
      "metadata": {
        "colab": {
          "base_uri": "https://localhost:8080/"
        },
        "id": "SbyCtF1eDggf",
        "outputId": "af7c1709-feff-44f3-bb34-d0d6fe54224d"
      },
      "source": [
        "list_ex[:6]  # เอาตั้งแต่ตัวแรกไปจนถึงตัวก่อนหน้าตัวที่ 6"
      ],
      "execution_count": 48,
      "outputs": [
        {
          "output_type": "execute_result",
          "data": {
            "text/plain": [
              "[1, 2, 3, 5, 6, 8]"
            ]
          },
          "metadata": {
            "tags": []
          },
          "execution_count": 48
        }
      ]
    },
    {
      "cell_type": "markdown",
      "metadata": {
        "id": "VoBkGuTLEI96"
      },
      "source": [
        "[จุดเริ่มต้น: จุดสุดท้าย: step] "
      ]
    },
    {
      "cell_type": "code",
      "metadata": {
        "colab": {
          "base_uri": "https://localhost:8080/"
        },
        "id": "gqdSRRYlDoHu",
        "outputId": "54b56964-e7ab-4557-debe-52c85b5e48a1"
      },
      "source": [
        "list_ex[::2]  # เอาตั้งแต่ตัวแรกไปจนถึงตัวสุดท้าย step 2 หมายถึง กระโดดไปทีละ 2 ข้ามไปตัวนึง"
      ],
      "execution_count": 49,
      "outputs": [
        {
          "output_type": "execute_result",
          "data": {
            "text/plain": [
              "[1, 3, 6, -1, 50]"
            ]
          },
          "metadata": {
            "tags": []
          },
          "execution_count": 49
        }
      ]
    },
    {
      "cell_type": "code",
      "metadata": {
        "colab": {
          "base_uri": "https://localhost:8080/"
        },
        "id": "h8wc905lEBAj",
        "outputId": "c5d4baf3-6309-4594-a3f4-ee74fe240d9b"
      },
      "source": [
        "list_ex[::-1] # กลับ list เอาตัวแรกไปอยู่ด้านหลัง ตัวหลังมาอยู่ด้านหน้า"
      ],
      "execution_count": 50,
      "outputs": [
        {
          "output_type": "execute_result",
          "data": {
            "text/plain": [
              "[0, 50, 20, -1, 8, 6, 5, 3, 2, 1]"
            ]
          },
          "metadata": {
            "tags": []
          },
          "execution_count": 50
        }
      ]
    },
    {
      "cell_type": "code",
      "metadata": {
        "colab": {
          "base_uri": "https://localhost:8080/"
        },
        "id": "_wcJlWHjEols",
        "outputId": "83c40046-217d-45dd-807b-d16755e14759"
      },
      "source": [
        "list_ex[::3] # กระโดดไปทีละ 3 ข้ามไป 2 "
      ],
      "execution_count": 51,
      "outputs": [
        {
          "output_type": "execute_result",
          "data": {
            "text/plain": [
              "[1, 5, -1, 0]"
            ]
          },
          "metadata": {
            "tags": []
          },
          "execution_count": 51
        }
      ]
    },
    {
      "cell_type": "code",
      "metadata": {
        "colab": {
          "base_uri": "https://localhost:8080/",
          "height": 35
        },
        "id": "Lt54GHvOEyq1",
        "outputId": "091e2a17-f5bb-4a84-8aa8-b6d93040baaf"
      },
      "source": [
        "a"
      ],
      "execution_count": 52,
      "outputs": [
        {
          "output_type": "execute_result",
          "data": {
            "application/vnd.google.colaboratory.intrinsic+json": {
              "type": "string"
            },
            "text/plain": [
              "'Stat KKU'"
            ]
          },
          "metadata": {
            "tags": []
          },
          "execution_count": 52
        }
      ]
    },
    {
      "cell_type": "code",
      "metadata": {
        "colab": {
          "base_uri": "https://localhost:8080/",
          "height": 35
        },
        "id": "Oal-iBkpE8ll",
        "outputId": "6ac00a94-e089-4405-f988-67e9512d9d7e"
      },
      "source": [
        "a[5:]"
      ],
      "execution_count": 53,
      "outputs": [
        {
          "output_type": "execute_result",
          "data": {
            "application/vnd.google.colaboratory.intrinsic+json": {
              "type": "string"
            },
            "text/plain": [
              "'KKU'"
            ]
          },
          "metadata": {
            "tags": []
          },
          "execution_count": 53
        }
      ]
    },
    {
      "cell_type": "code",
      "metadata": {
        "colab": {
          "base_uri": "https://localhost:8080/",
          "height": 35
        },
        "id": "9Gyd6xN_FAg1",
        "outputId": "65289cdd-effc-4501-c4ef-c043054888cb"
      },
      "source": [
        "a[-3:]"
      ],
      "execution_count": 54,
      "outputs": [
        {
          "output_type": "execute_result",
          "data": {
            "application/vnd.google.colaboratory.intrinsic+json": {
              "type": "string"
            },
            "text/plain": [
              "'KKU'"
            ]
          },
          "metadata": {
            "tags": []
          },
          "execution_count": 54
        }
      ]
    },
    {
      "cell_type": "code",
      "metadata": {
        "colab": {
          "base_uri": "https://localhost:8080/",
          "height": 35
        },
        "id": "VoK4eWI6F2be",
        "outputId": "b096d52f-3204-4140-ce3d-24f369925d19"
      },
      "source": [
        "a[5:8]"
      ],
      "execution_count": 55,
      "outputs": [
        {
          "output_type": "execute_result",
          "data": {
            "application/vnd.google.colaboratory.intrinsic+json": {
              "type": "string"
            },
            "text/plain": [
              "'KKU'"
            ]
          },
          "metadata": {
            "tags": []
          },
          "execution_count": 55
        }
      ]
    },
    {
      "cell_type": "code",
      "metadata": {
        "colab": {
          "base_uri": "https://localhost:8080/",
          "height": 35
        },
        "id": "_puJz2mXF7Ti",
        "outputId": "13b2ba3d-e149-4d8f-9813-31db5a5834f9"
      },
      "source": [
        "a[5::]"
      ],
      "execution_count": 56,
      "outputs": [
        {
          "output_type": "execute_result",
          "data": {
            "application/vnd.google.colaboratory.intrinsic+json": {
              "type": "string"
            },
            "text/plain": [
              "'KKU'"
            ]
          },
          "metadata": {
            "tags": []
          },
          "execution_count": 56
        }
      ]
    },
    {
      "cell_type": "code",
      "metadata": {
        "colab": {
          "base_uri": "https://localhost:8080/",
          "height": 35
        },
        "id": "CslkUpBEGPop",
        "outputId": "82a89df8-7723-4f26-a794-0327ecfdb99c"
      },
      "source": [
        "a[-3::]"
      ],
      "execution_count": 57,
      "outputs": [
        {
          "output_type": "execute_result",
          "data": {
            "application/vnd.google.colaboratory.intrinsic+json": {
              "type": "string"
            },
            "text/plain": [
              "'KKU'"
            ]
          },
          "metadata": {
            "tags": []
          },
          "execution_count": 57
        }
      ]
    },
    {
      "cell_type": "markdown",
      "metadata": {
        "id": "8UVe4b5VGpTI"
      },
      "source": [
        "### list + list"
      ]
    },
    {
      "cell_type": "code",
      "metadata": {
        "colab": {
          "base_uri": "https://localhost:8080/"
        },
        "id": "FcTV5q44GX54",
        "outputId": "b2a3cf71-d919-4190-a41c-875cacbfd989"
      },
      "source": [
        "print(list_a)\n",
        "print(list_b)"
      ],
      "execution_count": 58,
      "outputs": [
        {
          "output_type": "stream",
          "text": [
            "[1, 2, 0.2, 'abs']\n",
            "[2, 'xyz', [1, 2, 0.2, 'abs'], [1, 2, 0.0]]\n"
          ],
          "name": "stdout"
        }
      ]
    },
    {
      "cell_type": "code",
      "metadata": {
        "colab": {
          "base_uri": "https://localhost:8080/"
        },
        "id": "NxAhZoncG7Hj",
        "outputId": "6bb35127-04ea-4bb5-88b0-9ffc550ab328"
      },
      "source": [
        "list_a + list_b # เราสามารถเอา list มาบวกกันได้"
      ],
      "execution_count": 59,
      "outputs": [
        {
          "output_type": "execute_result",
          "data": {
            "text/plain": [
              "[1, 2, 0.2, 'abs', 2, 'xyz', [1, 2, 0.2, 'abs'], [1, 2, 0.0]]"
            ]
          },
          "metadata": {
            "tags": []
          },
          "execution_count": 59
        }
      ]
    },
    {
      "cell_type": "markdown",
      "metadata": {
        "id": "oVYV2zBXLNzl"
      },
      "source": [
        "### format string"
      ]
    },
    {
      "cell_type": "markdown",
      "metadata": {
        "id": "AuxlH-CPLv1i"
      },
      "source": [
        "**f'string {ตัวแปร}**   โดย {} เรียกว่า curly brackets\n"
      ]
    },
    {
      "cell_type": "code",
      "metadata": {
        "colab": {
          "base_uri": "https://localhost:8080/",
          "height": 35
        },
        "id": "jI_5fhPiLSVo",
        "outputId": "d26074e0-58c6-49bf-cf72-6a97235fc9dd"
      },
      "source": [
        "f'ตัวแปร list_a มีค่าคือ {list_a}'"
      ],
      "execution_count": 60,
      "outputs": [
        {
          "output_type": "execute_result",
          "data": {
            "application/vnd.google.colaboratory.intrinsic+json": {
              "type": "string"
            },
            "text/plain": [
              "\"ตัวแปร list_a มีค่าคือ [1, 2, 0.2, 'abs']\""
            ]
          },
          "metadata": {
            "tags": []
          },
          "execution_count": 60
        }
      ]
    },
    {
      "cell_type": "markdown",
      "metadata": {
        "id": "BU-4m7DSHVRX"
      },
      "source": [
        "## Loop"
      ]
    },
    {
      "cell_type": "markdown",
      "metadata": {
        "id": "PxoDnlqMBjNz"
      },
      "source": [
        "**ทำงานซ้ำ ๆ หรือทำงานคล้าย ๆ กัน**"
      ]
    },
    {
      "cell_type": "markdown",
      "metadata": {
        "id": "zcEBfmtGKXag"
      },
      "source": [
        "for ตัวแปรที่จะรับค่าจาก list in list ที่จะนำมาวนลูป\n",
        "\n",
        "        do something  # in loop\n",
        "        do another thing  # in loop\n",
        "\n",
        "do other thing # out side loop"
      ]
    },
    {
      "cell_type": "code",
      "metadata": {
        "colab": {
          "base_uri": "https://localhost:8080/"
        },
        "id": "KpHbl2lYJmcy",
        "outputId": "b4340a14-dfe4-4fc6-e060-03f3fde7d4d7"
      },
      "source": [
        "for  i  in  [1,2,3,4,5] :    # i จะวนเป็นตัวเลขตามใน list ด้านหลัง\n",
        "      print(i+1)    # i จะแสดงผลออกมาเป็น i+1 "
      ],
      "execution_count": 61,
      "outputs": [
        {
          "output_type": "stream",
          "text": [
            "2\n",
            "3\n",
            "4\n",
            "5\n",
            "6\n"
          ],
          "name": "stdout"
        }
      ]
    },
    {
      "cell_type": "code",
      "metadata": {
        "colab": {
          "base_uri": "https://localhost:8080/"
        },
        "id": "Xqn6_FcDMV0z",
        "outputId": "51b7c999-5c73-473d-fdad-6df174f23fdd"
      },
      "source": [
        "for x in  [1,2,3,4,5] :\n",
        "      print(f'ค่าตัวแปร x คือ {x} และ x+2 = {x+2}')"
      ],
      "execution_count": 62,
      "outputs": [
        {
          "output_type": "stream",
          "text": [
            "ค่าตัวแปร x คือ 1 และ x+2 = 3\n",
            "ค่าตัวแปร x คือ 2 และ x+2 = 4\n",
            "ค่าตัวแปร x คือ 3 และ x+2 = 5\n",
            "ค่าตัวแปร x คือ 4 และ x+2 = 6\n",
            "ค่าตัวแปร x คือ 5 และ x+2 = 7\n"
          ],
          "name": "stdout"
        }
      ]
    },
    {
      "cell_type": "code",
      "metadata": {
        "colab": {
          "base_uri": "https://localhost:8080/"
        },
        "id": "cI6Ohp10M0bP",
        "outputId": "0aab3c1e-b136-4edb-da74-d3df13d5d277"
      },
      "source": [
        "list5 = [1,2,3,4,5]\n",
        "for x in list5 :\n",
        "      print(f'ค่าตัวแปร x คือ {x} และ x+2 = {x+2}')"
      ],
      "execution_count": 63,
      "outputs": [
        {
          "output_type": "stream",
          "text": [
            "ค่าตัวแปร x คือ 1 และ x+2 = 3\n",
            "ค่าตัวแปร x คือ 2 และ x+2 = 4\n",
            "ค่าตัวแปร x คือ 3 และ x+2 = 5\n",
            "ค่าตัวแปร x คือ 4 และ x+2 = 6\n",
            "ค่าตัวแปร x คือ 5 และ x+2 = 7\n"
          ],
          "name": "stdout"
        }
      ]
    },
    {
      "cell_type": "code",
      "metadata": {
        "colab": {
          "base_uri": "https://localhost:8080/"
        },
        "id": "L7IZKqq0NK4t",
        "outputId": "af25a0dc-308f-46ac-b62d-0408ffe4f6eb"
      },
      "source": [
        "range(10)"
      ],
      "execution_count": 64,
      "outputs": [
        {
          "output_type": "execute_result",
          "data": {
            "text/plain": [
              "range(0, 10)"
            ]
          },
          "metadata": {
            "tags": []
          },
          "execution_count": 64
        }
      ]
    },
    {
      "cell_type": "code",
      "metadata": {
        "colab": {
          "base_uri": "https://localhost:8080/"
        },
        "id": "MR4wXTX2NDu-",
        "outputId": "4f88deb4-442b-415f-be07-54c25a95a0db"
      },
      "source": [
        "list(range(10))  # สร้าง list ที่มีค่าเริ่มต้นตั้งแต่ 0 ถึง 10  ตัวเลขตัวเดียวกำหนดแค่จุดจบ"
      ],
      "execution_count": 65,
      "outputs": [
        {
          "output_type": "execute_result",
          "data": {
            "text/plain": [
              "[0, 1, 2, 3, 4, 5, 6, 7, 8, 9]"
            ]
          },
          "metadata": {
            "tags": []
          },
          "execution_count": 65
        }
      ]
    },
    {
      "cell_type": "code",
      "metadata": {
        "colab": {
          "base_uri": "https://localhost:8080/"
        },
        "id": "qrgLA4c8NU6X",
        "outputId": "370f979e-6bbe-4c2a-a280-8916ed119e46"
      },
      "source": [
        "for i in range(2,7) :    # มีสองตัวคือกำหนดจุดเริ่มและจุดจบ \n",
        "      print (i)"
      ],
      "execution_count": 66,
      "outputs": [
        {
          "output_type": "stream",
          "text": [
            "2\n",
            "3\n",
            "4\n",
            "5\n",
            "6\n"
          ],
          "name": "stdout"
        }
      ]
    },
    {
      "cell_type": "code",
      "metadata": {
        "colab": {
          "base_uri": "https://localhost:8080/"
        },
        "id": "I07KMnFNN5zc",
        "outputId": "100ca5fa-f037-4e06-b8a4-0332a89a5516"
      },
      "source": [
        "for i in range(2,7,2) :    # มีสองตัวคือกำหนดจุดเริ่มและจุดจบ กำหนด step คือ 2 แปลว่าข้ามไปตัวนึง\n",
        "      print (i)"
      ],
      "execution_count": 67,
      "outputs": [
        {
          "output_type": "stream",
          "text": [
            "2\n",
            "4\n",
            "6\n"
          ],
          "name": "stdout"
        }
      ]
    },
    {
      "cell_type": "code",
      "metadata": {
        "colab": {
          "base_uri": "https://localhost:8080/"
        },
        "id": "yUunmm2IOXso",
        "outputId": "8c643b48-2365-467d-f8ec-8602ac0197f0"
      },
      "source": [
        "for i in range(5) :  # แบบนี้แปลว่าเราจะวนลูปทั้งหมด 5 รอบ\n",
        "      print('hahahahahaha')"
      ],
      "execution_count": 68,
      "outputs": [
        {
          "output_type": "stream",
          "text": [
            "hahahahahaha\n",
            "hahahahahaha\n",
            "hahahahahaha\n",
            "hahahahahaha\n",
            "hahahahahaha\n"
          ],
          "name": "stdout"
        }
      ]
    },
    {
      "cell_type": "code",
      "metadata": {
        "colab": {
          "base_uri": "https://localhost:8080/"
        },
        "id": "a_1aYTbGOl7E",
        "outputId": "44c9eb12-14aa-45e8-f2e8-0d50678085f4"
      },
      "source": [
        "for i in range(5) :  # แบบนี้แปลว่าเราจะวนลูปทั้งหมด 5 รอบ\n",
        "      print('hahahahahaha')\n",
        "      x = i+3\n",
        "      print(f'i={i}  x={x}')  # print 2 รอบ แสดงผล 2 บรรทัด"
      ],
      "execution_count": 69,
      "outputs": [
        {
          "output_type": "stream",
          "text": [
            "hahahahahaha\n",
            "i=0  x=3\n",
            "hahahahahaha\n",
            "i=1  x=4\n",
            "hahahahahaha\n",
            "i=2  x=5\n",
            "hahahahahaha\n",
            "i=3  x=6\n",
            "hahahahahaha\n",
            "i=4  x=7\n"
          ],
          "name": "stdout"
        }
      ]
    },
    {
      "cell_type": "markdown",
      "metadata": {
        "id": "ZnqXMKZNPF_Z"
      },
      "source": [
        "##Nested loop"
      ]
    },
    {
      "cell_type": "markdown",
      "metadata": {
        "id": "RIzfi-uJPKaI"
      },
      "source": [
        "ลูปซ้อนลูป"
      ]
    },
    {
      "cell_type": "code",
      "metadata": {
        "colab": {
          "base_uri": "https://localhost:8080/"
        },
        "id": "j8snOk96POLI",
        "outputId": "2a6ea23f-9959-48c9-a40b-d80d7b7257f2"
      },
      "source": [
        "for i in range(3) :       # ตอนแรกจะเริ่มวนลูปของ i ทีละตัวก่อน แล้วเอาไปจับกับ j ให้ครบทุกตัว \n",
        "      print(f'now i = {i}')\n",
        "      print('start j loop')  \n",
        "      for j in range(4) :\n",
        "            print(f' i = {i} j = {j} i+j = {+j}')\n",
        "      print('end j loop')"
      ],
      "execution_count": 70,
      "outputs": [
        {
          "output_type": "stream",
          "text": [
            "now i = 0\n",
            "start j loop\n",
            " i = 0 j = 0 i+j = 0\n",
            " i = 0 j = 1 i+j = 1\n",
            " i = 0 j = 2 i+j = 2\n",
            " i = 0 j = 3 i+j = 3\n",
            "end j loop\n",
            "now i = 1\n",
            "start j loop\n",
            " i = 1 j = 0 i+j = 0\n",
            " i = 1 j = 1 i+j = 1\n",
            " i = 1 j = 2 i+j = 2\n",
            " i = 1 j = 3 i+j = 3\n",
            "end j loop\n",
            "now i = 2\n",
            "start j loop\n",
            " i = 2 j = 0 i+j = 0\n",
            " i = 2 j = 1 i+j = 1\n",
            " i = 2 j = 2 i+j = 2\n",
            " i = 2 j = 3 i+j = 3\n",
            "end j loop\n"
          ],
          "name": "stdout"
        }
      ]
    },
    {
      "cell_type": "markdown",
      "metadata": {
        "id": "KSj27epuHmjO"
      },
      "source": [
        "### Condition ( if statement )\n"
      ]
    },
    {
      "cell_type": "markdown",
      "metadata": {
        "id": "Ko68F4auFb1t"
      },
      "source": [
        "\n",
        "\n",
        "\n",
        "if  เงื่อนไขที่จะตรวจสอบ (==,!=,<,>,<=,>=):\n",
        "\n",
        "      ถ้าเงื่อนไขเป็นจริง  ทำงาน 1\n",
        "      ถ้าเงื่อนไขเป็นจริง  ทำงาน 2"
      ]
    },
    {
      "cell_type": "code",
      "metadata": {
        "id": "dc4He8q8HlKN",
        "colab": {
          "base_uri": "https://localhost:8080/"
        },
        "outputId": "58c15127-13de-4cc5-cc78-8d7f2a16f41d"
      },
      "source": [
        "stringx = 'dujijofplpnbuwduuwjfl[p[p[nidvxaklpl'\n",
        "\n",
        "if len(stringx) > 30 :\n",
        "      print(f'{stringx} is longer than 30 characters')"
      ],
      "execution_count": 71,
      "outputs": [
        {
          "output_type": "stream",
          "text": [
            "dujijofplpnbuwduuwjfl[p[p[nidvxaklpl is longer than 30 characters\n"
          ],
          "name": "stdout"
        }
      ]
    },
    {
      "cell_type": "code",
      "metadata": {
        "id": "go0_X0OAG6mb"
      },
      "source": [
        "stringx = 'dujijofplpnbuwduuwjfl[p[p[nidvxaklpl'  \n",
        "\n",
        "if len(stringx) > 100 :     # ถ้ามันไม่เป็นไปตามเงื่อนไขจะไม่แสดงผลลัพธ์ที่ได้ออกมา\n",
        "      print(f'{stringx} is longer than 100 characters')"
      ],
      "execution_count": 72,
      "outputs": []
    },
    {
      "cell_type": "markdown",
      "metadata": {
        "id": "urD54GivHiUJ"
      },
      "source": [
        "if  เงื่อนไขที่จะตรวจสอบ (==,!=,<,>,<=,>=):\n",
        "\n",
        "      ถ้าเงื่อนไขเป็นจริง  ทำงาน 1\n",
        "      ถ้าเงื่อนไขเป็นจริง  ทำงาน 2\n",
        "\n",
        " else :  # ตรวจสอบเงื่อนไขข้างบนแล้วไม่เป็นจริง\n",
        " \n",
        "      ทำงานที่ x"
      ]
    },
    {
      "cell_type": "code",
      "metadata": {
        "colab": {
          "base_uri": "https://localhost:8080/"
        },
        "id": "0zwGBGvaHeek",
        "outputId": "4815fbe9-1d44-4429-941c-c3bdd7290762"
      },
      "source": [
        "stringx = 'dujijofplpnbuwduuwjfl[p[p[nidvxaklpl'  \n",
        "\n",
        "if len(stringx) > 100 :     \n",
        "      print(f'{stringx} is longer than 100 characters')  # ถ้าเงื่อนไขนี้ไม่เป็นจริง จะทำตามเงื่อนไขข้างล่างต่อ\n",
        "else :\n",
        "      print(f'{stringx} in {len(stringx)} characters long ')"
      ],
      "execution_count": 73,
      "outputs": [
        {
          "output_type": "stream",
          "text": [
            "dujijofplpnbuwduuwjfl[p[p[nidvxaklpl in 36 characters long \n"
          ],
          "name": "stdout"
        }
      ]
    },
    {
      "cell_type": "markdown",
      "metadata": {
        "id": "REKq0FzBJMel"
      },
      "source": [
        "if  เงื่อนไขที่จะตรวจสอบ (==,!=,<,>,<=,>=):\n",
        "\n",
        "      ถ้าเงื่อนไขเป็นจริง  ทำงาน 1    # ตรวจสอบว่าเป็นไปตามเงื่อนไขนี้หรือป่าว ถ้าไม่เป็นจริงจะไปเงื่อนไขต่อไป\n",
        "      ถ้าเงื่อนไขเป็นจริง  ทำงาน 2\n",
        "\n",
        "elif เงื่อนไขที่จะตรวจสอบต่อไปถ้าเงื่อนไขข้างบนไม่เป็นจริง :\n",
        "\n",
        "      ถ้าเงื่อนไขเป็นจริง ทำงานที่ a1    # ข้างบนไม่เป็นจริง จะตรวจสอบเงื่อนไขอันนี้ ถ้าเงื่อนไขไม่เป็นจริงจะตรวจสอบเงื่อนไขต่อไปข้างล่าง\n",
        "      ถ้าเงื่อนไขเป็นจริง ทำงานที่ a2\n",
        "\n",
        "elif เงื่อนไขที่จะตรวจสอบต่อไปถ้าเงื่อนไขข้างบนไม่เป็นจริง :\n",
        "\n",
        "      ถ้าเงื่อนไขเป็นจริง ทำงานที่ b1    # ข้างบนไม่เป็นจริง จะตรวจสอบเงื่อนไขอันนี้ ถ้าเงื่อนไขไม่เป็นจริงจะตรวจสอบเงื่อนไขต่อไปข้างล่าง\n",
        "      ถ้าเงื่อนไขเป็นจริง ทำงานที่ b2\n",
        "\n",
        "else :  # ตรวจสอบเงื่อนไขข้างบนแล้วไม่เป็นจริง ถึงจะมาทำอันนี้\n",
        " \n",
        "      ทำงานที่ x"
      ]
    },
    {
      "cell_type": "code",
      "metadata": {
        "colab": {
          "base_uri": "https://localhost:8080/"
        },
        "id": "5D7fpO73Kxzt",
        "outputId": "8f25b2db-f25e-4921-fecd-d7e0ad016c2a"
      },
      "source": [
        "password = '12345'\n",
        "\n",
        "input_pass = '123'\n",
        "if input_pass == password :   # ถ้าตรงกับ password ที่ตั้งไว้ให้ print คำว่า Welcome! ถ้าไม่ตรงจะต้องตรวจสอบเงื่อนไขต่อไป\n",
        "      print('Welcome!')\n",
        "elif  len(input_pass) > len(password) :  # ตรวจสอบว่าความยาวของ input_pass ยาวกว่า password มั้ย ถ้าไม่จะต้องตรวจสอบเงื่อนไขต่อไป\n",
        "      print('Too long , try again!')\n",
        "elif  len(input_pass) < len(password) :  # ตรวจสอบว่าความยาวของ input_pass สั้นกว่า password มั้ย ถ้าไม่จะต้องตรวจสอบเงื่อนไขต่อไป\n",
        "      print('Too short , try again!')\n",
        "else :\n",
        "      print('Wrong password , try again')  # เนื่องจากตรวจสอบเงื่อนไขข้างบนทั้งหมดมาแล้วไม่เป็นจริง "
      ],
      "execution_count": 74,
      "outputs": [
        {
          "output_type": "stream",
          "text": [
            "Too short , try again!\n"
          ],
          "name": "stdout"
        }
      ]
    },
    {
      "cell_type": "code",
      "metadata": {
        "colab": {
          "base_uri": "https://localhost:8080/"
        },
        "id": "KY44oWwJNYsq",
        "outputId": "b91bffdf-437a-425e-b3e0-c98e8dd2358e"
      },
      "source": [
        "password = '12345'\n",
        "\n",
        "input_pass = '123ef'\n",
        "if input_pass == password :   # ถ้าตรงกับ password ที่ตั้งไว้ให้ print คำว่า Welcome! ถ้าไม่ตรงจะต้องตรวจสอบเงื่อนไขต่อไป\n",
        "      print('Welcome!')\n",
        "elif  len(input_pass) > len(password) :  # ตรวจสอบว่าความยาวของ input_pass ยาวกว่า password มั้ย ถ้าไม่จะต้องตรวจสอบเงื่อนไขต่อไป\n",
        "      print('Too long , try again!')\n",
        "elif  len(input_pass) < len(password) :  # ตรวจสอบว่าความยาวของ input_pass สั้นกว่า password มั้ย ถ้าไม่จะต้องตรวจสอบเงื่อนไขต่อไป\n",
        "      print('Too short , try again!')\n",
        "else :\n",
        "      print('Wrong password , try again')  # เนื่องจากตรวจสอบเงื่อนไขข้างบนทั้งหมดมาแล้วไม่เป็นจริง "
      ],
      "execution_count": 75,
      "outputs": [
        {
          "output_type": "stream",
          "text": [
            "Wrong password , try again\n"
          ],
          "name": "stdout"
        }
      ]
    },
    {
      "cell_type": "markdown",
      "metadata": {
        "id": "0eZpwyL9HZYS"
      },
      "source": [
        "### Quiz 1 หา min\n"
      ]
    },
    {
      "cell_type": "code",
      "metadata": {
        "id": "lkIC8DAjKQ6U"
      },
      "source": [
        "list_ex2 = [1,5,9,-19,-2,0] # หาค่าที่น้อยที่สุดใน list_ex โดยไม่ใช้ function min"
      ],
      "execution_count": 76,
      "outputs": []
    },
    {
      "cell_type": "code",
      "metadata": {
        "colab": {
          "base_uri": "https://localhost:8080/"
        },
        "id": "o29lBtqaN6dX",
        "outputId": "48628459-2bd3-4435-e250-122ea69b1c94"
      },
      "source": [
        "min = 0\n",
        "for x in list_ex2: # ทำการวนซ้ำตามจำนวนในลิสต์\n",
        "    if x < min : # ถ้าน้อยกว่าค่าต่ำสุดค่าเดิม\n",
        "        min = x # ให้เปลี่ยนเป็นค่านั้น\n",
        "print (f'ค่าที่น้อยที่สุด คือ {min}')"
      ],
      "execution_count": 77,
      "outputs": [
        {
          "output_type": "stream",
          "text": [
            "ค่าที่น้อยที่สุด คือ -19\n"
          ],
          "name": "stdout"
        }
      ]
    },
    {
      "cell_type": "code",
      "metadata": {
        "colab": {
          "base_uri": "https://localhost:8080/"
        },
        "id": "EtaWQdCWUNN_",
        "outputId": "32e50141-645e-4d96-a404-2725f8120f89"
      },
      "source": [
        "min = 0\n",
        "print(list_ex2)\n",
        "for x in list_ex2: # ทำการวนซ้ำตามจำนวนในลิสต์\n",
        "    print(f'now x = {x} , min = {min}')\n",
        "    print('start condition')\n",
        "    if x < min : # ถ้าน้อยกว่าค่าต่ำสุดค่าเดิม\n",
        "        print(f'x < min, update min -> {x}')\n",
        "        min = x # ให้เปลี่ยนเป็นค่านั้น\n",
        "    else:\n",
        "        print('x >= min , not update')\n",
        "    print('end condition, go to next x')\n",
        "print (f'ดังนั้น ค่าที่น้อยที่สุด คือ {min}')"
      ],
      "execution_count": 78,
      "outputs": [
        {
          "output_type": "stream",
          "text": [
            "[1, 5, 9, -19, -2, 0]\n",
            "now x = 1 , min = 0\n",
            "start condition\n",
            "x >= min , not update\n",
            "end condition, go to next x\n",
            "now x = 5 , min = 0\n",
            "start condition\n",
            "x >= min , not update\n",
            "end condition, go to next x\n",
            "now x = 9 , min = 0\n",
            "start condition\n",
            "x >= min , not update\n",
            "end condition, go to next x\n",
            "now x = -19 , min = 0\n",
            "start condition\n",
            "x < min, update min -> -19\n",
            "end condition, go to next x\n",
            "now x = -2 , min = -19\n",
            "start condition\n",
            "x >= min , not update\n",
            "end condition, go to next x\n",
            "now x = 0 , min = -19\n",
            "start condition\n",
            "x >= min , not update\n",
            "end condition, go to next x\n",
            "ดังนั้น ค่าที่น้อยที่สุด คือ -19\n"
          ],
          "name": "stdout"
        }
      ]
    },
    {
      "cell_type": "markdown",
      "metadata": {
        "id": "mBHVGrPzLBtT"
      },
      "source": [
        "### Homework 3 ตัดเกรด"
      ]
    },
    {
      "cell_type": "code",
      "metadata": {
        "id": "kPRBNchvV5BL"
      },
      "source": [
        "score = [49,65,70,95,82,55,89,20,77,77,81,59,10]  # ตัดเกรด คะแนนใน list score (ใช้ if กับ for)"
      ],
      "execution_count": 79,
      "outputs": []
    },
    {
      "cell_type": "code",
      "metadata": {
        "id": "yjdyTjmLrNsp",
        "outputId": "c2ccfcdf-d99f-415a-88a2-7180eff8528d",
        "colab": {
          "base_uri": "https://localhost:8080/"
        }
      },
      "source": [
        "for z in score : # ตัดเกรด คะแนนใน list score\n",
        "    if z >= 80 :\n",
        "        print(f'score = {z}  grade = A')\n",
        "    elif z >= 75 and z < 80 :\n",
        "        print(f'score = {z}  grade = B+')\n",
        "    elif z >= 70 and z < 75:\n",
        "        print(f'score = {z}  grade = B')\n",
        "    elif z >= 65 and z < 70:\n",
        "        print(f'score = {z}  grade = C+')\n",
        "    elif z >= 60 and z < 65:\n",
        "        print(f'score = {z}  grade = C')\n",
        "    elif z >= 55 and z < 60:\n",
        "        print(f'score = {z}  grade = D+')\n",
        "    elif z >= 50 and z < 55:\n",
        "        print(f'score = {z}  grade = D')\n",
        "    else:\n",
        "        print(f'score = {z}  grade = F')"
      ],
      "execution_count": 88,
      "outputs": [
        {
          "output_type": "stream",
          "text": [
            "score = 49  grade = F\n",
            "score = 65  grade = C+\n",
            "score = 70  grade = B\n",
            "score = 95  grade = A\n",
            "score = 82  grade = A\n",
            "score = 55  grade = D+\n",
            "score = 89  grade = A\n",
            "score = 20  grade = F\n",
            "score = 77  grade = B+\n",
            "score = 77  grade = B+\n",
            "score = 81  grade = A\n",
            "score = 59  grade = D+\n",
            "score = 10  grade = F\n"
          ],
          "name": "stdout"
        }
      ]
    },
    {
      "cell_type": "markdown",
      "metadata": {
        "id": "Ll30Ir0xFmN_"
      },
      "source": [
        "### Function"
      ]
    },
    {
      "cell_type": "code",
      "metadata": {
        "id": "TKufSvjmForv"
      },
      "source": [
        ""
      ],
      "execution_count": null,
      "outputs": []
    }
  ]
}