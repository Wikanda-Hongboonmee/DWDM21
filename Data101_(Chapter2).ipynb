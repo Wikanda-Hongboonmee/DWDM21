{
  "nbformat": 4,
  "nbformat_minor": 0,
  "metadata": {
    "colab": {
      "name": "Data101 (Chapter2).ipynb",
      "provenance": [],
      "authorship_tag": "ABX9TyOsnXc1jTGa7MueM14tCYFV",
      "include_colab_link": true
    },
    "kernelspec": {
      "name": "python3",
      "display_name": "Python 3"
    },
    "language_info": {
      "name": "python"
    }
  },
  "cells": [
    {
      "cell_type": "markdown",
      "metadata": {
        "id": "view-in-github",
        "colab_type": "text"
      },
      "source": [
        "<a href=\"https://colab.research.google.com/github/Wikanda-Hongboonmee/DWDM21/blob/main/Data101_(Chapter2).ipynb\" target=\"_parent\"><img src=\"https://colab.research.google.com/assets/colab-badge.svg\" alt=\"Open In Colab\"/></a>"
      ]
    },
    {
      "cell_type": "markdown",
      "metadata": {
        "id": "MYUs9470z3f4"
      },
      "source": [
        "ข้อความที่อยู่ใน **Textbox** จะเป็นภาษา **Markdown** คือ ใช้เครื่องหมายในการแสดงผล เช่น **#** ตัวใหญ่ * ตัวหนา"
      ]
    },
    {
      "cell_type": "markdown",
      "metadata": {
        "id": "utGNvn0ktm64"
      },
      "source": [
        "**ข้อดีหนึ่งของ Python** คือมี Package สำหรับการทำงานต่างๆมากมายให้เราเลือกใช้ \n",
        "\n",
        "ซึ่ง Pandas เป็น Package สำหรับการทำงานกับข้อมูลที่อยู่ในรูปแบบของตาราง \n",
        "\n",
        "โดย Pandas จะเรียกตารางนั้นว่า **Data Frame**"
      ]
    },
    {
      "cell_type": "code",
      "metadata": {
        "id": "_u4cT_OZrzss"
      },
      "source": [
        "import pandas  # เป็น Package ที่ใช้เกี่ยวกับการจัดการข้อมูล , เรียกใช้โดยการ import แล้วตามด้วยชื่อ Package"
      ],
      "execution_count": 5,
      "outputs": []
    },
    {
      "cell_type": "code",
      "metadata": {
        "id": "CUE6wuVTs7w4"
      },
      "source": [
        "import pandas as pd  # การ import package อีกแบบหนึ่ง เหมือนกับด้านบน แต่ว่ามีการตั้งชื่อให้กับ Package ที่โหลดมาใหม่ว่า pd"
      ],
      "execution_count": 7,
      "outputs": []
    },
    {
      "cell_type": "markdown",
      "metadata": {
        "id": "GeXQ5SXXus6h"
      },
      "source": [
        "ไฟล์ที่จะได้เจอส่วนใหญ่ในวิชานี้เป็นไฟล์ .csv ( **CSV = comma seperated values** )  เป็นไฟล์หลักที่เราจะได้ใช้ในวิชานี้ \n",
        "\n",
        "เป็นไฟล์ที่ใช้เก็บข้อมูลตาราง ที่เข้าใจได้ง่าย ใช้ comma ในการแบ่งข้อมูลแต่ละตัว ใช้ enter ในการแบ่ง record "
      ]
    },
    {
      "cell_type": "code",
      "metadata": {
        "id": "Jgu8ry8hup5Q"
      },
      "source": [
        "data_df = pd.read_csv( 'data.csv' )  # เรียกใช้ไฟล์ csv ที่เราต้องการ โดย pd.read_csv ( 'ชื่อไฟล์' )"
      ],
      "execution_count": 10,
      "outputs": []
    },
    {
      "cell_type": "code",
      "metadata": {
        "colab": {
          "base_uri": "https://localhost:8080/",
          "height": 140
        },
        "id": "NLheDzj0xPWQ",
        "outputId": "98f51a6e-482f-4cc6-b171-aa8bd335fd35"
      },
      "source": [
        "data_df   # แสดงผลไฟล์ data_df"
      ],
      "execution_count": 11,
      "outputs": [
        {
          "output_type": "execute_result",
          "data": {
            "text/html": [
              "<div>\n",
              "<style scoped>\n",
              "    .dataframe tbody tr th:only-of-type {\n",
              "        vertical-align: middle;\n",
              "    }\n",
              "\n",
              "    .dataframe tbody tr th {\n",
              "        vertical-align: top;\n",
              "    }\n",
              "\n",
              "    .dataframe thead th {\n",
              "        text-align: right;\n",
              "    }\n",
              "</style>\n",
              "<table border=\"1\" class=\"dataframe\">\n",
              "  <thead>\n",
              "    <tr style=\"text-align: right;\">\n",
              "      <th></th>\n",
              "      <th>name</th>\n",
              "      <th>age</th>\n",
              "      <th>city</th>\n",
              "    </tr>\n",
              "  </thead>\n",
              "  <tbody>\n",
              "    <tr>\n",
              "      <th>0</th>\n",
              "      <td>Tom</td>\n",
              "      <td>27</td>\n",
              "      <td>Khon Kaen</td>\n",
              "    </tr>\n",
              "    <tr>\n",
              "      <th>1</th>\n",
              "      <td>Paul</td>\n",
              "      <td>15</td>\n",
              "      <td>Bangkok</td>\n",
              "    </tr>\n",
              "    <tr>\n",
              "      <th>2</th>\n",
              "      <td>Sarah</td>\n",
              "      <td>49</td>\n",
              "      <td>London</td>\n",
              "    </tr>\n",
              "  </tbody>\n",
              "</table>\n",
              "</div>"
            ],
            "text/plain": [
              "    name  age       city\n",
              "0    Tom   27  Khon Kaen\n",
              "1   Paul   15    Bangkok\n",
              "2  Sarah   49     London"
            ]
          },
          "metadata": {
            "tags": []
          },
          "execution_count": 11
        }
      ]
    },
    {
      "cell_type": "code",
      "metadata": {
        "colab": {
          "base_uri": "https://localhost:8080/",
          "height": 140
        },
        "id": "LYzBtFcGxRWh",
        "outputId": "0905b6b7-0cf5-418f-bbe2-14e8efc65332"
      },
      "source": [
        "data_df2 = pandas.read_csv( 'data.csv' ) \n",
        "data_df2  # แสดงผลไฟล์ data_df2"
      ],
      "execution_count": 12,
      "outputs": [
        {
          "output_type": "execute_result",
          "data": {
            "text/html": [
              "<div>\n",
              "<style scoped>\n",
              "    .dataframe tbody tr th:only-of-type {\n",
              "        vertical-align: middle;\n",
              "    }\n",
              "\n",
              "    .dataframe tbody tr th {\n",
              "        vertical-align: top;\n",
              "    }\n",
              "\n",
              "    .dataframe thead th {\n",
              "        text-align: right;\n",
              "    }\n",
              "</style>\n",
              "<table border=\"1\" class=\"dataframe\">\n",
              "  <thead>\n",
              "    <tr style=\"text-align: right;\">\n",
              "      <th></th>\n",
              "      <th>name</th>\n",
              "      <th>age</th>\n",
              "      <th>city</th>\n",
              "    </tr>\n",
              "  </thead>\n",
              "  <tbody>\n",
              "    <tr>\n",
              "      <th>0</th>\n",
              "      <td>Tom</td>\n",
              "      <td>27</td>\n",
              "      <td>Khon Kaen</td>\n",
              "    </tr>\n",
              "    <tr>\n",
              "      <th>1</th>\n",
              "      <td>Paul</td>\n",
              "      <td>15</td>\n",
              "      <td>Bangkok</td>\n",
              "    </tr>\n",
              "    <tr>\n",
              "      <th>2</th>\n",
              "      <td>Sarah</td>\n",
              "      <td>49</td>\n",
              "      <td>London</td>\n",
              "    </tr>\n",
              "  </tbody>\n",
              "</table>\n",
              "</div>"
            ],
            "text/plain": [
              "    name  age       city\n",
              "0    Tom   27  Khon Kaen\n",
              "1   Paul   15    Bangkok\n",
              "2  Sarah   49     London"
            ]
          },
          "metadata": {
            "tags": []
          },
          "execution_count": 12
        }
      ]
    },
    {
      "cell_type": "markdown",
      "metadata": {
        "id": "M8eapTsRyh6I"
      },
      "source": [
        "#  Basic Python \n",
        "## Variables"
      ]
    },
    {
      "cell_type": "markdown",
      "metadata": {
        "id": "UOx_S5Ad1rls"
      },
      "source": [
        "**ข้อกำหนดในการตั้งตัวแปร**\n",
        "\n",
        "1.   ชื่อห้ามมีเว้นวรรค\n",
        "2.   ใช้ภาษาอังกฤษ ( เป็นไปได้ควรใช้ภาษาอังกฤษเสมอ )\n",
        "3.   ตัวเล็กกับตัวใหญ่แตกต่างกัน ( case sensitive )\n",
        "4.    ห้ามใช้ตัวเลขเป็นตัวหน้า\n",
        "\n",
        "\n"
      ]
    },
    {
      "cell_type": "code",
      "metadata": {
        "id": "GAg7LntGyK2W"
      },
      "source": [
        "variable_a = 12  # สร้างตัวแปรขึ้นมาใหม่โดยกำหนดให้ตัวแปร variable_a มีค่าเท่ากับ 12 (เป็นตัวเลข)\n",
        "variable_b = ' abcde '   # ' ' เรียกว่า quote เอาไว้ตอนจะพิมพ์ข้อความ (string)\n",
        "variable_c = variable_a  # ค่าของ variable_c เท่ากับ variable_a เรากำหนดค่าอะไรให้มัน มันจะเปลี่ยนตามตัวแปรนั้นๆ"
      ],
      "execution_count": 17,
      "outputs": []
    },
    {
      "cell_type": "code",
      "metadata": {
        "colab": {
          "base_uri": "https://localhost:8080/"
        },
        "id": "N0daN15i1JHu",
        "outputId": "039c1cc1-0843-4618-be99-ad8c6c0f7edf"
      },
      "source": [
        "variable_a"
      ],
      "execution_count": 14,
      "outputs": [
        {
          "output_type": "execute_result",
          "data": {
            "text/plain": [
              "12"
            ]
          },
          "metadata": {
            "tags": []
          },
          "execution_count": 14
        }
      ]
    },
    {
      "cell_type": "code",
      "metadata": {
        "colab": {
          "base_uri": "https://localhost:8080/",
          "height": 35
        },
        "id": "e6lMkuYg1NIC",
        "outputId": "fd99db94-1cc8-4c82-8403-08b12dfb8d87"
      },
      "source": [
        "variable_b"
      ],
      "execution_count": 15,
      "outputs": [
        {
          "output_type": "execute_result",
          "data": {
            "application/vnd.google.colaboratory.intrinsic+json": {
              "type": "string"
            },
            "text/plain": [
              "' abcde '"
            ]
          },
          "metadata": {
            "tags": []
          },
          "execution_count": 15
        }
      ]
    },
    {
      "cell_type": "code",
      "metadata": {
        "colab": {
          "base_uri": "https://localhost:8080/"
        },
        "id": "dRQdSNlU1OP4",
        "outputId": "d4ed9a0c-abfd-40ad-da39-7d41721e28f0"
      },
      "source": [
        "variable_c"
      ],
      "execution_count": 16,
      "outputs": [
        {
          "output_type": "execute_result",
          "data": {
            "text/plain": [
              "12"
            ]
          },
          "metadata": {
            "tags": []
          },
          "execution_count": 16
        }
      ]
    },
    {
      "cell_type": "code",
      "metadata": {
        "colab": {
          "base_uri": "https://localhost:8080/",
          "height": 124
        },
        "id": "ry_rQuaJ2tq-",
        "outputId": "04f5901d-0bad-45b1-96ae-da89d2fdc2ea"
      },
      "source": [
        "variable a = 6  # ชื่อตัวแปรห้ามมีเว้นวรรค"
      ],
      "execution_count": 19,
      "outputs": [
        {
          "output_type": "error",
          "ename": "SyntaxError",
          "evalue": "ignored",
          "traceback": [
            "\u001b[0;36m  File \u001b[0;32m\"<ipython-input-19-5dd2524253ac>\"\u001b[0;36m, line \u001b[0;32m1\u001b[0m\n\u001b[0;31m    variable a = 6  # ชื่อตัวแปรห้ามมีเว้นวรรค\u001b[0m\n\u001b[0m             ^\u001b[0m\n\u001b[0;31mSyntaxError\u001b[0m\u001b[0;31m:\u001b[0m invalid syntax\n"
          ]
        }
      ]
    },
    {
      "cell_type": "code",
      "metadata": {
        "colab": {
          "base_uri": "https://localhost:8080/"
        },
        "id": "f5rHnQDk1QLD",
        "outputId": "cd54e5e3-2194-4354-d92e-50abce4bce0f"
      },
      "source": [
        "ตัวแปร = 3     #  colab ใช้ภาษาไทยในการตั้งชื่อตัวแปรได้แต่ว่าเป็นไปได้ไม่ควรใช้ภาษาไทย\n",
        "ตัวแปร"
      ],
      "execution_count": 18,
      "outputs": [
        {
          "output_type": "execute_result",
          "data": {
            "text/plain": [
              "3"
            ]
          },
          "metadata": {
            "tags": []
          },
          "execution_count": 18
        }
      ]
    },
    {
      "cell_type": "code",
      "metadata": {
        "colab": {
          "base_uri": "https://localhost:8080/"
        },
        "id": "Aj5VyzSZ2r26",
        "outputId": "c9557384-40e7-4044-86a2-01bb8b725443"
      },
      "source": [
        "v_a = 1    # ตัวเล็กกับตัวใหญ่แตกต่างกัน ( case sensitive )\n",
        "v_A = 2\n",
        "print(v_a) # เนื่องจากมีตัวแปร 2 ตัว จึงใช้คำสั่ง print เป็นคำสั่งที่ใช้แสดงผลตัวแปร\n",
        "print(v_A)"
      ],
      "execution_count": 20,
      "outputs": [
        {
          "output_type": "stream",
          "text": [
            "1\n",
            "2\n"
          ],
          "name": "stdout"
        }
      ]
    },
    {
      "cell_type": "code",
      "metadata": {
        "colab": {
          "base_uri": "https://localhost:8080/"
        },
        "id": "MCNKGnYO3b7u",
        "outputId": "346531fb-be6f-45a7-c1b6-de506f030df4"
      },
      "source": [
        "v_a = 1    # ตัวเล็กกับตัวใหญ่แตกต่างกัน ( case sensitive )\n",
        "v_a = 2    # ค่ามันทับกัน จะแสดงผลค่าล่าสุดที่กำหนดให้แก่ตัวแปรนั้น ๆ \n",
        "print(v_a) # เนื่องจากมีตัวแปร 2 ตัว จึงใช้คำสั่ง print เป็นคำสั่งที่ใช้แสดงผลตัวแปร\n",
        "print(v_a)"
      ],
      "execution_count": 22,
      "outputs": [
        {
          "output_type": "stream",
          "text": [
            "2\n",
            "2\n"
          ],
          "name": "stdout"
        }
      ]
    },
    {
      "cell_type": "code",
      "metadata": {
        "colab": {
          "base_uri": "https://localhost:8080/",
          "height": 124
        },
        "id": "9ymHFnRc3hDL",
        "outputId": "61f3249f-9423-4eaf-c810-68f045014f74"
      },
      "source": [
        "2_a = 1   #  ห้ามใช้ตัวเลขเป็นตัวหน้า"
      ],
      "execution_count": 23,
      "outputs": [
        {
          "output_type": "error",
          "ename": "SyntaxError",
          "evalue": "ignored",
          "traceback": [
            "\u001b[0;36m  File \u001b[0;32m\"<ipython-input-23-299149bc55df>\"\u001b[0;36m, line \u001b[0;32m1\u001b[0m\n\u001b[0;31m    2_a = 1   #  ห้ามใช้ตัวเลขเป็นตัวหน้า\u001b[0m\n\u001b[0m     ^\u001b[0m\n\u001b[0;31mSyntaxError\u001b[0m\u001b[0;31m:\u001b[0m invalid token\n"
          ]
        }
      ]
    },
    {
      "cell_type": "code",
      "metadata": {
        "id": "Vu3CjQ6131oT"
      },
      "source": [
        "variable_a = 12  # สร้างตัวแปรขึ้นมาใหม่โดยกำหนดให้ตัวแปร variable_a มีค่าเท่ากับ 12 (เป็นตัวเลข)\n",
        "variable_b = ' abcde '   # ' ' เรียกว่า quote เอาไว้ตอนจะพิมพ์ข้อความ (string)\n",
        "variable_c = variable_a  # ค่าของ variable_c เท่ากับ variable_a เรากำหนดค่าอะไรให้มัน มันจะเปลี่ยนตามตัวแปรนั้นๆ\n",
        "variable_d = -41.2  # ตัวเลขสามารถอยู่ด้านหลังตัวแปรได้ แต่นำหน้าตัวแปรไม่ได้\n",
        "variable_4 = \"KKU\"   # เราสามารถใช้ double quote แทน quote ได้ "
      ],
      "execution_count": 24,
      "outputs": []
    },
    {
      "cell_type": "code",
      "metadata": {
        "colab": {
          "base_uri": "https://localhost:8080/"
        },
        "id": "51IWu5oA4jW8",
        "outputId": "94aa484d-95d2-496d-9b8e-3043c089f56a"
      },
      "source": [
        "variable_x = variable_c + variable_d # นำตัวเลขมาบวกกันได้ \n",
        "print(variable_x) "
      ],
      "execution_count": 28,
      "outputs": [
        {
          "output_type": "stream",
          "text": [
            "-29.200000000000003\n"
          ],
          "name": "stdout"
        }
      ]
    },
    {
      "cell_type": "code",
      "metadata": {
        "colab": {
          "base_uri": "https://localhost:8080/"
        },
        "id": "-lbYJ7DD4wNH",
        "outputId": "39c0aece-9e4e-4adc-ddcf-0e509290fd47"
      },
      "source": [
        "print(variable_b + variable_4) # นำข้อความมาบวกกันได้ "
      ],
      "execution_count": 27,
      "outputs": [
        {
          "output_type": "stream",
          "text": [
            " abcde KKU\n"
          ],
          "name": "stdout"
        }
      ]
    },
    {
      "cell_type": "code",
      "metadata": {
        "colab": {
          "base_uri": "https://localhost:8080/",
          "height": 156
        },
        "id": "ZRkYTfQM6iLZ",
        "outputId": "48b62cbb-e483-4959-c75c-78547e7c777d"
      },
      "source": [
        "print(variable_a + variable_b) # นำตัวเลขมาบวกกับข้อความไม่ได้"
      ],
      "execution_count": 29,
      "outputs": [
        {
          "output_type": "error",
          "ename": "TypeError",
          "evalue": "ignored",
          "traceback": [
            "\u001b[0;31m---------------------------------------------------------------------------\u001b[0m",
            "\u001b[0;31mTypeError\u001b[0m                                 Traceback (most recent call last)",
            "\u001b[0;32m<ipython-input-29-c9773be329d2>\u001b[0m in \u001b[0;36m<module>\u001b[0;34m()\u001b[0m\n\u001b[0;32m----> 1\u001b[0;31m \u001b[0mprint\u001b[0m\u001b[0;34m(\u001b[0m\u001b[0mvariable_a\u001b[0m \u001b[0;34m+\u001b[0m \u001b[0mvariable_b\u001b[0m\u001b[0;34m)\u001b[0m \u001b[0;31m# นำตัวเลขมาบวกกับข้อความไม่ได้\u001b[0m\u001b[0;34m\u001b[0m\u001b[0;34m\u001b[0m\u001b[0m\n\u001b[0m",
            "\u001b[0;31mTypeError\u001b[0m: unsupported operand type(s) for +: 'int' and 'str'"
          ]
        }
      ]
    },
    {
      "cell_type": "markdown",
      "metadata": {
        "id": "m3SxsrO67CQj"
      },
      "source": [
        "## Casting int()  float() stri()\n",
        "\n",
        "เราสามารถเปลี่ยนชนิดของตัวแปรได้ "
      ]
    },
    {
      "cell_type": "code",
      "metadata": {
        "colab": {
          "base_uri": "https://localhost:8080/"
        },
        "id": "SB0aX3N-67JG",
        "outputId": "aa30db1a-62f4-4afe-fc01-c6335be6c48c"
      },
      "source": [
        "print(variable_x) # ผลบวกเป็น float\n",
        "print(int(variable_x)) # เปลี่ยนผลบวกเป็นจำนวนเต็มหรือ int"
      ],
      "execution_count": 31,
      "outputs": [
        {
          "output_type": "stream",
          "text": [
            "-29.200000000000003\n",
            "-29\n"
          ],
          "name": "stdout"
        }
      ]
    },
    {
      "cell_type": "code",
      "metadata": {
        "colab": {
          "base_uri": "https://localhost:8080/"
        },
        "id": "3QkSbbnX7Z6X",
        "outputId": "9098ce78-13b1-4b07-ef02-22db88b7cb79"
      },
      "source": [
        "v_x = str(variable_x) # เปลี่ยนให้เป็น string\n",
        "print(str(variable_x)) "
      ],
      "execution_count": 33,
      "outputs": [
        {
          "output_type": "stream",
          "text": [
            "-29.200000000000003\n"
          ],
          "name": "stdout"
        }
      ]
    },
    {
      "cell_type": "code",
      "metadata": {
        "colab": {
          "base_uri": "https://localhost:8080/",
          "height": 156
        },
        "id": "l1I5SMCG7zTM",
        "outputId": "066ad8f5-7106-4d82-a7f0-2674c870699b"
      },
      "source": [
        "v_x + variable_a  # เอามาบวกกันไม่ได้ เนื่องจากเปลี่ยน v_x เป็น string ไปแล้ว"
      ],
      "execution_count": 35,
      "outputs": [
        {
          "output_type": "error",
          "ename": "TypeError",
          "evalue": "ignored",
          "traceback": [
            "\u001b[0;31m---------------------------------------------------------------------------\u001b[0m",
            "\u001b[0;31mTypeError\u001b[0m                                 Traceback (most recent call last)",
            "\u001b[0;32m<ipython-input-35-0987a2f09f0c>\u001b[0m in \u001b[0;36m<module>\u001b[0;34m()\u001b[0m\n\u001b[0;32m----> 1\u001b[0;31m \u001b[0mv_x\u001b[0m \u001b[0;34m+\u001b[0m \u001b[0mvariable_a\u001b[0m  \u001b[0;31m# เอามาบวกกันไม่ได้ เนื่องจากเปลี่ยน v_x เป็น string ไปแล้ว\u001b[0m\u001b[0;34m\u001b[0m\u001b[0;34m\u001b[0m\u001b[0m\n\u001b[0m",
            "\u001b[0;31mTypeError\u001b[0m: can only concatenate str (not \"int\") to str"
          ]
        }
      ]
    },
    {
      "cell_type": "code",
      "metadata": {
        "colab": {
          "base_uri": "https://localhost:8080/",
          "height": 35
        },
        "id": "m4IoQB1a8AWv",
        "outputId": "693fe120-ba0b-4383-f9d2-745a3c3b22c9"
      },
      "source": [
        "v_x  # แสดงผลออกมามันมี quote แสดงว่าเป็นข้อความหรือ string"
      ],
      "execution_count": 36,
      "outputs": [
        {
          "output_type": "execute_result",
          "data": {
            "application/vnd.google.colaboratory.intrinsic+json": {
              "type": "string"
            },
            "text/plain": [
              "'-29.200000000000003'"
            ]
          },
          "metadata": {
            "tags": []
          },
          "execution_count": 36
        }
      ]
    },
    {
      "cell_type": "code",
      "metadata": {
        "colab": {
          "base_uri": "https://localhost:8080/"
        },
        "id": "5fyrrWvM8dd2",
        "outputId": "a6d961e4-8a3e-467e-f000-c3c8491ed491"
      },
      "source": [
        "float(v_x)  # เปลี่ยนเป็น float แสดงผลออกมาจะเป็นตัวเลข"
      ],
      "execution_count": 37,
      "outputs": [
        {
          "output_type": "execute_result",
          "data": {
            "text/plain": [
              "-29.200000000000003"
            ]
          },
          "metadata": {
            "tags": []
          },
          "execution_count": 37
        }
      ]
    },
    {
      "cell_type": "markdown",
      "metadata": {
        "id": "O15LlAE_835u"
      },
      "source": [
        "# Data Structure \n",
        "## list ()\n",
        "list เป็นตัวแปรหรือตัวเลขหลายๆตัวมาเรียงต่อๆกัน"
      ]
    },
    {
      "cell_type": "code",
      "metadata": {
        "id": "HdGQhkgT8u0B"
      },
      "source": [
        "list_a = [1,2,0.2,'abs']  # [ ] คือ square brackets , ลำดับใน list มีความสำคัญ\n",
        "list_b = [2,'xyz',list_a,[1,2,0.0]] "
      ],
      "execution_count": 41,
      "outputs": []
    },
    {
      "cell_type": "code",
      "metadata": {
        "colab": {
          "base_uri": "https://localhost:8080/"
        },
        "id": "1uhdQLdv940J",
        "outputId": "e5d3019c-3914-412c-d001-5241751d503f"
      },
      "source": [
        "list_a"
      ],
      "execution_count": 42,
      "outputs": [
        {
          "output_type": "execute_result",
          "data": {
            "text/plain": [
              "[1, 2, 0.2, 'abs']"
            ]
          },
          "metadata": {
            "tags": []
          },
          "execution_count": 42
        }
      ]
    },
    {
      "cell_type": "code",
      "metadata": {
        "colab": {
          "base_uri": "https://localhost:8080/"
        },
        "id": "2wKa64ia96Y_",
        "outputId": "405c3693-5131-4ee9-82ca-e4dc4e344593"
      },
      "source": [
        "list_b"
      ],
      "execution_count": 43,
      "outputs": [
        {
          "output_type": "execute_result",
          "data": {
            "text/plain": [
              "[2, 'xyz', [1, 2, 0.2, 'abs'], [1, 2, 0.0]]"
            ]
          },
          "metadata": {
            "tags": []
          },
          "execution_count": 43
        }
      ]
    },
    {
      "cell_type": "code",
      "metadata": {
        "colab": {
          "base_uri": "https://localhost:8080/"
        },
        "id": "F75MoFYy98oJ",
        "outputId": "e26e433b-8c4b-4bae-dc1a-fddf91334cce"
      },
      "source": [
        "len(list_b) # เป็นคำสั่งที่เอาไว้ดูว่า list มีสมาชิกทั้งหมดกี่ตัว"
      ],
      "execution_count": 44,
      "outputs": [
        {
          "output_type": "execute_result",
          "data": {
            "text/plain": [
              "4"
            ]
          },
          "metadata": {
            "tags": []
          },
          "execution_count": 44
        }
      ]
    },
    {
      "cell_type": "code",
      "metadata": {
        "colab": {
          "base_uri": "https://localhost:8080/"
        },
        "id": "spD5OBrd-UTy",
        "outputId": "efd404bd-59ae-4ec6-a97a-ccc1635a318a"
      },
      "source": [
        "list_b[3] # ชี้สมาชิกตัวที่ 3 ใน list_b (เริ่มนับตัวแรกเป็นตัวที่ 0)"
      ],
      "execution_count": 45,
      "outputs": [
        {
          "output_type": "execute_result",
          "data": {
            "text/plain": [
              "[1, 2, 0.0]"
            ]
          },
          "metadata": {
            "tags": []
          },
          "execution_count": 45
        }
      ]
    },
    {
      "cell_type": "code",
      "metadata": {
        "colab": {
          "base_uri": "https://localhost:8080/"
        },
        "id": "eZ6vGO0a-gC3",
        "outputId": "c14c7287-3da3-4933-84f1-a9d529e6f1fa"
      },
      "source": [
        "list_b[3][1] # ชี้สมาชิกตัวที่ 3 ลำดับที่ 1 ใน list_b"
      ],
      "execution_count": 46,
      "outputs": [
        {
          "output_type": "execute_result",
          "data": {
            "text/plain": [
              "2"
            ]
          },
          "metadata": {
            "tags": []
          },
          "execution_count": 46
        }
      ]
    },
    {
      "cell_type": "markdown",
      "metadata": {
        "id": "F68G2n2b-4ya"
      },
      "source": [
        "string คือ list ของ ตัวหนังสือ "
      ]
    },
    {
      "cell_type": "code",
      "metadata": {
        "id": "ZKECHhe3-r60"
      },
      "source": [
        "a = 'Stat KKU'"
      ],
      "execution_count": 47,
      "outputs": []
    },
    {
      "cell_type": "code",
      "metadata": {
        "colab": {
          "base_uri": "https://localhost:8080/",
          "height": 35
        },
        "id": "BTTBTiiU_D_B",
        "outputId": "43aa9a84-3544-467f-e9b1-08c37eeaf271"
      },
      "source": [
        "a[4]"
      ],
      "execution_count": 48,
      "outputs": [
        {
          "output_type": "execute_result",
          "data": {
            "application/vnd.google.colaboratory.intrinsic+json": {
              "type": "string"
            },
            "text/plain": [
              "' '"
            ]
          },
          "metadata": {
            "tags": []
          },
          "execution_count": 48
        }
      ]
    },
    {
      "cell_type": "markdown",
      "metadata": {
        "id": "Fx2NavAm_kyK"
      },
      "source": [
        "## วิธีการสร้าง list แบบที่ 2 list ว่าง"
      ]
    },
    {
      "cell_type": "code",
      "metadata": {
        "id": "vWq_V2y7_HVf"
      },
      "source": [
        "list_c = list()  # แบบที่ 1\n",
        "list_d = [] # แบบที่ 2"
      ],
      "execution_count": 49,
      "outputs": []
    },
    {
      "cell_type": "code",
      "metadata": {
        "colab": {
          "base_uri": "https://localhost:8080/"
        },
        "id": "9q87-Qts_4YD",
        "outputId": "8cccb968-27c8-4b5f-b8d8-66f6b3404f3c"
      },
      "source": [
        "list_c"
      ],
      "execution_count": 50,
      "outputs": [
        {
          "output_type": "execute_result",
          "data": {
            "text/plain": [
              "[]"
            ]
          },
          "metadata": {
            "tags": []
          },
          "execution_count": 50
        }
      ]
    },
    {
      "cell_type": "code",
      "metadata": {
        "colab": {
          "base_uri": "https://localhost:8080/"
        },
        "id": "pX54KpWz_7Zo",
        "outputId": "012a2d47-6877-47f5-93ec-b6a072ce5637"
      },
      "source": [
        "list_d"
      ],
      "execution_count": 51,
      "outputs": [
        {
          "output_type": "execute_result",
          "data": {
            "text/plain": [
              "[]"
            ]
          },
          "metadata": {
            "tags": []
          },
          "execution_count": 51
        }
      ]
    },
    {
      "cell_type": "markdown",
      "metadata": {
        "id": "oG0aFPyPAj3s"
      },
      "source": [
        "### เติมค่าลงไปใน list (.append())"
      ]
    },
    {
      "cell_type": "code",
      "metadata": {
        "id": "OFonSxto_9qH"
      },
      "source": [
        "list_d.append('a') # ค่าที่เพิ่มเข้าไปจะไปต่อด้านหลังของ list"
      ],
      "execution_count": 58,
      "outputs": []
    },
    {
      "cell_type": "code",
      "metadata": {
        "colab": {
          "base_uri": "https://localhost:8080/"
        },
        "id": "euXLuwiyAuOx",
        "outputId": "051269eb-2e07-4a42-af3c-77aea5cc1e50"
      },
      "source": [
        "list_d"
      ],
      "execution_count": 59,
      "outputs": [
        {
          "output_type": "execute_result",
          "data": {
            "text/plain": [
              "['a', 'a', 56, 'a']"
            ]
          },
          "metadata": {
            "tags": []
          },
          "execution_count": 59
        }
      ]
    },
    {
      "cell_type": "code",
      "metadata": {
        "id": "5LvUGfLeAvnu"
      },
      "source": [
        "list_d.append(56)"
      ],
      "execution_count": 60,
      "outputs": []
    },
    {
      "cell_type": "code",
      "metadata": {
        "colab": {
          "base_uri": "https://localhost:8080/"
        },
        "id": "_0r43L39A39R",
        "outputId": "02f01341-dcad-435f-dc1d-059f99e3a861"
      },
      "source": [
        "list_d"
      ],
      "execution_count": 61,
      "outputs": [
        {
          "output_type": "execute_result",
          "data": {
            "text/plain": [
              "['a', 'a', 56, 'a', 56]"
            ]
          },
          "metadata": {
            "tags": []
          },
          "execution_count": 61
        }
      ]
    },
    {
      "cell_type": "markdown",
      "metadata": {
        "id": "PjWAbiNIBTZi"
      },
      "source": [
        "### การชี้ค่าใน list (indexing)\n",
        "\n",
        "\n",
        "1.   ใช้ลำดับในการชี้\n",
        "2.   ลำดับเริ่มต้นจาก 0\n",
        "3.   สามารถชี้จากข้างหลังได้โดยใช้ **negative index**\n",
        "\n"
      ]
    },
    {
      "cell_type": "code",
      "metadata": {
        "colab": {
          "base_uri": "https://localhost:8080/"
        },
        "id": "tQaC_1owA6T8",
        "outputId": "11153ab8-3373-4db8-f6bc-48ba994a7e51"
      },
      "source": [
        "list_b"
      ],
      "execution_count": 62,
      "outputs": [
        {
          "output_type": "execute_result",
          "data": {
            "text/plain": [
              "[2, 'xyz', [1, 2, 0.2, 'abs'], [1, 2, 0.0]]"
            ]
          },
          "metadata": {
            "tags": []
          },
          "execution_count": 62
        }
      ]
    },
    {
      "cell_type": "code",
      "metadata": {
        "colab": {
          "base_uri": "https://localhost:8080/"
        },
        "id": "B9MFm0KqBmEt",
        "outputId": "f942db0c-9bb1-4955-967a-12c51d3a6932"
      },
      "source": [
        "list_b[-1] # -1 ก็จะชี้ตัวท้ายสุดที่อยู่ใน list"
      ],
      "execution_count": 64,
      "outputs": [
        {
          "output_type": "execute_result",
          "data": {
            "text/plain": [
              "[1, 2, 0.0]"
            ]
          },
          "metadata": {
            "tags": []
          },
          "execution_count": 64
        }
      ]
    },
    {
      "cell_type": "markdown",
      "metadata": {
        "id": "5f6tv3MQCSKv"
      },
      "source": [
        "### list slicing"
      ]
    },
    {
      "cell_type": "markdown",
      "metadata": {
        "id": "7peK-RdPC8_9"
      },
      "source": [
        "เราจะตัด list โดยเอาตั้งแต่ [ตัวหน้า:ตัวก่อนตัวหลัง]\n",
        "\n",
        "ถ้าเป็นสัญลักษณ์คณิตศาสตร์ **[ตัวหน้า:ตัวหลัง)**"
      ]
    },
    {
      "cell_type": "code",
      "metadata": {
        "id": "xX7lZ7lBBpFY"
      },
      "source": [
        "list_ex = [1,2,3,5,6,8,-1,20,50,0]"
      ],
      "execution_count": 65,
      "outputs": []
    },
    {
      "cell_type": "code",
      "metadata": {
        "colab": {
          "base_uri": "https://localhost:8080/"
        },
        "id": "M_KkZfO4Capa",
        "outputId": "0184ff61-aca2-45fd-d097-fbd6c47a101c"
      },
      "source": [
        "list_ex[1:6]  # เราจะตัด list โดยเอาตั้งแต่ ตัวข้างหน้า ถึง ตัวก่อนหน้าตัวข้างหลัง : "
      ],
      "execution_count": 68,
      "outputs": [
        {
          "output_type": "execute_result",
          "data": {
            "text/plain": [
              "[2, 3, 5, 6, 8]"
            ]
          },
          "metadata": {
            "tags": []
          },
          "execution_count": 68
        }
      ]
    },
    {
      "cell_type": "code",
      "metadata": {
        "colab": {
          "base_uri": "https://localhost:8080/"
        },
        "id": "B6Cqi9lJCgyU",
        "outputId": "52013ac1-9fb1-4c22-faad-42dfc1ad2ba7"
      },
      "source": [
        "list_ex[4:]  # เอาตั้งแต่ตัวที่ 4 ไปจนถึงตัวสุดท้าย"
      ],
      "execution_count": 69,
      "outputs": [
        {
          "output_type": "execute_result",
          "data": {
            "text/plain": [
              "[6, 8, -1, 20, 50, 0]"
            ]
          },
          "metadata": {
            "tags": []
          },
          "execution_count": 69
        }
      ]
    },
    {
      "cell_type": "code",
      "metadata": {
        "colab": {
          "base_uri": "https://localhost:8080/"
        },
        "id": "SbyCtF1eDggf",
        "outputId": "34af43fd-308e-413a-fe3f-f9f723eaea9f"
      },
      "source": [
        "list_ex[:6]  # เอาตั้งแต่ตัวแรกไปจนถึงตัวก่อนหน้าตัวที่ 6"
      ],
      "execution_count": 70,
      "outputs": [
        {
          "output_type": "execute_result",
          "data": {
            "text/plain": [
              "[1, 2, 3, 5, 6, 8]"
            ]
          },
          "metadata": {
            "tags": []
          },
          "execution_count": 70
        }
      ]
    },
    {
      "cell_type": "markdown",
      "metadata": {
        "id": "VoBkGuTLEI96"
      },
      "source": [
        "[จุดเริ่มต้น: จุดสุดท้าย: step] "
      ]
    },
    {
      "cell_type": "code",
      "metadata": {
        "colab": {
          "base_uri": "https://localhost:8080/"
        },
        "id": "gqdSRRYlDoHu",
        "outputId": "8ba9af52-7fbf-4386-cfb8-335e39532230"
      },
      "source": [
        "list_ex[::2]  # เอาตั้งแต่ตัวแรกไปจนถึงตัวสุดท้าย step 2 หมายถึง กระโดดไปทีละ 2 ข้ามไปตัวนึง"
      ],
      "execution_count": 73,
      "outputs": [
        {
          "output_type": "execute_result",
          "data": {
            "text/plain": [
              "[1, 3, 6, -1, 50]"
            ]
          },
          "metadata": {
            "tags": []
          },
          "execution_count": 73
        }
      ]
    },
    {
      "cell_type": "code",
      "metadata": {
        "colab": {
          "base_uri": "https://localhost:8080/"
        },
        "id": "h8wc905lEBAj",
        "outputId": "7934458f-c4bf-4c91-82c8-43870a7b58ec"
      },
      "source": [
        "list_ex[::-1] # กลับ list เอาตัวแรกไปอยู่ด้านหลัง ตัวหลังมาอยู่ด้านหน้า"
      ],
      "execution_count": 74,
      "outputs": [
        {
          "output_type": "execute_result",
          "data": {
            "text/plain": [
              "[0, 50, 20, -1, 8, 6, 5, 3, 2, 1]"
            ]
          },
          "metadata": {
            "tags": []
          },
          "execution_count": 74
        }
      ]
    },
    {
      "cell_type": "code",
      "metadata": {
        "colab": {
          "base_uri": "https://localhost:8080/"
        },
        "id": "_wcJlWHjEols",
        "outputId": "6687cdde-c63c-4e2d-c524-428e9aacf5e4"
      },
      "source": [
        "list_ex[::3] # กระโดดไปทีละ 3 ข้ามไป 2 "
      ],
      "execution_count": 75,
      "outputs": [
        {
          "output_type": "execute_result",
          "data": {
            "text/plain": [
              "[1, 5, -1, 0]"
            ]
          },
          "metadata": {
            "tags": []
          },
          "execution_count": 75
        }
      ]
    },
    {
      "cell_type": "code",
      "metadata": {
        "colab": {
          "base_uri": "https://localhost:8080/",
          "height": 35
        },
        "id": "Lt54GHvOEyq1",
        "outputId": "3b0dd768-630d-41c5-8b0b-ea3d7093d56a"
      },
      "source": [
        "a"
      ],
      "execution_count": 76,
      "outputs": [
        {
          "output_type": "execute_result",
          "data": {
            "application/vnd.google.colaboratory.intrinsic+json": {
              "type": "string"
            },
            "text/plain": [
              "'Stat KKU'"
            ]
          },
          "metadata": {
            "tags": []
          },
          "execution_count": 76
        }
      ]
    },
    {
      "cell_type": "code",
      "metadata": {
        "colab": {
          "base_uri": "https://localhost:8080/",
          "height": 35
        },
        "id": "Oal-iBkpE8ll",
        "outputId": "3b6d49c0-52ec-448e-ec48-7b0c90145048"
      },
      "source": [
        "a[5:]"
      ],
      "execution_count": 79,
      "outputs": [
        {
          "output_type": "execute_result",
          "data": {
            "application/vnd.google.colaboratory.intrinsic+json": {
              "type": "string"
            },
            "text/plain": [
              "'KKU'"
            ]
          },
          "metadata": {
            "tags": []
          },
          "execution_count": 79
        }
      ]
    },
    {
      "cell_type": "code",
      "metadata": {
        "colab": {
          "base_uri": "https://localhost:8080/",
          "height": 35
        },
        "id": "9Gyd6xN_FAg1",
        "outputId": "83cde436-3e67-4c6c-9ab0-343e57928ba8"
      },
      "source": [
        "a[-3:]"
      ],
      "execution_count": 80,
      "outputs": [
        {
          "output_type": "execute_result",
          "data": {
            "application/vnd.google.colaboratory.intrinsic+json": {
              "type": "string"
            },
            "text/plain": [
              "'KKU'"
            ]
          },
          "metadata": {
            "tags": []
          },
          "execution_count": 80
        }
      ]
    },
    {
      "cell_type": "code",
      "metadata": {
        "colab": {
          "base_uri": "https://localhost:8080/",
          "height": 35
        },
        "id": "VoK4eWI6F2be",
        "outputId": "692c3507-8843-4108-82bd-6bccf9235186"
      },
      "source": [
        "a[5:8]"
      ],
      "execution_count": 81,
      "outputs": [
        {
          "output_type": "execute_result",
          "data": {
            "application/vnd.google.colaboratory.intrinsic+json": {
              "type": "string"
            },
            "text/plain": [
              "'KKU'"
            ]
          },
          "metadata": {
            "tags": []
          },
          "execution_count": 81
        }
      ]
    },
    {
      "cell_type": "code",
      "metadata": {
        "colab": {
          "base_uri": "https://localhost:8080/",
          "height": 35
        },
        "id": "_puJz2mXF7Ti",
        "outputId": "5d3d214d-1c8a-4bd1-fb47-db3d96d6c22a"
      },
      "source": [
        "a[5::]"
      ],
      "execution_count": 82,
      "outputs": [
        {
          "output_type": "execute_result",
          "data": {
            "application/vnd.google.colaboratory.intrinsic+json": {
              "type": "string"
            },
            "text/plain": [
              "'KKU'"
            ]
          },
          "metadata": {
            "tags": []
          },
          "execution_count": 82
        }
      ]
    },
    {
      "cell_type": "code",
      "metadata": {
        "colab": {
          "base_uri": "https://localhost:8080/",
          "height": 35
        },
        "id": "CslkUpBEGPop",
        "outputId": "18143b63-602e-45e8-be9d-05389c5537e0"
      },
      "source": [
        "a[-3::]"
      ],
      "execution_count": 86,
      "outputs": [
        {
          "output_type": "execute_result",
          "data": {
            "application/vnd.google.colaboratory.intrinsic+json": {
              "type": "string"
            },
            "text/plain": [
              "'KKU'"
            ]
          },
          "metadata": {
            "tags": []
          },
          "execution_count": 86
        }
      ]
    },
    {
      "cell_type": "markdown",
      "metadata": {
        "id": "8UVe4b5VGpTI"
      },
      "source": [
        "### list + list"
      ]
    },
    {
      "cell_type": "code",
      "metadata": {
        "colab": {
          "base_uri": "https://localhost:8080/"
        },
        "id": "FcTV5q44GX54",
        "outputId": "ecd89e20-7953-4d90-fc9c-3fe02fe421f4"
      },
      "source": [
        "print(list_a)\n",
        "print(list_b)"
      ],
      "execution_count": 87,
      "outputs": [
        {
          "output_type": "stream",
          "text": [
            "[1, 2, 0.2, 'abs']\n",
            "[2, 'xyz', [1, 2, 0.2, 'abs'], [1, 2, 0.0]]\n"
          ],
          "name": "stdout"
        }
      ]
    },
    {
      "cell_type": "code",
      "metadata": {
        "colab": {
          "base_uri": "https://localhost:8080/"
        },
        "id": "NxAhZoncG7Hj",
        "outputId": "f0a595d0-9ff9-4a69-cfbe-3d9b49ffb557"
      },
      "source": [
        "list_a + list_b # เราสามารถเอา list มาบวกกันได้"
      ],
      "execution_count": 89,
      "outputs": [
        {
          "output_type": "execute_result",
          "data": {
            "text/plain": [
              "[1, 2, 0.2, 'abs', 2, 'xyz', [1, 2, 0.2, 'abs'], [1, 2, 0.0]]"
            ]
          },
          "metadata": {
            "tags": []
          },
          "execution_count": 89
        }
      ]
    },
    {
      "cell_type": "markdown",
      "metadata": {
        "id": "oVYV2zBXLNzl"
      },
      "source": [
        "### format string"
      ]
    },
    {
      "cell_type": "markdown",
      "metadata": {
        "id": "AuxlH-CPLv1i"
      },
      "source": [
        "**f'string {ตัวแปร}**   โดย {} เรียกว่า curly brackets\n"
      ]
    },
    {
      "cell_type": "code",
      "metadata": {
        "colab": {
          "base_uri": "https://localhost:8080/",
          "height": 35
        },
        "id": "jI_5fhPiLSVo",
        "outputId": "fc58b737-9df5-4698-e529-3301101430b2"
      },
      "source": [
        "f'ตัวแปร list_a มีค่าคือ {list_a}'"
      ],
      "execution_count": 96,
      "outputs": [
        {
          "output_type": "execute_result",
          "data": {
            "application/vnd.google.colaboratory.intrinsic+json": {
              "type": "string"
            },
            "text/plain": [
              "\"ตัวแปร list_a มีค่าคือ [1, 2, 0.2, 'abs']\""
            ]
          },
          "metadata": {
            "tags": []
          },
          "execution_count": 96
        }
      ]
    },
    {
      "cell_type": "markdown",
      "metadata": {
        "id": "BU-4m7DSHVRX"
      },
      "source": [
        "## Loop"
      ]
    },
    {
      "cell_type": "markdown",
      "metadata": {
        "id": "zcEBfmtGKXag"
      },
      "source": [
        "for ตัวแปรที่จะรับค่าจาก list in list ที่จะนำมาวนลูป\n",
        "\n",
        "        do something "
      ]
    },
    {
      "cell_type": "code",
      "metadata": {
        "colab": {
          "base_uri": "https://localhost:8080/"
        },
        "id": "KpHbl2lYJmcy",
        "outputId": "2abc02b7-30db-46d8-a61a-53fb09275477"
      },
      "source": [
        "for  i  in  [1,2,3,4,5] :    # i จะวนเป็นตัวเลขตามใน list ด้านหลัง\n",
        "      print(i+1)    # i จะแสดงผลออกมาเป็น i+1 "
      ],
      "execution_count": 94,
      "outputs": [
        {
          "output_type": "stream",
          "text": [
            "2\n",
            "3\n",
            "4\n",
            "5\n",
            "6\n"
          ],
          "name": "stdout"
        }
      ]
    },
    {
      "cell_type": "code",
      "metadata": {
        "colab": {
          "base_uri": "https://localhost:8080/"
        },
        "id": "Xqn6_FcDMV0z",
        "outputId": "c64187cf-ffca-47ea-d134-203e5b0d8422"
      },
      "source": [
        "for x in  [1,2,3,4,5] :\n",
        "      print(f'ค่าตัวแปร x คือ {x} และ x+2 = {x+2}')"
      ],
      "execution_count": 97,
      "outputs": [
        {
          "output_type": "stream",
          "text": [
            "ค่าตัวแปร x คือ 1 และ x+2 = 3\n",
            "ค่าตัวแปร x คือ 2 และ x+2 = 4\n",
            "ค่าตัวแปร x คือ 3 และ x+2 = 5\n",
            "ค่าตัวแปร x คือ 4 และ x+2 = 6\n",
            "ค่าตัวแปร x คือ 5 และ x+2 = 7\n"
          ],
          "name": "stdout"
        }
      ]
    },
    {
      "cell_type": "code",
      "metadata": {
        "colab": {
          "base_uri": "https://localhost:8080/"
        },
        "id": "cI6Ohp10M0bP",
        "outputId": "51c1d3e3-c221-4b72-85a1-4ad2247d4d88"
      },
      "source": [
        "list5 = [1,2,3,4,5]\n",
        "for x in list5 :\n",
        "      print(f'ค่าตัวแปร x คือ {x} และ x+2 = {x+2}')"
      ],
      "execution_count": 98,
      "outputs": [
        {
          "output_type": "stream",
          "text": [
            "ค่าตัวแปร x คือ 1 และ x+2 = 3\n",
            "ค่าตัวแปร x คือ 2 และ x+2 = 4\n",
            "ค่าตัวแปร x คือ 3 และ x+2 = 5\n",
            "ค่าตัวแปร x คือ 4 และ x+2 = 6\n",
            "ค่าตัวแปร x คือ 5 และ x+2 = 7\n"
          ],
          "name": "stdout"
        }
      ]
    },
    {
      "cell_type": "code",
      "metadata": {
        "colab": {
          "base_uri": "https://localhost:8080/"
        },
        "id": "L7IZKqq0NK4t",
        "outputId": "7527cdaa-fe6d-45af-9882-09eaf2ce356b"
      },
      "source": [
        "range(10)"
      ],
      "execution_count": 102,
      "outputs": [
        {
          "output_type": "execute_result",
          "data": {
            "text/plain": [
              "range(0, 10)"
            ]
          },
          "metadata": {
            "tags": []
          },
          "execution_count": 102
        }
      ]
    },
    {
      "cell_type": "code",
      "metadata": {
        "colab": {
          "base_uri": "https://localhost:8080/"
        },
        "id": "MR4wXTX2NDu-",
        "outputId": "3171b832-9fb4-4f2b-b5ba-f506a56e09f1"
      },
      "source": [
        "list(range(10))  # สร้าง list ที่มีค่าเริ่มต้นตั้งแต่ 0 ถึง 10  ตัวเลขตัวเดียวกำหนดแค่จุดจบ"
      ],
      "execution_count": 103,
      "outputs": [
        {
          "output_type": "execute_result",
          "data": {
            "text/plain": [
              "[0, 1, 2, 3, 4, 5, 6, 7, 8, 9]"
            ]
          },
          "metadata": {
            "tags": []
          },
          "execution_count": 103
        }
      ]
    },
    {
      "cell_type": "code",
      "metadata": {
        "colab": {
          "base_uri": "https://localhost:8080/"
        },
        "id": "qrgLA4c8NU6X",
        "outputId": "9d9081e9-2c81-47dd-85ba-1233fefb2581"
      },
      "source": [
        "for i in range(2,7) :    # มีสองตัวคือกำหนดจุดเริ่มและจุดจบ \n",
        "      print (i)"
      ],
      "execution_count": 104,
      "outputs": [
        {
          "output_type": "stream",
          "text": [
            "2\n",
            "3\n",
            "4\n",
            "5\n",
            "6\n"
          ],
          "name": "stdout"
        }
      ]
    },
    {
      "cell_type": "code",
      "metadata": {
        "colab": {
          "base_uri": "https://localhost:8080/"
        },
        "id": "I07KMnFNN5zc",
        "outputId": "a6c4d47f-12c4-4943-fb01-d61f39db7104"
      },
      "source": [
        "for i in range(2,7,2) :    # มีสองตัวคือกำหนดจุดเริ่มและจุดจบ กำหนด step คือ 2 แปลว่าข้ามไปตัวนึง\n",
        "      print (i)"
      ],
      "execution_count": 106,
      "outputs": [
        {
          "output_type": "stream",
          "text": [
            "2\n",
            "4\n",
            "6\n"
          ],
          "name": "stdout"
        }
      ]
    },
    {
      "cell_type": "code",
      "metadata": {
        "colab": {
          "base_uri": "https://localhost:8080/"
        },
        "id": "yUunmm2IOXso",
        "outputId": "fbfebc92-ddca-4cf0-99d7-f828d17d4a5b"
      },
      "source": [
        "for i in range(5) :  # แบบนี้แปลว่าเราจะวนลูปทั้งหมด 5 รอบ\n",
        "      print('hahahahahaha')"
      ],
      "execution_count": 107,
      "outputs": [
        {
          "output_type": "stream",
          "text": [
            "hahahahahaha\n",
            "hahahahahaha\n",
            "hahahahahaha\n",
            "hahahahahaha\n",
            "hahahahahaha\n"
          ],
          "name": "stdout"
        }
      ]
    },
    {
      "cell_type": "code",
      "metadata": {
        "colab": {
          "base_uri": "https://localhost:8080/"
        },
        "id": "a_1aYTbGOl7E",
        "outputId": "bbf5925d-83bc-461b-c27e-cb7b1618cade"
      },
      "source": [
        "for i in range(5) :  # แบบนี้แปลว่าเราจะวนลูปทั้งหมด 5 รอบ\n",
        "      print('hahahahahaha')\n",
        "      x = i+3\n",
        "      print(f'i={i}  x={x}')  # print 2 รอบ แสดงผล 2 บรรทัด"
      ],
      "execution_count": 108,
      "outputs": [
        {
          "output_type": "stream",
          "text": [
            "hahahahahaha\n",
            "i=0  x=3\n",
            "hahahahahaha\n",
            "i=1  x=4\n",
            "hahahahahaha\n",
            "i=2  x=5\n",
            "hahahahahaha\n",
            "i=3  x=6\n",
            "hahahahahaha\n",
            "i=4  x=7\n"
          ],
          "name": "stdout"
        }
      ]
    },
    {
      "cell_type": "markdown",
      "metadata": {
        "id": "ZnqXMKZNPF_Z"
      },
      "source": [
        "##Nested loop"
      ]
    },
    {
      "cell_type": "markdown",
      "metadata": {
        "id": "RIzfi-uJPKaI"
      },
      "source": [
        "ลูปซ้อนลูป"
      ]
    },
    {
      "cell_type": "code",
      "metadata": {
        "colab": {
          "base_uri": "https://localhost:8080/"
        },
        "id": "j8snOk96POLI",
        "outputId": "64dbe056-ad50-44b7-abfd-54b7fb5cc892"
      },
      "source": [
        "for i in range(3) :       # ตอนแรกจะเริ่มวนลูปของ i ทีละตัวก่อน แล้วเอาไปจับกับ j ให้ครบทุกตัว \n",
        "      print(f'now i = {i}')\n",
        "      print('start j loop')  \n",
        "      for j in range(4) :\n",
        "            print(f' i = {i} j = {j} i+j = {+j}')\n",
        "      print('end j loop')"
      ],
      "execution_count": 111,
      "outputs": [
        {
          "output_type": "stream",
          "text": [
            "now i = 0\n",
            "start j loop\n",
            " i = 0 j = 0 i+j = 0\n",
            " i = 0 j = 1 i+j = 1\n",
            " i = 0 j = 2 i+j = 2\n",
            " i = 0 j = 3 i+j = 3\n",
            "end j loop\n",
            "now i = 1\n",
            "start j loop\n",
            " i = 1 j = 0 i+j = 0\n",
            " i = 1 j = 1 i+j = 1\n",
            " i = 1 j = 2 i+j = 2\n",
            " i = 1 j = 3 i+j = 3\n",
            "end j loop\n",
            "now i = 2\n",
            "start j loop\n",
            " i = 2 j = 0 i+j = 0\n",
            " i = 2 j = 1 i+j = 1\n",
            " i = 2 j = 2 i+j = 2\n",
            " i = 2 j = 3 i+j = 3\n",
            "end j loop\n"
          ],
          "name": "stdout"
        }
      ]
    },
    {
      "cell_type": "markdown",
      "metadata": {
        "id": "KSj27epuHmjO"
      },
      "source": [
        "### Condition\n",
        "### Function"
      ]
    },
    {
      "cell_type": "code",
      "metadata": {
        "id": "dc4He8q8HlKN"
      },
      "source": [
        ""
      ],
      "execution_count": null,
      "outputs": []
    }
  ]
}