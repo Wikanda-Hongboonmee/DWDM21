{
  "nbformat": 4,
  "nbformat_minor": 0,
  "metadata": {
    "colab": {
      "name": "Data Visualization.ipynb",
      "provenance": [],
      "authorship_tag": "ABX9TyMcBcsfY84yKKpAiK/40c0Q",
      "include_colab_link": true
    },
    "kernelspec": {
      "name": "python3",
      "display_name": "Python 3"
    },
    "language_info": {
      "name": "python"
    }
  },
  "cells": [
    {
      "cell_type": "markdown",
      "metadata": {
        "id": "view-in-github",
        "colab_type": "text"
      },
      "source": [
        "<a href=\"https://colab.research.google.com/github/Wikanda-Hongboonmee/DWDM21/blob/main/Data_Visualization.ipynb\" target=\"_parent\"><img src=\"https://colab.research.google.com/assets/colab-badge.svg\" alt=\"Open In Colab\"/></a>"
      ]
    },
    {
      "cell_type": "code",
      "metadata": {
        "id": "rU5-J1wzBbOA"
      },
      "source": [
        "import pandas as pd  # pandas เป็น Package ที่ใช้เกี่ยวกับการจัดการข้อมูลที่เป็นตาราง , เรียกใช้โดยการ import แล้วตามด้วยชื่อ Package"
      ],
      "execution_count": 1,
      "outputs": []
    },
    {
      "cell_type": "code",
      "metadata": {
        "colab": {
          "base_uri": "https://localhost:8080/"
        },
        "id": "AlGQ7fHbBpGI",
        "outputId": "5eedd932-aa0c-4f3d-b023-8122e4d6f51b"
      },
      "source": [
        "from google.colab import drive  # เชื่อมต่อกับ google drive ที่เราเก็บข้อมูลไว้\n",
        "drive.mount('/content/drive')"
      ],
      "execution_count": 2,
      "outputs": [
        {
          "output_type": "stream",
          "text": [
            "Mounted at /content/drive\n"
          ],
          "name": "stdout"
        }
      ]
    },
    {
      "cell_type": "code",
      "metadata": {
        "id": "XK3mhouYBxH4"
      },
      "source": [
        "import os # เป็น package ที่เอาไว้จัดการไฟล์และเอาไว้ดูที่มาของไฟล์หรือ path"
      ],
      "execution_count": 3,
      "outputs": []
    },
    {
      "cell_type": "code",
      "metadata": {
        "colab": {
          "base_uri": "https://localhost:8080/",
          "height": 487
        },
        "id": "IOxQ70syBzuq",
        "outputId": "b0ee2aaf-e8f1-4a96-c5fb-334da8befda9"
      },
      "source": [
        "path = '/content/drive/My Drive/DWDM2021_DATA' \n",
        "data_covid = pd.read_csv(os.path.join(path,'thailand_covid-19_testing_data_update140864.csv')) # ไฟล์ที่เราต้องการ\n",
        "data_covid # print data ดูว่ามันหน้าตาเป็นยังไง"
      ],
      "execution_count": 5,
      "outputs": [
        {
          "output_type": "execute_result",
          "data": {
            "text/html": [
              "<div>\n",
              "<style scoped>\n",
              "    .dataframe tbody tr th:only-of-type {\n",
              "        vertical-align: middle;\n",
              "    }\n",
              "\n",
              "    .dataframe tbody tr th {\n",
              "        vertical-align: top;\n",
              "    }\n",
              "\n",
              "    .dataframe thead th {\n",
              "        text-align: right;\n",
              "    }\n",
              "</style>\n",
              "<table border=\"1\" class=\"dataframe\">\n",
              "  <thead>\n",
              "    <tr style=\"text-align: right;\">\n",
              "      <th></th>\n",
              "      <th>Date</th>\n",
              "      <th>positive</th>\n",
              "      <th>Total Testing</th>\n",
              "      <th>Unnamed: 3</th>\n",
              "      <th>Unnamed: 4</th>\n",
              "      <th>Unnamed: 5</th>\n",
              "      <th>Unnamed: 6</th>\n",
              "      <th>Unnamed: 7</th>\n",
              "      <th>Unnamed: 8</th>\n",
              "      <th>Unnamed: 9</th>\n",
              "      <th>Unnamed: 10</th>\n",
              "      <th>Unnamed: 11</th>\n",
              "      <th>Unnamed: 12</th>\n",
              "      <th>Unnamed: 13</th>\n",
              "      <th>Unnamed: 14</th>\n",
              "      <th>Unnamed: 15</th>\n",
              "      <th>Unnamed: 16</th>\n",
              "      <th>Unnamed: 17</th>\n",
              "      <th>Unnamed: 18</th>\n",
              "      <th>Unnamed: 19</th>\n",
              "      <th>Unnamed: 20</th>\n",
              "      <th>Unnamed: 21</th>\n",
              "      <th>Unnamed: 22</th>\n",
              "      <th>Unnamed: 23</th>\n",
              "      <th>Unnamed: 24</th>\n",
              "      <th>Unnamed: 25</th>\n",
              "      <th>Unnamed: 26</th>\n",
              "      <th>Unnamed: 27</th>\n",
              "      <th>Unnamed: 28</th>\n",
              "      <th>Unnamed: 29</th>\n",
              "      <th>Unnamed: 30</th>\n",
              "      <th>Unnamed: 31</th>\n",
              "      <th>Unnamed: 32</th>\n",
              "      <th>Unnamed: 33</th>\n",
              "      <th>Unnamed: 34</th>\n",
              "      <th>Unnamed: 35</th>\n",
              "      <th>Unnamed: 36</th>\n",
              "      <th>Unnamed: 37</th>\n",
              "      <th>Unnamed: 38</th>\n",
              "      <th>Unnamed: 39</th>\n",
              "      <th>...</th>\n",
              "      <th>Unnamed: 82</th>\n",
              "      <th>Unnamed: 83</th>\n",
              "      <th>Unnamed: 84</th>\n",
              "      <th>Unnamed: 85</th>\n",
              "      <th>Unnamed: 86</th>\n",
              "      <th>Unnamed: 87</th>\n",
              "      <th>Unnamed: 88</th>\n",
              "      <th>Unnamed: 89</th>\n",
              "      <th>Unnamed: 90</th>\n",
              "      <th>Unnamed: 91</th>\n",
              "      <th>Unnamed: 92</th>\n",
              "      <th>Unnamed: 93</th>\n",
              "      <th>Unnamed: 94</th>\n",
              "      <th>Unnamed: 95</th>\n",
              "      <th>Unnamed: 96</th>\n",
              "      <th>Unnamed: 97</th>\n",
              "      <th>Unnamed: 98</th>\n",
              "      <th>Unnamed: 99</th>\n",
              "      <th>Unnamed: 100</th>\n",
              "      <th>Unnamed: 101</th>\n",
              "      <th>Unnamed: 102</th>\n",
              "      <th>Unnamed: 103</th>\n",
              "      <th>Unnamed: 104</th>\n",
              "      <th>Unnamed: 105</th>\n",
              "      <th>Unnamed: 106</th>\n",
              "      <th>Unnamed: 107</th>\n",
              "      <th>Unnamed: 108</th>\n",
              "      <th>Unnamed: 109</th>\n",
              "      <th>Unnamed: 110</th>\n",
              "      <th>Unnamed: 111</th>\n",
              "      <th>Unnamed: 112</th>\n",
              "      <th>Unnamed: 113</th>\n",
              "      <th>Unnamed: 114</th>\n",
              "      <th>Unnamed: 115</th>\n",
              "      <th>Unnamed: 116</th>\n",
              "      <th>Unnamed: 117</th>\n",
              "      <th>Unnamed: 118</th>\n",
              "      <th>Unnamed: 119</th>\n",
              "      <th>Unnamed: 120</th>\n",
              "      <th>Unnamed: 121</th>\n",
              "    </tr>\n",
              "  </thead>\n",
              "  <tbody>\n",
              "    <tr>\n",
              "      <th>0</th>\n",
              "      <td>Cannot specify date</td>\n",
              "      <td>2963</td>\n",
              "      <td>32131</td>\n",
              "      <td>NaN</td>\n",
              "      <td>NaN</td>\n",
              "      <td>NaN</td>\n",
              "      <td>NaN</td>\n",
              "      <td>NaN</td>\n",
              "      <td>NaN</td>\n",
              "      <td>NaN</td>\n",
              "      <td>NaN</td>\n",
              "      <td>NaN</td>\n",
              "      <td>NaN</td>\n",
              "      <td>NaN</td>\n",
              "      <td>NaN</td>\n",
              "      <td>NaN</td>\n",
              "      <td>NaN</td>\n",
              "      <td>NaN</td>\n",
              "      <td>NaN</td>\n",
              "      <td>NaN</td>\n",
              "      <td>NaN</td>\n",
              "      <td>NaN</td>\n",
              "      <td>NaN</td>\n",
              "      <td>NaN</td>\n",
              "      <td>NaN</td>\n",
              "      <td>NaN</td>\n",
              "      <td>NaN</td>\n",
              "      <td>NaN</td>\n",
              "      <td>NaN</td>\n",
              "      <td>NaN</td>\n",
              "      <td>NaN</td>\n",
              "      <td>NaN</td>\n",
              "      <td>NaN</td>\n",
              "      <td>NaN</td>\n",
              "      <td>NaN</td>\n",
              "      <td>NaN</td>\n",
              "      <td>NaN</td>\n",
              "      <td>NaN</td>\n",
              "      <td>NaN</td>\n",
              "      <td>NaN</td>\n",
              "      <td>...</td>\n",
              "      <td>NaN</td>\n",
              "      <td>NaN</td>\n",
              "      <td>NaN</td>\n",
              "      <td>NaN</td>\n",
              "      <td>NaN</td>\n",
              "      <td>NaN</td>\n",
              "      <td>NaN</td>\n",
              "      <td>NaN</td>\n",
              "      <td>NaN</td>\n",
              "      <td>NaN</td>\n",
              "      <td>NaN</td>\n",
              "      <td>NaN</td>\n",
              "      <td>NaN</td>\n",
              "      <td>NaN</td>\n",
              "      <td>NaN</td>\n",
              "      <td>NaN</td>\n",
              "      <td>NaN</td>\n",
              "      <td>NaN</td>\n",
              "      <td>NaN</td>\n",
              "      <td>NaN</td>\n",
              "      <td>NaN</td>\n",
              "      <td>NaN</td>\n",
              "      <td>NaN</td>\n",
              "      <td>NaN</td>\n",
              "      <td>NaN</td>\n",
              "      <td>NaN</td>\n",
              "      <td>NaN</td>\n",
              "      <td>NaN</td>\n",
              "      <td>NaN</td>\n",
              "      <td>NaN</td>\n",
              "      <td>NaN</td>\n",
              "      <td>NaN</td>\n",
              "      <td>NaN</td>\n",
              "      <td>NaN</td>\n",
              "      <td>NaN</td>\n",
              "      <td>NaN</td>\n",
              "      <td>NaN</td>\n",
              "      <td>NaN</td>\n",
              "      <td>NaN</td>\n",
              "      <td>NaN</td>\n",
              "    </tr>\n",
              "    <tr>\n",
              "      <th>1</th>\n",
              "      <td>1/1/2020</td>\n",
              "      <td>0</td>\n",
              "      <td>0</td>\n",
              "      <td>NaN</td>\n",
              "      <td>NaN</td>\n",
              "      <td>NaN</td>\n",
              "      <td>NaN</td>\n",
              "      <td>NaN</td>\n",
              "      <td>NaN</td>\n",
              "      <td>NaN</td>\n",
              "      <td>NaN</td>\n",
              "      <td>NaN</td>\n",
              "      <td>NaN</td>\n",
              "      <td>NaN</td>\n",
              "      <td>NaN</td>\n",
              "      <td>NaN</td>\n",
              "      <td>NaN</td>\n",
              "      <td>NaN</td>\n",
              "      <td>NaN</td>\n",
              "      <td>NaN</td>\n",
              "      <td>NaN</td>\n",
              "      <td>NaN</td>\n",
              "      <td>NaN</td>\n",
              "      <td>NaN</td>\n",
              "      <td>NaN</td>\n",
              "      <td>NaN</td>\n",
              "      <td>NaN</td>\n",
              "      <td>NaN</td>\n",
              "      <td>NaN</td>\n",
              "      <td>NaN</td>\n",
              "      <td>NaN</td>\n",
              "      <td>NaN</td>\n",
              "      <td>NaN</td>\n",
              "      <td>NaN</td>\n",
              "      <td>NaN</td>\n",
              "      <td>NaN</td>\n",
              "      <td>NaN</td>\n",
              "      <td>NaN</td>\n",
              "      <td>NaN</td>\n",
              "      <td>NaN</td>\n",
              "      <td>...</td>\n",
              "      <td>12</td>\n",
              "      <td>NaN</td>\n",
              "      <td>13</td>\n",
              "      <td>NaN</td>\n",
              "      <td>14</td>\n",
              "      <td>NaN</td>\n",
              "      <td>15</td>\n",
              "      <td>NaN</td>\n",
              "      <td>16</td>\n",
              "      <td>NaN</td>\n",
              "      <td>17</td>\n",
              "      <td>NaN</td>\n",
              "      <td>18</td>\n",
              "      <td>NaN</td>\n",
              "      <td>19</td>\n",
              "      <td>NaN</td>\n",
              "      <td>20</td>\n",
              "      <td>NaN</td>\n",
              "      <td>21</td>\n",
              "      <td>NaN</td>\n",
              "      <td>22</td>\n",
              "      <td>NaN</td>\n",
              "      <td>23</td>\n",
              "      <td>NaN</td>\n",
              "      <td>24</td>\n",
              "      <td>NaN</td>\n",
              "      <td>25</td>\n",
              "      <td>NaN</td>\n",
              "      <td>26</td>\n",
              "      <td>NaN</td>\n",
              "      <td>27</td>\n",
              "      <td>NaN</td>\n",
              "      <td>28</td>\n",
              "      <td>NaN</td>\n",
              "      <td>29</td>\n",
              "      <td>NaN</td>\n",
              "      <td>30</td>\n",
              "      <td>NaN</td>\n",
              "      <td>31</td>\n",
              "      <td>NaN</td>\n",
              "    </tr>\n",
              "    <tr>\n",
              "      <th>2</th>\n",
              "      <td>2/1/2020</td>\n",
              "      <td>0</td>\n",
              "      <td>0</td>\n",
              "      <td>NaN</td>\n",
              "      <td>NaN</td>\n",
              "      <td>NaN</td>\n",
              "      <td>NaN</td>\n",
              "      <td>NaN</td>\n",
              "      <td>NaN</td>\n",
              "      <td>NaN</td>\n",
              "      <td>NaN</td>\n",
              "      <td>NaN</td>\n",
              "      <td>NaN</td>\n",
              "      <td>NaN</td>\n",
              "      <td>NaN</td>\n",
              "      <td>NaN</td>\n",
              "      <td>NaN</td>\n",
              "      <td>NaN</td>\n",
              "      <td>NaN</td>\n",
              "      <td>NaN</td>\n",
              "      <td>NaN</td>\n",
              "      <td>NaN</td>\n",
              "      <td>NaN</td>\n",
              "      <td>NaN</td>\n",
              "      <td>NaN</td>\n",
              "      <td>NaN</td>\n",
              "      <td>NaN</td>\n",
              "      <td>NaN</td>\n",
              "      <td>NaN</td>\n",
              "      <td>NaN</td>\n",
              "      <td>NaN</td>\n",
              "      <td>NaN</td>\n",
              "      <td>NaN</td>\n",
              "      <td>NaN</td>\n",
              "      <td>NaN</td>\n",
              "      <td>NaN</td>\n",
              "      <td>NaN</td>\n",
              "      <td>NaN</td>\n",
              "      <td>NaN</td>\n",
              "      <td>NaN</td>\n",
              "      <td>...</td>\n",
              "      <td>Pos</td>\n",
              "      <td>Pos</td>\n",
              "      <td>Total</td>\n",
              "      <td>Pos</td>\n",
              "      <td>Total</td>\n",
              "      <td>Pos</td>\n",
              "      <td>Total</td>\n",
              "      <td>Pos</td>\n",
              "      <td>Total</td>\n",
              "      <td>Pos</td>\n",
              "      <td>Pos</td>\n",
              "      <td>Total</td>\n",
              "      <td>Pos</td>\n",
              "      <td>Total</td>\n",
              "      <td>Pos</td>\n",
              "      <td>Total</td>\n",
              "      <td>Pos</td>\n",
              "      <td>Total</td>\n",
              "      <td>Pos</td>\n",
              "      <td>Pos</td>\n",
              "      <td>Total</td>\n",
              "      <td>Pos</td>\n",
              "      <td>Total</td>\n",
              "      <td>Pos</td>\n",
              "      <td>Total</td>\n",
              "      <td>Pos</td>\n",
              "      <td>Total</td>\n",
              "      <td>Pos</td>\n",
              "      <td>Pos</td>\n",
              "      <td>Total</td>\n",
              "      <td>Pos</td>\n",
              "      <td>Total</td>\n",
              "      <td>Pos</td>\n",
              "      <td>Total</td>\n",
              "      <td>Pos</td>\n",
              "      <td>Total</td>\n",
              "      <td>Pos</td>\n",
              "      <td>Pos</td>\n",
              "      <td>Pos</td>\n",
              "      <td>Pos</td>\n",
              "    </tr>\n",
              "    <tr>\n",
              "      <th>3</th>\n",
              "      <td>3/1/2020</td>\n",
              "      <td>0</td>\n",
              "      <td>0</td>\n",
              "      <td>NaN</td>\n",
              "      <td>NaN</td>\n",
              "      <td>NaN</td>\n",
              "      <td>NaN</td>\n",
              "      <td>NaN</td>\n",
              "      <td>NaN</td>\n",
              "      <td>NaN</td>\n",
              "      <td>NaN</td>\n",
              "      <td>NaN</td>\n",
              "      <td>NaN</td>\n",
              "      <td>NaN</td>\n",
              "      <td>NaN</td>\n",
              "      <td>NaN</td>\n",
              "      <td>NaN</td>\n",
              "      <td>NaN</td>\n",
              "      <td>NaN</td>\n",
              "      <td>NaN</td>\n",
              "      <td>NaN</td>\n",
              "      <td>NaN</td>\n",
              "      <td>NaN</td>\n",
              "      <td>NaN</td>\n",
              "      <td>NaN</td>\n",
              "      <td>NaN</td>\n",
              "      <td>NaN</td>\n",
              "      <td>NaN</td>\n",
              "      <td>NaN</td>\n",
              "      <td>NaN</td>\n",
              "      <td>NaN</td>\n",
              "      <td>NaN</td>\n",
              "      <td>NaN</td>\n",
              "      <td>NaN</td>\n",
              "      <td>NaN</td>\n",
              "      <td>NaN</td>\n",
              "      <td>NaN</td>\n",
              "      <td>NaN</td>\n",
              "      <td>NaN</td>\n",
              "      <td>NaN</td>\n",
              "      <td>...</td>\n",
              "      <td>NaN</td>\n",
              "      <td>NaN</td>\n",
              "      <td>NaN</td>\n",
              "      <td>NaN</td>\n",
              "      <td>NaN</td>\n",
              "      <td>NaN</td>\n",
              "      <td>NaN</td>\n",
              "      <td>NaN</td>\n",
              "      <td>NaN</td>\n",
              "      <td>NaN</td>\n",
              "      <td>NaN</td>\n",
              "      <td>NaN</td>\n",
              "      <td>NaN</td>\n",
              "      <td>NaN</td>\n",
              "      <td>NaN</td>\n",
              "      <td>NaN</td>\n",
              "      <td>NaN</td>\n",
              "      <td>NaN</td>\n",
              "      <td>NaN</td>\n",
              "      <td>NaN</td>\n",
              "      <td>NaN</td>\n",
              "      <td>NaN</td>\n",
              "      <td>NaN</td>\n",
              "      <td>NaN</td>\n",
              "      <td>NaN</td>\n",
              "      <td>NaN</td>\n",
              "      <td>NaN</td>\n",
              "      <td>NaN</td>\n",
              "      <td>NaN</td>\n",
              "      <td>NaN</td>\n",
              "      <td>NaN</td>\n",
              "      <td>NaN</td>\n",
              "      <td>NaN</td>\n",
              "      <td>NaN</td>\n",
              "      <td>NaN</td>\n",
              "      <td>NaN</td>\n",
              "      <td>NaN</td>\n",
              "      <td>NaN</td>\n",
              "      <td>NaN</td>\n",
              "      <td>NaN</td>\n",
              "    </tr>\n",
              "    <tr>\n",
              "      <th>4</th>\n",
              "      <td>4/1/2020</td>\n",
              "      <td>0</td>\n",
              "      <td>2</td>\n",
              "      <td>NaN</td>\n",
              "      <td>NaN</td>\n",
              "      <td>NaN</td>\n",
              "      <td>NaN</td>\n",
              "      <td>NaN</td>\n",
              "      <td>NaN</td>\n",
              "      <td>NaN</td>\n",
              "      <td>NaN</td>\n",
              "      <td>NaN</td>\n",
              "      <td>NaN</td>\n",
              "      <td>NaN</td>\n",
              "      <td>NaN</td>\n",
              "      <td>NaN</td>\n",
              "      <td>NaN</td>\n",
              "      <td>NaN</td>\n",
              "      <td>NaN</td>\n",
              "      <td>NaN</td>\n",
              "      <td>NaN</td>\n",
              "      <td>NaN</td>\n",
              "      <td>NaN</td>\n",
              "      <td>NaN</td>\n",
              "      <td>NaN</td>\n",
              "      <td>NaN</td>\n",
              "      <td>NaN</td>\n",
              "      <td>NaN</td>\n",
              "      <td>NaN</td>\n",
              "      <td>NaN</td>\n",
              "      <td>NaN</td>\n",
              "      <td>NaN</td>\n",
              "      <td>NaN</td>\n",
              "      <td>NaN</td>\n",
              "      <td>NaN</td>\n",
              "      <td>NaN</td>\n",
              "      <td>NaN</td>\n",
              "      <td>NaN</td>\n",
              "      <td>NaN</td>\n",
              "      <td>NaN</td>\n",
              "      <td>...</td>\n",
              "      <td>NaN</td>\n",
              "      <td>NaN</td>\n",
              "      <td>NaN</td>\n",
              "      <td>NaN</td>\n",
              "      <td>NaN</td>\n",
              "      <td>NaN</td>\n",
              "      <td>NaN</td>\n",
              "      <td>NaN</td>\n",
              "      <td>NaN</td>\n",
              "      <td>NaN</td>\n",
              "      <td>NaN</td>\n",
              "      <td>NaN</td>\n",
              "      <td>NaN</td>\n",
              "      <td>NaN</td>\n",
              "      <td>NaN</td>\n",
              "      <td>NaN</td>\n",
              "      <td>NaN</td>\n",
              "      <td>NaN</td>\n",
              "      <td>NaN</td>\n",
              "      <td>NaN</td>\n",
              "      <td>NaN</td>\n",
              "      <td>NaN</td>\n",
              "      <td>NaN</td>\n",
              "      <td>NaN</td>\n",
              "      <td>NaN</td>\n",
              "      <td>NaN</td>\n",
              "      <td>NaN</td>\n",
              "      <td>NaN</td>\n",
              "      <td>NaN</td>\n",
              "      <td>NaN</td>\n",
              "      <td>NaN</td>\n",
              "      <td>NaN</td>\n",
              "      <td>NaN</td>\n",
              "      <td>NaN</td>\n",
              "      <td>NaN</td>\n",
              "      <td>NaN</td>\n",
              "      <td>NaN</td>\n",
              "      <td>NaN</td>\n",
              "      <td>NaN</td>\n",
              "      <td>NaN</td>\n",
              "    </tr>\n",
              "    <tr>\n",
              "      <th>...</th>\n",
              "      <td>...</td>\n",
              "      <td>...</td>\n",
              "      <td>...</td>\n",
              "      <td>...</td>\n",
              "      <td>...</td>\n",
              "      <td>...</td>\n",
              "      <td>...</td>\n",
              "      <td>...</td>\n",
              "      <td>...</td>\n",
              "      <td>...</td>\n",
              "      <td>...</td>\n",
              "      <td>...</td>\n",
              "      <td>...</td>\n",
              "      <td>...</td>\n",
              "      <td>...</td>\n",
              "      <td>...</td>\n",
              "      <td>...</td>\n",
              "      <td>...</td>\n",
              "      <td>...</td>\n",
              "      <td>...</td>\n",
              "      <td>...</td>\n",
              "      <td>...</td>\n",
              "      <td>...</td>\n",
              "      <td>...</td>\n",
              "      <td>...</td>\n",
              "      <td>...</td>\n",
              "      <td>...</td>\n",
              "      <td>...</td>\n",
              "      <td>...</td>\n",
              "      <td>...</td>\n",
              "      <td>...</td>\n",
              "      <td>...</td>\n",
              "      <td>...</td>\n",
              "      <td>...</td>\n",
              "      <td>...</td>\n",
              "      <td>...</td>\n",
              "      <td>...</td>\n",
              "      <td>...</td>\n",
              "      <td>...</td>\n",
              "      <td>...</td>\n",
              "      <td>...</td>\n",
              "      <td>...</td>\n",
              "      <td>...</td>\n",
              "      <td>...</td>\n",
              "      <td>...</td>\n",
              "      <td>...</td>\n",
              "      <td>...</td>\n",
              "      <td>...</td>\n",
              "      <td>...</td>\n",
              "      <td>...</td>\n",
              "      <td>...</td>\n",
              "      <td>...</td>\n",
              "      <td>...</td>\n",
              "      <td>...</td>\n",
              "      <td>...</td>\n",
              "      <td>...</td>\n",
              "      <td>...</td>\n",
              "      <td>...</td>\n",
              "      <td>...</td>\n",
              "      <td>...</td>\n",
              "      <td>...</td>\n",
              "      <td>...</td>\n",
              "      <td>...</td>\n",
              "      <td>...</td>\n",
              "      <td>...</td>\n",
              "      <td>...</td>\n",
              "      <td>...</td>\n",
              "      <td>...</td>\n",
              "      <td>...</td>\n",
              "      <td>...</td>\n",
              "      <td>...</td>\n",
              "      <td>...</td>\n",
              "      <td>...</td>\n",
              "      <td>...</td>\n",
              "      <td>...</td>\n",
              "      <td>...</td>\n",
              "      <td>...</td>\n",
              "      <td>...</td>\n",
              "      <td>...</td>\n",
              "      <td>...</td>\n",
              "      <td>...</td>\n",
              "    </tr>\n",
              "    <tr>\n",
              "      <th>588</th>\n",
              "      <td>10/8/2021</td>\n",
              "      <td>17189</td>\n",
              "      <td>68463</td>\n",
              "      <td>NaN</td>\n",
              "      <td>NaN</td>\n",
              "      <td>NaN</td>\n",
              "      <td>NaN</td>\n",
              "      <td>NaN</td>\n",
              "      <td>NaN</td>\n",
              "      <td>NaN</td>\n",
              "      <td>NaN</td>\n",
              "      <td>NaN</td>\n",
              "      <td>NaN</td>\n",
              "      <td>NaN</td>\n",
              "      <td>NaN</td>\n",
              "      <td>NaN</td>\n",
              "      <td>NaN</td>\n",
              "      <td>NaN</td>\n",
              "      <td>NaN</td>\n",
              "      <td>NaN</td>\n",
              "      <td>NaN</td>\n",
              "      <td>NaN</td>\n",
              "      <td>NaN</td>\n",
              "      <td>NaN</td>\n",
              "      <td>NaN</td>\n",
              "      <td>NaN</td>\n",
              "      <td>NaN</td>\n",
              "      <td>NaN</td>\n",
              "      <td>NaN</td>\n",
              "      <td>NaN</td>\n",
              "      <td>NaN</td>\n",
              "      <td>NaN</td>\n",
              "      <td>NaN</td>\n",
              "      <td>NaN</td>\n",
              "      <td>NaN</td>\n",
              "      <td>NaN</td>\n",
              "      <td>NaN</td>\n",
              "      <td>NaN</td>\n",
              "      <td>NaN</td>\n",
              "      <td>NaN</td>\n",
              "      <td>...</td>\n",
              "      <td>NaN</td>\n",
              "      <td>NaN</td>\n",
              "      <td>NaN</td>\n",
              "      <td>NaN</td>\n",
              "      <td>NaN</td>\n",
              "      <td>NaN</td>\n",
              "      <td>NaN</td>\n",
              "      <td>NaN</td>\n",
              "      <td>NaN</td>\n",
              "      <td>NaN</td>\n",
              "      <td>NaN</td>\n",
              "      <td>NaN</td>\n",
              "      <td>NaN</td>\n",
              "      <td>NaN</td>\n",
              "      <td>NaN</td>\n",
              "      <td>NaN</td>\n",
              "      <td>NaN</td>\n",
              "      <td>NaN</td>\n",
              "      <td>NaN</td>\n",
              "      <td>NaN</td>\n",
              "      <td>NaN</td>\n",
              "      <td>NaN</td>\n",
              "      <td>NaN</td>\n",
              "      <td>NaN</td>\n",
              "      <td>NaN</td>\n",
              "      <td>NaN</td>\n",
              "      <td>NaN</td>\n",
              "      <td>NaN</td>\n",
              "      <td>NaN</td>\n",
              "      <td>NaN</td>\n",
              "      <td>NaN</td>\n",
              "      <td>NaN</td>\n",
              "      <td>NaN</td>\n",
              "      <td>NaN</td>\n",
              "      <td>NaN</td>\n",
              "      <td>NaN</td>\n",
              "      <td>NaN</td>\n",
              "      <td>NaN</td>\n",
              "      <td>NaN</td>\n",
              "      <td>NaN</td>\n",
              "    </tr>\n",
              "    <tr>\n",
              "      <th>589</th>\n",
              "      <td>11/8/2021</td>\n",
              "      <td>16328</td>\n",
              "      <td>66851</td>\n",
              "      <td>NaN</td>\n",
              "      <td>NaN</td>\n",
              "      <td>NaN</td>\n",
              "      <td>NaN</td>\n",
              "      <td>NaN</td>\n",
              "      <td>NaN</td>\n",
              "      <td>NaN</td>\n",
              "      <td>NaN</td>\n",
              "      <td>NaN</td>\n",
              "      <td>NaN</td>\n",
              "      <td>NaN</td>\n",
              "      <td>NaN</td>\n",
              "      <td>NaN</td>\n",
              "      <td>NaN</td>\n",
              "      <td>NaN</td>\n",
              "      <td>NaN</td>\n",
              "      <td>NaN</td>\n",
              "      <td>NaN</td>\n",
              "      <td>NaN</td>\n",
              "      <td>NaN</td>\n",
              "      <td>NaN</td>\n",
              "      <td>NaN</td>\n",
              "      <td>NaN</td>\n",
              "      <td>NaN</td>\n",
              "      <td>NaN</td>\n",
              "      <td>NaN</td>\n",
              "      <td>NaN</td>\n",
              "      <td>NaN</td>\n",
              "      <td>NaN</td>\n",
              "      <td>NaN</td>\n",
              "      <td>NaN</td>\n",
              "      <td>NaN</td>\n",
              "      <td>NaN</td>\n",
              "      <td>NaN</td>\n",
              "      <td>NaN</td>\n",
              "      <td>NaN</td>\n",
              "      <td>NaN</td>\n",
              "      <td>...</td>\n",
              "      <td>NaN</td>\n",
              "      <td>NaN</td>\n",
              "      <td>NaN</td>\n",
              "      <td>NaN</td>\n",
              "      <td>NaN</td>\n",
              "      <td>NaN</td>\n",
              "      <td>NaN</td>\n",
              "      <td>NaN</td>\n",
              "      <td>NaN</td>\n",
              "      <td>NaN</td>\n",
              "      <td>NaN</td>\n",
              "      <td>NaN</td>\n",
              "      <td>NaN</td>\n",
              "      <td>NaN</td>\n",
              "      <td>NaN</td>\n",
              "      <td>NaN</td>\n",
              "      <td>NaN</td>\n",
              "      <td>NaN</td>\n",
              "      <td>NaN</td>\n",
              "      <td>NaN</td>\n",
              "      <td>NaN</td>\n",
              "      <td>NaN</td>\n",
              "      <td>NaN</td>\n",
              "      <td>NaN</td>\n",
              "      <td>NaN</td>\n",
              "      <td>NaN</td>\n",
              "      <td>NaN</td>\n",
              "      <td>NaN</td>\n",
              "      <td>NaN</td>\n",
              "      <td>NaN</td>\n",
              "      <td>NaN</td>\n",
              "      <td>NaN</td>\n",
              "      <td>NaN</td>\n",
              "      <td>NaN</td>\n",
              "      <td>NaN</td>\n",
              "      <td>NaN</td>\n",
              "      <td>NaN</td>\n",
              "      <td>NaN</td>\n",
              "      <td>NaN</td>\n",
              "      <td>NaN</td>\n",
              "    </tr>\n",
              "    <tr>\n",
              "      <th>590</th>\n",
              "      <td>12/8/2021</td>\n",
              "      <td>15080</td>\n",
              "      <td>57353</td>\n",
              "      <td>NaN</td>\n",
              "      <td>NaN</td>\n",
              "      <td>NaN</td>\n",
              "      <td>NaN</td>\n",
              "      <td>NaN</td>\n",
              "      <td>NaN</td>\n",
              "      <td>NaN</td>\n",
              "      <td>NaN</td>\n",
              "      <td>NaN</td>\n",
              "      <td>NaN</td>\n",
              "      <td>NaN</td>\n",
              "      <td>NaN</td>\n",
              "      <td>NaN</td>\n",
              "      <td>NaN</td>\n",
              "      <td>NaN</td>\n",
              "      <td>NaN</td>\n",
              "      <td>NaN</td>\n",
              "      <td>NaN</td>\n",
              "      <td>NaN</td>\n",
              "      <td>NaN</td>\n",
              "      <td>NaN</td>\n",
              "      <td>NaN</td>\n",
              "      <td>NaN</td>\n",
              "      <td>NaN</td>\n",
              "      <td>NaN</td>\n",
              "      <td>NaN</td>\n",
              "      <td>NaN</td>\n",
              "      <td>NaN</td>\n",
              "      <td>NaN</td>\n",
              "      <td>NaN</td>\n",
              "      <td>NaN</td>\n",
              "      <td>NaN</td>\n",
              "      <td>NaN</td>\n",
              "      <td>NaN</td>\n",
              "      <td>NaN</td>\n",
              "      <td>NaN</td>\n",
              "      <td>NaN</td>\n",
              "      <td>...</td>\n",
              "      <td>NaN</td>\n",
              "      <td>NaN</td>\n",
              "      <td>NaN</td>\n",
              "      <td>NaN</td>\n",
              "      <td>NaN</td>\n",
              "      <td>NaN</td>\n",
              "      <td>NaN</td>\n",
              "      <td>NaN</td>\n",
              "      <td>NaN</td>\n",
              "      <td>NaN</td>\n",
              "      <td>NaN</td>\n",
              "      <td>NaN</td>\n",
              "      <td>NaN</td>\n",
              "      <td>NaN</td>\n",
              "      <td>NaN</td>\n",
              "      <td>NaN</td>\n",
              "      <td>NaN</td>\n",
              "      <td>NaN</td>\n",
              "      <td>NaN</td>\n",
              "      <td>NaN</td>\n",
              "      <td>NaN</td>\n",
              "      <td>NaN</td>\n",
              "      <td>NaN</td>\n",
              "      <td>NaN</td>\n",
              "      <td>NaN</td>\n",
              "      <td>NaN</td>\n",
              "      <td>NaN</td>\n",
              "      <td>NaN</td>\n",
              "      <td>NaN</td>\n",
              "      <td>NaN</td>\n",
              "      <td>NaN</td>\n",
              "      <td>NaN</td>\n",
              "      <td>NaN</td>\n",
              "      <td>NaN</td>\n",
              "      <td>NaN</td>\n",
              "      <td>NaN</td>\n",
              "      <td>NaN</td>\n",
              "      <td>NaN</td>\n",
              "      <td>NaN</td>\n",
              "      <td>NaN</td>\n",
              "    </tr>\n",
              "    <tr>\n",
              "      <th>591</th>\n",
              "      <td>13/8/2021</td>\n",
              "      <td>12929</td>\n",
              "      <td>52063</td>\n",
              "      <td>NaN</td>\n",
              "      <td>NaN</td>\n",
              "      <td>NaN</td>\n",
              "      <td>NaN</td>\n",
              "      <td>NaN</td>\n",
              "      <td>NaN</td>\n",
              "      <td>NaN</td>\n",
              "      <td>NaN</td>\n",
              "      <td>NaN</td>\n",
              "      <td>NaN</td>\n",
              "      <td>NaN</td>\n",
              "      <td>NaN</td>\n",
              "      <td>NaN</td>\n",
              "      <td>NaN</td>\n",
              "      <td>NaN</td>\n",
              "      <td>NaN</td>\n",
              "      <td>NaN</td>\n",
              "      <td>NaN</td>\n",
              "      <td>NaN</td>\n",
              "      <td>NaN</td>\n",
              "      <td>NaN</td>\n",
              "      <td>NaN</td>\n",
              "      <td>NaN</td>\n",
              "      <td>NaN</td>\n",
              "      <td>NaN</td>\n",
              "      <td>NaN</td>\n",
              "      <td>NaN</td>\n",
              "      <td>NaN</td>\n",
              "      <td>NaN</td>\n",
              "      <td>NaN</td>\n",
              "      <td>NaN</td>\n",
              "      <td>NaN</td>\n",
              "      <td>NaN</td>\n",
              "      <td>NaN</td>\n",
              "      <td>NaN</td>\n",
              "      <td>NaN</td>\n",
              "      <td>NaN</td>\n",
              "      <td>...</td>\n",
              "      <td>NaN</td>\n",
              "      <td>NaN</td>\n",
              "      <td>NaN</td>\n",
              "      <td>NaN</td>\n",
              "      <td>NaN</td>\n",
              "      <td>NaN</td>\n",
              "      <td>NaN</td>\n",
              "      <td>NaN</td>\n",
              "      <td>NaN</td>\n",
              "      <td>NaN</td>\n",
              "      <td>NaN</td>\n",
              "      <td>NaN</td>\n",
              "      <td>NaN</td>\n",
              "      <td>NaN</td>\n",
              "      <td>NaN</td>\n",
              "      <td>NaN</td>\n",
              "      <td>NaN</td>\n",
              "      <td>NaN</td>\n",
              "      <td>NaN</td>\n",
              "      <td>NaN</td>\n",
              "      <td>NaN</td>\n",
              "      <td>NaN</td>\n",
              "      <td>NaN</td>\n",
              "      <td>NaN</td>\n",
              "      <td>NaN</td>\n",
              "      <td>NaN</td>\n",
              "      <td>NaN</td>\n",
              "      <td>NaN</td>\n",
              "      <td>NaN</td>\n",
              "      <td>NaN</td>\n",
              "      <td>NaN</td>\n",
              "      <td>NaN</td>\n",
              "      <td>NaN</td>\n",
              "      <td>NaN</td>\n",
              "      <td>NaN</td>\n",
              "      <td>NaN</td>\n",
              "      <td>NaN</td>\n",
              "      <td>NaN</td>\n",
              "      <td>NaN</td>\n",
              "      <td>NaN</td>\n",
              "    </tr>\n",
              "    <tr>\n",
              "      <th>592</th>\n",
              "      <td>14/8/2021</td>\n",
              "      <td>14557</td>\n",
              "      <td>58471</td>\n",
              "      <td>NaN</td>\n",
              "      <td>NaN</td>\n",
              "      <td>NaN</td>\n",
              "      <td>NaN</td>\n",
              "      <td>NaN</td>\n",
              "      <td>NaN</td>\n",
              "      <td>NaN</td>\n",
              "      <td>NaN</td>\n",
              "      <td>NaN</td>\n",
              "      <td>NaN</td>\n",
              "      <td>NaN</td>\n",
              "      <td>NaN</td>\n",
              "      <td>NaN</td>\n",
              "      <td>NaN</td>\n",
              "      <td>NaN</td>\n",
              "      <td>NaN</td>\n",
              "      <td>NaN</td>\n",
              "      <td>NaN</td>\n",
              "      <td>NaN</td>\n",
              "      <td>NaN</td>\n",
              "      <td>NaN</td>\n",
              "      <td>NaN</td>\n",
              "      <td>NaN</td>\n",
              "      <td>NaN</td>\n",
              "      <td>NaN</td>\n",
              "      <td>NaN</td>\n",
              "      <td>NaN</td>\n",
              "      <td>NaN</td>\n",
              "      <td>NaN</td>\n",
              "      <td>NaN</td>\n",
              "      <td>NaN</td>\n",
              "      <td>NaN</td>\n",
              "      <td>NaN</td>\n",
              "      <td>NaN</td>\n",
              "      <td>NaN</td>\n",
              "      <td>NaN</td>\n",
              "      <td>NaN</td>\n",
              "      <td>...</td>\n",
              "      <td>NaN</td>\n",
              "      <td>NaN</td>\n",
              "      <td>NaN</td>\n",
              "      <td>NaN</td>\n",
              "      <td>NaN</td>\n",
              "      <td>NaN</td>\n",
              "      <td>NaN</td>\n",
              "      <td>NaN</td>\n",
              "      <td>NaN</td>\n",
              "      <td>NaN</td>\n",
              "      <td>NaN</td>\n",
              "      <td>NaN</td>\n",
              "      <td>NaN</td>\n",
              "      <td>NaN</td>\n",
              "      <td>NaN</td>\n",
              "      <td>NaN</td>\n",
              "      <td>NaN</td>\n",
              "      <td>NaN</td>\n",
              "      <td>NaN</td>\n",
              "      <td>NaN</td>\n",
              "      <td>NaN</td>\n",
              "      <td>NaN</td>\n",
              "      <td>NaN</td>\n",
              "      <td>NaN</td>\n",
              "      <td>NaN</td>\n",
              "      <td>NaN</td>\n",
              "      <td>NaN</td>\n",
              "      <td>NaN</td>\n",
              "      <td>NaN</td>\n",
              "      <td>NaN</td>\n",
              "      <td>NaN</td>\n",
              "      <td>NaN</td>\n",
              "      <td>NaN</td>\n",
              "      <td>NaN</td>\n",
              "      <td>NaN</td>\n",
              "      <td>NaN</td>\n",
              "      <td>NaN</td>\n",
              "      <td>NaN</td>\n",
              "      <td>NaN</td>\n",
              "      <td>NaN</td>\n",
              "    </tr>\n",
              "  </tbody>\n",
              "</table>\n",
              "<p>593 rows × 122 columns</p>\n",
              "</div>"
            ],
            "text/plain": [
              "                    Date  positive  ...  Unnamed: 120  Unnamed: 121\n",
              "0    Cannot specify date      2963  ...           NaN           NaN\n",
              "1               1/1/2020         0  ...            31           NaN\n",
              "2               2/1/2020         0  ...           Pos           Pos\n",
              "3               3/1/2020         0  ...           NaN           NaN\n",
              "4               4/1/2020         0  ...           NaN           NaN\n",
              "..                   ...       ...  ...           ...           ...\n",
              "588            10/8/2021     17189  ...           NaN           NaN\n",
              "589            11/8/2021     16328  ...           NaN           NaN\n",
              "590            12/8/2021     15080  ...           NaN           NaN\n",
              "591            13/8/2021     12929  ...           NaN           NaN\n",
              "592            14/8/2021     14557  ...           NaN           NaN\n",
              "\n",
              "[593 rows x 122 columns]"
            ]
          },
          "metadata": {
            "tags": []
          },
          "execution_count": 5
        }
      ]
    },
    {
      "cell_type": "code",
      "metadata": {
        "colab": {
          "base_uri": "https://localhost:8080/",
          "height": 417
        },
        "id": "-UZmToZACnL5",
        "outputId": "0f834f48-5c61-4bc0-f03e-5ffcbbd15a5e"
      },
      "source": [
        "data = data_covid.iloc[1:,:3]\n",
        "data"
      ],
      "execution_count": 6,
      "outputs": [
        {
          "output_type": "execute_result",
          "data": {
            "text/html": [
              "<div>\n",
              "<style scoped>\n",
              "    .dataframe tbody tr th:only-of-type {\n",
              "        vertical-align: middle;\n",
              "    }\n",
              "\n",
              "    .dataframe tbody tr th {\n",
              "        vertical-align: top;\n",
              "    }\n",
              "\n",
              "    .dataframe thead th {\n",
              "        text-align: right;\n",
              "    }\n",
              "</style>\n",
              "<table border=\"1\" class=\"dataframe\">\n",
              "  <thead>\n",
              "    <tr style=\"text-align: right;\">\n",
              "      <th></th>\n",
              "      <th>Date</th>\n",
              "      <th>positive</th>\n",
              "      <th>Total Testing</th>\n",
              "    </tr>\n",
              "  </thead>\n",
              "  <tbody>\n",
              "    <tr>\n",
              "      <th>1</th>\n",
              "      <td>1/1/2020</td>\n",
              "      <td>0</td>\n",
              "      <td>0</td>\n",
              "    </tr>\n",
              "    <tr>\n",
              "      <th>2</th>\n",
              "      <td>2/1/2020</td>\n",
              "      <td>0</td>\n",
              "      <td>0</td>\n",
              "    </tr>\n",
              "    <tr>\n",
              "      <th>3</th>\n",
              "      <td>3/1/2020</td>\n",
              "      <td>0</td>\n",
              "      <td>0</td>\n",
              "    </tr>\n",
              "    <tr>\n",
              "      <th>4</th>\n",
              "      <td>4/1/2020</td>\n",
              "      <td>0</td>\n",
              "      <td>2</td>\n",
              "    </tr>\n",
              "    <tr>\n",
              "      <th>5</th>\n",
              "      <td>5/1/2020</td>\n",
              "      <td>0</td>\n",
              "      <td>2</td>\n",
              "    </tr>\n",
              "    <tr>\n",
              "      <th>...</th>\n",
              "      <td>...</td>\n",
              "      <td>...</td>\n",
              "      <td>...</td>\n",
              "    </tr>\n",
              "    <tr>\n",
              "      <th>588</th>\n",
              "      <td>10/8/2021</td>\n",
              "      <td>17189</td>\n",
              "      <td>68463</td>\n",
              "    </tr>\n",
              "    <tr>\n",
              "      <th>589</th>\n",
              "      <td>11/8/2021</td>\n",
              "      <td>16328</td>\n",
              "      <td>66851</td>\n",
              "    </tr>\n",
              "    <tr>\n",
              "      <th>590</th>\n",
              "      <td>12/8/2021</td>\n",
              "      <td>15080</td>\n",
              "      <td>57353</td>\n",
              "    </tr>\n",
              "    <tr>\n",
              "      <th>591</th>\n",
              "      <td>13/8/2021</td>\n",
              "      <td>12929</td>\n",
              "      <td>52063</td>\n",
              "    </tr>\n",
              "    <tr>\n",
              "      <th>592</th>\n",
              "      <td>14/8/2021</td>\n",
              "      <td>14557</td>\n",
              "      <td>58471</td>\n",
              "    </tr>\n",
              "  </tbody>\n",
              "</table>\n",
              "<p>592 rows × 3 columns</p>\n",
              "</div>"
            ],
            "text/plain": [
              "          Date  positive  Total Testing\n",
              "1     1/1/2020         0              0\n",
              "2     2/1/2020         0              0\n",
              "3     3/1/2020         0              0\n",
              "4     4/1/2020         0              2\n",
              "5     5/1/2020         0              2\n",
              "..         ...       ...            ...\n",
              "588  10/8/2021     17189          68463\n",
              "589  11/8/2021     16328          66851\n",
              "590  12/8/2021     15080          57353\n",
              "591  13/8/2021     12929          52063\n",
              "592  14/8/2021     14557          58471\n",
              "\n",
              "[592 rows x 3 columns]"
            ]
          },
          "metadata": {
            "tags": []
          },
          "execution_count": 6
        }
      ]
    },
    {
      "cell_type": "markdown",
      "metadata": {
        "id": "j9p8RL6ADYEb"
      },
      "source": [
        "#Visualization\n",
        "\n",
        "\n",
        "*   Box plot\n",
        "*   Scatter plot\n",
        "*   Plot\n",
        "*   Bar chart\n",
        "*   Histogram\n"
      ]
    },
    {
      "cell_type": "code",
      "metadata": {
        "id": "XImYBv4JCuyY"
      },
      "source": [
        "from matplotlib import pyplot as plt"
      ],
      "execution_count": 7,
      "outputs": []
    },
    {
      "cell_type": "markdown",
      "metadata": {
        "id": "BFTFf87HD8Dh"
      },
      "source": [
        "### Scatter plot"
      ]
    },
    {
      "cell_type": "markdown",
      "metadata": {
        "id": "rTbsfBOMPrIJ"
      },
      "source": [
        "https://matplotlib.org/stable/api/_as_gen/matplotlib.pyplot.scatter.html"
      ]
    },
    {
      "cell_type": "code",
      "metadata": {
        "colab": {
          "base_uri": "https://localhost:8080/"
        },
        "id": "2JD77LrnPvuu",
        "outputId": "18a19687-d39d-4737-8a08-ce7cae0a19a2"
      },
      "source": [
        "list(range(len(data.iloc[-20:,1])))"
      ],
      "execution_count": 20,
      "outputs": [
        {
          "output_type": "execute_result",
          "data": {
            "text/plain": [
              "[0, 1, 2, 3, 4, 5, 6, 7, 8, 9, 10, 11, 12, 13, 14, 15, 16, 17, 18, 19]"
            ]
          },
          "metadata": {
            "tags": []
          },
          "execution_count": 20
        }
      ]
    },
    {
      "cell_type": "code",
      "metadata": {
        "colab": {
          "base_uri": "https://localhost:8080/"
        },
        "id": "rmlPBqxePyon",
        "outputId": "68721a7f-8d91-40f9-ead8-7f57bfdfa395"
      },
      "source": [
        "data.iloc[-20:,1]"
      ],
      "execution_count": 21,
      "outputs": [
        {
          "output_type": "execute_result",
          "data": {
            "text/plain": [
              "573    13575\n",
              "574    12744\n",
              "575    14303\n",
              "576    16797\n",
              "577    15283\n",
              "578    14161\n",
              "579    13214\n",
              "580    13845\n",
              "581    18316\n",
              "582    17863\n",
              "583    16632\n",
              "584    12278\n",
              "585    13781\n",
              "586    13028\n",
              "587    14064\n",
              "588    17189\n",
              "589    16328\n",
              "590    15080\n",
              "591    12929\n",
              "592    14557\n",
              "Name: positive, dtype: int64"
            ]
          },
          "metadata": {
            "tags": []
          },
          "execution_count": 21
        }
      ]
    },
    {
      "cell_type": "code",
      "metadata": {
        "colab": {
          "base_uri": "https://localhost:8080/",
          "height": 282
        },
        "id": "A6K1aJsSEBFh",
        "outputId": "070f9da8-c83f-4331-b26d-9b0b4c8ee151"
      },
      "source": [
        "plt.scatter(range(len(data.iloc[-20:,1])),data.iloc[-20:,1]) ## ใช้ค่า default"
      ],
      "execution_count": 22,
      "outputs": [
        {
          "output_type": "execute_result",
          "data": {
            "text/plain": [
              "<matplotlib.collections.PathCollection at 0x7f0979c1b9d0>"
            ]
          },
          "metadata": {
            "tags": []
          },
          "execution_count": 22
        },
        {
          "output_type": "display_data",
          "data": {
            "image/png": "[encoded data removed]",
            "text/plain": [
              "<Figure size 432x288 with 1 Axes>"
            ]
          },
          "metadata": {
            "tags": [],
            "needs_background": "light"
          }
        }
      ]
    },
    {
      "cell_type": "code",
      "metadata": {
        "colab": {
          "base_uri": "https://localhost:8080/",
          "height": 282
        },
        "id": "STY8T06vEtFJ",
        "outputId": "2d627407-0880-4ef4-9585-7600bfcb899c"
      },
      "source": [
        "plt.scatter(range(len(data.iloc[-20:,1])),data.iloc[-20:,1],s=100) # กำหนดขนาด size ของวงกลมได้"
      ],
      "execution_count": 23,
      "outputs": [
        {
          "output_type": "execute_result",
          "data": {
            "text/plain": [
              "<matplotlib.collections.PathCollection at 0x7f0979b92850>"
            ]
          },
          "metadata": {
            "tags": []
          },
          "execution_count": 23
        },
        {
          "output_type": "display_data",
          "data": {
            "image/png": "[encoded data removed]",
            "text/plain": [
              "<Figure size 432x288 with 1 Axes>"
            ]
          },
          "metadata": {
            "tags": [],
            "needs_background": "light"
          }
        }
      ]
    },
    {
      "cell_type": "code",
      "metadata": {
        "colab": {
          "base_uri": "https://localhost:8080/",
          "height": 282
        },
        "id": "EQYpRI2ZFoZ4",
        "outputId": "88345b45-9157-49aa-ed4f-0391a8c96672"
      },
      "source": [
        "plt.scatter(range(len(data.iloc[::50,1])),data.iloc[::50,1],s=0.03*data.iloc[::50,2])"
      ],
      "execution_count": 24,
      "outputs": [
        {
          "output_type": "execute_result",
          "data": {
            "text/plain": [
              "<matplotlib.collections.PathCollection at 0x7f0979b007d0>"
            ]
          },
          "metadata": {
            "tags": []
          },
          "execution_count": 24
        },
        {
          "output_type": "display_data",
          "data": {
            "image/png": "[encoded data removed]",
            "text/plain": [
              "<Figure size 432x288 with 1 Axes>"
            ]
          },
          "metadata": {
            "tags": [],
            "needs_background": "light"
          }
        }
      ]
    },
    {
      "cell_type": "code",
      "metadata": {
        "colab": {
          "base_uri": "https://localhost:8080/",
          "height": 282
        },
        "id": "X02PhN7LQDKw",
        "outputId": "179fe897-6483-4d51-dc80-ab4b4a20e6c0"
      },
      "source": [
        "plt.scatter(range(len(data.iloc[::50,1])),data.iloc[::50,1],s=0.03*data.iloc[::50,2],c='r') ## colors : r g b c m y k w"
      ],
      "execution_count": 25,
      "outputs": [
        {
          "output_type": "execute_result",
          "data": {
            "text/plain": [
              "<matplotlib.collections.PathCollection at 0x7f097a9f3250>"
            ]
          },
          "metadata": {
            "tags": []
          },
          "execution_count": 25
        },
        {
          "output_type": "display_data",
          "data": {
            "image/png": "[encoded data removed]",
            "text/plain": [
              "<Figure size 432x288 with 1 Axes>"
            ]
          },
          "metadata": {
            "tags": [],
            "needs_background": "light"
          }
        }
      ]
    },
    {
      "cell_type": "code",
      "metadata": {
        "colab": {
          "base_uri": "https://localhost:8080/",
          "height": 282
        },
        "id": "gLr2h09KIMK5",
        "outputId": "0eb25678-6f01-43a6-cacc-1a43a490bc00"
      },
      "source": [
        "plt.scatter(range(len(data.iloc[::50,1])),data.iloc[::50,1],s=0.03*data.iloc[::50,2],c=['r','r','y','b','g','m','r','r','y','b','g','m']) ## colors : r g b c m y k w"
      ],
      "execution_count": 26,
      "outputs": [
        {
          "output_type": "execute_result",
          "data": {
            "text/plain": [
              "<matplotlib.collections.PathCollection at 0x7f0979c056d0>"
            ]
          },
          "metadata": {
            "tags": []
          },
          "execution_count": 26
        },
        {
          "output_type": "display_data",
          "data": {
            "image/png": "[encoded data removed]",
            "text/plain": [
              "<Figure size 432x288 with 1 Axes>"
            ]
          },
          "metadata": {
            "tags": [],
            "needs_background": "light"
          }
        }
      ]
    },
    {
      "cell_type": "code",
      "metadata": {
        "colab": {
          "base_uri": "https://localhost:8080/",
          "height": 282
        },
        "id": "E2AGqWpMIlts",
        "outputId": "1fbe7a22-ccc2-4419-d15e-0ba090ed86eb"
      },
      "source": [
        "plt.scatter(range(len(data.iloc[::50,1])),data.iloc[::50,1],s=0.03*data.iloc[::50,2],c=[[1.,0.5,0]]) ## rgb [[r,g,b]] r,g,b = [0-1]"
      ],
      "execution_count": 27,
      "outputs": [
        {
          "output_type": "execute_result",
          "data": {
            "text/plain": [
              "<matplotlib.collections.PathCollection at 0x7f0979d52510>"
            ]
          },
          "metadata": {
            "tags": []
          },
          "execution_count": 27
        },
        {
          "output_type": "display_data",
          "data": {
            "image/png": "[encoded data removed]",
            "text/plain": [
              "<Figure size 432x288 with 1 Axes>"
            ]
          },
          "metadata": {
            "tags": [],
            "needs_background": "light"
          }
        }
      ]
    },
    {
      "cell_type": "code",
      "metadata": {
        "colab": {
          "base_uri": "https://localhost:8080/",
          "height": 282
        },
        "id": "ioZEzxKBQQY0",
        "outputId": "1b058492-29b2-444d-d97d-c9925dda4df3"
      },
      "source": [
        "plt.scatter(range(len(data.iloc[::50,1])),data.iloc[::50,1],s=0.03*data.iloc[::50,2],c=[[1.,0.2,0]]) ## rgb"
      ],
      "execution_count": 28,
      "outputs": [
        {
          "output_type": "execute_result",
          "data": {
            "text/plain": [
              "<matplotlib.collections.PathCollection at 0x7f0979a75e90>"
            ]
          },
          "metadata": {
            "tags": []
          },
          "execution_count": 28
        },
        {
          "output_type": "display_data",
          "data": {
            "image/png": "[encoded data removed]",
            "text/plain": [
              "<Figure size 432x288 with 1 Axes>"
            ]
          },
          "metadata": {
            "tags": [],
            "needs_background": "light"
          }
        }
      ]
    },
    {
      "cell_type": "code",
      "metadata": {
        "colab": {
          "base_uri": "https://localhost:8080/",
          "height": 282
        },
        "id": "pj_oDRvpI12y",
        "outputId": "bc813842-4c56-4c94-c54b-dd2f21e89b15"
      },
      "source": [
        "plt.scatter(range(len(data.iloc[::50,1])),data.iloc[::50,1],s=300,c=0.03*data.iloc[::50,2]) ## ใช้ค่าตัวเลข"
      ],
      "execution_count": 29,
      "outputs": [
        {
          "output_type": "execute_result",
          "data": {
            "text/plain": [
              "<matplotlib.collections.PathCollection at 0x7f09799dbf50>"
            ]
          },
          "metadata": {
            "tags": []
          },
          "execution_count": 29
        },
        {
          "output_type": "display_data",
          "data": {
            "image/png": "[encoded data removed]",
            "text/plain": [
              "<Figure size 432x288 with 1 Axes>"
            ]
          },
          "metadata": {
            "tags": [],
            "needs_background": "light"
          }
        }
      ]
    },
    {
      "cell_type": "markdown",
      "metadata": {
        "id": "TG20sO7mQW-n"
      },
      "source": [
        "\n",
        "cmap https://matplotlib.org/stable/tutorials/colors/colormaps.html"
      ]
    },
    {
      "cell_type": "code",
      "metadata": {
        "colab": {
          "base_uri": "https://localhost:8080/",
          "height": 282
        },
        "id": "pMIA7bGVK1MJ",
        "outputId": "64505f49-0018-414f-dce2-fa08c3c1701c"
      },
      "source": [
        "plt.scatter(range(len(data.iloc[::50,1])),data.iloc[::50,1],s=300,c=0.03*data.iloc[::50,2],cmap='YlOrRd') ## ใช้ค่าตัวเลข + cmap"
      ],
      "execution_count": 30,
      "outputs": [
        {
          "output_type": "execute_result",
          "data": {
            "text/plain": [
              "<matplotlib.collections.PathCollection at 0x7f0979950650>"
            ]
          },
          "metadata": {
            "tags": []
          },
          "execution_count": 30
        },
        {
          "output_type": "display_data",
          "data": {
            "image/png": "[encoded data removed]",
            "text/plain": [
              "<Figure size 432x288 with 1 Axes>"
            ]
          },
          "metadata": {
            "tags": [],
            "needs_background": "light"
          }
        }
      ]
    },
    {
      "cell_type": "code",
      "metadata": {
        "colab": {
          "base_uri": "https://localhost:8080/",
          "height": 282
        },
        "id": "5RkV1UPdMBQA",
        "outputId": "5370c4b3-83f1-4802-976c-4819e8536bfb"
      },
      "source": [
        "plt.scatter(range(len(data.iloc[::50,1])),data.iloc[::50,1],s=300,c=0.03*data.iloc[::50,2],cmap='YlOrRd',marker='d') ## หน้าตา marker"
      ],
      "execution_count": 31,
      "outputs": [
        {
          "output_type": "execute_result",
          "data": {
            "text/plain": [
              "<matplotlib.collections.PathCollection at 0x7f09799163d0>"
            ]
          },
          "metadata": {
            "tags": []
          },
          "execution_count": 31
        },
        {
          "output_type": "display_data",
          "data": {
            "image/png": "[encoded data removed]",
            "text/plain": [
              "<Figure size 432x288 with 1 Axes>"
            ]
          },
          "metadata": {
            "tags": [],
            "needs_background": "light"
          }
        }
      ]
    },
    {
      "cell_type": "code",
      "metadata": {
        "colab": {
          "base_uri": "https://localhost:8080/",
          "height": 282
        },
        "id": "KHLqurhQQeCS",
        "outputId": "7066e6eb-f029-4147-e6ce-3f7c659f1ce7"
      },
      "source": [
        "plt.scatter(range(len(data.iloc[::50,1])),data.iloc[::50,1],s=300,c=0.03*data.iloc[::50,2],cmap='YlOrRd',marker='$z$') ## หน้าตา marker แบบกำหนดเอง"
      ],
      "execution_count": 32,
      "outputs": [
        {
          "output_type": "execute_result",
          "data": {
            "text/plain": [
              "<matplotlib.collections.PathCollection at 0x7f097989b110>"
            ]
          },
          "metadata": {
            "tags": []
          },
          "execution_count": 32
        },
        {
          "output_type": "display_data",
          "data": {
            "image/png": "[encoded data removed]",
            "text/plain": [
              "<Figure size 432x288 with 1 Axes>"
            ]
          },
          "metadata": {
            "tags": [],
            "needs_background": "light"
          }
        }
      ]
    },
    {
      "cell_type": "code",
      "metadata": {
        "colab": {
          "base_uri": "https://localhost:8080/",
          "height": 282
        },
        "id": "DkL67IYuQgvn",
        "outputId": "ca7c56be-4d88-4775-f725-a6b595d96873"
      },
      "source": [
        "plt.scatter(range(len(data.iloc[::50,1])),data.iloc[::50,1],s=5500,c=[[1.,0.5,0]],alpha =0.5) ## กำหนดความโปร่งแสง"
      ],
      "execution_count": 33,
      "outputs": [
        {
          "output_type": "execute_result",
          "data": {
            "text/plain": [
              "<matplotlib.collections.PathCollection at 0x7f0979779ad0>"
            ]
          },
          "metadata": {
            "tags": []
          },
          "execution_count": 33
        },
        {
          "output_type": "display_data",
          "data": {
            "image/png": "[encoded data removed]",
            "text/plain": [
              "<Figure size 432x288 with 1 Axes>"
            ]
          },
          "metadata": {
            "tags": [],
            "needs_background": "light"
          }
        }
      ]
    },
    {
      "cell_type": "markdown",
      "metadata": {
        "id": "faAdWuEcQnBY"
      },
      "source": [
        "## Plot"
      ]
    },
    {
      "cell_type": "code",
      "metadata": {
        "colab": {
          "base_uri": "https://localhost:8080/",
          "height": 282
        },
        "id": "_TzXb2ATQmMA",
        "outputId": "1bb2ddb9-866a-4309-f7a6-b8bbfeec2298"
      },
      "source": [
        "plt.plot(range(len(data.iloc[::50,1])),data.iloc[::50,1],'P')"
      ],
      "execution_count": 34,
      "outputs": [
        {
          "output_type": "execute_result",
          "data": {
            "text/plain": [
              "[<matplotlib.lines.Line2D at 0x7f097974bed0>]"
            ]
          },
          "metadata": {
            "tags": []
          },
          "execution_count": 34
        },
        {
          "output_type": "display_data",
          "data": {
            "image/png": "[encoded data removed]",
            "text/plain": [
              "<Figure size 432x288 with 1 Axes>"
            ]
          },
          "metadata": {
            "tags": [],
            "needs_background": "light"
          }
        }
      ]
    },
    {
      "cell_type": "code",
      "metadata": {
        "colab": {
          "base_uri": "https://localhost:8080/",
          "height": 282
        },
        "id": "PBgUwqNLQ1yK",
        "outputId": "95a36051-32d3-4ac9-8395-1cdaebc8a0c1"
      },
      "source": [
        "plt.plot(range(len(data.iloc[::50,1])),data.iloc[::50,1],'P:m')"
      ],
      "execution_count": 36,
      "outputs": [
        {
          "output_type": "execute_result",
          "data": {
            "text/plain": [
              "[<matplotlib.lines.Line2D at 0x7f097969b410>]"
            ]
          },
          "metadata": {
            "tags": []
          },
          "execution_count": 36
        },
        {
          "output_type": "display_data",
          "data": {
            "image/png": "[encoded data removed]",
            "text/plain": [
              "<Figure size 432x288 with 1 Axes>"
            ]
          },
          "metadata": {
            "tags": [],
            "needs_background": "light"
          }
        }
      ]
    },
    {
      "cell_type": "markdown",
      "metadata": {
        "id": "t9a_SZoBRMJk"
      },
      "source": [
        "**Quiz กลุ่ม** วาดกราฟที่มี marker เป็นสี่เหลี่ยมจัตุรัส เส้นเป็นเส้นประสลับจุดไข่ปลา สีฟ้าอ่อน "
      ]
    },
    {
      "cell_type": "markdown",
      "metadata": {
        "id": "hkENbioMRWW-"
      },
      "source": [
        "![image.png](data:image/png;base64,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)"
      ]
    },
    {
      "cell_type": "code",
      "metadata": {
        "colab": {
          "base_uri": "https://localhost:8080/",
          "height": 282
        },
        "id": "5aJtKbXOQ6bt",
        "outputId": "dcfc7013-dcb8-42c5-f960-758a9db11409"
      },
      "source": [
        "plt.plot(range(len(data.iloc[::50,1])),data.iloc[::50,1],'s-.c')"
      ],
      "execution_count": 42,
      "outputs": [
        {
          "output_type": "execute_result",
          "data": {
            "text/plain": [
              "[<matplotlib.lines.Line2D at 0x7f09794e3050>]"
            ]
          },
          "metadata": {
            "tags": []
          },
          "execution_count": 42
        },
        {
          "output_type": "display_data",
          "data": {
            "image/png": "[encoded data removed]",
            "text/plain": [
              "<Figure size 432x288 with 1 Axes>"
            ]
          },
          "metadata": {
            "tags": [],
            "needs_background": "light"
          }
        }
      ]
    },
    {
      "cell_type": "code",
      "metadata": {
        "id": "W2XV2cWPSO2U"
      },
      "source": [
        ""
      ],
      "execution_count": null,
      "outputs": []
    }
  ]
}