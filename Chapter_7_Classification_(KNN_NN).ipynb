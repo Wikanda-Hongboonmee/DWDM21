{
  "nbformat": 4,
  "nbformat_minor": 0,
  "metadata": {
    "colab": {
      "name": "Chapter 7 Classification (KNN-NN).ipynb",
      "provenance": [],
      "authorship_tag": "ABX9TyOTSKlw8hSj4dr51nml2UYu",
      "include_colab_link": true
    },
    "kernelspec": {
      "name": "python3",
      "display_name": "Python 3"
    },
    "language_info": {
      "name": "python"
    }
  },
  "cells": [
    {
      "cell_type": "markdown",
      "metadata": {
        "id": "view-in-github",
        "colab_type": "text"
      },
      "source": [
        "<a href=\"https://colab.research.google.com/github/Wikanda-Hongboonmee/DWDM21/blob/main/Chapter_7_Classification_(KNN_NN).ipynb\" target=\"_parent\"><img src=\"https://colab.research.google.com/assets/colab-badge.svg\" alt=\"Open In Colab\"/></a>"
      ]
    },
    {
      "cell_type": "markdown",
      "metadata": {
        "id": "DDOjduPTUdOw"
      },
      "source": [
        "# **Load Data**"
      ]
    },
    {
      "cell_type": "code",
      "metadata": {
        "id": "xaPX2CUXTzJv"
      },
      "source": [
        "from sklearn import datasets"
      ],
      "execution_count": 14,
      "outputs": []
    },
    {
      "cell_type": "code",
      "metadata": {
        "id": "URkEjh20UUYe"
      },
      "source": [
        "digit_data = datasets.load_digits()"
      ],
      "execution_count": 15,
      "outputs": []
    },
    {
      "cell_type": "code",
      "metadata": {
        "id": "rVYMsBmXUMFj"
      },
      "source": [
        "X = digit_data['data'] # feature\n",
        "y = digit_data['target'] # labels"
      ],
      "execution_count": 16,
      "outputs": []
    },
    {
      "cell_type": "markdown",
      "metadata": {
        "id": "0RnB1i6mUgP6"
      },
      "source": [
        "# **Split Data**"
      ]
    },
    {
      "cell_type": "code",
      "metadata": {
        "id": "83wE_2uKUcfs"
      },
      "source": [
        "from sklearn.model_selection import train_test_split\n",
        "\n",
        "# Train-Test\n",
        "X_train, X_test, y_train, y_test = train_test_split(X, y, test_size=0.5, random_state=6)\n",
        "\n",
        "# Train-validation\n",
        "X_train2, X_val, y_train2, y_val = train_test_split(X_train, y_train, test_size=0.3, random_state=6)"
      ],
      "execution_count": 17,
      "outputs": []
    },
    {
      "cell_type": "markdown",
      "metadata": {
        "id": "YwgY1FtoXNCz"
      },
      "source": [
        "## Train Model"
      ]
    },
    {
      "cell_type": "markdown",
      "metadata": {
        "id": "5H4Cj65iXR12"
      },
      "source": [
        "### **Import**"
      ]
    },
    {
      "cell_type": "code",
      "metadata": {
        "id": "H2CQvS7KXI4e"
      },
      "source": [
        "from sklearn.neighbors import KNeighborsClassifier\n",
        "from sklearn.metrics import accuracy_score"
      ],
      "execution_count": 18,
      "outputs": []
    },
    {
      "cell_type": "markdown",
      "metadata": {
        "id": "L5tYNZvnXbbr"
      },
      "source": [
        "### **KNN1**"
      ]
    },
    {
      "cell_type": "code",
      "metadata": {
        "colab": {
          "base_uri": "https://localhost:8080/"
        },
        "id": "eE2lkOLkXewD",
        "outputId": "786524d9-f9be-4d8d-8c6d-75b18d986c1c"
      },
      "source": [
        "# Define\n",
        "neigh1 = KNeighborsClassifier(n_neighbors=3, weights='uniform') # ถามเพื่อนบ้านที่ใกล้สุด 3 คนและเชื่อทุกๆคนเท่ากัน\n",
        "#Train\n",
        "neigh1.fit(X_train2,y_train2)\n",
        "#Test\n",
        "KNN1_result = neigh1.predict(X_val)\n",
        "accuracy_score(y_val, KNN1_result) "
      ],
      "execution_count": 19,
      "outputs": [
        {
          "output_type": "execute_result",
          "data": {
            "text/plain": [
              "0.9703703703703703"
            ]
          },
          "metadata": {},
          "execution_count": 19
        }
      ]
    },
    {
      "cell_type": "markdown",
      "metadata": {
        "id": "u_5bvF_EZAgp"
      },
      "source": [
        "### **KNN2**"
      ]
    },
    {
      "cell_type": "code",
      "metadata": {
        "colab": {
          "base_uri": "https://localhost:8080/"
        },
        "id": "JsLw25Z5XnMR",
        "outputId": "1ae40587-5403-435b-9d90-361ed2258c1f"
      },
      "source": [
        "# Define\n",
        "neigh2 = KNeighborsClassifier(n_neighbors=10, weights='distance') # ถามเพื่อนบ้าน 10 คน และเชื่อเพื่อนบ้านที่ใกล้ที่สุดมากกว่าเพื่อนบ้านที่ไกล\n",
        "#Train\n",
        "neigh2.fit(X_train2,y_train2)\n",
        "#Test\n",
        "KNN2_result = neigh2.predict(X_val)\n",
        "accuracy_score(y_val, KNN2_result) "
      ],
      "execution_count": 20,
      "outputs": [
        {
          "output_type": "execute_result",
          "data": {
            "text/plain": [
              "0.9703703703703703"
            ]
          },
          "metadata": {},
          "execution_count": 20
        }
      ]
    },
    {
      "cell_type": "markdown",
      "metadata": {
        "id": "HnHEt6X9ZJBE"
      },
      "source": [
        "### **KNN3**"
      ]
    },
    {
      "cell_type": "code",
      "metadata": {
        "colab": {
          "base_uri": "https://localhost:8080/"
        },
        "id": "tlSEKD1gYwQ7",
        "outputId": "8e8aa2e3-d48a-4b8b-8a75-eeb68fb986f3"
      },
      "source": [
        "# Define\n",
        "neigh3 = KNeighborsClassifier(n_neighbors=1) # เลือกเพื่อนบ้านที่ใกล้ที่สุดแค่คนเดียว\n",
        "#Train\n",
        "neigh3.fit(X_train2,y_train2)\n",
        "#Test\n",
        "KNN3_result = neigh3.predict(X_val)\n",
        "accuracy_score(y_val, KNN3_result)"
      ],
      "execution_count": 21,
      "outputs": [
        {
          "output_type": "execute_result",
          "data": {
            "text/plain": [
              "0.9777777777777777"
            ]
          },
          "metadata": {},
          "execution_count": 21
        }
      ]
    },
    {
      "cell_type": "markdown",
      "metadata": {
        "id": "wAUwdgl3ZQqv"
      },
      "source": [
        "### **Retain & Evaluate**"
      ]
    },
    {
      "cell_type": "code",
      "metadata": {
        "colab": {
          "base_uri": "https://localhost:8080/"
        },
        "id": "66q9D2zFZP4d",
        "outputId": "c146e52f-b641-4329-9a1f-cf5f1072b76a"
      },
      "source": [
        "# Define\n",
        "neigh3_final = KNeighborsClassifier(n_neighbors=1) \n",
        "# Train\n",
        "neigh3_final.fit(X_train,y_train)\n",
        "# Evaluation\n",
        "KNN3final_result = neigh3_final.predict(X_test)\n",
        "accuracy_score(y_test, KNN3final_result)"
      ],
      "execution_count": 22,
      "outputs": [
        {
          "output_type": "execute_result",
          "data": {
            "text/plain": [
              "0.982202447163515"
            ]
          },
          "metadata": {},
          "execution_count": 22
        }
      ]
    },
    {
      "cell_type": "markdown",
      "metadata": {
        "id": "iCr6DZ-7bbXr"
      },
      "source": [
        "# Neural Network"
      ]
    },
    {
      "cell_type": "markdown",
      "metadata": {
        "id": "-1ajHlEfs1Av"
      },
      "source": [
        "**Import**"
      ]
    },
    {
      "cell_type": "code",
      "metadata": {
        "id": "nf5UujitbeRC"
      },
      "source": [
        "from sklearn.neural_network import MLPClassifier"
      ],
      "execution_count": 23,
      "outputs": []
    },
    {
      "cell_type": "markdown",
      "metadata": {
        "id": "NYy5E3bUtCbi"
      },
      "source": [
        "**Define**"
      ]
    },
    {
      "cell_type": "code",
      "metadata": {
        "id": "CdGY1pfEs_9W"
      },
      "source": [
        "perceptron1 = MLPClassifier(random_state=6, max_iter=2000,hidden_layer_sizes=1,learning_rate_init=0.005)"
      ],
      "execution_count": 24,
      "outputs": []
    },
    {
      "cell_type": "markdown",
      "metadata": {
        "id": "pVVD_hsqtkHQ"
      },
      "source": [
        "**Train-Test**"
      ]
    },
    {
      "cell_type": "code",
      "metadata": {
        "colab": {
          "base_uri": "https://localhost:8080/"
        },
        "id": "VAshDXdttnX9",
        "outputId": "a683203f-db4a-49a8-d0ee-a3051f2fe67d"
      },
      "source": [
        "#Train\n",
        "perceptron1.fit(X_train2,y_train2)\n",
        "#Test\n",
        "perceptron1_result = perceptron1.predict(X_val)\n",
        "accuracy_score(y_val,perceptron1_result)"
      ],
      "execution_count": 25,
      "outputs": [
        {
          "output_type": "execute_result",
          "data": {
            "text/plain": [
              "0.2777777777777778"
            ]
          },
          "metadata": {},
          "execution_count": 25
        }
      ]
    },
    {
      "cell_type": "markdown",
      "metadata": {
        "id": "4iUXkDVzt-kC"
      },
      "source": [
        "**ANN2**"
      ]
    },
    {
      "cell_type": "code",
      "metadata": {
        "colab": {
          "base_uri": "https://localhost:8080/"
        },
        "id": "Qiq0R8xpt6y5",
        "outputId": "6540b8c2-1cd2-4f97-b5f7-db8744ae7f6a"
      },
      "source": [
        "perceptron2 = MLPClassifier(random_state=6, max_iter=2000,hidden_layer_sizes=10,learning_rate_init=0.005)\n",
        "#Train\n",
        "perceptron2.fit(X_train2,y_train2)\n",
        "#Test\n",
        "perceptron2_result = perceptron2.predict(X_val)\n",
        "accuracy_score(y_val,perceptron2_result)"
      ],
      "execution_count": 26,
      "outputs": [
        {
          "output_type": "execute_result",
          "data": {
            "text/plain": [
              "0.9185185185185185"
            ]
          },
          "metadata": {},
          "execution_count": 26
        }
      ]
    },
    {
      "cell_type": "markdown",
      "metadata": {
        "id": "NBbWxL8guKNd"
      },
      "source": [
        "**ANN3**"
      ]
    },
    {
      "cell_type": "code",
      "metadata": {
        "colab": {
          "base_uri": "https://localhost:8080/"
        },
        "id": "A2QI7tGkuLqZ",
        "outputId": "25dc06bf-72e2-43fa-85eb-b6d37ea26fa2"
      },
      "source": [
        "perceptron3 = MLPClassifier(random_state=6, max_iter=20000,hidden_layer_sizes=10,learning_rate_init=0.001)\n",
        "#Train\n",
        "perceptron3.fit(X_train2,y_train2)\n",
        "#Test\n",
        "perceptron3_result = perceptron3.predict(X_val)\n",
        "accuracy_score(y_val,perceptron3_result)"
      ],
      "execution_count": 27,
      "outputs": [
        {
          "output_type": "execute_result",
          "data": {
            "text/plain": [
              "0.9444444444444444"
            ]
          },
          "metadata": {},
          "execution_count": 27
        }
      ]
    }
  ]
}