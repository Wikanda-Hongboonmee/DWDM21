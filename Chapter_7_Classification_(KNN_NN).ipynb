{
  "nbformat": 4,
  "nbformat_minor": 0,
  "metadata": {
    "colab": {
      "name": "Chapter 7 Classification (KNN-NN).ipynb",
      "provenance": [],
      "authorship_tag": "ABX9TyMJuJugiVYe2gO00YYzlBrX",
      "include_colab_link": true
    },
    "kernelspec": {
      "name": "python3",
      "display_name": "Python 3"
    },
    "language_info": {
      "name": "python"
    }
  },
  "cells": [
    {
      "cell_type": "markdown",
      "metadata": {
        "id": "view-in-github",
        "colab_type": "text"
      },
      "source": [
        "<a href=\"https://colab.research.google.com/github/Wikanda-Hongboonmee/DWDM21/blob/main/Chapter_7_Classification_(KNN_NN).ipynb\" target=\"_parent\"><img src=\"https://colab.research.google.com/assets/colab-badge.svg\" alt=\"Open In Colab\"/></a>"
      ]
    },
    {
      "cell_type": "markdown",
      "metadata": {
        "id": "DDOjduPTUdOw"
      },
      "source": [
        "# **Load Data**"
      ]
    },
    {
      "cell_type": "code",
      "metadata": {
        "id": "xaPX2CUXTzJv"
      },
      "source": [
        "from sklearn import datasets"
      ],
      "execution_count": 1,
      "outputs": []
    },
    {
      "cell_type": "code",
      "metadata": {
        "id": "URkEjh20UUYe"
      },
      "source": [
        "digit_data = datasets.load_digits()"
      ],
      "execution_count": 2,
      "outputs": []
    },
    {
      "cell_type": "code",
      "metadata": {
        "id": "rVYMsBmXUMFj"
      },
      "source": [
        "X = digit_data['data'] # feature\n",
        "y = digit_data['target'] # labels"
      ],
      "execution_count": 3,
      "outputs": []
    },
    {
      "cell_type": "markdown",
      "metadata": {
        "id": "0RnB1i6mUgP6"
      },
      "source": [
        "# **Split Data**"
      ]
    },
    {
      "cell_type": "code",
      "metadata": {
        "id": "83wE_2uKUcfs"
      },
      "source": [
        "from sklearn.model_selection import train_test_split\n",
        "\n",
        "# Train-Test\n",
        "X_train, X_test, y_train, y_test = train_test_split(X, y, test_size=0.5, random_state=6)\n",
        "\n",
        "# Train-validation\n",
        "X_train2, X_val, y_train2, y_val = train_test_split(X_train, y_train, test_size=0.3, random_state=6)"
      ],
      "execution_count": 4,
      "outputs": []
    },
    {
      "cell_type": "markdown",
      "metadata": {
        "id": "YwgY1FtoXNCz"
      },
      "source": [
        "## Train Model"
      ]
    },
    {
      "cell_type": "markdown",
      "metadata": {
        "id": "5H4Cj65iXR12"
      },
      "source": [
        "### **Import**"
      ]
    },
    {
      "cell_type": "code",
      "metadata": {
        "id": "H2CQvS7KXI4e"
      },
      "source": [
        "from sklearn.neighbors import KNeighborsClassifier\n",
        "from sklearn.metrics import accuracy_score"
      ],
      "execution_count": 6,
      "outputs": []
    },
    {
      "cell_type": "markdown",
      "metadata": {
        "id": "L5tYNZvnXbbr"
      },
      "source": [
        "### **KNN1**"
      ]
    },
    {
      "cell_type": "code",
      "metadata": {
        "colab": {
          "base_uri": "https://localhost:8080/"
        },
        "id": "eE2lkOLkXewD",
        "outputId": "dba088c2-9ede-4d87-cfb2-ca3171999a3e"
      },
      "source": [
        "# Define\n",
        "neigh1 = KNeighborsClassifier(n_neighbors=3, weights='uniform')\n",
        "#Train\n",
        "neigh1.fit(X_train2,y_train2)\n",
        "#Test\n",
        "KNN1_result = neigh1.predict(X_val)\n",
        "accuracy_score(y_val, KNN1_result) "
      ],
      "execution_count": 7,
      "outputs": [
        {
          "output_type": "execute_result",
          "data": {
            "text/plain": [
              "0.9703703703703703"
            ]
          },
          "metadata": {},
          "execution_count": 7
        }
      ]
    },
    {
      "cell_type": "markdown",
      "metadata": {
        "id": "u_5bvF_EZAgp"
      },
      "source": [
        "### **KNN2**"
      ]
    },
    {
      "cell_type": "code",
      "metadata": {
        "colab": {
          "base_uri": "https://localhost:8080/"
        },
        "id": "JsLw25Z5XnMR",
        "outputId": "b3876c23-6f4f-4777-f40c-53414083d4eb"
      },
      "source": [
        "# Define\n",
        "neigh2 = KNeighborsClassifier(n_neighbors=10, weights='distance')\n",
        "#Train\n",
        "neigh2.fit(X_train2,y_train2)\n",
        "#Test\n",
        "KNN2_result = neigh2.predict(X_val)\n",
        "accuracy_score(y_val, KNN2_result) "
      ],
      "execution_count": 8,
      "outputs": [
        {
          "output_type": "execute_result",
          "data": {
            "text/plain": [
              "0.9703703703703703"
            ]
          },
          "metadata": {},
          "execution_count": 8
        }
      ]
    },
    {
      "cell_type": "markdown",
      "metadata": {
        "id": "HnHEt6X9ZJBE"
      },
      "source": [
        "### **KNN3**"
      ]
    },
    {
      "cell_type": "code",
      "metadata": {
        "colab": {
          "base_uri": "https://localhost:8080/"
        },
        "id": "tlSEKD1gYwQ7",
        "outputId": "7e3df15b-2769-4ac2-fb8b-594cdda35ba8"
      },
      "source": [
        "# Define\n",
        "neigh3 = KNeighborsClassifier(n_neighbors=1)\n",
        "#Train\n",
        "neigh3.fit(X_train2,y_train2)\n",
        "#Test\n",
        "KNN3_result = neigh3.predict(X_val)\n",
        "accuracy_score(y_val, KNN3_result)"
      ],
      "execution_count": 10,
      "outputs": [
        {
          "output_type": "execute_result",
          "data": {
            "text/plain": [
              "0.9777777777777777"
            ]
          },
          "metadata": {},
          "execution_count": 10
        }
      ]
    },
    {
      "cell_type": "markdown",
      "metadata": {
        "id": "wAUwdgl3ZQqv"
      },
      "source": [
        "### **Retain & Evaluate**"
      ]
    },
    {
      "cell_type": "code",
      "metadata": {
        "colab": {
          "base_uri": "https://localhost:8080/"
        },
        "id": "66q9D2zFZP4d",
        "outputId": "49b67511-71a7-4b30-c15d-2ece8c455d2e"
      },
      "source": [
        "# Define\n",
        "neigh3_final = KNeighborsClassifier(n_neighbors=1)\n",
        "# Train\n",
        "neigh3_final.fit(X_train,y_train)\n",
        "# Test\n",
        "KNN3final_result = neigh3_final.predict(X_test)\n",
        "accuracy_score(y_test, KNN3final_result)"
      ],
      "execution_count": 12,
      "outputs": [
        {
          "output_type": "execute_result",
          "data": {
            "text/plain": [
              "0.982202447163515"
            ]
          },
          "metadata": {},
          "execution_count": 12
        }
      ]
    }
  ]
}