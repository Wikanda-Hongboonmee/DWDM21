{
  "nbformat": 4,
  "nbformat_minor": 0,
  "metadata": {
    "colab": {
      "name": "Data Preprocessing (Chapter 3).ipynb",
      "provenance": [],
      "authorship_tag": "ABX9TyPTlzr7+yGpucP6+EjWXR0L",
      "include_colab_link": true
    },
    "kernelspec": {
      "name": "python3",
      "display_name": "Python 3"
    },
    "language_info": {
      "name": "python"
    }
  },
  "cells": [
    {
      "cell_type": "markdown",
      "metadata": {
        "id": "view-in-github",
        "colab_type": "text"
      },
      "source": [
        "<a href=\"https://colab.research.google.com/github/Wikanda-Hongboonmee/DWDM21/blob/main/Data_Preprocessing_(Chapter_3).ipynb\" target=\"_parent\"><img src=\"https://colab.research.google.com/assets/colab-badge.svg\" alt=\"Open In Colab\"/></a>"
      ]
    },
    {
      "cell_type": "code",
      "metadata": {
        "id": "_G2wzwXo6dcS"
      },
      "source": [
        "import pandas as pd  # pandas เป็น Package ที่ใช้เกี่ยวกับการจัดการข้อมูลที่เป็นตาราง , เรียกใช้โดยการ import แล้วตามด้วยชื่อ Package"
      ],
      "execution_count": 1,
      "outputs": []
    },
    {
      "cell_type": "code",
      "metadata": {
        "colab": {
          "base_uri": "https://localhost:8080/"
        },
        "id": "rqzcuvov7ykR",
        "outputId": "9b566159-0cdd-4062-d728-c1418adeae88"
      },
      "source": [
        "from google.colab import drive  # เชื่อมต่อกับ google drive ที่เราเก็บข้อมูลไว้\n",
        "drive.mount('/content/drive')"
      ],
      "execution_count": 2,
      "outputs": [
        {
          "output_type": "stream",
          "text": [
            "Mounted at /content/drive\n"
          ],
          "name": "stdout"
        }
      ]
    },
    {
      "cell_type": "code",
      "metadata": {
        "id": "LId_Zrb58NcO"
      },
      "source": [
        "import os # เป็น package ที่เอาไว้จัดการไฟล์และเอาไว้ดูที่มาของไฟล์หรือ path"
      ],
      "execution_count": 3,
      "outputs": []
    },
    {
      "cell_type": "code",
      "metadata": {
        "colab": {
          "base_uri": "https://localhost:8080/",
          "height": 417
        },
        "id": "JIn-B1iH8UMi",
        "outputId": "fa5a4e32-5802-4a2b-e289-77e9312f3afa"
      },
      "source": [
        "path = '/content/drive/My Drive/DWDM2021_DATA' \n",
        "data_cases = pd.read_csv(os.path.join(path,'confirmed-cases.csv')) # ไฟล์ที่เราต้องการ\n",
        "data_cases # print data ดูว่ามันหน้าตาเป็นยังไง"
      ],
      "execution_count": 4,
      "outputs": [
        {
          "output_type": "execute_result",
          "data": {
            "text/html": [
              "<div>\n",
              "<style scoped>\n",
              "    .dataframe tbody tr th:only-of-type {\n",
              "        vertical-align: middle;\n",
              "    }\n",
              "\n",
              "    .dataframe tbody tr th {\n",
              "        vertical-align: top;\n",
              "    }\n",
              "\n",
              "    .dataframe thead th {\n",
              "        text-align: right;\n",
              "    }\n",
              "</style>\n",
              "<table border=\"1\" class=\"dataframe\">\n",
              "  <thead>\n",
              "    <tr style=\"text-align: right;\">\n",
              "      <th></th>\n",
              "      <th>No.</th>\n",
              "      <th>announce_date</th>\n",
              "      <th>Notified date</th>\n",
              "      <th>sex</th>\n",
              "      <th>age</th>\n",
              "      <th>Unit</th>\n",
              "      <th>nationality</th>\n",
              "      <th>province_of_isolation</th>\n",
              "      <th>risk</th>\n",
              "      <th>province_of_onset</th>\n",
              "      <th>district_of_onset</th>\n",
              "    </tr>\n",
              "  </thead>\n",
              "  <tbody>\n",
              "    <tr>\n",
              "      <th>0</th>\n",
              "      <td>1</td>\n",
              "      <td>12/1/2020</td>\n",
              "      <td>NaN</td>\n",
              "      <td>หญิง</td>\n",
              "      <td>61.0</td>\n",
              "      <td>ปี</td>\n",
              "      <td>China</td>\n",
              "      <td>กรุงเทพมหานคร</td>\n",
              "      <td>คนต่างชาติเดินทางมาจากต่างประเทศ</td>\n",
              "      <td>กรุงเทพมหานคร</td>\n",
              "      <td>NaN</td>\n",
              "    </tr>\n",
              "    <tr>\n",
              "      <th>1</th>\n",
              "      <td>2</td>\n",
              "      <td>17/1/2020</td>\n",
              "      <td>NaN</td>\n",
              "      <td>หญิง</td>\n",
              "      <td>74.0</td>\n",
              "      <td>ปี</td>\n",
              "      <td>China</td>\n",
              "      <td>กรุงเทพมหานคร</td>\n",
              "      <td>คนต่างชาติเดินทางมาจากต่างประเทศ</td>\n",
              "      <td>กรุงเทพมหานคร</td>\n",
              "      <td>NaN</td>\n",
              "    </tr>\n",
              "    <tr>\n",
              "      <th>2</th>\n",
              "      <td>3</td>\n",
              "      <td>22/1/2020</td>\n",
              "      <td>NaN</td>\n",
              "      <td>หญิง</td>\n",
              "      <td>73.0</td>\n",
              "      <td>ปี</td>\n",
              "      <td>Thailand</td>\n",
              "      <td>นครปฐม</td>\n",
              "      <td>คนต่างชาติเดินทางมาจากต่างประเทศ</td>\n",
              "      <td>นครปฐม</td>\n",
              "      <td>เมือง</td>\n",
              "    </tr>\n",
              "    <tr>\n",
              "      <th>3</th>\n",
              "      <td>4</td>\n",
              "      <td>22/1/2020</td>\n",
              "      <td>NaN</td>\n",
              "      <td>ชาย</td>\n",
              "      <td>68.0</td>\n",
              "      <td>ปี</td>\n",
              "      <td>China</td>\n",
              "      <td>กรุงเทพมหานคร</td>\n",
              "      <td>คนต่างชาติเดินทางมาจากต่างประเทศ</td>\n",
              "      <td>กรุงเทพมหานคร</td>\n",
              "      <td>NaN</td>\n",
              "    </tr>\n",
              "    <tr>\n",
              "      <th>4</th>\n",
              "      <td>5</td>\n",
              "      <td>24/1/2020</td>\n",
              "      <td>NaN</td>\n",
              "      <td>หญิง</td>\n",
              "      <td>66.0</td>\n",
              "      <td>ปี</td>\n",
              "      <td>China</td>\n",
              "      <td>นนทบุรี</td>\n",
              "      <td>คนต่างชาติเดินทางมาจากต่างประเทศ</td>\n",
              "      <td>กรุงเทพมหานคร</td>\n",
              "      <td>NaN</td>\n",
              "    </tr>\n",
              "    <tr>\n",
              "      <th>...</th>\n",
              "      <td>...</td>\n",
              "      <td>...</td>\n",
              "      <td>...</td>\n",
              "      <td>...</td>\n",
              "      <td>...</td>\n",
              "      <td>...</td>\n",
              "      <td>...</td>\n",
              "      <td>...</td>\n",
              "      <td>...</td>\n",
              "      <td>...</td>\n",
              "      <td>...</td>\n",
              "    </tr>\n",
              "    <tr>\n",
              "      <th>512617</th>\n",
              "      <td>512618</td>\n",
              "      <td>26/7/2021</td>\n",
              "      <td>25/7/2021</td>\n",
              "      <td>ชาย</td>\n",
              "      <td>NaN</td>\n",
              "      <td>NaN</td>\n",
              "      <td>NaN</td>\n",
              "      <td>ชลบุรี</td>\n",
              "      <td>ทัณฑสถาน/เรือนจำ</td>\n",
              "      <td>NaN</td>\n",
              "      <td>NaN</td>\n",
              "    </tr>\n",
              "    <tr>\n",
              "      <th>512618</th>\n",
              "      <td>512619</td>\n",
              "      <td>26/7/2021</td>\n",
              "      <td>25/7/2021</td>\n",
              "      <td>ชาย</td>\n",
              "      <td>NaN</td>\n",
              "      <td>NaN</td>\n",
              "      <td>NaN</td>\n",
              "      <td>ชลบุรี</td>\n",
              "      <td>ทัณฑสถาน/เรือนจำ</td>\n",
              "      <td>NaN</td>\n",
              "      <td>NaN</td>\n",
              "    </tr>\n",
              "    <tr>\n",
              "      <th>512619</th>\n",
              "      <td>512620</td>\n",
              "      <td>26/7/2021</td>\n",
              "      <td>25/7/2021</td>\n",
              "      <td>ชาย</td>\n",
              "      <td>NaN</td>\n",
              "      <td>NaN</td>\n",
              "      <td>NaN</td>\n",
              "      <td>ชลบุรี</td>\n",
              "      <td>ทัณฑสถาน/เรือนจำ</td>\n",
              "      <td>NaN</td>\n",
              "      <td>NaN</td>\n",
              "    </tr>\n",
              "    <tr>\n",
              "      <th>512620</th>\n",
              "      <td>512621</td>\n",
              "      <td>26/7/2021</td>\n",
              "      <td>25/7/2021</td>\n",
              "      <td>ชาย</td>\n",
              "      <td>NaN</td>\n",
              "      <td>NaN</td>\n",
              "      <td>NaN</td>\n",
              "      <td>ชลบุรี</td>\n",
              "      <td>ทัณฑสถาน/เรือนจำ</td>\n",
              "      <td>NaN</td>\n",
              "      <td>NaN</td>\n",
              "    </tr>\n",
              "    <tr>\n",
              "      <th>512621</th>\n",
              "      <td>512622</td>\n",
              "      <td>26/7/2021</td>\n",
              "      <td>25/7/2021</td>\n",
              "      <td>ชาย</td>\n",
              "      <td>NaN</td>\n",
              "      <td>NaN</td>\n",
              "      <td>NaN</td>\n",
              "      <td>ชลบุรี</td>\n",
              "      <td>ทัณฑสถาน/เรือนจำ</td>\n",
              "      <td>NaN</td>\n",
              "      <td>NaN</td>\n",
              "    </tr>\n",
              "  </tbody>\n",
              "</table>\n",
              "<p>512622 rows × 11 columns</p>\n",
              "</div>"
            ],
            "text/plain": [
              "           No. announce_date  ... province_of_onset district_of_onset\n",
              "0            1     12/1/2020  ...     กรุงเทพมหานคร               NaN\n",
              "1            2     17/1/2020  ...     กรุงเทพมหานคร               NaN\n",
              "2            3     22/1/2020  ...            นครปฐม             เมือง\n",
              "3            4     22/1/2020  ...     กรุงเทพมหานคร               NaN\n",
              "4            5     24/1/2020  ...     กรุงเทพมหานคร               NaN\n",
              "...        ...           ...  ...               ...               ...\n",
              "512617  512618     26/7/2021  ...               NaN               NaN\n",
              "512618  512619     26/7/2021  ...               NaN               NaN\n",
              "512619  512620     26/7/2021  ...               NaN               NaN\n",
              "512620  512621     26/7/2021  ...               NaN               NaN\n",
              "512621  512622     26/7/2021  ...               NaN               NaN\n",
              "\n",
              "[512622 rows x 11 columns]"
            ]
          },
          "metadata": {
            "tags": []
          },
          "execution_count": 4
        }
      ]
    },
    {
      "cell_type": "markdown",
      "metadata": {
        "id": "y6ufmgLN-YqM"
      },
      "source": [
        "### **Meta Data (Data ที่ใช้อธิบาย Data)**"
      ]
    },
    {
      "cell_type": "markdown",
      "metadata": {
        "id": "3xRiZqZuAOt1"
      },
      "source": [
        "### ชี้ข้อมูลจากตาราง"
      ]
    },
    {
      "cell_type": "markdown",
      "metadata": {
        "id": "39LYZ3msBfah"
      },
      "source": [
        "ชี้แบบธรรมดาใช้ **[ชื่อคอลัมน์][index]**"
      ]
    },
    {
      "cell_type": "code",
      "metadata": {
        "colab": {
          "base_uri": "https://localhost:8080/"
        },
        "id": "losMRuQN-gkY",
        "outputId": "8b0b4ceb-1992-4a72-e1a4-a4e934c5eaf2"
      },
      "source": [
        "data_cases['risk'] # ชี้ข้อมูลที่เป็นคอลัมน์"
      ],
      "execution_count": 5,
      "outputs": [
        {
          "output_type": "execute_result",
          "data": {
            "text/plain": [
              "0         คนต่างชาติเดินทางมาจากต่างประเทศ\n",
              "1         คนต่างชาติเดินทางมาจากต่างประเทศ\n",
              "2         คนต่างชาติเดินทางมาจากต่างประเทศ\n",
              "3         คนต่างชาติเดินทางมาจากต่างประเทศ\n",
              "4         คนต่างชาติเดินทางมาจากต่างประเทศ\n",
              "                        ...               \n",
              "512617                    ทัณฑสถาน/เรือนจำ\n",
              "512618                    ทัณฑสถาน/เรือนจำ\n",
              "512619                    ทัณฑสถาน/เรือนจำ\n",
              "512620                    ทัณฑสถาน/เรือนจำ\n",
              "512621                    ทัณฑสถาน/เรือนจำ\n",
              "Name: risk, Length: 512622, dtype: object"
            ]
          },
          "metadata": {
            "tags": []
          },
          "execution_count": 5
        }
      ]
    },
    {
      "cell_type": "code",
      "metadata": {
        "colab": {
          "base_uri": "https://localhost:8080/",
          "height": 35
        },
        "id": "gUovpPm7AiO6",
        "outputId": "26c830cc-03fe-43c8-db8b-5deac46ccba7"
      },
      "source": [
        "data_cases['risk'][678] # เลือกคอลัมน์ก่อน หลังจากนั้นเลือกลำดับของ Record หรือ index เพื่อเป็นการระบุว่าเราต้องการชี้ข้อมูลตัวไหนในตาราง"
      ],
      "execution_count": 6,
      "outputs": [
        {
          "output_type": "execute_result",
          "data": {
            "application/vnd.google.colaboratory.intrinsic+json": {
              "type": "string"
            },
            "text/plain": [
              "'สัมผัสใกล้ชิดกับผู้ป่วยยืนยันรายก่อนหน้านี้'"
            ]
          },
          "metadata": {
            "tags": []
          },
          "execution_count": 6
        }
      ]
    },
    {
      "cell_type": "code",
      "metadata": {
        "colab": {
          "base_uri": "https://localhost:8080/",
          "height": 417
        },
        "id": "BMsk6spYArLV",
        "outputId": "d432fd29-4fbd-4190-91f2-b7fa24c425c5"
      },
      "source": [
        "data_cases[['age','risk','sex']] # เลือกเฉพาะคอลัมน์ที่ต้องการ"
      ],
      "execution_count": 7,
      "outputs": [
        {
          "output_type": "execute_result",
          "data": {
            "text/html": [
              "<div>\n",
              "<style scoped>\n",
              "    .dataframe tbody tr th:only-of-type {\n",
              "        vertical-align: middle;\n",
              "    }\n",
              "\n",
              "    .dataframe tbody tr th {\n",
              "        vertical-align: top;\n",
              "    }\n",
              "\n",
              "    .dataframe thead th {\n",
              "        text-align: right;\n",
              "    }\n",
              "</style>\n",
              "<table border=\"1\" class=\"dataframe\">\n",
              "  <thead>\n",
              "    <tr style=\"text-align: right;\">\n",
              "      <th></th>\n",
              "      <th>age</th>\n",
              "      <th>risk</th>\n",
              "      <th>sex</th>\n",
              "    </tr>\n",
              "  </thead>\n",
              "  <tbody>\n",
              "    <tr>\n",
              "      <th>0</th>\n",
              "      <td>61.0</td>\n",
              "      <td>คนต่างชาติเดินทางมาจากต่างประเทศ</td>\n",
              "      <td>หญิง</td>\n",
              "    </tr>\n",
              "    <tr>\n",
              "      <th>1</th>\n",
              "      <td>74.0</td>\n",
              "      <td>คนต่างชาติเดินทางมาจากต่างประเทศ</td>\n",
              "      <td>หญิง</td>\n",
              "    </tr>\n",
              "    <tr>\n",
              "      <th>2</th>\n",
              "      <td>73.0</td>\n",
              "      <td>คนต่างชาติเดินทางมาจากต่างประเทศ</td>\n",
              "      <td>หญิง</td>\n",
              "    </tr>\n",
              "    <tr>\n",
              "      <th>3</th>\n",
              "      <td>68.0</td>\n",
              "      <td>คนต่างชาติเดินทางมาจากต่างประเทศ</td>\n",
              "      <td>ชาย</td>\n",
              "    </tr>\n",
              "    <tr>\n",
              "      <th>4</th>\n",
              "      <td>66.0</td>\n",
              "      <td>คนต่างชาติเดินทางมาจากต่างประเทศ</td>\n",
              "      <td>หญิง</td>\n",
              "    </tr>\n",
              "    <tr>\n",
              "      <th>...</th>\n",
              "      <td>...</td>\n",
              "      <td>...</td>\n",
              "      <td>...</td>\n",
              "    </tr>\n",
              "    <tr>\n",
              "      <th>512617</th>\n",
              "      <td>NaN</td>\n",
              "      <td>ทัณฑสถาน/เรือนจำ</td>\n",
              "      <td>ชาย</td>\n",
              "    </tr>\n",
              "    <tr>\n",
              "      <th>512618</th>\n",
              "      <td>NaN</td>\n",
              "      <td>ทัณฑสถาน/เรือนจำ</td>\n",
              "      <td>ชาย</td>\n",
              "    </tr>\n",
              "    <tr>\n",
              "      <th>512619</th>\n",
              "      <td>NaN</td>\n",
              "      <td>ทัณฑสถาน/เรือนจำ</td>\n",
              "      <td>ชาย</td>\n",
              "    </tr>\n",
              "    <tr>\n",
              "      <th>512620</th>\n",
              "      <td>NaN</td>\n",
              "      <td>ทัณฑสถาน/เรือนจำ</td>\n",
              "      <td>ชาย</td>\n",
              "    </tr>\n",
              "    <tr>\n",
              "      <th>512621</th>\n",
              "      <td>NaN</td>\n",
              "      <td>ทัณฑสถาน/เรือนจำ</td>\n",
              "      <td>ชาย</td>\n",
              "    </tr>\n",
              "  </tbody>\n",
              "</table>\n",
              "<p>512622 rows × 3 columns</p>\n",
              "</div>"
            ],
            "text/plain": [
              "         age                              risk   sex\n",
              "0       61.0  คนต่างชาติเดินทางมาจากต่างประเทศ  หญิง\n",
              "1       74.0  คนต่างชาติเดินทางมาจากต่างประเทศ  หญิง\n",
              "2       73.0  คนต่างชาติเดินทางมาจากต่างประเทศ  หญิง\n",
              "3       68.0  คนต่างชาติเดินทางมาจากต่างประเทศ   ชาย\n",
              "4       66.0  คนต่างชาติเดินทางมาจากต่างประเทศ  หญิง\n",
              "...      ...                               ...   ...\n",
              "512617   NaN                  ทัณฑสถาน/เรือนจำ   ชาย\n",
              "512618   NaN                  ทัณฑสถาน/เรือนจำ   ชาย\n",
              "512619   NaN                  ทัณฑสถาน/เรือนจำ   ชาย\n",
              "512620   NaN                  ทัณฑสถาน/เรือนจำ   ชาย\n",
              "512621   NaN                  ทัณฑสถาน/เรือนจำ   ชาย\n",
              "\n",
              "[512622 rows x 3 columns]"
            ]
          },
          "metadata": {
            "tags": []
          },
          "execution_count": 7
        }
      ]
    },
    {
      "cell_type": "markdown",
      "metadata": {
        "id": "EkwJDCh3B1Kd"
      },
      "source": [
        "###ชี้แบบ .iloc[] (มองข้อมูลเป็น matrix)"
      ]
    },
    {
      "cell_type": "code",
      "metadata": {
        "colab": {
          "base_uri": "https://localhost:8080/",
          "height": 35
        },
        "id": "I6CqJ3AOB7SY",
        "outputId": "52997ec5-1d60-4b2f-ff9b-73103736184a"
      },
      "source": [
        "data_cases.iloc[678,8]"
      ],
      "execution_count": 8,
      "outputs": [
        {
          "output_type": "execute_result",
          "data": {
            "application/vnd.google.colaboratory.intrinsic+json": {
              "type": "string"
            },
            "text/plain": [
              "'สัมผัสใกล้ชิดกับผู้ป่วยยืนยันรายก่อนหน้านี้'"
            ]
          },
          "metadata": {
            "tags": []
          },
          "execution_count": 8
        }
      ]
    },
    {
      "cell_type": "code",
      "metadata": {
        "colab": {
          "base_uri": "https://localhost:8080/",
          "height": 357
        },
        "id": "2bggfUUUCKuR",
        "outputId": "65db4549-0bbb-4e6b-eb76-03e77e25694e"
      },
      "source": [
        "data_cases.iloc[-10:,[3,4,8]]"
      ],
      "execution_count": 9,
      "outputs": [
        {
          "output_type": "execute_result",
          "data": {
            "text/html": [
              "<div>\n",
              "<style scoped>\n",
              "    .dataframe tbody tr th:only-of-type {\n",
              "        vertical-align: middle;\n",
              "    }\n",
              "\n",
              "    .dataframe tbody tr th {\n",
              "        vertical-align: top;\n",
              "    }\n",
              "\n",
              "    .dataframe thead th {\n",
              "        text-align: right;\n",
              "    }\n",
              "</style>\n",
              "<table border=\"1\" class=\"dataframe\">\n",
              "  <thead>\n",
              "    <tr style=\"text-align: right;\">\n",
              "      <th></th>\n",
              "      <th>sex</th>\n",
              "      <th>age</th>\n",
              "      <th>risk</th>\n",
              "    </tr>\n",
              "  </thead>\n",
              "  <tbody>\n",
              "    <tr>\n",
              "      <th>512612</th>\n",
              "      <td>หญิง</td>\n",
              "      <td>NaN</td>\n",
              "      <td>ทัณฑสถาน/เรือนจำ</td>\n",
              "    </tr>\n",
              "    <tr>\n",
              "      <th>512613</th>\n",
              "      <td>ชาย</td>\n",
              "      <td>NaN</td>\n",
              "      <td>ทัณฑสถาน/เรือนจำ</td>\n",
              "    </tr>\n",
              "    <tr>\n",
              "      <th>512614</th>\n",
              "      <td>ชาย</td>\n",
              "      <td>NaN</td>\n",
              "      <td>ทัณฑสถาน/เรือนจำ</td>\n",
              "    </tr>\n",
              "    <tr>\n",
              "      <th>512615</th>\n",
              "      <td>ชาย</td>\n",
              "      <td>NaN</td>\n",
              "      <td>ทัณฑสถาน/เรือนจำ</td>\n",
              "    </tr>\n",
              "    <tr>\n",
              "      <th>512616</th>\n",
              "      <td>ชาย</td>\n",
              "      <td>NaN</td>\n",
              "      <td>ทัณฑสถาน/เรือนจำ</td>\n",
              "    </tr>\n",
              "    <tr>\n",
              "      <th>512617</th>\n",
              "      <td>ชาย</td>\n",
              "      <td>NaN</td>\n",
              "      <td>ทัณฑสถาน/เรือนจำ</td>\n",
              "    </tr>\n",
              "    <tr>\n",
              "      <th>512618</th>\n",
              "      <td>ชาย</td>\n",
              "      <td>NaN</td>\n",
              "      <td>ทัณฑสถาน/เรือนจำ</td>\n",
              "    </tr>\n",
              "    <tr>\n",
              "      <th>512619</th>\n",
              "      <td>ชาย</td>\n",
              "      <td>NaN</td>\n",
              "      <td>ทัณฑสถาน/เรือนจำ</td>\n",
              "    </tr>\n",
              "    <tr>\n",
              "      <th>512620</th>\n",
              "      <td>ชาย</td>\n",
              "      <td>NaN</td>\n",
              "      <td>ทัณฑสถาน/เรือนจำ</td>\n",
              "    </tr>\n",
              "    <tr>\n",
              "      <th>512621</th>\n",
              "      <td>ชาย</td>\n",
              "      <td>NaN</td>\n",
              "      <td>ทัณฑสถาน/เรือนจำ</td>\n",
              "    </tr>\n",
              "  </tbody>\n",
              "</table>\n",
              "</div>"
            ],
            "text/plain": [
              "         sex  age              risk\n",
              "512612  หญิง  NaN  ทัณฑสถาน/เรือนจำ\n",
              "512613   ชาย  NaN  ทัณฑสถาน/เรือนจำ\n",
              "512614   ชาย  NaN  ทัณฑสถาน/เรือนจำ\n",
              "512615   ชาย  NaN  ทัณฑสถาน/เรือนจำ\n",
              "512616   ชาย  NaN  ทัณฑสถาน/เรือนจำ\n",
              "512617   ชาย  NaN  ทัณฑสถาน/เรือนจำ\n",
              "512618   ชาย  NaN  ทัณฑสถาน/เรือนจำ\n",
              "512619   ชาย  NaN  ทัณฑสถาน/เรือนจำ\n",
              "512620   ชาย  NaN  ทัณฑสถาน/เรือนจำ\n",
              "512621   ชาย  NaN  ทัณฑสถาน/เรือนจำ"
            ]
          },
          "metadata": {
            "tags": []
          },
          "execution_count": 9
        }
      ]
    },
    {
      "cell_type": "code",
      "metadata": {
        "colab": {
          "base_uri": "https://localhost:8080/",
          "height": 295
        },
        "id": "W4kc11zIDM4X",
        "outputId": "317ea5e7-c5ee-484f-bc3e-fdb8dd84140d"
      },
      "source": [
        "data_cases.describe() # ดูค่าทางสถิติเบื้องต้นก่อนว่าข้อมูลเราเป็นยังไง"
      ],
      "execution_count": 10,
      "outputs": [
        {
          "output_type": "execute_result",
          "data": {
            "text/html": [
              "<div>\n",
              "<style scoped>\n",
              "    .dataframe tbody tr th:only-of-type {\n",
              "        vertical-align: middle;\n",
              "    }\n",
              "\n",
              "    .dataframe tbody tr th {\n",
              "        vertical-align: top;\n",
              "    }\n",
              "\n",
              "    .dataframe thead th {\n",
              "        text-align: right;\n",
              "    }\n",
              "</style>\n",
              "<table border=\"1\" class=\"dataframe\">\n",
              "  <thead>\n",
              "    <tr style=\"text-align: right;\">\n",
              "      <th></th>\n",
              "      <th>No.</th>\n",
              "      <th>age</th>\n",
              "    </tr>\n",
              "  </thead>\n",
              "  <tbody>\n",
              "    <tr>\n",
              "      <th>count</th>\n",
              "      <td>512622.000000</td>\n",
              "      <td>462839.000000</td>\n",
              "    </tr>\n",
              "    <tr>\n",
              "      <th>mean</th>\n",
              "      <td>256311.500000</td>\n",
              "      <td>35.529470</td>\n",
              "    </tr>\n",
              "    <tr>\n",
              "      <th>std</th>\n",
              "      <td>147981.369183</td>\n",
              "      <td>16.153885</td>\n",
              "    </tr>\n",
              "    <tr>\n",
              "      <th>min</th>\n",
              "      <td>1.000000</td>\n",
              "      <td>1.000000</td>\n",
              "    </tr>\n",
              "    <tr>\n",
              "      <th>25%</th>\n",
              "      <td>128156.250000</td>\n",
              "      <td>25.000000</td>\n",
              "    </tr>\n",
              "    <tr>\n",
              "      <th>50%</th>\n",
              "      <td>256311.500000</td>\n",
              "      <td>34.000000</td>\n",
              "    </tr>\n",
              "    <tr>\n",
              "      <th>75%</th>\n",
              "      <td>384466.750000</td>\n",
              "      <td>46.000000</td>\n",
              "    </tr>\n",
              "    <tr>\n",
              "      <th>max</th>\n",
              "      <td>512622.000000</td>\n",
              "      <td>108.000000</td>\n",
              "    </tr>\n",
              "  </tbody>\n",
              "</table>\n",
              "</div>"
            ],
            "text/plain": [
              "                 No.            age\n",
              "count  512622.000000  462839.000000\n",
              "mean   256311.500000      35.529470\n",
              "std    147981.369183      16.153885\n",
              "min         1.000000       1.000000\n",
              "25%    128156.250000      25.000000\n",
              "50%    256311.500000      34.000000\n",
              "75%    384466.750000      46.000000\n",
              "max    512622.000000     108.000000"
            ]
          },
          "metadata": {
            "tags": []
          },
          "execution_count": 10
        }
      ]
    },
    {
      "cell_type": "markdown",
      "metadata": {
        "id": "FzI6nMiNDlgI"
      },
      "source": [
        "Count คือจำนวนของ Record ที่หายไปคือไม่ได้กรอก"
      ]
    },
    {
      "cell_type": "code",
      "metadata": {
        "id": "9lMk2xT6FMRi"
      },
      "source": [
        "from matplotlib import pyplot as  plt  # package นี้ใช้สำหรับวาดรูปหรือ plot กราฟ"
      ],
      "execution_count": 11,
      "outputs": []
    },
    {
      "cell_type": "code",
      "metadata": {
        "colab": {
          "base_uri": "https://localhost:8080/",
          "height": 399
        },
        "id": "20YhA_W-DSrv",
        "outputId": "975ef700-ff3e-40b3-b081-518f1f363fe0"
      },
      "source": [
        "plt.boxplot(data_cases['age']) # เนื่องจากมีค่า missing ทำให้ plot ออกมาไม่ได้ต้องจัดการกับ missing values ก่อน"
      ],
      "execution_count": 12,
      "outputs": [
        {
          "output_type": "execute_result",
          "data": {
            "text/plain": [
              "{'boxes': [<matplotlib.lines.Line2D at 0x7ff6f68bdf50>],\n",
              " 'caps': [<matplotlib.lines.Line2D at 0x7ff6f6858050>,\n",
              "  <matplotlib.lines.Line2D at 0x7ff6f6858590>],\n",
              " 'fliers': [<matplotlib.lines.Line2D at 0x7ff6f6860090>],\n",
              " 'means': [],\n",
              " 'medians': [<matplotlib.lines.Line2D at 0x7ff6f6858b10>],\n",
              " 'whiskers': [<matplotlib.lines.Line2D at 0x7ff6f68cf590>,\n",
              "  <matplotlib.lines.Line2D at 0x7ff6f68cfad0>]}"
            ]
          },
          "metadata": {
            "tags": []
          },
          "execution_count": 12
        },
        {
          "output_type": "display_data",
          "data": {
            "image/png": "[encoded data removed]",
            "text/plain": [
              "<Figure size 432x288 with 1 Axes>"
            ]
          },
          "metadata": {
            "tags": [],
            "needs_background": "light"
          }
        }
      ]
    },
    {
      "cell_type": "markdown",
      "metadata": {
        "id": "zKmb5RQ_Fwtw"
      },
      "source": [
        "### **Missing values**\n",
        "\n",
        "\n",
        "\n",
        "*   NaN = Not a Number\n",
        "*   Null \n",
        "*   NA = Not Available"
      ]
    },
    {
      "cell_type": "code",
      "metadata": {
        "colab": {
          "base_uri": "https://localhost:8080/",
          "height": 417
        },
        "id": "HafUCnFI4mz7",
        "outputId": "ababd1f8-9516-4a77-a3f6-ca4492a719a9"
      },
      "source": [
        "data_cases"
      ],
      "execution_count": 13,
      "outputs": [
        {
          "output_type": "execute_result",
          "data": {
            "text/html": [
              "<div>\n",
              "<style scoped>\n",
              "    .dataframe tbody tr th:only-of-type {\n",
              "        vertical-align: middle;\n",
              "    }\n",
              "\n",
              "    .dataframe tbody tr th {\n",
              "        vertical-align: top;\n",
              "    }\n",
              "\n",
              "    .dataframe thead th {\n",
              "        text-align: right;\n",
              "    }\n",
              "</style>\n",
              "<table border=\"1\" class=\"dataframe\">\n",
              "  <thead>\n",
              "    <tr style=\"text-align: right;\">\n",
              "      <th></th>\n",
              "      <th>No.</th>\n",
              "      <th>announce_date</th>\n",
              "      <th>Notified date</th>\n",
              "      <th>sex</th>\n",
              "      <th>age</th>\n",
              "      <th>Unit</th>\n",
              "      <th>nationality</th>\n",
              "      <th>province_of_isolation</th>\n",
              "      <th>risk</th>\n",
              "      <th>province_of_onset</th>\n",
              "      <th>district_of_onset</th>\n",
              "    </tr>\n",
              "  </thead>\n",
              "  <tbody>\n",
              "    <tr>\n",
              "      <th>0</th>\n",
              "      <td>1</td>\n",
              "      <td>12/1/2020</td>\n",
              "      <td>NaN</td>\n",
              "      <td>หญิง</td>\n",
              "      <td>61.0</td>\n",
              "      <td>ปี</td>\n",
              "      <td>China</td>\n",
              "      <td>กรุงเทพมหานคร</td>\n",
              "      <td>คนต่างชาติเดินทางมาจากต่างประเทศ</td>\n",
              "      <td>กรุงเทพมหานคร</td>\n",
              "      <td>NaN</td>\n",
              "    </tr>\n",
              "    <tr>\n",
              "      <th>1</th>\n",
              "      <td>2</td>\n",
              "      <td>17/1/2020</td>\n",
              "      <td>NaN</td>\n",
              "      <td>หญิง</td>\n",
              "      <td>74.0</td>\n",
              "      <td>ปี</td>\n",
              "      <td>China</td>\n",
              "      <td>กรุงเทพมหานคร</td>\n",
              "      <td>คนต่างชาติเดินทางมาจากต่างประเทศ</td>\n",
              "      <td>กรุงเทพมหานคร</td>\n",
              "      <td>NaN</td>\n",
              "    </tr>\n",
              "    <tr>\n",
              "      <th>2</th>\n",
              "      <td>3</td>\n",
              "      <td>22/1/2020</td>\n",
              "      <td>NaN</td>\n",
              "      <td>หญิง</td>\n",
              "      <td>73.0</td>\n",
              "      <td>ปี</td>\n",
              "      <td>Thailand</td>\n",
              "      <td>นครปฐม</td>\n",
              "      <td>คนต่างชาติเดินทางมาจากต่างประเทศ</td>\n",
              "      <td>นครปฐม</td>\n",
              "      <td>เมือง</td>\n",
              "    </tr>\n",
              "    <tr>\n",
              "      <th>3</th>\n",
              "      <td>4</td>\n",
              "      <td>22/1/2020</td>\n",
              "      <td>NaN</td>\n",
              "      <td>ชาย</td>\n",
              "      <td>68.0</td>\n",
              "      <td>ปี</td>\n",
              "      <td>China</td>\n",
              "      <td>กรุงเทพมหานคร</td>\n",
              "      <td>คนต่างชาติเดินทางมาจากต่างประเทศ</td>\n",
              "      <td>กรุงเทพมหานคร</td>\n",
              "      <td>NaN</td>\n",
              "    </tr>\n",
              "    <tr>\n",
              "      <th>4</th>\n",
              "      <td>5</td>\n",
              "      <td>24/1/2020</td>\n",
              "      <td>NaN</td>\n",
              "      <td>หญิง</td>\n",
              "      <td>66.0</td>\n",
              "      <td>ปี</td>\n",
              "      <td>China</td>\n",
              "      <td>นนทบุรี</td>\n",
              "      <td>คนต่างชาติเดินทางมาจากต่างประเทศ</td>\n",
              "      <td>กรุงเทพมหานคร</td>\n",
              "      <td>NaN</td>\n",
              "    </tr>\n",
              "    <tr>\n",
              "      <th>...</th>\n",
              "      <td>...</td>\n",
              "      <td>...</td>\n",
              "      <td>...</td>\n",
              "      <td>...</td>\n",
              "      <td>...</td>\n",
              "      <td>...</td>\n",
              "      <td>...</td>\n",
              "      <td>...</td>\n",
              "      <td>...</td>\n",
              "      <td>...</td>\n",
              "      <td>...</td>\n",
              "    </tr>\n",
              "    <tr>\n",
              "      <th>512617</th>\n",
              "      <td>512618</td>\n",
              "      <td>26/7/2021</td>\n",
              "      <td>25/7/2021</td>\n",
              "      <td>ชาย</td>\n",
              "      <td>NaN</td>\n",
              "      <td>NaN</td>\n",
              "      <td>NaN</td>\n",
              "      <td>ชลบุรี</td>\n",
              "      <td>ทัณฑสถาน/เรือนจำ</td>\n",
              "      <td>NaN</td>\n",
              "      <td>NaN</td>\n",
              "    </tr>\n",
              "    <tr>\n",
              "      <th>512618</th>\n",
              "      <td>512619</td>\n",
              "      <td>26/7/2021</td>\n",
              "      <td>25/7/2021</td>\n",
              "      <td>ชาย</td>\n",
              "      <td>NaN</td>\n",
              "      <td>NaN</td>\n",
              "      <td>NaN</td>\n",
              "      <td>ชลบุรี</td>\n",
              "      <td>ทัณฑสถาน/เรือนจำ</td>\n",
              "      <td>NaN</td>\n",
              "      <td>NaN</td>\n",
              "    </tr>\n",
              "    <tr>\n",
              "      <th>512619</th>\n",
              "      <td>512620</td>\n",
              "      <td>26/7/2021</td>\n",
              "      <td>25/7/2021</td>\n",
              "      <td>ชาย</td>\n",
              "      <td>NaN</td>\n",
              "      <td>NaN</td>\n",
              "      <td>NaN</td>\n",
              "      <td>ชลบุรี</td>\n",
              "      <td>ทัณฑสถาน/เรือนจำ</td>\n",
              "      <td>NaN</td>\n",
              "      <td>NaN</td>\n",
              "    </tr>\n",
              "    <tr>\n",
              "      <th>512620</th>\n",
              "      <td>512621</td>\n",
              "      <td>26/7/2021</td>\n",
              "      <td>25/7/2021</td>\n",
              "      <td>ชาย</td>\n",
              "      <td>NaN</td>\n",
              "      <td>NaN</td>\n",
              "      <td>NaN</td>\n",
              "      <td>ชลบุรี</td>\n",
              "      <td>ทัณฑสถาน/เรือนจำ</td>\n",
              "      <td>NaN</td>\n",
              "      <td>NaN</td>\n",
              "    </tr>\n",
              "    <tr>\n",
              "      <th>512621</th>\n",
              "      <td>512622</td>\n",
              "      <td>26/7/2021</td>\n",
              "      <td>25/7/2021</td>\n",
              "      <td>ชาย</td>\n",
              "      <td>NaN</td>\n",
              "      <td>NaN</td>\n",
              "      <td>NaN</td>\n",
              "      <td>ชลบุรี</td>\n",
              "      <td>ทัณฑสถาน/เรือนจำ</td>\n",
              "      <td>NaN</td>\n",
              "      <td>NaN</td>\n",
              "    </tr>\n",
              "  </tbody>\n",
              "</table>\n",
              "<p>512622 rows × 11 columns</p>\n",
              "</div>"
            ],
            "text/plain": [
              "           No. announce_date  ... province_of_onset district_of_onset\n",
              "0            1     12/1/2020  ...     กรุงเทพมหานคร               NaN\n",
              "1            2     17/1/2020  ...     กรุงเทพมหานคร               NaN\n",
              "2            3     22/1/2020  ...            นครปฐม             เมือง\n",
              "3            4     22/1/2020  ...     กรุงเทพมหานคร               NaN\n",
              "4            5     24/1/2020  ...     กรุงเทพมหานคร               NaN\n",
              "...        ...           ...  ...               ...               ...\n",
              "512617  512618     26/7/2021  ...               NaN               NaN\n",
              "512618  512619     26/7/2021  ...               NaN               NaN\n",
              "512619  512620     26/7/2021  ...               NaN               NaN\n",
              "512620  512621     26/7/2021  ...               NaN               NaN\n",
              "512621  512622     26/7/2021  ...               NaN               NaN\n",
              "\n",
              "[512622 rows x 11 columns]"
            ]
          },
          "metadata": {
            "tags": []
          },
          "execution_count": 13
        }
      ]
    },
    {
      "cell_type": "code",
      "metadata": {
        "colab": {
          "base_uri": "https://localhost:8080/",
          "height": 417
        },
        "id": "cNYjxstKFywc",
        "outputId": "b89eb728-6fc2-4939-8fb5-4540230c5fcd"
      },
      "source": [
        "data_cases.isnull() # ตรงไหนเป็นช่องว่างจะขึ้นว่า True ตรงไหนไม่เป็นช่องว่างจะขึ้นว่า False"
      ],
      "execution_count": 14,
      "outputs": [
        {
          "output_type": "execute_result",
          "data": {
            "text/html": [
              "<div>\n",
              "<style scoped>\n",
              "    .dataframe tbody tr th:only-of-type {\n",
              "        vertical-align: middle;\n",
              "    }\n",
              "\n",
              "    .dataframe tbody tr th {\n",
              "        vertical-align: top;\n",
              "    }\n",
              "\n",
              "    .dataframe thead th {\n",
              "        text-align: right;\n",
              "    }\n",
              "</style>\n",
              "<table border=\"1\" class=\"dataframe\">\n",
              "  <thead>\n",
              "    <tr style=\"text-align: right;\">\n",
              "      <th></th>\n",
              "      <th>No.</th>\n",
              "      <th>announce_date</th>\n",
              "      <th>Notified date</th>\n",
              "      <th>sex</th>\n",
              "      <th>age</th>\n",
              "      <th>Unit</th>\n",
              "      <th>nationality</th>\n",
              "      <th>province_of_isolation</th>\n",
              "      <th>risk</th>\n",
              "      <th>province_of_onset</th>\n",
              "      <th>district_of_onset</th>\n",
              "    </tr>\n",
              "  </thead>\n",
              "  <tbody>\n",
              "    <tr>\n",
              "      <th>0</th>\n",
              "      <td>False</td>\n",
              "      <td>False</td>\n",
              "      <td>True</td>\n",
              "      <td>False</td>\n",
              "      <td>False</td>\n",
              "      <td>False</td>\n",
              "      <td>False</td>\n",
              "      <td>False</td>\n",
              "      <td>False</td>\n",
              "      <td>False</td>\n",
              "      <td>True</td>\n",
              "    </tr>\n",
              "    <tr>\n",
              "      <th>1</th>\n",
              "      <td>False</td>\n",
              "      <td>False</td>\n",
              "      <td>True</td>\n",
              "      <td>False</td>\n",
              "      <td>False</td>\n",
              "      <td>False</td>\n",
              "      <td>False</td>\n",
              "      <td>False</td>\n",
              "      <td>False</td>\n",
              "      <td>False</td>\n",
              "      <td>True</td>\n",
              "    </tr>\n",
              "    <tr>\n",
              "      <th>2</th>\n",
              "      <td>False</td>\n",
              "      <td>False</td>\n",
              "      <td>True</td>\n",
              "      <td>False</td>\n",
              "      <td>False</td>\n",
              "      <td>False</td>\n",
              "      <td>False</td>\n",
              "      <td>False</td>\n",
              "      <td>False</td>\n",
              "      <td>False</td>\n",
              "      <td>False</td>\n",
              "    </tr>\n",
              "    <tr>\n",
              "      <th>3</th>\n",
              "      <td>False</td>\n",
              "      <td>False</td>\n",
              "      <td>True</td>\n",
              "      <td>False</td>\n",
              "      <td>False</td>\n",
              "      <td>False</td>\n",
              "      <td>False</td>\n",
              "      <td>False</td>\n",
              "      <td>False</td>\n",
              "      <td>False</td>\n",
              "      <td>True</td>\n",
              "    </tr>\n",
              "    <tr>\n",
              "      <th>4</th>\n",
              "      <td>False</td>\n",
              "      <td>False</td>\n",
              "      <td>True</td>\n",
              "      <td>False</td>\n",
              "      <td>False</td>\n",
              "      <td>False</td>\n",
              "      <td>False</td>\n",
              "      <td>False</td>\n",
              "      <td>False</td>\n",
              "      <td>False</td>\n",
              "      <td>True</td>\n",
              "    </tr>\n",
              "    <tr>\n",
              "      <th>...</th>\n",
              "      <td>...</td>\n",
              "      <td>...</td>\n",
              "      <td>...</td>\n",
              "      <td>...</td>\n",
              "      <td>...</td>\n",
              "      <td>...</td>\n",
              "      <td>...</td>\n",
              "      <td>...</td>\n",
              "      <td>...</td>\n",
              "      <td>...</td>\n",
              "      <td>...</td>\n",
              "    </tr>\n",
              "    <tr>\n",
              "      <th>512617</th>\n",
              "      <td>False</td>\n",
              "      <td>False</td>\n",
              "      <td>False</td>\n",
              "      <td>False</td>\n",
              "      <td>True</td>\n",
              "      <td>True</td>\n",
              "      <td>True</td>\n",
              "      <td>False</td>\n",
              "      <td>False</td>\n",
              "      <td>True</td>\n",
              "      <td>True</td>\n",
              "    </tr>\n",
              "    <tr>\n",
              "      <th>512618</th>\n",
              "      <td>False</td>\n",
              "      <td>False</td>\n",
              "      <td>False</td>\n",
              "      <td>False</td>\n",
              "      <td>True</td>\n",
              "      <td>True</td>\n",
              "      <td>True</td>\n",
              "      <td>False</td>\n",
              "      <td>False</td>\n",
              "      <td>True</td>\n",
              "      <td>True</td>\n",
              "    </tr>\n",
              "    <tr>\n",
              "      <th>512619</th>\n",
              "      <td>False</td>\n",
              "      <td>False</td>\n",
              "      <td>False</td>\n",
              "      <td>False</td>\n",
              "      <td>True</td>\n",
              "      <td>True</td>\n",
              "      <td>True</td>\n",
              "      <td>False</td>\n",
              "      <td>False</td>\n",
              "      <td>True</td>\n",
              "      <td>True</td>\n",
              "    </tr>\n",
              "    <tr>\n",
              "      <th>512620</th>\n",
              "      <td>False</td>\n",
              "      <td>False</td>\n",
              "      <td>False</td>\n",
              "      <td>False</td>\n",
              "      <td>True</td>\n",
              "      <td>True</td>\n",
              "      <td>True</td>\n",
              "      <td>False</td>\n",
              "      <td>False</td>\n",
              "      <td>True</td>\n",
              "      <td>True</td>\n",
              "    </tr>\n",
              "    <tr>\n",
              "      <th>512621</th>\n",
              "      <td>False</td>\n",
              "      <td>False</td>\n",
              "      <td>False</td>\n",
              "      <td>False</td>\n",
              "      <td>True</td>\n",
              "      <td>True</td>\n",
              "      <td>True</td>\n",
              "      <td>False</td>\n",
              "      <td>False</td>\n",
              "      <td>True</td>\n",
              "      <td>True</td>\n",
              "    </tr>\n",
              "  </tbody>\n",
              "</table>\n",
              "<p>512622 rows × 11 columns</p>\n",
              "</div>"
            ],
            "text/plain": [
              "          No.  announce_date  ...  province_of_onset  district_of_onset\n",
              "0       False          False  ...              False               True\n",
              "1       False          False  ...              False               True\n",
              "2       False          False  ...              False              False\n",
              "3       False          False  ...              False               True\n",
              "4       False          False  ...              False               True\n",
              "...       ...            ...  ...                ...                ...\n",
              "512617  False          False  ...               True               True\n",
              "512618  False          False  ...               True               True\n",
              "512619  False          False  ...               True               True\n",
              "512620  False          False  ...               True               True\n",
              "512621  False          False  ...               True               True\n",
              "\n",
              "[512622 rows x 11 columns]"
            ]
          },
          "metadata": {
            "tags": []
          },
          "execution_count": 14
        }
      ]
    },
    {
      "cell_type": "code",
      "metadata": {
        "colab": {
          "base_uri": "https://localhost:8080/"
        },
        "id": "NEctwhCEGQ0a",
        "outputId": "be426b1c-dabf-4b03-b349-6487f1ab1be2"
      },
      "source": [
        "data_cases.isnull().any() # ดูว่าคอลัมน์ไหนมีค่า missing บ้าง"
      ],
      "execution_count": 15,
      "outputs": [
        {
          "output_type": "execute_result",
          "data": {
            "text/plain": [
              "No.                      False\n",
              "announce_date            False\n",
              "Notified date             True\n",
              "sex                       True\n",
              "age                       True\n",
              "Unit                      True\n",
              "nationality               True\n",
              "province_of_isolation     True\n",
              "risk                      True\n",
              "province_of_onset         True\n",
              "district_of_onset         True\n",
              "dtype: bool"
            ]
          },
          "metadata": {
            "tags": []
          },
          "execution_count": 15
        }
      ]
    },
    {
      "cell_type": "markdown",
      "metadata": {
        "id": "5IrcgtQ7Gtyj"
      },
      "source": [
        "### **Handling Missing Values 1**\n",
        "\n",
        "\n",
        "1.   ลบค่า Missing ออกไป\n",
        "\n",
        "\n"
      ]
    },
    {
      "cell_type": "code",
      "metadata": {
        "colab": {
          "base_uri": "https://localhost:8080/",
          "height": 399
        },
        "id": "edrf_ol2GkvX",
        "outputId": "1be8f216-ca80-48e5-e670-6862caac9a53"
      },
      "source": [
        "plt.boxplot(data_cases['age'].dropna())    # dropna จะมาช่วยในการลบค่า missing ออกไป"
      ],
      "execution_count": 16,
      "outputs": [
        {
          "output_type": "execute_result",
          "data": {
            "text/plain": [
              "{'boxes': [<matplotlib.lines.Line2D at 0x7ff6f63a4b50>],\n",
              " 'caps': [<matplotlib.lines.Line2D at 0x7ff6f63aabd0>,\n",
              "  <matplotlib.lines.Line2D at 0x7ff6f63b0150>],\n",
              " 'fliers': [<matplotlib.lines.Line2D at 0x7ff6f63b0c10>],\n",
              " 'means': [],\n",
              " 'medians': [<matplotlib.lines.Line2D at 0x7ff6f63b06d0>],\n",
              " 'whiskers': [<matplotlib.lines.Line2D at 0x7ff6f63aa150>,\n",
              "  <matplotlib.lines.Line2D at 0x7ff6f63aa690>]}"
            ]
          },
          "metadata": {
            "tags": []
          },
          "execution_count": 16
        },
        {
          "output_type": "display_data",
          "data": {
            "image/png": "[encoded data removed]",
            "text/plain": [
              "<Figure size 432x288 with 1 Axes>"
            ]
          },
          "metadata": {
            "tags": [],
            "needs_background": "light"
          }
        }
      ]
    },
    {
      "cell_type": "code",
      "metadata": {
        "colab": {
          "base_uri": "https://localhost:8080/",
          "height": 417
        },
        "id": "OieTXLasIBJi",
        "outputId": "f525a21c-eb4f-4047-93d0-77309bb245e0"
      },
      "source": [
        "data_cases.dropna() # เอาตารางมาลบค่า Missing โดยใช้ dropna ทำให้ข้อมูลถูกลบมากเกินไป"
      ],
      "execution_count": 17,
      "outputs": [
        {
          "output_type": "execute_result",
          "data": {
            "text/html": [
              "<div>\n",
              "<style scoped>\n",
              "    .dataframe tbody tr th:only-of-type {\n",
              "        vertical-align: middle;\n",
              "    }\n",
              "\n",
              "    .dataframe tbody tr th {\n",
              "        vertical-align: top;\n",
              "    }\n",
              "\n",
              "    .dataframe thead th {\n",
              "        text-align: right;\n",
              "    }\n",
              "</style>\n",
              "<table border=\"1\" class=\"dataframe\">\n",
              "  <thead>\n",
              "    <tr style=\"text-align: right;\">\n",
              "      <th></th>\n",
              "      <th>No.</th>\n",
              "      <th>announce_date</th>\n",
              "      <th>Notified date</th>\n",
              "      <th>sex</th>\n",
              "      <th>age</th>\n",
              "      <th>Unit</th>\n",
              "      <th>nationality</th>\n",
              "      <th>province_of_isolation</th>\n",
              "      <th>risk</th>\n",
              "      <th>province_of_onset</th>\n",
              "      <th>district_of_onset</th>\n",
              "    </tr>\n",
              "  </thead>\n",
              "  <tbody>\n",
              "    <tr>\n",
              "      <th>47</th>\n",
              "      <td>48</td>\n",
              "      <td>6/3/2020</td>\n",
              "      <td>4/3/2020</td>\n",
              "      <td>ชาย</td>\n",
              "      <td>43.0</td>\n",
              "      <td>ปี</td>\n",
              "      <td>United Kingdom</td>\n",
              "      <td>กรุงเทพมหานคร</td>\n",
              "      <td>คนต่างชาติเดินทางมาจากต่างประเทศ</td>\n",
              "      <td>กรุงเทพมหานคร</td>\n",
              "      <td>คลองตัน</td>\n",
              "    </tr>\n",
              "    <tr>\n",
              "      <th>124</th>\n",
              "      <td>125</td>\n",
              "      <td>6/3/2021</td>\n",
              "      <td>5/3/2021</td>\n",
              "      <td>หญิง</td>\n",
              "      <td>55.0</td>\n",
              "      <td>ปี</td>\n",
              "      <td>Thailand</td>\n",
              "      <td>ปทุมธานี</td>\n",
              "      <td>Cluster ตลาดพรพัฒน์</td>\n",
              "      <td>ปทุมธานี</td>\n",
              "      <td>ธัญบุรี</td>\n",
              "    </tr>\n",
              "    <tr>\n",
              "      <th>161</th>\n",
              "      <td>162</td>\n",
              "      <td>17/3/2020</td>\n",
              "      <td>21/3/2020</td>\n",
              "      <td>ชาย</td>\n",
              "      <td>14.0</td>\n",
              "      <td>ปี</td>\n",
              "      <td>Thailand</td>\n",
              "      <td>สุราษฎร์ธานี</td>\n",
              "      <td>สัมผัสใกล้ชิดกับผู้ป่วยยืนยันรายก่อนหน้านี้</td>\n",
              "      <td>สุราษฎร์ธานี</td>\n",
              "      <td>เมือง</td>\n",
              "    </tr>\n",
              "    <tr>\n",
              "      <th>181</th>\n",
              "      <td>182</td>\n",
              "      <td>18/3/2020</td>\n",
              "      <td>15/3/2020</td>\n",
              "      <td>ชาย</td>\n",
              "      <td>33.0</td>\n",
              "      <td>ปี</td>\n",
              "      <td>Thailand</td>\n",
              "      <td>ขอนแก่น</td>\n",
              "      <td>สนามมวย</td>\n",
              "      <td>ขอนแก่น</td>\n",
              "      <td>เมือง</td>\n",
              "    </tr>\n",
              "    <tr>\n",
              "      <th>186</th>\n",
              "      <td>187</td>\n",
              "      <td>18/3/2020</td>\n",
              "      <td>16/3/2020</td>\n",
              "      <td>ชาย</td>\n",
              "      <td>36.0</td>\n",
              "      <td>ปี</td>\n",
              "      <td>Thailand</td>\n",
              "      <td>ร้อยเอ็ด</td>\n",
              "      <td>สนามมวย</td>\n",
              "      <td>ร้อยเอ็ด</td>\n",
              "      <td>เชียงขวัญ</td>\n",
              "    </tr>\n",
              "    <tr>\n",
              "      <th>...</th>\n",
              "      <td>...</td>\n",
              "      <td>...</td>\n",
              "      <td>...</td>\n",
              "      <td>...</td>\n",
              "      <td>...</td>\n",
              "      <td>...</td>\n",
              "      <td>...</td>\n",
              "      <td>...</td>\n",
              "      <td>...</td>\n",
              "      <td>...</td>\n",
              "      <td>...</td>\n",
              "    </tr>\n",
              "    <tr>\n",
              "      <th>511575</th>\n",
              "      <td>511576</td>\n",
              "      <td>26/7/2021</td>\n",
              "      <td>25/7/2021</td>\n",
              "      <td>ชาย</td>\n",
              "      <td>50.0</td>\n",
              "      <td>ปี</td>\n",
              "      <td>Thailand</td>\n",
              "      <td>กรุงเทพมหานคร</td>\n",
              "      <td>การค้นหาผู้ป่วยเชิงรุกและค้นหาผู้ติดเชื้อในชุมชน</td>\n",
              "      <td>กรุงเทพมหานคร</td>\n",
              "      <td>มีนบุรี</td>\n",
              "    </tr>\n",
              "    <tr>\n",
              "      <th>511577</th>\n",
              "      <td>511578</td>\n",
              "      <td>26/7/2021</td>\n",
              "      <td>25/7/2021</td>\n",
              "      <td>หญิง</td>\n",
              "      <td>42.0</td>\n",
              "      <td>ปี</td>\n",
              "      <td>Thailand</td>\n",
              "      <td>กรุงเทพมหานคร</td>\n",
              "      <td>การค้นหาผู้ป่วยเชิงรุกและค้นหาผู้ติดเชื้อในชุมชน</td>\n",
              "      <td>กรุงเทพมหานคร</td>\n",
              "      <td>บางบอน</td>\n",
              "    </tr>\n",
              "    <tr>\n",
              "      <th>511578</th>\n",
              "      <td>511579</td>\n",
              "      <td>26/7/2021</td>\n",
              "      <td>25/7/2021</td>\n",
              "      <td>ชาย</td>\n",
              "      <td>32.0</td>\n",
              "      <td>ปี</td>\n",
              "      <td>Thailand</td>\n",
              "      <td>กรุงเทพมหานคร</td>\n",
              "      <td>การค้นหาผู้ป่วยเชิงรุกและค้นหาผู้ติดเชื้อในชุมชน</td>\n",
              "      <td>กรุงเทพมหานคร</td>\n",
              "      <td>ทุ่งครุ</td>\n",
              "    </tr>\n",
              "    <tr>\n",
              "      <th>511579</th>\n",
              "      <td>511580</td>\n",
              "      <td>26/7/2021</td>\n",
              "      <td>25/7/2021</td>\n",
              "      <td>ชาย</td>\n",
              "      <td>37.0</td>\n",
              "      <td>ปี</td>\n",
              "      <td>Thailand</td>\n",
              "      <td>กรุงเทพมหานคร</td>\n",
              "      <td>การค้นหาผู้ป่วยเชิงรุกและค้นหาผู้ติดเชื้อในชุมชน</td>\n",
              "      <td>กรุงเทพมหานคร</td>\n",
              "      <td>พญาไท</td>\n",
              "    </tr>\n",
              "    <tr>\n",
              "      <th>511580</th>\n",
              "      <td>511581</td>\n",
              "      <td>26/7/2021</td>\n",
              "      <td>25/7/2021</td>\n",
              "      <td>ชาย</td>\n",
              "      <td>44.0</td>\n",
              "      <td>ปี</td>\n",
              "      <td>Thailand</td>\n",
              "      <td>กรุงเทพมหานคร</td>\n",
              "      <td>การค้นหาผู้ป่วยเชิงรุกและค้นหาผู้ติดเชื้อในชุมชน</td>\n",
              "      <td>กรุงเทพมหานคร</td>\n",
              "      <td>มีนบุรี</td>\n",
              "    </tr>\n",
              "  </tbody>\n",
              "</table>\n",
              "<p>362205 rows × 11 columns</p>\n",
              "</div>"
            ],
            "text/plain": [
              "           No. announce_date  ... province_of_onset district_of_onset\n",
              "47          48      6/3/2020  ...     กรุงเทพมหานคร           คลองตัน\n",
              "124        125      6/3/2021  ...          ปทุมธานี           ธัญบุรี\n",
              "161        162     17/3/2020  ...      สุราษฎร์ธานี             เมือง\n",
              "181        182     18/3/2020  ...           ขอนแก่น             เมือง\n",
              "186        187     18/3/2020  ...          ร้อยเอ็ด         เชียงขวัญ\n",
              "...        ...           ...  ...               ...               ...\n",
              "511575  511576     26/7/2021  ...     กรุงเทพมหานคร           มีนบุรี\n",
              "511577  511578     26/7/2021  ...     กรุงเทพมหานคร            บางบอน\n",
              "511578  511579     26/7/2021  ...     กรุงเทพมหานคร           ทุ่งครุ\n",
              "511579  511580     26/7/2021  ...     กรุงเทพมหานคร             พญาไท\n",
              "511580  511581     26/7/2021  ...     กรุงเทพมหานคร           มีนบุรี\n",
              "\n",
              "[362205 rows x 11 columns]"
            ]
          },
          "metadata": {
            "tags": []
          },
          "execution_count": 17
        }
      ]
    },
    {
      "cell_type": "code",
      "metadata": {
        "colab": {
          "base_uri": "https://localhost:8080/"
        },
        "id": "yRXf5B-U43p1",
        "outputId": "eed5d645-c11c-49fd-e6e1-ac4b3770e1d8"
      },
      "source": [
        "data_cases.dropna().shape"
      ],
      "execution_count": 18,
      "outputs": [
        {
          "output_type": "execute_result",
          "data": {
            "text/plain": [
              "(362205, 11)"
            ]
          },
          "metadata": {
            "tags": []
          },
          "execution_count": 18
        }
      ]
    },
    {
      "cell_type": "code",
      "metadata": {
        "colab": {
          "base_uri": "https://localhost:8080/"
        },
        "id": "IuLa8r0HIHs2",
        "outputId": "73dad7b6-7c9f-4897-a3ff-5da342fd1f7e"
      },
      "source": [
        "data_cases.dropna().shape[0]"
      ],
      "execution_count": 19,
      "outputs": [
        {
          "output_type": "execute_result",
          "data": {
            "text/plain": [
              "362205"
            ]
          },
          "metadata": {
            "tags": []
          },
          "execution_count": 19
        }
      ]
    },
    {
      "cell_type": "markdown",
      "metadata": {
        "id": "LbtfEstZJZKg"
      },
      "source": [
        "**Quiz 3** ให้หาว่า การทำ dropna() ทำให้ข้อมูลหาไปกี่ %"
      ]
    },
    {
      "cell_type": "code",
      "metadata": {
        "colab": {
          "base_uri": "https://localhost:8080/"
        },
        "id": "Niq5zXAaIkek",
        "outputId": "773014fc-f87b-443c-d7f7-462c00d58576"
      },
      "source": [
        "data_cases.shape[0]\n",
        "print(f'size before drop = {data_cases.shape[0]}')\n",
        "data_cases.dropna().shape[0]\n",
        "print(f'size after drop = {data_cases.dropna().shape[0]}')\n",
        "ผลต่าง = ((data_cases.shape[0] - data_cases.dropna().shape[0])/data_cases.shape[0])*100\n",
        "print(f'we loss {ผลต่าง}% of data')"
      ],
      "execution_count": 20,
      "outputs": [
        {
          "output_type": "stream",
          "text": [
            "size before drop = 512622\n",
            "size after drop = 362205\n",
            "we loss 29.342673548930794% of data\n"
          ],
          "name": "stdout"
        }
      ]
    },
    {
      "cell_type": "code",
      "metadata": {
        "colab": {
          "base_uri": "https://localhost:8080/"
        },
        "id": "5nV1ck2y5AYV",
        "outputId": "fa9b2215-8811-48a7-d866-a3c643026e45"
      },
      "source": [
        "## เฉลย Quiz 3\n",
        "removed = data_cases.shape[0] - data_cases.dropna().shape[0]\n",
        "\n",
        "print(f'size before drop = {data_cases.shape[0]}')\n",
        "print(f'size after drop = {data_cases.dropna().shape[0]}')\n",
        "print(f'we lost {100*(removed/data_cases.shape[0])}% of data')"
      ],
      "execution_count": 21,
      "outputs": [
        {
          "output_type": "stream",
          "text": [
            "size before drop = 512622\n",
            "size after drop = 362205\n",
            "we lost 29.342673548930794% of data\n"
          ],
          "name": "stdout"
        }
      ]
    },
    {
      "cell_type": "markdown",
      "metadata": {
        "id": "is-VMUAhO3B-"
      },
      "source": [
        "### **Handling Missing Value 1.5**\n",
        "\n",
        "1.5 ลบค่า missing เฉพาะใน column ที่เราสนใจ"
      ]
    },
    {
      "cell_type": "code",
      "metadata": {
        "id": "O1E8-lDBPW32"
      },
      "source": [
        "data_cases_nomissingAge = data_cases.dropna(subset=['age'])"
      ],
      "execution_count": 22,
      "outputs": []
    },
    {
      "cell_type": "code",
      "metadata": {
        "colab": {
          "base_uri": "https://localhost:8080/",
          "height": 399
        },
        "id": "Ye-fvE2xPty4",
        "outputId": "e480be3c-4792-4a61-f925-bad36970c390"
      },
      "source": [
        "plt.boxplot(data_cases_nomissingAge['age'])"
      ],
      "execution_count": 23,
      "outputs": [
        {
          "output_type": "execute_result",
          "data": {
            "text/plain": [
              "{'boxes': [<matplotlib.lines.Line2D at 0x7ff6f589f950>],\n",
              " 'caps': [<matplotlib.lines.Line2D at 0x7ff6f58a49d0>,\n",
              "  <matplotlib.lines.Line2D at 0x7ff6f58a4f10>],\n",
              " 'fliers': [<matplotlib.lines.Line2D at 0x7ff6f58aaa10>],\n",
              " 'means': [],\n",
              " 'medians': [<matplotlib.lines.Line2D at 0x7ff6f58aa4d0>],\n",
              " 'whiskers': [<matplotlib.lines.Line2D at 0x7ff6f589ff10>,\n",
              "  <matplotlib.lines.Line2D at 0x7ff6f58a4490>]}"
            ]
          },
          "metadata": {
            "tags": []
          },
          "execution_count": 23
        },
        {
          "output_type": "display_data",
          "data": {
            "image/png": "[encoded data removed]",
            "text/plain": [
              "<Figure size 432x288 with 1 Axes>"
            ]
          },
          "metadata": {
            "tags": [],
            "needs_background": "light"
          }
        }
      ]
    },
    {
      "cell_type": "markdown",
      "metadata": {
        "id": "uAFr5EJiPfDh"
      },
      "source": [
        "**Quiz 3.1** ให้หาว่าการทำ dropna() แบบเลือก drop เฉพาะคอลัมน์ที่เราสนใจทำให้ข้อมูลหายไปกี่ %"
      ]
    },
    {
      "cell_type": "code",
      "metadata": {
        "colab": {
          "base_uri": "https://localhost:8080/"
        },
        "id": "yW8ogWKlS-sT",
        "outputId": "a723c230-2c04-48a7-c8e1-b18da58bb303"
      },
      "source": [
        "print(f'size before drop = {data_cases.shape[0]}')\n",
        "data_cases_nomissingAge.shape[0]\n",
        "print(f'size after drop = {data_cases_nomissingAge.shape[0]}')\n",
        "ผลต่าง = ((data_cases.shape[0] - data_cases_nomissingAge.shape[0])/data_cases.shape[0])*100\n",
        "print(f'we loss {ผลต่าง}% of data')"
      ],
      "execution_count": 24,
      "outputs": [
        {
          "output_type": "stream",
          "text": [
            "size before drop = 512622\n",
            "size after drop = 462839\n",
            "we loss 9.711444300088564% of data\n"
          ],
          "name": "stdout"
        }
      ]
    },
    {
      "cell_type": "code",
      "metadata": {
        "colab": {
          "base_uri": "https://localhost:8080/"
        },
        "id": "MiIH26gd5igD",
        "outputId": "4ee79d93-c81c-45d9-e82f-f66275755c38"
      },
      "source": [
        "# เฉลย Quiz 3.1\n",
        "removed = data_cases.shape[0] - data_cases_nomissingAge.shape[0]\n",
        "\n",
        "print(f'size before drop = {data_cases.shape[0]}')\n",
        "print(f'size after drop = {data_cases_nomissingAge.shape[0]}')\n",
        "print(f'we lost {100*(removed/data_cases.shape[0])}% of data')"
      ],
      "execution_count": 25,
      "outputs": [
        {
          "output_type": "stream",
          "text": [
            "size before drop = 512622\n",
            "size after drop = 462839\n",
            "we lost 9.711444300088564% of data\n"
          ],
          "name": "stdout"
        }
      ]
    },
    {
      "cell_type": "markdown",
      "metadata": {
        "id": "k_niOJSFT0fm"
      },
      "source": [
        "### **Handing Missing Values 2**\n",
        "\n",
        "\n",
        "\n",
        "2.   แทนด้วย class ใหม่ (Unknow)"
      ]
    },
    {
      "cell_type": "code",
      "metadata": {
        "colab": {
          "base_uri": "https://localhost:8080/",
          "height": 417
        },
        "id": "R5iNnVluUX3C",
        "outputId": "55129d71-1197-40f9-8a48-9417757ea5b4"
      },
      "source": [
        "data_cases"
      ],
      "execution_count": 26,
      "outputs": [
        {
          "output_type": "execute_result",
          "data": {
            "text/html": [
              "<div>\n",
              "<style scoped>\n",
              "    .dataframe tbody tr th:only-of-type {\n",
              "        vertical-align: middle;\n",
              "    }\n",
              "\n",
              "    .dataframe tbody tr th {\n",
              "        vertical-align: top;\n",
              "    }\n",
              "\n",
              "    .dataframe thead th {\n",
              "        text-align: right;\n",
              "    }\n",
              "</style>\n",
              "<table border=\"1\" class=\"dataframe\">\n",
              "  <thead>\n",
              "    <tr style=\"text-align: right;\">\n",
              "      <th></th>\n",
              "      <th>No.</th>\n",
              "      <th>announce_date</th>\n",
              "      <th>Notified date</th>\n",
              "      <th>sex</th>\n",
              "      <th>age</th>\n",
              "      <th>Unit</th>\n",
              "      <th>nationality</th>\n",
              "      <th>province_of_isolation</th>\n",
              "      <th>risk</th>\n",
              "      <th>province_of_onset</th>\n",
              "      <th>district_of_onset</th>\n",
              "    </tr>\n",
              "  </thead>\n",
              "  <tbody>\n",
              "    <tr>\n",
              "      <th>0</th>\n",
              "      <td>1</td>\n",
              "      <td>12/1/2020</td>\n",
              "      <td>NaN</td>\n",
              "      <td>หญิง</td>\n",
              "      <td>61.0</td>\n",
              "      <td>ปี</td>\n",
              "      <td>China</td>\n",
              "      <td>กรุงเทพมหานคร</td>\n",
              "      <td>คนต่างชาติเดินทางมาจากต่างประเทศ</td>\n",
              "      <td>กรุงเทพมหานคร</td>\n",
              "      <td>NaN</td>\n",
              "    </tr>\n",
              "    <tr>\n",
              "      <th>1</th>\n",
              "      <td>2</td>\n",
              "      <td>17/1/2020</td>\n",
              "      <td>NaN</td>\n",
              "      <td>หญิง</td>\n",
              "      <td>74.0</td>\n",
              "      <td>ปี</td>\n",
              "      <td>China</td>\n",
              "      <td>กรุงเทพมหานคร</td>\n",
              "      <td>คนต่างชาติเดินทางมาจากต่างประเทศ</td>\n",
              "      <td>กรุงเทพมหานคร</td>\n",
              "      <td>NaN</td>\n",
              "    </tr>\n",
              "    <tr>\n",
              "      <th>2</th>\n",
              "      <td>3</td>\n",
              "      <td>22/1/2020</td>\n",
              "      <td>NaN</td>\n",
              "      <td>หญิง</td>\n",
              "      <td>73.0</td>\n",
              "      <td>ปี</td>\n",
              "      <td>Thailand</td>\n",
              "      <td>นครปฐม</td>\n",
              "      <td>คนต่างชาติเดินทางมาจากต่างประเทศ</td>\n",
              "      <td>นครปฐม</td>\n",
              "      <td>เมือง</td>\n",
              "    </tr>\n",
              "    <tr>\n",
              "      <th>3</th>\n",
              "      <td>4</td>\n",
              "      <td>22/1/2020</td>\n",
              "      <td>NaN</td>\n",
              "      <td>ชาย</td>\n",
              "      <td>68.0</td>\n",
              "      <td>ปี</td>\n",
              "      <td>China</td>\n",
              "      <td>กรุงเทพมหานคร</td>\n",
              "      <td>คนต่างชาติเดินทางมาจากต่างประเทศ</td>\n",
              "      <td>กรุงเทพมหานคร</td>\n",
              "      <td>NaN</td>\n",
              "    </tr>\n",
              "    <tr>\n",
              "      <th>4</th>\n",
              "      <td>5</td>\n",
              "      <td>24/1/2020</td>\n",
              "      <td>NaN</td>\n",
              "      <td>หญิง</td>\n",
              "      <td>66.0</td>\n",
              "      <td>ปี</td>\n",
              "      <td>China</td>\n",
              "      <td>นนทบุรี</td>\n",
              "      <td>คนต่างชาติเดินทางมาจากต่างประเทศ</td>\n",
              "      <td>กรุงเทพมหานคร</td>\n",
              "      <td>NaN</td>\n",
              "    </tr>\n",
              "    <tr>\n",
              "      <th>...</th>\n",
              "      <td>...</td>\n",
              "      <td>...</td>\n",
              "      <td>...</td>\n",
              "      <td>...</td>\n",
              "      <td>...</td>\n",
              "      <td>...</td>\n",
              "      <td>...</td>\n",
              "      <td>...</td>\n",
              "      <td>...</td>\n",
              "      <td>...</td>\n",
              "      <td>...</td>\n",
              "    </tr>\n",
              "    <tr>\n",
              "      <th>512617</th>\n",
              "      <td>512618</td>\n",
              "      <td>26/7/2021</td>\n",
              "      <td>25/7/2021</td>\n",
              "      <td>ชาย</td>\n",
              "      <td>NaN</td>\n",
              "      <td>NaN</td>\n",
              "      <td>NaN</td>\n",
              "      <td>ชลบุรี</td>\n",
              "      <td>ทัณฑสถาน/เรือนจำ</td>\n",
              "      <td>NaN</td>\n",
              "      <td>NaN</td>\n",
              "    </tr>\n",
              "    <tr>\n",
              "      <th>512618</th>\n",
              "      <td>512619</td>\n",
              "      <td>26/7/2021</td>\n",
              "      <td>25/7/2021</td>\n",
              "      <td>ชาย</td>\n",
              "      <td>NaN</td>\n",
              "      <td>NaN</td>\n",
              "      <td>NaN</td>\n",
              "      <td>ชลบุรี</td>\n",
              "      <td>ทัณฑสถาน/เรือนจำ</td>\n",
              "      <td>NaN</td>\n",
              "      <td>NaN</td>\n",
              "    </tr>\n",
              "    <tr>\n",
              "      <th>512619</th>\n",
              "      <td>512620</td>\n",
              "      <td>26/7/2021</td>\n",
              "      <td>25/7/2021</td>\n",
              "      <td>ชาย</td>\n",
              "      <td>NaN</td>\n",
              "      <td>NaN</td>\n",
              "      <td>NaN</td>\n",
              "      <td>ชลบุรี</td>\n",
              "      <td>ทัณฑสถาน/เรือนจำ</td>\n",
              "      <td>NaN</td>\n",
              "      <td>NaN</td>\n",
              "    </tr>\n",
              "    <tr>\n",
              "      <th>512620</th>\n",
              "      <td>512621</td>\n",
              "      <td>26/7/2021</td>\n",
              "      <td>25/7/2021</td>\n",
              "      <td>ชาย</td>\n",
              "      <td>NaN</td>\n",
              "      <td>NaN</td>\n",
              "      <td>NaN</td>\n",
              "      <td>ชลบุรี</td>\n",
              "      <td>ทัณฑสถาน/เรือนจำ</td>\n",
              "      <td>NaN</td>\n",
              "      <td>NaN</td>\n",
              "    </tr>\n",
              "    <tr>\n",
              "      <th>512621</th>\n",
              "      <td>512622</td>\n",
              "      <td>26/7/2021</td>\n",
              "      <td>25/7/2021</td>\n",
              "      <td>ชาย</td>\n",
              "      <td>NaN</td>\n",
              "      <td>NaN</td>\n",
              "      <td>NaN</td>\n",
              "      <td>ชลบุรี</td>\n",
              "      <td>ทัณฑสถาน/เรือนจำ</td>\n",
              "      <td>NaN</td>\n",
              "      <td>NaN</td>\n",
              "    </tr>\n",
              "  </tbody>\n",
              "</table>\n",
              "<p>512622 rows × 11 columns</p>\n",
              "</div>"
            ],
            "text/plain": [
              "           No. announce_date  ... province_of_onset district_of_onset\n",
              "0            1     12/1/2020  ...     กรุงเทพมหานคร               NaN\n",
              "1            2     17/1/2020  ...     กรุงเทพมหานคร               NaN\n",
              "2            3     22/1/2020  ...            นครปฐม             เมือง\n",
              "3            4     22/1/2020  ...     กรุงเทพมหานคร               NaN\n",
              "4            5     24/1/2020  ...     กรุงเทพมหานคร               NaN\n",
              "...        ...           ...  ...               ...               ...\n",
              "512617  512618     26/7/2021  ...               NaN               NaN\n",
              "512618  512619     26/7/2021  ...               NaN               NaN\n",
              "512619  512620     26/7/2021  ...               NaN               NaN\n",
              "512620  512621     26/7/2021  ...               NaN               NaN\n",
              "512621  512622     26/7/2021  ...               NaN               NaN\n",
              "\n",
              "[512622 rows x 11 columns]"
            ]
          },
          "metadata": {
            "tags": []
          },
          "execution_count": 26
        }
      ]
    },
    {
      "cell_type": "code",
      "metadata": {
        "id": "DwDhA01-T5sB"
      },
      "source": [
        "data_cases[['risk']] = data_cases[['risk']].fillna('ไม่มีข้อมูล')"
      ],
      "execution_count": 27,
      "outputs": []
    },
    {
      "cell_type": "code",
      "metadata": {
        "id": "pWiOSa2j55nS",
        "colab": {
          "base_uri": "https://localhost:8080/"
        },
        "outputId": "dfa3d66d-f6ff-42a0-fbd9-390597a89991"
      },
      "source": [
        "set(data_cases['risk'])"
      ],
      "execution_count": 28,
      "outputs": [
        {
          "output_type": "execute_result",
          "data": {
            "text/plain": [
              "{'2.สัมผัสผู้ติดเชื้อ',\n",
              " 'ACF รองเมือง',\n",
              " 'ACF สนามกีฬาธูปะเตมีย์',\n",
              " 'ACF สนามกีฬาไทย-ญี่ปุ่น',\n",
              " 'ACF สีลม',\n",
              " 'ACF เคหะหลักสี่',\n",
              " 'Cluster Icon siam',\n",
              " \"Cluster Memory 90's กรุงเทพมหานคร\",\n",
              " 'Cluster New Jazz กรุงเทพมหานคร',\n",
              " 'Cluster The Lounge Salaya',\n",
              " 'Cluster กรุงเทพมหานคร. คลองเตย',\n",
              " 'Cluster คลองเตย',\n",
              " 'Cluster งานมอเตอร์ โชว์',\n",
              " 'Cluster จนท. สนามบินสุวรรณภูมิ',\n",
              " 'Cluster จันทบุรี',\n",
              " 'Cluster จันทบุรี (ชาวกินี )',\n",
              " 'Cluster จันทบุรี (ชาวกินี)',\n",
              " 'Cluster ชลบุรี',\n",
              " 'Cluster ชลบุรี บริษัทไดกิ้น',\n",
              " 'Cluster ชลบุรี โรงเบียร์ 90',\n",
              " 'Cluster ตราด',\n",
              " 'Cluster ตราด ',\n",
              " 'Cluster ตลาดนนทบุรี',\n",
              " 'Cluster ตลาดบางพลี',\n",
              " 'Cluster ตลาดบางแค',\n",
              " 'Cluster ตลาดบางแค/คลองขวาง',\n",
              " 'Cluster ตลาดพรพัฒน์',\n",
              " 'Cluster ตลาดสี่มุมเมือง',\n",
              " 'Cluster ทัณฑสถานหญิงกลาง',\n",
              " 'Cluster ทัณฑสถานโรงพยาบาลราชทัณฑ์',\n",
              " 'Cluster ทันฑสถานบำบัดพิเศษกลาง',\n",
              " 'Cluster บริษัทศรีสวัสดิ์',\n",
              " 'Cluster บางแค',\n",
              " 'Cluster บ่อนพัทยา/ชลบุรี',\n",
              " 'Cluster บ่อนเทพารักษ์',\n",
              " 'Cluster บ่อนไก่อ่างทอง',\n",
              " 'Cluster ปากช่อง',\n",
              " 'Cluster ผับ Thonglor',\n",
              " 'Cluster มหาสารคาม',\n",
              " 'Cluster ระยอง',\n",
              " 'Cluster ระยอง วิริยะประกันภัย',\n",
              " 'Cluster สถานบันเทิงย่านทองหล่อ',\n",
              " 'Cluster สมุทรปราการ (โรงงาน บริษัทเมทัล โปรดักส์)',\n",
              " 'Cluster สมุทรปราการ GRP Hightech',\n",
              " 'Cluster สมุทรปราการ ตลาดเคหะบางพลี',\n",
              " 'Cluster สมุทรสาคร',\n",
              " 'Cluster ห้างแสงทอง (สายล่าง)',\n",
              " 'Cluster เครือคัสเซ่อร์พีคโฮลดิ้ง (CPG,CPH)',\n",
              " 'Cluster เรือนจำกลางคลองเปรม',\n",
              " 'Cluster เรือนจำพิเศษกรุงเทพ',\n",
              " 'Cluster เรือนจำพิเศษธนบุรี',\n",
              " 'Cluster เรือนจำพิเศษมีนบุรี',\n",
              " 'Cluster โรงงาน  Big Star',\n",
              " 'Cluster โรงงาน Big Star',\n",
              " 'Cluster โรงงาน QPP ประจวบฯ',\n",
              " 'Cluster โรงงาน standard can',\n",
              " 'Cluster โรงงานทำขนม บางขุนเทียน',\n",
              " 'Refer in',\n",
              " 'SHUI',\n",
              " 'Sandbox',\n",
              " 'State Quarantine',\n",
              " 'cluster ชลบุรี\\n(อยู่ระหว่างการสอบสวน)',\n",
              " 'การค้นหาผู้ป่วยเชิงรุกและค้นหาผู้ติดเชื้อในชุมชน',\n",
              " 'คนต่างชาติเดินทางมาจากต่างประเทศ',\n",
              " 'คนไทยมาจากพื้นที่เสี่ยง',\n",
              " 'คนไทยเดินทางกลับจากต่างประเทศ',\n",
              " 'คนไทยเดินทางมาจากต่างประเทศ',\n",
              " 'ค้นหาเชิงรุก',\n",
              " 'ตรวจก่อนทำหัตถการ',\n",
              " 'ตรวจสุขภาพแรงงานต่างด้าว',\n",
              " 'ตลาด',\n",
              " 'ทัณฑสถาน/เรือนจำ',\n",
              " 'บุคลากรด้านการแพทย์และสาธารณสุข',\n",
              " 'ปอดอักเสบ (Pneumonia)',\n",
              " 'ปอดอักเสบ Pneumonia',\n",
              " 'ผับหัวหิน',\n",
              " 'ผู้ติดเชื้อในประเทศ',\n",
              " 'ผู้ที่เดินทางมาจากต่างประเทศ และเข้า AOQ',\n",
              " 'ผู้ที่เดินทางมาจากต่างประเทศ และเข้า ASQ/ALQ',\n",
              " 'ผู้ที่เดินทางมาจากต่างประเทศ และเข้า HQ/AHQ',\n",
              " 'ผู้ที่เดินทางมาจากต่างประเทศ และเข้า OQ',\n",
              " 'ผู้ป่วย PUI',\n",
              " 'ผู้ป่วย กรุงเทพมหานคร',\n",
              " 'ผู้เดินทางมาจากพื้นที่เสี่ยง กรุงเทพมหานคร.',\n",
              " 'พิธีกรรมทางศาสนา',\n",
              " 'รอประสาน',\n",
              " 'ระบุไม่ได้',\n",
              " 'ระหว่างการสอบสวนโรค',\n",
              " 'ระหว่างสอบสวน',\n",
              " 'รับจ้างขนของที่ตลาดท่ายาง',\n",
              " 'ร้านอาหาร',\n",
              " 'ศูนย์กักกัน ผู้ต้องกัก',\n",
              " 'สถานที่ทำงาน',\n",
              " 'สถานบันเทิง',\n",
              " 'สนามมวย',\n",
              " 'สัมผัสผู้ติดเชื้อยืนยัน\\nอยู่ระหว่างสอบสวน',\n",
              " 'สัมผัสผู้ติดเชื้อยืนยัน อยู่ระหว่างสอบสวน',\n",
              " 'สัมผัสผู้ป่วยที่ติดโควิด',\n",
              " 'สัมผัสผู้ป่วยยืนยัน',\n",
              " 'สัมผัสผู้ป่วยยืนยัน \\n อยู่ระหว่างสอบสวน',\n",
              " 'สัมผัสผู้ป่วยยืนยัน (ยังไม่สามารถระบุได้)',\n",
              " 'สัมผัสผู้ป่วยยืนยัน ภายในครอบครัว/ชุมชน/เพื่อน',\n",
              " 'สัมผัสผู้ป่วยยืนยัน อยุ๋ระหว่างสอบสวน',\n",
              " 'สัมผัสผู้ป่วยยืนยัน อยู่ระหว่างสอบสวน',\n",
              " 'สัมผัสผู้ป่วยยืนยันเพื่อนร่วมงาน',\n",
              " 'สัมผัสผู้เดินทางจากต่างประเทศ',\n",
              " 'สัมผัสสามีสะอาด เขตบ้าน (รพ.มหาชัย 2)',\n",
              " 'สัมผัสใกล้ชิดกับผู้ป่วยยืนยันรายก่อนหน้านี้',\n",
              " 'สัมผัสใกล้ชิดผู้ป่วยยันยันก่อนหน้า',\n",
              " 'สัมผัสใกล้ชิดผู้ป่วยยืนยันก่อนหน้า',\n",
              " 'สัมผัสในสถานพยาบาล',\n",
              " 'อยุ่ระหว่างสอบสวน',\n",
              " 'อยู่ระหว่างการสอบสวน',\n",
              " 'อยู่ระหว่างการสอบสวน\\n',\n",
              " 'อยู่ระหว่างสอบสวน',\n",
              " 'อยู่ระหว่างสอบสวนโรค',\n",
              " 'อาชีพเสี่ยง เช่น ทำงานในสถานที่แออัด หรือทำงานใกล้ชิดสัมผัสชาวต่างชาติ เป็นต้น',\n",
              " 'อาศัย/เดินทางไปในพื้นที่ที่มีการระบาด',\n",
              " 'อื่น',\n",
              " 'อื่นๆ',\n",
              " 'เดินทางมาจากพื้นที่จังหวัดเสี่ยง',\n",
              " 'เดินทางมาจากพื้นที่มีการระบาดของโรค',\n",
              " 'เดินทางมาจากพื้นที่เสี่ยงที่มีการระบาดของโรค',\n",
              " 'แรงงานต่างด้าวตรวจก่อนขึ้นทะเบียน',\n",
              " 'ไปยัง/มาจาก พื้นที่ระบาดกรุงเทพมหานครมหานคร',\n",
              " 'ไปยังพื้นที่ที่มีการระบาด',\n",
              " 'ไปสถานที่ชุมชน เช่น ตลาดนัด สถานที่ท่องเที่ยว',\n",
              " 'ไปสถานที่เสี่ยง เช่น ตลาด สถานที่ชุมชน',\n",
              " 'ไปสถานที่แออัด เช่น งานแฟร์ คอนเสิร์ต',\n",
              " 'ไปเที่ยวสถานบันเทิงในอุบลที่พบการระบาดของโรค Ubar',\n",
              " 'ไปแหล่งชุมชน/สถานที่คนหนาแน่น',\n",
              " 'ไม่มีข้อมูล'}"
            ]
          },
          "metadata": {
            "tags": []
          },
          "execution_count": 28
        }
      ]
    },
    {
      "cell_type": "code",
      "metadata": {
        "colab": {
          "base_uri": "https://localhost:8080/",
          "height": 1000
        },
        "id": "GCdmtGEuV_0X",
        "outputId": "3cce8461-ac9c-4db3-c2dd-aba567881473"
      },
      "source": [
        "plt.hist(data_cases[['risk']].iloc[-1000:,:])"
      ],
      "execution_count": 29,
      "outputs": [
        {
          "output_type": "execute_result",
          "data": {
            "text/plain": [
              "(array([[0., 0., 0., ..., 0., 0., 0.],\n",
              "        [0., 0., 0., ..., 0., 0., 0.],\n",
              "        [0., 0., 0., ..., 0., 0., 0.],\n",
              "        ...,\n",
              "        [0., 0., 0., ..., 0., 0., 0.],\n",
              "        [0., 0., 0., ..., 0., 0., 0.],\n",
              "        [0., 0., 0., ..., 0., 0., 0.]]),\n",
              " array([-0.5, -0.4, -0.3, -0.2, -0.1,  0. ,  0.1,  0.2,  0.3,  0.4,  0.5]),\n",
              " <a list of 1000 Lists of Patches objects>)"
            ]
          },
          "metadata": {
            "tags": []
          },
          "execution_count": 29
        },
        {
          "output_type": "stream",
          "text": [
            "/usr/local/lib/python3.7/dist-packages/matplotlib/backends/backend_agg.py:214: RuntimeWarning: Glyph 3607 missing from current font.\n",
            "  font.set_text(s, 0.0, flags=flags)\n",
            "/usr/local/lib/python3.7/dist-packages/matplotlib/backends/backend_agg.py:214: RuntimeWarning: Glyph 3633 missing from current font.\n",
            "  font.set_text(s, 0.0, flags=flags)\n",
            "/usr/local/lib/python3.7/dist-packages/matplotlib/backends/backend_agg.py:214: RuntimeWarning: Glyph 3603 missing from current font.\n",
            "  font.set_text(s, 0.0, flags=flags)\n",
            "/usr/local/lib/python3.7/dist-packages/matplotlib/backends/backend_agg.py:214: RuntimeWarning: Glyph 3601 missing from current font.\n",
            "  font.set_text(s, 0.0, flags=flags)\n",
            "/usr/local/lib/python3.7/dist-packages/matplotlib/backends/backend_agg.py:214: RuntimeWarning: Glyph 3626 missing from current font.\n",
            "  font.set_text(s, 0.0, flags=flags)\n",
            "/usr/local/lib/python3.7/dist-packages/matplotlib/backends/backend_agg.py:214: RuntimeWarning: Glyph 3606 missing from current font.\n",
            "  font.set_text(s, 0.0, flags=flags)\n",
            "/usr/local/lib/python3.7/dist-packages/matplotlib/backends/backend_agg.py:214: RuntimeWarning: Glyph 3634 missing from current font.\n",
            "  font.set_text(s, 0.0, flags=flags)\n",
            "/usr/local/lib/python3.7/dist-packages/matplotlib/backends/backend_agg.py:214: RuntimeWarning: Glyph 3609 missing from current font.\n",
            "  font.set_text(s, 0.0, flags=flags)\n",
            "/usr/local/lib/python3.7/dist-packages/matplotlib/backends/backend_agg.py:214: RuntimeWarning: Glyph 3648 missing from current font.\n",
            "  font.set_text(s, 0.0, flags=flags)\n",
            "/usr/local/lib/python3.7/dist-packages/matplotlib/backends/backend_agg.py:214: RuntimeWarning: Glyph 3619 missing from current font.\n",
            "  font.set_text(s, 0.0, flags=flags)\n",
            "/usr/local/lib/python3.7/dist-packages/matplotlib/backends/backend_agg.py:214: RuntimeWarning: Glyph 3639 missing from current font.\n",
            "  font.set_text(s, 0.0, flags=flags)\n",
            "/usr/local/lib/python3.7/dist-packages/matplotlib/backends/backend_agg.py:214: RuntimeWarning: Glyph 3629 missing from current font.\n",
            "  font.set_text(s, 0.0, flags=flags)\n",
            "/usr/local/lib/python3.7/dist-packages/matplotlib/backends/backend_agg.py:214: RuntimeWarning: Glyph 3592 missing from current font.\n",
            "  font.set_text(s, 0.0, flags=flags)\n",
            "/usr/local/lib/python3.7/dist-packages/matplotlib/backends/backend_agg.py:214: RuntimeWarning: Glyph 3635 missing from current font.\n",
            "  font.set_text(s, 0.0, flags=flags)\n",
            "/usr/local/lib/python3.7/dist-packages/matplotlib/backends/backend_agg.py:183: RuntimeWarning: Glyph 3607 missing from current font.\n",
            "  font.set_text(s, 0, flags=flags)\n",
            "/usr/local/lib/python3.7/dist-packages/matplotlib/backends/backend_agg.py:183: RuntimeWarning: Glyph 3633 missing from current font.\n",
            "  font.set_text(s, 0, flags=flags)\n",
            "/usr/local/lib/python3.7/dist-packages/matplotlib/backends/backend_agg.py:183: RuntimeWarning: Glyph 3603 missing from current font.\n",
            "  font.set_text(s, 0, flags=flags)\n",
            "/usr/local/lib/python3.7/dist-packages/matplotlib/backends/backend_agg.py:183: RuntimeWarning: Glyph 3601 missing from current font.\n",
            "  font.set_text(s, 0, flags=flags)\n",
            "/usr/local/lib/python3.7/dist-packages/matplotlib/backends/backend_agg.py:183: RuntimeWarning: Glyph 3626 missing from current font.\n",
            "  font.set_text(s, 0, flags=flags)\n",
            "/usr/local/lib/python3.7/dist-packages/matplotlib/backends/backend_agg.py:183: RuntimeWarning: Glyph 3606 missing from current font.\n",
            "  font.set_text(s, 0, flags=flags)\n",
            "/usr/local/lib/python3.7/dist-packages/matplotlib/backends/backend_agg.py:183: RuntimeWarning: Glyph 3634 missing from current font.\n",
            "  font.set_text(s, 0, flags=flags)\n",
            "/usr/local/lib/python3.7/dist-packages/matplotlib/backends/backend_agg.py:183: RuntimeWarning: Glyph 3609 missing from current font.\n",
            "  font.set_text(s, 0, flags=flags)\n",
            "/usr/local/lib/python3.7/dist-packages/matplotlib/backends/backend_agg.py:183: RuntimeWarning: Glyph 3648 missing from current font.\n",
            "  font.set_text(s, 0, flags=flags)\n",
            "/usr/local/lib/python3.7/dist-packages/matplotlib/backends/backend_agg.py:183: RuntimeWarning: Glyph 3619 missing from current font.\n",
            "  font.set_text(s, 0, flags=flags)\n",
            "/usr/local/lib/python3.7/dist-packages/matplotlib/backends/backend_agg.py:183: RuntimeWarning: Glyph 3639 missing from current font.\n",
            "  font.set_text(s, 0, flags=flags)\n",
            "/usr/local/lib/python3.7/dist-packages/matplotlib/backends/backend_agg.py:183: RuntimeWarning: Glyph 3629 missing from current font.\n",
            "  font.set_text(s, 0, flags=flags)\n",
            "/usr/local/lib/python3.7/dist-packages/matplotlib/backends/backend_agg.py:183: RuntimeWarning: Glyph 3592 missing from current font.\n",
            "  font.set_text(s, 0, flags=flags)\n",
            "/usr/local/lib/python3.7/dist-packages/matplotlib/backends/backend_agg.py:183: RuntimeWarning: Glyph 3635 missing from current font.\n",
            "  font.set_text(s, 0, flags=flags)\n"
          ],
          "name": "stderr"
        },
        {
          "output_type": "display_data",
          "data": {
            "image/png": "[encoded data removed]",
            "text/plain": [
              "<Figure size 432x288 with 1 Axes>"
            ]
          },
          "metadata": {
            "tags": [],
            "needs_background": "light"
          }
        }
      ]
    },
    {
      "cell_type": "markdown",
      "metadata": {
        "id": "txO-CHM0XHwe"
      },
      "source": [
        "### **Handing Missing Values 3**\n",
        "\n",
        "\n",
        "\n",
        "3.   แทนด้วย class ใหม่ (ค่าที่เหมาะสม)\n",
        "\n"
      ]
    },
    {
      "cell_type": "code",
      "metadata": {
        "colab": {
          "base_uri": "https://localhost:8080/"
        },
        "id": "M4y3WxZaXHPL",
        "outputId": "4e604b58-e38d-405e-d91a-f4a55baf2be9"
      },
      "source": [
        "set(data_cases['Unit'])"
      ],
      "execution_count": 30,
      "outputs": [
        {
          "output_type": "execute_result",
          "data": {
            "text/plain": [
              "{' วัน', ' เดือน', nan, 'ปี', 'วัน', 'เดือน'}"
            ]
          },
          "metadata": {
            "tags": []
          },
          "execution_count": 30
        }
      ]
    },
    {
      "cell_type": "code",
      "metadata": {
        "id": "bFuz_CqEXoD6"
      },
      "source": [
        "data_cases[['Unit']] = data_cases[['Unit']].fillna('ปี?') # แทนด้วยค่าที่เหมาะสม จากอันนี้ก็เลยแทนด้วยคำว่า ปี? "
      ],
      "execution_count": 31,
      "outputs": []
    },
    {
      "cell_type": "code",
      "metadata": {
        "colab": {
          "base_uri": "https://localhost:8080/"
        },
        "id": "ANbug4LbYKgf",
        "outputId": "69780dd5-a415-4028-999c-aaed24dedb99"
      },
      "source": [
        "data_cases.isnull().any()"
      ],
      "execution_count": 32,
      "outputs": [
        {
          "output_type": "execute_result",
          "data": {
            "text/plain": [
              "No.                      False\n",
              "announce_date            False\n",
              "Notified date             True\n",
              "sex                       True\n",
              "age                       True\n",
              "Unit                     False\n",
              "nationality               True\n",
              "province_of_isolation     True\n",
              "risk                     False\n",
              "province_of_onset         True\n",
              "district_of_onset         True\n",
              "dtype: bool"
            ]
          },
          "metadata": {
            "tags": []
          },
          "execution_count": 32
        }
      ]
    },
    {
      "cell_type": "markdown",
      "metadata": {
        "id": "9LesB1iJG7ha"
      },
      "source": [
        "### **Handling Missing Values 4**\n",
        "\n",
        "\n",
        "4.   แทนด้วยค่ากลาง\n",
        "\n",
        "        ถ้าเป็นตัวเลขหรือ numeric ใช้ mean \n",
        "\n",
        "\n"
      ]
    },
    {
      "cell_type": "code",
      "metadata": {
        "id": "hy3QBUkHYPHD",
        "colab": {
          "base_uri": "https://localhost:8080/"
        },
        "outputId": "885a851c-f026-4dbe-fa31-e17473ba1cf3"
      },
      "source": [
        "# หาค่า mean \n",
        "data_cases[['age']].mean() # axis = หาแกนไหน skipna = เวลาหาค่า mean ให้ skipna ไปเลยรึป่าว\n",
        "# เติมค่า mean ลงไปแทนค่า missing"
      ],
      "execution_count": 33,
      "outputs": [
        {
          "output_type": "execute_result",
          "data": {
            "text/plain": [
              "age    35.52947\n",
              "dtype: float64"
            ]
          },
          "metadata": {
            "tags": []
          },
          "execution_count": 33
        }
      ]
    },
    {
      "cell_type": "code",
      "metadata": {
        "colab": {
          "base_uri": "https://localhost:8080/"
        },
        "id": "N2VVAwINJBgx",
        "outputId": "68029760-8efc-4d40-c46d-1d89b6671596"
      },
      "source": [
        "data_cases[['age']].mean(skipna=True) "
      ],
      "execution_count": 34,
      "outputs": [
        {
          "output_type": "execute_result",
          "data": {
            "text/plain": [
              "age    35.52947\n",
              "dtype: float64"
            ]
          },
          "metadata": {
            "tags": []
          },
          "execution_count": 34
        }
      ]
    },
    {
      "cell_type": "code",
      "metadata": {
        "colab": {
          "base_uri": "https://localhost:8080/"
        },
        "id": "nb06xXblJLGs",
        "outputId": "f45c1d1c-49e9-4f43-d4b4-742dc4e6636a"
      },
      "source": [
        "data_cases[['age']].mean(skipna=False) # มันมีช่องว่าง ไม่สามารถคำนวณได้"
      ],
      "execution_count": 35,
      "outputs": [
        {
          "output_type": "execute_result",
          "data": {
            "text/plain": [
              "age   NaN\n",
              "dtype: float64"
            ]
          },
          "metadata": {
            "tags": []
          },
          "execution_count": 35
        }
      ]
    },
    {
      "cell_type": "code",
      "metadata": {
        "colab": {
          "base_uri": "https://localhost:8080/"
        },
        "id": "ywTQMA7YJNq4",
        "outputId": "3852005a-ca04-44cd-8825-d110e0dbb61c"
      },
      "source": [
        "# อีกหนึ่งวิธี\n",
        "data_cases[['age']].dropna().mean() "
      ],
      "execution_count": 36,
      "outputs": [
        {
          "output_type": "execute_result",
          "data": {
            "text/plain": [
              "age    35.52947\n",
              "dtype: float64"
            ]
          },
          "metadata": {
            "tags": []
          },
          "execution_count": 36
        }
      ]
    },
    {
      "cell_type": "code",
      "metadata": {
        "id": "PxeT1wOqJjY5"
      },
      "source": [
        "# เติมค่า mean ลงไปแทนค่า missing\n",
        "avg_age = data_cases[['age']].mean()\n",
        "data_cases[['age']] = data_cases[['age']].fillna(avg_age)"
      ],
      "execution_count": 37,
      "outputs": []
    },
    {
      "cell_type": "code",
      "metadata": {
        "colab": {
          "base_uri": "https://localhost:8080/"
        },
        "id": "2IhTfaXvKTBN",
        "outputId": "0aae1003-5b0e-4875-ed66-fb90468ed0fd"
      },
      "source": [
        "data_cases.isnull().any() # age เป็น false แล้วคือไม่มีค่า missing"
      ],
      "execution_count": 38,
      "outputs": [
        {
          "output_type": "execute_result",
          "data": {
            "text/plain": [
              "No.                      False\n",
              "announce_date            False\n",
              "Notified date             True\n",
              "sex                       True\n",
              "age                      False\n",
              "Unit                     False\n",
              "nationality               True\n",
              "province_of_isolation     True\n",
              "risk                     False\n",
              "province_of_onset         True\n",
              "district_of_onset         True\n",
              "dtype: bool"
            ]
          },
          "metadata": {
            "tags": []
          },
          "execution_count": 38
        }
      ]
    },
    {
      "cell_type": "code",
      "metadata": {
        "colab": {
          "base_uri": "https://localhost:8080/"
        },
        "id": "Aa1xckzfKgTu",
        "outputId": "83bf67b3-b3a4-42e5-b1dd-ca5d0f3b361f"
      },
      "source": [
        "data_cases[['age']].mean() # เติมค่า missing ด้วยค่า mean ทำให้ค่า mean ไม่เปลี่ยน"
      ],
      "execution_count": 39,
      "outputs": [
        {
          "output_type": "execute_result",
          "data": {
            "text/plain": [
              "age    35.52947\n",
              "dtype: float64"
            ]
          },
          "metadata": {
            "tags": []
          },
          "execution_count": 39
        }
      ]
    },
    {
      "cell_type": "markdown",
      "metadata": {
        "id": "rCpDjQKbKulm"
      },
      "source": [
        "ถ้าเป็นตัวหนังสือ หรือ norminal เราจะแทนด้วย mode "
      ]
    },
    {
      "cell_type": "code",
      "metadata": {
        "colab": {
          "base_uri": "https://localhost:8080/",
          "height": 35
        },
        "id": "ruIyF8lBQM3-",
        "outputId": "3293565d-7db7-4d58-de7e-edbe0f24ada5"
      },
      "source": [
        "data_cases[['nationality']].mode().iloc[0,0]"
      ],
      "execution_count": 40,
      "outputs": [
        {
          "output_type": "execute_result",
          "data": {
            "application/vnd.google.colaboratory.intrinsic+json": {
              "type": "string"
            },
            "text/plain": [
              "'Thailand'"
            ]
          },
          "metadata": {
            "tags": []
          },
          "execution_count": 40
        }
      ]
    },
    {
      "cell_type": "code",
      "metadata": {
        "colab": {
          "base_uri": "https://localhost:8080/"
        },
        "id": "Kg-riGYELkND",
        "outputId": "0e00539f-fcce-41e7-ad5b-aed4d209b5a6"
      },
      "source": [
        "data_cases['nationality'].mode() # ปีกกา 2 อันคือตาราง ปีกกาอันเดียวคือคำ"
      ],
      "execution_count": 41,
      "outputs": [
        {
          "output_type": "execute_result",
          "data": {
            "text/plain": [
              "0    Thailand\n",
              "dtype: object"
            ]
          },
          "metadata": {
            "tags": []
          },
          "execution_count": 41
        }
      ]
    },
    {
      "cell_type": "code",
      "metadata": {
        "id": "lPRVBYh-MMxu"
      },
      "source": [
        "# หาค่า mode\n",
        "mode_nationality = data_cases[['nationality']].mode().iloc[0,0]\n",
        "# เติมค่า mode ลงไปแทนค่า missing\n",
        "data_cases[['nationality']] = data_cases[['nationality']].fillna(mode_nationality)"
      ],
      "execution_count": 42,
      "outputs": []
    },
    {
      "cell_type": "code",
      "metadata": {
        "colab": {
          "base_uri": "https://localhost:8080/"
        },
        "id": "WfdFqcfoM1i9",
        "outputId": "a44710ff-aadb-4396-cca2-5b5f8f8900f3"
      },
      "source": [
        "data_cases.isnull().any() # nationality เป็น false แล้วคือไม่มีค่า missing"
      ],
      "execution_count": 43,
      "outputs": [
        {
          "output_type": "execute_result",
          "data": {
            "text/plain": [
              "No.                      False\n",
              "announce_date            False\n",
              "Notified date             True\n",
              "sex                       True\n",
              "age                      False\n",
              "Unit                     False\n",
              "nationality              False\n",
              "province_of_isolation     True\n",
              "risk                     False\n",
              "province_of_onset         True\n",
              "district_of_onset         True\n",
              "dtype: bool"
            ]
          },
          "metadata": {
            "tags": []
          },
          "execution_count": 43
        }
      ]
    },
    {
      "cell_type": "markdown",
      "metadata": {
        "id": "2uY4xWx0P5n7"
      },
      "source": [
        "ถ้าเป็น ordinal ใช้ median\n"
      ]
    },
    {
      "cell_type": "markdown",
      "metadata": {
        "id": "aP0w0oFBnF3d"
      },
      "source": [
        "### **Handling Missing Values 5**\n",
        "\n",
        "\n",
        "5. แทนด้วยค่ากลางของ sample ใน class เดียวกัน "
      ]
    },
    {
      "cell_type": "code",
      "metadata": {
        "colab": {
          "base_uri": "https://localhost:8080/",
          "height": 417
        },
        "id": "qHbtnhQoTlbq",
        "outputId": "fefb8042-beb1-499c-dea0-7d2663ae06ca"
      },
      "source": [
        "data_cases2 = pd.read_csv(os.path.join(path,'confirmed-cases.csv')) # ไฟล์ที่เราต้องการ\n",
        "data_cases2 # print data ดูว่ามันหน้าตาเป็นยังไง"
      ],
      "execution_count": 44,
      "outputs": [
        {
          "output_type": "execute_result",
          "data": {
            "text/html": [
              "<div>\n",
              "<style scoped>\n",
              "    .dataframe tbody tr th:only-of-type {\n",
              "        vertical-align: middle;\n",
              "    }\n",
              "\n",
              "    .dataframe tbody tr th {\n",
              "        vertical-align: top;\n",
              "    }\n",
              "\n",
              "    .dataframe thead th {\n",
              "        text-align: right;\n",
              "    }\n",
              "</style>\n",
              "<table border=\"1\" class=\"dataframe\">\n",
              "  <thead>\n",
              "    <tr style=\"text-align: right;\">\n",
              "      <th></th>\n",
              "      <th>No.</th>\n",
              "      <th>announce_date</th>\n",
              "      <th>Notified date</th>\n",
              "      <th>sex</th>\n",
              "      <th>age</th>\n",
              "      <th>Unit</th>\n",
              "      <th>nationality</th>\n",
              "      <th>province_of_isolation</th>\n",
              "      <th>risk</th>\n",
              "      <th>province_of_onset</th>\n",
              "      <th>district_of_onset</th>\n",
              "    </tr>\n",
              "  </thead>\n",
              "  <tbody>\n",
              "    <tr>\n",
              "      <th>0</th>\n",
              "      <td>1</td>\n",
              "      <td>12/1/2020</td>\n",
              "      <td>NaN</td>\n",
              "      <td>หญิง</td>\n",
              "      <td>61.0</td>\n",
              "      <td>ปี</td>\n",
              "      <td>China</td>\n",
              "      <td>กรุงเทพมหานคร</td>\n",
              "      <td>คนต่างชาติเดินทางมาจากต่างประเทศ</td>\n",
              "      <td>กรุงเทพมหานคร</td>\n",
              "      <td>NaN</td>\n",
              "    </tr>\n",
              "    <tr>\n",
              "      <th>1</th>\n",
              "      <td>2</td>\n",
              "      <td>17/1/2020</td>\n",
              "      <td>NaN</td>\n",
              "      <td>หญิง</td>\n",
              "      <td>74.0</td>\n",
              "      <td>ปี</td>\n",
              "      <td>China</td>\n",
              "      <td>กรุงเทพมหานคร</td>\n",
              "      <td>คนต่างชาติเดินทางมาจากต่างประเทศ</td>\n",
              "      <td>กรุงเทพมหานคร</td>\n",
              "      <td>NaN</td>\n",
              "    </tr>\n",
              "    <tr>\n",
              "      <th>2</th>\n",
              "      <td>3</td>\n",
              "      <td>22/1/2020</td>\n",
              "      <td>NaN</td>\n",
              "      <td>หญิง</td>\n",
              "      <td>73.0</td>\n",
              "      <td>ปี</td>\n",
              "      <td>Thailand</td>\n",
              "      <td>นครปฐม</td>\n",
              "      <td>คนต่างชาติเดินทางมาจากต่างประเทศ</td>\n",
              "      <td>นครปฐม</td>\n",
              "      <td>เมือง</td>\n",
              "    </tr>\n",
              "    <tr>\n",
              "      <th>3</th>\n",
              "      <td>4</td>\n",
              "      <td>22/1/2020</td>\n",
              "      <td>NaN</td>\n",
              "      <td>ชาย</td>\n",
              "      <td>68.0</td>\n",
              "      <td>ปี</td>\n",
              "      <td>China</td>\n",
              "      <td>กรุงเทพมหานคร</td>\n",
              "      <td>คนต่างชาติเดินทางมาจากต่างประเทศ</td>\n",
              "      <td>กรุงเทพมหานคร</td>\n",
              "      <td>NaN</td>\n",
              "    </tr>\n",
              "    <tr>\n",
              "      <th>4</th>\n",
              "      <td>5</td>\n",
              "      <td>24/1/2020</td>\n",
              "      <td>NaN</td>\n",
              "      <td>หญิง</td>\n",
              "      <td>66.0</td>\n",
              "      <td>ปี</td>\n",
              "      <td>China</td>\n",
              "      <td>นนทบุรี</td>\n",
              "      <td>คนต่างชาติเดินทางมาจากต่างประเทศ</td>\n",
              "      <td>กรุงเทพมหานคร</td>\n",
              "      <td>NaN</td>\n",
              "    </tr>\n",
              "    <tr>\n",
              "      <th>...</th>\n",
              "      <td>...</td>\n",
              "      <td>...</td>\n",
              "      <td>...</td>\n",
              "      <td>...</td>\n",
              "      <td>...</td>\n",
              "      <td>...</td>\n",
              "      <td>...</td>\n",
              "      <td>...</td>\n",
              "      <td>...</td>\n",
              "      <td>...</td>\n",
              "      <td>...</td>\n",
              "    </tr>\n",
              "    <tr>\n",
              "      <th>512617</th>\n",
              "      <td>512618</td>\n",
              "      <td>26/7/2021</td>\n",
              "      <td>25/7/2021</td>\n",
              "      <td>ชาย</td>\n",
              "      <td>NaN</td>\n",
              "      <td>NaN</td>\n",
              "      <td>NaN</td>\n",
              "      <td>ชลบุรี</td>\n",
              "      <td>ทัณฑสถาน/เรือนจำ</td>\n",
              "      <td>NaN</td>\n",
              "      <td>NaN</td>\n",
              "    </tr>\n",
              "    <tr>\n",
              "      <th>512618</th>\n",
              "      <td>512619</td>\n",
              "      <td>26/7/2021</td>\n",
              "      <td>25/7/2021</td>\n",
              "      <td>ชาย</td>\n",
              "      <td>NaN</td>\n",
              "      <td>NaN</td>\n",
              "      <td>NaN</td>\n",
              "      <td>ชลบุรี</td>\n",
              "      <td>ทัณฑสถาน/เรือนจำ</td>\n",
              "      <td>NaN</td>\n",
              "      <td>NaN</td>\n",
              "    </tr>\n",
              "    <tr>\n",
              "      <th>512619</th>\n",
              "      <td>512620</td>\n",
              "      <td>26/7/2021</td>\n",
              "      <td>25/7/2021</td>\n",
              "      <td>ชาย</td>\n",
              "      <td>NaN</td>\n",
              "      <td>NaN</td>\n",
              "      <td>NaN</td>\n",
              "      <td>ชลบุรี</td>\n",
              "      <td>ทัณฑสถาน/เรือนจำ</td>\n",
              "      <td>NaN</td>\n",
              "      <td>NaN</td>\n",
              "    </tr>\n",
              "    <tr>\n",
              "      <th>512620</th>\n",
              "      <td>512621</td>\n",
              "      <td>26/7/2021</td>\n",
              "      <td>25/7/2021</td>\n",
              "      <td>ชาย</td>\n",
              "      <td>NaN</td>\n",
              "      <td>NaN</td>\n",
              "      <td>NaN</td>\n",
              "      <td>ชลบุรี</td>\n",
              "      <td>ทัณฑสถาน/เรือนจำ</td>\n",
              "      <td>NaN</td>\n",
              "      <td>NaN</td>\n",
              "    </tr>\n",
              "    <tr>\n",
              "      <th>512621</th>\n",
              "      <td>512622</td>\n",
              "      <td>26/7/2021</td>\n",
              "      <td>25/7/2021</td>\n",
              "      <td>ชาย</td>\n",
              "      <td>NaN</td>\n",
              "      <td>NaN</td>\n",
              "      <td>NaN</td>\n",
              "      <td>ชลบุรี</td>\n",
              "      <td>ทัณฑสถาน/เรือนจำ</td>\n",
              "      <td>NaN</td>\n",
              "      <td>NaN</td>\n",
              "    </tr>\n",
              "  </tbody>\n",
              "</table>\n",
              "<p>512622 rows × 11 columns</p>\n",
              "</div>"
            ],
            "text/plain": [
              "           No. announce_date  ... province_of_onset district_of_onset\n",
              "0            1     12/1/2020  ...     กรุงเทพมหานคร               NaN\n",
              "1            2     17/1/2020  ...     กรุงเทพมหานคร               NaN\n",
              "2            3     22/1/2020  ...            นครปฐม             เมือง\n",
              "3            4     22/1/2020  ...     กรุงเทพมหานคร               NaN\n",
              "4            5     24/1/2020  ...     กรุงเทพมหานคร               NaN\n",
              "...        ...           ...  ...               ...               ...\n",
              "512617  512618     26/7/2021  ...               NaN               NaN\n",
              "512618  512619     26/7/2021  ...               NaN               NaN\n",
              "512619  512620     26/7/2021  ...               NaN               NaN\n",
              "512620  512621     26/7/2021  ...               NaN               NaN\n",
              "512621  512622     26/7/2021  ...               NaN               NaN\n",
              "\n",
              "[512622 rows x 11 columns]"
            ]
          },
          "metadata": {
            "tags": []
          },
          "execution_count": 44
        }
      ]
    },
    {
      "cell_type": "markdown",
      "metadata": {
        "id": "d1FQx8OPUJyO"
      },
      "source": [
        "คำสั่งเลือกเฉพาะบาง record\n",
        "\n",
        "Select data by values[PD]"
      ]
    },
    {
      "cell_type": "markdown",
      "metadata": {
        "id": "G1i3k0FyU-R9"
      },
      "source": [
        "การเลือก record สามารถเลือกโดยใช้ list ของ boolean (True,False)\n",
        "\n",
        "\n",
        "\n",
        "```\n",
        "ชื่อตาราง[list ของ boolean]\n",
        "```\n",
        "\n"
      ]
    },
    {
      "cell_type": "markdown",
      "metadata": {
        "id": "9KN7RrGnVsd4"
      },
      "source": [
        "สร้าง list ของ boolean"
      ]
    },
    {
      "cell_type": "code",
      "metadata": {
        "colab": {
          "base_uri": "https://localhost:8080/"
        },
        "id": "1os5kypGUwOv",
        "outputId": "5b7c4ce1-cb1f-4092-ca5a-cc036b84b534"
      },
      "source": [
        "data_cases2['risk'] == 'ทัณฑสถาน/เรือนจำ' # False คือ ไม่ใช่คำว่า 'ทัณฑสถาน/เรือนจำ'"
      ],
      "execution_count": 45,
      "outputs": [
        {
          "output_type": "execute_result",
          "data": {
            "text/plain": [
              "0         False\n",
              "1         False\n",
              "2         False\n",
              "3         False\n",
              "4         False\n",
              "          ...  \n",
              "512617     True\n",
              "512618     True\n",
              "512619     True\n",
              "512620     True\n",
              "512621     True\n",
              "Name: risk, Length: 512622, dtype: bool"
            ]
          },
          "metadata": {
            "tags": []
          },
          "execution_count": 45
        }
      ]
    },
    {
      "cell_type": "markdown",
      "metadata": {
        "id": "4dB5_3lJVx3g"
      },
      "source": [
        "นำ list ของ boolean มาเลือกค่าในตาราง"
      ]
    },
    {
      "cell_type": "code",
      "metadata": {
        "colab": {
          "base_uri": "https://localhost:8080/",
          "height": 417
        },
        "id": "VJXewWVHT9SO",
        "outputId": "db00815c-9cd0-479f-a3a8-f02af89dce1b"
      },
      "source": [
        "data_cases2[data_cases2['risk'] == 'ทัณฑสถาน/เรือนจำ'] # เลือกเฉพาะบาง record"
      ],
      "execution_count": 46,
      "outputs": [
        {
          "output_type": "execute_result",
          "data": {
            "text/html": [
              "<div>\n",
              "<style scoped>\n",
              "    .dataframe tbody tr th:only-of-type {\n",
              "        vertical-align: middle;\n",
              "    }\n",
              "\n",
              "    .dataframe tbody tr th {\n",
              "        vertical-align: top;\n",
              "    }\n",
              "\n",
              "    .dataframe thead th {\n",
              "        text-align: right;\n",
              "    }\n",
              "</style>\n",
              "<table border=\"1\" class=\"dataframe\">\n",
              "  <thead>\n",
              "    <tr style=\"text-align: right;\">\n",
              "      <th></th>\n",
              "      <th>No.</th>\n",
              "      <th>announce_date</th>\n",
              "      <th>Notified date</th>\n",
              "      <th>sex</th>\n",
              "      <th>age</th>\n",
              "      <th>Unit</th>\n",
              "      <th>nationality</th>\n",
              "      <th>province_of_isolation</th>\n",
              "      <th>risk</th>\n",
              "      <th>province_of_onset</th>\n",
              "      <th>district_of_onset</th>\n",
              "    </tr>\n",
              "  </thead>\n",
              "  <tbody>\n",
              "    <tr>\n",
              "      <th>100018</th>\n",
              "      <td>100019</td>\n",
              "      <td>16/5/2021</td>\n",
              "      <td>15/5/2021</td>\n",
              "      <td>หญิง</td>\n",
              "      <td>26.0</td>\n",
              "      <td>ปี</td>\n",
              "      <td>Thailand</td>\n",
              "      <td>ฉะเชิงเทรา</td>\n",
              "      <td>ทัณฑสถาน/เรือนจำ</td>\n",
              "      <td>ฉะเชิงเทรา</td>\n",
              "      <td>เมืองฉะเชิงเทรา‎</td>\n",
              "    </tr>\n",
              "    <tr>\n",
              "      <th>100019</th>\n",
              "      <td>100020</td>\n",
              "      <td>16/5/2021</td>\n",
              "      <td>15/5/2021</td>\n",
              "      <td>หญิง</td>\n",
              "      <td>41.0</td>\n",
              "      <td>ปี</td>\n",
              "      <td>Thailand</td>\n",
              "      <td>ฉะเชิงเทรา</td>\n",
              "      <td>ทัณฑสถาน/เรือนจำ</td>\n",
              "      <td>ฉะเชิงเทรา</td>\n",
              "      <td>เมืองฉะเชิงเทรา‎</td>\n",
              "    </tr>\n",
              "    <tr>\n",
              "      <th>101468</th>\n",
              "      <td>101469</td>\n",
              "      <td>17/5/2021</td>\n",
              "      <td>16/5/2021</td>\n",
              "      <td>NaN</td>\n",
              "      <td>NaN</td>\n",
              "      <td>NaN</td>\n",
              "      <td>NaN</td>\n",
              "      <td>เชียงใหม่</td>\n",
              "      <td>ทัณฑสถาน/เรือนจำ</td>\n",
              "      <td>NaN</td>\n",
              "      <td>NaN</td>\n",
              "    </tr>\n",
              "    <tr>\n",
              "      <th>101469</th>\n",
              "      <td>101470</td>\n",
              "      <td>17/5/2021</td>\n",
              "      <td>16/5/2021</td>\n",
              "      <td>NaN</td>\n",
              "      <td>NaN</td>\n",
              "      <td>NaN</td>\n",
              "      <td>NaN</td>\n",
              "      <td>เชียงใหม่</td>\n",
              "      <td>ทัณฑสถาน/เรือนจำ</td>\n",
              "      <td>NaN</td>\n",
              "      <td>NaN</td>\n",
              "    </tr>\n",
              "    <tr>\n",
              "      <th>101470</th>\n",
              "      <td>101471</td>\n",
              "      <td>17/5/2021</td>\n",
              "      <td>16/5/2021</td>\n",
              "      <td>NaN</td>\n",
              "      <td>NaN</td>\n",
              "      <td>NaN</td>\n",
              "      <td>NaN</td>\n",
              "      <td>เชียงใหม่</td>\n",
              "      <td>ทัณฑสถาน/เรือนจำ</td>\n",
              "      <td>NaN</td>\n",
              "      <td>NaN</td>\n",
              "    </tr>\n",
              "    <tr>\n",
              "      <th>...</th>\n",
              "      <td>...</td>\n",
              "      <td>...</td>\n",
              "      <td>...</td>\n",
              "      <td>...</td>\n",
              "      <td>...</td>\n",
              "      <td>...</td>\n",
              "      <td>...</td>\n",
              "      <td>...</td>\n",
              "      <td>...</td>\n",
              "      <td>...</td>\n",
              "      <td>...</td>\n",
              "    </tr>\n",
              "    <tr>\n",
              "      <th>512617</th>\n",
              "      <td>512618</td>\n",
              "      <td>26/7/2021</td>\n",
              "      <td>25/7/2021</td>\n",
              "      <td>ชาย</td>\n",
              "      <td>NaN</td>\n",
              "      <td>NaN</td>\n",
              "      <td>NaN</td>\n",
              "      <td>ชลบุรี</td>\n",
              "      <td>ทัณฑสถาน/เรือนจำ</td>\n",
              "      <td>NaN</td>\n",
              "      <td>NaN</td>\n",
              "    </tr>\n",
              "    <tr>\n",
              "      <th>512618</th>\n",
              "      <td>512619</td>\n",
              "      <td>26/7/2021</td>\n",
              "      <td>25/7/2021</td>\n",
              "      <td>ชาย</td>\n",
              "      <td>NaN</td>\n",
              "      <td>NaN</td>\n",
              "      <td>NaN</td>\n",
              "      <td>ชลบุรี</td>\n",
              "      <td>ทัณฑสถาน/เรือนจำ</td>\n",
              "      <td>NaN</td>\n",
              "      <td>NaN</td>\n",
              "    </tr>\n",
              "    <tr>\n",
              "      <th>512619</th>\n",
              "      <td>512620</td>\n",
              "      <td>26/7/2021</td>\n",
              "      <td>25/7/2021</td>\n",
              "      <td>ชาย</td>\n",
              "      <td>NaN</td>\n",
              "      <td>NaN</td>\n",
              "      <td>NaN</td>\n",
              "      <td>ชลบุรี</td>\n",
              "      <td>ทัณฑสถาน/เรือนจำ</td>\n",
              "      <td>NaN</td>\n",
              "      <td>NaN</td>\n",
              "    </tr>\n",
              "    <tr>\n",
              "      <th>512620</th>\n",
              "      <td>512621</td>\n",
              "      <td>26/7/2021</td>\n",
              "      <td>25/7/2021</td>\n",
              "      <td>ชาย</td>\n",
              "      <td>NaN</td>\n",
              "      <td>NaN</td>\n",
              "      <td>NaN</td>\n",
              "      <td>ชลบุรี</td>\n",
              "      <td>ทัณฑสถาน/เรือนจำ</td>\n",
              "      <td>NaN</td>\n",
              "      <td>NaN</td>\n",
              "    </tr>\n",
              "    <tr>\n",
              "      <th>512621</th>\n",
              "      <td>512622</td>\n",
              "      <td>26/7/2021</td>\n",
              "      <td>25/7/2021</td>\n",
              "      <td>ชาย</td>\n",
              "      <td>NaN</td>\n",
              "      <td>NaN</td>\n",
              "      <td>NaN</td>\n",
              "      <td>ชลบุรี</td>\n",
              "      <td>ทัณฑสถาน/เรือนจำ</td>\n",
              "      <td>NaN</td>\n",
              "      <td>NaN</td>\n",
              "    </tr>\n",
              "  </tbody>\n",
              "</table>\n",
              "<p>41331 rows × 11 columns</p>\n",
              "</div>"
            ],
            "text/plain": [
              "           No. announce_date  ... province_of_onset district_of_onset\n",
              "100018  100019     16/5/2021  ...        ฉะเชิงเทรา  เมืองฉะเชิงเทรา‎\n",
              "100019  100020     16/5/2021  ...        ฉะเชิงเทรา  เมืองฉะเชิงเทรา‎\n",
              "101468  101469     17/5/2021  ...               NaN               NaN\n",
              "101469  101470     17/5/2021  ...               NaN               NaN\n",
              "101470  101471     17/5/2021  ...               NaN               NaN\n",
              "...        ...           ...  ...               ...               ...\n",
              "512617  512618     26/7/2021  ...               NaN               NaN\n",
              "512618  512619     26/7/2021  ...               NaN               NaN\n",
              "512619  512620     26/7/2021  ...               NaN               NaN\n",
              "512620  512621     26/7/2021  ...               NaN               NaN\n",
              "512621  512622     26/7/2021  ...               NaN               NaN\n",
              "\n",
              "[41331 rows x 11 columns]"
            ]
          },
          "metadata": {
            "tags": []
          },
          "execution_count": 46
        }
      ]
    },
    {
      "cell_type": "markdown",
      "metadata": {
        "id": "oo7qOrQeWWZw"
      },
      "source": [
        "สร้าง list ของ boolean"
      ]
    },
    {
      "cell_type": "code",
      "metadata": {
        "colab": {
          "base_uri": "https://localhost:8080/"
        },
        "id": "3KMugUA0UrX1",
        "outputId": "6686a4fc-2e55-44c1-ad50-dd6ba2d6d617"
      },
      "source": [
        "data_cases2['age'] > 70"
      ],
      "execution_count": 47,
      "outputs": [
        {
          "output_type": "execute_result",
          "data": {
            "text/plain": [
              "0         False\n",
              "1          True\n",
              "2          True\n",
              "3         False\n",
              "4         False\n",
              "          ...  \n",
              "512617    False\n",
              "512618    False\n",
              "512619    False\n",
              "512620    False\n",
              "512621    False\n",
              "Name: age, Length: 512622, dtype: bool"
            ]
          },
          "metadata": {
            "tags": []
          },
          "execution_count": 47
        }
      ]
    },
    {
      "cell_type": "markdown",
      "metadata": {
        "id": "faSuT3bIWcOm"
      },
      "source": [
        "เลือก "
      ]
    },
    {
      "cell_type": "code",
      "metadata": {
        "colab": {
          "base_uri": "https://localhost:8080/",
          "height": 417
        },
        "id": "L3oEtfjaWSLd",
        "outputId": "0d37691a-cbf1-4146-ad1c-69abc10e5595"
      },
      "source": [
        "data_cases2[data_cases2['age'] > 70]"
      ],
      "execution_count": 48,
      "outputs": [
        {
          "output_type": "execute_result",
          "data": {
            "text/html": [
              "<div>\n",
              "<style scoped>\n",
              "    .dataframe tbody tr th:only-of-type {\n",
              "        vertical-align: middle;\n",
              "    }\n",
              "\n",
              "    .dataframe tbody tr th {\n",
              "        vertical-align: top;\n",
              "    }\n",
              "\n",
              "    .dataframe thead th {\n",
              "        text-align: right;\n",
              "    }\n",
              "</style>\n",
              "<table border=\"1\" class=\"dataframe\">\n",
              "  <thead>\n",
              "    <tr style=\"text-align: right;\">\n",
              "      <th></th>\n",
              "      <th>No.</th>\n",
              "      <th>announce_date</th>\n",
              "      <th>Notified date</th>\n",
              "      <th>sex</th>\n",
              "      <th>age</th>\n",
              "      <th>Unit</th>\n",
              "      <th>nationality</th>\n",
              "      <th>province_of_isolation</th>\n",
              "      <th>risk</th>\n",
              "      <th>province_of_onset</th>\n",
              "      <th>district_of_onset</th>\n",
              "    </tr>\n",
              "  </thead>\n",
              "  <tbody>\n",
              "    <tr>\n",
              "      <th>1</th>\n",
              "      <td>2</td>\n",
              "      <td>17/1/2020</td>\n",
              "      <td>NaN</td>\n",
              "      <td>หญิง</td>\n",
              "      <td>74.0</td>\n",
              "      <td>ปี</td>\n",
              "      <td>China</td>\n",
              "      <td>กรุงเทพมหานคร</td>\n",
              "      <td>คนต่างชาติเดินทางมาจากต่างประเทศ</td>\n",
              "      <td>กรุงเทพมหานคร</td>\n",
              "      <td>NaN</td>\n",
              "    </tr>\n",
              "    <tr>\n",
              "      <th>2</th>\n",
              "      <td>3</td>\n",
              "      <td>22/1/2020</td>\n",
              "      <td>NaN</td>\n",
              "      <td>หญิง</td>\n",
              "      <td>73.0</td>\n",
              "      <td>ปี</td>\n",
              "      <td>Thailand</td>\n",
              "      <td>นครปฐม</td>\n",
              "      <td>คนต่างชาติเดินทางมาจากต่างประเทศ</td>\n",
              "      <td>นครปฐม</td>\n",
              "      <td>เมือง</td>\n",
              "    </tr>\n",
              "    <tr>\n",
              "      <th>7</th>\n",
              "      <td>8</td>\n",
              "      <td>26/1/2020</td>\n",
              "      <td>NaN</td>\n",
              "      <td>หญิง</td>\n",
              "      <td>73.0</td>\n",
              "      <td>ปี</td>\n",
              "      <td>China</td>\n",
              "      <td>ประจวบคีรีขันธ์</td>\n",
              "      <td>คนต่างชาติเดินทางมาจากต่างประเทศ</td>\n",
              "      <td>ประจวบคีรีขันธ์</td>\n",
              "      <td>หัวหิน</td>\n",
              "    </tr>\n",
              "    <tr>\n",
              "      <th>82</th>\n",
              "      <td>83</td>\n",
              "      <td>15/3/2020</td>\n",
              "      <td>NaN</td>\n",
              "      <td>ชาย</td>\n",
              "      <td>76.0</td>\n",
              "      <td>ปี</td>\n",
              "      <td>Thailand</td>\n",
              "      <td>กรุงเทพมหานคร</td>\n",
              "      <td>สนามมวย</td>\n",
              "      <td>กรุงเทพมหานคร</td>\n",
              "      <td>NaN</td>\n",
              "    </tr>\n",
              "    <tr>\n",
              "      <th>119</th>\n",
              "      <td>120</td>\n",
              "      <td>16/3/2020</td>\n",
              "      <td>NaN</td>\n",
              "      <td>ชาย</td>\n",
              "      <td>73.0</td>\n",
              "      <td>ปี</td>\n",
              "      <td>Thailand</td>\n",
              "      <td>กรุงเทพมหานคร</td>\n",
              "      <td>สนามมวย</td>\n",
              "      <td>ฉะเชิงเทรา</td>\n",
              "      <td>NaN</td>\n",
              "    </tr>\n",
              "    <tr>\n",
              "      <th>...</th>\n",
              "      <td>...</td>\n",
              "      <td>...</td>\n",
              "      <td>...</td>\n",
              "      <td>...</td>\n",
              "      <td>...</td>\n",
              "      <td>...</td>\n",
              "      <td>...</td>\n",
              "      <td>...</td>\n",
              "      <td>...</td>\n",
              "      <td>...</td>\n",
              "      <td>...</td>\n",
              "    </tr>\n",
              "    <tr>\n",
              "      <th>511418</th>\n",
              "      <td>511419</td>\n",
              "      <td>26/7/2021</td>\n",
              "      <td>25/7/2021</td>\n",
              "      <td>หญิง</td>\n",
              "      <td>73.0</td>\n",
              "      <td>ปี</td>\n",
              "      <td>Thailand</td>\n",
              "      <td>กรุงเทพมหานคร</td>\n",
              "      <td>การค้นหาผู้ป่วยเชิงรุกและค้นหาผู้ติดเชื้อในชุมชน</td>\n",
              "      <td>กรุงเทพมหานคร</td>\n",
              "      <td>ราชเทวี</td>\n",
              "    </tr>\n",
              "    <tr>\n",
              "      <th>511463</th>\n",
              "      <td>511464</td>\n",
              "      <td>26/7/2021</td>\n",
              "      <td>25/7/2021</td>\n",
              "      <td>หญิง</td>\n",
              "      <td>83.0</td>\n",
              "      <td>ปี</td>\n",
              "      <td>NaN</td>\n",
              "      <td>กรุงเทพมหานคร</td>\n",
              "      <td>การค้นหาผู้ป่วยเชิงรุกและค้นหาผู้ติดเชื้อในชุมชน</td>\n",
              "      <td>กรุงเทพมหานคร</td>\n",
              "      <td>บางบอน</td>\n",
              "    </tr>\n",
              "    <tr>\n",
              "      <th>511488</th>\n",
              "      <td>511489</td>\n",
              "      <td>26/7/2021</td>\n",
              "      <td>25/7/2021</td>\n",
              "      <td>ชาย</td>\n",
              "      <td>80.0</td>\n",
              "      <td>ปี</td>\n",
              "      <td>Thailand</td>\n",
              "      <td>กรุงเทพมหานคร</td>\n",
              "      <td>การค้นหาผู้ป่วยเชิงรุกและค้นหาผู้ติดเชื้อในชุมชน</td>\n",
              "      <td>กรุงเทพมหานคร</td>\n",
              "      <td>บางบอน</td>\n",
              "    </tr>\n",
              "    <tr>\n",
              "      <th>511506</th>\n",
              "      <td>511507</td>\n",
              "      <td>26/7/2021</td>\n",
              "      <td>25/7/2021</td>\n",
              "      <td>ชาย</td>\n",
              "      <td>71.0</td>\n",
              "      <td>ปี</td>\n",
              "      <td>Thailand</td>\n",
              "      <td>กรุงเทพมหานคร</td>\n",
              "      <td>การค้นหาผู้ป่วยเชิงรุกและค้นหาผู้ติดเชื้อในชุมชน</td>\n",
              "      <td>กรุงเทพมหานคร</td>\n",
              "      <td>สัมพันธวงศ์</td>\n",
              "    </tr>\n",
              "    <tr>\n",
              "      <th>511561</th>\n",
              "      <td>511562</td>\n",
              "      <td>26/7/2021</td>\n",
              "      <td>25/7/2021</td>\n",
              "      <td>ชาย</td>\n",
              "      <td>75.0</td>\n",
              "      <td>ปี</td>\n",
              "      <td>Thailand</td>\n",
              "      <td>กรุงเทพมหานคร</td>\n",
              "      <td>การค้นหาผู้ป่วยเชิงรุกและค้นหาผู้ติดเชื้อในชุมชน</td>\n",
              "      <td>กรุงเทพมหานคร</td>\n",
              "      <td>ธนบุรี</td>\n",
              "    </tr>\n",
              "  </tbody>\n",
              "</table>\n",
              "<p>11623 rows × 11 columns</p>\n",
              "</div>"
            ],
            "text/plain": [
              "           No. announce_date  ... province_of_onset district_of_onset\n",
              "1            2     17/1/2020  ...     กรุงเทพมหานคร               NaN\n",
              "2            3     22/1/2020  ...            นครปฐม             เมือง\n",
              "7            8     26/1/2020  ...   ประจวบคีรีขันธ์            หัวหิน\n",
              "82          83     15/3/2020  ...     กรุงเทพมหานคร               NaN\n",
              "119        120     16/3/2020  ...        ฉะเชิงเทรา               NaN\n",
              "...        ...           ...  ...               ...               ...\n",
              "511418  511419     26/7/2021  ...     กรุงเทพมหานคร           ราชเทวี\n",
              "511463  511464     26/7/2021  ...     กรุงเทพมหานคร            บางบอน\n",
              "511488  511489     26/7/2021  ...     กรุงเทพมหานคร            บางบอน\n",
              "511506  511507     26/7/2021  ...     กรุงเทพมหานคร       สัมพันธวงศ์\n",
              "511561  511562     26/7/2021  ...     กรุงเทพมหานคร            ธนบุรี\n",
              "\n",
              "[11623 rows x 11 columns]"
            ]
          },
          "metadata": {
            "tags": []
          },
          "execution_count": 48
        }
      ]
    },
    {
      "cell_type": "code",
      "metadata": {
        "id": "Lyj9ldi6WiGa"
      },
      "source": [
        "blist_age70up = data_cases2['age'] > 70"
      ],
      "execution_count": 49,
      "outputs": []
    },
    {
      "cell_type": "code",
      "metadata": {
        "colab": {
          "base_uri": "https://localhost:8080/"
        },
        "id": "D-UjuHWzXIT2",
        "outputId": "c93f0ae1-c0c2-44d0-8110-6ae0ff2a28d1"
      },
      "source": [
        "blist_female = data_cases2['sex'] == 'หญิง'\n",
        "blist_female"
      ],
      "execution_count": 50,
      "outputs": [
        {
          "output_type": "execute_result",
          "data": {
            "text/plain": [
              "0          True\n",
              "1          True\n",
              "2          True\n",
              "3         False\n",
              "4          True\n",
              "          ...  \n",
              "512617    False\n",
              "512618    False\n",
              "512619    False\n",
              "512620    False\n",
              "512621    False\n",
              "Name: sex, Length: 512622, dtype: bool"
            ]
          },
          "metadata": {
            "tags": []
          },
          "execution_count": 50
        }
      ]
    },
    {
      "cell_type": "markdown",
      "metadata": {
        "id": "_VCfm8nwXi6u"
      },
      "source": [
        "เราใช้ & และ l ในการรวม list ของ boolean"
      ]
    },
    {
      "cell_type": "code",
      "metadata": {
        "colab": {
          "base_uri": "https://localhost:8080/"
        },
        "id": "dEpDIn94XPHl",
        "outputId": "f6d0fd0e-a8ad-47a0-fae8-cd337fa2932a"
      },
      "source": [
        "blist_age70up & blist_female"
      ],
      "execution_count": 51,
      "outputs": [
        {
          "output_type": "execute_result",
          "data": {
            "text/plain": [
              "0         False\n",
              "1          True\n",
              "2          True\n",
              "3         False\n",
              "4         False\n",
              "          ...  \n",
              "512617    False\n",
              "512618    False\n",
              "512619    False\n",
              "512620    False\n",
              "512621    False\n",
              "Length: 512622, dtype: bool"
            ]
          },
          "metadata": {
            "tags": []
          },
          "execution_count": 51
        }
      ]
    },
    {
      "cell_type": "code",
      "metadata": {
        "colab": {
          "base_uri": "https://localhost:8080/",
          "height": 417
        },
        "id": "swmwxtljX3Ln",
        "outputId": "b99089bb-23dc-49f2-da3b-4d296ac1461e"
      },
      "source": [
        "data_cases2[blist_age70up & blist_female]"
      ],
      "execution_count": 52,
      "outputs": [
        {
          "output_type": "execute_result",
          "data": {
            "text/html": [
              "<div>\n",
              "<style scoped>\n",
              "    .dataframe tbody tr th:only-of-type {\n",
              "        vertical-align: middle;\n",
              "    }\n",
              "\n",
              "    .dataframe tbody tr th {\n",
              "        vertical-align: top;\n",
              "    }\n",
              "\n",
              "    .dataframe thead th {\n",
              "        text-align: right;\n",
              "    }\n",
              "</style>\n",
              "<table border=\"1\" class=\"dataframe\">\n",
              "  <thead>\n",
              "    <tr style=\"text-align: right;\">\n",
              "      <th></th>\n",
              "      <th>No.</th>\n",
              "      <th>announce_date</th>\n",
              "      <th>Notified date</th>\n",
              "      <th>sex</th>\n",
              "      <th>age</th>\n",
              "      <th>Unit</th>\n",
              "      <th>nationality</th>\n",
              "      <th>province_of_isolation</th>\n",
              "      <th>risk</th>\n",
              "      <th>province_of_onset</th>\n",
              "      <th>district_of_onset</th>\n",
              "    </tr>\n",
              "  </thead>\n",
              "  <tbody>\n",
              "    <tr>\n",
              "      <th>1</th>\n",
              "      <td>2</td>\n",
              "      <td>17/1/2020</td>\n",
              "      <td>NaN</td>\n",
              "      <td>หญิง</td>\n",
              "      <td>74.0</td>\n",
              "      <td>ปี</td>\n",
              "      <td>China</td>\n",
              "      <td>กรุงเทพมหานคร</td>\n",
              "      <td>คนต่างชาติเดินทางมาจากต่างประเทศ</td>\n",
              "      <td>กรุงเทพมหานคร</td>\n",
              "      <td>NaN</td>\n",
              "    </tr>\n",
              "    <tr>\n",
              "      <th>2</th>\n",
              "      <td>3</td>\n",
              "      <td>22/1/2020</td>\n",
              "      <td>NaN</td>\n",
              "      <td>หญิง</td>\n",
              "      <td>73.0</td>\n",
              "      <td>ปี</td>\n",
              "      <td>Thailand</td>\n",
              "      <td>นครปฐม</td>\n",
              "      <td>คนต่างชาติเดินทางมาจากต่างประเทศ</td>\n",
              "      <td>นครปฐม</td>\n",
              "      <td>เมือง</td>\n",
              "    </tr>\n",
              "    <tr>\n",
              "      <th>7</th>\n",
              "      <td>8</td>\n",
              "      <td>26/1/2020</td>\n",
              "      <td>NaN</td>\n",
              "      <td>หญิง</td>\n",
              "      <td>73.0</td>\n",
              "      <td>ปี</td>\n",
              "      <td>China</td>\n",
              "      <td>ประจวบคีรีขันธ์</td>\n",
              "      <td>คนต่างชาติเดินทางมาจากต่างประเทศ</td>\n",
              "      <td>ประจวบคีรีขันธ์</td>\n",
              "      <td>หัวหิน</td>\n",
              "    </tr>\n",
              "    <tr>\n",
              "      <th>476</th>\n",
              "      <td>477</td>\n",
              "      <td>22/3/2020</td>\n",
              "      <td>21/3/2020</td>\n",
              "      <td>หญิง</td>\n",
              "      <td>72.0</td>\n",
              "      <td>ปี</td>\n",
              "      <td>Thailand</td>\n",
              "      <td>กรุงเทพมหานคร</td>\n",
              "      <td>สัมผัสใกล้ชิดกับผู้ป่วยยืนยันรายก่อนหน้านี้</td>\n",
              "      <td>กรุงเทพมหานคร</td>\n",
              "      <td>ภาษีเจริญ</td>\n",
              "    </tr>\n",
              "    <tr>\n",
              "      <th>564</th>\n",
              "      <td>565</td>\n",
              "      <td>22/3/2020</td>\n",
              "      <td>21/3/2020</td>\n",
              "      <td>หญิง</td>\n",
              "      <td>71.0</td>\n",
              "      <td>ปี</td>\n",
              "      <td>Thailand</td>\n",
              "      <td>นนทบุรี</td>\n",
              "      <td>สัมผัสใกล้ชิดกับผู้ป่วยยืนยันรายก่อนหน้านี้</td>\n",
              "      <td>นนทบุรี</td>\n",
              "      <td>NaN</td>\n",
              "    </tr>\n",
              "    <tr>\n",
              "      <th>...</th>\n",
              "      <td>...</td>\n",
              "      <td>...</td>\n",
              "      <td>...</td>\n",
              "      <td>...</td>\n",
              "      <td>...</td>\n",
              "      <td>...</td>\n",
              "      <td>...</td>\n",
              "      <td>...</td>\n",
              "      <td>...</td>\n",
              "      <td>...</td>\n",
              "      <td>...</td>\n",
              "    </tr>\n",
              "    <tr>\n",
              "      <th>511082</th>\n",
              "      <td>511083</td>\n",
              "      <td>26/7/2021</td>\n",
              "      <td>25/7/2021</td>\n",
              "      <td>หญิง</td>\n",
              "      <td>74.0</td>\n",
              "      <td>ปี</td>\n",
              "      <td>Thailand</td>\n",
              "      <td>กรุงเทพมหานคร</td>\n",
              "      <td>การค้นหาผู้ป่วยเชิงรุกและค้นหาผู้ติดเชื้อในชุมชน</td>\n",
              "      <td>กรุงเทพมหานคร</td>\n",
              "      <td>คลองสามวา</td>\n",
              "    </tr>\n",
              "    <tr>\n",
              "      <th>511128</th>\n",
              "      <td>511129</td>\n",
              "      <td>26/7/2021</td>\n",
              "      <td>25/7/2021</td>\n",
              "      <td>หญิง</td>\n",
              "      <td>79.0</td>\n",
              "      <td>ปี</td>\n",
              "      <td>Thailand</td>\n",
              "      <td>กรุงเทพมหานคร</td>\n",
              "      <td>สัมผัสใกล้ชิดกับผู้ป่วยยืนยันรายก่อนหน้านี้</td>\n",
              "      <td>กรุงเทพมหานคร</td>\n",
              "      <td>ตลิ่งชัน</td>\n",
              "    </tr>\n",
              "    <tr>\n",
              "      <th>511196</th>\n",
              "      <td>511197</td>\n",
              "      <td>26/7/2021</td>\n",
              "      <td>25/7/2021</td>\n",
              "      <td>หญิง</td>\n",
              "      <td>71.0</td>\n",
              "      <td>ปี</td>\n",
              "      <td>Thailand</td>\n",
              "      <td>กรุงเทพมหานคร</td>\n",
              "      <td>การค้นหาผู้ป่วยเชิงรุกและค้นหาผู้ติดเชื้อในชุมชน</td>\n",
              "      <td>กรุงเทพมหานคร</td>\n",
              "      <td>สัมพันธวงศ์</td>\n",
              "    </tr>\n",
              "    <tr>\n",
              "      <th>511418</th>\n",
              "      <td>511419</td>\n",
              "      <td>26/7/2021</td>\n",
              "      <td>25/7/2021</td>\n",
              "      <td>หญิง</td>\n",
              "      <td>73.0</td>\n",
              "      <td>ปี</td>\n",
              "      <td>Thailand</td>\n",
              "      <td>กรุงเทพมหานคร</td>\n",
              "      <td>การค้นหาผู้ป่วยเชิงรุกและค้นหาผู้ติดเชื้อในชุมชน</td>\n",
              "      <td>กรุงเทพมหานคร</td>\n",
              "      <td>ราชเทวี</td>\n",
              "    </tr>\n",
              "    <tr>\n",
              "      <th>511463</th>\n",
              "      <td>511464</td>\n",
              "      <td>26/7/2021</td>\n",
              "      <td>25/7/2021</td>\n",
              "      <td>หญิง</td>\n",
              "      <td>83.0</td>\n",
              "      <td>ปี</td>\n",
              "      <td>NaN</td>\n",
              "      <td>กรุงเทพมหานคร</td>\n",
              "      <td>การค้นหาผู้ป่วยเชิงรุกและค้นหาผู้ติดเชื้อในชุมชน</td>\n",
              "      <td>กรุงเทพมหานคร</td>\n",
              "      <td>บางบอน</td>\n",
              "    </tr>\n",
              "  </tbody>\n",
              "</table>\n",
              "<p>6350 rows × 11 columns</p>\n",
              "</div>"
            ],
            "text/plain": [
              "           No. announce_date  ... province_of_onset district_of_onset\n",
              "1            2     17/1/2020  ...     กรุงเทพมหานคร               NaN\n",
              "2            3     22/1/2020  ...            นครปฐม             เมือง\n",
              "7            8     26/1/2020  ...   ประจวบคีรีขันธ์            หัวหิน\n",
              "476        477     22/3/2020  ...     กรุงเทพมหานคร         ภาษีเจริญ\n",
              "564        565     22/3/2020  ...           นนทบุรี               NaN\n",
              "...        ...           ...  ...               ...               ...\n",
              "511082  511083     26/7/2021  ...     กรุงเทพมหานคร         คลองสามวา\n",
              "511128  511129     26/7/2021  ...     กรุงเทพมหานคร          ตลิ่งชัน\n",
              "511196  511197     26/7/2021  ...     กรุงเทพมหานคร       สัมพันธวงศ์\n",
              "511418  511419     26/7/2021  ...     กรุงเทพมหานคร           ราชเทวี\n",
              "511463  511464     26/7/2021  ...     กรุงเทพมหานคร            บางบอน\n",
              "\n",
              "[6350 rows x 11 columns]"
            ]
          },
          "metadata": {
            "tags": []
          },
          "execution_count": 52
        }
      ]
    },
    {
      "cell_type": "markdown",
      "metadata": {
        "id": "uVFDoh8UYFTq"
      },
      "source": [
        "### **Quiz 4 + Homework**\n",
        "\n",
        "เลือก records ต่อไปนี้\n",
        "1. records ที่ กักตัวที่ขอนแก่น\n",
        "2. records ที่ กักตัวที่ ขอนแก่น+โคราช+อุดร\n",
        "3. records ที่ เป็นผู้หญิงที่พบเชื้อที่ กทม\n",
        "4. records ที่ เป็นผู้ชาย อายุ 18-22 ปี ที่กักตัวที่เชียงใหม่\n",
        "5. หาอายุเฉลี่ยของคนที่พบเชื้อที่ขอนแก่น "
      ]
    },
    {
      "cell_type": "markdown",
      "metadata": {
        "id": "rZYnqMY2Zy24"
      },
      "source": [
        "**1. records ที่ กักตัวที่ขอนแก่น**"
      ]
    },
    {
      "cell_type": "code",
      "metadata": {
        "colab": {
          "base_uri": "https://localhost:8080/"
        },
        "id": "0oA6RpfHX70B",
        "outputId": "7d94b06b-e81c-445c-ef71-cd1af0f51eaa"
      },
      "source": [
        "blist_province_of_isolation1 = data_cases2['province_of_isolation'] == 'ขอนแก่น'\n",
        "blist_province_of_isolation1"
      ],
      "execution_count": 53,
      "outputs": [
        {
          "output_type": "execute_result",
          "data": {
            "text/plain": [
              "0         False\n",
              "1         False\n",
              "2         False\n",
              "3         False\n",
              "4         False\n",
              "          ...  \n",
              "512617    False\n",
              "512618    False\n",
              "512619    False\n",
              "512620    False\n",
              "512621    False\n",
              "Name: province_of_isolation, Length: 512622, dtype: bool"
            ]
          },
          "metadata": {
            "tags": []
          },
          "execution_count": 53
        }
      ]
    },
    {
      "cell_type": "code",
      "metadata": {
        "colab": {
          "base_uri": "https://localhost:8080/",
          "height": 417
        },
        "id": "noOMLDjDZrPn",
        "outputId": "87d98744-1f64-4212-eef7-10fcf03df6bf"
      },
      "source": [
        "data_cases2[blist_province_of_isolation1]"
      ],
      "execution_count": 54,
      "outputs": [
        {
          "output_type": "execute_result",
          "data": {
            "text/html": [
              "<div>\n",
              "<style scoped>\n",
              "    .dataframe tbody tr th:only-of-type {\n",
              "        vertical-align: middle;\n",
              "    }\n",
              "\n",
              "    .dataframe tbody tr th {\n",
              "        vertical-align: top;\n",
              "    }\n",
              "\n",
              "    .dataframe thead th {\n",
              "        text-align: right;\n",
              "    }\n",
              "</style>\n",
              "<table border=\"1\" class=\"dataframe\">\n",
              "  <thead>\n",
              "    <tr style=\"text-align: right;\">\n",
              "      <th></th>\n",
              "      <th>No.</th>\n",
              "      <th>announce_date</th>\n",
              "      <th>Notified date</th>\n",
              "      <th>sex</th>\n",
              "      <th>age</th>\n",
              "      <th>Unit</th>\n",
              "      <th>nationality</th>\n",
              "      <th>province_of_isolation</th>\n",
              "      <th>risk</th>\n",
              "      <th>province_of_onset</th>\n",
              "      <th>district_of_onset</th>\n",
              "    </tr>\n",
              "  </thead>\n",
              "  <tbody>\n",
              "    <tr>\n",
              "      <th>181</th>\n",
              "      <td>182</td>\n",
              "      <td>18/3/2020</td>\n",
              "      <td>15/3/2020</td>\n",
              "      <td>ชาย</td>\n",
              "      <td>33.0</td>\n",
              "      <td>ปี</td>\n",
              "      <td>Thailand</td>\n",
              "      <td>ขอนแก่น</td>\n",
              "      <td>สนามมวย</td>\n",
              "      <td>ขอนแก่น</td>\n",
              "      <td>เมือง</td>\n",
              "    </tr>\n",
              "    <tr>\n",
              "      <th>463</th>\n",
              "      <td>464</td>\n",
              "      <td>22/3/2020</td>\n",
              "      <td>21/3/2020</td>\n",
              "      <td>หญิง</td>\n",
              "      <td>36.0</td>\n",
              "      <td>ปี</td>\n",
              "      <td>Thailand</td>\n",
              "      <td>ขอนแก่น</td>\n",
              "      <td>สัมผัสใกล้ชิดกับผู้ป่วยยืนยันรายก่อนหน้านี้</td>\n",
              "      <td>ขอนแก่น</td>\n",
              "      <td>เมือง</td>\n",
              "    </tr>\n",
              "    <tr>\n",
              "      <th>1467</th>\n",
              "      <td>1468</td>\n",
              "      <td>30/3/2020</td>\n",
              "      <td>26/3/2020</td>\n",
              "      <td>ชาย</td>\n",
              "      <td>19.0</td>\n",
              "      <td>ปี</td>\n",
              "      <td>Thailand</td>\n",
              "      <td>ขอนแก่น</td>\n",
              "      <td>คนไทยเดินทางกลับจากต่างประเทศ</td>\n",
              "      <td>ขอนแก่น</td>\n",
              "      <td>เมือง</td>\n",
              "    </tr>\n",
              "    <tr>\n",
              "      <th>1971</th>\n",
              "      <td>1972</td>\n",
              "      <td>3/4/2020</td>\n",
              "      <td>31/3/2020</td>\n",
              "      <td>หญิง</td>\n",
              "      <td>70.0</td>\n",
              "      <td>ปี</td>\n",
              "      <td>Thailand</td>\n",
              "      <td>ขอนแก่น</td>\n",
              "      <td>ไปสถานที่ชุมชน เช่น ตลาดนัด สถานที่ท่องเที่ยว</td>\n",
              "      <td>ขอนแก่น</td>\n",
              "      <td>เมือง</td>\n",
              "    </tr>\n",
              "    <tr>\n",
              "      <th>2638</th>\n",
              "      <td>2639</td>\n",
              "      <td>15/4/2020</td>\n",
              "      <td>14/4/2020</td>\n",
              "      <td>หญิง</td>\n",
              "      <td>63.0</td>\n",
              "      <td>ปี</td>\n",
              "      <td>Thailand</td>\n",
              "      <td>ขอนแก่น</td>\n",
              "      <td>สัมผัสผู้เดินทางจากต่างประเทศ</td>\n",
              "      <td>ขอนแก่น</td>\n",
              "      <td>น้ำพอง</td>\n",
              "    </tr>\n",
              "    <tr>\n",
              "      <th>...</th>\n",
              "      <td>...</td>\n",
              "      <td>...</td>\n",
              "      <td>...</td>\n",
              "      <td>...</td>\n",
              "      <td>...</td>\n",
              "      <td>...</td>\n",
              "      <td>...</td>\n",
              "      <td>...</td>\n",
              "      <td>...</td>\n",
              "      <td>...</td>\n",
              "      <td>...</td>\n",
              "    </tr>\n",
              "    <tr>\n",
              "      <th>505598</th>\n",
              "      <td>505599</td>\n",
              "      <td>26/7/2021</td>\n",
              "      <td>25/7/2021</td>\n",
              "      <td>ชาย</td>\n",
              "      <td>19.0</td>\n",
              "      <td>ปี</td>\n",
              "      <td>Thailand</td>\n",
              "      <td>ขอนแก่น</td>\n",
              "      <td>การค้นหาผู้ป่วยเชิงรุกและค้นหาผู้ติดเชื้อในชุมชน</td>\n",
              "      <td>ขอนแก่น</td>\n",
              "      <td>ภูเวียง</td>\n",
              "    </tr>\n",
              "    <tr>\n",
              "      <th>505599</th>\n",
              "      <td>505600</td>\n",
              "      <td>26/7/2021</td>\n",
              "      <td>25/7/2021</td>\n",
              "      <td>ชาย</td>\n",
              "      <td>37.0</td>\n",
              "      <td>ปี</td>\n",
              "      <td>Thailand</td>\n",
              "      <td>ขอนแก่น</td>\n",
              "      <td>การค้นหาผู้ป่วยเชิงรุกและค้นหาผู้ติดเชื้อในชุมชน</td>\n",
              "      <td>ขอนแก่น</td>\n",
              "      <td>ภูเวียง</td>\n",
              "    </tr>\n",
              "    <tr>\n",
              "      <th>511809</th>\n",
              "      <td>511810</td>\n",
              "      <td>26/7/2021</td>\n",
              "      <td>25/7/2021</td>\n",
              "      <td>ชาย</td>\n",
              "      <td>NaN</td>\n",
              "      <td>NaN</td>\n",
              "      <td>NaN</td>\n",
              "      <td>ขอนแก่น</td>\n",
              "      <td>ทัณฑสถาน/เรือนจำ</td>\n",
              "      <td>NaN</td>\n",
              "      <td>NaN</td>\n",
              "    </tr>\n",
              "    <tr>\n",
              "      <th>511810</th>\n",
              "      <td>511811</td>\n",
              "      <td>26/7/2021</td>\n",
              "      <td>25/7/2021</td>\n",
              "      <td>ชาย</td>\n",
              "      <td>NaN</td>\n",
              "      <td>NaN</td>\n",
              "      <td>NaN</td>\n",
              "      <td>ขอนแก่น</td>\n",
              "      <td>ทัณฑสถาน/เรือนจำ</td>\n",
              "      <td>NaN</td>\n",
              "      <td>NaN</td>\n",
              "    </tr>\n",
              "    <tr>\n",
              "      <th>511811</th>\n",
              "      <td>511812</td>\n",
              "      <td>26/7/2021</td>\n",
              "      <td>25/7/2021</td>\n",
              "      <td>ชาย</td>\n",
              "      <td>NaN</td>\n",
              "      <td>NaN</td>\n",
              "      <td>NaN</td>\n",
              "      <td>ขอนแก่น</td>\n",
              "      <td>ทัณฑสถาน/เรือนจำ</td>\n",
              "      <td>NaN</td>\n",
              "      <td>NaN</td>\n",
              "    </tr>\n",
              "  </tbody>\n",
              "</table>\n",
              "<p>3707 rows × 11 columns</p>\n",
              "</div>"
            ],
            "text/plain": [
              "           No. announce_date  ... province_of_onset district_of_onset\n",
              "181        182     18/3/2020  ...           ขอนแก่น             เมือง\n",
              "463        464     22/3/2020  ...           ขอนแก่น             เมือง\n",
              "1467      1468     30/3/2020  ...           ขอนแก่น             เมือง\n",
              "1971      1972      3/4/2020  ...           ขอนแก่น             เมือง\n",
              "2638      2639     15/4/2020  ...           ขอนแก่น            น้ำพอง\n",
              "...        ...           ...  ...               ...               ...\n",
              "505598  505599     26/7/2021  ...           ขอนแก่น           ภูเวียง\n",
              "505599  505600     26/7/2021  ...           ขอนแก่น           ภูเวียง\n",
              "511809  511810     26/7/2021  ...               NaN               NaN\n",
              "511810  511811     26/7/2021  ...               NaN               NaN\n",
              "511811  511812     26/7/2021  ...               NaN               NaN\n",
              "\n",
              "[3707 rows x 11 columns]"
            ]
          },
          "metadata": {
            "tags": []
          },
          "execution_count": 54
        }
      ]
    },
    {
      "cell_type": "markdown",
      "metadata": {
        "id": "KSGjIeuZbQT_"
      },
      "source": [
        "**2. records ที่ กักตัวที่ ขอนแก่น+โคราช+อุดร**"
      ]
    },
    {
      "cell_type": "code",
      "metadata": {
        "colab": {
          "base_uri": "https://localhost:8080/"
        },
        "id": "JzyRMJWtbTAn",
        "outputId": "fd8a1bbc-bd56-4f93-cc8e-ac3bb9526712"
      },
      "source": [
        "blist_province_of_isolation1 = data_cases2['province_of_isolation'] == 'ขอนแก่น'\n",
        "blist_province_of_isolation1"
      ],
      "execution_count": 55,
      "outputs": [
        {
          "output_type": "execute_result",
          "data": {
            "text/plain": [
              "0         False\n",
              "1         False\n",
              "2         False\n",
              "3         False\n",
              "4         False\n",
              "          ...  \n",
              "512617    False\n",
              "512618    False\n",
              "512619    False\n",
              "512620    False\n",
              "512621    False\n",
              "Name: province_of_isolation, Length: 512622, dtype: bool"
            ]
          },
          "metadata": {
            "tags": []
          },
          "execution_count": 55
        }
      ]
    },
    {
      "cell_type": "code",
      "metadata": {
        "colab": {
          "base_uri": "https://localhost:8080/"
        },
        "id": "8cPpCwIdZwWn",
        "outputId": "5172858c-afc2-4755-b682-d26d7bf2ee14"
      },
      "source": [
        "blist_province_of_isolation2 = data_cases2['province_of_isolation'] == 'นครราชสีมา'\n",
        "blist_province_of_isolation2"
      ],
      "execution_count": 56,
      "outputs": [
        {
          "output_type": "execute_result",
          "data": {
            "text/plain": [
              "0         False\n",
              "1         False\n",
              "2         False\n",
              "3         False\n",
              "4         False\n",
              "          ...  \n",
              "512617    False\n",
              "512618    False\n",
              "512619    False\n",
              "512620    False\n",
              "512621    False\n",
              "Name: province_of_isolation, Length: 512622, dtype: bool"
            ]
          },
          "metadata": {
            "tags": []
          },
          "execution_count": 56
        }
      ]
    },
    {
      "cell_type": "code",
      "metadata": {
        "colab": {
          "base_uri": "https://localhost:8080/"
        },
        "id": "wCq9g3rhaQAJ",
        "outputId": "f297d09d-f62c-4804-fb1b-8f01384d5353"
      },
      "source": [
        "blist_province_of_isolation3 = data_cases2['province_of_isolation'] == 'อุดรธานี'\n",
        "blist_province_of_isolation3"
      ],
      "execution_count": 57,
      "outputs": [
        {
          "output_type": "execute_result",
          "data": {
            "text/plain": [
              "0         False\n",
              "1         False\n",
              "2         False\n",
              "3         False\n",
              "4         False\n",
              "          ...  \n",
              "512617    False\n",
              "512618    False\n",
              "512619    False\n",
              "512620    False\n",
              "512621    False\n",
              "Name: province_of_isolation, Length: 512622, dtype: bool"
            ]
          },
          "metadata": {
            "tags": []
          },
          "execution_count": 57
        }
      ]
    },
    {
      "cell_type": "code",
      "metadata": {
        "colab": {
          "base_uri": "https://localhost:8080/",
          "height": 417
        },
        "id": "gOF8ufBJaVVN",
        "outputId": "937fe026-1b33-44e0-8cb8-e26b27bc3e35"
      },
      "source": [
        "data_cases2[blist_province_of_isolation1 |  blist_province_of_isolation2 |  blist_province_of_isolation3]"
      ],
      "execution_count": 58,
      "outputs": [
        {
          "output_type": "execute_result",
          "data": {
            "text/html": [
              "<div>\n",
              "<style scoped>\n",
              "    .dataframe tbody tr th:only-of-type {\n",
              "        vertical-align: middle;\n",
              "    }\n",
              "\n",
              "    .dataframe tbody tr th {\n",
              "        vertical-align: top;\n",
              "    }\n",
              "\n",
              "    .dataframe thead th {\n",
              "        text-align: right;\n",
              "    }\n",
              "</style>\n",
              "<table border=\"1\" class=\"dataframe\">\n",
              "  <thead>\n",
              "    <tr style=\"text-align: right;\">\n",
              "      <th></th>\n",
              "      <th>No.</th>\n",
              "      <th>announce_date</th>\n",
              "      <th>Notified date</th>\n",
              "      <th>sex</th>\n",
              "      <th>age</th>\n",
              "      <th>Unit</th>\n",
              "      <th>nationality</th>\n",
              "      <th>province_of_isolation</th>\n",
              "      <th>risk</th>\n",
              "      <th>province_of_onset</th>\n",
              "      <th>district_of_onset</th>\n",
              "    </tr>\n",
              "  </thead>\n",
              "  <tbody>\n",
              "    <tr>\n",
              "      <th>181</th>\n",
              "      <td>182</td>\n",
              "      <td>18/3/2020</td>\n",
              "      <td>15/3/2020</td>\n",
              "      <td>ชาย</td>\n",
              "      <td>33.0</td>\n",
              "      <td>ปี</td>\n",
              "      <td>Thailand</td>\n",
              "      <td>ขอนแก่น</td>\n",
              "      <td>สนามมวย</td>\n",
              "      <td>ขอนแก่น</td>\n",
              "      <td>เมือง</td>\n",
              "    </tr>\n",
              "    <tr>\n",
              "      <th>189</th>\n",
              "      <td>190</td>\n",
              "      <td>18/3/2020</td>\n",
              "      <td>16/3/2020</td>\n",
              "      <td>ชาย</td>\n",
              "      <td>57.0</td>\n",
              "      <td>ปี</td>\n",
              "      <td>Thailand</td>\n",
              "      <td>นครราชสีมา</td>\n",
              "      <td>สนามมวย</td>\n",
              "      <td>นครราชสีมา</td>\n",
              "      <td>พิมาย</td>\n",
              "    </tr>\n",
              "    <tr>\n",
              "      <th>207</th>\n",
              "      <td>208</td>\n",
              "      <td>18/3/2020</td>\n",
              "      <td>16/3/2020</td>\n",
              "      <td>หญิง</td>\n",
              "      <td>30.0</td>\n",
              "      <td>ปี</td>\n",
              "      <td>Thailand</td>\n",
              "      <td>นครราชสีมา</td>\n",
              "      <td>สถานบันเทิง</td>\n",
              "      <td>กรุงเทพมหานคร</td>\n",
              "      <td>NaN</td>\n",
              "    </tr>\n",
              "    <tr>\n",
              "      <th>212</th>\n",
              "      <td>213</td>\n",
              "      <td>18/3/2020</td>\n",
              "      <td>14/3/2020</td>\n",
              "      <td>หญิง</td>\n",
              "      <td>22.0</td>\n",
              "      <td>ปี</td>\n",
              "      <td>Thailand</td>\n",
              "      <td>นครราชสีมา</td>\n",
              "      <td>ไปสถานที่ชุมชน เช่น ตลาดนัด สถานที่ท่องเที่ยว</td>\n",
              "      <td>นครราชสีมา</td>\n",
              "      <td>วังน้ำเขียว</td>\n",
              "    </tr>\n",
              "    <tr>\n",
              "      <th>284</th>\n",
              "      <td>285</td>\n",
              "      <td>20/3/2020</td>\n",
              "      <td>17/3/2020</td>\n",
              "      <td>ชาย</td>\n",
              "      <td>42.0</td>\n",
              "      <td>ปี</td>\n",
              "      <td>Thailand</td>\n",
              "      <td>นครราชสีมา</td>\n",
              "      <td>สนามมวย</td>\n",
              "      <td>นครราชสีมา</td>\n",
              "      <td>เมืองนครราชสีมา</td>\n",
              "    </tr>\n",
              "    <tr>\n",
              "      <th>...</th>\n",
              "      <td>...</td>\n",
              "      <td>...</td>\n",
              "      <td>...</td>\n",
              "      <td>...</td>\n",
              "      <td>...</td>\n",
              "      <td>...</td>\n",
              "      <td>...</td>\n",
              "      <td>...</td>\n",
              "      <td>...</td>\n",
              "      <td>...</td>\n",
              "      <td>...</td>\n",
              "    </tr>\n",
              "    <tr>\n",
              "      <th>507218</th>\n",
              "      <td>507219</td>\n",
              "      <td>26/7/2021</td>\n",
              "      <td>25/7/2021</td>\n",
              "      <td>หญิง</td>\n",
              "      <td>NaN</td>\n",
              "      <td>NaN</td>\n",
              "      <td>Thailand</td>\n",
              "      <td>นครราชสีมา</td>\n",
              "      <td>อยู่ระหว่างการสอบสวน</td>\n",
              "      <td>NaN</td>\n",
              "      <td>NaN</td>\n",
              "    </tr>\n",
              "    <tr>\n",
              "      <th>507219</th>\n",
              "      <td>507220</td>\n",
              "      <td>26/7/2021</td>\n",
              "      <td>25/7/2021</td>\n",
              "      <td>ชาย</td>\n",
              "      <td>NaN</td>\n",
              "      <td>NaN</td>\n",
              "      <td>Thailand</td>\n",
              "      <td>นครราชสีมา</td>\n",
              "      <td>อยู่ระหว่างการสอบสวน</td>\n",
              "      <td>NaN</td>\n",
              "      <td>NaN</td>\n",
              "    </tr>\n",
              "    <tr>\n",
              "      <th>511809</th>\n",
              "      <td>511810</td>\n",
              "      <td>26/7/2021</td>\n",
              "      <td>25/7/2021</td>\n",
              "      <td>ชาย</td>\n",
              "      <td>NaN</td>\n",
              "      <td>NaN</td>\n",
              "      <td>NaN</td>\n",
              "      <td>ขอนแก่น</td>\n",
              "      <td>ทัณฑสถาน/เรือนจำ</td>\n",
              "      <td>NaN</td>\n",
              "      <td>NaN</td>\n",
              "    </tr>\n",
              "    <tr>\n",
              "      <th>511810</th>\n",
              "      <td>511811</td>\n",
              "      <td>26/7/2021</td>\n",
              "      <td>25/7/2021</td>\n",
              "      <td>ชาย</td>\n",
              "      <td>NaN</td>\n",
              "      <td>NaN</td>\n",
              "      <td>NaN</td>\n",
              "      <td>ขอนแก่น</td>\n",
              "      <td>ทัณฑสถาน/เรือนจำ</td>\n",
              "      <td>NaN</td>\n",
              "      <td>NaN</td>\n",
              "    </tr>\n",
              "    <tr>\n",
              "      <th>511811</th>\n",
              "      <td>511812</td>\n",
              "      <td>26/7/2021</td>\n",
              "      <td>25/7/2021</td>\n",
              "      <td>ชาย</td>\n",
              "      <td>NaN</td>\n",
              "      <td>NaN</td>\n",
              "      <td>NaN</td>\n",
              "      <td>ขอนแก่น</td>\n",
              "      <td>ทัณฑสถาน/เรือนจำ</td>\n",
              "      <td>NaN</td>\n",
              "      <td>NaN</td>\n",
              "    </tr>\n",
              "  </tbody>\n",
              "</table>\n",
              "<p>10539 rows × 11 columns</p>\n",
              "</div>"
            ],
            "text/plain": [
              "           No. announce_date  ... province_of_onset district_of_onset\n",
              "181        182     18/3/2020  ...           ขอนแก่น             เมือง\n",
              "189        190     18/3/2020  ...        นครราชสีมา             พิมาย\n",
              "207        208     18/3/2020  ...     กรุงเทพมหานคร               NaN\n",
              "212        213     18/3/2020  ...        นครราชสีมา       วังน้ำเขียว\n",
              "284        285     20/3/2020  ...        นครราชสีมา   เมืองนครราชสีมา\n",
              "...        ...           ...  ...               ...               ...\n",
              "507218  507219     26/7/2021  ...               NaN               NaN\n",
              "507219  507220     26/7/2021  ...               NaN               NaN\n",
              "511809  511810     26/7/2021  ...               NaN               NaN\n",
              "511810  511811     26/7/2021  ...               NaN               NaN\n",
              "511811  511812     26/7/2021  ...               NaN               NaN\n",
              "\n",
              "[10539 rows x 11 columns]"
            ]
          },
          "metadata": {
            "tags": []
          },
          "execution_count": 58
        }
      ]
    },
    {
      "cell_type": "markdown",
      "metadata": {
        "id": "KaTm1yKccUal"
      },
      "source": [
        "**3. records ที่ เป็นผู้หญิงที่พบเชื้อที่ กทม**\n",
        "\n",
        "\n"
      ]
    },
    {
      "cell_type": "code",
      "metadata": {
        "colab": {
          "base_uri": "https://localhost:8080/"
        },
        "id": "yPSrRFbkcZz7",
        "outputId": "152030d9-f83a-4b72-d222-4b76969de362"
      },
      "source": [
        "blist_female = data_cases2['sex'] == 'หญิง'\n",
        "blist_female"
      ],
      "execution_count": 59,
      "outputs": [
        {
          "output_type": "execute_result",
          "data": {
            "text/plain": [
              "0          True\n",
              "1          True\n",
              "2          True\n",
              "3         False\n",
              "4          True\n",
              "          ...  \n",
              "512617    False\n",
              "512618    False\n",
              "512619    False\n",
              "512620    False\n",
              "512621    False\n",
              "Name: sex, Length: 512622, dtype: bool"
            ]
          },
          "metadata": {
            "tags": []
          },
          "execution_count": 59
        }
      ]
    },
    {
      "cell_type": "code",
      "metadata": {
        "colab": {
          "base_uri": "https://localhost:8080/"
        },
        "id": "QVQQhANncfTw",
        "outputId": "a95fc048-b833-4920-fd20-04d5d2655a91"
      },
      "source": [
        "blist_province_of_onset\t=  data_cases2['province_of_onset'] == 'กรุงเทพมหานคร'\n",
        "blist_province_of_onset"
      ],
      "execution_count": 60,
      "outputs": [
        {
          "output_type": "execute_result",
          "data": {
            "text/plain": [
              "0          True\n",
              "1          True\n",
              "2         False\n",
              "3          True\n",
              "4          True\n",
              "          ...  \n",
              "512617    False\n",
              "512618    False\n",
              "512619    False\n",
              "512620    False\n",
              "512621    False\n",
              "Name: province_of_onset, Length: 512622, dtype: bool"
            ]
          },
          "metadata": {
            "tags": []
          },
          "execution_count": 60
        }
      ]
    },
    {
      "cell_type": "code",
      "metadata": {
        "colab": {
          "base_uri": "https://localhost:8080/",
          "height": 417
        },
        "id": "pCE07aiddUiK",
        "outputId": "ad9602b6-fe04-4b15-afab-f347955b6908"
      },
      "source": [
        "data_cases2[blist_female &  blist_province_of_onset]"
      ],
      "execution_count": 61,
      "outputs": [
        {
          "output_type": "execute_result",
          "data": {
            "text/html": [
              "<div>\n",
              "<style scoped>\n",
              "    .dataframe tbody tr th:only-of-type {\n",
              "        vertical-align: middle;\n",
              "    }\n",
              "\n",
              "    .dataframe tbody tr th {\n",
              "        vertical-align: top;\n",
              "    }\n",
              "\n",
              "    .dataframe thead th {\n",
              "        text-align: right;\n",
              "    }\n",
              "</style>\n",
              "<table border=\"1\" class=\"dataframe\">\n",
              "  <thead>\n",
              "    <tr style=\"text-align: right;\">\n",
              "      <th></th>\n",
              "      <th>No.</th>\n",
              "      <th>announce_date</th>\n",
              "      <th>Notified date</th>\n",
              "      <th>sex</th>\n",
              "      <th>age</th>\n",
              "      <th>Unit</th>\n",
              "      <th>nationality</th>\n",
              "      <th>province_of_isolation</th>\n",
              "      <th>risk</th>\n",
              "      <th>province_of_onset</th>\n",
              "      <th>district_of_onset</th>\n",
              "    </tr>\n",
              "  </thead>\n",
              "  <tbody>\n",
              "    <tr>\n",
              "      <th>0</th>\n",
              "      <td>1</td>\n",
              "      <td>12/1/2020</td>\n",
              "      <td>NaN</td>\n",
              "      <td>หญิง</td>\n",
              "      <td>61.0</td>\n",
              "      <td>ปี</td>\n",
              "      <td>China</td>\n",
              "      <td>กรุงเทพมหานคร</td>\n",
              "      <td>คนต่างชาติเดินทางมาจากต่างประเทศ</td>\n",
              "      <td>กรุงเทพมหานคร</td>\n",
              "      <td>NaN</td>\n",
              "    </tr>\n",
              "    <tr>\n",
              "      <th>1</th>\n",
              "      <td>2</td>\n",
              "      <td>17/1/2020</td>\n",
              "      <td>NaN</td>\n",
              "      <td>หญิง</td>\n",
              "      <td>74.0</td>\n",
              "      <td>ปี</td>\n",
              "      <td>China</td>\n",
              "      <td>กรุงเทพมหานคร</td>\n",
              "      <td>คนต่างชาติเดินทางมาจากต่างประเทศ</td>\n",
              "      <td>กรุงเทพมหานคร</td>\n",
              "      <td>NaN</td>\n",
              "    </tr>\n",
              "    <tr>\n",
              "      <th>4</th>\n",
              "      <td>5</td>\n",
              "      <td>24/1/2020</td>\n",
              "      <td>NaN</td>\n",
              "      <td>หญิง</td>\n",
              "      <td>66.0</td>\n",
              "      <td>ปี</td>\n",
              "      <td>China</td>\n",
              "      <td>นนทบุรี</td>\n",
              "      <td>คนต่างชาติเดินทางมาจากต่างประเทศ</td>\n",
              "      <td>กรุงเทพมหานคร</td>\n",
              "      <td>NaN</td>\n",
              "    </tr>\n",
              "    <tr>\n",
              "      <th>5</th>\n",
              "      <td>6</td>\n",
              "      <td>25/1/2020</td>\n",
              "      <td>NaN</td>\n",
              "      <td>หญิง</td>\n",
              "      <td>33.0</td>\n",
              "      <td>ปี</td>\n",
              "      <td>China</td>\n",
              "      <td>กรุงเทพมหานคร</td>\n",
              "      <td>คนต่างชาติเดินทางมาจากต่างประเทศ</td>\n",
              "      <td>กรุงเทพมหานคร</td>\n",
              "      <td>NaN</td>\n",
              "    </tr>\n",
              "    <tr>\n",
              "      <th>6</th>\n",
              "      <td>7</td>\n",
              "      <td>26/1/2020</td>\n",
              "      <td>NaN</td>\n",
              "      <td>หญิง</td>\n",
              "      <td>57.0</td>\n",
              "      <td>ปี</td>\n",
              "      <td>China</td>\n",
              "      <td>กรุงเทพมหานคร</td>\n",
              "      <td>คนต่างชาติเดินทางมาจากต่างประเทศ</td>\n",
              "      <td>กรุงเทพมหานคร</td>\n",
              "      <td>NaN</td>\n",
              "    </tr>\n",
              "    <tr>\n",
              "      <th>...</th>\n",
              "      <td>...</td>\n",
              "      <td>...</td>\n",
              "      <td>...</td>\n",
              "      <td>...</td>\n",
              "      <td>...</td>\n",
              "      <td>...</td>\n",
              "      <td>...</td>\n",
              "      <td>...</td>\n",
              "      <td>...</td>\n",
              "      <td>...</td>\n",
              "      <td>...</td>\n",
              "    </tr>\n",
              "    <tr>\n",
              "      <th>511560</th>\n",
              "      <td>511561</td>\n",
              "      <td>26/7/2021</td>\n",
              "      <td>25/7/2021</td>\n",
              "      <td>หญิง</td>\n",
              "      <td>53.0</td>\n",
              "      <td>ปี</td>\n",
              "      <td>Thailand</td>\n",
              "      <td>กรุงเทพมหานคร</td>\n",
              "      <td>สัมผัสใกล้ชิดกับผู้ป่วยยืนยันรายก่อนหน้านี้</td>\n",
              "      <td>กรุงเทพมหานคร</td>\n",
              "      <td>ธนบุรี</td>\n",
              "    </tr>\n",
              "    <tr>\n",
              "      <th>511562</th>\n",
              "      <td>511563</td>\n",
              "      <td>26/7/2021</td>\n",
              "      <td>25/7/2021</td>\n",
              "      <td>หญิง</td>\n",
              "      <td>44.0</td>\n",
              "      <td>ปี</td>\n",
              "      <td>Thailand</td>\n",
              "      <td>กรุงเทพมหานคร</td>\n",
              "      <td>การค้นหาผู้ป่วยเชิงรุกและค้นหาผู้ติดเชื้อในชุมชน</td>\n",
              "      <td>กรุงเทพมหานคร</td>\n",
              "      <td>คลองสามวา</td>\n",
              "    </tr>\n",
              "    <tr>\n",
              "      <th>511566</th>\n",
              "      <td>511567</td>\n",
              "      <td>26/7/2021</td>\n",
              "      <td>25/7/2021</td>\n",
              "      <td>หญิง</td>\n",
              "      <td>56.0</td>\n",
              "      <td>ปี</td>\n",
              "      <td>NaN</td>\n",
              "      <td>กรุงเทพมหานคร</td>\n",
              "      <td>การค้นหาผู้ป่วยเชิงรุกและค้นหาผู้ติดเชื้อในชุมชน</td>\n",
              "      <td>กรุงเทพมหานคร</td>\n",
              "      <td>บางขุนเทียน</td>\n",
              "    </tr>\n",
              "    <tr>\n",
              "      <th>511574</th>\n",
              "      <td>511575</td>\n",
              "      <td>26/7/2021</td>\n",
              "      <td>25/7/2021</td>\n",
              "      <td>หญิง</td>\n",
              "      <td>45.0</td>\n",
              "      <td>ปี</td>\n",
              "      <td>Thailand</td>\n",
              "      <td>กรุงเทพมหานคร</td>\n",
              "      <td>การค้นหาผู้ป่วยเชิงรุกและค้นหาผู้ติดเชื้อในชุมชน</td>\n",
              "      <td>กรุงเทพมหานคร</td>\n",
              "      <td>ลาดกระบัง</td>\n",
              "    </tr>\n",
              "    <tr>\n",
              "      <th>511577</th>\n",
              "      <td>511578</td>\n",
              "      <td>26/7/2021</td>\n",
              "      <td>25/7/2021</td>\n",
              "      <td>หญิง</td>\n",
              "      <td>42.0</td>\n",
              "      <td>ปี</td>\n",
              "      <td>Thailand</td>\n",
              "      <td>กรุงเทพมหานคร</td>\n",
              "      <td>การค้นหาผู้ป่วยเชิงรุกและค้นหาผู้ติดเชื้อในชุมชน</td>\n",
              "      <td>กรุงเทพมหานคร</td>\n",
              "      <td>บางบอน</td>\n",
              "    </tr>\n",
              "  </tbody>\n",
              "</table>\n",
              "<p>58896 rows × 11 columns</p>\n",
              "</div>"
            ],
            "text/plain": [
              "           No. announce_date  ... province_of_onset district_of_onset\n",
              "0            1     12/1/2020  ...     กรุงเทพมหานคร               NaN\n",
              "1            2     17/1/2020  ...     กรุงเทพมหานคร               NaN\n",
              "4            5     24/1/2020  ...     กรุงเทพมหานคร               NaN\n",
              "5            6     25/1/2020  ...     กรุงเทพมหานคร               NaN\n",
              "6            7     26/1/2020  ...     กรุงเทพมหานคร               NaN\n",
              "...        ...           ...  ...               ...               ...\n",
              "511560  511561     26/7/2021  ...     กรุงเทพมหานคร            ธนบุรี\n",
              "511562  511563     26/7/2021  ...     กรุงเทพมหานคร         คลองสามวา\n",
              "511566  511567     26/7/2021  ...     กรุงเทพมหานคร       บางขุนเทียน\n",
              "511574  511575     26/7/2021  ...     กรุงเทพมหานคร         ลาดกระบัง\n",
              "511577  511578     26/7/2021  ...     กรุงเทพมหานคร            บางบอน\n",
              "\n",
              "[58896 rows x 11 columns]"
            ]
          },
          "metadata": {
            "tags": []
          },
          "execution_count": 61
        }
      ]
    },
    {
      "cell_type": "markdown",
      "metadata": {
        "id": "JwaENSL_oF4a"
      },
      "source": [
        "**4. records ที่ เป็นผู้ชาย อายุ 18-22 ปี ที่กักตัวที่เชียงใหม่**"
      ]
    },
    {
      "cell_type": "code",
      "metadata": {
        "colab": {
          "base_uri": "https://localhost:8080/"
        },
        "id": "WsZ3Ez_uoE74",
        "outputId": "ff59e3c0-39b9-4684-9b88-310717195777"
      },
      "source": [
        "blist_male = data_cases2['sex'] == 'ชาย'\n",
        "blist_male "
      ],
      "execution_count": 62,
      "outputs": [
        {
          "output_type": "execute_result",
          "data": {
            "text/plain": [
              "0         False\n",
              "1         False\n",
              "2         False\n",
              "3          True\n",
              "4         False\n",
              "          ...  \n",
              "512617     True\n",
              "512618     True\n",
              "512619     True\n",
              "512620     True\n",
              "512621     True\n",
              "Name: sex, Length: 512622, dtype: bool"
            ]
          },
          "metadata": {
            "tags": []
          },
          "execution_count": 62
        }
      ]
    },
    {
      "cell_type": "code",
      "metadata": {
        "colab": {
          "base_uri": "https://localhost:8080/"
        },
        "id": "MmdypxTZojDI",
        "outputId": "16c3ad3a-b19e-4127-829d-64a5ceba97ce"
      },
      "source": [
        "blist_age = data_cases2['age'] >= 18 \n",
        "blist_age"
      ],
      "execution_count": 63,
      "outputs": [
        {
          "output_type": "execute_result",
          "data": {
            "text/plain": [
              "0          True\n",
              "1          True\n",
              "2          True\n",
              "3          True\n",
              "4          True\n",
              "          ...  \n",
              "512617    False\n",
              "512618    False\n",
              "512619    False\n",
              "512620    False\n",
              "512621    False\n",
              "Name: age, Length: 512622, dtype: bool"
            ]
          },
          "metadata": {
            "tags": []
          },
          "execution_count": 63
        }
      ]
    },
    {
      "cell_type": "code",
      "metadata": {
        "colab": {
          "base_uri": "https://localhost:8080/"
        },
        "id": "WjgQV7LmpHxe",
        "outputId": "3b90bba6-0c85-4008-9bcd-373bd9c975be"
      },
      "source": [
        "blist_age2 = data_cases2['age'] <= 22\n",
        "blist_age2 "
      ],
      "execution_count": 64,
      "outputs": [
        {
          "output_type": "execute_result",
          "data": {
            "text/plain": [
              "0         False\n",
              "1         False\n",
              "2         False\n",
              "3         False\n",
              "4         False\n",
              "          ...  \n",
              "512617    False\n",
              "512618    False\n",
              "512619    False\n",
              "512620    False\n",
              "512621    False\n",
              "Name: age, Length: 512622, dtype: bool"
            ]
          },
          "metadata": {
            "tags": []
          },
          "execution_count": 64
        }
      ]
    },
    {
      "cell_type": "code",
      "metadata": {
        "colab": {
          "base_uri": "https://localhost:8080/"
        },
        "id": "TPg6SEzHpTbM",
        "outputId": "ab0d6cf0-2a70-4908-a368-9fbb1a858df4"
      },
      "source": [
        "blist_province_of_isolation4 =  data_cases2['province_of_isolation'] == 'เชียงใหม่'\n",
        "blist_province_of_isolation4 "
      ],
      "execution_count": 65,
      "outputs": [
        {
          "output_type": "execute_result",
          "data": {
            "text/plain": [
              "0         False\n",
              "1         False\n",
              "2         False\n",
              "3         False\n",
              "4         False\n",
              "          ...  \n",
              "512617    False\n",
              "512618    False\n",
              "512619    False\n",
              "512620    False\n",
              "512621    False\n",
              "Name: province_of_isolation, Length: 512622, dtype: bool"
            ]
          },
          "metadata": {
            "tags": []
          },
          "execution_count": 65
        }
      ]
    },
    {
      "cell_type": "code",
      "metadata": {
        "colab": {
          "base_uri": "https://localhost:8080/",
          "height": 417
        },
        "id": "LDlcCmvPpi6M",
        "outputId": "f575267a-41fa-4fc4-c371-b04386de29c9"
      },
      "source": [
        "data_cases2[blist_male & blist_age & blist_age2 & blist_province_of_isolation4]"
      ],
      "execution_count": 66,
      "outputs": [
        {
          "output_type": "execute_result",
          "data": {
            "text/html": [
              "<div>\n",
              "<style scoped>\n",
              "    .dataframe tbody tr th:only-of-type {\n",
              "        vertical-align: middle;\n",
              "    }\n",
              "\n",
              "    .dataframe tbody tr th {\n",
              "        vertical-align: top;\n",
              "    }\n",
              "\n",
              "    .dataframe thead th {\n",
              "        text-align: right;\n",
              "    }\n",
              "</style>\n",
              "<table border=\"1\" class=\"dataframe\">\n",
              "  <thead>\n",
              "    <tr style=\"text-align: right;\">\n",
              "      <th></th>\n",
              "      <th>No.</th>\n",
              "      <th>announce_date</th>\n",
              "      <th>Notified date</th>\n",
              "      <th>sex</th>\n",
              "      <th>age</th>\n",
              "      <th>Unit</th>\n",
              "      <th>nationality</th>\n",
              "      <th>province_of_isolation</th>\n",
              "      <th>risk</th>\n",
              "      <th>province_of_onset</th>\n",
              "      <th>district_of_onset</th>\n",
              "    </tr>\n",
              "  </thead>\n",
              "  <tbody>\n",
              "    <tr>\n",
              "      <th>1407</th>\n",
              "      <td>1408</td>\n",
              "      <td>30/3/2020</td>\n",
              "      <td>29/3/2020</td>\n",
              "      <td>ชาย</td>\n",
              "      <td>21.0</td>\n",
              "      <td>ปี</td>\n",
              "      <td>Thailand</td>\n",
              "      <td>เชียงใหม่</td>\n",
              "      <td>สัมผัสใกล้ชิดกับผู้ป่วยยืนยันรายก่อนหน้านี้</td>\n",
              "      <td>เชียงใหม่</td>\n",
              "      <td>เมือง</td>\n",
              "    </tr>\n",
              "    <tr>\n",
              "      <th>30340</th>\n",
              "      <td>30341</td>\n",
              "      <td>9/4/2021</td>\n",
              "      <td>8/4/2021</td>\n",
              "      <td>ชาย</td>\n",
              "      <td>22.0</td>\n",
              "      <td>ปี</td>\n",
              "      <td>Thailand</td>\n",
              "      <td>เชียงใหม่</td>\n",
              "      <td>สถานบันเทิง</td>\n",
              "      <td>เชียงใหม่</td>\n",
              "      <td>เมืองเชียงใหม่</td>\n",
              "    </tr>\n",
              "    <tr>\n",
              "      <th>31499</th>\n",
              "      <td>31500</td>\n",
              "      <td>10/4/2021</td>\n",
              "      <td>9/4/2021</td>\n",
              "      <td>ชาย</td>\n",
              "      <td>22.0</td>\n",
              "      <td>ปี</td>\n",
              "      <td>Thailand</td>\n",
              "      <td>เชียงใหม่</td>\n",
              "      <td>สถานบันเทิง</td>\n",
              "      <td>เชียงใหม่</td>\n",
              "      <td>NaN</td>\n",
              "    </tr>\n",
              "    <tr>\n",
              "      <th>31500</th>\n",
              "      <td>31501</td>\n",
              "      <td>10/4/2021</td>\n",
              "      <td>9/4/2021</td>\n",
              "      <td>ชาย</td>\n",
              "      <td>22.0</td>\n",
              "      <td>ปี</td>\n",
              "      <td>Thailand</td>\n",
              "      <td>เชียงใหม่</td>\n",
              "      <td>สถานบันเทิง</td>\n",
              "      <td>เชียงใหม่</td>\n",
              "      <td>NaN</td>\n",
              "    </tr>\n",
              "    <tr>\n",
              "      <th>31501</th>\n",
              "      <td>31502</td>\n",
              "      <td>10/4/2021</td>\n",
              "      <td>9/4/2021</td>\n",
              "      <td>ชาย</td>\n",
              "      <td>20.0</td>\n",
              "      <td>ปี</td>\n",
              "      <td>Thailand</td>\n",
              "      <td>เชียงใหม่</td>\n",
              "      <td>สถานบันเทิง</td>\n",
              "      <td>เชียงใหม่</td>\n",
              "      <td>NaN</td>\n",
              "    </tr>\n",
              "    <tr>\n",
              "      <th>...</th>\n",
              "      <td>...</td>\n",
              "      <td>...</td>\n",
              "      <td>...</td>\n",
              "      <td>...</td>\n",
              "      <td>...</td>\n",
              "      <td>...</td>\n",
              "      <td>...</td>\n",
              "      <td>...</td>\n",
              "      <td>...</td>\n",
              "      <td>...</td>\n",
              "      <td>...</td>\n",
              "    </tr>\n",
              "    <tr>\n",
              "      <th>481940</th>\n",
              "      <td>481941</td>\n",
              "      <td>25/7/2021</td>\n",
              "      <td>24/7/2021</td>\n",
              "      <td>ชาย</td>\n",
              "      <td>21.0</td>\n",
              "      <td>ปี</td>\n",
              "      <td>Thailand</td>\n",
              "      <td>เชียงใหม่</td>\n",
              "      <td>สัมผัสใกล้ชิดกับผู้ป่วยยืนยันรายก่อนหน้านี้</td>\n",
              "      <td>เชียงใหม่</td>\n",
              "      <td>หางดง</td>\n",
              "    </tr>\n",
              "    <tr>\n",
              "      <th>481953</th>\n",
              "      <td>481954</td>\n",
              "      <td>25/7/2021</td>\n",
              "      <td>24/7/2021</td>\n",
              "      <td>ชาย</td>\n",
              "      <td>19.0</td>\n",
              "      <td>ปี</td>\n",
              "      <td>Thailand</td>\n",
              "      <td>เชียงใหม่</td>\n",
              "      <td>สัมผัสใกล้ชิดกับผู้ป่วยยืนยันรายก่อนหน้านี้</td>\n",
              "      <td>เชียงใหม่</td>\n",
              "      <td>หางดง</td>\n",
              "    </tr>\n",
              "    <tr>\n",
              "      <th>481961</th>\n",
              "      <td>481962</td>\n",
              "      <td>25/7/2021</td>\n",
              "      <td>24/7/2021</td>\n",
              "      <td>ชาย</td>\n",
              "      <td>22.0</td>\n",
              "      <td>ปี</td>\n",
              "      <td>Thailand</td>\n",
              "      <td>เชียงใหม่</td>\n",
              "      <td>สัมผัสใกล้ชิดกับผู้ป่วยยืนยันรายก่อนหน้านี้</td>\n",
              "      <td>เชียงใหม่</td>\n",
              "      <td>เชียงดาว</td>\n",
              "    </tr>\n",
              "    <tr>\n",
              "      <th>497281</th>\n",
              "      <td>497282</td>\n",
              "      <td>26/7/2021</td>\n",
              "      <td>25/7/2021</td>\n",
              "      <td>ชาย</td>\n",
              "      <td>22.0</td>\n",
              "      <td>ปี</td>\n",
              "      <td>NaN</td>\n",
              "      <td>เชียงใหม่</td>\n",
              "      <td>สัมผัสใกล้ชิดกับผู้ป่วยยืนยันรายก่อนหน้านี้</td>\n",
              "      <td>เชียงใหม่</td>\n",
              "      <td>เชียงดาว</td>\n",
              "    </tr>\n",
              "    <tr>\n",
              "      <th>497302</th>\n",
              "      <td>497303</td>\n",
              "      <td>26/7/2021</td>\n",
              "      <td>25/7/2021</td>\n",
              "      <td>ชาย</td>\n",
              "      <td>22.0</td>\n",
              "      <td>ปี</td>\n",
              "      <td>NaN</td>\n",
              "      <td>เชียงใหม่</td>\n",
              "      <td>สัมผัสใกล้ชิดกับผู้ป่วยยืนยันรายก่อนหน้านี้</td>\n",
              "      <td>เชียงใหม่</td>\n",
              "      <td>หางดง</td>\n",
              "    </tr>\n",
              "  </tbody>\n",
              "</table>\n",
              "<p>411 rows × 11 columns</p>\n",
              "</div>"
            ],
            "text/plain": [
              "           No. announce_date  ... province_of_onset district_of_onset\n",
              "1407      1408     30/3/2020  ...         เชียงใหม่             เมือง\n",
              "30340    30341      9/4/2021  ...         เชียงใหม่    เมืองเชียงใหม่\n",
              "31499    31500     10/4/2021  ...         เชียงใหม่               NaN\n",
              "31500    31501     10/4/2021  ...         เชียงใหม่               NaN\n",
              "31501    31502     10/4/2021  ...         เชียงใหม่               NaN\n",
              "...        ...           ...  ...               ...               ...\n",
              "481940  481941     25/7/2021  ...         เชียงใหม่             หางดง\n",
              "481953  481954     25/7/2021  ...         เชียงใหม่             หางดง\n",
              "481961  481962     25/7/2021  ...         เชียงใหม่          เชียงดาว\n",
              "497281  497282     26/7/2021  ...         เชียงใหม่          เชียงดาว\n",
              "497302  497303     26/7/2021  ...         เชียงใหม่             หางดง\n",
              "\n",
              "[411 rows x 11 columns]"
            ]
          },
          "metadata": {
            "tags": []
          },
          "execution_count": 66
        }
      ]
    },
    {
      "cell_type": "markdown",
      "metadata": {
        "id": "W4xCe7DIoJs_"
      },
      "source": [
        "**5. หาอายุเฉลี่ยของคนที่พบเชื้อที่ขอนแก่น**"
      ]
    },
    {
      "cell_type": "code",
      "metadata": {
        "colab": {
          "base_uri": "https://localhost:8080/"
        },
        "id": "jTN3ND13dd3L",
        "outputId": "e14b277b-339c-4e81-fb82-5b8caa2020c8"
      },
      "source": [
        "blist_province_of_onset2\t=  data_cases2['province_of_onset'] == 'ขอนแก่น'\n",
        "blist_province_of_onset2"
      ],
      "execution_count": 67,
      "outputs": [
        {
          "output_type": "execute_result",
          "data": {
            "text/plain": [
              "0         False\n",
              "1         False\n",
              "2         False\n",
              "3         False\n",
              "4         False\n",
              "          ...  \n",
              "512617    False\n",
              "512618    False\n",
              "512619    False\n",
              "512620    False\n",
              "512621    False\n",
              "Name: province_of_onset, Length: 512622, dtype: bool"
            ]
          },
          "metadata": {
            "tags": []
          },
          "execution_count": 67
        }
      ]
    },
    {
      "cell_type": "code",
      "metadata": {
        "colab": {
          "base_uri": "https://localhost:8080/",
          "height": 417
        },
        "id": "D990IQHUdrV7",
        "outputId": "545c0c78-2a11-47cc-e2a1-e9625f4df1ed"
      },
      "source": [
        "data_cases2[blist_province_of_onset2]"
      ],
      "execution_count": 68,
      "outputs": [
        {
          "output_type": "execute_result",
          "data": {
            "text/html": [
              "<div>\n",
              "<style scoped>\n",
              "    .dataframe tbody tr th:only-of-type {\n",
              "        vertical-align: middle;\n",
              "    }\n",
              "\n",
              "    .dataframe tbody tr th {\n",
              "        vertical-align: top;\n",
              "    }\n",
              "\n",
              "    .dataframe thead th {\n",
              "        text-align: right;\n",
              "    }\n",
              "</style>\n",
              "<table border=\"1\" class=\"dataframe\">\n",
              "  <thead>\n",
              "    <tr style=\"text-align: right;\">\n",
              "      <th></th>\n",
              "      <th>No.</th>\n",
              "      <th>announce_date</th>\n",
              "      <th>Notified date</th>\n",
              "      <th>sex</th>\n",
              "      <th>age</th>\n",
              "      <th>Unit</th>\n",
              "      <th>nationality</th>\n",
              "      <th>province_of_isolation</th>\n",
              "      <th>risk</th>\n",
              "      <th>province_of_onset</th>\n",
              "      <th>district_of_onset</th>\n",
              "    </tr>\n",
              "  </thead>\n",
              "  <tbody>\n",
              "    <tr>\n",
              "      <th>181</th>\n",
              "      <td>182</td>\n",
              "      <td>18/3/2020</td>\n",
              "      <td>15/3/2020</td>\n",
              "      <td>ชาย</td>\n",
              "      <td>33.0</td>\n",
              "      <td>ปี</td>\n",
              "      <td>Thailand</td>\n",
              "      <td>ขอนแก่น</td>\n",
              "      <td>สนามมวย</td>\n",
              "      <td>ขอนแก่น</td>\n",
              "      <td>เมือง</td>\n",
              "    </tr>\n",
              "    <tr>\n",
              "      <th>463</th>\n",
              "      <td>464</td>\n",
              "      <td>22/3/2020</td>\n",
              "      <td>21/3/2020</td>\n",
              "      <td>หญิง</td>\n",
              "      <td>36.0</td>\n",
              "      <td>ปี</td>\n",
              "      <td>Thailand</td>\n",
              "      <td>ขอนแก่น</td>\n",
              "      <td>สัมผัสใกล้ชิดกับผู้ป่วยยืนยันรายก่อนหน้านี้</td>\n",
              "      <td>ขอนแก่น</td>\n",
              "      <td>เมือง</td>\n",
              "    </tr>\n",
              "    <tr>\n",
              "      <th>1467</th>\n",
              "      <td>1468</td>\n",
              "      <td>30/3/2020</td>\n",
              "      <td>26/3/2020</td>\n",
              "      <td>ชาย</td>\n",
              "      <td>19.0</td>\n",
              "      <td>ปี</td>\n",
              "      <td>Thailand</td>\n",
              "      <td>ขอนแก่น</td>\n",
              "      <td>คนไทยเดินทางกลับจากต่างประเทศ</td>\n",
              "      <td>ขอนแก่น</td>\n",
              "      <td>เมือง</td>\n",
              "    </tr>\n",
              "    <tr>\n",
              "      <th>1971</th>\n",
              "      <td>1972</td>\n",
              "      <td>3/4/2020</td>\n",
              "      <td>31/3/2020</td>\n",
              "      <td>หญิง</td>\n",
              "      <td>70.0</td>\n",
              "      <td>ปี</td>\n",
              "      <td>Thailand</td>\n",
              "      <td>ขอนแก่น</td>\n",
              "      <td>ไปสถานที่ชุมชน เช่น ตลาดนัด สถานที่ท่องเที่ยว</td>\n",
              "      <td>ขอนแก่น</td>\n",
              "      <td>เมือง</td>\n",
              "    </tr>\n",
              "    <tr>\n",
              "      <th>2638</th>\n",
              "      <td>2639</td>\n",
              "      <td>15/4/2020</td>\n",
              "      <td>14/4/2020</td>\n",
              "      <td>หญิง</td>\n",
              "      <td>63.0</td>\n",
              "      <td>ปี</td>\n",
              "      <td>Thailand</td>\n",
              "      <td>ขอนแก่น</td>\n",
              "      <td>สัมผัสผู้เดินทางจากต่างประเทศ</td>\n",
              "      <td>ขอนแก่น</td>\n",
              "      <td>น้ำพอง</td>\n",
              "    </tr>\n",
              "    <tr>\n",
              "      <th>...</th>\n",
              "      <td>...</td>\n",
              "      <td>...</td>\n",
              "      <td>...</td>\n",
              "      <td>...</td>\n",
              "      <td>...</td>\n",
              "      <td>...</td>\n",
              "      <td>...</td>\n",
              "      <td>...</td>\n",
              "      <td>...</td>\n",
              "      <td>...</td>\n",
              "      <td>...</td>\n",
              "    </tr>\n",
              "    <tr>\n",
              "      <th>507541</th>\n",
              "      <td>507542</td>\n",
              "      <td>26/7/2021</td>\n",
              "      <td>25/7/2021</td>\n",
              "      <td>หญิง</td>\n",
              "      <td>24.0</td>\n",
              "      <td>ปี</td>\n",
              "      <td>Thailand</td>\n",
              "      <td>อุบลราชธานี</td>\n",
              "      <td>อื่นๆ</td>\n",
              "      <td>ขอนแก่น</td>\n",
              "      <td>NaN</td>\n",
              "    </tr>\n",
              "    <tr>\n",
              "      <th>507542</th>\n",
              "      <td>507543</td>\n",
              "      <td>26/7/2021</td>\n",
              "      <td>25/7/2021</td>\n",
              "      <td>หญิง</td>\n",
              "      <td>51.0</td>\n",
              "      <td>ปี</td>\n",
              "      <td>Thailand</td>\n",
              "      <td>อุบลราชธานี</td>\n",
              "      <td>อื่นๆ</td>\n",
              "      <td>ขอนแก่น</td>\n",
              "      <td>NaN</td>\n",
              "    </tr>\n",
              "    <tr>\n",
              "      <th>507543</th>\n",
              "      <td>507544</td>\n",
              "      <td>26/7/2021</td>\n",
              "      <td>25/7/2021</td>\n",
              "      <td>หญิง</td>\n",
              "      <td>13.0</td>\n",
              "      <td>ปี</td>\n",
              "      <td>Thailand</td>\n",
              "      <td>อุบลราชธานี</td>\n",
              "      <td>อื่นๆ</td>\n",
              "      <td>ขอนแก่น</td>\n",
              "      <td>NaN</td>\n",
              "    </tr>\n",
              "    <tr>\n",
              "      <th>507544</th>\n",
              "      <td>507545</td>\n",
              "      <td>26/7/2021</td>\n",
              "      <td>25/7/2021</td>\n",
              "      <td>หญิง</td>\n",
              "      <td>23.0</td>\n",
              "      <td>ปี</td>\n",
              "      <td>Thailand</td>\n",
              "      <td>อุบลราชธานี</td>\n",
              "      <td>อื่นๆ</td>\n",
              "      <td>ขอนแก่น</td>\n",
              "      <td>NaN</td>\n",
              "    </tr>\n",
              "    <tr>\n",
              "      <th>507546</th>\n",
              "      <td>507547</td>\n",
              "      <td>26/7/2021</td>\n",
              "      <td>25/7/2021</td>\n",
              "      <td>ชาย</td>\n",
              "      <td>24.0</td>\n",
              "      <td>ปี</td>\n",
              "      <td>Thailand</td>\n",
              "      <td>อุบลราชธานี</td>\n",
              "      <td>อื่นๆ</td>\n",
              "      <td>ขอนแก่น</td>\n",
              "      <td>NaN</td>\n",
              "    </tr>\n",
              "  </tbody>\n",
              "</table>\n",
              "<p>3149 rows × 11 columns</p>\n",
              "</div>"
            ],
            "text/plain": [
              "           No. announce_date  ... province_of_onset district_of_onset\n",
              "181        182     18/3/2020  ...           ขอนแก่น             เมือง\n",
              "463        464     22/3/2020  ...           ขอนแก่น             เมือง\n",
              "1467      1468     30/3/2020  ...           ขอนแก่น             เมือง\n",
              "1971      1972      3/4/2020  ...           ขอนแก่น             เมือง\n",
              "2638      2639     15/4/2020  ...           ขอนแก่น            น้ำพอง\n",
              "...        ...           ...  ...               ...               ...\n",
              "507541  507542     26/7/2021  ...           ขอนแก่น               NaN\n",
              "507542  507543     26/7/2021  ...           ขอนแก่น               NaN\n",
              "507543  507544     26/7/2021  ...           ขอนแก่น               NaN\n",
              "507544  507545     26/7/2021  ...           ขอนแก่น               NaN\n",
              "507546  507547     26/7/2021  ...           ขอนแก่น               NaN\n",
              "\n",
              "[3149 rows x 11 columns]"
            ]
          },
          "metadata": {
            "tags": []
          },
          "execution_count": 68
        }
      ]
    },
    {
      "cell_type": "code",
      "metadata": {
        "colab": {
          "base_uri": "https://localhost:8080/"
        },
        "id": "LzBFMXZ8dyY4",
        "outputId": "0bd46f01-7998-4c5c-aef0-ccf432577b5d"
      },
      "source": [
        "data_cases2[blist_province_of_onset2]['age'].mean()"
      ],
      "execution_count": 69,
      "outputs": [
        {
          "output_type": "execute_result",
          "data": {
            "text/plain": [
              "34.0952533675433"
            ]
          },
          "metadata": {
            "tags": []
          },
          "execution_count": 69
        }
      ]
    },
    {
      "cell_type": "code",
      "metadata": {
        "colab": {
          "base_uri": "https://localhost:8080/"
        },
        "id": "rUjwoa6X3REp",
        "outputId": "c7933f64-30ac-40fb-9e16-0427f7aa45a5"
      },
      "source": [
        "KK_cases =  data_cases2['province_of_onset'] == 'ขอนแก่น'\n",
        "data_cases2[KK_cases]['age'].mean()"
      ],
      "execution_count": 70,
      "outputs": [
        {
          "output_type": "execute_result",
          "data": {
            "text/plain": [
              "34.0952533675433"
            ]
          },
          "metadata": {
            "tags": []
          },
          "execution_count": 70
        }
      ]
    },
    {
      "cell_type": "markdown",
      "metadata": {
        "id": "lYKL6Xf831ni"
      },
      "source": [
        "เอาค่า mean ไปเติมตรงค่า missing column age"
      ]
    },
    {
      "cell_type": "code",
      "metadata": {
        "id": "ISKzSGPs6N8X"
      },
      "source": [
        "KK_mean = data_cases2[KK_cases]['age'].mean()"
      ],
      "execution_count": 78,
      "outputs": []
    },
    {
      "cell_type": "code",
      "metadata": {
        "colab": {
          "base_uri": "https://localhost:8080/",
          "height": 417
        },
        "id": "gyALN0H-3-nn",
        "outputId": "12d91e3c-71dc-4b35-b2f8-091c183e9463"
      },
      "source": [
        "data_cases2[KK_cases]"
      ],
      "execution_count": 79,
      "outputs": [
        {
          "output_type": "execute_result",
          "data": {
            "text/html": [
              "<div>\n",
              "<style scoped>\n",
              "    .dataframe tbody tr th:only-of-type {\n",
              "        vertical-align: middle;\n",
              "    }\n",
              "\n",
              "    .dataframe tbody tr th {\n",
              "        vertical-align: top;\n",
              "    }\n",
              "\n",
              "    .dataframe thead th {\n",
              "        text-align: right;\n",
              "    }\n",
              "</style>\n",
              "<table border=\"1\" class=\"dataframe\">\n",
              "  <thead>\n",
              "    <tr style=\"text-align: right;\">\n",
              "      <th></th>\n",
              "      <th>No.</th>\n",
              "      <th>announce_date</th>\n",
              "      <th>Notified date</th>\n",
              "      <th>sex</th>\n",
              "      <th>age</th>\n",
              "      <th>Unit</th>\n",
              "      <th>nationality</th>\n",
              "      <th>province_of_isolation</th>\n",
              "      <th>risk</th>\n",
              "      <th>province_of_onset</th>\n",
              "      <th>district_of_onset</th>\n",
              "    </tr>\n",
              "  </thead>\n",
              "  <tbody>\n",
              "    <tr>\n",
              "      <th>181</th>\n",
              "      <td>182</td>\n",
              "      <td>18/3/2020</td>\n",
              "      <td>15/3/2020</td>\n",
              "      <td>ชาย</td>\n",
              "      <td>33.0</td>\n",
              "      <td>ปี</td>\n",
              "      <td>Thailand</td>\n",
              "      <td>ขอนแก่น</td>\n",
              "      <td>สนามมวย</td>\n",
              "      <td>ขอนแก่น</td>\n",
              "      <td>เมือง</td>\n",
              "    </tr>\n",
              "    <tr>\n",
              "      <th>463</th>\n",
              "      <td>464</td>\n",
              "      <td>22/3/2020</td>\n",
              "      <td>21/3/2020</td>\n",
              "      <td>หญิง</td>\n",
              "      <td>36.0</td>\n",
              "      <td>ปี</td>\n",
              "      <td>Thailand</td>\n",
              "      <td>ขอนแก่น</td>\n",
              "      <td>สัมผัสใกล้ชิดกับผู้ป่วยยืนยันรายก่อนหน้านี้</td>\n",
              "      <td>ขอนแก่น</td>\n",
              "      <td>เมือง</td>\n",
              "    </tr>\n",
              "    <tr>\n",
              "      <th>1467</th>\n",
              "      <td>1468</td>\n",
              "      <td>30/3/2020</td>\n",
              "      <td>26/3/2020</td>\n",
              "      <td>ชาย</td>\n",
              "      <td>19.0</td>\n",
              "      <td>ปี</td>\n",
              "      <td>Thailand</td>\n",
              "      <td>ขอนแก่น</td>\n",
              "      <td>คนไทยเดินทางกลับจากต่างประเทศ</td>\n",
              "      <td>ขอนแก่น</td>\n",
              "      <td>เมือง</td>\n",
              "    </tr>\n",
              "    <tr>\n",
              "      <th>1971</th>\n",
              "      <td>1972</td>\n",
              "      <td>3/4/2020</td>\n",
              "      <td>31/3/2020</td>\n",
              "      <td>หญิง</td>\n",
              "      <td>70.0</td>\n",
              "      <td>ปี</td>\n",
              "      <td>Thailand</td>\n",
              "      <td>ขอนแก่น</td>\n",
              "      <td>ไปสถานที่ชุมชน เช่น ตลาดนัด สถานที่ท่องเที่ยว</td>\n",
              "      <td>ขอนแก่น</td>\n",
              "      <td>เมือง</td>\n",
              "    </tr>\n",
              "    <tr>\n",
              "      <th>2638</th>\n",
              "      <td>2639</td>\n",
              "      <td>15/4/2020</td>\n",
              "      <td>14/4/2020</td>\n",
              "      <td>หญิง</td>\n",
              "      <td>63.0</td>\n",
              "      <td>ปี</td>\n",
              "      <td>Thailand</td>\n",
              "      <td>ขอนแก่น</td>\n",
              "      <td>สัมผัสผู้เดินทางจากต่างประเทศ</td>\n",
              "      <td>ขอนแก่น</td>\n",
              "      <td>น้ำพอง</td>\n",
              "    </tr>\n",
              "    <tr>\n",
              "      <th>...</th>\n",
              "      <td>...</td>\n",
              "      <td>...</td>\n",
              "      <td>...</td>\n",
              "      <td>...</td>\n",
              "      <td>...</td>\n",
              "      <td>...</td>\n",
              "      <td>...</td>\n",
              "      <td>...</td>\n",
              "      <td>...</td>\n",
              "      <td>...</td>\n",
              "      <td>...</td>\n",
              "    </tr>\n",
              "    <tr>\n",
              "      <th>507541</th>\n",
              "      <td>507542</td>\n",
              "      <td>26/7/2021</td>\n",
              "      <td>25/7/2021</td>\n",
              "      <td>หญิง</td>\n",
              "      <td>24.0</td>\n",
              "      <td>ปี</td>\n",
              "      <td>Thailand</td>\n",
              "      <td>อุบลราชธานี</td>\n",
              "      <td>อื่นๆ</td>\n",
              "      <td>ขอนแก่น</td>\n",
              "      <td>NaN</td>\n",
              "    </tr>\n",
              "    <tr>\n",
              "      <th>507542</th>\n",
              "      <td>507543</td>\n",
              "      <td>26/7/2021</td>\n",
              "      <td>25/7/2021</td>\n",
              "      <td>หญิง</td>\n",
              "      <td>51.0</td>\n",
              "      <td>ปี</td>\n",
              "      <td>Thailand</td>\n",
              "      <td>อุบลราชธานี</td>\n",
              "      <td>อื่นๆ</td>\n",
              "      <td>ขอนแก่น</td>\n",
              "      <td>NaN</td>\n",
              "    </tr>\n",
              "    <tr>\n",
              "      <th>507543</th>\n",
              "      <td>507544</td>\n",
              "      <td>26/7/2021</td>\n",
              "      <td>25/7/2021</td>\n",
              "      <td>หญิง</td>\n",
              "      <td>13.0</td>\n",
              "      <td>ปี</td>\n",
              "      <td>Thailand</td>\n",
              "      <td>อุบลราชธานี</td>\n",
              "      <td>อื่นๆ</td>\n",
              "      <td>ขอนแก่น</td>\n",
              "      <td>NaN</td>\n",
              "    </tr>\n",
              "    <tr>\n",
              "      <th>507544</th>\n",
              "      <td>507545</td>\n",
              "      <td>26/7/2021</td>\n",
              "      <td>25/7/2021</td>\n",
              "      <td>หญิง</td>\n",
              "      <td>23.0</td>\n",
              "      <td>ปี</td>\n",
              "      <td>Thailand</td>\n",
              "      <td>อุบลราชธานี</td>\n",
              "      <td>อื่นๆ</td>\n",
              "      <td>ขอนแก่น</td>\n",
              "      <td>NaN</td>\n",
              "    </tr>\n",
              "    <tr>\n",
              "      <th>507546</th>\n",
              "      <td>507547</td>\n",
              "      <td>26/7/2021</td>\n",
              "      <td>25/7/2021</td>\n",
              "      <td>ชาย</td>\n",
              "      <td>24.0</td>\n",
              "      <td>ปี</td>\n",
              "      <td>Thailand</td>\n",
              "      <td>อุบลราชธานี</td>\n",
              "      <td>อื่นๆ</td>\n",
              "      <td>ขอนแก่น</td>\n",
              "      <td>NaN</td>\n",
              "    </tr>\n",
              "  </tbody>\n",
              "</table>\n",
              "<p>3149 rows × 11 columns</p>\n",
              "</div>"
            ],
            "text/plain": [
              "           No. announce_date  ... province_of_onset district_of_onset\n",
              "181        182     18/3/2020  ...           ขอนแก่น             เมือง\n",
              "463        464     22/3/2020  ...           ขอนแก่น             เมือง\n",
              "1467      1468     30/3/2020  ...           ขอนแก่น             เมือง\n",
              "1971      1972      3/4/2020  ...           ขอนแก่น             เมือง\n",
              "2638      2639     15/4/2020  ...           ขอนแก่น            น้ำพอง\n",
              "...        ...           ...  ...               ...               ...\n",
              "507541  507542     26/7/2021  ...           ขอนแก่น               NaN\n",
              "507542  507543     26/7/2021  ...           ขอนแก่น               NaN\n",
              "507543  507544     26/7/2021  ...           ขอนแก่น               NaN\n",
              "507544  507545     26/7/2021  ...           ขอนแก่น               NaN\n",
              "507546  507547     26/7/2021  ...           ขอนแก่น               NaN\n",
              "\n",
              "[3149 rows x 11 columns]"
            ]
          },
          "metadata": {
            "tags": []
          },
          "execution_count": 79
        }
      ]
    },
    {
      "cell_type": "code",
      "metadata": {
        "colab": {
          "base_uri": "https://localhost:8080/"
        },
        "id": "4JJPaHK05Fw2",
        "outputId": "77cfc0d0-277a-4fee-9840-0117e9a9fb24"
      },
      "source": [
        "data_KK = data_cases2[KK_cases]\n",
        "data_KK.isnull().any() "
      ],
      "execution_count": 80,
      "outputs": [
        {
          "output_type": "execute_result",
          "data": {
            "text/plain": [
              "No.                      False\n",
              "announce_date            False\n",
              "Notified date            False\n",
              "sex                       True\n",
              "age                       True\n",
              "Unit                      True\n",
              "nationality               True\n",
              "province_of_isolation    False\n",
              "risk                      True\n",
              "province_of_onset        False\n",
              "district_of_onset         True\n",
              "dtype: bool"
            ]
          },
          "metadata": {
            "tags": []
          },
          "execution_count": 80
        }
      ]
    },
    {
      "cell_type": "code",
      "metadata": {
        "colab": {
          "base_uri": "https://localhost:8080/"
        },
        "id": "X4Otu9LW4qIY",
        "outputId": "19c5d687-fb0c-4a7f-f5b8-0324652ab780"
      },
      "source": [
        "data_KK[['age']] = data_KK[['age']].fillna(KK_mean) # เติมค่า missing ตาราง age ของ data_KK ด้วยค่า mean"
      ],
      "execution_count": 113,
      "outputs": [
        {
          "output_type": "stream",
          "text": [
            "/usr/local/lib/python3.7/dist-packages/pandas/core/frame.py:3069: SettingWithCopyWarning: \n",
            "A value is trying to be set on a copy of a slice from a DataFrame.\n",
            "Try using .loc[row_indexer,col_indexer] = value instead\n",
            "\n",
            "See the caveats in the documentation: https://pandas.pydata.org/pandas-docs/stable/user_guide/indexing.html#returning-a-view-versus-a-copy\n",
            "  self[k1] = value[k2]\n"
          ],
          "name": "stderr"
        }
      ]
    },
    {
      "cell_type": "code",
      "metadata": {
        "colab": {
          "base_uri": "https://localhost:8080/"
        },
        "id": "vMi2Zxzc5dsA",
        "outputId": "57b31c4f-a702-4f78-95c3-ba92a7b2c3b0"
      },
      "source": [
        "data_KK.isnull().any() # ตรวจสอบดูว่าตาราง age มีค่า missing หรือไม่ ถ้าไม่มีจะเป็น False "
      ],
      "execution_count": 114,
      "outputs": [
        {
          "output_type": "execute_result",
          "data": {
            "text/plain": [
              "No.                      False\n",
              "announce_date            False\n",
              "Notified date            False\n",
              "sex                       True\n",
              "age                      False\n",
              "Unit                      True\n",
              "nationality               True\n",
              "province_of_isolation    False\n",
              "risk                      True\n",
              "province_of_onset        False\n",
              "district_of_onset         True\n",
              "dtype: bool"
            ]
          },
          "metadata": {
            "tags": []
          },
          "execution_count": 114
        }
      ]
    },
    {
      "cell_type": "code",
      "metadata": {
        "colab": {
          "base_uri": "https://localhost:8080/",
          "height": 417
        },
        "id": "ek2IaFuv6xKS",
        "outputId": "e0ef4045-2216-4fc2-a8f8-8736c1d76735"
      },
      "source": [
        "data_KK"
      ],
      "execution_count": 83,
      "outputs": [
        {
          "output_type": "execute_result",
          "data": {
            "text/html": [
              "<div>\n",
              "<style scoped>\n",
              "    .dataframe tbody tr th:only-of-type {\n",
              "        vertical-align: middle;\n",
              "    }\n",
              "\n",
              "    .dataframe tbody tr th {\n",
              "        vertical-align: top;\n",
              "    }\n",
              "\n",
              "    .dataframe thead th {\n",
              "        text-align: right;\n",
              "    }\n",
              "</style>\n",
              "<table border=\"1\" class=\"dataframe\">\n",
              "  <thead>\n",
              "    <tr style=\"text-align: right;\">\n",
              "      <th></th>\n",
              "      <th>No.</th>\n",
              "      <th>announce_date</th>\n",
              "      <th>Notified date</th>\n",
              "      <th>sex</th>\n",
              "      <th>age</th>\n",
              "      <th>Unit</th>\n",
              "      <th>nationality</th>\n",
              "      <th>province_of_isolation</th>\n",
              "      <th>risk</th>\n",
              "      <th>province_of_onset</th>\n",
              "      <th>district_of_onset</th>\n",
              "    </tr>\n",
              "  </thead>\n",
              "  <tbody>\n",
              "    <tr>\n",
              "      <th>181</th>\n",
              "      <td>182</td>\n",
              "      <td>18/3/2020</td>\n",
              "      <td>15/3/2020</td>\n",
              "      <td>ชาย</td>\n",
              "      <td>33.0</td>\n",
              "      <td>ปี</td>\n",
              "      <td>Thailand</td>\n",
              "      <td>ขอนแก่น</td>\n",
              "      <td>สนามมวย</td>\n",
              "      <td>ขอนแก่น</td>\n",
              "      <td>เมือง</td>\n",
              "    </tr>\n",
              "    <tr>\n",
              "      <th>463</th>\n",
              "      <td>464</td>\n",
              "      <td>22/3/2020</td>\n",
              "      <td>21/3/2020</td>\n",
              "      <td>หญิง</td>\n",
              "      <td>36.0</td>\n",
              "      <td>ปี</td>\n",
              "      <td>Thailand</td>\n",
              "      <td>ขอนแก่น</td>\n",
              "      <td>สัมผัสใกล้ชิดกับผู้ป่วยยืนยันรายก่อนหน้านี้</td>\n",
              "      <td>ขอนแก่น</td>\n",
              "      <td>เมือง</td>\n",
              "    </tr>\n",
              "    <tr>\n",
              "      <th>1467</th>\n",
              "      <td>1468</td>\n",
              "      <td>30/3/2020</td>\n",
              "      <td>26/3/2020</td>\n",
              "      <td>ชาย</td>\n",
              "      <td>19.0</td>\n",
              "      <td>ปี</td>\n",
              "      <td>Thailand</td>\n",
              "      <td>ขอนแก่น</td>\n",
              "      <td>คนไทยเดินทางกลับจากต่างประเทศ</td>\n",
              "      <td>ขอนแก่น</td>\n",
              "      <td>เมือง</td>\n",
              "    </tr>\n",
              "    <tr>\n",
              "      <th>1971</th>\n",
              "      <td>1972</td>\n",
              "      <td>3/4/2020</td>\n",
              "      <td>31/3/2020</td>\n",
              "      <td>หญิง</td>\n",
              "      <td>70.0</td>\n",
              "      <td>ปี</td>\n",
              "      <td>Thailand</td>\n",
              "      <td>ขอนแก่น</td>\n",
              "      <td>ไปสถานที่ชุมชน เช่น ตลาดนัด สถานที่ท่องเที่ยว</td>\n",
              "      <td>ขอนแก่น</td>\n",
              "      <td>เมือง</td>\n",
              "    </tr>\n",
              "    <tr>\n",
              "      <th>2638</th>\n",
              "      <td>2639</td>\n",
              "      <td>15/4/2020</td>\n",
              "      <td>14/4/2020</td>\n",
              "      <td>หญิง</td>\n",
              "      <td>63.0</td>\n",
              "      <td>ปี</td>\n",
              "      <td>Thailand</td>\n",
              "      <td>ขอนแก่น</td>\n",
              "      <td>สัมผัสผู้เดินทางจากต่างประเทศ</td>\n",
              "      <td>ขอนแก่น</td>\n",
              "      <td>น้ำพอง</td>\n",
              "    </tr>\n",
              "    <tr>\n",
              "      <th>...</th>\n",
              "      <td>...</td>\n",
              "      <td>...</td>\n",
              "      <td>...</td>\n",
              "      <td>...</td>\n",
              "      <td>...</td>\n",
              "      <td>...</td>\n",
              "      <td>...</td>\n",
              "      <td>...</td>\n",
              "      <td>...</td>\n",
              "      <td>...</td>\n",
              "      <td>...</td>\n",
              "    </tr>\n",
              "    <tr>\n",
              "      <th>507541</th>\n",
              "      <td>507542</td>\n",
              "      <td>26/7/2021</td>\n",
              "      <td>25/7/2021</td>\n",
              "      <td>หญิง</td>\n",
              "      <td>24.0</td>\n",
              "      <td>ปี</td>\n",
              "      <td>Thailand</td>\n",
              "      <td>อุบลราชธานี</td>\n",
              "      <td>อื่นๆ</td>\n",
              "      <td>ขอนแก่น</td>\n",
              "      <td>NaN</td>\n",
              "    </tr>\n",
              "    <tr>\n",
              "      <th>507542</th>\n",
              "      <td>507543</td>\n",
              "      <td>26/7/2021</td>\n",
              "      <td>25/7/2021</td>\n",
              "      <td>หญิง</td>\n",
              "      <td>51.0</td>\n",
              "      <td>ปี</td>\n",
              "      <td>Thailand</td>\n",
              "      <td>อุบลราชธานี</td>\n",
              "      <td>อื่นๆ</td>\n",
              "      <td>ขอนแก่น</td>\n",
              "      <td>NaN</td>\n",
              "    </tr>\n",
              "    <tr>\n",
              "      <th>507543</th>\n",
              "      <td>507544</td>\n",
              "      <td>26/7/2021</td>\n",
              "      <td>25/7/2021</td>\n",
              "      <td>หญิง</td>\n",
              "      <td>13.0</td>\n",
              "      <td>ปี</td>\n",
              "      <td>Thailand</td>\n",
              "      <td>อุบลราชธานี</td>\n",
              "      <td>อื่นๆ</td>\n",
              "      <td>ขอนแก่น</td>\n",
              "      <td>NaN</td>\n",
              "    </tr>\n",
              "    <tr>\n",
              "      <th>507544</th>\n",
              "      <td>507545</td>\n",
              "      <td>26/7/2021</td>\n",
              "      <td>25/7/2021</td>\n",
              "      <td>หญิง</td>\n",
              "      <td>23.0</td>\n",
              "      <td>ปี</td>\n",
              "      <td>Thailand</td>\n",
              "      <td>อุบลราชธานี</td>\n",
              "      <td>อื่นๆ</td>\n",
              "      <td>ขอนแก่น</td>\n",
              "      <td>NaN</td>\n",
              "    </tr>\n",
              "    <tr>\n",
              "      <th>507546</th>\n",
              "      <td>507547</td>\n",
              "      <td>26/7/2021</td>\n",
              "      <td>25/7/2021</td>\n",
              "      <td>ชาย</td>\n",
              "      <td>24.0</td>\n",
              "      <td>ปี</td>\n",
              "      <td>Thailand</td>\n",
              "      <td>อุบลราชธานี</td>\n",
              "      <td>อื่นๆ</td>\n",
              "      <td>ขอนแก่น</td>\n",
              "      <td>NaN</td>\n",
              "    </tr>\n",
              "  </tbody>\n",
              "</table>\n",
              "<p>3149 rows × 11 columns</p>\n",
              "</div>"
            ],
            "text/plain": [
              "           No. announce_date  ... province_of_onset district_of_onset\n",
              "181        182     18/3/2020  ...           ขอนแก่น             เมือง\n",
              "463        464     22/3/2020  ...           ขอนแก่น             เมือง\n",
              "1467      1468     30/3/2020  ...           ขอนแก่น             เมือง\n",
              "1971      1972      3/4/2020  ...           ขอนแก่น             เมือง\n",
              "2638      2639     15/4/2020  ...           ขอนแก่น            น้ำพอง\n",
              "...        ...           ...  ...               ...               ...\n",
              "507541  507542     26/7/2021  ...           ขอนแก่น               NaN\n",
              "507542  507543     26/7/2021  ...           ขอนแก่น               NaN\n",
              "507543  507544     26/7/2021  ...           ขอนแก่น               NaN\n",
              "507544  507545     26/7/2021  ...           ขอนแก่น               NaN\n",
              "507546  507547     26/7/2021  ...           ขอนแก่น               NaN\n",
              "\n",
              "[3149 rows x 11 columns]"
            ]
          },
          "metadata": {
            "tags": []
          },
          "execution_count": 83
        }
      ]
    },
    {
      "cell_type": "markdown",
      "metadata": {
        "id": "6oZZouNy7TM8"
      },
      "source": [
        "เติมค่า mean แทน missing ของเชียงใหม่"
      ]
    },
    {
      "cell_type": "code",
      "metadata": {
        "colab": {
          "base_uri": "https://localhost:8080/",
          "height": 417
        },
        "id": "kYtkU8nd8NkR",
        "outputId": "1538ea70-7aee-4c5c-a852-bdf0a20bf84f"
      },
      "source": [
        "data_CM "
      ],
      "execution_count": 86,
      "outputs": [
        {
          "output_type": "execute_result",
          "data": {
            "text/html": [
              "<div>\n",
              "<style scoped>\n",
              "    .dataframe tbody tr th:only-of-type {\n",
              "        vertical-align: middle;\n",
              "    }\n",
              "\n",
              "    .dataframe tbody tr th {\n",
              "        vertical-align: top;\n",
              "    }\n",
              "\n",
              "    .dataframe thead th {\n",
              "        text-align: right;\n",
              "    }\n",
              "</style>\n",
              "<table border=\"1\" class=\"dataframe\">\n",
              "  <thead>\n",
              "    <tr style=\"text-align: right;\">\n",
              "      <th></th>\n",
              "      <th>No.</th>\n",
              "      <th>announce_date</th>\n",
              "      <th>Notified date</th>\n",
              "      <th>sex</th>\n",
              "      <th>age</th>\n",
              "      <th>Unit</th>\n",
              "      <th>nationality</th>\n",
              "      <th>province_of_isolation</th>\n",
              "      <th>risk</th>\n",
              "      <th>province_of_onset</th>\n",
              "      <th>district_of_onset</th>\n",
              "    </tr>\n",
              "  </thead>\n",
              "  <tbody>\n",
              "    <tr>\n",
              "      <th>16</th>\n",
              "      <td>17</td>\n",
              "      <td>31/1/2020</td>\n",
              "      <td>NaN</td>\n",
              "      <td>ชาย</td>\n",
              "      <td>28.0</td>\n",
              "      <td>ปี</td>\n",
              "      <td>China</td>\n",
              "      <td>เชียงใหม่</td>\n",
              "      <td>คนต่างชาติเดินทางมาจากต่างประเทศ</td>\n",
              "      <td>เชียงใหม่</td>\n",
              "      <td>หางดง</td>\n",
              "    </tr>\n",
              "    <tr>\n",
              "      <th>91</th>\n",
              "      <td>92</td>\n",
              "      <td>15/3/2020</td>\n",
              "      <td>NaN</td>\n",
              "      <td>ชาย</td>\n",
              "      <td>37.0</td>\n",
              "      <td>ปี</td>\n",
              "      <td>Thailand</td>\n",
              "      <td>เชียงใหม่</td>\n",
              "      <td>สนามมวย</td>\n",
              "      <td>เชียงใหม่</td>\n",
              "      <td>แม่ริม</td>\n",
              "    </tr>\n",
              "    <tr>\n",
              "      <th>185</th>\n",
              "      <td>186</td>\n",
              "      <td>18/3/2020</td>\n",
              "      <td>NaN</td>\n",
              "      <td>ชาย</td>\n",
              "      <td>31.0</td>\n",
              "      <td>ปี</td>\n",
              "      <td>Thailand</td>\n",
              "      <td>เชียงใหม่</td>\n",
              "      <td>สนามมวย</td>\n",
              "      <td>เชียงใหม่</td>\n",
              "      <td>นครพิงค์</td>\n",
              "    </tr>\n",
              "    <tr>\n",
              "      <th>192</th>\n",
              "      <td>193</td>\n",
              "      <td>18/3/2020</td>\n",
              "      <td>NaN</td>\n",
              "      <td>ชาย</td>\n",
              "      <td>32.0</td>\n",
              "      <td>ปี</td>\n",
              "      <td>Thailand</td>\n",
              "      <td>เชียงใหม่</td>\n",
              "      <td>สัมผัสใกล้ชิดกับผู้ป่วยยืนยันรายก่อนหน้านี้</td>\n",
              "      <td>เชียงใหม่</td>\n",
              "      <td>NaN</td>\n",
              "    </tr>\n",
              "    <tr>\n",
              "      <th>252</th>\n",
              "      <td>253</td>\n",
              "      <td>19/3/2020</td>\n",
              "      <td>NaN</td>\n",
              "      <td>ชาย</td>\n",
              "      <td>25.0</td>\n",
              "      <td>ปี</td>\n",
              "      <td>Thailand</td>\n",
              "      <td>เชียงใหม่</td>\n",
              "      <td>สัมผัสใกล้ชิดกับผู้ป่วยยืนยันรายก่อนหน้านี้</td>\n",
              "      <td>เชียงใหม่</td>\n",
              "      <td>NaN</td>\n",
              "    </tr>\n",
              "    <tr>\n",
              "      <th>...</th>\n",
              "      <td>...</td>\n",
              "      <td>...</td>\n",
              "      <td>...</td>\n",
              "      <td>...</td>\n",
              "      <td>...</td>\n",
              "      <td>...</td>\n",
              "      <td>...</td>\n",
              "      <td>...</td>\n",
              "      <td>...</td>\n",
              "      <td>...</td>\n",
              "      <td>...</td>\n",
              "    </tr>\n",
              "    <tr>\n",
              "      <th>497341</th>\n",
              "      <td>497342</td>\n",
              "      <td>26/7/2021</td>\n",
              "      <td>25/7/2021</td>\n",
              "      <td>ชาย</td>\n",
              "      <td>25.0</td>\n",
              "      <td>ปี</td>\n",
              "      <td>NaN</td>\n",
              "      <td>เชียงใหม่</td>\n",
              "      <td>อื่นๆ</td>\n",
              "      <td>เชียงใหม่</td>\n",
              "      <td>สันกำแพง</td>\n",
              "    </tr>\n",
              "    <tr>\n",
              "      <th>497342</th>\n",
              "      <td>497343</td>\n",
              "      <td>26/7/2021</td>\n",
              "      <td>25/7/2021</td>\n",
              "      <td>ชาย</td>\n",
              "      <td>25.0</td>\n",
              "      <td>ปี</td>\n",
              "      <td>NaN</td>\n",
              "      <td>เชียงใหม่</td>\n",
              "      <td>อื่นๆ</td>\n",
              "      <td>เชียงใหม่</td>\n",
              "      <td>NaN</td>\n",
              "    </tr>\n",
              "    <tr>\n",
              "      <th>497343</th>\n",
              "      <td>497344</td>\n",
              "      <td>26/7/2021</td>\n",
              "      <td>25/7/2021</td>\n",
              "      <td>หญิง</td>\n",
              "      <td>35.0</td>\n",
              "      <td>ปี</td>\n",
              "      <td>NaN</td>\n",
              "      <td>เชียงใหม่</td>\n",
              "      <td>อื่นๆ</td>\n",
              "      <td>เชียงใหม่</td>\n",
              "      <td>-เลือกอำเภอ-</td>\n",
              "    </tr>\n",
              "    <tr>\n",
              "      <th>497344</th>\n",
              "      <td>497345</td>\n",
              "      <td>26/7/2021</td>\n",
              "      <td>25/7/2021</td>\n",
              "      <td>ชาย</td>\n",
              "      <td>63.0</td>\n",
              "      <td>ปี</td>\n",
              "      <td>NaN</td>\n",
              "      <td>เชียงใหม่</td>\n",
              "      <td>อื่นๆ</td>\n",
              "      <td>เชียงใหม่</td>\n",
              "      <td>แม่ริม</td>\n",
              "    </tr>\n",
              "    <tr>\n",
              "      <th>497345</th>\n",
              "      <td>497346</td>\n",
              "      <td>26/7/2021</td>\n",
              "      <td>25/7/2021</td>\n",
              "      <td>หญิง</td>\n",
              "      <td>29.0</td>\n",
              "      <td>ปี</td>\n",
              "      <td>NaN</td>\n",
              "      <td>เชียงใหม่</td>\n",
              "      <td>สัมผัสใกล้ชิดกับผู้ป่วยยืนยันรายก่อนหน้านี้</td>\n",
              "      <td>เชียงใหม่</td>\n",
              "      <td>แม่อาย</td>\n",
              "    </tr>\n",
              "  </tbody>\n",
              "</table>\n",
              "<p>4074 rows × 11 columns</p>\n",
              "</div>"
            ],
            "text/plain": [
              "           No. announce_date  ... province_of_onset district_of_onset\n",
              "16          17     31/1/2020  ...         เชียงใหม่             หางดง\n",
              "91          92     15/3/2020  ...         เชียงใหม่            แม่ริม\n",
              "185        186     18/3/2020  ...         เชียงใหม่          นครพิงค์\n",
              "192        193     18/3/2020  ...         เชียงใหม่               NaN\n",
              "252        253     19/3/2020  ...         เชียงใหม่               NaN\n",
              "...        ...           ...  ...               ...               ...\n",
              "497341  497342     26/7/2021  ...         เชียงใหม่          สันกำแพง\n",
              "497342  497343     26/7/2021  ...         เชียงใหม่               NaN\n",
              "497343  497344     26/7/2021  ...         เชียงใหม่      -เลือกอำเภอ-\n",
              "497344  497345     26/7/2021  ...         เชียงใหม่            แม่ริม\n",
              "497345  497346     26/7/2021  ...         เชียงใหม่            แม่อาย\n",
              "\n",
              "[4074 rows x 11 columns]"
            ]
          },
          "metadata": {
            "tags": []
          },
          "execution_count": 86
        }
      ]
    },
    {
      "cell_type": "code",
      "metadata": {
        "colab": {
          "base_uri": "https://localhost:8080/"
        },
        "id": "-CgCFdoK7aCw",
        "outputId": "7ae9ae4f-5b65-405e-a388-6954a4e6cff3"
      },
      "source": [
        "# หาค่า mean ของเชียงใหม่\n",
        "CM_cases =  data_cases2['province_of_onset'] == 'เชียงใหม่' \n",
        "CM_mean = data_cases2[CM_cases]['age'].mean()\n",
        "\n",
        "# เลือกมาเฉพาะ data เชียงใหม่\n",
        "data_CM = data_cases2[CM_cases]\n",
        "\n",
        "# เติมค่า mean แทน missing \n",
        "data_CM[['age']] = data_CM[['age']].fillna(CM_mean)\n",
        "\n",
        "# ดูว่ายังมีค่า missing อยู่มั้ยถ้าไม่มีมันจะขึ้นเป็น False\n",
        "# data_CM.isnull().any()  "
      ],
      "execution_count": 85,
      "outputs": [
        {
          "output_type": "stream",
          "text": [
            "/usr/local/lib/python3.7/dist-packages/pandas/core/frame.py:3069: SettingWithCopyWarning: \n",
            "A value is trying to be set on a copy of a slice from a DataFrame.\n",
            "Try using .loc[row_indexer,col_indexer] = value instead\n",
            "\n",
            "See the caveats in the documentation: https://pandas.pydata.org/pandas-docs/stable/user_guide/indexing.html#returning-a-view-versus-a-copy\n",
            "  self[k1] = value[k2]\n"
          ],
          "name": "stderr"
        }
      ]
    },
    {
      "cell_type": "markdown",
      "metadata": {
        "id": "t_NIg7tS7OYk"
      },
      "source": [
        "ต่อตารางแนวแกน Y [PD]"
      ]
    },
    {
      "cell_type": "code",
      "metadata": {
        "colab": {
          "base_uri": "https://localhost:8080/",
          "height": 417
        },
        "id": "K0-QVWBT8Sac",
        "outputId": "f72a4ce6-90c4-4dbc-954d-8afd69376370"
      },
      "source": [
        "data_CMKK = pd.concat([data_CM,data_KK]) # package concat เอาไว้ใช้ในการต่อตารางแนวแกน Y\n",
        "data_CMKK"
      ],
      "execution_count": 87,
      "outputs": [
        {
          "output_type": "execute_result",
          "data": {
            "text/html": [
              "<div>\n",
              "<style scoped>\n",
              "    .dataframe tbody tr th:only-of-type {\n",
              "        vertical-align: middle;\n",
              "    }\n",
              "\n",
              "    .dataframe tbody tr th {\n",
              "        vertical-align: top;\n",
              "    }\n",
              "\n",
              "    .dataframe thead th {\n",
              "        text-align: right;\n",
              "    }\n",
              "</style>\n",
              "<table border=\"1\" class=\"dataframe\">\n",
              "  <thead>\n",
              "    <tr style=\"text-align: right;\">\n",
              "      <th></th>\n",
              "      <th>No.</th>\n",
              "      <th>announce_date</th>\n",
              "      <th>Notified date</th>\n",
              "      <th>sex</th>\n",
              "      <th>age</th>\n",
              "      <th>Unit</th>\n",
              "      <th>nationality</th>\n",
              "      <th>province_of_isolation</th>\n",
              "      <th>risk</th>\n",
              "      <th>province_of_onset</th>\n",
              "      <th>district_of_onset</th>\n",
              "    </tr>\n",
              "  </thead>\n",
              "  <tbody>\n",
              "    <tr>\n",
              "      <th>16</th>\n",
              "      <td>17</td>\n",
              "      <td>31/1/2020</td>\n",
              "      <td>NaN</td>\n",
              "      <td>ชาย</td>\n",
              "      <td>28.0</td>\n",
              "      <td>ปี</td>\n",
              "      <td>China</td>\n",
              "      <td>เชียงใหม่</td>\n",
              "      <td>คนต่างชาติเดินทางมาจากต่างประเทศ</td>\n",
              "      <td>เชียงใหม่</td>\n",
              "      <td>หางดง</td>\n",
              "    </tr>\n",
              "    <tr>\n",
              "      <th>91</th>\n",
              "      <td>92</td>\n",
              "      <td>15/3/2020</td>\n",
              "      <td>NaN</td>\n",
              "      <td>ชาย</td>\n",
              "      <td>37.0</td>\n",
              "      <td>ปี</td>\n",
              "      <td>Thailand</td>\n",
              "      <td>เชียงใหม่</td>\n",
              "      <td>สนามมวย</td>\n",
              "      <td>เชียงใหม่</td>\n",
              "      <td>แม่ริม</td>\n",
              "    </tr>\n",
              "    <tr>\n",
              "      <th>185</th>\n",
              "      <td>186</td>\n",
              "      <td>18/3/2020</td>\n",
              "      <td>NaN</td>\n",
              "      <td>ชาย</td>\n",
              "      <td>31.0</td>\n",
              "      <td>ปี</td>\n",
              "      <td>Thailand</td>\n",
              "      <td>เชียงใหม่</td>\n",
              "      <td>สนามมวย</td>\n",
              "      <td>เชียงใหม่</td>\n",
              "      <td>นครพิงค์</td>\n",
              "    </tr>\n",
              "    <tr>\n",
              "      <th>192</th>\n",
              "      <td>193</td>\n",
              "      <td>18/3/2020</td>\n",
              "      <td>NaN</td>\n",
              "      <td>ชาย</td>\n",
              "      <td>32.0</td>\n",
              "      <td>ปี</td>\n",
              "      <td>Thailand</td>\n",
              "      <td>เชียงใหม่</td>\n",
              "      <td>สัมผัสใกล้ชิดกับผู้ป่วยยืนยันรายก่อนหน้านี้</td>\n",
              "      <td>เชียงใหม่</td>\n",
              "      <td>NaN</td>\n",
              "    </tr>\n",
              "    <tr>\n",
              "      <th>252</th>\n",
              "      <td>253</td>\n",
              "      <td>19/3/2020</td>\n",
              "      <td>NaN</td>\n",
              "      <td>ชาย</td>\n",
              "      <td>25.0</td>\n",
              "      <td>ปี</td>\n",
              "      <td>Thailand</td>\n",
              "      <td>เชียงใหม่</td>\n",
              "      <td>สัมผัสใกล้ชิดกับผู้ป่วยยืนยันรายก่อนหน้านี้</td>\n",
              "      <td>เชียงใหม่</td>\n",
              "      <td>NaN</td>\n",
              "    </tr>\n",
              "    <tr>\n",
              "      <th>...</th>\n",
              "      <td>...</td>\n",
              "      <td>...</td>\n",
              "      <td>...</td>\n",
              "      <td>...</td>\n",
              "      <td>...</td>\n",
              "      <td>...</td>\n",
              "      <td>...</td>\n",
              "      <td>...</td>\n",
              "      <td>...</td>\n",
              "      <td>...</td>\n",
              "      <td>...</td>\n",
              "    </tr>\n",
              "    <tr>\n",
              "      <th>507541</th>\n",
              "      <td>507542</td>\n",
              "      <td>26/7/2021</td>\n",
              "      <td>25/7/2021</td>\n",
              "      <td>หญิง</td>\n",
              "      <td>24.0</td>\n",
              "      <td>ปี</td>\n",
              "      <td>Thailand</td>\n",
              "      <td>อุบลราชธานี</td>\n",
              "      <td>อื่นๆ</td>\n",
              "      <td>ขอนแก่น</td>\n",
              "      <td>NaN</td>\n",
              "    </tr>\n",
              "    <tr>\n",
              "      <th>507542</th>\n",
              "      <td>507543</td>\n",
              "      <td>26/7/2021</td>\n",
              "      <td>25/7/2021</td>\n",
              "      <td>หญิง</td>\n",
              "      <td>51.0</td>\n",
              "      <td>ปี</td>\n",
              "      <td>Thailand</td>\n",
              "      <td>อุบลราชธานี</td>\n",
              "      <td>อื่นๆ</td>\n",
              "      <td>ขอนแก่น</td>\n",
              "      <td>NaN</td>\n",
              "    </tr>\n",
              "    <tr>\n",
              "      <th>507543</th>\n",
              "      <td>507544</td>\n",
              "      <td>26/7/2021</td>\n",
              "      <td>25/7/2021</td>\n",
              "      <td>หญิง</td>\n",
              "      <td>13.0</td>\n",
              "      <td>ปี</td>\n",
              "      <td>Thailand</td>\n",
              "      <td>อุบลราชธานี</td>\n",
              "      <td>อื่นๆ</td>\n",
              "      <td>ขอนแก่น</td>\n",
              "      <td>NaN</td>\n",
              "    </tr>\n",
              "    <tr>\n",
              "      <th>507544</th>\n",
              "      <td>507545</td>\n",
              "      <td>26/7/2021</td>\n",
              "      <td>25/7/2021</td>\n",
              "      <td>หญิง</td>\n",
              "      <td>23.0</td>\n",
              "      <td>ปี</td>\n",
              "      <td>Thailand</td>\n",
              "      <td>อุบลราชธานี</td>\n",
              "      <td>อื่นๆ</td>\n",
              "      <td>ขอนแก่น</td>\n",
              "      <td>NaN</td>\n",
              "    </tr>\n",
              "    <tr>\n",
              "      <th>507546</th>\n",
              "      <td>507547</td>\n",
              "      <td>26/7/2021</td>\n",
              "      <td>25/7/2021</td>\n",
              "      <td>ชาย</td>\n",
              "      <td>24.0</td>\n",
              "      <td>ปี</td>\n",
              "      <td>Thailand</td>\n",
              "      <td>อุบลราชธานี</td>\n",
              "      <td>อื่นๆ</td>\n",
              "      <td>ขอนแก่น</td>\n",
              "      <td>NaN</td>\n",
              "    </tr>\n",
              "  </tbody>\n",
              "</table>\n",
              "<p>7223 rows × 11 columns</p>\n",
              "</div>"
            ],
            "text/plain": [
              "           No. announce_date  ... province_of_onset district_of_onset\n",
              "16          17     31/1/2020  ...         เชียงใหม่             หางดง\n",
              "91          92     15/3/2020  ...         เชียงใหม่            แม่ริม\n",
              "185        186     18/3/2020  ...         เชียงใหม่          นครพิงค์\n",
              "192        193     18/3/2020  ...         เชียงใหม่               NaN\n",
              "252        253     19/3/2020  ...         เชียงใหม่               NaN\n",
              "...        ...           ...  ...               ...               ...\n",
              "507541  507542     26/7/2021  ...           ขอนแก่น               NaN\n",
              "507542  507543     26/7/2021  ...           ขอนแก่น               NaN\n",
              "507543  507544     26/7/2021  ...           ขอนแก่น               NaN\n",
              "507544  507545     26/7/2021  ...           ขอนแก่น               NaN\n",
              "507546  507547     26/7/2021  ...           ขอนแก่น               NaN\n",
              "\n",
              "[7223 rows x 11 columns]"
            ]
          },
          "metadata": {
            "tags": []
          },
          "execution_count": 87
        }
      ]
    },
    {
      "cell_type": "markdown",
      "metadata": {
        "id": "Riwc7xz33sT2"
      },
      "source": [
        "### **Handling Missing Values 5 (ต่อ)**\n",
        "\n",
        "5. แทนด้วยค่ากลางของ sample ใน class เดียวกัน (ต่อ)"
      ]
    },
    {
      "cell_type": "markdown",
      "metadata": {
        "id": "C44pVlU4B4ND"
      },
      "source": [
        "เติมค่าที่เป็นช่องว่างของจังหวัดให้เป็น ไม่มีข้อมูล"
      ]
    },
    {
      "cell_type": "code",
      "metadata": {
        "id": "rMBNGnC19NEO"
      },
      "source": [
        "data_cases2[['province_of_onset']] = data_cases2[['province_of_onset']].fillna('ไม่มีข้อมูล')"
      ],
      "execution_count": 88,
      "outputs": []
    },
    {
      "cell_type": "markdown",
      "metadata": {
        "id": "BdkIaHidCCfB"
      },
      "source": [
        "หาจังหวัดทั้งหมด"
      ]
    },
    {
      "cell_type": "code",
      "metadata": {
        "colab": {
          "base_uri": "https://localhost:8080/"
        },
        "id": "5sAI1n24CAXI",
        "outputId": "c67c4683-a203-433b-ea36-50db686d0fc3"
      },
      "source": [
        "all_cities = set(data_cases2['province_of_onset']) # ดูว่ามีจังหวัดอะไรบ้าง\n",
        "all_cities "
      ],
      "execution_count": 115,
      "outputs": [
        {
          "output_type": "execute_result",
          "data": {
            "text/plain": [
              "{'กระบี่',\n",
              " 'กรุงเทพมหานคร',\n",
              " 'กัมพูชา',\n",
              " 'กาญจนบุรี',\n",
              " 'กาฬสินธิ์',\n",
              " 'กาฬสินธุ์',\n",
              " 'กาฬสินธ์ุ',\n",
              " 'กาฬสิินธุ์',\n",
              " 'กำแพงเพชร',\n",
              " 'ขอนแก่น',\n",
              " 'ขอนแก่่น',\n",
              " 'จ.ปัตตานี',\n",
              " 'จังหวัดร้อยเอ็ด',\n",
              " 'จันทบุรี',\n",
              " 'ฉะเชิงเทรา',\n",
              " 'ชลบุรี',\n",
              " 'ชลบุุรี',\n",
              " 'ชัยนาท',\n",
              " 'ชัยภูมิ',\n",
              " 'ชััยภูมิ',\n",
              " 'ชุมพร',\n",
              " 'ชุุมพร',\n",
              " 'ตรัง',\n",
              " 'ตราด',\n",
              " 'ตาก',\n",
              " 'ธารโต',\n",
              " 'นคนปฐม',\n",
              " 'นคปฐม',\n",
              " 'นครนาชสีมา',\n",
              " 'นครนายก',\n",
              " 'นครปฐม',\n",
              " 'นครประฐม',\n",
              " 'นครพนม',\n",
              " 'นครราชธสีมา',\n",
              " 'นครราชสีมา',\n",
              " 'นครศรธรรมาช',\n",
              " 'นครศรี',\n",
              " 'นครศรีธรรมราช',\n",
              " 'นครศรีธรรรมราช',\n",
              " 'นครศรีราชสีมา',\n",
              " 'นครศรีีธรรมราช',\n",
              " 'นครสวรรค์',\n",
              " 'นครสววรค์',\n",
              " 'นตรปฐม',\n",
              " 'นนทบุรี',\n",
              " 'นนทุบรี',\n",
              " 'นราธิวาส',\n",
              " 'นาราธิวาส',\n",
              " 'นาวัง',\n",
              " 'น่าน',\n",
              " 'บางกะปิ',\n",
              " 'บึงกาฬ',\n",
              " 'บึงโขงหลง',\n",
              " 'บึึงกาฬ',\n",
              " 'บุรีรัมย์',\n",
              " 'บ้านหลวง',\n",
              " 'ปทุมทานี',\n",
              " 'ปทุมธานี',\n",
              " 'ปทุมธานีี',\n",
              " 'ปทุุมธานี',\n",
              " 'ประจวบครีขันธ์',\n",
              " 'ประจวบคีรีขันธื',\n",
              " 'ประจวบคีรีขันธ์',\n",
              " 'ปราจีนบุรี',\n",
              " 'ปลายพระยา',\n",
              " 'ปัตตานี',\n",
              " 'ปัตตานี\\u200b',\n",
              " 'ปัว',\n",
              " 'พม่า',\n",
              " 'พระนครศรียุธยา',\n",
              " 'พระนครศรีอยุทธยา',\n",
              " 'พระนครศรีอยุธนา',\n",
              " 'พระนครศรีอยุธยา',\n",
              " 'พระนครศีรอยุธยา',\n",
              " 'พระนครศีอยุธยา',\n",
              " 'พระนตรศรีอยุธยา',\n",
              " 'พะเยา',\n",
              " 'พังงา',\n",
              " 'พัทลุง',\n",
              " 'พิจิตร',\n",
              " 'พิษณุโลก',\n",
              " 'ภูเก็ต',\n",
              " 'ภูเพียง',\n",
              " 'มหาสารคราม',\n",
              " 'มหาสารคาม',\n",
              " 'มาเลเซีย',\n",
              " 'มุกดาหาร',\n",
              " 'ยะลา',\n",
              " 'ยานนาวา',\n",
              " 'ยโสธร',\n",
              " 'ระนอง',\n",
              " 'ระยอง',\n",
              " 'ราชบุรี',\n",
              " 'ร้องกวาง',\n",
              " 'ร้อยเอ็ด',\n",
              " 'ร้อยเอ็็ด',\n",
              " 'ร้อยเอ้ด',\n",
              " 'ร้้อยเอ็ด',\n",
              " 'ลพบรี',\n",
              " 'ลพบุรี',\n",
              " 'ลพบุุรี',\n",
              " 'ลอง',\n",
              " 'ลำปาง',\n",
              " 'ลำพูน',\n",
              " 'วังชิ้น',\n",
              " 'ศรีษะเกษ',\n",
              " 'ศรีสะเกษ',\n",
              " 'ศรีีสะเกษ',\n",
              " 'ศีรษะเกษ',\n",
              " 'ศีรสะเกษ',\n",
              " 'สกลนคร',\n",
              " 'สงขขลา',\n",
              " 'สงขลา',\n",
              " 'สงขลา\\u200b',\n",
              " 'สตูล',\n",
              " 'สถานที่ทำงาน',\n",
              " 'สมทรสาคร',\n",
              " 'สมุทปราการ',\n",
              " 'สมุทรปราการ',\n",
              " 'สมุทรปาการ',\n",
              " 'สมุทรสงคราม',\n",
              " 'สมุทรสาคร',\n",
              " 'สมุทราปราการ',\n",
              " 'สมุทราสาคร',\n",
              " 'สมุทสงคราม',\n",
              " 'สมุทสาคร',\n",
              " 'สมุุทรปราการ',\n",
              " 'สมุุทรสงคราม',\n",
              " 'สมุุทรสาคร',\n",
              " 'สมุุทสาคร',\n",
              " 'สระบุรี',\n",
              " 'สระบุุรี',\n",
              " 'สระแก้ว',\n",
              " 'สรแก้ว',\n",
              " 'สอง',\n",
              " 'สองแคว',\n",
              " 'สิงห์บุรี',\n",
              " 'สุทรปราการ',\n",
              " 'สุพรรณบุรี',\n",
              " 'สุมทรสาคร',\n",
              " 'สุมุทรปราการ',\n",
              " 'สุมุทรสาคร',\n",
              " 'สุราษฎร์ธานี',\n",
              " 'สุรินทร์',\n",
              " 'สุุราษฎร์ธานี',\n",
              " 'สุโขทัย',\n",
              " 'สูงเม่น',\n",
              " 'หนองคาย',\n",
              " 'หนองบัวลำภู',\n",
              " 'หนองบัวลำภูู',\n",
              " 'หนองบัวลำำภู',\n",
              " 'หนองบััวลำภู',\n",
              " 'หนองม่วงไข่',\n",
              " 'อยุธยา',\n",
              " 'อำนาจเจริญ',\n",
              " 'อุดรธานี',\n",
              " 'อุดรธานีี',\n",
              " 'อุตรดิตถ์',\n",
              " 'อุทัยธานี',\n",
              " 'อุบลราขธานี',\n",
              " 'อุบลราชธานี',\n",
              " 'อุุดรธาน',\n",
              " 'อุุดรธานี',\n",
              " 'อุุตรดิตถ์',\n",
              " 'อุุทัยธานี',\n",
              " 'อ่างทอง',\n",
              " 'ูภูเก็ต',\n",
              " 'เชียงราย',\n",
              " 'เชียงใหม่',\n",
              " 'เด่นชัย',\n",
              " 'เพชบุรี',\n",
              " 'เพชรบุรี',\n",
              " 'เพชรบูรณ์',\n",
              " 'เพรชบุรี',\n",
              " 'เพรบุรี',\n",
              " 'เมือง',\n",
              " 'เมืองน่าน',\n",
              " 'เรือ',\n",
              " 'เลย',\n",
              " 'เวียงจันทร์',\n",
              " 'เวียงสา',\n",
              " 'แพร่',\n",
              " 'แม่ฮ่องสอน',\n",
              " 'ไม่มีข้อมูล',\n",
              " 'ไม่ระบุ'}"
            ]
          },
          "metadata": {
            "tags": []
          },
          "execution_count": 115
        }
      ]
    },
    {
      "cell_type": "code",
      "metadata": {
        "colab": {
          "base_uri": "https://localhost:8080/"
        },
        "id": "JmSnKALLCdZU",
        "outputId": "2ce0e9b6-3edf-4bda-c481-1ca5af37ef26"
      },
      "source": [
        "fixed_cities = [] # ตั้งให้เป็นว่างๆไว้ก่อนเพราะว่าจะได้วนลูปแล้วเอาข้อมูลมาใส่\n",
        "\n",
        "for city in all_cities : \n",
        "    # หาค่า mean ของเชียงใหม่\n",
        "    x_cases = data_cases2['province_of_onset'] == city\n",
        "    x_mean = data_cases2[x_cases]['age'].mean()\n",
        "\n",
        "    # เลือกมาเฉพาะ data เชียงใหม่\n",
        "    data_x = data_cases2[x_cases]\n",
        "\n",
        "    # เติมค่า mean แทน missing \n",
        "    data_x[['age']] = data_x[['age']].fillna(x_mean)\n",
        "\n",
        "    fixed_cities.append(data_x)\n",
        "\n",
        "data_cases2_nomissingage = pd.concat(fixed_cities)"
      ],
      "execution_count": 116,
      "outputs": [
        {
          "output_type": "stream",
          "text": [
            "/usr/local/lib/python3.7/dist-packages/pandas/core/frame.py:3069: SettingWithCopyWarning: \n",
            "A value is trying to be set on a copy of a slice from a DataFrame.\n",
            "Try using .loc[row_indexer,col_indexer] = value instead\n",
            "\n",
            "See the caveats in the documentation: https://pandas.pydata.org/pandas-docs/stable/user_guide/indexing.html#returning-a-view-versus-a-copy\n",
            "  self[k1] = value[k2]\n"
          ],
          "name": "stderr"
        }
      ]
    },
    {
      "cell_type": "code",
      "metadata": {
        "colab": {
          "base_uri": "https://localhost:8080/",
          "height": 417
        },
        "id": "nBU6V9N8EI05",
        "outputId": "2ae96ac2-2c62-4958-9463-3cf9244a3f55"
      },
      "source": [
        "data_cases2_nomissingage"
      ],
      "execution_count": 91,
      "outputs": [
        {
          "output_type": "execute_result",
          "data": {
            "text/html": [
              "<div>\n",
              "<style scoped>\n",
              "    .dataframe tbody tr th:only-of-type {\n",
              "        vertical-align: middle;\n",
              "    }\n",
              "\n",
              "    .dataframe tbody tr th {\n",
              "        vertical-align: top;\n",
              "    }\n",
              "\n",
              "    .dataframe thead th {\n",
              "        text-align: right;\n",
              "    }\n",
              "</style>\n",
              "<table border=\"1\" class=\"dataframe\">\n",
              "  <thead>\n",
              "    <tr style=\"text-align: right;\">\n",
              "      <th></th>\n",
              "      <th>No.</th>\n",
              "      <th>announce_date</th>\n",
              "      <th>Notified date</th>\n",
              "      <th>sex</th>\n",
              "      <th>age</th>\n",
              "      <th>Unit</th>\n",
              "      <th>nationality</th>\n",
              "      <th>province_of_isolation</th>\n",
              "      <th>risk</th>\n",
              "      <th>province_of_onset</th>\n",
              "      <th>district_of_onset</th>\n",
              "    </tr>\n",
              "  </thead>\n",
              "  <tbody>\n",
              "    <tr>\n",
              "      <th>2013</th>\n",
              "      <td>2014</td>\n",
              "      <td>4/4/2020</td>\n",
              "      <td>3/4/2020</td>\n",
              "      <td>ชาย</td>\n",
              "      <td>60.0</td>\n",
              "      <td>ปี</td>\n",
              "      <td>Thailand</td>\n",
              "      <td>พระนครศรีอยุธยา</td>\n",
              "      <td>คนไทยเดินทางกลับจากต่างประเทศ</td>\n",
              "      <td>พระนครศรีอยุธยา</td>\n",
              "      <td>ภาชี</td>\n",
              "    </tr>\n",
              "    <tr>\n",
              "      <th>2075</th>\n",
              "      <td>2076</td>\n",
              "      <td>5/4/2020</td>\n",
              "      <td>4/4/2020</td>\n",
              "      <td>ชาย</td>\n",
              "      <td>27.0</td>\n",
              "      <td>ปี</td>\n",
              "      <td>Thailand</td>\n",
              "      <td>พระนครศรีอยุธยา</td>\n",
              "      <td>สัมผัสใกล้ชิดกับผู้ป่วยยืนยันรายก่อนหน้านี้</td>\n",
              "      <td>พระนครศรีอยุธยา</td>\n",
              "      <td>NaN</td>\n",
              "    </tr>\n",
              "    <tr>\n",
              "      <th>2404</th>\n",
              "      <td>2405</td>\n",
              "      <td>9/4/2020</td>\n",
              "      <td>8/4/2020</td>\n",
              "      <td>หญิง</td>\n",
              "      <td>28.0</td>\n",
              "      <td>ปี</td>\n",
              "      <td>Thailand</td>\n",
              "      <td>ปทุมธานี</td>\n",
              "      <td>อาชีพเสี่ยง เช่น ทำงานในสถานที่แออัด หรือทำงาน...</td>\n",
              "      <td>พระนครศรีอยุธยา</td>\n",
              "      <td>พระนครศรีอยุธยา</td>\n",
              "    </tr>\n",
              "    <tr>\n",
              "      <th>2820</th>\n",
              "      <td>2821</td>\n",
              "      <td>22/4/2020</td>\n",
              "      <td>21/4/2020</td>\n",
              "      <td>ชาย</td>\n",
              "      <td>57.0</td>\n",
              "      <td>ปี</td>\n",
              "      <td>Thailand</td>\n",
              "      <td>พระนครศรีอยุธยา</td>\n",
              "      <td>สัมผัสใกล้ชิดกับผู้ป่วยยืนยันรายก่อนหน้านี้</td>\n",
              "      <td>พระนครศรีอยุธยา</td>\n",
              "      <td>เมือง</td>\n",
              "    </tr>\n",
              "    <tr>\n",
              "      <th>2825</th>\n",
              "      <td>2826</td>\n",
              "      <td>22/4/2020</td>\n",
              "      <td>21/4/2020</td>\n",
              "      <td>ชาย</td>\n",
              "      <td>23.0</td>\n",
              "      <td>ปี</td>\n",
              "      <td>Thailand</td>\n",
              "      <td>ปทุมธานี</td>\n",
              "      <td>อาชีพเสี่ยง เช่น ทำงานในสถานที่แออัด หรือทำงาน...</td>\n",
              "      <td>พระนครศรีอยุธยา</td>\n",
              "      <td>วังน้อย</td>\n",
              "    </tr>\n",
              "    <tr>\n",
              "      <th>...</th>\n",
              "      <td>...</td>\n",
              "      <td>...</td>\n",
              "      <td>...</td>\n",
              "      <td>...</td>\n",
              "      <td>...</td>\n",
              "      <td>...</td>\n",
              "      <td>...</td>\n",
              "      <td>...</td>\n",
              "      <td>...</td>\n",
              "      <td>...</td>\n",
              "      <td>...</td>\n",
              "    </tr>\n",
              "    <tr>\n",
              "      <th>510129</th>\n",
              "      <td>510130</td>\n",
              "      <td>26/7/2021</td>\n",
              "      <td>25/7/2021</td>\n",
              "      <td>NaN</td>\n",
              "      <td>29.0</td>\n",
              "      <td>ปี</td>\n",
              "      <td>NaN</td>\n",
              "      <td>กรุงเทพมหานคร</td>\n",
              "      <td>อยู่ระหว่างการสอบสวน</td>\n",
              "      <td>สมุทรสาคร</td>\n",
              "      <td>กระทุ่มแบน</td>\n",
              "    </tr>\n",
              "    <tr>\n",
              "      <th>510448</th>\n",
              "      <td>510449</td>\n",
              "      <td>26/7/2021</td>\n",
              "      <td>25/7/2021</td>\n",
              "      <td>หญิง</td>\n",
              "      <td>48.0</td>\n",
              "      <td>ปี</td>\n",
              "      <td>Thailand</td>\n",
              "      <td>กรุงเทพมหานคร</td>\n",
              "      <td>การค้นหาผู้ป่วยเชิงรุกและค้นหาผู้ติดเชื้อในชุมชน</td>\n",
              "      <td>สมุทรสาคร</td>\n",
              "      <td>กระทุ่มแบน</td>\n",
              "    </tr>\n",
              "    <tr>\n",
              "      <th>511006</th>\n",
              "      <td>511007</td>\n",
              "      <td>26/7/2021</td>\n",
              "      <td>25/7/2021</td>\n",
              "      <td>ชาย</td>\n",
              "      <td>29.0</td>\n",
              "      <td>ปี</td>\n",
              "      <td>Thailand</td>\n",
              "      <td>กรุงเทพมหานคร</td>\n",
              "      <td>การค้นหาผู้ป่วยเชิงรุกและค้นหาผู้ติดเชื้อในชุมชน</td>\n",
              "      <td>สมุทรสาคร</td>\n",
              "      <td>กระทุ่มแบน</td>\n",
              "    </tr>\n",
              "    <tr>\n",
              "      <th>511186</th>\n",
              "      <td>511187</td>\n",
              "      <td>26/7/2021</td>\n",
              "      <td>25/7/2021</td>\n",
              "      <td>ชาย</td>\n",
              "      <td>28.0</td>\n",
              "      <td>ปี</td>\n",
              "      <td>Thailand</td>\n",
              "      <td>กรุงเทพมหานคร</td>\n",
              "      <td>การค้นหาผู้ป่วยเชิงรุกและค้นหาผู้ติดเชื้อในชุมชน</td>\n",
              "      <td>สมุทรสาคร</td>\n",
              "      <td>กระทุ่มแบน</td>\n",
              "    </tr>\n",
              "    <tr>\n",
              "      <th>511216</th>\n",
              "      <td>511217</td>\n",
              "      <td>26/7/2021</td>\n",
              "      <td>25/7/2021</td>\n",
              "      <td>หญิง</td>\n",
              "      <td>52.0</td>\n",
              "      <td>ปี</td>\n",
              "      <td>Thailand</td>\n",
              "      <td>กรุงเทพมหานคร</td>\n",
              "      <td>การค้นหาผู้ป่วยเชิงรุกและค้นหาผู้ติดเชื้อในชุมชน</td>\n",
              "      <td>สมุทรสาคร</td>\n",
              "      <td>บ้านแพ้ว</td>\n",
              "    </tr>\n",
              "  </tbody>\n",
              "</table>\n",
              "<p>512622 rows × 11 columns</p>\n",
              "</div>"
            ],
            "text/plain": [
              "           No. announce_date  ... province_of_onset district_of_onset\n",
              "2013      2014      4/4/2020  ...   พระนครศรีอยุธยา              ภาชี\n",
              "2075      2076      5/4/2020  ...   พระนครศรีอยุธยา               NaN\n",
              "2404      2405      9/4/2020  ...   พระนครศรีอยุธยา   พระนครศรีอยุธยา\n",
              "2820      2821     22/4/2020  ...   พระนครศรีอยุธยา             เมือง\n",
              "2825      2826     22/4/2020  ...   พระนครศรีอยุธยา           วังน้อย\n",
              "...        ...           ...  ...               ...               ...\n",
              "510129  510130     26/7/2021  ...         สมุทรสาคร        กระทุ่มแบน\n",
              "510448  510449     26/7/2021  ...         สมุทรสาคร        กระทุ่มแบน\n",
              "511006  511007     26/7/2021  ...         สมุทรสาคร        กระทุ่มแบน\n",
              "511186  511187     26/7/2021  ...         สมุทรสาคร        กระทุ่มแบน\n",
              "511216  511217     26/7/2021  ...         สมุทรสาคร          บ้านแพ้ว\n",
              "\n",
              "[512622 rows x 11 columns]"
            ]
          },
          "metadata": {
            "tags": []
          },
          "execution_count": 91
        }
      ]
    },
    {
      "cell_type": "code",
      "metadata": {
        "colab": {
          "base_uri": "https://localhost:8080/"
        },
        "id": "8STpNpxKEow4",
        "outputId": "0385f2c5-2d5c-4cc7-e712-10aec06cf9b3"
      },
      "source": [
        "data_cases2_nomissingage.isnull().any()"
      ],
      "execution_count": 92,
      "outputs": [
        {
          "output_type": "execute_result",
          "data": {
            "text/plain": [
              "No.                      False\n",
              "announce_date            False\n",
              "Notified date             True\n",
              "sex                       True\n",
              "age                       True\n",
              "Unit                      True\n",
              "nationality               True\n",
              "province_of_isolation     True\n",
              "risk                      True\n",
              "province_of_onset        False\n",
              "district_of_onset         True\n",
              "dtype: bool"
            ]
          },
          "metadata": {
            "tags": []
          },
          "execution_count": 92
        }
      ]
    },
    {
      "cell_type": "markdown",
      "metadata": {
        "id": "93NWGZYKKMDc"
      },
      "source": [
        "เติม mean ให้กับ missing ที่ยังเหลืออยู่"
      ]
    },
    {
      "cell_type": "code",
      "metadata": {
        "id": "ztt2Cr7VGAEJ"
      },
      "source": [
        "data_cases2_nomissingage[['age']] = data_cases2_nomissingage[['age']].fillna(data_cases2_nomissingage[['age']].mean())"
      ],
      "execution_count": 93,
      "outputs": []
    },
    {
      "cell_type": "code",
      "metadata": {
        "colab": {
          "base_uri": "https://localhost:8080/"
        },
        "id": "LovE8GCCGS6B",
        "outputId": "f622aaa8-41dd-45c8-a2bf-c8a63d60d654"
      },
      "source": [
        "data_cases2_nomissingage.isnull().any()"
      ],
      "execution_count": 94,
      "outputs": [
        {
          "output_type": "execute_result",
          "data": {
            "text/plain": [
              "No.                      False\n",
              "announce_date            False\n",
              "Notified date             True\n",
              "sex                       True\n",
              "age                      False\n",
              "Unit                      True\n",
              "nationality               True\n",
              "province_of_isolation     True\n",
              "risk                      True\n",
              "province_of_onset        False\n",
              "district_of_onset         True\n",
              "dtype: bool"
            ]
          },
          "metadata": {
            "tags": []
          },
          "execution_count": 94
        }
      ]
    },
    {
      "cell_type": "code",
      "metadata": {
        "colab": {
          "base_uri": "https://localhost:8080/",
          "height": 417
        },
        "id": "ZFCBHs0_Ge5x",
        "outputId": "635db233-ac6c-46b3-9ff5-0d7691853927"
      },
      "source": [
        "data_cases2_nomissingage"
      ],
      "execution_count": 95,
      "outputs": [
        {
          "output_type": "execute_result",
          "data": {
            "text/html": [
              "<div>\n",
              "<style scoped>\n",
              "    .dataframe tbody tr th:only-of-type {\n",
              "        vertical-align: middle;\n",
              "    }\n",
              "\n",
              "    .dataframe tbody tr th {\n",
              "        vertical-align: top;\n",
              "    }\n",
              "\n",
              "    .dataframe thead th {\n",
              "        text-align: right;\n",
              "    }\n",
              "</style>\n",
              "<table border=\"1\" class=\"dataframe\">\n",
              "  <thead>\n",
              "    <tr style=\"text-align: right;\">\n",
              "      <th></th>\n",
              "      <th>No.</th>\n",
              "      <th>announce_date</th>\n",
              "      <th>Notified date</th>\n",
              "      <th>sex</th>\n",
              "      <th>age</th>\n",
              "      <th>Unit</th>\n",
              "      <th>nationality</th>\n",
              "      <th>province_of_isolation</th>\n",
              "      <th>risk</th>\n",
              "      <th>province_of_onset</th>\n",
              "      <th>district_of_onset</th>\n",
              "    </tr>\n",
              "  </thead>\n",
              "  <tbody>\n",
              "    <tr>\n",
              "      <th>2013</th>\n",
              "      <td>2014</td>\n",
              "      <td>4/4/2020</td>\n",
              "      <td>3/4/2020</td>\n",
              "      <td>ชาย</td>\n",
              "      <td>60.0</td>\n",
              "      <td>ปี</td>\n",
              "      <td>Thailand</td>\n",
              "      <td>พระนครศรีอยุธยา</td>\n",
              "      <td>คนไทยเดินทางกลับจากต่างประเทศ</td>\n",
              "      <td>พระนครศรีอยุธยา</td>\n",
              "      <td>ภาชี</td>\n",
              "    </tr>\n",
              "    <tr>\n",
              "      <th>2075</th>\n",
              "      <td>2076</td>\n",
              "      <td>5/4/2020</td>\n",
              "      <td>4/4/2020</td>\n",
              "      <td>ชาย</td>\n",
              "      <td>27.0</td>\n",
              "      <td>ปี</td>\n",
              "      <td>Thailand</td>\n",
              "      <td>พระนครศรีอยุธยา</td>\n",
              "      <td>สัมผัสใกล้ชิดกับผู้ป่วยยืนยันรายก่อนหน้านี้</td>\n",
              "      <td>พระนครศรีอยุธยา</td>\n",
              "      <td>NaN</td>\n",
              "    </tr>\n",
              "    <tr>\n",
              "      <th>2404</th>\n",
              "      <td>2405</td>\n",
              "      <td>9/4/2020</td>\n",
              "      <td>8/4/2020</td>\n",
              "      <td>หญิง</td>\n",
              "      <td>28.0</td>\n",
              "      <td>ปี</td>\n",
              "      <td>Thailand</td>\n",
              "      <td>ปทุมธานี</td>\n",
              "      <td>อาชีพเสี่ยง เช่น ทำงานในสถานที่แออัด หรือทำงาน...</td>\n",
              "      <td>พระนครศรีอยุธยา</td>\n",
              "      <td>พระนครศรีอยุธยา</td>\n",
              "    </tr>\n",
              "    <tr>\n",
              "      <th>2820</th>\n",
              "      <td>2821</td>\n",
              "      <td>22/4/2020</td>\n",
              "      <td>21/4/2020</td>\n",
              "      <td>ชาย</td>\n",
              "      <td>57.0</td>\n",
              "      <td>ปี</td>\n",
              "      <td>Thailand</td>\n",
              "      <td>พระนครศรีอยุธยา</td>\n",
              "      <td>สัมผัสใกล้ชิดกับผู้ป่วยยืนยันรายก่อนหน้านี้</td>\n",
              "      <td>พระนครศรีอยุธยา</td>\n",
              "      <td>เมือง</td>\n",
              "    </tr>\n",
              "    <tr>\n",
              "      <th>2825</th>\n",
              "      <td>2826</td>\n",
              "      <td>22/4/2020</td>\n",
              "      <td>21/4/2020</td>\n",
              "      <td>ชาย</td>\n",
              "      <td>23.0</td>\n",
              "      <td>ปี</td>\n",
              "      <td>Thailand</td>\n",
              "      <td>ปทุมธานี</td>\n",
              "      <td>อาชีพเสี่ยง เช่น ทำงานในสถานที่แออัด หรือทำงาน...</td>\n",
              "      <td>พระนครศรีอยุธยา</td>\n",
              "      <td>วังน้อย</td>\n",
              "    </tr>\n",
              "    <tr>\n",
              "      <th>...</th>\n",
              "      <td>...</td>\n",
              "      <td>...</td>\n",
              "      <td>...</td>\n",
              "      <td>...</td>\n",
              "      <td>...</td>\n",
              "      <td>...</td>\n",
              "      <td>...</td>\n",
              "      <td>...</td>\n",
              "      <td>...</td>\n",
              "      <td>...</td>\n",
              "      <td>...</td>\n",
              "    </tr>\n",
              "    <tr>\n",
              "      <th>510129</th>\n",
              "      <td>510130</td>\n",
              "      <td>26/7/2021</td>\n",
              "      <td>25/7/2021</td>\n",
              "      <td>NaN</td>\n",
              "      <td>29.0</td>\n",
              "      <td>ปี</td>\n",
              "      <td>NaN</td>\n",
              "      <td>กรุงเทพมหานคร</td>\n",
              "      <td>อยู่ระหว่างการสอบสวน</td>\n",
              "      <td>สมุทรสาคร</td>\n",
              "      <td>กระทุ่มแบน</td>\n",
              "    </tr>\n",
              "    <tr>\n",
              "      <th>510448</th>\n",
              "      <td>510449</td>\n",
              "      <td>26/7/2021</td>\n",
              "      <td>25/7/2021</td>\n",
              "      <td>หญิง</td>\n",
              "      <td>48.0</td>\n",
              "      <td>ปี</td>\n",
              "      <td>Thailand</td>\n",
              "      <td>กรุงเทพมหานคร</td>\n",
              "      <td>การค้นหาผู้ป่วยเชิงรุกและค้นหาผู้ติดเชื้อในชุมชน</td>\n",
              "      <td>สมุทรสาคร</td>\n",
              "      <td>กระทุ่มแบน</td>\n",
              "    </tr>\n",
              "    <tr>\n",
              "      <th>511006</th>\n",
              "      <td>511007</td>\n",
              "      <td>26/7/2021</td>\n",
              "      <td>25/7/2021</td>\n",
              "      <td>ชาย</td>\n",
              "      <td>29.0</td>\n",
              "      <td>ปี</td>\n",
              "      <td>Thailand</td>\n",
              "      <td>กรุงเทพมหานคร</td>\n",
              "      <td>การค้นหาผู้ป่วยเชิงรุกและค้นหาผู้ติดเชื้อในชุมชน</td>\n",
              "      <td>สมุทรสาคร</td>\n",
              "      <td>กระทุ่มแบน</td>\n",
              "    </tr>\n",
              "    <tr>\n",
              "      <th>511186</th>\n",
              "      <td>511187</td>\n",
              "      <td>26/7/2021</td>\n",
              "      <td>25/7/2021</td>\n",
              "      <td>ชาย</td>\n",
              "      <td>28.0</td>\n",
              "      <td>ปี</td>\n",
              "      <td>Thailand</td>\n",
              "      <td>กรุงเทพมหานคร</td>\n",
              "      <td>การค้นหาผู้ป่วยเชิงรุกและค้นหาผู้ติดเชื้อในชุมชน</td>\n",
              "      <td>สมุทรสาคร</td>\n",
              "      <td>กระทุ่มแบน</td>\n",
              "    </tr>\n",
              "    <tr>\n",
              "      <th>511216</th>\n",
              "      <td>511217</td>\n",
              "      <td>26/7/2021</td>\n",
              "      <td>25/7/2021</td>\n",
              "      <td>หญิง</td>\n",
              "      <td>52.0</td>\n",
              "      <td>ปี</td>\n",
              "      <td>Thailand</td>\n",
              "      <td>กรุงเทพมหานคร</td>\n",
              "      <td>การค้นหาผู้ป่วยเชิงรุกและค้นหาผู้ติดเชื้อในชุมชน</td>\n",
              "      <td>สมุทรสาคร</td>\n",
              "      <td>บ้านแพ้ว</td>\n",
              "    </tr>\n",
              "  </tbody>\n",
              "</table>\n",
              "<p>512622 rows × 11 columns</p>\n",
              "</div>"
            ],
            "text/plain": [
              "           No. announce_date  ... province_of_onset district_of_onset\n",
              "2013      2014      4/4/2020  ...   พระนครศรีอยุธยา              ภาชี\n",
              "2075      2076      5/4/2020  ...   พระนครศรีอยุธยา               NaN\n",
              "2404      2405      9/4/2020  ...   พระนครศรีอยุธยา   พระนครศรีอยุธยา\n",
              "2820      2821     22/4/2020  ...   พระนครศรีอยุธยา             เมือง\n",
              "2825      2826     22/4/2020  ...   พระนครศรีอยุธยา           วังน้อย\n",
              "...        ...           ...  ...               ...               ...\n",
              "510129  510130     26/7/2021  ...         สมุทรสาคร        กระทุ่มแบน\n",
              "510448  510449     26/7/2021  ...         สมุทรสาคร        กระทุ่มแบน\n",
              "511006  511007     26/7/2021  ...         สมุทรสาคร        กระทุ่มแบน\n",
              "511186  511187     26/7/2021  ...         สมุทรสาคร        กระทุ่มแบน\n",
              "511216  511217     26/7/2021  ...         สมุทรสาคร          บ้านแพ้ว\n",
              "\n",
              "[512622 rows x 11 columns]"
            ]
          },
          "metadata": {
            "tags": []
          },
          "execution_count": 95
        }
      ]
    },
    {
      "cell_type": "markdown",
      "metadata": {
        "id": "CyDNT_IiGiKG"
      },
      "source": [
        "เรียงข้อมูลกลับให้เป็นแบบเดิม (เรียงลำดับข้อมูล)"
      ]
    },
    {
      "cell_type": "markdown",
      "metadata": {
        "id": "jiu_eZIkGp5h"
      },
      "source": [
        "### การเรียงข้อมูล [PD]"
      ]
    },
    {
      "cell_type": "markdown",
      "metadata": {
        "id": "HW-fVFz5HdwV"
      },
      "source": [
        "![image.png](data:image/png;base64,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)"
      ]
    },
    {
      "cell_type": "markdown",
      "metadata": {
        "id": "2_etuZs5H-XM"
      },
      "source": [
        "![image.png](data:image/png;base64,iVBORw0KGgoAAAANSUhEUgAAAfEAAABwCAYAAAAOqUm0AAAgAElEQVR4Ae19BXcdR7b1/Jtvrfdm3jeZ780khsTh2EmMMTPbcWKKY2ZmhpgxppiZmZlJJsmWZVvMF6X9rX1aJbfke6V7pW7Zks9dq9WthoJTu3vXOXXq1N+gP5WASkAloBJQCagEKqUE/lYpS62FVgmoBFQCKgGVgEoASuIKApWASkAloBJQCVRSCSiJV9KG02KrBFQCKgGVgEpASVwxoBJQCagEVAIqgUoqgaIkng8kJyXj6eOneHD/gW4qA8WAYkAxoBhQDLwHGIh/Hg+f14e8YF6R7kYREs/KzELc0zi8fvUauTm5uqkMFAOKAcWAYkAx8I4wkJGWgfS0dNmuX7uO7KxsBPyB8CSOfCAuNg7c5wXzdVMZKAYUA4oBxYBi4B1hwJvrhSfXI1tkJA4g5n4MgoEg/D7/Wxt7AO96C1WuUOcCvndf1nctq6qcf6g213Nvv7MqE5WJYqBqYODKpSugZu71+ErQxJXE33knpSoTr5N10w9T1fgwaTtqOyoGIsOAkvh7YEVwksQ+9LT0xY/sxVc5qZwUA1UDA0riSuJVysqgH6aq8WHSdtR2VAxEhgElcSVxJfEQfh76AYnsA6JyUjkpBt4tBhwh8Ty/H9z8/jx4AkBOAMgNQI69AcDnz5drAX8evH7AOofCcwF/sGQi8QWQk50DOqXRQ5735+fly9w4zo/jFimQonFsY5o+Lzd7+uV3jPN6vOIkyDo4Zv72BZCb40FaappVZo8ll/Kmn5mRhZTkFHBPWQT9QeRm++D3AgFfPryebAQCnN7ghS/gg+etLQiPn1gIwpfHDfAFLf8LYoXHuX4gkG9hJsNjta94XvrykeEFcnI88DPvQB4y0zPx6uUrmdpi6sZ2Sk/LgM9jb6d3+2JFike9T9tJMaAYKA8GHCFx+DzgRnLNDgAZQSDTRuYkbhK4EICN4En6PBcsRRvOC+Rhy6YtSHjxUkic5Eey2r1rNx49fCQkE6kQoiFxT65XvP6yMrNDdhiiSYv3enI8eBb3DHPnzMW2rdvBaQKGiMq7Z/0pj0ULF0mHJz+Yj6NHjgr5lSdtplejek2sXLFSys82jn2agOtXEuHJzUNOTjICwWQEAjnICXqQmVdsK8BCZjAPHuRjy76D2Lb/EuJTfMgKAmlea0vOAdLzgUQf4CvokMQn52DbsetITsmQqRScHTFqxCjU+qwWDh44VCg7zpecMH4i2DmKFAd6n344FQOKgaqAAYdIPAvwpgO+LOT7vAgWaOY8tgg+R67xOgrP5QK+bMCXWdABCK/h8uPduFFjnDt7Tj7cia8T0bZ1W0yeNBlXL19FbnZuxB/vaIiXJL5k8RLcuH7DERInaVOLXLF8BXr83EPKXB6CtT+bnZWDXj174fGjx2CnhzLj/9Ro7fdFezx/3gKRAQP+5GTnSlqHDh7HssU7EPDlIZckHkiT8znBPJCsi25Wh47nsvL9OHDqLIZPWIQLN58KiWf4gfM3HmHynGXoPXwq4tIBD6dK5AMPnyehw29jipA4gxqwY7Fr567CerGugwcOxskTJyPGQVV4ebUOSkKKAcWAIyTuuX8MRxcMROrVvUBWghB69sMLOLt4INIubAZy44H8HCCYjRsbp+D+tplA/BUgLxPIo13WX/hBtpPM7Vt38HP3HkJ41T6uhtMnT+P0qTPo3bM3/vXPf8n5kydOIScrJ+TH+9XL1+jXtx/q/lhXiIgm11cJrzB1ylS0bdMWE8ZNEBMsA9icO3MOC+YvQP/f+6N71+54+OAhxo0dB+bbrGlzjBg+Ai8TXokFwLw4nJdHAtm/7wAOHzwsZaA2OGXyVGRmZGL+3PloUK8BunbphqtXrsl1djjYCenbp688S1P9/XsPsHjhYjERU5s+dPCQmK7v3rmHLp27oF3bdjiw/4Dc//zZc4waOQrNmjQDCZYmZMrswf0Y9Pylp1hDqC2zHPXr1Rci79alm4RHTE5MxqABgyR/hug7fvS4EB/yIFo2z5nNtMO8ufOw8I+F1lBGwSzEo0eOY/XKjfKfx5OCvKAX58/exoQpizBl7ipcuv0MJOdNu09g7LSl+GPFbmQEgKz8PKT5gHnLduHExftC4h4A92KTcOPhCwyfuhjx7Nf5glKOB3Gv0WXABKSl05TvkyEUyv6PBQuxc8fOQsxwqGX3zt0ia9M2utePm2JAMfAhYMAREserm7i+YRLWDWuN/TN6IuHQIuDRPtz7cxi2jWyBrRO64tKGGch/dBLec6uwb0J7rB/aAvvnDcarc1uB9ITCD7IhD+4nT5yMRX8swp7de/D3//o7Lpy/ICRKIm/ZvKUQE8mSY7WhGmvk8JGirWdlZOH2rdtIT03HXxv/QvNmzYUoGzVoJFod81q/bj0+/+xzbNu6DceOHAM1T44Fk0BJGC8TXiIjPRMZ6RmFeRliOX/uPJo1bSbEeerkKXTu1BnM88Txk7h08RKWLV0mHQOyHkk/KTEJvXr2FmIkCTPiztgxY6Uzsmb1n1i+dDmexz3Hf/79H8ycMRN/rlkrZWYHZMO6DZg4YSKePH6K82fPS560Lty4fhNDBg8RUzpJjfnUrFETW7dsxayZs6XTwE4HiX7tmrUib2rqTIPmfXZsJo6fKBtJ0rQDry1csFDS49AHOzyxT57i3t27AHLh9abgxfMXGDd6IQ4cuYObMZm4/Sgb957mYsSE5Th58RmmzNmIbQeOISvPMp3PW7qnCImTyBkwcNSMpXhOYw2HHnK9SMnOw7HrccjM9siwC+vJerF8O7bvKCwjLRyU4ac1Pytsm1B40HOh3xOVi8pFMVB5MeAMieekAzkvkHr+L1yb1RY7u/wfpG4bBaTfBx4ewd01Q7Gsw7/weFlPIOsBkHAJCfvnY8vv32Fj94/hjzlV+EE25MH9Lz1+wYv4F0Kctb+rLZojwXb92g1079YdNCHTXOz3BUJ+vC9fuoz27dqjaZOmOHjgoJDnrJmzsHHDRtF6V65Yha5dukoaJO8pk6fYxqmDQhgk5COHjxTEpg3KGLMBPDVe/kj4X37xFY4fO4FOHTth187dcn76tOlSTmr37DjQMYtlLo3EVyxbgTOnz6B6tRpiJh45YiR6/dpLQt+SrFq1bIXWLVvLGDg1bpLbTZL4IIvESXSM4MO6c+Gaq1eu4t//+2+Js3vv7n20b9seZ8+cRYd2HWSMnuP0d+/cRcyDGNmePnla2B52EmfngJp6Tna21M/noyk9Azu278bcmRuQlglk+0HFHkdOx2H1hjNIzwX2H72PQaOmIDU3D+leYMHSvTh1MUb8J7yAOK/l5gMjpy7BC46uyChMUJ5NyAY8XmuohZ2qUCRO0/u9O/fw8X8+DokD0166r7wfKm07bTvFQGgMOEPiL+9i06TeWD+6K84tH4W8mzuBmP24uuA37BndHsfmDsajfauB13fxfPtMbBncAjvG/YwrG+YBz28CuemFpGEncWrSHI/mOC9J6MTxE/IRv3XzFvr07iNETBKjRszY7nNmzxFnLhINf3R4ouZMAifpU4tcumSpmMZJpEOHDMWYUWPkw79l8xaQ1M2PWivN9CRgjr+SPKj183woMHGcu22bdqhTu45o8CTCH+r8gNincVLunxr9JKZvpsGtR/ceQqBMi1o3zev0Lp8xbQYWL1oM1vF//9+/pV4k5NSUVHme97DTcOLYCTT+qbGYz9k54OI0HHqgQxs7NZRLwwYNxV/g2NFjQujMi8/37fMbWJ41q9dIh2LunHmYNHESJoyfINsfC/4obA/KlJaE4rMBKI9ggJpxABfOX8SoEeOQkQbkZALeXODC2XjMnP4XUpOBLZvOY/zYZfDkQLzaN288i53bL8v99InMTAeyMoCxY5bhZQKQnQH4cgBPNpCbw80v5n5aLVgOyseuibPNaK2hNSRU2+i50C+/ykXlohio/BhwhMS9r2Px+OIRZD69CWTEyxZ4cQuvru9H7rOryMuIhy87Gd7sVLy8dQw5cVfgS3osTm3BAD20Q4+J79u7D/XrNUC7Nu3w9/+2zOkkjyuXr6Jzx85CVAQhSfxRzCPRqjf9tUl4mGQ7etRo0TY7tO+AJYuWCPndv3cfdWp/j0YNG+Gbr78B/ycx8DkSMYmCPz5Pb3Kamzl+zk6DZVJ/Y063vwBc3Y3mXJIeOyI0Pfft3VfG09u0aiPkTmLlFCk6njEvlote99ToqTV369odDes3xPx588X0v2zJMjRs0AhtWrfB7/1+x5PHT7Duz3WiiXfs0BHU9PksSZxaMs3jHF9nHVi2b7/+VoieZM6xdlotKCt2WL6o9YWUkx0VDkewvtZMAc4WeDPlj2P1JE1aEPis2ZintQWRlpIm9Rk9YgamT16Fa5eeI+U1MGfGOkwYu0RM7beuv4I3B8jzAbGPszFt8ios/mMb0pOByxdiMX3KKrRv/Tsmjl2CMydjkEtfyWzIM54cqy1Yr1CaOP0MBg8aDFpe7G2ix5X/A6VtqG2oGCgZA46QOIJBLm+GjJQU5GRmIOD1APk0NXOkMw/ZuTnIysmFN5iHQNAPn98iSl7N9AaQ6w1N4vw4U5N+FvtMiIIklM95xl6fmLdN4/J/HqckpxZ6qpPU6MiV+CpRxtEtD3aOtXrk2aTEZCF1/s850JyHbMzFNM+SMLiReFkGnkt6nYTYJ7GiJVNTpuMdzbh8jvmTCHksK8zkeGSfEJ8g5m5OieM9lgYblLSFVD0+0cw5hv765Wu5zjTkmtcn1gSzBKypL8fGWWbeZ0ic1w7uPyjOefQiZ7lJvOw0cEjC6pjwXLaMuU+dMk3G7Wm1YJnsFhD7Mcfga39XB1s3bxWyt+bNv6kHn2cniDb07MwgUpP8CPogW8ALJCf6EPABfg5851uwoLae5xdoSLl4zHsTX+bClwvkB6z7SfrU6j051oo9bI9VK1ah1mefg9YFU06a2adNnS71MDLSfckvvspH5aMYqBoYcITEPb58CdjBoB2Fmw/w0vGcg54eRvLwycZz3IL8qOfmWefDkLj5SNv34YEXEHI3652LVhkIismdBE3tl97pNDeTcLgnAbIDQMIzG4kiVB4kxDu374iT2LSp08CNTmdzZs8V8znTYTlJxjTbFydGloH3FN9I+G9tBYFaWCbpTPC5MOUyJF5cRsXz4f+UDT3wqdWzM8I6mbrany/7MWUqkw2i2vs8eQi/Bd+WT641HzxUOU19dF81PlDajtqOioGSMeAIiedT86bKZNu8vjykBQocnTgf3JMMeBJlqlE6o7lxAXPOLfckyhzyUB/kUOdCNSjvIzGTDOWYGl8eLA2afYhc9iRoIveKNsh73iJOQ6ZhAobwfhIz8xdiLdDS+T+1fJM3ibLcJF5QFuZD7V7K6gCJUwbU3vmjTCyiD20FCSX7yM4xveg2n5dlCb+FaivKPVR5QuFDz5X8EVD5qHwUA5UXA46QeNDrRZ7XU2TjNKFsfz48HF/15SLfS4+nTOT485Djz4fX50ceyd2biTyJ9vZ2sBealM20ImrSopkWzBemps0xazpxkYx4jUAUzdRfQLYFYUJJhvzg0+xbRCM2JGnbC0GL1vzGPE7zNDVsPs9yWPf4hAiZL4nbvATMx5jMi5BMGA9681y4PQnMBFkx6TE/axybnRZrTNxc455phdLEKU8jL45n89ki+TK0Xr41Dc6kZ8a+ea85V/I+OgIn4ZdE4LymJF55PzBF8KUx6ou+byoPlYcDGHCExMv7opKoQxED519PnzZDnL/oaW5InITKcWH+SFYclw31fMhzNjINRXT2c3v37JNpZ/Ru549ERq92joXTgYxe5lYkM8s5zHQ4LMewSEnv7bpzHJtlp7MdA8ZwihjLxXN0Intw/wHo/W7dFzmJ2+tmjmk1YFocGqAXempKWpFOAwmUUebY+Qkpz1JC5kbyjClLuL2SuJJ4eb8x+rxiqKpi4L0m8fjn8RIshV7cnGJFTZLBUzg17IvPv5CpW9SO6eQVCVnIPVGQeMyDh9i+bTvGjB4jpnmCYPWqNZgxfaYEZ2FkN5aJmjIJyIzDWyT+NjlHWkaxQPgD0lGgB/q6tessx7GsbJnjTmIfP248hg0dFpUmHookWabU5FSRKz32GZXOXs7Nmzbjk4+ryTQ9+3knj0OVy35OSVw/wFX1A6z1UmyXFwMVTuIkqHNnz6NJ4yb47pvvsHrVajGpMAQop3wxRCrjodMTnJWjNzUDqBgP8uSkFJnq1bpVawlFyns4bhwpqVCb57xvBl9hflxIg3msWbVGgsJwKhk7D/yRPB4/eiJzpzm/mpo2LQI0l9PbvE+vPmAYVGNJMCbqUGWxPO0zkZaaLlHhmH/tb2vLdDlq9JyaxjnmgwYOkrxF8/cFZD40p6PRzC1me69fLA8PYx6h3o/1wpI463nt6jWZxsYpdQwYQ2LkvHvGnWdI1nVr10sdDWFy7jhDwvJ/1un5s3jpwHA6G0PLhqqXE+dM/uH2SuL6oSvvh06fVwxVVQxUOInHPo2VedecIvQiPkHm9t67ew8f//tjnDpxSiKJ9e5lBXKh0IuTOMmJ2nfnTl3KROKcF173x3o4f+6CzLvm/5wu1rxpcynL+rXrMW7seCFK5vMWiaemy5g4I6pxbjLjs5tpWsU90u0EZ6afMRRrg/oNwTo/efQEnIJ2YN8B9OndFw9jrHjt1H5Zb6bLoCYkcZaFnQROd1u1cpWQM6dVhRsTZ8eAHRLGYacnOiO6cU44rRoM7kJPe0aj496QpyFxyp1yHjZ0OI4fOy7z1FlGe32cPDb5h9sriesHuKp+gLVeiu3yYqDCSZyaXs9fe8oYK7VNektz7Lt+3friNMYPNsOtGmexUCTOj33Xzl3LROIc3yZh0kGNsdBJdjSR9+/XXzT6xw8fY+CAgRKulE5gb5F4WjooNC6McvPGTaQkpYiWzLHl0oiNRM4FRRjKlORL7Zz1ZHAXnuOPcdq7dOoiTnvUhg2J8xod6syP49h1f6gbksRJwPz93P1nKRvlRU2eIVgZPIZj6rQscJiA8egNeRoSp9McY8lTYyeJd+vaTcpYWv3Ket3kH26vJK4fuvJ+6PR5xVBVxUCFkzjN0TSF37h2Q7RQBksxi1dQO714/qIsDkLzOYmHa3lz7JmkRcInsTKIC6OokfBIgmbqVySNxKhejIrG9Eh2NIeTyDgeHBf7TEhzxLARMtZNIqRT1+/9+osJn2PfFy9clE4GTf5c+IMOXywD0yJJswyWdkyHMyvWOq+RkPnjGt8//lBXwqmyjgzkwiU0Oc7PcX8ur0pSZz3pRHfk8FEZ/6bcmO79u/fFmY4dCC4CY3wF7M59nF7Hzg8juF27el086xntLTszG61btZGAKVyHvWWLlrh141YhiXPY4uzps+CQBVddW7Z0OZZK1LiG0rEpjaQjkb/eox9TxYBiQDHgHAYqnMRJZLt27JKoW19+/qUs2kFteOnipahRvSaqV6suREfnMJI2N4ka9m1tLPxjkZBWjWo18NE/P0KN6jXAON/8RQoKaqA0T3/y8Sf45qtvsHLFSiFfhmj97NPP0KB+A9y6eVvSpHbNMXyS6ue1vhCCZwz2ap9UQ83qNfHJfz6RBUOoKVKLNI5tJDuSMP8ngZPMjamdhM/Vxup8VwfffvOdLK5CUzljp7NezZu1EPLms/R8j38WLyTO/NmBoHbN/K2yr5J8KSNaFQzJMi+Jr378BOrVrYdPa34q1gfmE3M/RnwBWP7hw4bLGL/RgPfv2w8uNEMzPJ9nZ4BpMc67ff1uk0/xfaRtoPc59wKrLFWWioEPGwMVTuIkNRIZtVp6RZNAGHiEQKRnNMmIWiUJh2O4JF2SFJ/hPRYx+mRsWMiyIBJaNEBmtDZOpWL+JGmSMNPn/xx3pnYt89ILArzQ7M2f3EutmquXMTSr1wqzymsWSXNO/JsV1Vg+ps36CMkHrPW6eUzTNsOhmrFv5s//WS7WmXmx/kyXsjBaPo/5DB3reI1p8152hOykyvskf49XiJpaOO/nj/dyWVarXG/mlFvtYC2eInXLypF6sg6ssz39UMfRtIHe+2F/eLT9tf0VA85goMJJnOTgxvY+AoL1ZEAakqcVLMZatlSYNL+gU2AixYXZR1OvUMRa2jkrFnpkbVJaWtGUVe915gVWOaocFQMfNgaUxB2ImBPuJSKJU4sn+VH7NY5pRjPndWq5JW3h0g51vjSSDXVdSfzD/gCEwpGeU0woBioPBhwhcWqWNN+akKb8n4TlBhCYtiEjkiE3MYG7SMasB83nsi/In9q1cVYjGYerq3XNCg1LwmR5OV7O+1kPyqzEraBeYgqXmPD5oshzjXGSvz1fI5do9kriledltbe1Hmu7KQYUA8SAIyTO8Vwu7cnpWwyewrngQkwuESvHcw8fOizTu+xe4W6CmuZwkuOD+zESDnXrlm24e+euEKl9HNytMjBvLvJCn4GTJ06Jc+CDew+UxF3CmFvtqOnqh1cxoBhwEgOOkDhVQ1mWc9Yc8eTu2qWreDY7WVCTFjX+48dOiIf1mtVrRENm/ua6W3s6nDHtxYsWF87dbtO6jTjE0RGNGq1beTNdkjg1b4aBHTd2nAR8YSQ1e57RaODmXtXE3W03e/voscpaMaAYcBoDjpE4CYXa6uyZs/Hf//V3iRLmdGGZHn8MUsLgKIw+Rq9ttwm0eD04VMD52ZyHTS9zeruXZFIv/nxZ/6cmzo4Do8wtXbJUpuNx3js99mmmN8QczT4UibN8rM+YUWPQtUs3CfZCy0dp6Za1XvqcftgUA4oBxUDZMOAIiZNI27Vthy2bt2D82PGyOAmjsLnRKAyA0rRJUzx88FDmVD+KeSTe327kFS5NTv3asW2HzLPm2HRFWALM+Ddjrq/9c60EX2nTqo2EinWDxNkpYECY06fOgBaPYUO42ErJi7qEk5eeL9vLqXJTuSkGFAOlYcAREqfndauWrdGsSTP58H/+2edgJLbSMo/uuuUcRnPyD9//iNmzZssiJlw4Jbp0ygiKAnM5p4zt27tPOhAxD2JkjjZJ3O1xcRI1nes6tu+IZk2byUIlP3fvgdu3bhfOF7fmcnM+dySbRcihNHGeo6Xhhzo/YNDAwZg5fSYYz15JvIzY0XH7inlHVc4q5w8QA46QOMepuaIXo6dxEZOfGlqrYTlFrjTt0jubQU4YbpVLczJE67at2yVMKc34TuUVLh2jbR86cEhiv5M8Hz18LKurGQ/0cM86cd4En5k+dbqscc5OEsPR0rFPPPT9QStiXAR7e+CWUCROp8Qrl6+g9nd1pFNGfwdGlFMSVxJ3AsuahuJIMeAcBhwhcUZf40pgJO/GPzWWsKlOeqebiGnPYp9h8KAhEBN2PmTJ0N69estcbLdBQeIj4U2dMhXNmjaXpVRZXy6Qws6FiajmXjksS0TCiwQhVGrjnA1gCLw0gg13PRSJsy40348ZPRZNGzfFlMlTMWniJCXxD7CX7x6enfuIaRlVlh8yBhwhcRFgwUIgmemZQmpmLrQTwhVTtdcv2jgJhmFGeY4aMDsQlibsLpBJgqyLzBdnWfxB+Z9ObuaaE3UtKQ1aI5gvx+S5JCk7SlbeVqx2S+alH1N2htRDkzhjwVsLu8g67gVLk5pnwu1LKrtecxefKl+Vr2Lgw8SAcySuWorrJn3nXtKSSZydolBbOPI2550r34f5Mqr8tN0VA4qBaDGgJP5Bdj6UxKN9UfR+/bgqBhQD7yMGHCFxejJLGFJ/oGDN74JQoi4QJB3MaE5nlDiubkbztnE6c1PA1hSvAFKSUwrDrTo57l9a2Tn2zXniNKdnZ+VImFtqwKU9F/p6ySRuVpqjKV1kbIm40ARvNO/i+9B56YuvclEMKAYUA25hwBES50c/JTkVWzdvlTnMaanphWPGThecTmRxsc8wbeo0JMQnlJHEygIoizBZ10MHD2He3Pl4FveswvKneZs/LkG6d/deLF+6HJRz2eRbMokzTS6LyshwkydNxsoVq/D08VMlcRc6pWVrv7LgV59RWSsGqiIGHCFxOloxitpvfX6ToC+MYubWvGlqpCSxr7/6GsuWLkNe0FLF3W4cdlJIpLt37cYvPX7BpzU+lWlYbudbmL7XilZH7/iunbuiQf0GeFHmTkzJJM6OytXLV1Htk2oSTGbLpi0YPGiwkriSeBk7jUoehe+xYkgx5DAGHCFxO0A5jzsrM0tM3vbzTh3TpDx0yFCJItapYyfLfO9y3PLiZU9PS8cnH1fDjWs33gkgOcXu26+/FYtE8bJF9n9pJO7DxQsXwaA9hw8eFqvDuLHjlcQdfvkiayslQJWTYkAxEB4DlY7EOU/aaKEtm7fEndt3ZDy+whrZ65doaR/9349w+dKVqkniuV4wbG6N6jVkXjw7SzStFx8DL/5/hbWBkuk7wZ22b/gPqcpGZfOuMOAIifNjzgpwbnHnTp1lnrij64kXzIf25HqxeuVqIXEGIGG8doZApZNbRQqQzl4kOC4+4mg9SySngORFB0IOXzCaGgPNsCycH05Tf+QyKFkTZzuybt98/Y2kSctKpw6dZIiEYWcZPa44gRsMRF4GfelVVooBxYBioLwYcITEGXiE47MP7j+QGOo3rt+Qda/LWzjzPAkqGMhDdmY2GjdqjOPHjkuUtnNnz2H0yNFCauZet/csCxcG+Z9//A9279wtMcbdzpPpM7Qtf5wJEPskFt/X+R4nT5y0vOX9wSiHL0omcXrdsw2ZB/fr1q6XFeMY3pY/lqc4iVeEDDQP/eApBhQDioGiGHCExDnl6/TJ0xg1chTGjxuPYUOHI+5pXBSaYdFCFW8kps+pZImvE2UJTnYaSGqJrxIxZ/acCtXEWRbWccigIbKG+qmTpyR+efEyO/0/Ow/8saM0ccIkCT87auRoPIx5KMMJ1JYjz7NkEqdjGzsqA34fgCmTpsga6iRzM52PHSo7iUeeb8ntrOmofBQDijDjAz4AABVzSURBVAHFQHQYcITE7UI3Zl03vNPFZOu11ro2eUrM8gp2bDMhZS0TclnnakfXUKyvyNRWV7FQFIR/NWUycil5XzKJM10OE5DMmQ5/GemZVpz2QJ4V9rZgWdKS84m+jpqeykwxoBhQDESOAcdJXIUfufDfnawiIPGC0Kv2YC8kcy47awL7vLvyVwYZaxkVH4oBxYD7GFASL9GZzP0GeDcgj5zE6cQmmrnXJ5q4rCiXb42Lv5uyV9U20XopnhQDioHoMeAIidM7nJHUaIKlpsYxa2OKdbpROC5rhQPNleU/Zby8wNnK6bzs6RkvdNaTeXIjuXFsviLCr9J0TwIlqbJcNG+npaRFMQ5uB0fkJM56M1+GnaXsmb94p/sqbhjB3g56bG9HPVY8KAY+dAw4QuIMfvLHgj/QoV0HdO3SFTev35RxVDeEu2b1GrRp3Qbdu/2MP9f8iaTEpCinV5UN9IwURyJNfJ2EPr37yDrbLAvH5El0bvgA2OWXXxA3/e7tu/jl51/QskVLHNh/wH0Sl5kBQTGhG8c2hn61l02Py4YplZvKTTGgGCgvBhwjccYTZ7xtEmvt72q7RqyTJk4Ct9u3bmP4sOE4dOBQlNOrygYazs0mic+dMw9z58zF82fP8esvv0ongpYIauXlbYzSnmfPaOSIUdi8aTPOnz2Pxj81RnpahuQbXf6RaeIcD793556El01KTC60PHCueGll1etlw5nKTeWmGFAMRIMBR0icJmUSHB2ejhw6glYtWslxNAWJ9N5RI0ahY4dOWLp4KTq274jLFy9XCKFQC2UZ27dtL/HTqYH36d0XZ8+cFS3cbU084A+KObtb1264dfMW4p/Ho3nT5rh987aUK7qANyWTOOvJTgE7K/379ce6teuw6a9NsvgK21lmBHyQvgT6cYn0PdX7FCuKgYrBgCMkzjFwfvRfvXyFvn364vq1665pptTCe3TvgeXLlqPnrz1RUfO0LUAGsHP7Tpk/vWrFKokcV3EkHhASnz9vPsaOGSuLv9T6tJYrJM625LzzL2p9IR0GdiBYfwZ7kc5a4bS2igGpfgxUzooBxYBiIDQGHCFxmnkfxTySceqtW7YiN8eD/GC+Kxry9GnTMWXyFPGUvnThEvr/PkCc6txuYEvTDYDj/wywsmPbDgwcMEiOWVe3NXFaOegsyMVPrly+gsOHDqNVy1Z4mfBSOkzRORKWronTWa9mjZoybEFC54/kriQe+kVyG3+avspdMaAYCIUBx0icy3OOGD5CyOXY0WPioR4qw/KemzB+AoYNHYY9u/egX99+sppZTrb7sdMNidHawKVQ16xaIw5utEKQ2Mpbr9KeJ0lze/TwsawstmjhYvTq2Uuc6oznfGlpvLleMonTXB70B6WzxNXL6KjIULfUyHn+TTr6UqksFAOKAcXAu8SAIyROByguWblzx05s3bwV27Zsk5jeblTs6pWrMia9dcs2nDl9VqabVQSJksSpnXIKHceHt23dhiePnwihcdqZG3W1p2k0bcZNX7l8Jfbu2Yu42Dghcft9kR2XTOKicRdMIeP66ev+XIcL5y8ogasfgOs4jwy/ShoqJ8WAwYAjJE4SDbWZTHT/vgHuTXtxxTKSthObtvP71s5aHsWkYqCqY0BJ/IPUrpTEq/qLrfVT8lIMfBgYcJDErfHSQo3c1Yhe7o9Bl/gC2BYhKfE+tzoI5c4/QhIvCGQTqZb+TmThlow1XTWdKwYUA5UAA46QOKOZmQ+4CUdqxnDNeaf29Hxn2E+GHE1JSpFlSJFXsbG86cyWlZldsKpXxTh6kUhl4RFfQNYU59rqZZdxySTONqTHPb3SeSxhZSMwuzvVxprOh6FBaDtrOysGyo8BR0g8OysHPX/pierVqqNG9RriPZ70OqmQ2J1sKBL4hnUbUOuzWrLt2b23QrzD7XVg9LYJ4yei32/9JGIbyTV6D/HoG48xzDkD4KN/fiTTv9avXV9GGZdM4uwcsJNQvVoNfPyfj6Vd2balaeR2Gelx9O2rMlOZKQYUA9FiwBESZ6Ykl3Nnzkno1cTXia6FQj1x/ASaNmkGemm/fvka8c/iJQhKtBWP9n4SNbVS7nft3IXRo8ag56+9JIoZSY8EF22a0dzPfDlX/VnsM5mrTi/9xo0alzHPkkmcdWFo1Tq16+DY0eN4/eq1bEri+oGJBrN6r+JFMeA+Bhwhcc4dZqS2z2t9LguDXL92wzUSHz5sBBjwxUSJo6nXbQIlEPkzU8lGDh8JY33gHHX+3A72Yn8Zjh4+KnPEf+/3u0sk7gfr9dWXX6F71+4YM2qMzMdXEnf/hbS3sx6rvBUDioHSMOAMiQeCePjgIV48fwGaeJv81EQii5WWeVmuM0rasqXLrKVPbeO0ZUkrmmfSU9NljHjM6DFYvXI17ty6g04dO+Hpk6cVSuAsM0PNzps7D8OHDneNxLn06JdffIlFCxdJfvfu3lNzeiVwcokG03qvEoRioPJjwBESp4ZKcy+JjnHT63xXR8KBugEQjoczOlxaajqSE5PFxMwALG7kZU+TXvcpySlo1rQ5GjZoiObNmou5mWRKa4DbkcxkDW9/AAysw3IlvkpE65atZV1xyp4/e3nLcswlRunMZhzZvvriK9y8YS0rS+dF1cQr/wtfFlzoM9ruioH3FwOOkDg/+nNmzcHG9RvFrM6wqNGtqhW5gEikvXv1xuxZs0UjP3nipGumeztwDUlz/DsYyENyUgr69u4LOrmRRO33unHMfLl2+qwZs7B61WpMnjgZA/oPAIO1MD9TvvLkzdXo+DzHw1kndlZocZDZBzarRzgyL0/e+mzk74DKSmWlGFAMGAw4QuIcH6ZZ+czpM6KJU0O2TzszmTmxJ1nRcY7LcbLwnGZmtFMn0g+XBr3PaWkg0bGDQiJjnTk2b2nB7s5dp3mbMc1fv0oETdvXrl4rzJtlyUgvvzWCeVC2rCN/zIeEHo60i58PJzs9rx8cxYBiQDHgDgYcIXFtHHcap6Llyo4K59xzjrjVMWG9AkriOhbuuqWporGu+VWNb5a2o1+UWa5uSSXP/vub/R8ex9yPqRCzsTbKu3u5aGngj9YO/mjhoC9AcY073P/adu+u7VT2KnvFwIeJAUc0cX7wqbHR+YofeB5zDNcNUBkzvRmHJsm4kU/xNMXhq0AjYx1pZrbydq+u9jJwChvyuaa3vyCwTMByQHNQS2QeJh+um261a+QLpNjLq8cf5gdF213bXTFQsRhwkMStudQcm5VwnTkeV8hVCDTXKwQjpObxVcgULwk/6vMLcbMDQQc7MxbPvdV5ca/xaOoWggXED4Aky46Eky8M5cnxfvnlWxq56ZixfqVtTpZF03IPSypbla1ioOpgwBESFw3OH8DLhFeoX68+1v65Vpyj3ADKr7/0RIP6DdGjew+sWL5C1tT25Lqj9dvLbzT+wYOGoEXzFujSqQu++fobXLxw0XUCZzlIoCTUmTNmSf5NGjcRT3V7Gct7nJ9nkTgdFTltkGPjpRG3/Xp589fnq86HRdtS21IxUDEYcITEqblRU2UEMc7hXrpkqWuhUEnea1avEfIeNHAQDh045JonfCgQZmVkIT0tAwkvEtC1c1fxEKdDAcks1P1OnTNkGRcbJ3ky7Co7TE6lz3So7dPKQAJPTUnF6VNnMHLEKPzWtx/u3L5TKqE7WRZNq2I+ACpnlbNioHJjwBES5zj1nl17MHXyVFmcZN2f61wj8Z+7/YwN6zcI0Wzfuh1TJk+pkHnidqDTg5sdibFjxsq4dGZGluskbs+f89QZp75b126Okjg7Y8aqEvc0Dl9/9TVWrVyFFctWYNiQYUriDvof2NtTjyv3R1TbT9vvXWLAERKn1ta+XQecPnVa4ppPmzJNApO4UTE7ie/YvkOCvpiAJ27kFypNhpdlIBTOi+fcanp1u62J28tx4fwF9Pi5h8yVt58v7zF9GaiJsy57du9Bjeo1MXnSZEyfOh2DBw1WElcSd7TTWF686vNKnoqBKKaYPbgfIx7n1AKLb4xe1r9ff/Tu1QcN6jeQ2OkkAWroJFiamzmm7MTW69deWL1qjayqxcVQtm7eKqbfimzMLZu34qdGPxXOqebYMT3yi5fBmMCL74vfV9L/b57luLgfly9dFvlyLJ7OdW+uO2fOJ5GfOX0W3379LVKTU8XPjc57EnCGQWfCbBKuVYnuLRyU1L56TYlIMaAYKA8GGPgsNSVNvtP2P2/NEy+JxPnRJ2FzW79ugzi2SZCQAo/qgD/oCIGzE0CHMi7B2ad3HzGlv3zxEnTIKo8QonmWHZKhQ4bi+NHjorWSwO0kLlPASvHkjiY/Q9KUMU3dXbt0lZXi+v/eH337/OYKibMOaSlpGD5sONhpYn2nTpkWlrwNqSuJ68coGmzrvYoXxUD5MeAIiZNc+WMIVGttbWu6mekVkNyd0MKZBp2v6D1tfpwSRYKrSDBIZDNAPPDzgvngJp2WUsjbEHI0ZX3zTEDyoQOhyDsfb4VEjSbd0u5lHSlbavsJ8QlSV7ZtSZuSePlfyNLaRa+rjBUDigE7BhwjcadIuqzp2Cvl9rEpIyObmaEFQ7aR7KMpn8nLvieRc71vbvbz0aRb2r2R1KP4PaWlqdf146MYUAwoBpzFgJJ4GcZwDXEqiRcNAKMvp7Mvp8pT5akYUAyUhgFHSJxmVK58RQ2R46PU0JixIbtQexIgx14ZJYzPMA2axTm+TJMtx7llulOBw5ikwdCjedb9Zm627D3OOXWFE5hER/P6Rftl/Vg2KT+nZTH0awRLdRrNNVweoc6Hkh3N3EYe9uuhni/rOdaPbcS8WG62ryl/uH1Z89Ln9EOlGFAMKAbKhgFnSNxnkfGTx0+R+CoRXFGFPzvBFD8mQZCs+eO4K0mC//M+EgePTaMyUpncayN23sdfZkamRaJl0KhN+tHsmSenlDE6HcksMz1TOiIsTzhyK34+mvyKy03qnW858lFm9uvRpFvSvUzT1Mu0Ec8Vr0fx/0tKU6+V7QVVuancFAOKgZIw4AiJU5tevmwFJk2cBM7jnjxxsjh62QnmreMCTZba+4D+A1G/bn0kvHgpxMyob4wNbgpOwuePa2j/8P0PmDplKrIys7F3zz7MmD7D8YVATL72PTsW/J9TvPr26St1HDJoiKzjzbJZloWi5uXiJGf+t6db2vFbcvMHEP88HnV/rIcZ02e6RuL79u7D57W+wJjRY9C7V2+ZE2/KH25fWl30un6MFAOKAcWAsxhwhMSpEebmeMDIZSS5T2t+hpwsaxnLUCTEczKv2utHbnYuhgwegpYtWmHjho1IS01Du7btZO73saPH0KplKzRq2Aib/tqE8+fOo1nT5mjTui1in8Zi29ZtmDhhYoWEXeV8aZZ53NjxWLtmrWilv/X9TQiVJM46hSO34uejAbF5luZtztVmR2dg/4FYMP8PTJk8tUie0aRb2r379uyTGO2canbvzj30+61fkbxMuez70tLU686+vCpPladiQDHgCInTS5oxxWfNmAUuzDF3zjwZ5w5H4MVJfED/ATi4/yBIiiSFtm3aSicg9kksLl28hCOHj+DHH+pi3dp1aNqkqYQCXbZkGbZuqTgSp8WAJP4w5qEEW6GGysVY0lLTLXO+S2PihiTpN0AiP3XiFObNnYcTx09ImFtznXsnX2hD4uw4cMiiQ/sOSuIVNGTjZDtqWvqRVwxUbQw4QuIkZTqkkehohqXmXOh8FSZSm10Tp3n63NlzmDFtBnbt3CUkznHyfXv3o17deiDJf1rjU8yaOQvNmzXHq5ev8FPDnyqUxBkRh2WmKZ8mfGrEXIwl9mmcmPr5otgJtaTjaF4qkw4d+BjelmR6YN8BLF605K1QqNGkW9q9hsTZjlwQhcF1TFnC7UtLU69X7Y+Jtq+2r2Kg4jEQnsTzIZ7g9Abn7/Gjx0XGX+1aNsfEkxKThLgvnLuA7+t8L0QbqkHNcyayWUZ6Bn7t8SvOnz2P+/fuS6jPenXry0phI4ePlHFwFtKMhVMTz87Mxvx58/HtN98KqbJ8ofIq7zlDYCQxeqez7CTRLZu3CKGNGD4Cp06eEqc8XoskPxJgJPcVv4cOZjTpL1ywUOrM8fiOHTqCwe8pS5ax+DPl+X/7tu1o07oNkhOTxfLBzgvLzuEPyqU4kWugl4p/ecvTvvqstpdioGpgwBESJ8HRGa1Vi1Zo3669aNPhoqgZEud1kj/JZ9jQYThz6owQw+yZsws0eUurJ6G3bNFSOgY0I3PsnE5v9BCv810dCb3KsXg3AGkncXZmmAc7G506dkLrVm0wYfwEy6teptWVDghDfGUpq5A44+OycwXg7OmzmDl9pjjUMawtf2VJN9wzO3fsxD/+/g906tgZkyZOxov4F1YsfImYl12ExJXAS2/7cHLW8yo7xYBioDwYcITE6ZlNUk56nVRIzHR2C1UwQ+I0TVOrIymRhIXUhYosYhetLycXyUnJQvQ0r3OVLZIZx2jN1DKz8laovMp7juPQJHJuhiS559ABOxEsOyO2ST7ekoFoCJz7spaLeZOwKQNOuzMyouw4Jays6YZ6jqFtOVWQebAtGTqX7cU9f6Y+SuAlt3so2eo5lZliQDHgFAYcIfFoCmNIPNw+mrQqy72G8My+spSb5TQ/c0y/B3YaWBclcP0QVSYsa1kVr1URA0riLnscG+K27ysTkGiFIGmbMtMKIFaWUiwP5n7d64dTMaAYUAy4hwElcRdJ3E7c9uNKBeiCcLhvyhwQUiexF99kxoGL8nxTBvdeCM1DZasYUAxUJgwoibtEOnbSLn5cmQCiZdUPmmJAMaAYeH8xoCTuAokXJ+3i/+sL8f6+ENo22jaKAcVAZcKAkrjDJF6csEP9X5kAomXVD5piQDGgGHh/MaAk7iCJhyLsUOf0hXh/XwhtG20bxYBioDJhoGQSZ2CRguAiTx49kTnCnKdcfLMcmgoWNZH1v8MfF3+2+P/RpPU+3Wsi0IUi7eLn3qdya1nCY1Vlo7JRDCgG3kcMGL7hbKE7t+5ISG7D1WZa8N/MgezzgUcxj2TFrpj7MdBNZaAYUAwoBhQDioF3hIEHMXj88DEe3HuAmAcPJTw2A4DZf0VInKYF3vAy4aWE32QITt1UBooBxYBiQDGgGKh4DHB5aK41wu3J4ydISU6VENxhSdyE2mSELi6HqZvKQDGgGFAMKAYUA+8GAybsNpeKZkAumvwZDtz+K6KJ2y/osUpAJaASUAmoBFQC71YCecF8CbhVWIqiHA4l8ULJ6IFKQCWgElAJqATeLwnQQm7Xvrkeif2nJG6Xhh6rBFQCKgGVgErgfZaAbTYZi/n/AWp0i/EWnFg1AAAAAElFTkSuQmCC)"
      ]
    },
    {
      "cell_type": "code",
      "metadata": {
        "id": "0cIE7j31Ghyj"
      },
      "source": [
        "data_cases2_nomissingage = data_cases2_nomissingage.sort_values(by=['No.']) # เรียงลำดับให้กลับมาเป็นแบบเดิม"
      ],
      "execution_count": 96,
      "outputs": []
    },
    {
      "cell_type": "code",
      "metadata": {
        "colab": {
          "base_uri": "https://localhost:8080/",
          "height": 417
        },
        "id": "YbCPltMjJRLN",
        "outputId": "e152b510-124b-4c7a-c27d-84316fb0d2ff"
      },
      "source": [
        "data_cases2_nomissingage"
      ],
      "execution_count": 97,
      "outputs": [
        {
          "output_type": "execute_result",
          "data": {
            "text/html": [
              "<div>\n",
              "<style scoped>\n",
              "    .dataframe tbody tr th:only-of-type {\n",
              "        vertical-align: middle;\n",
              "    }\n",
              "\n",
              "    .dataframe tbody tr th {\n",
              "        vertical-align: top;\n",
              "    }\n",
              "\n",
              "    .dataframe thead th {\n",
              "        text-align: right;\n",
              "    }\n",
              "</style>\n",
              "<table border=\"1\" class=\"dataframe\">\n",
              "  <thead>\n",
              "    <tr style=\"text-align: right;\">\n",
              "      <th></th>\n",
              "      <th>No.</th>\n",
              "      <th>announce_date</th>\n",
              "      <th>Notified date</th>\n",
              "      <th>sex</th>\n",
              "      <th>age</th>\n",
              "      <th>Unit</th>\n",
              "      <th>nationality</th>\n",
              "      <th>province_of_isolation</th>\n",
              "      <th>risk</th>\n",
              "      <th>province_of_onset</th>\n",
              "      <th>district_of_onset</th>\n",
              "    </tr>\n",
              "  </thead>\n",
              "  <tbody>\n",
              "    <tr>\n",
              "      <th>0</th>\n",
              "      <td>1</td>\n",
              "      <td>12/1/2020</td>\n",
              "      <td>NaN</td>\n",
              "      <td>หญิง</td>\n",
              "      <td>61.000000</td>\n",
              "      <td>ปี</td>\n",
              "      <td>China</td>\n",
              "      <td>กรุงเทพมหานคร</td>\n",
              "      <td>คนต่างชาติเดินทางมาจากต่างประเทศ</td>\n",
              "      <td>กรุงเทพมหานคร</td>\n",
              "      <td>NaN</td>\n",
              "    </tr>\n",
              "    <tr>\n",
              "      <th>1</th>\n",
              "      <td>2</td>\n",
              "      <td>17/1/2020</td>\n",
              "      <td>NaN</td>\n",
              "      <td>หญิง</td>\n",
              "      <td>74.000000</td>\n",
              "      <td>ปี</td>\n",
              "      <td>China</td>\n",
              "      <td>กรุงเทพมหานคร</td>\n",
              "      <td>คนต่างชาติเดินทางมาจากต่างประเทศ</td>\n",
              "      <td>กรุงเทพมหานคร</td>\n",
              "      <td>NaN</td>\n",
              "    </tr>\n",
              "    <tr>\n",
              "      <th>2</th>\n",
              "      <td>3</td>\n",
              "      <td>22/1/2020</td>\n",
              "      <td>NaN</td>\n",
              "      <td>หญิง</td>\n",
              "      <td>73.000000</td>\n",
              "      <td>ปี</td>\n",
              "      <td>Thailand</td>\n",
              "      <td>นครปฐม</td>\n",
              "      <td>คนต่างชาติเดินทางมาจากต่างประเทศ</td>\n",
              "      <td>นครปฐม</td>\n",
              "      <td>เมือง</td>\n",
              "    </tr>\n",
              "    <tr>\n",
              "      <th>3</th>\n",
              "      <td>4</td>\n",
              "      <td>22/1/2020</td>\n",
              "      <td>NaN</td>\n",
              "      <td>ชาย</td>\n",
              "      <td>68.000000</td>\n",
              "      <td>ปี</td>\n",
              "      <td>China</td>\n",
              "      <td>กรุงเทพมหานคร</td>\n",
              "      <td>คนต่างชาติเดินทางมาจากต่างประเทศ</td>\n",
              "      <td>กรุงเทพมหานคร</td>\n",
              "      <td>NaN</td>\n",
              "    </tr>\n",
              "    <tr>\n",
              "      <th>4</th>\n",
              "      <td>5</td>\n",
              "      <td>24/1/2020</td>\n",
              "      <td>NaN</td>\n",
              "      <td>หญิง</td>\n",
              "      <td>66.000000</td>\n",
              "      <td>ปี</td>\n",
              "      <td>China</td>\n",
              "      <td>นนทบุรี</td>\n",
              "      <td>คนต่างชาติเดินทางมาจากต่างประเทศ</td>\n",
              "      <td>กรุงเทพมหานคร</td>\n",
              "      <td>NaN</td>\n",
              "    </tr>\n",
              "    <tr>\n",
              "      <th>...</th>\n",
              "      <td>...</td>\n",
              "      <td>...</td>\n",
              "      <td>...</td>\n",
              "      <td>...</td>\n",
              "      <td>...</td>\n",
              "      <td>...</td>\n",
              "      <td>...</td>\n",
              "      <td>...</td>\n",
              "      <td>...</td>\n",
              "      <td>...</td>\n",
              "      <td>...</td>\n",
              "    </tr>\n",
              "    <tr>\n",
              "      <th>512617</th>\n",
              "      <td>512618</td>\n",
              "      <td>26/7/2021</td>\n",
              "      <td>25/7/2021</td>\n",
              "      <td>ชาย</td>\n",
              "      <td>35.378474</td>\n",
              "      <td>NaN</td>\n",
              "      <td>NaN</td>\n",
              "      <td>ชลบุรี</td>\n",
              "      <td>ทัณฑสถาน/เรือนจำ</td>\n",
              "      <td>ไม่มีข้อมูล</td>\n",
              "      <td>NaN</td>\n",
              "    </tr>\n",
              "    <tr>\n",
              "      <th>512618</th>\n",
              "      <td>512619</td>\n",
              "      <td>26/7/2021</td>\n",
              "      <td>25/7/2021</td>\n",
              "      <td>ชาย</td>\n",
              "      <td>35.378474</td>\n",
              "      <td>NaN</td>\n",
              "      <td>NaN</td>\n",
              "      <td>ชลบุรี</td>\n",
              "      <td>ทัณฑสถาน/เรือนจำ</td>\n",
              "      <td>ไม่มีข้อมูล</td>\n",
              "      <td>NaN</td>\n",
              "    </tr>\n",
              "    <tr>\n",
              "      <th>512619</th>\n",
              "      <td>512620</td>\n",
              "      <td>26/7/2021</td>\n",
              "      <td>25/7/2021</td>\n",
              "      <td>ชาย</td>\n",
              "      <td>35.378474</td>\n",
              "      <td>NaN</td>\n",
              "      <td>NaN</td>\n",
              "      <td>ชลบุรี</td>\n",
              "      <td>ทัณฑสถาน/เรือนจำ</td>\n",
              "      <td>ไม่มีข้อมูล</td>\n",
              "      <td>NaN</td>\n",
              "    </tr>\n",
              "    <tr>\n",
              "      <th>512620</th>\n",
              "      <td>512621</td>\n",
              "      <td>26/7/2021</td>\n",
              "      <td>25/7/2021</td>\n",
              "      <td>ชาย</td>\n",
              "      <td>35.378474</td>\n",
              "      <td>NaN</td>\n",
              "      <td>NaN</td>\n",
              "      <td>ชลบุรี</td>\n",
              "      <td>ทัณฑสถาน/เรือนจำ</td>\n",
              "      <td>ไม่มีข้อมูล</td>\n",
              "      <td>NaN</td>\n",
              "    </tr>\n",
              "    <tr>\n",
              "      <th>512621</th>\n",
              "      <td>512622</td>\n",
              "      <td>26/7/2021</td>\n",
              "      <td>25/7/2021</td>\n",
              "      <td>ชาย</td>\n",
              "      <td>35.378474</td>\n",
              "      <td>NaN</td>\n",
              "      <td>NaN</td>\n",
              "      <td>ชลบุรี</td>\n",
              "      <td>ทัณฑสถาน/เรือนจำ</td>\n",
              "      <td>ไม่มีข้อมูล</td>\n",
              "      <td>NaN</td>\n",
              "    </tr>\n",
              "  </tbody>\n",
              "</table>\n",
              "<p>512622 rows × 11 columns</p>\n",
              "</div>"
            ],
            "text/plain": [
              "           No. announce_date  ... province_of_onset district_of_onset\n",
              "0            1     12/1/2020  ...     กรุงเทพมหานคร               NaN\n",
              "1            2     17/1/2020  ...     กรุงเทพมหานคร               NaN\n",
              "2            3     22/1/2020  ...            นครปฐม             เมือง\n",
              "3            4     22/1/2020  ...     กรุงเทพมหานคร               NaN\n",
              "4            5     24/1/2020  ...     กรุงเทพมหานคร               NaN\n",
              "...        ...           ...  ...               ...               ...\n",
              "512617  512618     26/7/2021  ...       ไม่มีข้อมูล               NaN\n",
              "512618  512619     26/7/2021  ...       ไม่มีข้อมูล               NaN\n",
              "512619  512620     26/7/2021  ...       ไม่มีข้อมูล               NaN\n",
              "512620  512621     26/7/2021  ...       ไม่มีข้อมูล               NaN\n",
              "512621  512622     26/7/2021  ...       ไม่มีข้อมูล               NaN\n",
              "\n",
              "[512622 rows x 11 columns]"
            ]
          },
          "metadata": {
            "tags": []
          },
          "execution_count": 97
        }
      ]
    },
    {
      "cell_type": "markdown",
      "metadata": {
        "id": "kBw70837IvoK"
      },
      "source": [
        "### **Outlier**\n",
        "\n",
        "ข้อมูลที่อยู่นอกเหนือจากในกลุ่ม น้อยเกินไปหรือมากเกินไปจากกลุ่ม"
      ]
    },
    {
      "cell_type": "code",
      "metadata": {
        "id": "v_ft9FckJS9w"
      },
      "source": [
        "from matplotlib import pyplot as plt"
      ],
      "execution_count": 98,
      "outputs": []
    },
    {
      "cell_type": "code",
      "metadata": {
        "colab": {
          "base_uri": "https://localhost:8080/",
          "height": 265
        },
        "id": "5VcRMj-dJYgg",
        "outputId": "6ff337bd-bb14-408b-8b90-6acd02d0f8b0"
      },
      "source": [
        "data_dict = plt.boxplot(data_cases2_nomissingage['age'])"
      ],
      "execution_count": 99,
      "outputs": [
        {
          "output_type": "display_data",
          "data": {
            "image/png": "[encoded data removed]",
            "text/plain": [
              "<Figure size 432x288 with 1 Axes>"
            ]
          },
          "metadata": {
            "tags": [],
            "needs_background": "light"
          }
        }
      ]
    },
    {
      "cell_type": "markdown",
      "metadata": {
        "id": "BezcUhJ4MZT3"
      },
      "source": [
        "![image.png](data:image/png;base64,iVBORw0KGgoAAAANSUhEUgAAAfYAAAC2CAYAAAArxK9kAAAgAElEQVR4Aey9hXddx5L2/f4777wz38zcuXNvbsCJkziGJIaYmZmZmZmZmR0zMzMzM5Mk2wJL5/nWr87u4y35KLZiKabutaS9T+/eDdXV/VRV967+P4pI/s/TwPOA5wHPA54HPA98Gjzwf3xHfhod6fvR96PnAc8Dngc8D8ADHti9xcJbbDwPeB7wPOB54BPiAQ/sn1BnemndS+ueBzwPeB7wPOCB3QO7l9Q9D3ge8DzgeeAT4gEP7J9QZ3pJ3Uvqngc8D3ge8Dzggd0Du5fUPQ94HvA84HngE+KBtwN2RUMkI7jhwn2YEMSFf/t7Tw/PA54HPA94HvA88JfzwFsBe2LCMz1++FSJT5/Zn2F4+utAnv4y8pc3wAsTr/eDp4mniecBzwOeBz5fHngrYJ8xfbYG9B+sfXsOaNTIsUJzN+09kMRepkXs96iRYzywe+nU84DnAc8Dngc8D7xHHngN2NPTInqZmqFzZy6oRfNWqlm9ttq0aqe+vfvr4IHDGj5slNnj16/bqBrVa6lRgyY6f/aiZs2Yo3zf5Ff7dp1059Y9S+Mlxs9XYvR97/ve84DnAc8D74cHXgN2OiI15aUB9swZc7RuzQYV/aW4+vUZoM2btqpJo2Y6dOCIfi78qzZt2KLJE6eqc8euOnL4uEqXKqcjh4/peVKyB/b3KK35wfR+BpOnu6e75wHPAx8CD7wG7Okvpbu376txw6Z6lvTCAHro4OHq32+QNq7frGZNWphZftiQEfbsxfNU3b3zQMnPU9WoYdMooLv/Hty8OcrzgOcBzwOeBzwP/KU88Bqwg8nXrtxQvToNlJr80iB69Mix6td3oNat3aBGDZuoT+9+GjxomNgsh+n+zKlzSklOU4P6jRykZ1qDt0jfsX9px34IUqOvg9dePA94HvA88NfzQFxgpyMqV6wq1tHPnj6vShWqaEC/Qdq0cYsaN2qqNavWqUSxkjp98qzmz1uo/n0HKuFJkmn5589dUlpquoFYBnKB+0TOA7sHds8Dngc8D3ge8DyQ5zzwGrBH+IxN0v59h9SgXiM1rN9YfXr31/y5C7V3z36NHT3eNtdNnTxdtWvVU9fO3XXl0jWr6JxZ89S2TQddvXI9qqS7T+L45TvT08DzgOcBzwOeBzwP5DkPvAbsuQLAAZBncmjjOzPPOzNX+s73k+8nzwOeBzwPfNQ8kOvAzua7DCzxzgQv2Tq8Bx1vtfA84HnA84DnAc8Dec8DuQ7sZoPP+s9Lfx+19OcHYt4PRE9jT2PPA54HcosHch/YPYh7EPc84HnA84DnAc8D740HPLB75ntvzJdb0qnPx2s6ngc8D3geeMUDHtg9sHtg9zzgecDzgOeBT4gHPLB/Qp3pJdZXEqunhaeF5wHPA58rD3hg98DuJXXPA582D2TdzPtHv3PCC3+Uz9s8y0lZPu2nzaO53L8e2HOZoJ+rhOjb7bWjD5IHDGDfdpBng8bxXs9RvtlmkE2BcaLjZeHjPNhnwwMe2LMhzAc5Sfm6+oHseSBnPJAjAI4DqETFo3mO8s02g2wKjBMdLwsfF79vPF3kgd0zgR8cngc+XR7IEQDHAVSi4vFHjvLNNoNsCowTHS8LHxe/bzxdPLDHHbSeMfyA8TzwafBAjgA4DqASFY8XcpRvthlkU2Cc6HhZ+Lj4fePp4oE97qD1jOEHjOeBT4MHcgTAcQCVqHi8kKN8s80gmwLjRMfLwsfF7xtPl/cM7CH+tSNe3W/fMX8twzq6Z71mSPj+txP/6BNJyc9To785A4BjeQmcCxAJpfP999f23x/RO+ii2PHJdFdwgmN4zNnZDn+Uzwf2zI6GDnjPnUvh2hVrMmdWWFvjVJ4ox7fwcuiEafd+9BpRmtLsuQP4VElR1s+ab0gIcJkwLtw95YXKfPWA0lMkvQhydgndNZaDy8lf/woKBGRPf5mhjJcfVx+83zX2YJJxR8WGJx83iPw1NFnAW7n9R5YBgMfoH5EdzWvAHebn8H2475h/wiGYvHK9rrnd9k89P9cnQb+lvEiLHc7kwDCW5GPrMyrucM81gqvr0+A+2k4XGbq6dwPgBaij8k4oTZAZkJsWyjv7tFnKD94hX95xOfM7WpbLlNwB9SRJiA0uhbtSWR/+cgrQYUEA3K0DXcQHfn3vwO5APT2QiGITjhsF/vpqRshLWgQAH9bO4/EuWlFMUydBSFNPT4vOktaHeVlXn/fb80TWToR2QYj1I3EfG7C7+gZtMetDqG2xecSex2GYLFGRmGad5UEAyulZo/kdg+rww1B8EA08A9fJSrO/FEUCjZ8nQD7AjviQHNw7QHdXD+xBN/81lwhzHLT/eMP7BXbHrxHpxbMUzZwxW5cuXImOF2gaGi8x05ukkydO6+SJM7p44bKOHj4eMw3b4A7yBKCuX7sp4m7fvKstm7dbL702mbm+s4H6ykxpgJVl8iDP2ITh6s7QTIv+cM+4hs2cTrPgfeLtecA3Wc2HVp2gLrGqOY3aRUi6duWGDh44opdpkRjQGiiH0rx2G6JnpmfknxZ51TZXPtdQO6OgHtGe3fv14nnqq/4JpXE0IH+7D/Jy2n9aSrTh5BV+7uoe6x/L4FUtY/lGAtq6OiJIh8p3b8ToyoTN8yxtoZxwH1Gvmzduu9czXZ3A4tKT95HDxzV50jQ9fZxoaSnjzq17sd/r1mxQUsLzTPlYHSApcznB1Stoy5ZN2yzaaOHaF01p9Xc0epmaYf0eTfwqH9dml4423bl9T3Nmz3O5vFpaCWKeJb7Qndv3X/VlUO6Vy9eV/CItGk/aOPVxcY7/Y4W49JHo2Nu0catSk19q0YIlNs4tHZNnIAiSD/U04T7Ul45neDcWItD+mM0VD+8/jkU/eZxo9KbtW7dsf0WvrPUOCic6VhQFRSgjQxnpL5WY8NSuMaI4gkIGXnR/sRsX4a6xakUhPSPZXqQEOCI9g5L5S1Ek8kIRex5d84pkpGnrlo1KfpEk7hUxW0GoTOYoynkVHj96rCePnyiS8So+Aw2TEPB/RnpG5nHyKumrjHgliH+ZFkxQcdKhvcY02KCYGCmC3GJ1cc+Durj8Y8+D9IkJibp3957SUtMygWqEtjKfpkc1Zq78/b5kqRKeJryqe3D3Mu2l5syeo6lTpmrmjFlaMH+BZs2cpbNnzmrj+o3WvpepAT9lU7ekxGev0fO1gj7wiPcL7AFxmOhWr1yr77/7UcOGjIitAcaYBeYKMdjY0eM1aeJUnTl9Trt37rUJIjap0VkZEoO+caOmVgIT7rLfV1gelMU4dddM/cO7rix3JQqegs8ZJMHV3jPJLioM2KTkngeZWloHPKH6Zyoz64/YQIzmS7sMmBwTBmUi2GzZvO0VXYL3aHusjkEbHG1ea1u4Toyf9KgJ3oEvVbOymYxeRoxmTLItm7fWtas3YjW3NK78cJ4uRVAP99PVJ5y3e8bVPQ/Hubo7UCQN7bR+DNGGd1x9bO60iEw5vaIZ0QG/vHieojq16+nRw6fRONqcVdgJ+OP5s2TVr9dQp06cEe9ZERlSzx59tGrFGsu/RrVaBlaxtji6uGu4zhEpNSVdTZu0UAog5gS5oE9ifJelGdGCQ4JC+HnQH8ePntT3+X+MtdPRz+gpadOGLQa4Vs9QP7Vr21HHj52K5ujq7J6HrqkpL01Y4Or6KHxdv3ajGtZvbMC+MAzs4bpK6tyxa7D8ExTmygjS0df067OkFypfrpIO7D/8SriUtGD+Yq1ZtU5PnySqebOW0bcypJQX6MpBcAwXdDvTe8TM3k+l9BtS+j2lJL8wUI/ECJKuU5sn6MX1A5YJvR01lruJwFU0S71Zznr5SGkvL+rOudVS8sWQdn5PSr0gCaEQLR3agV7wfppWrliqF895BpNkAVg3zngagPfvS34Xf7EQVMX9doIAYBwiQVQQCPjfaagxwHYvh64OXB2w8w5xgGl6WroBMveWLvQe/EBanlmTgmcuP8D7wP4D6t2rt9WP3wC/1dW1xcZCdNDwrEjhIjpz6ky4FLvn2c7tO7V+7XqVKllKq1et1q6du3TyxElVrVJVSQlJJhhZ3QPzOuXwRxzvL5i3QLNnzYnmh2BhNI9eXyvwA414r8DuOg6toUmjZlq+bKUaN2yqx4+eviJXMG5mz5qrWjXrqFaNOqpZvbYmjJ+sNavXC5BnQ9eAfoNUpVI1VataU4cOHjUBgQmtTev2YnJp1KCJaSDTps6wNLVr1tXihb8bMAwdMkL9+g5Q7Vr1RDxCwZNHCWrRvLXKli6vmjXq6MihY1q3doOGDR2penUaqHq1Wlq7ZoPVE8Ghf9+BMUZkTiC//v0GqVqVGurUoYsG9h+s8mUrqnWrdnqelKyjR46rft2GKlumgpo1aaGkxOfq1qWHOnfqqooVKls79+05YCDHhE/9aVv7dp10+9Y9a9PIEWO0bOlKNW7UTE2bNFeZUuW0eeNWm2i5kj9g1bFDFxOcwhMulg5oDc2oJ4ANPapWqWH17NSxq2lXF85fVvu2Ha0dzZu10t3b99WqZVtrU8UKVVTyt9I6e/q80cEJN4AJ9a1QrpJat2xrtLx5/bbat+uoypWqWnvPnjmv+3cfWntatmhjdJgze769V6pkGc2aMccGVLOmLayeVStXt7we3H9s9BsyeLgqV6pmbdy5fbceP3yqLp27q2/v/lbXVi3aWDqsOi1btDZ6Dho4RMkvUjVp4hQNGzpCtWrWVYniJbVj+261a9tBX3+ZT7179XvFe5LOnrlg/W1l1Wuoq1eui7zzf/ejGtRvHIBaujZt3KKffiyk4sV+E9puqd/KGKCVK1vRaAUwPXzwRN269jR+gobXr92KgiHT+4s0azsAV6N6LauvWa8kzZw+29pUvWpNzZ+3yDRswHLv7v26eeOOqlWtodMnz6pBvUZq0ayV8TE8xfvHjp60eiEwQF8EDvh50oQpZvkqXqykiv5SXCuWrYrWJSJNGD9J+b75TtAcgWPOrHmqV7eBlTNj2izjlRgvSZYXYFupQhVNnjg1OnkH43bD+s2qX6+R9U/lilXNiub4Cf7Ys2uf9c933/6genUbRi0RgWCDVapt6/bGo9D8/LlLGjl8tL74x5fq2L5zbJ7YtWOPfi7yq9Ecvq9dq67atGqniuUrmwCGBv4sKVHDhw1VjerV1KljB127dsuakBF5qaSEK9q0uJ8WjmurzWuXKe1ZUiAtAUQvdHXbaKVcxeKXEcBskhR5IL28HwAv4Ms796XUJ1IGG0xT9TL9qaZNaK0di7pp+eimSrl9VHr+SJtn9dD22S20dOFoXdi3WEq5a3VxNO3WtYseP3qgQQMHqHu3Lqpdq6Zq1qiphw8eauOGjapQvoLKlSmnrp27GoD9XOQX/fpLUe3ZvccAvkqlKipTuoxaNG9hYNWhXQe1a9vO8iCf27dum0bauVNnVa7EXFNLBw8cVEpyiqZNmabq1WqoaeOm2r9vv+7duaf69eqrYvmKatqkqWnJBryB1QAQrVm9pipXqqLOHTsrKTFJjRo2srq1btnaALVxo8aqV6eeevXopcSniTpy6IiVWa1KNasXmnflipWV/7v8GjdmnK5dvaZOHTupRnXmuw7Wbt7r0qmLqlerrpYtWuqH73/QqZOB4BmMWNPug3uEBurx6MEji7lx/YYKFiio+vUaqORvJTVx/ESjzYzpM6z+5cuV1+CBg7Vr526VLlVGxYsVN3pGOwaBC/TPNDV80D/eK7BDGcD96uXralC/kZnSmPBsknFkC8z0ABDpGOxFCv9qE8jvi5epd6++AqwBv0cPnoiJpEf33qZRlitTwcyjW7fsMIDeuGGLiv1aQjeu3bJ8AHGEirq162vt6vWWtkL5SiLfdWs3GkgA8vPmLtTECVO0eNFSlStbwYBs8aLfVaF8ZdMymOxmzZxrNXaCPpMsVggmV+o7bswEPXr4xCbvC+cuaerk6bY8cOXSNdWsUVv79h40wEMIQFA4uP+w6tZpYHn+8nMxnTx+WvfvPbQJC6sGdezRvZeVSz0Azs2btql1q7Y2iVapXF0Xz1/W1Ss39FuJ0lZ3N3FwbdWyjY4dOaF7dx4YmC+Yv8jKP3zomO7fe2ST4uVLV9WhXSfNm7vAaAuYTpk83YSIwYOG6e6d++retWcUhJn2AuWCvti1c69u3bxrE/DK5atNixo4YIi1AYGsbZsOVmeAD7CE/vm+ya+DBw7r/NmLAtAxOf9c+FcdOnBEAHrXzt0FOANKCA7QCYsNoALAFS/6m/bvO2T5/vpLcR09csKAe/26TWYi79ypm/bvO6ihg4db396+dVcDBwxWn979jE6A8ZXL14zm8CVgCHhDawSa6dNmqU/v/rp1444JotAumlgmmCFEAoqEX4oU1Y5tu6wtCCqXL11Tj269NGbUOOsfhKgRw0dHhUHTvqQa1Wtr+dKVJvBMnzrTQA2BEgEKYeHcmQvWHngBXi76a3EDapawEMx+K17KLFkIENOmzlTpUmV1+OBRfZfvex06eEQ/fv+TTp86a/2CwHnq5FkD7bFjxutZEuZiU2FtHDIm4Cd4oXq1mracxfgrVPBna5dLixkeHsF6tmf3PhX4oaAJy+65A3YE5cIFf7Z+zv/tDzaW6R80bZYCEDIRdNxSDAIF43PM6HHGe2j7bdu0F+Pl11+KGd/SRwT6adSIMSawPX2SJAQIrFnGE8V+06aNGzRp4gT16tlDDx/c1/x5c9WvRw9FUqNm7rS0BKWdX67FfSsp9fF11tZMi85IS9TZ7Wu0Z1Z3vbx1SIok6t7t3doxu69OL+mnXbM66tk9NPFnUtJJXV7WWYfGN9bFzeOltNt6mZGu5LuHpORTurR6uB7unSGlv9DB+X2UcXqynt7eo9X9S+jpqVVOLzdTf/269YV5vXmz5po1c7Ye3Hug1q1aa/rU6WrSuImmTJ5iYDd40GCdOX1Go0eN1rix45T8Ill9evexuMuXLut///6/unHthgF6zx49LZ9RI0dpxfKVmjtnroYNHabHj55o8aIlat2qjVatWGXAiUn86OGjVj7p2rZpq6dPnmr2zNkG1FGqS48ePlbxosW1fdsOA9B+ffrp0MFD+j7/95o8abKuXrmqls1batvWbbp75656du+pRQsXq1XLVlq7eq21AaGBZYQVy1cYEHNPu2njrZu37IppfdHCRRrQb4Du3r6rTRs36asvv9L5s1GFwtUn0zUi1a5VW/fvIXxJV69cU5FCRUyAQYhBMEp4kmACxJXLV3T+3Hnl/za/Ll24pAnjJwg6JT9/NSYy5f0R/Hj/wJ4uLZy/WCVLlFavnn1VqWIVA0wGtgtoXUzKBDSffn0GGDAyCfbq0ccm2XlzFsQkKgb8k8cJpvUwwaDRASBo99279Yxp1phO0VzRch4/iq7XdGjf2TSbhCdJph316tlHpUqWNWBe+vtyTRw/2eqR8PSZfi5S1CbbH38oaFdXX0zZACeCBubcIoV/MWDmOdrzmVPnbKKeNmWGTYpMvDt37DZtnrVbzFWAGpMr92jkbp1x/96Dlg7BAg0foQLAo82XLl4xwLx88aqaNW0ZW/sfNHCofl+yzFXPrkyOADDaLMDIxAiAjho51jT0X38uZpMoz9DanSmeNf2mjZsLjRvaLlm8TOPHTrQ8XR2xqjCRu4mXteYSxUvFTLsIBGh3N67fUrs2HQS90PK/+fpby4ey0NC4NmzQWEmJ7BiWCQtNGjc3DdD6m73Ez1NMowNU0EYNUCTT1JYvW6X/92//YQCBVQABaPSocUJAAVQIa9esF2ZnrD5YPOAbAv0GqNH3znyIJQlNGLMzyxEu0Fe0HYBbhBUoXcZ7WBEIACOCDmDKH/yGhQqt02gUaKi0LbaXJALQ19K4sRPVpVO3WDzWooULFlu+CI/QFfphYkf4xUTNGAEA//G/X2j7tl369pv8+n3JcqO1qzP9jPC6auXamFDqwJj6N2rY1PoEumLRsRCRCZNYz1xa4hFgEDbr1KpnZZq5P4vGDj8U/KmI9Xmjhk1UvlxFG7tYRNJSM8wa44Ri8sakjgUEXiZgFaJ/GFPMFS5QFu9h1UAAe/4sReTv8mrauJlWrliuWjVrqHIlLGYtVbd2bVUpX14y0yvSQar0cIeWDW+gNBbR059JLxMUUbISH9/Xvun19OTMUqUrWc9Tb2lBn2I6v7avTm2bpaMLu0nJZ3RgXgfdWlxfL0/O1rYhJXRz84igimnKuLZKqwaUlm6fkNKSdWLJCOnmWkV0X0kbOunShlGxvfAskztg79ShkwEOGQ0ZNERjx4zV8mXLVaL4b2rUoJEWL1psGjLAN3PGTOuTI4ePGGADjn/777/p3NlzqlqlmgEp+QCKU6dMU8cOHXX44GFHRrsOGzrcTNxtWrcxAaJCuQp68uiJmbDr1Kpj2jRWAxcAw6K/Fo2a2E1Ji6q0xYoW19nTZ/X08VOhCTdr2sz+alSvoeFDh1udJoyboI4dOunrr742gEfzb9+2vZnK0ajr1a1n72BN6NOrjwkFWzZvtaIZM9/n/8HWzV1dXrvGAXbo8OL5CxNIypYpa/TavWu3hg4ZKqwK33z9jW7euKn5c+dr0oSogM7Yxzzv5pXXyvlAI94rsNNBTKBMCEw8aBeYn38qUNgmFTc40YwaNmhiJCQ9k+KUSdMEuGF6BRzGj5tkxGcTDhMPa6WVKlY1cMNUV7ZMec2eOdcmZpt4MmTvMXFgtkt8+szyR2PGZNm7Z1/TRtmAh3aFJsbEgfZOJ1M3NMdOHbtYOdTLBdqFduHyRHtjwx+ByRyNFBM56/5oq5hVmRybN20ZM4liMjZgl8w0j2WBfAFSgGj+3IUG7HPnLFD3br2sPmjnmL7RKDEzu8kX7ZY2hAPLGmjsaPVoTXNnzzeNCmDA1M9SA5YFgOj4sZP2KtoXoAK9zIws2fqsmV9DGjtAhtZIcGufmODRyqkTNEc7xfrSoX0nS4eAle/r76yN0BbTOO2tUrlabBMabYBGmPQBJmgOeGLSPXH8lOogCAUB8y8bJv/+t3/Y8sSZ0+e1csVqE17Q2I8djQL76lXrDJDJC2uMbXgLupK8SwMmAUBDKwQOgCi2jkt5QXp4ByGV+gPKd9HoM6SqVaobranT/HkLbdMnQhRlu4BgAB9gmSCgodMHs2bOMXqTJwDOUsnG9ZtNUATgsAYg4PIcsNy+dae9z8ZKTNY7d+xRgR8LavWqtTbOXHksCezdc0BYM6ZOmRGNph22nigT3lguYh8BfWHCTYZMSGIcON6CRghy0HfXzj1mFbC0QV4b1m0yMz6bDAFqLFFYWS5euCK0cFvOSIuYsEN/E7hCD6w1zAcIKowflgbu3X2o30qUitHc6guwz5gjBO+U5DQTWF1ejRo01orly9SieTNhij9/7qz27tmtBbNms4stWl7kufRgh5YPr68MdqcnntbZA6ujmnjafV1Y1Eovzq6MrXev6FdSusdGrDs6Mr6qlHZKm8Y20I2F9XRp83hdWNFLjw+jaKRIt9Zq++iq0skFUvojKSNNp5YNkh4gaN/RpQVNdW3HtFefw0VkJm8AFdP2+XOsxUuDBw0xLXL7tu26fvW6Dh04ZIC7bs062xy2eOFipSSnqnbN2qY1o7Gj1V44f0E1qtUQ7xFWrVxlQkDvnr21edNmi0PrB9zGjh5r2vKli5d04dwFzZ412zTcY0eP6eSJU+rerYcJDfaSacFXVbhQYT1LfGbgh9Z96sQpEzzQttHyMbcfPXJU165cM+FixbIV+vGHH7V82QozuQPgmMt379xtwkZqSqrKli5rSwoIDgDv5o2bNXDAQP2+ODqHPX/2Qt/m+/Y1U7yrl7uyzHDrRnS56+KFi6petboJQglPE1WubHkDcWhDna9cuqJ8X+ezOi2Yj4V2ovEY6+7RMREMcpf5B359r8AObVjfZC3MNg0FxEKjGj9uYnS9LaAnIIeGy3ofmh2mRkCuZ/fepqVgQsec3K1rDy1ZtFSY5FiTxBzOhiYmbUCUyQIzJ2ZVJpXEhGdmvna7m7EMIACw1gqAbNyw2SZpwIw9AJil3aRx7epN/fMfX1oaN/HZVTLAR+sgYP7HBEro06ufaa5MUiwhAHyYKFn3RcsuVvQ3rVyxxt5n3wDh+/wFTGsDCEoUK2nPWa7o2qVH1KrQo4+lu371pgElGiUAhEVi9KixKvRTEVuLt0TBP7QwhCLogwmbTVTQBtBAA/+pQCHt3rXXJkzazsYk9jacOH7ahAeWMwhMqBMnTH410WZIA/oPMssEwhpCDWnpN/qDNVA0VvZIIICYJSYiAxDWWRlEgBQaMVdMuyw5QHvW85m8MU+jfQNomOYRdGg7wooBjmR9u3fPfrF/grV3TNfwEH2CBQPQIgA8aNoACUAJ+BPQwgH7wQOHWl6kg0/pLwTDsMZuL0gmDJIX1hxohXBDHoA8lhj2Q2CpQMBhLwX1d3zDN+ZYHBCk2LvBO1iHiMe0zNo6Znz2ZLAEgfCEEMEXCgV/KmxLT/AGQjJaOvshoA0CTKGCRWwjH/3MkhK75BEQEhOeW38jLGHmN9oFwI5lYsSwUWZ5wSROf7EMA68i7Lq09CF02b5tp/r2GaB//P0LM5O753wdgGUBWmDGZ+c/fAY/0SYEY2iN4G70YNNZ8JUJXx3UrVNf5MHYmDF9ltWHJZNYCOYHhA0EK4RGhC4sS4QmjZtq9aqVOnb0iKpXq6Ytmzepd6+eWr10aSyLl2mJSjg2X4v6ltPtCzt09+hMHVg3QUq5rsRLa3R8agPd3DpOD69iVn+qRZ1/1otTC5Rw85AOjKooPTup42tG6Oqy1npxeqHObxipO4dWSIm3tKpfAV1a2ERJe2co6dQeKfmRDsztque7+uvynqlW5su7hx3bWp1YG0czBtgvX7xscSNHjDSNGbM4ALtrxy5bC9+xfYeZ0Fu1aBVo51W1dfNW0+7/93/+V1s2bxGa8sWocs0AACAASURBVPp16y0fzPBo99u3bjez+5rVa8wEzg5yzNDFihYz0/yUSVPMrI8ggPbPBjTWvUnnQmpyqmn23bp2s3fq1qlrYFm1clW7wttjRo2x/FeuWGX1WLVytQEoZv2lS5aqwI8FDNR379qjShUrmVAyLVhy2LBug9q3ax/b/Fa6VGkz2ffq2cu0azbPUSZLAewPiAWMLmnpRh+WNCAuAo5tnktMsiUJgJ21fMB/25ZtJjghCLHJbu2atWrbuq0tY9j4tDHhgT026N3gzvZq5uOrJsWTxgEmUvnhQ0ejvwN6sh4K4AFErEdjdgYwMGujyaB9MriR8NF2CcSxvo52iQBBuHD+kmnF5MO6NGt6rCvbxi/7lO6Mrbfy+cySxUtt4mdNE+GANbvwJ1FMjGy4c51v7Qy0DjQy1x4+v8G0b3U6esLWY1mvRAMF6NjsZ5NXkxYGYFgiAFq3iZDJmvVOBBbaR12pB1oqn/KdOHbKwIZNeVg9qA/aGBo2Ey4aF+vc4UDerEMywbI+Sl35jIiyMb+iVQHiaEBofZQNOGEqRrvGdE1gIkXAAcAIgB5CEu3CFI7WT2CyZrkBYGbDFDvLAS1M8IAq9AE8LUQUawebtrZu3m4gRtudtYXNYtSVNrJ3gbazTOECNGV/BPUC6KA1WiXvwzOUh+Bw7+4DW3/mPeoFUFoI+I7P+tCCacvuXfus3WjsCBdZA+vwaMBshDyw/5DxJaBFX1AevMaGN2hwYN8h25wIAKGRwjvwPDRHYMXKRJsI8Dr8gUAAkEJfTPu0jXfpK5Y32OAHaC+Yt8jqTNksMblPPRkvtAOhEFM976NxYy2yvQW0OfjjOeVRZ/h+2dIVNvbQtI2vQ2l3bN9lYwVrD++cP3cxlg8bJNk3QVmY/uEb+GfRwiXW3wgplAkvU083Domjf6AD45A6suzCEt22LTuykt7oy+ZWxgN8zLuEI4eO6u6d2za5HD50UIsXLjSNPT05WD813kzS46MLlbh3rB4emauHRycp/d4+KeWSUo9PUMahSUo8PEm3j06VHh9W6uHJ0vW1enB+i54fniul3tHLpEtKPDZLCfsG6dnpBdLTs1LCLSUdn6aH+4cp8egs6e5FKe2GEo8tV/qReXp5YqoiDw5KEZZsmDiik8fBA4cMqE4cO6GHDx7ZLm4+17p86Yppt+vXbdDC+Qu1c8dOAzA0Y0zsmJGPHD6qhQuiz1jbPnzosPbu2ac7t+8aPW5ev2naM+vxbGJjNz3me9NMbbPoOQNP8iZfAsA5b848WyvnvViIyPYCrFu7TqtXrhZWAgJCx/Ok56bFP0t6ZkIEAgLr9qkpaTpx/ISWLF5iG9XYDY81gU13mzdtEW1m9zxxrKtjLTBTOPP5UfhmkW3q49O158+e22ZC2m186yoW8ObePXuVlhrdpc/ndAgnbILjK4ED+5hH0203PrvgsYDs2L7TBADqgiB0/dqNGB+7OrgiPvTr+9XYQ5ODm1A+iquk06fOmYbGpjiCTc5ubP6JK8CHxnHuLJtxMo1zsxzYRPWW+SY8TbLlCjQe9hWgqTnTeTTz4D/CVAAqHxrdaS++DdiQhhAQDgYsb0OL8Evu/mPlubeoN8sbbIj70PoyT+qTk/50acPXMD2J53vxyAspAuA/lyL4aSDuWfCHYM49z9kVzxfppOHKh3Ok5b2E0Pt8xsY7pE+OSip8L0/e9u16UE4A6Fa9cL3edB9uj7/3FAhRwAP7mwZPvOeSbt28Yyb4hw9eOcmICd1vAzpZ0gBkWAbQBm0idM+xIhyPrs+/bf4AH1oWms3mTVvNAmF5hjo+dhuvfR9CXFBBtGsDcmQdt5/SWXccjbK7xhoZuvkQ2pZHdcCiwdJSngBpHtX5T9fVdenb1MulDV+zey+cJnafXeK3jY9l9Oabt82SdD54CmRDAQ/sORlIQVpnLsRMiWnXmYffFnizTcf2HFzrUo4DK2cNoANd3BuuTqPFFJstoIcZ4k/Q4E9PyDkoy5maqSptYsklFt5Ag2zbnYPy/4o25mYZWF+MFz/hNsbo5Rjhbdrq0oav2b0XThO7zy7x28bHMnrzzdtmSTofPAWyoYAH9pwMJJ/289AGfT9/+P3sJrS36SuXNnzN7r1wmth9donfNj6W0Ztv3jZL0vngKZANBTyw52Qg+bQf/oTv++jz6CM3ob1Nf7u04Wt274XTxO6zS/y28bGM3nzztlmSzgdPgWwo8OEBu6soptYgmGk5zPDEhxjbPo8JP8/r+6Be72z2dPm4DWzhdr2pDcG7sUs4fSwyM51iZsxw2uzuoX/WZ/HisqYJ/3b1CMe9431snZ3qOT/6lPOO+b7N+5TtPqOypuV1mSH6WVtde3NSbpBHbJMkv93Yykk+2aS1fHGoxFcRrPw4Xg6np8zw7yz3bg+FVTXLs2zfC9qV7fNwPi5t+Bp+Hr4Pp4ndhxP8mftYRm++yUn2b87Np/hMKfDBATuHPODYA4cseJkixJssWH9lMmHdlU9c3mqA52TQ/EFaPjfCw1W0cn88acWtV/RN+5SIdpAGt5p2Ypo1+I/zjE2EGbLvl/luOlM5Qf54UWNnOZ7bzHvbH7Qp0/tBOsrhszgHZlbuW+ZBn+Gm1D7Ze8t34tUhaxzClMubT8eMXDkVOHJan6BPECD5fIvy31moy0Ed2MsB7dl/YW5sc/AubogJTiDiE00+A+R3vHGVld5v/A3tM2SOdRizfMJowdXRCg++TXdxoSs+F/gEz42DN5YXejdP0kZrn+X/uxaaJbvsfua0mOzy8fGfPQU+OGDne3EOX+E7ZRyoMKGFAYVJjsDpbnwbzLfD+CDPk0GezUDDPz3fmYfrlZPyDRQCr2x8z0vAexruNWMhm7KtHBJFFHXw0aGLfftsWph7J8gEN7GrVq7RhHGTzNVpTupoWURk3zzjfczyzwGAIgzwfTWf8OWoXNeG7K5B2/iuO+ZNL7u0uRUf0Btgx+MfHvNytU3Z1NPxCYf98G08h6DgFfFty2bzJM5nAE/rP8m+h8fpTixkU/bblmGkCRwK2cl2Aa3c+wgjCJ6MGReX6ZohOxiH7/8zxb9rvf7s+zHChG/+bGbuvXBef3Dvkr/t9Q+y8o8+bwq8d2BHc8DZCu40ObiDQ2AaN2xqwI7HMwIOMPA0xqEueBPD+1f+734w39g4xMCTGdoHrlrx3MUpapz9jBCA0xpOhOLULTzNmVacIfPARXl4wcJxCk5WOBAEl6/448bTGRMjGggnTKGpuYkHj27U7YfvfzKvWqZNpUXM6xv+4zl8wx0mQlpOAiNfBBEXmKR/+bmoufvEUQxez/Cghpc4PHgR8MbH+xziwuQOsLid4YAavredVzvcndJ23OjSdgKeytCGcIeLD3MCjnkKF/rFHOugzeHQBpe0BA5n6dd3oLCa4OyFg21wWcvxnbg2xc86Hv7w3452RsCzHT68+/bpb+U5AMGRCD76cV1KnfE817NHb2sT3u3wcY7jHOgK+OAkCCDDyQkH2XBoCZ7UChf6OeYNzgoMjjjlhDI0TywdOPCBxnioI+DQhneL/lrCPKsRx2EinABW8rcy5qCGzwHhC/gPJy3wEM5Tunbpbg5eOPGME/kQivCYhhta6odXPhzG4AWRUwPLlC5nbladZQKPhhzOwul4uPc17T496jqZEwDhXwJljhs7wQCXfsLdKvQlILTgeAef/NCbU+c48Q/a4DoZvsALIXzOGQg4YqIcnDGVLlnWDh3CBz505zAd04Yt52jejDHc1eJmGd5DCMORDYcn4fOAdkMXziGA/wiMEWiIdYwzCvBGhx99aA1dcFuMsyPu8RsP/fCuh4Vg0IAh5pGOo27pr6FDhpu3PFzR4qgJWkArxht8huMhN9b+8mtAp8yXt0Xa7NJlzi3bX9m9nl18thn5B587Bd4vsKN4ZkT9auM+k5O58A3OhMYkxuR86uQZffP1dzZB43KSCZizyJnMcdGJFysmGDxvMcktXbLcPFqVKV3e8uDQFyYdvHrhY57Jijw55ASPYrjlbNO6nQkS3+bLb5MXB4xwRCoTKJ6vAHoD1GCAcRoYZ73jj5tDVDipDW2Fo1Pxq45TFSZpPG1xMAee4ZgsaR/t5Q+f5Lgf5RhX/IMzEeJCljzR3vGQxwQ5ZNAw83jGEazUiwmXgMMZ3JriexzrBhM6gI6XO4Qg8mEiXrF8VUxjB/xxW8oJZwAtvtmhS4EfC5lfe9zQcugLtBw+bJR5N+MUNzyycdAM/QKI0Af4F8dvPu5OmfQ5BpW2ukNMEKqcxo7nMN7lDHfyoq6Y0RE4AA7cA9P/gAJ0QggBfMgfj2MILLbcQMMzZIezEAcNAVrAl/aSL14J8c0OyEB/jjTdt/eA/uP//af15dw58+3AG/zq2wE0qelGSwQkvgFHeMTtL/z3Q/4CsXsAHMc/gBp+Bag3fIHbXbzjQQ8EI9zm4g8dQQD3qwT6m3rjzhVhBtrAh7hAhv+6dO5mPI0AyW/+ihT6xdwMk7+1Z/V682BHuRzFSvsBVbzMMWawInC6G8IG/gsQvgBsXMNmBfZ//uNfZokhLYcu4Y4XXuP0OTziwQccPIPZHxe2uHKFFow1eOj77340fkf44B5Pb7h8xaMdhzK1aN7K+oPDmuAfhEQEXvoGL3yc4gcfTJk8zQ5vwfMg7n7pTyxheAr8ywHdgaf1WNZ/7uGfvWbNL5vfOc0+m2x8tKfAewV2JjhcShYrWsJM6nQHh5Hg55rJGJ/QHEmJT3QCEwDr25j3mGAxw+OylAmNyRTAsRCRudbEjzmHuaDVE9CmMAky0WFeZjLGdzcnWeGClIkat5Vo6WjdADKABtDY5BwMPI7uxJ83zmTQaPF3jvtPJtRRI8eYFo52hm96Tm4D1PBBHjvxjHwk09gARCZ9hBI7KCZDtgSBC1x8bHPaHOZsANQOTAne5X38vQMyTKx2MhjfeWfI3HVCN3deuzPFjxk9PnpYTrR4Aw98d6Nxo+EhIAFquIkFEGzCHzrCBCDohr91AoIMmr07SAQwR9vCVzsmY5uUTcvbYxYRNE6cpxDoD0CUc8cBAACMPuUeLR+wxaoyYvgo08LxO4+/c7fOTx4IZBxpC83ZhwGIc3zsV//6xp5hHcEqAVjhAhUe+9cXX1lfoxE+uPfIBCfKot60E8EKV8QcpAJIogFDA1zHwm/4Micdvs1xFwxf2BKFZEsCgwcNNasTFiKEQIRHNHfedQELA21HQ4XvEN6w1OAPHX/2HAyEVQFzP3VzAa0b4Q93t5yNgNUFr4IEaIYlCNe/HLNL32CZIn9M8PGAvX276ME78ApWC+cHn1MU4XN4KiroPDfrxr/++ZXVifLOnb1g1ireRRBDy+cwJOqI73eEcTs0iMN+Ll0zwYH2IohAU2jw9Vf5TFhhGQr30fALVjongJjwGoy1vxzgHdEzXd+1Mpkyy/5HTovJPif/5DOnwHsFdmiPVsBk4I5NnTVjjk2iaHSYoJHqMVEjBBAwHQOoAAPHanLeOac9YeLkuEYCEwgaEX6zB/QfbJM9E9HsWfNMK0HTQZtC20GbYPJDQ0NjMgAPzNju5DY0ifAEw5o+gEgch8IwKTO5sZyAT3a0bEAXMzP+1dGq8ePt3M9GKxk1lbMOTkAjxDzPZAn4Ya5GE0QLJ08OpsEaYYflBFiBho8LWjR22m40ikTbyQSPiRdLAvsRABzMuO6IVYCAg17w6Y5wggUCOnOMJ6e1YREBYBE8oC3a17atO4221AXNkQN3Nm3cYsIEZmwOPnGbp+gDtG2EM8zWmM4BIICJuqLd0bbRI8eaMEUfYEmg7QRMtPQN4IyGiU95FwA4fPRTFiZvhA60R06Qg28AcwQjhKt/ffG1CX2AMOZrhKR6dRuahgwYJb9IM0GmYIHCtiES8zb+2OEDlggAaGiF8Ed/whNYLQB2eI/Asgj1xDyNtu3AEf6lP+ETwIp4eIwDf6pWrm4bG8uWLm/1BKwROjhsBX7BTO+EAixNnBSIz3U0aSwgnKEOjRF2McFDH85bR6DDaoOwYMDetGUMMKkrZn7M3hYismUfBCUsVM6dMe1jmYrNl7QNkKcOCFIIN+59gBghCn5BqEYoxxKGZk+gD7Ee0e8sERG4R4DF+takcTOjB/Hkb8s7WfbUhMfdX3Jvtcz6L6eImzV91vyy+Z31tTf9ziYbH+0p8N6BncHKeh/mvksXrxqgMOCZ1DnpDNPgV4HGh1mZtW0mOTQ0TJ+4HEUwYNJl3RbAYGJi/ZA8mNyZ6MLADugzCXNKFdYA7jEThoEdUANQWHePhWCgxYA9A8vAfDOlAnJMcGi7rFOi+bJxjTzREDlRDjA0TScwp48dM8GAAhMw7zhgZ9MgwsfwYSNtzRezMe2mbTa5BRUC2Fn/5hAUBAMOagHAAFMOchk2dKQd1+mAnfVRTrlDk+LIWJYe0KaYbNGq0RTRUNEaAQjKoox4wI7ZlmM3OXENwGFZAZo7YAfIMLd27NDZNFi00RHDR9vRnmjH7IfASkAcAglmd9aZORGOgKUCwYA6c7od9HBAhwbOkgLWFZYtMPmzzMGeA86dB9QAePgJUzHt//GHgmZGZi2fk9Gw9hQvVtJONUMo44hTy688Rz3mHNihEwIYgA3/cTIgJ9M5YKdNADtLO9AdoRJg5hxxeIcDWuAZ+tABu/V1RvQIVUzY8ChLS2jU0JoTA1lSgbbwBvTjjPsZ02dbvyBsYSJ3mjB1ANi/+epbsy4hJLOGz54BBDjGFMCNKR4BC80bgQeLCUsUCMYc8ML57vQtVi6WyWgvy12LFy1Vr559bSmKtXTM8gjWWFWwIGDGZ9kG/qRv2IOB8MSYwEpHfel/hFpr+5uALS+eG/dl/feuBWXNL5vfOS0mm2x8tKfAewV2JjYCJkA22rCuyo5dtHQAm003TIZoKDxjonDHn6IxY65kUueYVyYCJm00KiYLJhnyR+Ow3eYRTinaZRvvAAbyIx1aIxMap2oxyTLJuIAWcfTIiVdgGgw8QJHJlTKZqFn7BhDR2JkU0b6Y4AB0TMmY1NEU3W5qa3dEOnvmfMy0y9oy56DzjPayxMCECMjzlQDavm38ow5BYBJkExiBNWY0KdLSJrQ1TsNDMOLoWUzhxHEuN2ZvgMdOdUuXaWLQ+sb123pw/5FtpmMSpn1YCZjMqRMHjNAfnBjHBieOxmXpgSUCtDW0NrRbF6A7lgICQgtCFu9QPzR0rACcIkae1IU1f2hGuZyOxmTPMgZmebNUBJ9tIQjQN+SJhYF+RJMFnNDe2RAGoKGR06eYxhHmWK4g3tZw+bJiwhTbF0Hb0cAxy6N5I+zAB1g9AFziSYsAhCCHJoqlhr0IBCwItBMBC42bzX8s1wBmtI32EOhbtGCWMNzmQwQhNiBSV/oYEObkNta/nUkaKwDmc3gOAYg0CADwGnVHmEQ4JN+mTVpo+NCRJpBF17Gnx/ZlUAe0aY5jZexAX/iBQN0RYhFEsaLweSSWGTaREmgz+wYuBJs0ORqV8hFmEF5Y1mKJgiUTBEr2npBfzBI3c46Z7RHAsRxhIaLfEL6hCXtNoDn5WZk5BbncSm+tzfrvXTPPml82v3NaTDbZ+GhPgfcK7Dbh5ZSZ35CeiZR1x5imFCc9EyaTvTNdZ60HkxqTC+Zo1sVjIU5e4XeZpE07CqVjouMvU1nBZioTIt5wT13d35vS03b358AkVvdAY3TP33QNtyvePSDF5jSEFvY3sOfB7eaH9uT/R8GEmyANx+cChAhuBNuABw35djs4DjaWF2ctv5RWLF9tZ8ETTxq+GOAvVm5EZj2w35jCX8o0ckDaBZ4h7BivvIqOAnGoD+O1P2scefHJFsDI8gsaPOe+W7pw3q7wrFfSuL+sz7L+dulCV+jp+IR795e1nmRFe6FZJtraGdZBHG2PF+xwodumzVOWC0ZjeC9UbuyeOsahpRsXvIt1huWEeOn+8jjXqEzXOA3IUcUyZZb9j5wWk31O/slnToFPDthdfzKx2EQZZ7CEJ6V44xMtDU3ZzoQPTWDx0maKixUemsxcHNfsJr94E2IQF84/Nllmkz5cVNz7OLQI55/TewQZNGLAjL0CnGEfC0zoWUO4/OAZfcFZ3GzGA2T/MPB+ENB4MT9n6kv3MHwNnwRHvAOacJqsdQ3X823vA8DEesO6/5RJ00yLBjzfWEdXL+qRtS7herp7ly58dc8Cy4DjlVifhngvFve2bQvS0Q42Om7auDUqDAVlxYp+2/xiL0Sd7rAXJCbMvW0eeZUuVLdXt+9a2Kuc/vAup8X8YWb+4edMgU8W2N84eblez2YwmRbiQIG02aTL83hXz7epQzhtvPvcbEMof6PV29QvXL57H3BydOa5Cy5tdr95LXjXJXntmjUPErg4d3Vx4Zfds5xcQ/lkqteb6ujKDZfl4rK7htP+mftwvuH3s4t3acLPuSc+HFy6nFzJBuE5J+/kZdpwe2L371pgLCN/4ynwl1Dg0wP2dx2D/v0PZ5L1feH74q/mgbjT7rtWIm6mPtJTIM8o4IH9Xcesf9+Dj+eBT4cH4k6179rBcTP1kZ4CeUYBD+zvOmb9+5/OpO770vdl3Kn2XRkjbqY+0lMgzyjggf1dx6x/34OB54FPhwfiTrXv2sFxM/WRngJ5RgEP7O86Zv37n86k7vvS92XcqfZdGSNupj7SUyDPKOCB/V3HrH/fg4HngU+HB+JOtXnRwXEL8pGeArlCAQ/seTFmfZ6fzkTv+/Lz6su402peMEHcgnykp0CuUMADe16MWZ/n5wUGvr8/nf6OO63mRQfHLchHegrkCgU8sOfFmPV5fjoTve/Lz6sv406recEEcQvykZ4CuUIBD+x5MWZ9np8XGPj+/nT6O+60mhcdHLcgH+kpkCsU8MCeF2PW5/npTPS+Lz+vvow7reYFE8QtyEd6CuQKBTyw58WY9Xl+XmDg+/vT6e+402pedHDcgnykp0CuUMADe16MWZ/npzPR+778vPoy7rSaF0wQtyAf6SmQKxT4vIAdknHaFiEvxmooz9iJZ668oNjHjxJ0++ZdK3/b1h06e/p89Az14HhYO+nK1c9dg3w5R5szxwmpydFzxN3vWLs4zzyFc11Jy4vS0yeJ2rVjj8JnkduDUH1Jf+bUOW3dsj36yJ24Zb+iJ6nZueXBb3dxJ5ktWbRUd+/cf/UuJHZtd+W4l4Jnru7Jz1M1cfxkq6N75/mzZB07csL66/ChY+KPOmY6QzzIL3Ysaug8+hvXb+nQgSNx07syjAc4z/1llE5kZ20M1ze45x2OlV29am2sFY4ernzSXLp4Vckv0qJHtQbZ8jxrvy6cv1g3b9yxvGL1UbTPyDccZ/XK0h/0tzu6NlYh6Mq57Jx+69oQ1CGcxt0nPn2mK5eu2c9TJ87owvnLURqHTs91fZQpv3De4T4Jzr13+adz7nuItrSJ31yNJkF/kQ5+pg6EkydO68C+Q8aPO3fscdlF25SFrxydjOfhN1e3UDqjPc+C8l9lGL0zmtFHGdLS35cqLZUOCPKSdPXKFSUlJljiDevXKf1lWpBFxO4jGVFGJ97duw58mZZqGUUck1CN9JexdFZW1grxO9Rv9+7e084dO5X4NFGbN21WJIPjEGNViN6431nyOnf2nB4+eBiLzUh3gzIWZTfkmfEy8zPSpr+MziUutaUjD1ee0TRDp0+d1qQJk3Rg/wEtXrTEJY+l2793v06eOBmLz1oP148kcM+snTYmstYhM31imfqbGAU+G2BnsktMeK6VK1brwf1HRgAbazBoLv+lpWbYBMvV5W2AFJHWr92oWTPnWvnduvTQgvmLbA4IT8jU9bXJORhINgAyjz8DLyZMgNwmsSCt5SEZ4DqQo82xdjs2CNq/dMly9end75XwY4MsRB9ug8nYBIngPYCswI+FdOTQsZgwwWRN22NlBUezWv2CfCie36tXrtXQISOU8DTJakQZ589e1E8FChkdJoyfpDGjx8XqRZ4IKS4vK8eBWVDnkyfOaNjQka6Fma8OgFxbgneg12v0DdE9KeG5GjVsYvSOKyRJatWijR49eBIrz/LjV0Aro0eGVKZUOQMynsMbmdoT0IXXrE6B0OcyBWzJ58XzFBM0YnRwCdz7jk+CsmOPA4BDiOvcqatFz5+3SIsWLInVM5YWwcedKe/yCV1j/Rt+gfsw4Ae/nfBJffkjX9oPqF+8cFm//lLMcqHvDx86qkULf1ffPv2jZ7WbABbQMWify8f43PVlqG7kn5L8CqSNTqQLyobmxqdB3REma9WspYf3H0bpEMS3aN5ce3bvsl+NGzVUWmpKAM6uYyL2O8o80ZcAchMAYgwQZEbdjWjR3wZi1DlLiKSTZ7QDD+4/qIEDBurRw8fasW1HlpShnyYwZSgtNS1W/2VLl2nfnn16mfrS/jKCfNMB8VC5L9OibXFg6vg1CuQRyxPg5/2sgbyg24J5C3Tr5i2tWb3G8ra8bA7I0LAhwzRzxszMwkMoK8hkdQzqEa4b9+45ZWdHs6z1+px/f9TAbgOV3otITx8n6uGDx1FmhWGy/KW8SFPCkyR1aNdJmzdtsz534GNZZJ0E3fsu3nGJ+81z7rkGIesk16B+I82eNc891rUrN1S2TAX9VryUFi9aqq6du6tWjTqqVbOOypYur4P7D5u2PaD/YNWr00CNGzXV6VNnY+9z07plW5uM69VtqKaNm6tXzz6qU6ueqlWtKawBAFrVKtVVu2Zd1axR2ywC585e1LgxEwwsGzVsqubNWql82YqZJ/KIhNZdrOhvatK4uWpWr61ZM+dY2YcOHlHdOg1Uu1Y9A66rV65bu7t366U6teupWdMW+uarb61N5cpWEJogYcTw0dYm+xGRkhJfaMTwUapTu75q1ayr2bPmat/eAypZorR4D+HD6Jkha+Pf/uvvGj1yrCZOmKJyZSqoft2GqlC+srZv26nnSckaOXy0xQtD9QAAIABJREFUGtZvLGhBnAtMAkePnFCZ0uVUu1Zdq+PgQcNMk960YYvRHJp16dxdCF8IW+3bdbR6Dx08XKNHjTVBA/qSd7UqNfT7kuUGEg3qN7ZioGn1qjXVoF4jo9XxY6eEoJb/2x9Ev8NvNqdnSEsWL7U86taurw7tO+vpkyT9XPhXe7dG9Vpq1rSlAfXFC1esjdStcqVqOnr4uEaNHKvJk6Yar/Xo3lurVq4xHmnZvLW2bdmhpk2a68njRLVr00Hdu/Y0XmrWpIUePXxqlqGO7Ttb/Zo2aWFXB670ITzyU4HC+n3xMs2ft9D6hb6BN6BTWmq6evfqa+mgBVq0tSkYG9ev3rRn8AX1ad2qrR4/fGptRLgBONu366STx09bftWq1rD0VavU0JPHCRo3dqL1M7xG39Lfw4eO1PKlKzVh3CQtXvi7aDNh5vTZatigiY0LBMF7dx7YWKAPoJdZG0gY1G3H9l3WPzVr1DH6IgxNnzpTfXr1s3FVoVwl7d61T8+SXhgfwMdNGjfTTwV+0r0796xM2rp82XJ99+23Kl+urJ4lJapM6VJq1LCBKpQvr04dOhh4b960UQ3q1xOgP2L4ML14/iyQECO6fu2qWrdqqVYtW6hSxQqaNHGCmjZprHJly2jB/IWmfS9ZtERNGjdR3Tp1tWjhYovbvHGzgWXDBo1Uu1Yd9evTT5cvXtagAYP0/Nlz9erRS1WrVFXlSpU1d/ZcHTxwSHVq11HHDh1V8rdSmjxpsvXVnl17dObUGT168EjNm7VQrZq17Z0d2zMLCFu3bFOTRk1Uu2ZtderYSakpqTp75qxq1qhp9aKskydO6drV66pdq7batWmnShUqaeKEidq0cZO+y/edlc99/Xr1DcBnzZylalWrqWGDhir1WynNmT1Xjx4+UpvWbdW4UWOLP3n8pFlJmjdrrpYtWqp8ufLatXOXEBbmzZmnqpVpYxX169tPL9NeavGixWrUEJrU1ry5r+ZW6zD/L0aBjxrYXSuY4CqWr2xgsXvX3tjgdoOcK6CLBD9zxmx16dRNLZq10ry5C5Sakm6T+6wZc2wiADhv3bhjmlKTRs3Uu1c/7dm1T40aNNGGdZt05/Z9tWndzoB42JARNoFTD94HXAHVPbv3WdUuX7yqh/dfCRtMFAD6+HETlZjwTJ06dFHzpi315FGCVixfrRHDRmnj+s0a0G+QTf6bNm7Rt/m+z2RCZyIbNWKMkhKfi0l70sSpZoEAfACoyZOmaca0WTbBkg9a+KmTZzWw/2AdP3ZS1avVsvSbNm7VD/kLRLXeYDKcPXOu0ZEJ+/KlqypdsqyOHD5uQAiNAdM5s+apb+/+Jhx17tTNykEg+d//+adN/IDpurUbDYgAXaeFQ5D9ew8a0GKyv3b1pkoUL6WDBw4bPWbOmGN94awM+/Yc0FdffmOgxSSPkANYLP19hQlETMrt2nbQ/bsPdeL4aZUqWcYEO3s/ArAfV6WKVYz+t2/d0/ff/agF8xYp3zf5tW/vQaM/oAFIsBRQtXJ10d+VKlYVmnm3rj0NeOlvgAmBAsEEjZ2AgLhwwRJr/8rlqw1kWGIBGC9dvGL8A5igMQLStI/6wzN3b99XkcK/mCD1+NFTAcQIT+SJlgrwI3wClkcOH7PnyS9S9X3+H41n7ty+Z0B488Zt4zfypf0H9h/WwwdPVKxoCR06eFTduvbQ2DHjjS6UX/CnwjFhAy15zer1Ng7oV0AUvgYwp0+bJQQOaFOjWi1r47kzFwwg4WETqCNSn979rT9oA31eqUIVcQ+Y0sekhd/oqx7de1mdoC3C7d49B9SzR28TCu/eeaC9e/brf/72Dz1LStaSxcuEgPX7kmXq3bOvEKIQgB/ce2TCDoLH9m271KJ5KyU8fWaC09o1661f3Jhv1bKNtmzeZvyHQHD/3iMTbhG+yGfM6PFGS8CefkfQOHb0hL7P/72ePH5imikaJ6boWjVravWqVZZ/8WJFdfXKZV26eEFf/usLHT50UL+VKK4Tx4/p7p3batO6lY4dPWJp0cyvXL6sCuXL6c7tW1q/bq2++fornT51UjeuX1eL5i0NpBvWb6g7t+7oyuWrKlywsHZu36nChQpr7+69BoTDhw5Xn159dOHcBXXp3EX37903oEtKSNLqVav1U4GC2r1rt7784kudOX1WN67fVL069Szv1BQEzIg9r1iholkjNqzfqCmTp0TpxdJdappKFC+hLZu36O6du+rRvaelb9+2vRbMX6Cnj59q2dLlat+uvc6fPa8ypcuYZr571x79+vOvRiPitm/drgP7D6pCuQo6fuyECv5UUJcvXdbd23dVs0YtzZo5WxPGTdCQQUP09MlTM9u3bdNWo0aOUtMmTfXg/gOtWL7CBItLFy+rWNFi1paHDx6Z4LNm1RoV/aWobly/oSuXr5jQ4QTVWGP8jVHg4wZ2TDTpsokTaf/f/u+/RyfeAKjcIOcKqBOYtBo3bKoTx06ZlrP09+XatnWnTZ5MXkzSaFxMfDu27TLtlcGPxvD8WYpatmitwYOGauf23apSubpNKmhnTDInjp8yDfMgmmc2YcP6zVYH6sTE6zT6q1duGKAPGjBE5cpWVMsWbUwj/+XnolHhAGUkQzbBAfgEtA80dEKrlm1tciUfNFyeoX0zYTtgP3b0pHr16GPpmSz/9cXXdu/oBGg70yxxaKOTJ05V6VJlDahIfO/uQ6MJgsKc2fOj70v65uvvbB18+9adBrzQp3PHrjG6k3DZ7ytM6HAvAZ4IDHNmz9PiRb9HBbLA/ExfINSgUWNtQJgBtDH3A4Bz5yxQ6VLl1KZ1e7Vt3d6AmfXiMLD36zPA8oRuPbr1MmsDwO7CiuWrjE78Rjj5j3//T61ds8EesySBkETARAvAXTh/ycCWOLREAnlTJrzAmjeCIVprzNoaibabPkU4gcYvnqWYBYJ+ISAobdm83QRTnrmAZstvtFnM5ghKCCsIPVgyEGoQJAF26oMFivpg7dm1c69+K1FKaK6Evbv3q3DBn2P9SP/Ci4A59Yf+ACoBzfy3EqU1cMAQ/fpzMQNf2oXwQ6AMAkLOi+ep0T6OKC6wQxcsMfwNGjhEnTp20bf58mv3zr0G7FgKCOfOXtBX//rG7ufNWfAK2Hv1NcsSQgn9jBBU9NfixgfQA20fIeDsmfOZBHqEWJZvGGMFfihoYwgwZ0wTtm7eLqwYWGoY2wTr5+o1bE06HZNwYJGrX6+utm7ZbA1H28YUj5m94E8FtGTxIv34w/dq0byZWrZorsqVKmrtmtVShGWGKLB37NDe8j965LC++zZfUNYzNWvSTKyBFypYSC2at1DL5i1N2x43dpyK/lrU0mF2RoN1wA64vnj2QvPnzTdwr1almvJ9nU9bt2w1cDZT+8sMA0JM2y6gKbdu1Vo1q9dU927ddfzYcXtEXyIoFCn8sx4/ii4h0fbU5FTVrV3XvR4VcGrUsvdatWillORUA1cEkJTkFFWqWElHDh/R0SPHVK5MOa1csdIsA9FCpIH9B1qdsQagxTdv2lxNGzc1QB89aoyBO2kPHTykdm3bae+evWYVMHM+DyIyIebrL79W29ZtTbsvXaq01T1WSX8To8BHDexuIw6T9tdf5TNzMGu1DqgyXYPJCGBHKyIwiWM+ROtl7d0FJlImTYQBJhMAEqBB+6xcsaqBHZMBgHNg/yEzWa5YtsomGEyj6wCHYMJn4PBnFoOXEQHKbiLBdIpWQgBo0bCnTJ5umvudW/dM+Bg8cGimDUhMrkxK5Nm/30BLw/us7ZIXpuIF8xebVsKE5zR2zPunT55V/74DjT4Xz1/Wd/m+jzY5EITQaBs2aGzCEoINbUUrZZkA8IAeZ06fMyGGNmBhABQwBf/Xf/7N1kX5jRUCoLGNeAHd6YuNGzZr4IDBVib7ARCgsLBgRXETfLRCMnp//dW39nPC+MlGa4ALbbtd247Wd6y/Yl3BwoC5Gk3XTcYIV5inscgQalSvbeu1X3+ZzywPpEOoog0IZpjDMZVjEYGvAFsEDwIabYXylUybRbtDE6fubq8G2iCaOnsNAB60UhfIGz67cf22CX4ICIBaxQqVY5vF0EoRLuk7twHxwf3HBvRo6v36DjSBAZM5vIk5f9fOPdYnVSpVs82R1MsFBDKsTFhxMGvDe9ShYIHC0bERJFy3doPatGpncQhKpIWvEBwQCrCUAOhmwbl4VXNnz4+BOpvVWjRvrRvXbllumP7ZNwAvIGxglWDpq2KFKtq4YYvKl6tkvIoFBLCnf+BFhCsCGzedoAkvIOAypqDN2tXrjZ8oiyWEaVNn6szp8/YOgiwCSJXK1awd1J+9NPm+/s7GIRaI+vUaGa1oD0IL9GAMsSyF1YH3CUkJz1SmVBkzW6Op28YxBKW6dbR921ZL07BBfb1MTbXNbz98n99AvFjRX3Xt6hXdunlDq1au0JnTp5SakmzpL1+6qG5du9gaPFo9QgAh4ckTtWndRg/uPTCz8u1bt3X1ylWNGjla27ZuU6GfCinhaYK1CU3VgP38BTO179u7T61btbH0aN/ffP2NvYMZ2wEhoJnwJLrhj/Ju3ripY0eP6+b1m5oxfaaBKxo/ITEhUT/+UEBXr1yz8mbPmq39+/arbp16RgvW1rFisFTABjgEhLSUNN2+eduWLqB5xfIVTUs/fRLrVgVt3bxVxYsWNwEB4aRj+45mOsekPmf2HNPEL164pIULFlqbR48abWvnlNumVRsTEqpXqx70aUQjR4y094sULqJrV67ZHxYA209grfD/whT4qIHdGhKsr2NWZ0LArJoJ0APQYr0QYML8CjiuWbXONPfNG7faRIZ2hDlv5IgxJuVj4ps6ZbqZ7VkHZk0O0zpaICCJRoomD9BgPmTy2L/voE2GY0aNszqgDbBubWATUJ1dvkzC7PhGo3VaL2vpTHQAOuvZWA5YP2edOhww9zuNnXqcPXPBHrNujkaMCZLJkIm6eNHfzPR7/twlWytlUxKCAgFzcYEfC0azDgH7D98XMK0SYQfQQGNEQEAzQqPD3Lp+3SYTfDAxs348aOBQ/fd//d2EHDKkDEzf0Du8D+LK5euWJxMsQkn1ajUFgKGhLVywOFqX4P/Vy9fNNItJms1zo6GpZEsDmOCZ0FkjZvmAvDphHXA7sCMy68FXX+YzrRvtFs0TYAAYWcJgVzptuXzpmi1hAEYIbmjVTPRoekUK/WLWBKwFbdt0sM1qtsYekb2PeX7+3IUGKtALvuN90/SjBiJbRkEQ6dmjjy3lwHtYHUoUK2nCC22Cp9CsEcgwM2NlQTOfOGGytZnlGSxS8N/UydP1c5FfTaCJauzR9Wq39s8LrBXzFcSe3ftNoGFcYMou9FMRy8/9Yw0fqwdWHzbOITjAqzt37DaLAn1QqmRZzZg+W6NGjtGQwcMybTZbvmyVmdXhC4QiwJv9FQjD8AzCFgI3Vhl4CcEAOlEPBE6Wudi7QLh1847++Y8vtXnTVhtXQ4cMNxpjecIqQP2nTJ6msWMmmJUFsznADH+wtIaQbCGC5p1iVgH4BgsJ5VEH+I5lMgQzxhB7Qxg/CCQzps/S0MHD9MU/v3i1eS7oQ8zrPbp3Mw0czRzQRhvP/923On/urDp36qhOHTto8aKFtn5++9ZNe45WD+B37dLZpPtDBw/YO9QzJfmFgTP3aOuTJ062dXHWtF88f6H27ToYgLJLv1TJUurdq7cuXbikzp06m7m7Qb0GWrVytVib/urLr7Vo4SIVL1Y8SgPLM2rmdxHH0KTLltOqlas0ZPAQsw6YVSJI0LVLV9PkMb0D4MkvkjV75mxhvmcvABo5a+ZXLl0RGjtgf/3aDf1c+GfLoXLFyqbNs2ZeulQZW6OvUqmKhg0dbpo6Zvn5c+eLNf9iRYvbRjuWFSZNnKypU6Zq7Jixlg/LD5jnEWqoB5sGx48db2Z3TPW1atTSqBGjNH3adHXu1MU1z1+zUOCjB/aYyTNoWGxDXABWDuSZ9DHrMrCZ0DBDMqG5eMyimEMBarQP1kYBajR11sCJ5xMqBAfWillTJB+0OeqAhoRGiiZlwkVg3r15/bZSktNimqS9v++grly+ZjuBb/Hpm2kLz4UWjcaLSRltl/VnNE7irB2Yqg4cMe2Dd9iMh0ZIQINhfZX1StbaqSOaFiCCiRhQRZOhXCRs2sfap1svJX+0LMz1aJRbNm0Ta9M8R3vHVM2GKrR+NFPiEQ7Yd8Cz/fsOWTnUBU14SmDG5rfVn5uIjIa8w6d+rHUSAGn7BNBp90FaaI6Jlc/CADWEM7ThC+cu2Xt8WkY/ov2xedJCMBkD0iyN0A7KQmOmHrwPbYjHtM4GLwAMgYo2USc+revYoYttoMP6ghkbAYT6IxwR6FOEM2gCHzgTOm1B40WocYH1W0zArGkfP3rSvhxgTZ1+IU/a8ejhE8sDWiJsUkfoTp14H6Cm3xA40W7hC6werP9zzydiLvAJJfTgStupP4ITglQ4QAt4DFBFs3XWAjRtgJO6wb+AIvUi3sZXYI6njfAX2i98gdDJZrR7dx/YXhHGD3sEKAdTO/s6yAetm7FHnxhd+XwzJd3aTDriSPPw/mOjDfWgbtCattA2xhw0XLVijdHbjQPSEuAXrBSk4TM6aAYfQT8CNIW3oCn8RN7MDQf2HYhpvZbQviq5o31798S0biNMhLlklwE0m+UO7N+nnTu22/o7n7jZzvdIRM+fJen0yehnXk+fPLZ05Esa1pEBSD5H27N7j3bv3K3HDx9bsc+SnpkJfuOGjTpx7ISuX72u5BcpunD+goEmALhuzTpdvHBRWzZv1ZnTZ3T61JmgahGdOnkq8w72DOnUydNav3a9raVjKbAQzJN8SkcdsBZgPUDzRxs+fOiwpacOKS9SopvqTkeXkDD1o2ETMKEnJSaZUHLk8FHTvh8/emxLBGzM4zk75gnnz12weMz2LCvcuX3XLAr0HZaBC+cvWjv4zI9lCD6Vg0bUCevC9m07jFYAvQ/xKfBxA3vAlDaY/b0NhjylRbDmmKmMEF8x6aN9s8brTLSmtQfLEZaUPD60vwAMQk0Ru+ixpoSFqvDz93qfHa+HhCgEAoAK7R2TNl86YGkx2mf3/jvGN24Y3eBotHnHvDLx2F+ZV9yOzYsKxC3IR3oK5AoFPLDnxZj9zPIERNxEjPbsnO4Qh0bEX8yy8qGBuhNWwsMpQ2btwLqBYOK01HCS93ofj7+oEPEuBPdYnNByWY6hD8ySEO/9XIhjOQkLSF4KD47P8uzq6JfpmgvEea3CmQrwPzwFcpUCHtjzYsx+bnk6lgy+UmAOA0AMzIO4jwXY3bKBW69HKPngQjz+opLEuxC+Jy5oR1gIew1r4uWbkzj7dCpwHJST9z6ktI5+ma55UcFMBfgfngK5SgEP7HkxZj/HPLOwJZqbA3MDR2hC+Bg09qCqH+wlHn9RWUfj4N5AnGhH83CD4uXh48IUCt3nBWFC2ftbT4FcpoAH9rwYs59pnk7LzY5HYwDjgOZDudJfH1OIx1/UP9yO8D2PnPdTly5eHj4uGy7IC8JkU5SP9hTIBQp8PsAOiHAwCmuAbqIL4mImSXsQTJC5NZZdJ2UtK0v+fIITN2RJF6trTuJdxuF3XBzXcHy8+z9K697n6jbJkYcL8fL7EONcfT+Gazz6Ue94dCc6YK1M4P4xtPODqWM8gr9r3AfTOF+RT5ACnw2w86kUE9+lC1fMw1SsL0Pjk4nPPlsKxb0R9N6Qls+u+AQtZo7Okt4EjYjMhSvf6xLwe82nZhaypP8z9cGJC5+3hd/l8yI+CXqbjU58lsWnSXHrQ2Qu1NHn4en4QfBAlMuz/M8LBs9ShP/pKZCLFPhsgN1oFpHGjh4f+xY5DLYAH16x8ECWmxMM3yRzWEq2AErFIjLPanxPjVORxo2a2fe+rs7vWh8cyfA9bzgfvu0tXOiXTHHh57F7Rd2N4mwnFhee54L6x30WTufv49PP0+XDoosNuqz/8qKTspbhf3sK5B4FPhtgd58s4asaZx4cDIF3q+++/cE80OHfG6ck//2f/6PWrdqZ4xk8duFfG3et9+89NAcbeDrD4xVeyzhkAkDDYQu+0wFvfMb/4+9fmKc2PNLhaIaDJ/CxzkEyeEPDO5wBvTuKUrITpsaPm2RuXjmcBacgrs5o9XjQwuMYns04aAMrAPXEdz3+z1euWGPfXOMNrOBPRawcc11r7h4rWxtxp4qHOhz14ML2px+jx6LiaIUT1hAAcKBCwPkMHrk4hQzf7JQTF7xJnBfzns/T0/V98EDcuTUvKhK3IB/pKZArFPhsgN2oFYkekIG/aFyM4mOe73wBXHy+457y22/ym0a/Yf0mO3QD0MOLGm4/cYNZ7NcS5kaVOA6hwGc2YD9t6gxzy4l/cbxn4bYUD3AO2HFXiwMPvifmuFYOSzFApGIcuFK/kYF5/36DrCzA23165eqCly/Av33bjnawCwCORYB6AcKcPsbxmuRNPMCN967ixUpamadPnbODOOrVbWBe0woV/Nnqg3tTvM3xDkfI4okMP/G4pcXTHe5W27aJHmTxGogH9X8tPi/mQp+nB/u85oG402peFBq3IB/pKZArFPhsgN19U43bS46MxA84Rz+iOXMwDIdRsI6Mhk7gcBgAEb/X+BcvUbykHfPKsZuAGICJBoxLWHyyA7qY83ds323AjK90TsxywI4wwQlo+FzHfSUuSVkKsA1NkeipbZw4hw9z/N47jZ7n+JDHQsCBHHgQ44haBJG6dTh4JNXqgs9v6oXb2+nTZtrxqJyihatWDhzBCxmCAnsM/v3f/j+jARYAfOZzOAgHepA//uPxTc5pZBzoQcBHNwKDhaxzHJFZ4/xvT5OPlQeiXJ7lf140JksR/qenQC5S4LMBdgc+ACT+3AF2fFkTz2lRaNescaMFA7icDMaRoPj35gxwDvbgwJP58xbFJm1M1BxKgRaPX2+O+kQQwCc2h35wmAcg3rN7b1u/xwf5ooVL7KQwTnIz8GbOyJD52T518oxpyWjKVl8wM112oAYHu3BK1prV66y++ObmEBT8heMjHlM6mjYnes2bu9DayDID+wY4wAaBgzzZmPevL74y3/YAO77QOXCEfDnti4My8KHNiW6cWkb5HKYB6LM0YPsSYMDwXJcdQ4bT+PvMNPP0+DDpEZeX86Kz4hbkIz0FcoUCHtgDYOc0tevXbtpxjxyowvo5p3dhVp82ZYaBG0DN0aYO3DDjs2bOyViEUiXL2Fo4B4WUK1PBTsXiYBg2z5GGtXaO+uQkKjajxfyQ/wGwky/r5xwdi2BAXRAUcHfKiVqsvztg5xAZLAIc3DF2zHjTxPHZztna7Au4dvWmWRM4XY4DUgoVLGIa/g/f/2TCCEeo1qldzw69wbLBYS4njp9Wqd/KqH27TnZQCoILB6Z4YM8i3OTF3O/zzMxnfwU94k6reVFw3IJ8pKdArlDgswP2iROm2Clqw4aOtFPUAKhdO/fq+LFTdlIaR2VOHD/ZTmhjIxpaOEeGhk8+c5TnZDfO82aTHIGTrFhbZ+2ew1C4cn45QsPTJ4my4z9bt7dz1zGZW2DOyJCt42M2x4rAyV4GnDxKl63jY6IH0DkS9vq1Wwa+bI5DOOBzNOJfPE+x3fVYElj3Jw4/4bQZoCd+yKBhthbPkZ8cdEKgPNb9OQb28MGjpqVfvHDZlgAoc/zYiWZp4LxzLA12Clh4rou2JPP/8HN//9cDlKf5n6N5Zi4OfuUFMeMW5CM9BXKFAp8dsGfSNHNzvGbITNVspotbBt2VET0C1e12z7YH/2S9EALQ4N238VnrwXq8PQscliAUYGonndU7VCFb/3cOZ0jP35+sl3/P0+6j4YHQGHh1mxeM/yp3f+cpkNsU8MCeS2PWgPBt3HZm7cFcKp+JM2bap4x4+QbxBu7hepA2APtYtAPz8DVenj4uPq09XT5OusQGQPgmLzoznL+/9xTIXQp4YM/tMUv/vCnPcB++KW1On7u8473nnmUFcZfWPefq4vzV0+Jz4oHwGIjd5wUBYpn7G0+BXKeAB/a8GLM+Tw+Gngc+Th6IO8XmRWfGLchHegrkCgU8sOfFmPV5fpyTuu83329xp9W8YIy4BflIT4FcoYAH9rwYs7mRJ92b03zcO8FueuOQnOYRpLf1ejLAbO/ysAxf/XOf/b2KyXLn3suLa7iocP7h+PB9OE1e30O2l+HCQzT8s2VnyS62T+LP5ufeC+cbxKWnRaKbKnlGnLu6dz7la9DczJe8aHDmEvwvT4HcpIAH9rwYs++aJ/NpRvQzthiovk2ecEZE5m0uBrpv816cNAATR8k6j32xCT7gPnbY85mdBd6X7BM8rsRb+XHyzVF73vB+rG4UGqR1u/wp3060s5q9eu7S5dUVuvAH/TJ9afCGtryxPkE7Ul6k2bkD+Pt3bX3ju39QdnJwoqBl79I5mmXIfCRASxNU3PNP+eranumaFw3OVID/4SmQqxT4dIA9TJbsxiFp3LOs6cPPSBP6jftXfLe7OACFQ2Fiebk8I4FnNrc5LUs+cdMHn5u5vC2NpIQnSWrapMWrMqKlR39z78rMEv/kcYJq1ayrRw+j9bUJOVwf91746rRyd5V09vT5mLc6VydXFNdxYyea69vYp3WSOnXoosSEZ8JHwMMHjzPX1dU56zVMoz965upLmgyZL4IduATOYp3g4J6rV64rKeG5OrTvbL4Joomy0MzlFy7fxfGCu+caokumeJfOCoi+s37dJo0aOUYHDxzW1MnT3ZNofi4flzdPiSO4OK7udzi9ZAf04OVw5IjR9l4mYHfvuHzcb8ss+Bd+FkTVqV3fnBTZzyzPESI4BCjx6bNoavc8fOUJv13I+oz4cNyHfu/a4a+eAh8xBT4NYHcd4CYYJsSsf+FnLj1XB8bcBiCbSduVdPTIcTvwxUBS0qMHT9S3T/9wLtF7NBs+Y3efvbnozfrZAAAgAElEQVRJjKfBBG6aXGrwg2jSZ8icwOA5zpWNtte0SXMtWbRUXbv0kJ3UFrRh4YLF5r1uwfzFplXj2GbH9l2aOWO29u09GHMiM3zYKHNIM2jgEM2aMcfqhc/6Ht17a/iwkeZjHqFl5Igx2rBukwEznvWuXbkhvNPhfQ5XtJxeh5Oazh27aszocXr6OFGTJ07V/LkLoyfQBT7v27XtIAQLnOPgS5+ycJDDyXdDh4zQvbsPjE74xMf//ZTJ0/Xo4ROLW/r7cmvTpAlTolYCYoO+uXjhivr1HahuXXto86at5kGvWZMW5j5365YdMXqvWLZKhX4qYofk4FCoSeNmGjN6vLWL43AJTx4lmOMeHO1wwE8YlBBKlixepmVLV6hXjz7mlnfunPnmvIe2kPb8uYvW98OHjowBXmLCc40cPtq8+vXvN9CAHZ/8HM5Df65auVacKkieOBdCaBs3ZoIWLfzd4rdv25mZXyXzLIjDIA4f4ojde3ce2CFCeEPkwB5HG/jq+LGTRp/Jk6YabxK3d89+9e7VV3169485Yrpw/pL1BW3HfTG8V6VSNRMUcKEMD1gI+OzxowR9m+97E+K6d+tp7pWNXhFp5/bd6tOrn0aNHGt9/eD+Y82eNVfPn6VYP+MUCTfLsfzcWPDXKM95Ong65CEPfNzAHp029P+3dx9unhTV3sD/nfcGlRyXnGHJOWdEco4iKhIkiooEycmA5Cw5iYgEFQRUFAQEr+GaryAz9T6f03V6e2Zn8yzuzFY9z27/pkPF03VCVX+/JtYHvvtw4J5HaHG8Uvf3aBciNuGDXDXBv/3Wu70SMYnx9GCrv//Pf8VES+nxPMGyYjszYQqBgoUdeuwmSLSv7jPBSTzZd3/z27gPlCt0OqFtiWL81etvBpqd9UzpwAMOCqUcf1QjY5+99gs8eApglZVWC+IXSthkDM1u7z33Lddec30o0E03mRn3/uCZ54KURtkUlMl2v30OCBQ8bd585paFAqQ0YMWjf91gvY1Ckd968+1l5x13Lc88/WzcTzFSwmBskcyA2d11lz3KPXffN7FiP+6k6Afoe2+/9ZtgvOPxMU7A31IE2r3pJpsHNC9F/eULv1p++fobwU6HXQ8tLTx+fSrxvLHQQcy747a7yvbb7hjMdhQW/HpKLwF/1BtTHUMG7O1qq64RBsVFX724LLfsijGWO++0WyhBePq77bpnyEGEzEcQ6PymbLThJoEeePFFl5aVV1y1UGhIgvbYfe+4Fz4/LH/KkRFh3JEAgQm+9ZY7ytprrRvlY8VzTuQDJO+tt9weEYSDPnVolLPcMisEn8C3v/Wdsu02O4xR7JQ4hQqpEGLgDtvvHFTDnz751DBW8ARkIst4D75xw7eivHPOPi8MMfLKsEBNzMv/1S9/HXUTTdEfoIP//Ke/xdif8ulTo8+RAb3z1ru9cemd+MTHlwtCJCiMoImff+7FQGpcf72NokxMg0ccflRERg495Ihyz133FURJOAcimlPfvTQI2rGbi1o/tH5YnDIwLRS7EPAKy69cVl5ptWJiC+94vHIf7ZjNNtxgkyB4mbnpFqEYkKBQDhQPKFkTuUndZA8u1t/+rTlj7fLhv0bLP/72z/B+Qa0qBwkLL/yO2+8q11x1XTnpxE+X37zzXnhzRx95bOQLuvUzn/5sTLh40L9w2hnl5u/cVvbcY5/yzPefzTk6PJz0cuRJ2f/1L3+P6xjmhJnVPyBnSwlKVQQuz/3whVD21pR5zJttukUoHIJDWSK+YbBce/X10SYZgp/dZOPNgsmNEuHN8S6165WXXyu8yEsv+Xp4w+qMJIeioPgp6ok8djjyGOFOOP7kMHCwwlGgIhj33fPdYuI/95wLot08YSFrLHKMEErjoq9cHF7jG796q7PmS7dO/shDj0VEgoGxzVbbhUEGg19koE+dfVSOPOLo8qMXf1Lg53/qwIMjH2veKyy/Uhg0yy+7YrnqymsC05+RwhjIhIMec54x+Mff348wNGIdBhGFTEnjABA9QRy0/HIrxu911lqvMwZLib957zzmz5zy2ZCD797/YLnv3gfKMUcfFwRAFPe662xQwPoyHj914CFjZPbOO+4pB+x3YN8HIiyIi1D/8oRjQlDpkRLjydATPUHpu8vOu0X9MfQ9+vDjoey9G1j8Dj7osJBX4/zDHzwfsrz7bnuGocvAZEi+8PyPu7qUUih2XAiMMYnBpa7nnXNBuV7fj0JbHC3C+aIxOBa22Hzrss/e+5e//bXbfxFRrjo2i3Mia3k3RdlkYJYMTG3FDm3twxIh2f/6z4+VT3xs2QhXTqjYKzyqiVkIdr11N4jJ7ZRPfzYm+b332jfCqTxDHi5PyCRvUueV8Vh564QHZrrJLROPkdLk1eFANzG7T/iaF6w+cOPhxf/yF28Ev7nJWjjWNRNtpvzNYOAxx9+jJTxq4fQ111i7wHGXeG5BDvPDFyPkapIV5uW9/+63fwjvSzg9cekpHHVStw/e/zA46THXoZilbCRLDPIValU/eXqOJ8zgYaDc9O1b5kuxU37Cu9pAOeOc5x2KNDCahOPPPfv8GEPGhFD1uuusH/j8MYaiG//717L5zK3KkYcfXYTrGWAMgfvvezAiAnlfVL6U2JcAb99yCcNKYlh8/GPLRL0pKl6spQjlIeyJNFJibIyhxLDbYuZW0Y+WCw468JDyw2dfKDtsv1OMvUjD6V84q9x4w7cK7zUNPKH8L194URhsZOtHL74U40GuLI0wjNRflMRYKYfREO2oxqhIC2NVvXm9MP8fefjxMI4Yj9lmso9gaM899i6WBkQRyKVwOJph9eOdU+wUP64AY0HZkkVjS+5FbcjEvvvsHx555p+KXYRKEiXafbe9ypmnf7HY3xD1+2CkHHXEMRGOf/ONt0Kxu+evNlYOZXsxhh3Vvf1rfdBkYJYMTG3FbrYZLeV7Tz0TE75JH4nJcJLsf5cOy33rrbaLTUhrrbFOefYHz8f66e233RUTN4UvL38Ll++w3U4x0Qmr4mlPxS4Mb3ILGtMPS4R9eeomQgxu4UmOlgij3n3XvVFHtKsMBOvFvB0hc2FMoXQTpDCzpYFMEyl2RsInDzgoQp08c+HOz5zyuWizST0VuxA7w4RioxSEpSlua7E8QW3jqYpC8LImUuzW1ildClKZt996Z3DP8+puvP6bC6XYeXuY6niYQr444nn+L/34p6GYhN3tE8A6Z1wpIdfUzzKHPttu2x2jnyy9UGbaMkz2BohSzKbY/3uZ2NCGyhaLnf6wNPAbTHXSXBS7cRNtsMzyyQM+VV595echQ3vvtV9s4ltjxlpBqcuYOurIY3rFzngTgicrNqBRumRKyF8YX3snUuzW8xmemPWs1Svn9V+8EV53bMirhiC5QbUrIqN/eOGiTuT4iMOPjt35DM5PfHzZoOklw2h7MftpD6NpXop9heVWCgIgS1IMg0suvqwgJCITIlPeF4aazaX2gtz8nVsjasaAZEAwSDARRmoKuBkgTQY+EhmY2op9QYSklPCehZ0pLBOWyUcYFSvbIQcdVmasvmaZsdqaoVyEtXGnr77aGuFx8d6OPeaEctrnT4/1bmve/mFxw/LGy7e+yrNbeaVVw7uhRChSStu9qFuf/cFzYSQoC+e5yVHiYdkUFaHLkRJh++OPO6nkGrxJlZFAGSjLsoMJ/5233yvP/fDF4GynDG0A23ab7ctdd95TVlpxleBe/9h/faLM3GyL8NKFu5f5+HKxvk6586wYAsLCDAOe7M9fez02DFqbPf+8CyMEu+wyy0e04ILzLoxIBuWuXZkoGR4ig8PaMiPlumtvDGXqHh770Ud1HrQQvMiDtWdr+JSb/l/2E8uXjTbcNJYWhMMZTpYicMwbr/32PaAcfuiR5fKvX1lefOEnMS7WoYeJ4lt1lRmxf+HMM86OvNVN/wvx//jFl6KMGauvFYx6dn5n+tlrr8cav/oYB1EKnPQ+37NxUP9q9xoz1g7FLBqhz3j9PHBr+jx+XwwwjBgO+tKegrXXXDc2s/HuGY72Cvz9bx0roI2AvQFalba+XW2VGWW5ZVcI4085DBbr+3FvVrqU8MqVvflmW4Z8WTsXmWIQMXTI9C033xabFfW7ZY/HHnkicrDcY9+J/Ble+kc7JcsE1u/VddWVVw/FrmwyIxqhfgwQ0R1hf0sN5M96vmd49Yxtyj3Sgryv7d6PRAHEWLe+nnZ9vdQodhOX0CUvMP91s00XmqREbLxzjImTx/hhN7mNn0jj7xo2zUnQxrj3//lhPJP5TnSkNCiTnNTVhfIOhT7RA0nuMu5av0lw8FJG+3JXftZv+FxtU/SFdnrWIUOmnqnnho/5Hd9ND64L5eufTNFv+Uc9yledst/7y6PdGn//d0RTRsNAEnrOfEUt5Csf7XXeMfqqLsOox4RJXWuK9g1u0/5sp2vKMabq6bxj3OP5WEfu/s562WeRBleWwRCJiE6eqMfEAiAb8jL2E451jteg3jlOfV0y73pP1kd9KVTJb/nrR18zSOqbacyGNifreOf4eVafOB/Hes/QAMo+sXchU3/vIM/Me8xxIK9xvv3djUHrh9YPkygDS41i7yeXnIkGE1BOak5NNInGZGnSH0y6w2w8nwqmn7TzXoMl5d/1zzhUJeJ3hvmHl+WVdcuJMyfzbE+ep5xCQQ0yiLbUSdrp/lntrEpzcPvYnylkY892f2W9q8INZeFKbatoh3pF+YN8GDV9yv7I/qlKKeo4ONe3KfMZrYpYHVIJ9ZlO8CPzquXl+GS/ZXnDvgklXLMans9ns5Qc8/g761Uv9vXOm7P+/kbf+0+GQNcfUYb65b/qLcetgy7LrFKWhnXLvs97hnUdc1/eUPsljMoso/ZR3D+obzeW1fCp45TZ5HHYZ1GXARVw9nWeb8f6rmQft2NT6pMsA0uXYp+o8waTaU5S/QTr/slME5XfzrWXuslAk4EmA00GJlEGmmJvir29UJP4QjVvtHmjTQaaDPy7ZaAp9pzUh555nnOczDTMd1F+q1OugS5KPh/ls9mPaUgpe/j7o6zL+LKybsPzzqmf5Py4JLzch7jdN3y2/W79MQcZyGWOPC6w3JDDoVzOoZwFznce+fTLKU3Wp4RsN8U+D4Ge7BdkUvIbvtx+f5RtSAW3IGXW+tqr0E9KWe88Lkh+i+veYdsGv4ebxPL0mOPiqs+c8s3C53S9nf9o34kF6W9j5/48Lsiz7q04BAv9/IKWl/d3NV5y+zXr2Y4xRk2xT1VBKCV2kccmqY+wDcBPYkf4ApTpG+6E0zU/2EEOYpcX4PdHaphMVO/qAWVfqlduWsz5bGiQ8LZ8AqfuUf+P2ItRT59Y/tv7baK+bOfmOi6ByFfhrRdq/Ajk6Ec//uQ8N8UuVL2bXMxVLia7T6eNYg9vMGfh+RSieCbvZQwnh3aem9exvmQOuZs+lcMiDdSgHX24V13slv7HBwHtaie676EffeTx+LTJDmu7zt3ft6Pufo8wWn0+6iWj/LsqtU6Z2WrelRP/10/xIJMBlrHTGxRsfgPdfy0gr+FzpfsO3zkIZ6BmQbTmGIFbhW3uG3ZgPlm/UJJZfH6CN6wrDP6KrZ/9knm6LZTxuHroF/nn/e5DtuO7+tgRXsd8mE+OXf9c7avsV/0McOi9d/+nXHvNDQH8k9Xuj9m//YlBH7lWr4OJBSY0rF8+Eufy3tFSHn/sqQDWATiEVGZMf+VD+YnhRLKc9yi+7oSPdmcZrucST73XfXHvoA+hJ/p2PftptqNnx41DZF3PwZ0HcZyJkSf1xlTtm7w+27F+gqju2Y7hPWPaNMzL71qHuGdcHbP8/FqhzzP7p+ZFLlIW3NPXY5hf/S0v+PkS8Cx4DWCXt9t2hwL2OOUg85Fv5h1ty7Ljhsgm/kNuBKq4T3lfrSMI6GHfpDEeny3mvR6u9Yzrg/cr841+ctu/Srnxhm8GZkZeG3McLYEy+ec//XVMudmWKCfLbcc5vzuT1DfTRrETYso1BGk+Oyc/x/LCocIkxPFyD54HhAJBbLbJq97jGYoC6EokL8rg+YX6LaORUn79xtvBtJZtMpFD+tplp90CxAVkK9AbkywWtfheebQjpAGEA850zCQ1Usprr/y8855HS0wwCFjU8dVXfhbkHpSMst/45a8DsQ4OPXS8rbbcNs7BqccMZnJDbkPJQzwTrnYONOxjjz5Rvv/0s4FHD90MWh1PP7z2UWhkjwVqHhY5defRq5dxwMLmb3kxXqCwyQ/anzH2DMQ67YN3775hHwOEefKJ7wVqm08IwelCuTNOnoX8Byp3330OKK+9+vMYMtefeuLpAhNfGVDrEAJhylN+Kh4setnXxxx9fCjZxx99siP0efd3AYADpdA9gYg3UoIwCHjLi8//OIhceD1ZXwoSWQu0OIYPRrynnvx+/PM7JuYqS+oITQ4hEBAZMLKQ6Rh2gHX0A0AZ6IL6PmiGB3JIhtTNvcYMoh3se6A3MeajHVWwsdR/AIvU0xg4xxAythJZh8OfspPtgU739FPPRDlkFZiSdpMn8LnPP/ej8tOXXw3yHYYd2QRmYxwg5wEjIl/6XP9RNtoDKQ/YzW/f+30np088HfC/6kKmsC9qE6CdSIN2q5t+REoEdQ8sMPkRcZHABTM0yR74aPcrE2wzmYg2D/PrSoi6A4Yy/mRO0mdkTIK3YF4AfgXoCBgU/H6QxD51BKmsve4DgaxO2idhEAQ7HO/v4BNR9XOfPj7+uBMDQKvro5dDZswN8DH0HzTAJ594OuQKDwSZhLjI0M7xUpb3wbuHiwDVcCj4+hkreTGvANHy/gDQgiKoncbNdWXqQzDUwJmwQ+pbY/bQA49Ev/blDfux/Z41DouhL6aNYvcyUDgLZBmSbAr0zbfLFptv1U2kzg06mvIwoQ/PDX97EbxMEOni/Ljnh/fO9+/qmX/21NOCWCY9CS8M3HYkL3Djr7z86iATwaYFqhQiG1xvEKOoUsGfIixJcBmTOzS0tOYpFOh7UOr23Xv/wILfc/e9Q4HDhN9yi63D2z7u2BMDOY2HQCneecfdAUe68067BuUrpjCY5SB6IejBREdGwvDglcxS7GbZUh579MngKqcwlE8RQZxD7UrhIt1hdJ16yucKBXr2F88NCluQrVDoMNzBjvesFN/Rj5aAnIWqJh/Ia5SRSVqexumwQ4+MyenII44JFrd77/luGE9gVU20UNKQAmFpA7/6xbPODfhbmPZgYE3KMP/1B+Y3yhNtKWWE8c4zSHT0pbGjbPff78Bgk0OLConQZJ9y8NCDj5QN1t+oHHXksRGJEdkATYxuFWOcyT3vNUlDKoQhzzBS1oGfPDhQ/ow9I/Dqq64t2sab60lkqixDBISYB4kO8iLWPbCwytp26+0D4Eb5yIbIDhlCiqOO4GfxBDhnEvf3zM22LLjns36OntWPoJJh4xt7JEUMG89j4xP5gWZn/Chv46StEPXABZMjUMif/9wXQpkwKGHRi5AgAEr5oLgYjYiGtAkiojaHYprgHfQe8JLPP+9LQVoDcx+ssLEypocfdlQ5+KBDQ9Fuv92OYbicd+4FgdI3bKOsRWw8j0vCPfoCfTA65bPOPDtkktF20omnBHz0mmusU9ARo+/VVvUGaa1/Tjzh5FDS6HkPOfjwMJBFY3BAII9iIHkXyLi2ey/VF5Ii/H/vsvK9EwwIPBXQJcmHeYHRo0y/GZHBT1FlgnyecfpZge+vX/bYfa945/QhlE0oj+TbefdedukVocgZKGCf1UP/QWXEIgkmmfwzOKFjgrz2LBmKNJhXx/RpOz/mPZqMvpnaip0OHukIWECsbrD+xkH0EYpwnCdHsIQ9QX/i9Ib7bTIwscDhXmft9WNCMTmw7CU46iaZ0z5/RvzNasV7bhLgsYBEFRb14nkxhaGwZX3htDPDSKBYDj348FAYXnggHjwWHrcXDRMZqFielpcA/3pgwV/wlc5AiVLrf1X4eY8UtrU6k4sXTx+AN1V32OsmWF4EL8cESFBywhMW9DJS8gyEF577UUwCwmw8OJOCyZmCiDD5hyUUlzozglKxm1S+dMGXo3K8exMEpjrQpfrPRGHS4mkzFnrvuggpPxlUsBQiSFheAXIY9RQhAPMLjx2MLOXPaxLC5PGhMOUl8QSNRaQAh+nISEw+PEAKxIRjzIzHwZ86NJStMh5+8NEOHrWUwPanNHgtcN31HWIctLbuffCBR2Ji1BcoW/W1SdY4w5lHg8prUR4DxzPgdDGcZV/zyv7w+z+FkmCAusc/niQlKUpByShbfV1D3gO+Nu/VTjKmbbxCkzgMe7LO2OE9rbP2euEVGsdjjjquIyCqZYkAMEbA3yoDsx2DlswyxniB3gXtk/QJ7wsuPBnlPWLoU0/949xwWcQ1cuU+ERbKmwKDZc94IYeBjjdSgtxIn5FhpEm8SAqKgWKseZEMAkbqrrvsHt48LxFzHCNbHbVfO9dfb8Nyz933h8dIRrDoRRoqi1IiKnLySZ+JS6IiRx91XPQVRRnOQCmhhMgbY4K3LjEweMCiU5aOfvyjl+O8tuoLdcFgyPgALx3Qw9UTZgAyqBi2yiDnDE+RDIqZHCOuEi0wLxxy8GER9SFH2PgyeXe9y8aHMWS+QG9sbChNrIu8ckYRY10CU+w+dVYvhka+10OZwmMg6seA0LfmUGWDQLYEZ25j4F5/3Y3BgWA5CAETg1UCaS16RI7MZ6I4IhnmMUyBIkIBU+zm4Zi034u1P6a8YhfOozyX+cTy8ZJ4mYS6+jQQIC+ICQdL1U477hIWr5fDC2ryse7H6kZXGopwtGNQ42lEGi2h7AjtlVdcE1Z4hPRGS1DBevFMMqA8hTfXX3fDYBLD543VywtMobJqvWQmZhM+hc9YwKwGX92k4r6YcAb192KMV+y5zsbrpQzCs9l6u6AMNZGx/iUvqMTrXXGFVcLboiR5DahgTRQ8ZZ7lVVdeW4479oSYFJRJAY9X7DjP9V0qAnlTLiY8ihR1q8lf++ap2J/+QedJjJTAgF9xhZWjTJMfkhvkIgwNYU0hV3XccYedw0uJRlXYVAYPBQ7H/NTPfC6MBtcpbDj06FqloWLnrcPc5wnjkccRj0Xu5ptujTEQut1m6+1iUsOUpr3GRiRhqNgpcaQ0kvFHdMNzPuH4k2IcnTPBz0mxv/LT18JbinEX7v7y10JG+slwoNgZUsY6E4Um+gAvXp/zpCj2wPKv8mNdl+dI5iT9yShNxa5PENhEeaVE5IKX7fo1V18XRgf5ZnBRJGGI1QowLsgtPgWKUt97Z/SPEDzsfvKd7xQDJhU7w0ZiRGDxI6/ywJNA4VMg6mw/g/wzeX+FpRkrlCp+Aka4fSeRhu9NKRHd8s55p7yHFDtjFhWt5P0gAzD+tZMBxQDyroowuVcZuBMYNDxSmPy8d1EYRp8IVSp2yzoUnfA5+Z9Nsa+8WlA9q7/2kmlRjDDKjj4uFLxy4r0dKdHnB37yoK5t1SBVdwY9T5yCtlTDsJUodss7lCqvGZNhlpEyRZaRRyFXynMUO+Md74DkHlERjIgYDb1/yuQUSZbgRO4YMKnYLQkirFIHnAH2VMQ8MRyT9rvv8+z7yTxOecXu5cOWRiAJI2+CEM0mSNWD59FSPihETTDWfnkDiFMkFjvBNsGaiHjzxx1zQqdk6wYYZbCMheysTQt1ezmFY3lVPBFrhhQ75Uf5WhvlvUrusX6r7v5JPBYKCJ98KINSguM61/3iprqOut++n4yQqAlX6Fiy/oXEAzuaiY4BYF0WrWgqi7ixlFBgFDVedQnjHSvd+q+wKcNCGFxITbIGyAiw8YayEu7DDU+Bm9R5IvLzsn/7WzdHn+pDHjtPEe+8SSbGpHSheGFjBoMIAc+F5ysJHZrsrOVhn+MpCf/qR5OU5QceMK8AuYoU/fivzvu2RMH74MHcefvdsUyy/36fDE/OBGj9/KEHHw1CGhOnyIl6W06xTkjBGAeRB/1mbZQHh0qV12kyN4nxLikuypySEr63ZCAxNpXJmxK+ZjiasHmnYxT7SAmjVATJ+jDloL+UwWNN+t944cnNmWdHhOWXr78Zk3nKuSUGew4YaPqPYau/KOGcLMgR4qFchxb+t3bKi+b9Ggt0q94FsmNslS987J0w9s4h1tGvjCD9LIk8iLTwOCljcscI6paozogJnqETsjpaIuTMkPjLn/8eBoD3THQLbSxDwNozMh8KggJlfFp/Vk/3kjnK1z4By0XkwjunzT99+bUov39vKJBSIkIkKiZZSz72mOPLgw88HOXrA2O00467RiQoFPsrP4/xt8RGvuMdqnnJA9nTj178SZSL8Y7SJDuIcBhxQvMIdnjn5F+brGMzEv1eaYVVIlKzysqrx5KLiBYHAOkQ44bRFaluhmSMiKw4b4mGLCpPucbD85aMoo2jnWLn3V96yeXdO/OPD8oVl18dxkPIRHAkjEQ0EgOk8RU14OBQ3oiDePmiU+Y28xNj0/6Lu++8N+Yw9TMW++y9X4y7iOPLL70asuAdM59okyiFdxYJ00TOSspoO05eVGPKK/YQrg9GI/ScYcaJBCQVvRC8MKmwrpfT5C6MSJBNNoTTS0OZYOnyW/iexyFMyFOxtiYywDvkmZv8w6MtJV5KkxElYYPQXnvuExPbiSd8OkJblgOwqZm4eQiZrInxXhgRPCWJ903BZHtSQfP+zzrznJj80JdKvArGio1nXnaKxRqsNmUKj6l0G+WwcuVmHeE668sH7HdgWN0mZt5JKKHSbaTbaINNytcvuyImbF6R9WVrm7jErQ3ybHm6Ji4RDfS11oQtZ/AuTfJZfy89Bc1TMCmaOC/66iUxidh0s9qqM6LN2PWEYnlt1oV5jxjiDtj/U8H0Fh5YTrYjJZSn8bIWybuh/D3HWNKHJj1j9vxzL5aNN9osvBsRBZ6FMWPoGUvtS4+dUWPJhRIy4cpf6JtM/PrNd7kalXEAACAASURBVGKyo9hNdueec0F4WIxFdaakrfdTavpJn1NGOZ4mOcsZxlPbTLC77bpnhDZNpsZyeC8Ddpeddw/jVR9n4umharX2qW7GkWHG4MznUQpjHyT/Eu9KqJsitZ5LodujQblR8Dxu54TWGcJkyb4JkQVGqfVU6+KUOsPK0dq8MLL7GbLGlbLWDoaHaJlNV7y/2BX+P38Mz5xyoMSxA1oi8F5S7N5NY21THsVLtsIQHinxDtrgaFOYULD+5pWGMfG508s3v/Htru1VgTF4GZuSDbHWv0UxRDjI58477RYREgqI3IZRVErsnWE09wopcugMcfd5v/W5cWXoMfhEZkQRRQVE48isd4Xhoa99qrj8siuWd95+N/bAMDgZ6/qPghbt0vc5dnEsJTxm94oA6H+RE46KPRIHH3RYRAv0vbqKKBkvxhnD1DsqmuA3B0Ofex8Za2RKG8xh6qjOGWXU/58++dQwVih2y0YMNBTE8jC22ssYZASRX3OfOdb7ZJ67yQbfJ56OKKkxHdOu5rkvlv6Y0ordZJJCn8dQXhMIi3tDuQft5N/j9TRZxwtbX1aHuKfutmWtmkhigqybZryUBF8Ibnj/IIu+TuriReUlSp7rhbp+PpTgJ6x41j2loK5egGFbYkIbFlIVWp63OzjrroxQpPXTt7wn+0g2Y/qO5f3BaM8Q5rqX1v3y9LzrGc6PatTyeUZ5j77krXjJ5a+vIp/ar9mPWZ8uz9ov2baRbnNS/smT8E/Ko/7kNQ9TTlSO2p5pzDgNPtnK644muOHneP212sb8Wzspwujnuhbdy09GierNvBXLHowECsTEzxOM+gzks++LulTiOo+7LyPvrfXMPlCu/ov7soJ1IyGPv0/5fK1v9kd/fSDzzhk7yk2+8Q+j3j8+iM2Dxj/qWwl4Qj7yHax9pR+HX2KEnMk4SYGGBftdn0t5NHba6O8xbUMqgzQn+31QB5EDfaw/5GcNmIcbebuvRsUyvzQwo/iRbuyNV59qnTK//nz+qF8L6A8ybp7IpAxLB47KybLJZbbRMeugr80BUdZwLHLcHGdl3+3mr/WLMkdKrLunXMWXMfV9zjrpH1S78jG/ZL8oUwRGhC6/QvBMvrPalV8P+K1NeYw61bppS9S/4j+4R7sjajLROzdsW/vdj0eOy2Qcp7ZiJ/Ap5Pk7j3MTmJR470x96ftT+RKNfz4n7jzvgSwrj85lffoMu/tiUhk+W5+P8/nc4Nk8n/XLvzPbfpKo9e3zHzc5xH39Q/mjHrOtg/pnPlmu9vR5DOqXwpf1yL/7EjLPLGPY1zUfZUV5g3vi+SzHMfMZnvM7/3mgGiBxrv6d9RhTv2qk5LX+mHlnWXkhz8/p7zxfj9GWPBeT6P9FZIXnJipgk1KkYd2dqPUf83zmM7zX73ETZd++cX3Z55XP53F8X/t7cC7GPf929JzDUDnWc1nFuCfP5bG/OOsHRTimXrMuRTlRdj7vmP/8zPYNzmXdok9qXSklmzdDcQ7vVZa/pWxXyo1z9Vq2M07lfY4TpGhL5pF5Z5njj/l83pd/jz/WMvtxndf9ns+y/M665nN5zHLyejUMRbFe+slP+/bnbf0x867HfvwynyyzXu/njcxgWH4+My7Pvv7t/KyxXMS+mNKKvQnE4KVeREFofTn5fTlUErNFO9p4Tdok1mR34WVXpG9MJLHJ5bSQy6bYmyBPC0FeYif3DG2SM/PvMHTdZK/J3r9RBoToew/731iPJfbdncJ90hT7FB689kIsvKfS+q71XZOBJgPTVQaaYm+KvXlNTQaaDDQZaDIwjWSgKfbJHsyItw4s4fF/z6m8ud2X1/I4Po85nXff8Nrw90R55PU8jn9+/DML8vei5JnPOkpzK7feMtd78vmJ8spzecx7F/U4Ub2GZdhYpIzhufFl5rXurln9kOfz/vF/5/mFOU5mXgtTfntm1ji3vmh9MZ8ysNQo9vyEIz8z6Tc2zWdHzVFRDD4t6der6sQL1hW4hmfBOvafmtTr8U2njazj1l3VzecjCbZTb49DrtH6pGSYYgNMJZ8ASuEzuzFJOzMNfyfWel5zRAjyp78GccbwdK94SgfckgQfduLqX9/V+twGYIbvW8f3R79jV5vr10X9pzK1H8fsZs6xUYmxzQ0Am/g0sH5GZbeuZ5PIArAQQJBozlBp1gb1u3uzLsOyav9k/fV59HtkNlDAdYc6HHlohmPuyTKH+db19n68a35Q63x25FvzTEhIfAcv+X49vmn3R62bn9FXtV9yh3Z/vZarLPc5usf4AAUiH1GPWk/fp/vWPM7VvCP/UuJbaN+Ryzv7LcvL+6Oi+V+tU/7pufgcKvuiHbtxbP3Q+mExycBSpNj1YJdywoq/FrFjTVgmt9j1PO6bWSAYwBkkQB2/fe93ca/vcU2M/oWCzokw6+Kb7f/7V4BMuEf+/c7Vrgnxv3b4Njwm2XpefvCyE5zEPcGq5rpy8t8gn/zJ0Mi8INABpAmDqNYr6lIVMoCZRGfL5wHu+M4bW1Z+L5117A2RWcOQj018VM/sj3HfBHsAGAzEsVQs+tQ3wUBQKETQoBj7ItVvnnPcs415rT9med1ToajjmVrn7IssM/sS2htAnl6p1ueH+apf/5xhqDKjv4CrMFLyO3/PQYYDZiThJfBNsOvkYnxeKXtj+mvwrXRfj9J9WwyLHwLdcPMURDOIdvIY9g9jBTRxGHGRUZWh/G2Y6vh41vsQ/VRl2jfwIe/jjNe+rtnn7ThL3ltftL5YRBmY0op9OAFB0QoYxjl0iAknlZ05yW+Ta59HPpcKZTBx9ZOQOa0Ct8Rlz8Ap/3sHfRn31QkNIQp0sh132CWYt8DdggwFM4k1CQgJQgXoTDC6wcgmKljmCbIWQhhUNNjeJmLKDIrZEYcfFehWELJAW0IqowAoA/jnkJ6g2MHP3mTjmYFqBooSShn0NUxWYC+Rn6BbBBFKwUCcg7AHLQ06GMxn319DXIPmBoEMYhaUssTZVl/GA7Qyior3qS0gUGF+q4PnQVTyGEHqQslTB4h50OnkDd8cLG4PP1uVDAUN3QqqGbrK22+9s8zcbItA6wKDqd8Bm0CiW2nFVYMMA0EMmGDfj0NTgwLoPshaUMCwV4GD7QFfRjsUrS+cdkbUwzjxpKF0Yc+C2qUO+ofign8NY15fQkpzHRIdvHpKGZJY0HmmXGG1e+SJGEtjZ4yMHVx1MJ7Gjzwy4BhVDBQY3DxlaGX6B5og+Fh9jUhHudpy8kmn9BjwxsK7gCWObCOSgYbGaLv26uuDdQ3UMRnU1/5pI8hQEMNQ9IwxeTvs0COCyIVsQieEOMdAhXJHDskXnHqKH5AJ5DdyBN/fWEDAk4e+CdCcQV/071Q715RYk4FJl4EprdhNYhIGLooTNOcjDz8+cSfVeykNsLEgGTsl9V54FBjcttx861BOJin8zRQldickCkKtJiPkDmAWEVZQiOBXnQ+e41qGg0mVQsOCxqNCC8vrgQBFYSaxCiYrnib6x5u/c2tvaFBUaCx5ugwWxCjIP1BXwoh2HoSoMmB5r7XmOkGUIZwLehPqGSUKEhX5ByVjwr34a5eFN40tas011g7mKiQdGMMoY5CVYHJN9KggKT6KmvL1W5145LDy4cJn4tmh/cToRdFQLnCzYdA7B6QFVjWoUHC8UP+gsVEgvH/KW59R2mBHY+KHqvW/fw3lg5ZU+SAr4cdTwDxl/ZCeuPbCY3cddjmlB6UOhC22KooXdan2wQdnUL35RsefzWhiDGDIIiP6A1Qn8A6Y9YwdfQvOE9oYJQ9Wl0eK2Y7HDmMe9LC2UbzgNyVGpXP6FmStOmOD0wb9ZAyHBgbDgZEUxggs/y23DX5wiGZ+gziFQa+fGJUwwqGtRRrteNnJtvT5z51e1pixVhiX8P5Fcxic+As8i2JVGN54YylDFepITsGKYuuC+W+ZBfEKo06Shza672sXXRLvByOBwSe6wChhFIpEkBXIZk2ZD6JQTZk1eViMMjDlFbtJEz7yssssX/7zPz4WHsSEE0gNf8IwRsFJIcNJplyECk1iFJXrvDHJZM2rQ23K24aRjAQFpSdvGx43KMsozzs7QOfym9cUeY2WwE/PNVP40iZKPMlw3eE6875gb0eqZC/wpoV7eWhrrL5W0CBS0iZbCeHF9tvtFJjrvCoKjvJBb8lz9htGNBpNeSB74SFToNiyVl1l9VC88sjEI6REGUsUrvJBTvK+9ceGG2wcntu8FLu2UvS8dP1zztnnB80s743hgT1ONIIHSOFiptLHWKoSw95zlKCIAR555TOKkJfAgMe1HiFtUKIV8pc3CmebUsVGpa2UMvx5/ACrrTIjPE11Y5hhxXOPZB8EbHpKVf0ob+v0cOVhyguDw2hHOJKK03Mw0dXNOjjscZ41D5xsaYP8yRvFmmVZl+e5g3CFJZ4pDJUPSxD5IJbR/wzJhC4FS3vvPfeXzWduGbKjrsqLe1MGR0rgrqNixVbHaL36ymuDJAbN5kYbbtr3MXz2l196JQwDhgQDkEEk8oDUhpzALqfI8dFbTmIAYsvjrYuy6BMGI2KVlE0GhKiMey679PIwbOI9WYyTWcu/GQ5NBjoZmPKK3YRovZXXafJGMDHh4Nbw+8orrRo0i9aAecpC8t976vuhAIM05Jzzg47VBEx5CFVLCBC+cuFF4ckjlEB4gDQBZaPEc0vPMSdva87IKHhgFHeG2nl9yFtEGHAg80p5cjxQyfM8OKHOXE9ddeXVYwJG5EHRSkKj8hIJoHi1W8hT5IEiomSQRGgrQ8MEbEOehKiBkuP9WS7IxOPk0SLXQIKDbUo7KSIeMU/RJitUjgwkKTfumeQZE8LVcO+V/yvrtiOdYqdcMKkJ2TI8tJ3SZmxQKJ4VIeGBUtj6E8McY0LUghLcb98DQkmijcX3rM25xuyZUOy//X159gfPB5mOvhcVEaLXZpENRgclTEEOjQhkQAw51ygw0QVGARY55+TP2ILtjTQjE4OQIqdIYZTzTq+95vqe/10dYduLdsRyUSnlpR//NELUIjOiGeMTY++Wm2+PcdNmERj5IB4Rqt92mx2i/xiW5IGRN0ww6hEPkQuhc+Qqnz31tCBUWXft9YOwxP2UN47xhx54JMbT0VgbG4aX8WKMoUjVNwwx7w0GPkxfohtk1z9GKgOGAcSg1Q+WEhjeQaSSFWzKfeI5qvVL65dJkoFpodgpHCFcXovwoglwtn91UsEmhq/axPOZUz5bvbtnIjxMUfEahS/lyaOnrLBCoSbkveAs57ELMVsjpngYB8L7kXIHcCnlwi99JTwWTHEYxyhJ9RKSpXi++pWvBSvTpRd/PfKKzUu1niIRQrQSpbzSiquE9yu0j8nJTmlrmJQTtjJGiCQ0SrFbT+Xdn3/ul4K6UX1f/skrsbZ73TU3RLswqlkrxW2eSfjc5Cy8b01bvzIebKSzbspTVAch1zHY56V0IfY//S1Y6yhpvOgZukWPKgIg9M048Dw2KzSrNuEJi1tisParzEyWH9CRXn7ZlcGFPXPTLWLn+5VXXBOeqCUThoN+pXhxdl9x+VVhJH31KxdHNpQomkz3CCtTeNpj/Z/CjjRawqChRO0aJyMMFNELyzZC6Qwk+xskNLOWEYwdWkqesSiO/RD6HgugMYq6hVH5YdxLMWoLhkBLKQxCSxPDxLAjY/YHCGtj3os16pESERpjhgmOzAmDW8f+2WuvR/s8S14YEPjs0fZKa6+1XoypfCxLuM5wst/hpZ+8EqF46/HoeEUz1J3Xro48dksSjBP976sH+ZJPxpp9G/Kj2GM8RjtqYGx4ogD2VzA8GAn92E70jrZzMYazzV2tX1q/LKAMTG3FnhP6kJhpTrtvBzMnL9tExXOTbGRD+cqzMTEJJ/KYKV7ryUKqwruUrbVXdKYmV7SRQqcm0gw5yy826ZUSvMk8UflTUPl5W7c2+n4863rWJTx9AyiNlMjfT/nzHDMcG4r32Re6POtOaR4dxeZebbFRjresrZ6NCbd0IeFnn3ku1mx52rwvdY9ow2hXprC99nueUfLub/4n1qz9LV9tobitD3tOudJbv34nXkDersTzj93xoyU8RPsQ3Jv56Uv9p1/VWSRA30Q/RA7d2Pz6zbdDmTOMfAZmR7d9EK//4lfln//3wRjFrm/UjwLL8VUH+UvabL+A5ZW8nvU3oaIIpegQiWR/6zt1lLJt+s3YkQP1yWiMNll7Vs+Qgyqj8tZW123405fqIl/Pj08+N1Rn/fv2W+9Gv6mnsWK8GWdyKVpj85tk3GIca2YiFWG41L0h6uC6KJRIkERZ6x8GsTV8ZcjX8oK+VGfh+9gDYC/JH/9S7FtQ77fefKc89+wL8W7I1/3uUzfjY8OdMX3Pp3IjnQwE49cCTlJN0U3gqLQ+bMp+LjIwtRV7esd1jdSEEhPbXBo8X5NE6TbD8Uh4NDipIylnbv+Um8nvwaQ+X+Uuar3b8+1lbzLQZKDJwFIvA1NbsVeFTmnyVij2SIso2BnOtNbIUxeWDy9ybko9lXgqdsdFrEd7vvVhk4EmA00GmgwsqAxMbcVuvFO5pyLN4yIoVXnadCX1EYBU3HPKN693j836f073t/PN8GkysPTIwJBPftbs0P0iB1KTh9YHkyQDU1uxT1InTOoLVd/R/rAk1rHVqU0gTQY+UhmIaOLQCekniO5H76C0cflIx2VS5/4laOyaYp/swRj3wk5XwWntah5Wk4H5lIHhnDDecx8q+8mei1p+S62RsHQq9uGLVjfgsZhns5rH3TdfE9nwGb8n8+WSXe4jsEyQv7OMWnbck+em0nHYd3VpY1Laot9yAh32R45PluuaNLwnz9Xzw/7v753omcxjbtfynrkcczf+bHWayzP9vVHB2vban2OuzU8ek3lPjsGwT2odY8mr/u7ruChlD9ue+WT+eczzeczzeczzC3Ekb/lFSL6nvewMx2L4TitHmkt5/fsw7Mt5PDO3/Nq1uff3VO2fpVOx5ws0fKny5cjj4J4FGlzPD9NcXtIFyrcimAEESdCceF5ZtQwTiE+05vgt/yTWJcuc1ONICeAak5dP1oDc9HscFqHuIGZ9MtanmlcC24CGzcl3Tu1RJ/98xiX55DGBecJomEP95Cv/OeU71/OVrS8/WZvrvXMoX11ffOEnAaE7fF7/ZvuH5xfnb3IJ+CZSra/P6fIzSJ9P+uRueH2h61M6hkKfVvZ5dDnHZ5L9uUG/gRWGW9CnwbWJ7p/buVDs74/EJ64+mSWDPvWDO+FTSu8wXAzjMFuaS7k+mYWpAEhoTJrLM3OrZ7s2a/6cTn2x9Cl24zjSfesNJMYmORM0THV/U4zDAYachQwk0vy8PGPetskVGkrOS5348+M/p/PS33zTreXqq64d04Zhe5bk35DlIPxJJi7fevdpfvp+DvdcesnXy1VXXtt57cN7qucEXIYRIc1NSUN5+/plV8a33YCKINnFGMSDs481RUGpA7JZqH4vJVDmok+G9V6Q36WU9dfbKBDxhnWAhAidcHhucf+GawChr/c6R0t5+MFHyzlnnxf1AB4F2rkbiNn7c4HqV0pg1V/8tUtntbHLuXznplu6zbHj+hFeAmCieRl581MPcgS/Ar4EUiC4BIB8ECddc/V1ASf8w2dfCGCgWq1Zh3H1GpbHEJI3wKcH7n9ovp4ZPt9+L6JczWVslqS+ndqKPcW67mIX+pqjh+feOih33nF3wKhCIGOh88JM2JDWgG7kfR4BwAFPW0pQj/7FH+6a51FXry7qUBHAcuJ3zXMATTCCpQJxL6MCRv0hBx1Wttpym1DcrgNkgcS22Sabl0MOPiyAXXhvZ5z+xTBGIH1h1oLMdtaZ55RXX/lZ2WiDTcp662wQilE7keMgDjGB9u0aLeXuu+4LNi+Y50BhwKdigcPOBYQE+IpJDhIbwpvLv35VlEkhgNYFaQpYBWwu/PYzz/higMVQyNjI1AGSnARoBROaZzCcCS+b4KGbbbLRZoHWpl/kM2P1NcvZZ50bULggdhG4dMh/+wcC3MMPPRp5IjGBtQ8mF0IaLyg+eaSsR/CyvxAQrkhzwL/eeMM3w2uFzw521rNgc40FVD9IccBVvnjWOYGlDsEOZG8mnh9oXYQq4GxP+9zpgQ4HbhZZDKUFRU5/rLP2egHhCo0NRO6Ky68cWPi//93/dvJZgWEg80FygxoIhpU88q4Zmlj/IBcaPzwBd9x2VwAAHXXEMTFOsNnJDmUI6nW7bXYIiGLjRs7Is7ZDygueged+NGv8S4k+wWC32aabx1ggazEuEOXIoHKgBEK3A5MrIQ6SHyUFWnezTbcItjntBOLjGTDI5OXuO++NegDU2WvPfcumm8wMGYVGF2m0BDiS/oOER1a0F0Kje5MVkSKDiKePIS0mQJA8GE7gapXP+8WAJwrx6k9/FjwAnjv0kCNCDtZbd8OA/AXmg/hGeyEAGmd5Ayyi2KHuSd/+1ncC+Q8Q08UXXVq22nLbwNDXTkRQCJVAATMa5YcKF4ued0mKJZSREsRA8kKoBP0Q8qCxg6OPewIaI4P8oQcfiTGEcIkgCrAUHA2kRBAfTz/tzJB/iIUAhID+bLD+xj3I0vDdbr9nzfVLa19MacWe6488J0oOROzPf9ZBa842oN620RIvPVINkJ03f+e2UAbxJpYS7GMmiXwWkhqL//77HohJimKH1AV/HRzqXXfeE8qAQnAOZCuPgzVtQoIyZvKAXw821Qssf0xakaqhAft7rTXWCe/MBAPC9Ve/fDMmQhOCiYRyo3QRoFD2kM+23GLrgOikDEC9Cu+hAaVcRBoosO/e/1CQxJj8s12OvH7Kl8JAPoP0xISB3AVhywvP/ygw2ilikLWIa3Cc8/7kDzuc4qcwhaUppcsuubzAIcdBD8YVoYvQKiX16COPh1EDH9/Ea4KDCY+6lEGDCQzWurYJ137pgi8HaQsIUpMvRf2dm24NA4fy2n7bHSM/kKfrrrNBj9mvbZ7feKNNy+NBCftaMI1po4mUIaSd6sZggzIH4ve1V38e9QI5i+2MV0WRZGI0PvjAw4GfLn9tN6GDSqUMQMuC7WXgCLsytBD9wLNH+0rBUURp6GGz+/KFF8WYIZAB85t0rUhb4OwzsEDv8vTgKShT3xpnBg1oV0REyGz0qf6nNPSjPjUud991b1lumRUCTrYf/1KC9hYksHZ7d2DGI25BNyt/dVeee8DXMha+eNa5ATHLwybjDDYG30knnhLvHapZZetnSo4RymAFGwz9UDspfu+BxJgJSNxDjgjFDOJYnyv/wi99NYh/GL3gho3TnXfcE4pcZEfyjoF8JlvKXWH5lYIXAEuissDZMlbJIkpaEL3eP22EFMioDK/5/gcDhpiRr34UMZhf915z1XUxztoK/59RjSaZMX3H7XfFeDBIGZbuBXUspeFuniCHQu67VKXMiAEDrG9P/8KZ0TbGN5IiqJBIfRid3iUyb75guJF7kL/6TNu93wh8ugKbMuvle4p41YuzvlNasXcSXYIdbZlPLBfEFIguJuywejOLHwsVjGvEFeF9d/NMTKIJi+p2ihz+t8k+84QfzijwQlF2iEMkin399TaMl9VEJqQPI/uRhx4L5YXKNCBE/zUaZCaeibJHSoTUdtt1j87IGC2BqW3C5KVHuW4eLYGxzpKHHe7F5k0niQmPWHSBsuBRW2JAo2li4xEGPelA4CkIhgJFI1Jh0uGFYTQTIQAHSrkoRzIJmVQYEHDko3177RdlmHiRjCALoexMOCZGBtcbv3oraE95fghmRBQYFSZwbdEuxg9mNevg8lAnWOwmOqQ1SH7cJ7JiUmZ8UNASz4sXY9LzHC9WdCIZ6xh/+oPi1BZeJ6Y4/XLqZz4f0LPajJTGeKB7VZ52YmOLdegoqYOT5TlJjEgKSHmMC4rO/gdMeu7JdvLSseqlQo+HR0t4kcrVJ+hQ9Z82imTAps9+F1nh9Us4APbf78BQUDxaisqSQGDSlw52mGFx3jkXdNGSuiGUgjBm8o9/pYQMgc8VSXINfj8DRSSDcUXGKD79gu3NeDMwGDgMtYSYlR/lzcvkMYtaiF6IzhhPhpx7KDqGLpkLg7zWhXL89MmnRj0YEIwTkReQtuSPR4v4hiJESiPCIX9JH4kQkR/Ghv7g3Rpf3jcCJgaLcUXcw6AXZdI2DH2MI0bXpZdcHp4viGh9jyIZsY96YGgUFWAoeT/k4T3TJ/oCjK7IBUMTMZIlnVDqUcMSz4l4KH/vvfaNsxwCfcmYpfg5GIwisiDfmZttEfPG7rvtFeBY1ubRFW+91bZRV3+TO7wEEU2pS0qReY5xO86S96WwL6a0YjdBeGkpg+WWXaGsuMIqEUrtJ7DhgKYiLSVCa5SOFzD+1RC6SYTijzVAb8loCeVz7DEnxG+T3O677RmTDypKzFlCwzDBvaS8V8944R15eEK2PB8Tjok/Uqcru/usJz/4aFCZhiczWoJ8BpEIylW43FLn/ewXFKfCeBGG3OeAHq99zz32Ds8avj1FxhsyOdo3gI0O3eewX6z1mUQllKm4wW3ywevN60CJaoKPZ0ZKKFPKV5SAlwejXSiX4cJbMkH7x1gSdWDcmJDh71NsJmBeCKX8zPefjQkyNlKNlFC61j2t+RpLYyLczZvSr0nmYs1yj932ivbkurVJjpKDiy6Z8LCOCfG6X14U3Q3XfyOWGxhpTz35/aiHtXXyw1iguLQFCQ7lz9tD4dpl2h0s0yAIUgYFnBSlws6WD0zS6HMxmfGqrrv2xlAYYWQk/DGZLCUUuSiMvsPiZry1Xxhbv91+251RjmgRA8Q4iOToD9ES7dHfIjS55CFaJRLB87WnQD31wYzV1iyYC/vxLyWMTlEd50RlhMB5/yhk5U+uGZfeMecefuixaKO6U0DBNhcb1P5WKCDjfOghh4fxStkxjOQvzB37F0a7TXxhJMukvpu8a4pdv/6dugAAFh1JREFUsqxgSUgiKxQ7IzAIdh59MljsggI2iXsqH4Pw/i477xbhbOUaG0Y5Q9S7wKjqFPuBwVnAI/ae/+CZ5+L9cA8DhGL3fmPLcxQdw+KIqll9vvfUMxHdAjHNcNW/xkzb9aEoAeWfEQXtQNgEL9+7z0DQbpEWRoi2ixrddee9YVg9+cTTIQ/6nefOUDKXYH9Uhjq4H2mT9ninGb9kONJwvmu/exlLWVuajlNascdAjZSYQIQJKScT9EQDGArcWvwHo7GWJ0SKMjMTz8wmJSHDXEvnffzkxy/HywpW1rNeSN6rnbw4yylPL7j1PJvslBPEJLyybXYIRec5k5Q1cyFT9Rwmm2Awcdn4Zl0ZTSmPgnKgyDDI8d6FyHnorPqJFLuQo8gBL8N6u/C+yUAYeKfqOWXfDBU7RSa6INyJDQ5dqzJXWXn1ULo8Ol64kLz1VyFeE44lBhOZpQITKw+J94Jlj2fEI+Wxm9AoHwqDRyiszCgYr9iF7UUehC0vOP/LEyp21z3P4771lttjjZNRl4pd/xs3bWeImBB5z8Ko5537pQjx66dtt9k+FJYoAEWKTIUSYVgon4fWeeyzPisUzbGeLyw7XrHz2ClHSydIZnbeabfw4q2FWp/F607GyAp5MNYMRiFc3qgwvGiLNVX1W365FSPMbxc1RaQ/L/rqxRG61d+40RkFEyl25DZCuxjfrAH/x//779k8dvzqFKaog7C5NXneH481+uKbN4UXzMgVNSELDB9KxLIDpcI4Nv48ZMsbqdh/885vY32fVy8yI7ytzyx5+J0y6MiAEXmyds3QScVOJr0z6sKYRK1Mto1Ln0ZLfAFiD4W9CPrWeySqNi/FLlqElx5lLYNWxMJSmjLVC7UwWbvrjnuiTxA1MTbtA7BUY0+GxIgkJwiJhPvtJ6DEjbHEoDcvmJe0U97jFbvogvFm/IoQiqBlBMR7pp/t7/jV62/G0hl5kp8lKMsHl116RbBVRoHpvTfFPkbOhjK3NPye2oo9JLn7L6zWuQmz20aEWl+MydcaJ6/SZMD7MGl8+cKvxjWUrpSz9WcTNYVvAw0lJbyI8pN3Zh2WomXpe+FNvK5FGHW0RP7OUdAmbkqH10cBRmi2hihdQ/3pWd5lclfz0u1wF5a+9pobwphgYJhsTBy8Ny+4yddanLqZJIQ0TT4mB2FldJljQrGjHc85TyLSaIl9BNp607dvjrVd99t4ZM8ABW5SV38GjPCyJIKhfjwaa7LqgrkM7ak+szYoCmEZQHSAwcDDiLrfckfs8PeSmbxNqqIM1ilNhMEu9vZ7kZ8ogGR5wdjYnS6ywJNXH4opKXHjxtIxlFFA+s442zPAwGEwmGyfePypcvVV18VGMHnYA6Fd5MD6vs15ns89F/rYJKs/rCE/8vDjwXCnPBEM66iUl7aTLeFW/aJPyJGoCWNNIqv2SNz0rZtDmVMI8rcPAHOb/nGNHDA8RJKMh+gEz96+D3sn9IdlB0aYJLqD217iQWb/iJJkO/Q3mWf0iEowdox5GqP6hYEhIsBjNeYUi81n8ve3Nukz9xkvG8xcI5faps7yVxavXZ/yihkINonJIydX1xkf2mo9PTfq4Wkwxt4TfatfjSMa4Hi+Rr3kI+KV+1YYez989vloI6OcHLmHHNqvIXpw2613RJhdH5EF7zYDUDvklX1p/EUfyKN3gzGsnTZSimCoBwO7Wy46P9rI6JX0sTHleXt/yI7IjMSYuufu+0LmH3n4saifKJc2GiuGoU//1JcsMAi1z7usrgxw0QZ7K5QvupLvSPZrO86SsaWxL6a2Yp+bIl/M11J5z0tovJhevuFkNnzGS2viEvqT3D8mDdohD5NFGAUmtvn4FxPMYBIclj2337xGoVn1y81OY+o1/GM+6pGGzPCxhf0tWmLHNwVr7dxO4jGp9pl6R/RF/fLc+yNd6LLyt1NEw7HRv875F8/IeDAG8/xtnX+QR/4eU7/aXzGedTlozPXhH4O6z7PsBalnvZcxFTJX/2Ys6Lf8x2i1MdJmtj7VvQz6lnz0/dffMOuH/pSnf4uj/gubpzprN4W7sHkMn4v5YDhWtQsY5yIZGZ7XH/kvZMwz85Mq7W+OlciSiMyEaSHkYNiW9nvJktWFGY+m2BfmJci3aX6fJSfDl37cczYDPfDdh2dNMJk/3T1QEpGHfBbk3yCvBREQ3jgPKibkNDjmMAnlRDWvY9R7WJ+F+W2t+l/Wa38cG4l4jrw+fcOIGdPGzH/Y9/Vc9GVen9PROC1IX2c5c8pveH6cDAwvjfk9/r7J/rvKZvTdmIK7P17/xRvl+utu7Dx6p9IQyXpM8Mxsp/LeJeg4RqkuYr2y78h/L3+DThCFSOAbcpf/BrfM82fUVz3rpl4ee5TlxCLWvz0//fqwKfaP4qWY35cv73PMNFn1k9/C5rUozy5smXN6bliX7KPhueFzeX38ufw7rw+PeW0yjsN8J/o9LGOi684N71kcv4dlTFSHOZU50b3zOjenvP6d54ftX5R6zCmfPD+vvpnX9UWpW3t28b9HS1gfN8W+hA3IYp/IW3uXupe8ydRHYCC196q9V0uQDDTFvgQNRpuA2wTcZKDJQJOBJgOLKgNNsS+Jir2urUcUr67bjlm/G7+WO0ltyLVC5QLn6NMk5b+owjrZz0efRifXiWT4e0HbHGufgz5blLwWtOx2f/MWmww0GRjIQFPsg86YbMWx0PlVpfCXP/+t29U9QR1tIJttJ+4E9y1QHYrvgt+PT7HsirZjOtKi5ruEPq8P7eym4JHr+ARtgfpr0C67q22K8g197IAeXFvYPNtzzXNrMtBkYGFkYPoo9k4FzVkR5fV0qnLidb7+jp3Sw+v5TB7d53o+O/44vM81t47Pb/hM3NDd191c8/fchyW+/YalrjyKtr+nPuIbYt8292lYVpbTXxxX96ybZ2qbfEoDOAUilu+K4YxHyrzyOMxz/Lnh3zXfPo8sy4m8zzH/dnSPVL/x7//O+tb7x4xVPlOfi7y7XGb9P76c0RKgMbG7GJDIhRcFMU5frywv6zysb/3dR1Gg5117Y+AM+KYYvGkYXVl61s8x65G7y/Ncns9jtiXzyDLH35/XHfNaPpt/D/PMazW/vr3t77Ey2fqj9ccUloHpodhzcjMQ0kQDkue7O+J/oed+cjYvclBNhtL4vIbnujv6/3vvuT4TeZYSACVwxIfKHdjFDdd9I9DhgNwAnJEAYWD7ApUKBtYz0NqQwfgbmAa4UJCnULAAVcDyBm0JsQ0YCZQvZC/x7XbtA3XzHT1wGPCWwEgkwB3Q0ACHBPZ2rTsQDcAYiGWQawDuSLIRON8Q0KQkQkEIA1xGm4HUgD2FXw7VT9n6kcEAblcbfBsPCAY4DMx+ZbkHcMkN138z4EVBjEIE0w7gLVDIAHdAcaM0YZpDsZPUEfoZJiwANMbQs9D3EGwAU+FB++4X6AuYXNjckMJ23mnXwJlXNsQzeALaYIxAw0KXYziBDMaUp+/B7WpDfpesDmedcXaQgugL39arH/YveOABHjNaAvQHZv/xx50Y5DW+/045BSakfeCADzv0yADPgTJ47NHHdxj/IyVQx+QPme4XP/9l9DcAIu3GMgbbP0Bvvn1LkJg4D0PdkgpwHohvUNsCyKTKRpbfjnOYM1o/9TLaZGRqycjUVuwxtaM3/X0oAOhrwEsmEkKKEmIZNCpKC2woBUnpuZ9iBTPLQwaFSVEBl3Av5WaClweFAI7SuXfefq8DMikdwpbvVaF0BQpaKeWE408ORVGrGQeKGIQp+EjX4cFTzBjMKF9KFNypPChy6HAQwuB9o9SET08hBtHJtjsGGhdoWzCUMK7RkMqj74NSAmAkWLAefjxgXkHYMhpArVLCwtBpjKRih/oFCe2eu++P++BZH3/cSQVtq3AzDHCIaBDbEJPoK3StSFAQb1CUodirwQRffPvtdgzDAwEPIwGaFihPsLcUG3pTqHzQ3RBmQEND2IFgQx+AJAXryRjYc499AsELLCjEM3WB1/7ub34bpCTaAQ0QcQYUMyRBoEYh6MkPBC3CIJCsCGSAsCDGQWiDrUuekPf0AcIf9QHv6r41Z6wdWONpuBgLEK+IQzCkrbry6oEyhgIWEQ95oqShl91+210BQZr878YJjOgKy60Uihj62JprrF2uuvKaGP/99/1kQOgC5IE65x/EMYQqZAYamu/MGR1QEEG9MjwwoelPpDYzVl8rYEfBt+IFCGOyKa1Z70jri9YX00wGpoVixyiGmhIJDNKVXqkNB6uUgFzdaMNNgpRlvXU36CdzXOBwoXmzZ5x+VsCO8qggO4HG5PmAxeQNwrOmGALxbK/9guQD0Qa2L5jTCCkoACmVpfr4zTCgXChg6a9/+XtwT/NUsUxl+BY7mDJhcDNEvvmNm2Ky9vwffv+/gbOO0hO3OIxt4WSKFg0q6tAeXrUyoq0xY+3A8lYmtjBsYhS7Sb6vo/qOlDCQeK0UG6UGGhWOuASbHPQtTxEDFm8ffC2lw9hx1A8Ub7LkJbCGaIEoA+8d4QaDwrPws+HvgxVNrm7P8DhBmmKwQrbC4MJzDh5XuZSbtjCSKGNGHdx13imcdkQoYG1XW3VGwL9+/GPLdHUaKUFTiliDUtRWURpGFtIQni1FKeFjZxyIhjAUKHLtXG3VNULZukefScaCsmasBN44zvU//DkQBRkOxgAkKIhbpDiiBplEMhhz5AQcq77iaYORhYPO8ME7AJ4YNC+iGB46eQOPKrJAfkVC9CcWQYkxImK0x257BcY9WdY/UtZ7wndl+N603xPPJ61fWr8swTIwpRV7Kg2T/8f/e5li8uaZTjhZxWxWggyFssRFLsRtEqak8YNTNMLjaCmFcOFmC+GCLEXRamLH5CWkqgw81shWbDKjGBBHwBlHwpEpJlACUBPiDYhuklAzilSY1Eg7rKNTtPDinRPiZXQgJ6HQKCDGAC8OMlxwl7/zXoR5YU3z8HmwPMPsA3VZc411euQrkQJc0jinEb7kfeqjrhQOEheKnSKg2BkeknrzEoXGV1tlRvQXtq3zz7swwuDJCc7w0Tf9skYpEZmIsHspwU6lr9BlUpxw8Cms88/7UpTjP+Miv6OOPDYiBBSZdriP0QN/mzcqgmL8KDFyYMwQ2jAUeL8odkU9lv3E8jEuxpDXrf/0q/C8PlceA0oYXfhfEoEBpWocMKlJDKmVVlwllKi+02f+GQtY4xQ7g8w1MoRuE0HKOmutF/W54vKrYzlhiO1tCSDY93CU/+ODMGrINtIdShn+uyjCFZdfFaxt+gkTGPx2v/UfJjCGBNnNhGiHYmcYaZMlC4aQtvdpCZ6cetlsdZz1nra+aH0xHzIwpRV7TE4j3ZoqxjPrk9jZJpwQakiYZytcvtaa6wZBAw+awkGFam2Wl4bUAc83j9bkLgyN2lNC6EFhSLzOjrzkg/DqkIHw7L9QObspilwvjwdKRzFrnRVD2Tdu/FZ4r9bRMTWZrC0RYHJCFCF6MKFi3++TsZ5qoqZskchQeCgkebN4pod9gHGKQvnzn/5WTjrxlFgn5uFGFCJhMOdHsX//hwUnOM9w7bXWiw12b77xdhg/2mBdG9mIiAXvfZiMTcLmMigodYQaZ5z+xQiPq788kchYl95j971CMTIQKCzLKFtsvlUYHuA5UeHixTZu1tYpfmXCNue1YkATyfD7l6+/OaFiF7VQLi95QsX+HMX+lTBkDvrUoaGgGXUYxDCYUej6mRKmRJUzVOwMPjz32slwtP7uHlEBYfNIQvFzUOxkB3UsVq8tNt86YHQZkowPyxXytufBng1jPJFiR4qCDYyRIMpjCUNEh4Ea7HrzMUkMZan97sa89UPrhyVZBqa2Yl+QSamUct893w3ec94cmkdUnpQBZXLySZ8JDmlhTgpZKB496zZbbxebjvCd2zltndlar3XqmZttEeviJvBdd9kj/raBDcMTL/Dggw4NjzAiC2bx0RJUmdZuZ266RTwjfOy8MLd1WrSm11/3jZjz7XrHSX7vPd+NtVVLAT6rsrlM2JcHt+kmM4Oj3dr6phvPDG/V5qoUOmVTxDw5lKrC/NpmYrcDPjZxUVCVvITytU7MyLBWz1vktWsPg0g+9iWoL55xHqC8JBv3LCkI17tuaSHyLyUUMU9fvUQRjjrimLLJxpvFJjPPMjz0nfxQw6oD71oUwpowJapfjYOwNC/ddev1oh7GkUEmf0eRBZEN+yYYBfr797/7Y/CTo1j94x/+FExzPGVeu9C9TXMiCZjd1Btbm01/2oEFjGxYl195xVW7qExutMT5fu4F0f9Yv/Bpi74IiVsmsKlN9IH3LQ91l/Spf4wzhoWxUpa9Asbj5Zde7WhOSwkGL0apZQxfK2AkRIu72aabh+yKKmH7ExGy3CHZP+DrBvsltJ+sYJ6TNwNvjkbwgrxX7d7+Xct3rh2b0v93y8DSo9jrOndMet28FxNcDgDFEWvcea2yKQWdZU7gMV3O/p88KVwTeE6qcde45yhm3jyPND5fq95e5qgOJvqoU550lE9OoP7OOuY9lRjFpjZlRMr7673qJ8ybijYfjaP8a/vVYbaUebkw+G23eNRt8ID9Bv2neYPz43/qp34TV1XslKs6zta+4cNYufJrhlpvhlW2K4yo2q8xnsNna1/oI3nkM8Nb+rKTVKbSbNq0J6TOwxdej37OvspjDc33edSMUybUJ9e/3ZN19VufqdOY/qxh/rjPpRzbmq++Mq6S3/19TqmT9laZ0taUbzLm3sgvx7MdZ8l264vWF1NcBpYexV4nw/6QE58TOTHn7/p3r2SrMumfNehSHv0c5JETsMm0P+/6SOdN4k0fPltz61+mUASDvN2rLqkwM89QBMP71KOb5/u8Mm/n5Zt1SyUQ12vd4vcwv4Gxk/mmQkhllXUZr0Tdl9f6Ogz6KM/lkZccG9mSSS4vjOvb6Ldax2hTVXbRF56pZSi7V5T1/vGKPPqi3p/9EZ8Kjqvn//3j/fK1iy4p226zQ3yu1hskeV8ea10zL9UR3Yi+GdyT4+j6sI/yd/Z1NKeO5xAJcDb5cKOknQODZJhPf73e1+fnmfav9UGTgWklA0uPYm+CO60EtymjppCbDDQZaDIwsQw0xd4UflP4TQaaDDQZaDIwjWSgKfZpNJjNep3Yem390vqlyUCTgaVJBppib4q9WepNBpoMNBloMjCNZKAp9mk0mEuTRdra2jywJgNNBpoMTCwDTbE3xd4s9SYDTQaaDDQZmEYy0BT7NBrMZr1ObL22fmn90mSgycDSJANNsTfF3iz1JgNNBpoMNBmYRjLQFPs0GsylySJtbW0eWJOBJgNNBiaWgabYm2JvlnqTgSYDTQaaDEwjGWiKfRoNZrNeJ7ZeW7+0fmky0GRgaZKBptibYm+WepOBJgNNBpoMTCMZaIp9Gg3m0mSRtrY2D6zJQJOBJgMTy0BT7E2xN0u9yUCTgSYDTQamkQw0xT6NBrNZrxNbr61fWr80GWgysDTJQFPsTbE3S73JQJOBJgNNBqaRDDTFPo0Gc2mySFtbmwfWZKDJQJOBiWXg/wOqZqauMLw55gAAAABJRU5ErkJggg==)"
      ]
    },
    {
      "cell_type": "code",
      "metadata": {
        "colab": {
          "base_uri": "https://localhost:8080/"
        },
        "id": "MAMxhIhgJlSw",
        "outputId": "bfa9e6b3-9ae3-45ab-f50b-dcba306b7b7d"
      },
      "source": [
        "data_dict # วงเล็บปีกกาเรียกว่า curly brackets\n",
        "\n",
        "# boxes จะบอกตำแหน่งของ Q1 กับ Q3\n",
        "# caps จะบอกค่า min กับ max\n",
        "# filers = outlier\n",
        "# mean = Q2\n",
        "# whiskers เส้นยาวๆออกมาจาก boxes"
      ],
      "execution_count": 100,
      "outputs": [
        {
          "output_type": "execute_result",
          "data": {
            "text/plain": [
              "{'boxes': [<matplotlib.lines.Line2D at 0x7ff6ee683c10>],\n",
              " 'caps': [<matplotlib.lines.Line2D at 0x7ff6ee6a4c50>,\n",
              "  <matplotlib.lines.Line2D at 0x7ff6ee69f1d0>],\n",
              " 'fliers': [<matplotlib.lines.Line2D at 0x7ff6ee69fc90>],\n",
              " 'means': [],\n",
              " 'medians': [<matplotlib.lines.Line2D at 0x7ff6ee69f750>],\n",
              " 'whiskers': [<matplotlib.lines.Line2D at 0x7ff6ee6a41d0>,\n",
              "  <matplotlib.lines.Line2D at 0x7ff6ee6a4710>]}"
            ]
          },
          "metadata": {
            "tags": []
          },
          "execution_count": 100
        }
      ]
    },
    {
      "cell_type": "code",
      "metadata": {
        "colab": {
          "base_uri": "https://localhost:8080/"
        },
        "id": "pV4fzMkzM2v3",
        "outputId": "11c6f2ec-e780-4790-9da7-58e1f7291798"
      },
      "source": [
        "data_dict['boxes']"
      ],
      "execution_count": 101,
      "outputs": [
        {
          "output_type": "execute_result",
          "data": {
            "text/plain": [
              "[<matplotlib.lines.Line2D at 0x7ff6ee683c10>]"
            ]
          },
          "metadata": {
            "tags": []
          },
          "execution_count": 101
        }
      ]
    },
    {
      "cell_type": "code",
      "metadata": {
        "colab": {
          "base_uri": "https://localhost:8080/"
        },
        "id": "bLxi1ooeODku",
        "outputId": "c0dce791-f938-4cf3-a4c0-9b9464810994"
      },
      "source": [
        "data_dict['boxes'][0].get_ydata() # get_ydata คือ plot กราฟตามแนวตั้ง แกน Y"
      ],
      "execution_count": 117,
      "outputs": [
        {
          "output_type": "execute_result",
          "data": {
            "text/plain": [
              "array([26., 26., 44., 44., 26.])"
            ]
          },
          "metadata": {
            "tags": []
          },
          "execution_count": 117
        }
      ]
    },
    {
      "cell_type": "code",
      "metadata": {
        "colab": {
          "base_uri": "https://localhost:8080/"
        },
        "id": "EWkpRuhUOaYK",
        "outputId": "f27a33ce-dfc9-4df8-b00e-05f19f79ebf7"
      },
      "source": [
        "Q1 = data_dict['boxes'][0].get_ydata() [0]\n",
        "Q1 "
      ],
      "execution_count": 103,
      "outputs": [
        {
          "output_type": "execute_result",
          "data": {
            "text/plain": [
              "26.0"
            ]
          },
          "metadata": {
            "tags": []
          },
          "execution_count": 103
        }
      ]
    },
    {
      "cell_type": "code",
      "metadata": {
        "colab": {
          "base_uri": "https://localhost:8080/"
        },
        "id": "9HBx9N0bMhL5",
        "outputId": "e3b3a52c-9240-4902-dcc3-76b129c0736d"
      },
      "source": [
        "Q3 = data_dict['boxes'][0].get_ydata() [2]\n",
        "Q3"
      ],
      "execution_count": 104,
      "outputs": [
        {
          "output_type": "execute_result",
          "data": {
            "text/plain": [
              "44.0"
            ]
          },
          "metadata": {
            "tags": []
          },
          "execution_count": 104
        }
      ]
    },
    {
      "cell_type": "code",
      "metadata": {
        "colab": {
          "base_uri": "https://localhost:8080/"
        },
        "id": "lYiL4q2xOlj8",
        "outputId": "4db6c3aa-d622-4b5e-bc66-c2bad3bca646"
      },
      "source": [
        "data_dict['fliers'][0].get_ydata() "
      ],
      "execution_count": 105,
      "outputs": [
        {
          "output_type": "execute_result",
          "data": {
            "text/plain": [
              "array([74., 73., 73., ..., 83., 80., 75.])"
            ]
          },
          "metadata": {
            "tags": []
          },
          "execution_count": 105
        }
      ]
    },
    {
      "cell_type": "code",
      "metadata": {
        "colab": {
          "base_uri": "https://localhost:8080/"
        },
        "id": "DaFmz2mCPu9t",
        "outputId": "21a64337-3b81-49e9-b987-31487dccc8a6"
      },
      "source": [
        "data_dict['caps'][0].get_ydata() "
      ],
      "execution_count": 106,
      "outputs": [
        {
          "output_type": "execute_result",
          "data": {
            "text/plain": [
              "array([1., 1.])"
            ]
          },
          "metadata": {
            "tags": []
          },
          "execution_count": 106
        }
      ]
    },
    {
      "cell_type": "code",
      "metadata": {
        "colab": {
          "base_uri": "https://localhost:8080/"
        },
        "id": "4mDZb7GIP1w6",
        "outputId": "4e1ba7ba-b00b-4fe6-f746-2b85f684cc9c"
      },
      "source": [
        "data_dict['caps'][1].get_ydata() "
      ],
      "execution_count": 107,
      "outputs": [
        {
          "output_type": "execute_result",
          "data": {
            "text/plain": [
              "array([71., 71.])"
            ]
          },
          "metadata": {
            "tags": []
          },
          "execution_count": 107
        }
      ]
    },
    {
      "cell_type": "code",
      "metadata": {
        "colab": {
          "base_uri": "https://localhost:8080/",
          "height": 417
        },
        "id": "OFUNP3OLP33n",
        "outputId": "7a0e6323-225f-4181-fb8a-89f0b519e27b"
      },
      "source": [
        "# ตัดข้อมูลที่เป็นตัวเลข จะตัด outlier ออก\n",
        "C1 = data_cases2_nomissingage['age'] >= data_dict['caps'][0].get_ydata()[0]\n",
        "C2 = data_cases2_nomissingage['age'] <= data_dict['caps'][1].get_ydata()[0]\n",
        "\n",
        "data_cases2_nomissingage_nooutlier = data_cases2_nomissingage[C1&C2]\n",
        "data_cases2_nomissingage_nooutlier "
      ],
      "execution_count": 108,
      "outputs": [
        {
          "output_type": "execute_result",
          "data": {
            "text/html": [
              "<div>\n",
              "<style scoped>\n",
              "    .dataframe tbody tr th:only-of-type {\n",
              "        vertical-align: middle;\n",
              "    }\n",
              "\n",
              "    .dataframe tbody tr th {\n",
              "        vertical-align: top;\n",
              "    }\n",
              "\n",
              "    .dataframe thead th {\n",
              "        text-align: right;\n",
              "    }\n",
              "</style>\n",
              "<table border=\"1\" class=\"dataframe\">\n",
              "  <thead>\n",
              "    <tr style=\"text-align: right;\">\n",
              "      <th></th>\n",
              "      <th>No.</th>\n",
              "      <th>announce_date</th>\n",
              "      <th>Notified date</th>\n",
              "      <th>sex</th>\n",
              "      <th>age</th>\n",
              "      <th>Unit</th>\n",
              "      <th>nationality</th>\n",
              "      <th>province_of_isolation</th>\n",
              "      <th>risk</th>\n",
              "      <th>province_of_onset</th>\n",
              "      <th>district_of_onset</th>\n",
              "    </tr>\n",
              "  </thead>\n",
              "  <tbody>\n",
              "    <tr>\n",
              "      <th>0</th>\n",
              "      <td>1</td>\n",
              "      <td>12/1/2020</td>\n",
              "      <td>NaN</td>\n",
              "      <td>หญิง</td>\n",
              "      <td>61.000000</td>\n",
              "      <td>ปี</td>\n",
              "      <td>China</td>\n",
              "      <td>กรุงเทพมหานคร</td>\n",
              "      <td>คนต่างชาติเดินทางมาจากต่างประเทศ</td>\n",
              "      <td>กรุงเทพมหานคร</td>\n",
              "      <td>NaN</td>\n",
              "    </tr>\n",
              "    <tr>\n",
              "      <th>3</th>\n",
              "      <td>4</td>\n",
              "      <td>22/1/2020</td>\n",
              "      <td>NaN</td>\n",
              "      <td>ชาย</td>\n",
              "      <td>68.000000</td>\n",
              "      <td>ปี</td>\n",
              "      <td>China</td>\n",
              "      <td>กรุงเทพมหานคร</td>\n",
              "      <td>คนต่างชาติเดินทางมาจากต่างประเทศ</td>\n",
              "      <td>กรุงเทพมหานคร</td>\n",
              "      <td>NaN</td>\n",
              "    </tr>\n",
              "    <tr>\n",
              "      <th>4</th>\n",
              "      <td>5</td>\n",
              "      <td>24/1/2020</td>\n",
              "      <td>NaN</td>\n",
              "      <td>หญิง</td>\n",
              "      <td>66.000000</td>\n",
              "      <td>ปี</td>\n",
              "      <td>China</td>\n",
              "      <td>นนทบุรี</td>\n",
              "      <td>คนต่างชาติเดินทางมาจากต่างประเทศ</td>\n",
              "      <td>กรุงเทพมหานคร</td>\n",
              "      <td>NaN</td>\n",
              "    </tr>\n",
              "    <tr>\n",
              "      <th>5</th>\n",
              "      <td>6</td>\n",
              "      <td>25/1/2020</td>\n",
              "      <td>NaN</td>\n",
              "      <td>หญิง</td>\n",
              "      <td>33.000000</td>\n",
              "      <td>ปี</td>\n",
              "      <td>China</td>\n",
              "      <td>กรุงเทพมหานคร</td>\n",
              "      <td>คนต่างชาติเดินทางมาจากต่างประเทศ</td>\n",
              "      <td>กรุงเทพมหานคร</td>\n",
              "      <td>NaN</td>\n",
              "    </tr>\n",
              "    <tr>\n",
              "      <th>6</th>\n",
              "      <td>7</td>\n",
              "      <td>26/1/2020</td>\n",
              "      <td>NaN</td>\n",
              "      <td>หญิง</td>\n",
              "      <td>57.000000</td>\n",
              "      <td>ปี</td>\n",
              "      <td>China</td>\n",
              "      <td>กรุงเทพมหานคร</td>\n",
              "      <td>คนต่างชาติเดินทางมาจากต่างประเทศ</td>\n",
              "      <td>กรุงเทพมหานคร</td>\n",
              "      <td>NaN</td>\n",
              "    </tr>\n",
              "    <tr>\n",
              "      <th>...</th>\n",
              "      <td>...</td>\n",
              "      <td>...</td>\n",
              "      <td>...</td>\n",
              "      <td>...</td>\n",
              "      <td>...</td>\n",
              "      <td>...</td>\n",
              "      <td>...</td>\n",
              "      <td>...</td>\n",
              "      <td>...</td>\n",
              "      <td>...</td>\n",
              "      <td>...</td>\n",
              "    </tr>\n",
              "    <tr>\n",
              "      <th>512617</th>\n",
              "      <td>512618</td>\n",
              "      <td>26/7/2021</td>\n",
              "      <td>25/7/2021</td>\n",
              "      <td>ชาย</td>\n",
              "      <td>35.378474</td>\n",
              "      <td>NaN</td>\n",
              "      <td>NaN</td>\n",
              "      <td>ชลบุรี</td>\n",
              "      <td>ทัณฑสถาน/เรือนจำ</td>\n",
              "      <td>ไม่มีข้อมูล</td>\n",
              "      <td>NaN</td>\n",
              "    </tr>\n",
              "    <tr>\n",
              "      <th>512618</th>\n",
              "      <td>512619</td>\n",
              "      <td>26/7/2021</td>\n",
              "      <td>25/7/2021</td>\n",
              "      <td>ชาย</td>\n",
              "      <td>35.378474</td>\n",
              "      <td>NaN</td>\n",
              "      <td>NaN</td>\n",
              "      <td>ชลบุรี</td>\n",
              "      <td>ทัณฑสถาน/เรือนจำ</td>\n",
              "      <td>ไม่มีข้อมูล</td>\n",
              "      <td>NaN</td>\n",
              "    </tr>\n",
              "    <tr>\n",
              "      <th>512619</th>\n",
              "      <td>512620</td>\n",
              "      <td>26/7/2021</td>\n",
              "      <td>25/7/2021</td>\n",
              "      <td>ชาย</td>\n",
              "      <td>35.378474</td>\n",
              "      <td>NaN</td>\n",
              "      <td>NaN</td>\n",
              "      <td>ชลบุรี</td>\n",
              "      <td>ทัณฑสถาน/เรือนจำ</td>\n",
              "      <td>ไม่มีข้อมูล</td>\n",
              "      <td>NaN</td>\n",
              "    </tr>\n",
              "    <tr>\n",
              "      <th>512620</th>\n",
              "      <td>512621</td>\n",
              "      <td>26/7/2021</td>\n",
              "      <td>25/7/2021</td>\n",
              "      <td>ชาย</td>\n",
              "      <td>35.378474</td>\n",
              "      <td>NaN</td>\n",
              "      <td>NaN</td>\n",
              "      <td>ชลบุรี</td>\n",
              "      <td>ทัณฑสถาน/เรือนจำ</td>\n",
              "      <td>ไม่มีข้อมูล</td>\n",
              "      <td>NaN</td>\n",
              "    </tr>\n",
              "    <tr>\n",
              "      <th>512621</th>\n",
              "      <td>512622</td>\n",
              "      <td>26/7/2021</td>\n",
              "      <td>25/7/2021</td>\n",
              "      <td>ชาย</td>\n",
              "      <td>35.378474</td>\n",
              "      <td>NaN</td>\n",
              "      <td>NaN</td>\n",
              "      <td>ชลบุรี</td>\n",
              "      <td>ทัณฑสถาน/เรือนจำ</td>\n",
              "      <td>ไม่มีข้อมูล</td>\n",
              "      <td>NaN</td>\n",
              "    </tr>\n",
              "  </tbody>\n",
              "</table>\n",
              "<p>502350 rows × 11 columns</p>\n",
              "</div>"
            ],
            "text/plain": [
              "           No. announce_date  ... province_of_onset district_of_onset\n",
              "0            1     12/1/2020  ...     กรุงเทพมหานคร               NaN\n",
              "3            4     22/1/2020  ...     กรุงเทพมหานคร               NaN\n",
              "4            5     24/1/2020  ...     กรุงเทพมหานคร               NaN\n",
              "5            6     25/1/2020  ...     กรุงเทพมหานคร               NaN\n",
              "6            7     26/1/2020  ...     กรุงเทพมหานคร               NaN\n",
              "...        ...           ...  ...               ...               ...\n",
              "512617  512618     26/7/2021  ...       ไม่มีข้อมูล               NaN\n",
              "512618  512619     26/7/2021  ...       ไม่มีข้อมูล               NaN\n",
              "512619  512620     26/7/2021  ...       ไม่มีข้อมูล               NaN\n",
              "512620  512621     26/7/2021  ...       ไม่มีข้อมูล               NaN\n",
              "512621  512622     26/7/2021  ...       ไม่มีข้อมูล               NaN\n",
              "\n",
              "[502350 rows x 11 columns]"
            ]
          },
          "metadata": {
            "tags": []
          },
          "execution_count": 108
        }
      ]
    },
    {
      "cell_type": "code",
      "metadata": {
        "colab": {
          "base_uri": "https://localhost:8080/",
          "height": 265
        },
        "id": "EPY4zQRHQ6ZW",
        "outputId": "7767fc6f-614d-4f06-85e2-e13299e8f392"
      },
      "source": [
        "data_dict2 = plt.boxplot(data_cases2_nomissingage_nooutlier['age'])"
      ],
      "execution_count": 109,
      "outputs": [
        {
          "output_type": "display_data",
          "data": {
            "image/png": "[encoded data removed]",
            "text/plain": [
              "<Figure size 432x288 with 1 Axes>"
            ]
          },
          "metadata": {
            "tags": [],
            "needs_background": "light"
          }
        }
      ]
    },
    {
      "cell_type": "markdown",
      "metadata": {
        "id": "HvJESKnqRTPq"
      },
      "source": [
        "ตัด outlier แบบ manual"
      ]
    },
    {
      "cell_type": "code",
      "metadata": {
        "colab": {
          "base_uri": "https://localhost:8080/",
          "height": 417
        },
        "id": "7YeaR45mRMVU",
        "outputId": "50219bb8-14a8-40cb-93b8-e91f55849595"
      },
      "source": [
        "data_cases2_nomissingage[data_cases2_nomissingage['province_of_onset'] != 'ลอง'] # ตัดข้อมูลที่เป็นตัวหนังสือ"
      ],
      "execution_count": 110,
      "outputs": [
        {
          "output_type": "execute_result",
          "data": {
            "text/html": [
              "<div>\n",
              "<style scoped>\n",
              "    .dataframe tbody tr th:only-of-type {\n",
              "        vertical-align: middle;\n",
              "    }\n",
              "\n",
              "    .dataframe tbody tr th {\n",
              "        vertical-align: top;\n",
              "    }\n",
              "\n",
              "    .dataframe thead th {\n",
              "        text-align: right;\n",
              "    }\n",
              "</style>\n",
              "<table border=\"1\" class=\"dataframe\">\n",
              "  <thead>\n",
              "    <tr style=\"text-align: right;\">\n",
              "      <th></th>\n",
              "      <th>No.</th>\n",
              "      <th>announce_date</th>\n",
              "      <th>Notified date</th>\n",
              "      <th>sex</th>\n",
              "      <th>age</th>\n",
              "      <th>Unit</th>\n",
              "      <th>nationality</th>\n",
              "      <th>province_of_isolation</th>\n",
              "      <th>risk</th>\n",
              "      <th>province_of_onset</th>\n",
              "      <th>district_of_onset</th>\n",
              "    </tr>\n",
              "  </thead>\n",
              "  <tbody>\n",
              "    <tr>\n",
              "      <th>0</th>\n",
              "      <td>1</td>\n",
              "      <td>12/1/2020</td>\n",
              "      <td>NaN</td>\n",
              "      <td>หญิง</td>\n",
              "      <td>61.000000</td>\n",
              "      <td>ปี</td>\n",
              "      <td>China</td>\n",
              "      <td>กรุงเทพมหานคร</td>\n",
              "      <td>คนต่างชาติเดินทางมาจากต่างประเทศ</td>\n",
              "      <td>กรุงเทพมหานคร</td>\n",
              "      <td>NaN</td>\n",
              "    </tr>\n",
              "    <tr>\n",
              "      <th>1</th>\n",
              "      <td>2</td>\n",
              "      <td>17/1/2020</td>\n",
              "      <td>NaN</td>\n",
              "      <td>หญิง</td>\n",
              "      <td>74.000000</td>\n",
              "      <td>ปี</td>\n",
              "      <td>China</td>\n",
              "      <td>กรุงเทพมหานคร</td>\n",
              "      <td>คนต่างชาติเดินทางมาจากต่างประเทศ</td>\n",
              "      <td>กรุงเทพมหานคร</td>\n",
              "      <td>NaN</td>\n",
              "    </tr>\n",
              "    <tr>\n",
              "      <th>2</th>\n",
              "      <td>3</td>\n",
              "      <td>22/1/2020</td>\n",
              "      <td>NaN</td>\n",
              "      <td>หญิง</td>\n",
              "      <td>73.000000</td>\n",
              "      <td>ปี</td>\n",
              "      <td>Thailand</td>\n",
              "      <td>นครปฐม</td>\n",
              "      <td>คนต่างชาติเดินทางมาจากต่างประเทศ</td>\n",
              "      <td>นครปฐม</td>\n",
              "      <td>เมือง</td>\n",
              "    </tr>\n",
              "    <tr>\n",
              "      <th>3</th>\n",
              "      <td>4</td>\n",
              "      <td>22/1/2020</td>\n",
              "      <td>NaN</td>\n",
              "      <td>ชาย</td>\n",
              "      <td>68.000000</td>\n",
              "      <td>ปี</td>\n",
              "      <td>China</td>\n",
              "      <td>กรุงเทพมหานคร</td>\n",
              "      <td>คนต่างชาติเดินทางมาจากต่างประเทศ</td>\n",
              "      <td>กรุงเทพมหานคร</td>\n",
              "      <td>NaN</td>\n",
              "    </tr>\n",
              "    <tr>\n",
              "      <th>4</th>\n",
              "      <td>5</td>\n",
              "      <td>24/1/2020</td>\n",
              "      <td>NaN</td>\n",
              "      <td>หญิง</td>\n",
              "      <td>66.000000</td>\n",
              "      <td>ปี</td>\n",
              "      <td>China</td>\n",
              "      <td>นนทบุรี</td>\n",
              "      <td>คนต่างชาติเดินทางมาจากต่างประเทศ</td>\n",
              "      <td>กรุงเทพมหานคร</td>\n",
              "      <td>NaN</td>\n",
              "    </tr>\n",
              "    <tr>\n",
              "      <th>...</th>\n",
              "      <td>...</td>\n",
              "      <td>...</td>\n",
              "      <td>...</td>\n",
              "      <td>...</td>\n",
              "      <td>...</td>\n",
              "      <td>...</td>\n",
              "      <td>...</td>\n",
              "      <td>...</td>\n",
              "      <td>...</td>\n",
              "      <td>...</td>\n",
              "      <td>...</td>\n",
              "    </tr>\n",
              "    <tr>\n",
              "      <th>512617</th>\n",
              "      <td>512618</td>\n",
              "      <td>26/7/2021</td>\n",
              "      <td>25/7/2021</td>\n",
              "      <td>ชาย</td>\n",
              "      <td>35.378474</td>\n",
              "      <td>NaN</td>\n",
              "      <td>NaN</td>\n",
              "      <td>ชลบุรี</td>\n",
              "      <td>ทัณฑสถาน/เรือนจำ</td>\n",
              "      <td>ไม่มีข้อมูล</td>\n",
              "      <td>NaN</td>\n",
              "    </tr>\n",
              "    <tr>\n",
              "      <th>512618</th>\n",
              "      <td>512619</td>\n",
              "      <td>26/7/2021</td>\n",
              "      <td>25/7/2021</td>\n",
              "      <td>ชาย</td>\n",
              "      <td>35.378474</td>\n",
              "      <td>NaN</td>\n",
              "      <td>NaN</td>\n",
              "      <td>ชลบุรี</td>\n",
              "      <td>ทัณฑสถาน/เรือนจำ</td>\n",
              "      <td>ไม่มีข้อมูล</td>\n",
              "      <td>NaN</td>\n",
              "    </tr>\n",
              "    <tr>\n",
              "      <th>512619</th>\n",
              "      <td>512620</td>\n",
              "      <td>26/7/2021</td>\n",
              "      <td>25/7/2021</td>\n",
              "      <td>ชาย</td>\n",
              "      <td>35.378474</td>\n",
              "      <td>NaN</td>\n",
              "      <td>NaN</td>\n",
              "      <td>ชลบุรี</td>\n",
              "      <td>ทัณฑสถาน/เรือนจำ</td>\n",
              "      <td>ไม่มีข้อมูล</td>\n",
              "      <td>NaN</td>\n",
              "    </tr>\n",
              "    <tr>\n",
              "      <th>512620</th>\n",
              "      <td>512621</td>\n",
              "      <td>26/7/2021</td>\n",
              "      <td>25/7/2021</td>\n",
              "      <td>ชาย</td>\n",
              "      <td>35.378474</td>\n",
              "      <td>NaN</td>\n",
              "      <td>NaN</td>\n",
              "      <td>ชลบุรี</td>\n",
              "      <td>ทัณฑสถาน/เรือนจำ</td>\n",
              "      <td>ไม่มีข้อมูล</td>\n",
              "      <td>NaN</td>\n",
              "    </tr>\n",
              "    <tr>\n",
              "      <th>512621</th>\n",
              "      <td>512622</td>\n",
              "      <td>26/7/2021</td>\n",
              "      <td>25/7/2021</td>\n",
              "      <td>ชาย</td>\n",
              "      <td>35.378474</td>\n",
              "      <td>NaN</td>\n",
              "      <td>NaN</td>\n",
              "      <td>ชลบุรี</td>\n",
              "      <td>ทัณฑสถาน/เรือนจำ</td>\n",
              "      <td>ไม่มีข้อมูล</td>\n",
              "      <td>NaN</td>\n",
              "    </tr>\n",
              "  </tbody>\n",
              "</table>\n",
              "<p>512616 rows × 11 columns</p>\n",
              "</div>"
            ],
            "text/plain": [
              "           No. announce_date  ... province_of_onset district_of_onset\n",
              "0            1     12/1/2020  ...     กรุงเทพมหานคร               NaN\n",
              "1            2     17/1/2020  ...     กรุงเทพมหานคร               NaN\n",
              "2            3     22/1/2020  ...            นครปฐม             เมือง\n",
              "3            4     22/1/2020  ...     กรุงเทพมหานคร               NaN\n",
              "4            5     24/1/2020  ...     กรุงเทพมหานคร               NaN\n",
              "...        ...           ...  ...               ...               ...\n",
              "512617  512618     26/7/2021  ...       ไม่มีข้อมูล               NaN\n",
              "512618  512619     26/7/2021  ...       ไม่มีข้อมูล               NaN\n",
              "512619  512620     26/7/2021  ...       ไม่มีข้อมูล               NaN\n",
              "512620  512621     26/7/2021  ...       ไม่มีข้อมูล               NaN\n",
              "512621  512622     26/7/2021  ...       ไม่มีข้อมูล               NaN\n",
              "\n",
              "[512616 rows x 11 columns]"
            ]
          },
          "metadata": {
            "tags": []
          },
          "execution_count": 110
        }
      ]
    },
    {
      "cell_type": "markdown",
      "metadata": {
        "id": "aUW-CijpR7uW"
      },
      "source": [
        "### **HW8 + Quiz 5**"
      ]
    },
    {
      "cell_type": "markdown",
      "metadata": {
        "id": "ohv1ZNiVSRZ5"
      },
      "source": [
        "เขียนฟังก์ชันคำนวณหา Q1,Q2,Q3,IQR,min,max โดยรับ input เป็น output ของ boxplot และแกนของ boxplot\n",
        "\n",
        "\n",
        "\n",
        "```\n",
        "def box_vals(box_out_dict) :\n",
        "    #your code1\n",
        "    .\n",
        "    .\n",
        "    .\n",
        "    #your codex\n",
        "    return Q1,Q2,Q3,IQR,min,max\n",
        "```\n",
        "\n"
      ]
    },
    {
      "cell_type": "code",
      "metadata": {
        "id": "WGvHUuc6Ruhf"
      },
      "source": [
        "def box_vals(box_out_dict) :\n",
        "        q1 = box_out_dict['boxes'][0].get_ydata()[0]\n",
        "        q2 = box_out_dict['medians'][0].get_ydata()[0]\n",
        "        q3 = box_out_dict['boxes'][0].get_ydata()[2]\n",
        "        iqr =  q3 - q1\n",
        "        vmin =  box_out_dict['caps'][0].get_ydata()[0]\n",
        "        vmax =  box_out_dict['caps'][1].get_ydata()[0] \n",
        "        return q1,q2,q3,iqr,vmin,vmax\n",
        "\n",
        "# ตรวจสอบโดย box_vals(data_dict) ผลที่ได้จะต้องแสดงค่า q1,q2,q3,iqr,vmin,vmax ออกมา"
      ],
      "execution_count": 118,
      "outputs": []
    },
    {
      "cell_type": "code",
      "metadata": {
        "id": "Uniffd4gSdSx"
      },
      "source": [
        ""
      ],
      "execution_count": null,
      "outputs": []
    }
  ]
}