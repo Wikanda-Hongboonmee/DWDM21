{
  "nbformat": 4,
  "nbformat_minor": 0,
  "metadata": {
    "colab": {
      "provenance": [],
      "collapsed_sections": [
        "L925Ps1fCR0G",
        "ZwImG9YEEYm2",
        "52MmaiwGEe1t",
        "wYAcFAyPEilt",
        "kyGUrWe3BA2R",
        "gXxmmi_tCM-v",
        "zCJ81-Dra2Db"
      ],
      "authorship_tag": "ABX9TyP1l6C4ht5cP9qCvCF32JkS",
      "include_colab_link": true
    },
    "kernelspec": {
      "name": "python3",
      "display_name": "Python 3"
    },
    "language_info": {
      "name": "python"
    }
  },
  "cells": [
    {
      "cell_type": "markdown",
      "metadata": {
        "id": "view-in-github",
        "colab_type": "text"
      },
      "source": [
        "<a href=\"https://colab.research.google.com/github/Wikanda-Hongboonmee/DWDM21/blob/main/%E0%B8%AA%E0%B8%B3%E0%B9%80%E0%B8%99%E0%B8%B2%E0%B8%82%E0%B8%AD%E0%B8%87_Demo_Project.ipynb\" target=\"_parent\"><img src=\"https://colab.research.google.com/assets/colab-badge.svg\" alt=\"Open In Colab\"/></a>"
      ]
    },
    {
      "cell_type": "code",
      "execution_count": 1,
      "metadata": {
        "id": "ghaNustN4vTj"
      },
      "outputs": [],
      "source": [
        "from keras.models import Sequential #ทำการ import package ที่จะนำมาใช้ในการสร้างตัวแบบ LSTM"
      ]
    },
    {
      "cell_type": "code",
      "source": [
        "from keras.layers import Dense"
      ],
      "metadata": {
        "id": "_ID9vaxB5P5O"
      },
      "execution_count": 2,
      "outputs": []
    },
    {
      "cell_type": "code",
      "source": [
        "from keras.layers import LSTM"
      ],
      "metadata": {
        "id": "sqQ3v4EM5bBy"
      },
      "execution_count": 3,
      "outputs": []
    },
    {
      "cell_type": "code",
      "source": [
        "from matplotlib import pyplot"
      ],
      "metadata": {
        "id": "Q0fBBrO75dpt"
      },
      "execution_count": 4,
      "outputs": []
    },
    {
      "cell_type": "code",
      "source": [
        "import pandas as pd  # pandas เป็น Package ที่ใช้เกี่ยวกับการจัดการข้อมูลที่เป็นตาราง , เรียกใช้โดยการ import แล้วตามด้วยชื่อ Package"
      ],
      "metadata": {
        "id": "UQR6dcH85eij"
      },
      "execution_count": 5,
      "outputs": []
    },
    {
      "cell_type": "code",
      "source": [
        "from google.colab import drive  # เชื่อมต่อกับ google drive ที่เราเก็บข้อมูลไว้\n",
        "drive.mount('/content/drive')"
      ],
      "metadata": {
        "colab": {
          "base_uri": "https://localhost:8080/"
        },
        "id": "DXpgP1kF6Ido",
        "outputId": "0279331f-0c81-4104-fa83-d001bc6476d7"
      },
      "execution_count": 6,
      "outputs": [
        {
          "output_type": "stream",
          "name": "stdout",
          "text": [
            "Drive already mounted at /content/drive; to attempt to forcibly remount, call drive.mount(\"/content/drive\", force_remount=True).\n"
          ]
        }
      ]
    },
    {
      "cell_type": "code",
      "source": [
        "import os # เป็น package ที่เอาไว้จัดการไฟล์และเอาไว้ดูที่มาของไฟล์หรือ path"
      ],
      "metadata": {
        "id": "oRfsJJ1_6OWe"
      },
      "execution_count": 7,
      "outputs": []
    },
    {
      "cell_type": "code",
      "source": [
        "path = '/content/drive/My Drive/Demo-project' #ระบุให้ชี้ไปที่โฟลเดอร์ใน google drive ที่เราเซฟไฟล์ไว้ คือ โฟลเดอร์ Demo-project"
      ],
      "metadata": {
        "id": "uxL19JUL6QR5"
      },
      "execution_count": 8,
      "outputs": []
    },
    {
      "cell_type": "markdown",
      "source": [
        "## **ข้อมูลที่นำมาใช้**"
      ],
      "metadata": {
        "id": "L925Ps1fCR0G"
      }
    },
    {
      "cell_type": "markdown",
      "source": [
        "**ข้อมูลชุดที่ 1** : ข้อมูลมูลค่าการส่งออกข้าว ยางพารา และมันสำปะหลังรายเดือนของประเทศไทย ข้อมูลรายเดือน ตั้งแต่เดือน มกราคม 2554 -  มีนาคม 2565\n",
        "\n",
        "ที่มาของข้อมูล : http://impexp.oae.go.th/service/export.php\n",
        "\n",
        "องค์กร : สำนักงานเศรษฐกิจการเกษตร กระทรวงเกษตรและสหกรณ์\n",
        "\n"
      ],
      "metadata": {
        "id": "vz5OUfG_CVL0"
      }
    },
    {
      "cell_type": "markdown",
      "source": [
        "\n",
        "\n",
        "---\n",
        "\n",
        "\n",
        "**ข้อมูลชุดที่ 2**: อัตราแลกเปลี่ยนเฉลี่ยของธนาคารพาณิชย์ ข้อมูลรายเดือน ตั้งแต่เดือน มกราคม 2554 - มีนาคม 2565\n",
        "\n",
        "ที่มาของข้อมูล : https://www.bot.or.th/thai/statistics/financialmarkets/exchangerate/_layouts/application/exchangerate/exchangerate.aspx\n",
        "\n",
        "องค์กร : ธนาคารแห่งประเทศไทย"
      ],
      "metadata": {
        "id": "mkDFLUL_C11E"
      }
    },
    {
      "cell_type": "markdown",
      "source": [
        "---\n",
        "\n",
        "\n",
        "**ข้อมูลชุดที่ 3** : ข้อมูลดัชนี SET 100 ข้อมูลรายเดือน ตั้งแต่เดือน มกราคม 2554 - มีนาคม 2565\n",
        "\n",
        "ที่มาของข้อมูล : https://www.set.or.th/th/market/index/set100/overview\n",
        "\n",
        "องค์กร : Investing.com"
      ],
      "metadata": {
        "id": "t5EWfrEfD7HA"
      }
    },
    {
      "cell_type": "markdown",
      "source": [
        "## **ชุดข้อมูลที่ 1**"
      ],
      "metadata": {
        "id": "ZwImG9YEEYm2"
      }
    },
    {
      "cell_type": "code",
      "source": [
        "data = pd.read_excel(os.path.join(path,'export1.xlsx')) # ไฟล์ที่เราต้องการ\n",
        "data  # print data ดูว่ามันหน้าตาเป็นยังไง"
      ],
      "metadata": {
        "colab": {
          "base_uri": "https://localhost:8080/",
          "height": 0
        },
        "id": "v6smym-d6Xxz",
        "outputId": "cf496a03-01f8-4d22-8231-25f09f3abec4"
      },
      "execution_count": 9,
      "outputs": [
        {
          "output_type": "execute_result",
          "data": {
            "text/plain": [
              "                    Date  Months         ข้าว      ยางพารา  มันสำปะหลัง\n",
              "0    2554-01-01 00:00:00       1  15536428007  36513515829   5789775035\n",
              "1    2554-02-01 00:00:00       2  14717660237  40694496193   7440822287\n",
              "2    2554-03-01 00:00:00       3  20183614418  47683834428   8758253202\n",
              "3    2554-04-01 00:00:00       4  15096164762  31135906606   4788642446\n",
              "4    2554-05-01 00:00:00       5  21296515946  34338915105   7099610188\n",
              "..                   ...     ...          ...          ...          ...\n",
              "130  2564-11-01 00:00:00     131  12771322292  17238310426   9641096643\n",
              "131  2564-12-01 00:00:00     132  12522650304  17844354831  13270649692\n",
              "132  2565-01-01 00:00:00     133   7431170164  17374340466  11855470749\n",
              "133  2565-02-01 00:00:00     134   9675354365  16427316475  11906795209\n",
              "134  2565-03-01 00:00:00     135  10375363830  18843921424  13891294311\n",
              "\n",
              "[135 rows x 5 columns]"
            ],
            "text/html": [
              "\n",
              "  <div id=\"df-80b63780-ca4f-4721-bdda-bac947d89b83\">\n",
              "    <div class=\"colab-df-container\">\n",
              "      <div>\n",
              "<style scoped>\n",
              "    .dataframe tbody tr th:only-of-type {\n",
              "        vertical-align: middle;\n",
              "    }\n",
              "\n",
              "    .dataframe tbody tr th {\n",
              "        vertical-align: top;\n",
              "    }\n",
              "\n",
              "    .dataframe thead th {\n",
              "        text-align: right;\n",
              "    }\n",
              "</style>\n",
              "<table border=\"1\" class=\"dataframe\">\n",
              "  <thead>\n",
              "    <tr style=\"text-align: right;\">\n",
              "      <th></th>\n",
              "      <th>Date</th>\n",
              "      <th>Months</th>\n",
              "      <th>ข้าว</th>\n",
              "      <th>ยางพารา</th>\n",
              "      <th>มันสำปะหลัง</th>\n",
              "    </tr>\n",
              "  </thead>\n",
              "  <tbody>\n",
              "    <tr>\n",
              "      <th>0</th>\n",
              "      <td>2554-01-01 00:00:00</td>\n",
              "      <td>1</td>\n",
              "      <td>15536428007</td>\n",
              "      <td>36513515829</td>\n",
              "      <td>5789775035</td>\n",
              "    </tr>\n",
              "    <tr>\n",
              "      <th>1</th>\n",
              "      <td>2554-02-01 00:00:00</td>\n",
              "      <td>2</td>\n",
              "      <td>14717660237</td>\n",
              "      <td>40694496193</td>\n",
              "      <td>7440822287</td>\n",
              "    </tr>\n",
              "    <tr>\n",
              "      <th>2</th>\n",
              "      <td>2554-03-01 00:00:00</td>\n",
              "      <td>3</td>\n",
              "      <td>20183614418</td>\n",
              "      <td>47683834428</td>\n",
              "      <td>8758253202</td>\n",
              "    </tr>\n",
              "    <tr>\n",
              "      <th>3</th>\n",
              "      <td>2554-04-01 00:00:00</td>\n",
              "      <td>4</td>\n",
              "      <td>15096164762</td>\n",
              "      <td>31135906606</td>\n",
              "      <td>4788642446</td>\n",
              "    </tr>\n",
              "    <tr>\n",
              "      <th>4</th>\n",
              "      <td>2554-05-01 00:00:00</td>\n",
              "      <td>5</td>\n",
              "      <td>21296515946</td>\n",
              "      <td>34338915105</td>\n",
              "      <td>7099610188</td>\n",
              "    </tr>\n",
              "    <tr>\n",
              "      <th>...</th>\n",
              "      <td>...</td>\n",
              "      <td>...</td>\n",
              "      <td>...</td>\n",
              "      <td>...</td>\n",
              "      <td>...</td>\n",
              "    </tr>\n",
              "    <tr>\n",
              "      <th>130</th>\n",
              "      <td>2564-11-01 00:00:00</td>\n",
              "      <td>131</td>\n",
              "      <td>12771322292</td>\n",
              "      <td>17238310426</td>\n",
              "      <td>9641096643</td>\n",
              "    </tr>\n",
              "    <tr>\n",
              "      <th>131</th>\n",
              "      <td>2564-12-01 00:00:00</td>\n",
              "      <td>132</td>\n",
              "      <td>12522650304</td>\n",
              "      <td>17844354831</td>\n",
              "      <td>13270649692</td>\n",
              "    </tr>\n",
              "    <tr>\n",
              "      <th>132</th>\n",
              "      <td>2565-01-01 00:00:00</td>\n",
              "      <td>133</td>\n",
              "      <td>7431170164</td>\n",
              "      <td>17374340466</td>\n",
              "      <td>11855470749</td>\n",
              "    </tr>\n",
              "    <tr>\n",
              "      <th>133</th>\n",
              "      <td>2565-02-01 00:00:00</td>\n",
              "      <td>134</td>\n",
              "      <td>9675354365</td>\n",
              "      <td>16427316475</td>\n",
              "      <td>11906795209</td>\n",
              "    </tr>\n",
              "    <tr>\n",
              "      <th>134</th>\n",
              "      <td>2565-03-01 00:00:00</td>\n",
              "      <td>135</td>\n",
              "      <td>10375363830</td>\n",
              "      <td>18843921424</td>\n",
              "      <td>13891294311</td>\n",
              "    </tr>\n",
              "  </tbody>\n",
              "</table>\n",
              "<p>135 rows × 5 columns</p>\n",
              "</div>\n",
              "      <button class=\"colab-df-convert\" onclick=\"convertToInteractive('df-80b63780-ca4f-4721-bdda-bac947d89b83')\"\n",
              "              title=\"Convert this dataframe to an interactive table.\"\n",
              "              style=\"display:none;\">\n",
              "        \n",
              "  <svg xmlns=\"http://www.w3.org/2000/svg\" height=\"24px\"viewBox=\"0 0 24 24\"\n",
              "       width=\"24px\">\n",
              "    <path d=\"M0 0h24v24H0V0z\" fill=\"none\"/>\n",
              "    <path d=\"M18.56 5.44l.94 2.06.94-2.06 2.06-.94-2.06-.94-.94-2.06-.94 2.06-2.06.94zm-11 1L8.5 8.5l.94-2.06 2.06-.94-2.06-.94L8.5 2.5l-.94 2.06-2.06.94zm10 10l.94 2.06.94-2.06 2.06-.94-2.06-.94-.94-2.06-.94 2.06-2.06.94z\"/><path d=\"M17.41 7.96l-1.37-1.37c-.4-.4-.92-.59-1.43-.59-.52 0-1.04.2-1.43.59L10.3 9.45l-7.72 7.72c-.78.78-.78 2.05 0 2.83L4 21.41c.39.39.9.59 1.41.59.51 0 1.02-.2 1.41-.59l7.78-7.78 2.81-2.81c.8-.78.8-2.07 0-2.86zM5.41 20L4 18.59l7.72-7.72 1.47 1.35L5.41 20z\"/>\n",
              "  </svg>\n",
              "      </button>\n",
              "      \n",
              "  <style>\n",
              "    .colab-df-container {\n",
              "      display:flex;\n",
              "      flex-wrap:wrap;\n",
              "      gap: 12px;\n",
              "    }\n",
              "\n",
              "    .colab-df-convert {\n",
              "      background-color: #E8F0FE;\n",
              "      border: none;\n",
              "      border-radius: 50%;\n",
              "      cursor: pointer;\n",
              "      display: none;\n",
              "      fill: #1967D2;\n",
              "      height: 32px;\n",
              "      padding: 0 0 0 0;\n",
              "      width: 32px;\n",
              "    }\n",
              "\n",
              "    .colab-df-convert:hover {\n",
              "      background-color: #E2EBFA;\n",
              "      box-shadow: 0px 1px 2px rgba(60, 64, 67, 0.3), 0px 1px 3px 1px rgba(60, 64, 67, 0.15);\n",
              "      fill: #174EA6;\n",
              "    }\n",
              "\n",
              "    [theme=dark] .colab-df-convert {\n",
              "      background-color: #3B4455;\n",
              "      fill: #D2E3FC;\n",
              "    }\n",
              "\n",
              "    [theme=dark] .colab-df-convert:hover {\n",
              "      background-color: #434B5C;\n",
              "      box-shadow: 0px 1px 3px 1px rgba(0, 0, 0, 0.15);\n",
              "      filter: drop-shadow(0px 1px 2px rgba(0, 0, 0, 0.3));\n",
              "      fill: #FFFFFF;\n",
              "    }\n",
              "  </style>\n",
              "\n",
              "      <script>\n",
              "        const buttonEl =\n",
              "          document.querySelector('#df-80b63780-ca4f-4721-bdda-bac947d89b83 button.colab-df-convert');\n",
              "        buttonEl.style.display =\n",
              "          google.colab.kernel.accessAllowed ? 'block' : 'none';\n",
              "\n",
              "        async function convertToInteractive(key) {\n",
              "          const element = document.querySelector('#df-80b63780-ca4f-4721-bdda-bac947d89b83');\n",
              "          const dataTable =\n",
              "            await google.colab.kernel.invokeFunction('convertToInteractive',\n",
              "                                                     [key], {});\n",
              "          if (!dataTable) return;\n",
              "\n",
              "          const docLinkHtml = 'Like what you see? Visit the ' +\n",
              "            '<a target=\"_blank\" href=https://colab.research.google.com/notebooks/data_table.ipynb>data table notebook</a>'\n",
              "            + ' to learn more about interactive tables.';\n",
              "          element.innerHTML = '';\n",
              "          dataTable['output_type'] = 'display_data';\n",
              "          await google.colab.output.renderOutput(dataTable, element);\n",
              "          const docLink = document.createElement('div');\n",
              "          docLink.innerHTML = docLinkHtml;\n",
              "          element.appendChild(docLink);\n",
              "        }\n",
              "      </script>\n",
              "    </div>\n",
              "  </div>\n",
              "  "
            ]
          },
          "metadata": {},
          "execution_count": 9
        }
      ]
    },
    {
      "cell_type": "markdown",
      "source": [
        "\n",
        "## **ชุดข้อมูลที่ 2**"
      ],
      "metadata": {
        "id": "52MmaiwGEe1t"
      }
    },
    {
      "cell_type": "code",
      "source": [
        "Exchange_Rate = pd.read_csv(os.path.join(path,'Exchange Rate.csv')) # ไฟล์ที่เราต้องการ\n",
        "Exchange_Rate # print data ดูว่ามันหน้าตาเป็นยังไง"
      ],
      "metadata": {
        "colab": {
          "base_uri": "https://localhost:8080/",
          "height": 0
        },
        "id": "aPy445r-6k2t",
        "outputId": "7a017af3-5105-4395-d5c5-f09c00f96998"
      },
      "execution_count": 10,
      "outputs": [
        {
          "output_type": "execute_result",
          "data": {
            "text/plain": [
              "          Date  Months  Exchange rate\n",
              "0     1/1/2554       1        30.5839\n",
              "1     1/2/2554       2        30.7164\n",
              "2     1/3/2554       3        30.3684\n",
              "3     1/4/2554       4        30.0541\n",
              "4     1/5/2554       5        30.2456\n",
              "..         ...     ...            ...\n",
              "130  1/11/2564     131        33.0958\n",
              "131  1/12/2564     132        33.5647\n",
              "132   1/1/2565     133        33.2395\n",
              "133   1/2/2565     134        32.6737\n",
              "134   1/3/2565     135        33.2516\n",
              "\n",
              "[135 rows x 3 columns]"
            ],
            "text/html": [
              "\n",
              "  <div id=\"df-bab6d429-a24e-484a-a7ed-86a6463c0bd0\">\n",
              "    <div class=\"colab-df-container\">\n",
              "      <div>\n",
              "<style scoped>\n",
              "    .dataframe tbody tr th:only-of-type {\n",
              "        vertical-align: middle;\n",
              "    }\n",
              "\n",
              "    .dataframe tbody tr th {\n",
              "        vertical-align: top;\n",
              "    }\n",
              "\n",
              "    .dataframe thead th {\n",
              "        text-align: right;\n",
              "    }\n",
              "</style>\n",
              "<table border=\"1\" class=\"dataframe\">\n",
              "  <thead>\n",
              "    <tr style=\"text-align: right;\">\n",
              "      <th></th>\n",
              "      <th>Date</th>\n",
              "      <th>Months</th>\n",
              "      <th>Exchange rate</th>\n",
              "    </tr>\n",
              "  </thead>\n",
              "  <tbody>\n",
              "    <tr>\n",
              "      <th>0</th>\n",
              "      <td>1/1/2554</td>\n",
              "      <td>1</td>\n",
              "      <td>30.5839</td>\n",
              "    </tr>\n",
              "    <tr>\n",
              "      <th>1</th>\n",
              "      <td>1/2/2554</td>\n",
              "      <td>2</td>\n",
              "      <td>30.7164</td>\n",
              "    </tr>\n",
              "    <tr>\n",
              "      <th>2</th>\n",
              "      <td>1/3/2554</td>\n",
              "      <td>3</td>\n",
              "      <td>30.3684</td>\n",
              "    </tr>\n",
              "    <tr>\n",
              "      <th>3</th>\n",
              "      <td>1/4/2554</td>\n",
              "      <td>4</td>\n",
              "      <td>30.0541</td>\n",
              "    </tr>\n",
              "    <tr>\n",
              "      <th>4</th>\n",
              "      <td>1/5/2554</td>\n",
              "      <td>5</td>\n",
              "      <td>30.2456</td>\n",
              "    </tr>\n",
              "    <tr>\n",
              "      <th>...</th>\n",
              "      <td>...</td>\n",
              "      <td>...</td>\n",
              "      <td>...</td>\n",
              "    </tr>\n",
              "    <tr>\n",
              "      <th>130</th>\n",
              "      <td>1/11/2564</td>\n",
              "      <td>131</td>\n",
              "      <td>33.0958</td>\n",
              "    </tr>\n",
              "    <tr>\n",
              "      <th>131</th>\n",
              "      <td>1/12/2564</td>\n",
              "      <td>132</td>\n",
              "      <td>33.5647</td>\n",
              "    </tr>\n",
              "    <tr>\n",
              "      <th>132</th>\n",
              "      <td>1/1/2565</td>\n",
              "      <td>133</td>\n",
              "      <td>33.2395</td>\n",
              "    </tr>\n",
              "    <tr>\n",
              "      <th>133</th>\n",
              "      <td>1/2/2565</td>\n",
              "      <td>134</td>\n",
              "      <td>32.6737</td>\n",
              "    </tr>\n",
              "    <tr>\n",
              "      <th>134</th>\n",
              "      <td>1/3/2565</td>\n",
              "      <td>135</td>\n",
              "      <td>33.2516</td>\n",
              "    </tr>\n",
              "  </tbody>\n",
              "</table>\n",
              "<p>135 rows × 3 columns</p>\n",
              "</div>\n",
              "      <button class=\"colab-df-convert\" onclick=\"convertToInteractive('df-bab6d429-a24e-484a-a7ed-86a6463c0bd0')\"\n",
              "              title=\"Convert this dataframe to an interactive table.\"\n",
              "              style=\"display:none;\">\n",
              "        \n",
              "  <svg xmlns=\"http://www.w3.org/2000/svg\" height=\"24px\"viewBox=\"0 0 24 24\"\n",
              "       width=\"24px\">\n",
              "    <path d=\"M0 0h24v24H0V0z\" fill=\"none\"/>\n",
              "    <path d=\"M18.56 5.44l.94 2.06.94-2.06 2.06-.94-2.06-.94-.94-2.06-.94 2.06-2.06.94zm-11 1L8.5 8.5l.94-2.06 2.06-.94-2.06-.94L8.5 2.5l-.94 2.06-2.06.94zm10 10l.94 2.06.94-2.06 2.06-.94-2.06-.94-.94-2.06-.94 2.06-2.06.94z\"/><path d=\"M17.41 7.96l-1.37-1.37c-.4-.4-.92-.59-1.43-.59-.52 0-1.04.2-1.43.59L10.3 9.45l-7.72 7.72c-.78.78-.78 2.05 0 2.83L4 21.41c.39.39.9.59 1.41.59.51 0 1.02-.2 1.41-.59l7.78-7.78 2.81-2.81c.8-.78.8-2.07 0-2.86zM5.41 20L4 18.59l7.72-7.72 1.47 1.35L5.41 20z\"/>\n",
              "  </svg>\n",
              "      </button>\n",
              "      \n",
              "  <style>\n",
              "    .colab-df-container {\n",
              "      display:flex;\n",
              "      flex-wrap:wrap;\n",
              "      gap: 12px;\n",
              "    }\n",
              "\n",
              "    .colab-df-convert {\n",
              "      background-color: #E8F0FE;\n",
              "      border: none;\n",
              "      border-radius: 50%;\n",
              "      cursor: pointer;\n",
              "      display: none;\n",
              "      fill: #1967D2;\n",
              "      height: 32px;\n",
              "      padding: 0 0 0 0;\n",
              "      width: 32px;\n",
              "    }\n",
              "\n",
              "    .colab-df-convert:hover {\n",
              "      background-color: #E2EBFA;\n",
              "      box-shadow: 0px 1px 2px rgba(60, 64, 67, 0.3), 0px 1px 3px 1px rgba(60, 64, 67, 0.15);\n",
              "      fill: #174EA6;\n",
              "    }\n",
              "\n",
              "    [theme=dark] .colab-df-convert {\n",
              "      background-color: #3B4455;\n",
              "      fill: #D2E3FC;\n",
              "    }\n",
              "\n",
              "    [theme=dark] .colab-df-convert:hover {\n",
              "      background-color: #434B5C;\n",
              "      box-shadow: 0px 1px 3px 1px rgba(0, 0, 0, 0.15);\n",
              "      filter: drop-shadow(0px 1px 2px rgba(0, 0, 0, 0.3));\n",
              "      fill: #FFFFFF;\n",
              "    }\n",
              "  </style>\n",
              "\n",
              "      <script>\n",
              "        const buttonEl =\n",
              "          document.querySelector('#df-bab6d429-a24e-484a-a7ed-86a6463c0bd0 button.colab-df-convert');\n",
              "        buttonEl.style.display =\n",
              "          google.colab.kernel.accessAllowed ? 'block' : 'none';\n",
              "\n",
              "        async function convertToInteractive(key) {\n",
              "          const element = document.querySelector('#df-bab6d429-a24e-484a-a7ed-86a6463c0bd0');\n",
              "          const dataTable =\n",
              "            await google.colab.kernel.invokeFunction('convertToInteractive',\n",
              "                                                     [key], {});\n",
              "          if (!dataTable) return;\n",
              "\n",
              "          const docLinkHtml = 'Like what you see? Visit the ' +\n",
              "            '<a target=\"_blank\" href=https://colab.research.google.com/notebooks/data_table.ipynb>data table notebook</a>'\n",
              "            + ' to learn more about interactive tables.';\n",
              "          element.innerHTML = '';\n",
              "          dataTable['output_type'] = 'display_data';\n",
              "          await google.colab.output.renderOutput(dataTable, element);\n",
              "          const docLink = document.createElement('div');\n",
              "          docLink.innerHTML = docLinkHtml;\n",
              "          element.appendChild(docLink);\n",
              "        }\n",
              "      </script>\n",
              "    </div>\n",
              "  </div>\n",
              "  "
            ]
          },
          "metadata": {},
          "execution_count": 10
        }
      ]
    },
    {
      "cell_type": "markdown",
      "source": [
        "## **ชุดข้อมูลที่ 3**"
      ],
      "metadata": {
        "id": "wYAcFAyPEilt"
      }
    },
    {
      "cell_type": "code",
      "source": [
        "SET100_Index = pd.read_csv(os.path.join(path,'SET 100 Index.csv')) # ไฟล์ที่เราต้องการ\n",
        "SET100_Index # print data ดูว่ามันหน้าตาเป็นยังไง"
      ],
      "metadata": {
        "colab": {
          "base_uri": "https://localhost:8080/",
          "height": 0
        },
        "id": "u8wQ2kzkAPyO",
        "outputId": "43a064c3-ddfd-4ec3-ead5-1abc5c2963ca"
      },
      "execution_count": 11,
      "outputs": [
        {
          "output_type": "execute_result",
          "data": {
            "text/plain": [
              "         Date  Months  SET100Index\n",
              "0    1/1/2554     1.0      1506.94\n",
              "1    1/2/2554     2.0      1605.25\n",
              "2    1/3/2554     3.0      1682.40\n",
              "3    1/4/2554     4.0      1642.80\n",
              "4    1/5/2554     5.0      1587.31\n",
              "..        ...     ...          ...\n",
              "134  1/3/2565   135.0      2250.62\n",
              "135       NaN     NaN      2280.45\n",
              "136       NaN     NaN      2158.78\n",
              "137       NaN     NaN      2168.17\n",
              "138       NaN     NaN      2211.47\n",
              "\n",
              "[139 rows x 3 columns]"
            ],
            "text/html": [
              "\n",
              "  <div id=\"df-69b6c535-a9bd-41de-8697-bd7de530c484\">\n",
              "    <div class=\"colab-df-container\">\n",
              "      <div>\n",
              "<style scoped>\n",
              "    .dataframe tbody tr th:only-of-type {\n",
              "        vertical-align: middle;\n",
              "    }\n",
              "\n",
              "    .dataframe tbody tr th {\n",
              "        vertical-align: top;\n",
              "    }\n",
              "\n",
              "    .dataframe thead th {\n",
              "        text-align: right;\n",
              "    }\n",
              "</style>\n",
              "<table border=\"1\" class=\"dataframe\">\n",
              "  <thead>\n",
              "    <tr style=\"text-align: right;\">\n",
              "      <th></th>\n",
              "      <th>Date</th>\n",
              "      <th>Months</th>\n",
              "      <th>SET100Index</th>\n",
              "    </tr>\n",
              "  </thead>\n",
              "  <tbody>\n",
              "    <tr>\n",
              "      <th>0</th>\n",
              "      <td>1/1/2554</td>\n",
              "      <td>1.0</td>\n",
              "      <td>1506.94</td>\n",
              "    </tr>\n",
              "    <tr>\n",
              "      <th>1</th>\n",
              "      <td>1/2/2554</td>\n",
              "      <td>2.0</td>\n",
              "      <td>1605.25</td>\n",
              "    </tr>\n",
              "    <tr>\n",
              "      <th>2</th>\n",
              "      <td>1/3/2554</td>\n",
              "      <td>3.0</td>\n",
              "      <td>1682.40</td>\n",
              "    </tr>\n",
              "    <tr>\n",
              "      <th>3</th>\n",
              "      <td>1/4/2554</td>\n",
              "      <td>4.0</td>\n",
              "      <td>1642.80</td>\n",
              "    </tr>\n",
              "    <tr>\n",
              "      <th>4</th>\n",
              "      <td>1/5/2554</td>\n",
              "      <td>5.0</td>\n",
              "      <td>1587.31</td>\n",
              "    </tr>\n",
              "    <tr>\n",
              "      <th>...</th>\n",
              "      <td>...</td>\n",
              "      <td>...</td>\n",
              "      <td>...</td>\n",
              "    </tr>\n",
              "    <tr>\n",
              "      <th>134</th>\n",
              "      <td>1/3/2565</td>\n",
              "      <td>135.0</td>\n",
              "      <td>2250.62</td>\n",
              "    </tr>\n",
              "    <tr>\n",
              "      <th>135</th>\n",
              "      <td>NaN</td>\n",
              "      <td>NaN</td>\n",
              "      <td>2280.45</td>\n",
              "    </tr>\n",
              "    <tr>\n",
              "      <th>136</th>\n",
              "      <td>NaN</td>\n",
              "      <td>NaN</td>\n",
              "      <td>2158.78</td>\n",
              "    </tr>\n",
              "    <tr>\n",
              "      <th>137</th>\n",
              "      <td>NaN</td>\n",
              "      <td>NaN</td>\n",
              "      <td>2168.17</td>\n",
              "    </tr>\n",
              "    <tr>\n",
              "      <th>138</th>\n",
              "      <td>NaN</td>\n",
              "      <td>NaN</td>\n",
              "      <td>2211.47</td>\n",
              "    </tr>\n",
              "  </tbody>\n",
              "</table>\n",
              "<p>139 rows × 3 columns</p>\n",
              "</div>\n",
              "      <button class=\"colab-df-convert\" onclick=\"convertToInteractive('df-69b6c535-a9bd-41de-8697-bd7de530c484')\"\n",
              "              title=\"Convert this dataframe to an interactive table.\"\n",
              "              style=\"display:none;\">\n",
              "        \n",
              "  <svg xmlns=\"http://www.w3.org/2000/svg\" height=\"24px\"viewBox=\"0 0 24 24\"\n",
              "       width=\"24px\">\n",
              "    <path d=\"M0 0h24v24H0V0z\" fill=\"none\"/>\n",
              "    <path d=\"M18.56 5.44l.94 2.06.94-2.06 2.06-.94-2.06-.94-.94-2.06-.94 2.06-2.06.94zm-11 1L8.5 8.5l.94-2.06 2.06-.94-2.06-.94L8.5 2.5l-.94 2.06-2.06.94zm10 10l.94 2.06.94-2.06 2.06-.94-2.06-.94-.94-2.06-.94 2.06-2.06.94z\"/><path d=\"M17.41 7.96l-1.37-1.37c-.4-.4-.92-.59-1.43-.59-.52 0-1.04.2-1.43.59L10.3 9.45l-7.72 7.72c-.78.78-.78 2.05 0 2.83L4 21.41c.39.39.9.59 1.41.59.51 0 1.02-.2 1.41-.59l7.78-7.78 2.81-2.81c.8-.78.8-2.07 0-2.86zM5.41 20L4 18.59l7.72-7.72 1.47 1.35L5.41 20z\"/>\n",
              "  </svg>\n",
              "      </button>\n",
              "      \n",
              "  <style>\n",
              "    .colab-df-container {\n",
              "      display:flex;\n",
              "      flex-wrap:wrap;\n",
              "      gap: 12px;\n",
              "    }\n",
              "\n",
              "    .colab-df-convert {\n",
              "      background-color: #E8F0FE;\n",
              "      border: none;\n",
              "      border-radius: 50%;\n",
              "      cursor: pointer;\n",
              "      display: none;\n",
              "      fill: #1967D2;\n",
              "      height: 32px;\n",
              "      padding: 0 0 0 0;\n",
              "      width: 32px;\n",
              "    }\n",
              "\n",
              "    .colab-df-convert:hover {\n",
              "      background-color: #E2EBFA;\n",
              "      box-shadow: 0px 1px 2px rgba(60, 64, 67, 0.3), 0px 1px 3px 1px rgba(60, 64, 67, 0.15);\n",
              "      fill: #174EA6;\n",
              "    }\n",
              "\n",
              "    [theme=dark] .colab-df-convert {\n",
              "      background-color: #3B4455;\n",
              "      fill: #D2E3FC;\n",
              "    }\n",
              "\n",
              "    [theme=dark] .colab-df-convert:hover {\n",
              "      background-color: #434B5C;\n",
              "      box-shadow: 0px 1px 3px 1px rgba(0, 0, 0, 0.15);\n",
              "      filter: drop-shadow(0px 1px 2px rgba(0, 0, 0, 0.3));\n",
              "      fill: #FFFFFF;\n",
              "    }\n",
              "  </style>\n",
              "\n",
              "      <script>\n",
              "        const buttonEl =\n",
              "          document.querySelector('#df-69b6c535-a9bd-41de-8697-bd7de530c484 button.colab-df-convert');\n",
              "        buttonEl.style.display =\n",
              "          google.colab.kernel.accessAllowed ? 'block' : 'none';\n",
              "\n",
              "        async function convertToInteractive(key) {\n",
              "          const element = document.querySelector('#df-69b6c535-a9bd-41de-8697-bd7de530c484');\n",
              "          const dataTable =\n",
              "            await google.colab.kernel.invokeFunction('convertToInteractive',\n",
              "                                                     [key], {});\n",
              "          if (!dataTable) return;\n",
              "\n",
              "          const docLinkHtml = 'Like what you see? Visit the ' +\n",
              "            '<a target=\"_blank\" href=https://colab.research.google.com/notebooks/data_table.ipynb>data table notebook</a>'\n",
              "            + ' to learn more about interactive tables.';\n",
              "          element.innerHTML = '';\n",
              "          dataTable['output_type'] = 'display_data';\n",
              "          await google.colab.output.renderOutput(dataTable, element);\n",
              "          const docLink = document.createElement('div');\n",
              "          docLink.innerHTML = docLinkHtml;\n",
              "          element.appendChild(docLink);\n",
              "        }\n",
              "      </script>\n",
              "    </div>\n",
              "  </div>\n",
              "  "
            ]
          },
          "metadata": {},
          "execution_count": 11
        }
      ]
    },
    {
      "cell_type": "markdown",
      "source": [
        "## **รวมข้อมูลที่ต้องนำมาใช้ในการสร้างตัวแบบ LSTM เข้าด้วยกัน**"
      ],
      "metadata": {
        "id": "kyGUrWe3BA2R"
      }
    },
    {
      "cell_type": "code",
      "source": [
        "merged_1 = data.merge(Exchange_Rate, how='left', on='Months')\n",
        "merged_1.head() # print data ดูว่ามันหน้าตาเป็นยังไง"
      ],
      "metadata": {
        "colab": {
          "base_uri": "https://localhost:8080/",
          "height": 0
        },
        "id": "FWQIlxTRBAZ8",
        "outputId": "89375772-07d9-4703-c0cc-0de2293e62b5"
      },
      "execution_count": 12,
      "outputs": [
        {
          "output_type": "execute_result",
          "data": {
            "text/plain": [
              "                Date_x  Months         ข้าว      ยางพารา  มันสำปะหลัง  \\\n",
              "0  2554-01-01 00:00:00       1  15536428007  36513515829   5789775035   \n",
              "1  2554-02-01 00:00:00       2  14717660237  40694496193   7440822287   \n",
              "2  2554-03-01 00:00:00       3  20183614418  47683834428   8758253202   \n",
              "3  2554-04-01 00:00:00       4  15096164762  31135906606   4788642446   \n",
              "4  2554-05-01 00:00:00       5  21296515946  34338915105   7099610188   \n",
              "\n",
              "     Date_y  Exchange rate  \n",
              "0  1/1/2554        30.5839  \n",
              "1  1/2/2554        30.7164  \n",
              "2  1/3/2554        30.3684  \n",
              "3  1/4/2554        30.0541  \n",
              "4  1/5/2554        30.2456  "
            ],
            "text/html": [
              "\n",
              "  <div id=\"df-ef8e8df1-6c51-4fd6-a22a-c797017460f1\">\n",
              "    <div class=\"colab-df-container\">\n",
              "      <div>\n",
              "<style scoped>\n",
              "    .dataframe tbody tr th:only-of-type {\n",
              "        vertical-align: middle;\n",
              "    }\n",
              "\n",
              "    .dataframe tbody tr th {\n",
              "        vertical-align: top;\n",
              "    }\n",
              "\n",
              "    .dataframe thead th {\n",
              "        text-align: right;\n",
              "    }\n",
              "</style>\n",
              "<table border=\"1\" class=\"dataframe\">\n",
              "  <thead>\n",
              "    <tr style=\"text-align: right;\">\n",
              "      <th></th>\n",
              "      <th>Date_x</th>\n",
              "      <th>Months</th>\n",
              "      <th>ข้าว</th>\n",
              "      <th>ยางพารา</th>\n",
              "      <th>มันสำปะหลัง</th>\n",
              "      <th>Date_y</th>\n",
              "      <th>Exchange rate</th>\n",
              "    </tr>\n",
              "  </thead>\n",
              "  <tbody>\n",
              "    <tr>\n",
              "      <th>0</th>\n",
              "      <td>2554-01-01 00:00:00</td>\n",
              "      <td>1</td>\n",
              "      <td>15536428007</td>\n",
              "      <td>36513515829</td>\n",
              "      <td>5789775035</td>\n",
              "      <td>1/1/2554</td>\n",
              "      <td>30.5839</td>\n",
              "    </tr>\n",
              "    <tr>\n",
              "      <th>1</th>\n",
              "      <td>2554-02-01 00:00:00</td>\n",
              "      <td>2</td>\n",
              "      <td>14717660237</td>\n",
              "      <td>40694496193</td>\n",
              "      <td>7440822287</td>\n",
              "      <td>1/2/2554</td>\n",
              "      <td>30.7164</td>\n",
              "    </tr>\n",
              "    <tr>\n",
              "      <th>2</th>\n",
              "      <td>2554-03-01 00:00:00</td>\n",
              "      <td>3</td>\n",
              "      <td>20183614418</td>\n",
              "      <td>47683834428</td>\n",
              "      <td>8758253202</td>\n",
              "      <td>1/3/2554</td>\n",
              "      <td>30.3684</td>\n",
              "    </tr>\n",
              "    <tr>\n",
              "      <th>3</th>\n",
              "      <td>2554-04-01 00:00:00</td>\n",
              "      <td>4</td>\n",
              "      <td>15096164762</td>\n",
              "      <td>31135906606</td>\n",
              "      <td>4788642446</td>\n",
              "      <td>1/4/2554</td>\n",
              "      <td>30.0541</td>\n",
              "    </tr>\n",
              "    <tr>\n",
              "      <th>4</th>\n",
              "      <td>2554-05-01 00:00:00</td>\n",
              "      <td>5</td>\n",
              "      <td>21296515946</td>\n",
              "      <td>34338915105</td>\n",
              "      <td>7099610188</td>\n",
              "      <td>1/5/2554</td>\n",
              "      <td>30.2456</td>\n",
              "    </tr>\n",
              "  </tbody>\n",
              "</table>\n",
              "</div>\n",
              "      <button class=\"colab-df-convert\" onclick=\"convertToInteractive('df-ef8e8df1-6c51-4fd6-a22a-c797017460f1')\"\n",
              "              title=\"Convert this dataframe to an interactive table.\"\n",
              "              style=\"display:none;\">\n",
              "        \n",
              "  <svg xmlns=\"http://www.w3.org/2000/svg\" height=\"24px\"viewBox=\"0 0 24 24\"\n",
              "       width=\"24px\">\n",
              "    <path d=\"M0 0h24v24H0V0z\" fill=\"none\"/>\n",
              "    <path d=\"M18.56 5.44l.94 2.06.94-2.06 2.06-.94-2.06-.94-.94-2.06-.94 2.06-2.06.94zm-11 1L8.5 8.5l.94-2.06 2.06-.94-2.06-.94L8.5 2.5l-.94 2.06-2.06.94zm10 10l.94 2.06.94-2.06 2.06-.94-2.06-.94-.94-2.06-.94 2.06-2.06.94z\"/><path d=\"M17.41 7.96l-1.37-1.37c-.4-.4-.92-.59-1.43-.59-.52 0-1.04.2-1.43.59L10.3 9.45l-7.72 7.72c-.78.78-.78 2.05 0 2.83L4 21.41c.39.39.9.59 1.41.59.51 0 1.02-.2 1.41-.59l7.78-7.78 2.81-2.81c.8-.78.8-2.07 0-2.86zM5.41 20L4 18.59l7.72-7.72 1.47 1.35L5.41 20z\"/>\n",
              "  </svg>\n",
              "      </button>\n",
              "      \n",
              "  <style>\n",
              "    .colab-df-container {\n",
              "      display:flex;\n",
              "      flex-wrap:wrap;\n",
              "      gap: 12px;\n",
              "    }\n",
              "\n",
              "    .colab-df-convert {\n",
              "      background-color: #E8F0FE;\n",
              "      border: none;\n",
              "      border-radius: 50%;\n",
              "      cursor: pointer;\n",
              "      display: none;\n",
              "      fill: #1967D2;\n",
              "      height: 32px;\n",
              "      padding: 0 0 0 0;\n",
              "      width: 32px;\n",
              "    }\n",
              "\n",
              "    .colab-df-convert:hover {\n",
              "      background-color: #E2EBFA;\n",
              "      box-shadow: 0px 1px 2px rgba(60, 64, 67, 0.3), 0px 1px 3px 1px rgba(60, 64, 67, 0.15);\n",
              "      fill: #174EA6;\n",
              "    }\n",
              "\n",
              "    [theme=dark] .colab-df-convert {\n",
              "      background-color: #3B4455;\n",
              "      fill: #D2E3FC;\n",
              "    }\n",
              "\n",
              "    [theme=dark] .colab-df-convert:hover {\n",
              "      background-color: #434B5C;\n",
              "      box-shadow: 0px 1px 3px 1px rgba(0, 0, 0, 0.15);\n",
              "      filter: drop-shadow(0px 1px 2px rgba(0, 0, 0, 0.3));\n",
              "      fill: #FFFFFF;\n",
              "    }\n",
              "  </style>\n",
              "\n",
              "      <script>\n",
              "        const buttonEl =\n",
              "          document.querySelector('#df-ef8e8df1-6c51-4fd6-a22a-c797017460f1 button.colab-df-convert');\n",
              "        buttonEl.style.display =\n",
              "          google.colab.kernel.accessAllowed ? 'block' : 'none';\n",
              "\n",
              "        async function convertToInteractive(key) {\n",
              "          const element = document.querySelector('#df-ef8e8df1-6c51-4fd6-a22a-c797017460f1');\n",
              "          const dataTable =\n",
              "            await google.colab.kernel.invokeFunction('convertToInteractive',\n",
              "                                                     [key], {});\n",
              "          if (!dataTable) return;\n",
              "\n",
              "          const docLinkHtml = 'Like what you see? Visit the ' +\n",
              "            '<a target=\"_blank\" href=https://colab.research.google.com/notebooks/data_table.ipynb>data table notebook</a>'\n",
              "            + ' to learn more about interactive tables.';\n",
              "          element.innerHTML = '';\n",
              "          dataTable['output_type'] = 'display_data';\n",
              "          await google.colab.output.renderOutput(dataTable, element);\n",
              "          const docLink = document.createElement('div');\n",
              "          docLink.innerHTML = docLinkHtml;\n",
              "          element.appendChild(docLink);\n",
              "        }\n",
              "      </script>\n",
              "    </div>\n",
              "  </div>\n",
              "  "
            ]
          },
          "metadata": {},
          "execution_count": 12
        }
      ]
    },
    {
      "cell_type": "code",
      "source": [
        "merged_2 = merged_1.merge(SET100_Index, how='left', on='Months')\n",
        "merged_2.head() # print data ดูว่ามันหน้าตาเป็นยังไง"
      ],
      "metadata": {
        "colab": {
          "base_uri": "https://localhost:8080/",
          "height": 0
        },
        "id": "EIuBHZiKCHBz",
        "outputId": "34a3e3a0-23ec-4ec5-b259-1a6cdb2e8815"
      },
      "execution_count": 13,
      "outputs": [
        {
          "output_type": "execute_result",
          "data": {
            "text/plain": [
              "                Date_x  Months         ข้าว      ยางพารา  มันสำปะหลัง  \\\n",
              "0  2554-01-01 00:00:00       1  15536428007  36513515829   5789775035   \n",
              "1  2554-02-01 00:00:00       2  14717660237  40694496193   7440822287   \n",
              "2  2554-03-01 00:00:00       3  20183614418  47683834428   8758253202   \n",
              "3  2554-04-01 00:00:00       4  15096164762  31135906606   4788642446   \n",
              "4  2554-05-01 00:00:00       5  21296515946  34338915105   7099610188   \n",
              "\n",
              "     Date_y  Exchange rate      Date  SET100Index  \n",
              "0  1/1/2554        30.5839  1/1/2554      1506.94  \n",
              "1  1/2/2554        30.7164  1/2/2554      1605.25  \n",
              "2  1/3/2554        30.3684  1/3/2554      1682.40  \n",
              "3  1/4/2554        30.0541  1/4/2554      1642.80  \n",
              "4  1/5/2554        30.2456  1/5/2554      1587.31  "
            ],
            "text/html": [
              "\n",
              "  <div id=\"df-b3f393b5-2c86-4e49-a36a-3cfc0226c334\">\n",
              "    <div class=\"colab-df-container\">\n",
              "      <div>\n",
              "<style scoped>\n",
              "    .dataframe tbody tr th:only-of-type {\n",
              "        vertical-align: middle;\n",
              "    }\n",
              "\n",
              "    .dataframe tbody tr th {\n",
              "        vertical-align: top;\n",
              "    }\n",
              "\n",
              "    .dataframe thead th {\n",
              "        text-align: right;\n",
              "    }\n",
              "</style>\n",
              "<table border=\"1\" class=\"dataframe\">\n",
              "  <thead>\n",
              "    <tr style=\"text-align: right;\">\n",
              "      <th></th>\n",
              "      <th>Date_x</th>\n",
              "      <th>Months</th>\n",
              "      <th>ข้าว</th>\n",
              "      <th>ยางพารา</th>\n",
              "      <th>มันสำปะหลัง</th>\n",
              "      <th>Date_y</th>\n",
              "      <th>Exchange rate</th>\n",
              "      <th>Date</th>\n",
              "      <th>SET100Index</th>\n",
              "    </tr>\n",
              "  </thead>\n",
              "  <tbody>\n",
              "    <tr>\n",
              "      <th>0</th>\n",
              "      <td>2554-01-01 00:00:00</td>\n",
              "      <td>1</td>\n",
              "      <td>15536428007</td>\n",
              "      <td>36513515829</td>\n",
              "      <td>5789775035</td>\n",
              "      <td>1/1/2554</td>\n",
              "      <td>30.5839</td>\n",
              "      <td>1/1/2554</td>\n",
              "      <td>1506.94</td>\n",
              "    </tr>\n",
              "    <tr>\n",
              "      <th>1</th>\n",
              "      <td>2554-02-01 00:00:00</td>\n",
              "      <td>2</td>\n",
              "      <td>14717660237</td>\n",
              "      <td>40694496193</td>\n",
              "      <td>7440822287</td>\n",
              "      <td>1/2/2554</td>\n",
              "      <td>30.7164</td>\n",
              "      <td>1/2/2554</td>\n",
              "      <td>1605.25</td>\n",
              "    </tr>\n",
              "    <tr>\n",
              "      <th>2</th>\n",
              "      <td>2554-03-01 00:00:00</td>\n",
              "      <td>3</td>\n",
              "      <td>20183614418</td>\n",
              "      <td>47683834428</td>\n",
              "      <td>8758253202</td>\n",
              "      <td>1/3/2554</td>\n",
              "      <td>30.3684</td>\n",
              "      <td>1/3/2554</td>\n",
              "      <td>1682.40</td>\n",
              "    </tr>\n",
              "    <tr>\n",
              "      <th>3</th>\n",
              "      <td>2554-04-01 00:00:00</td>\n",
              "      <td>4</td>\n",
              "      <td>15096164762</td>\n",
              "      <td>31135906606</td>\n",
              "      <td>4788642446</td>\n",
              "      <td>1/4/2554</td>\n",
              "      <td>30.0541</td>\n",
              "      <td>1/4/2554</td>\n",
              "      <td>1642.80</td>\n",
              "    </tr>\n",
              "    <tr>\n",
              "      <th>4</th>\n",
              "      <td>2554-05-01 00:00:00</td>\n",
              "      <td>5</td>\n",
              "      <td>21296515946</td>\n",
              "      <td>34338915105</td>\n",
              "      <td>7099610188</td>\n",
              "      <td>1/5/2554</td>\n",
              "      <td>30.2456</td>\n",
              "      <td>1/5/2554</td>\n",
              "      <td>1587.31</td>\n",
              "    </tr>\n",
              "  </tbody>\n",
              "</table>\n",
              "</div>\n",
              "      <button class=\"colab-df-convert\" onclick=\"convertToInteractive('df-b3f393b5-2c86-4e49-a36a-3cfc0226c334')\"\n",
              "              title=\"Convert this dataframe to an interactive table.\"\n",
              "              style=\"display:none;\">\n",
              "        \n",
              "  <svg xmlns=\"http://www.w3.org/2000/svg\" height=\"24px\"viewBox=\"0 0 24 24\"\n",
              "       width=\"24px\">\n",
              "    <path d=\"M0 0h24v24H0V0z\" fill=\"none\"/>\n",
              "    <path d=\"M18.56 5.44l.94 2.06.94-2.06 2.06-.94-2.06-.94-.94-2.06-.94 2.06-2.06.94zm-11 1L8.5 8.5l.94-2.06 2.06-.94-2.06-.94L8.5 2.5l-.94 2.06-2.06.94zm10 10l.94 2.06.94-2.06 2.06-.94-2.06-.94-.94-2.06-.94 2.06-2.06.94z\"/><path d=\"M17.41 7.96l-1.37-1.37c-.4-.4-.92-.59-1.43-.59-.52 0-1.04.2-1.43.59L10.3 9.45l-7.72 7.72c-.78.78-.78 2.05 0 2.83L4 21.41c.39.39.9.59 1.41.59.51 0 1.02-.2 1.41-.59l7.78-7.78 2.81-2.81c.8-.78.8-2.07 0-2.86zM5.41 20L4 18.59l7.72-7.72 1.47 1.35L5.41 20z\"/>\n",
              "  </svg>\n",
              "      </button>\n",
              "      \n",
              "  <style>\n",
              "    .colab-df-container {\n",
              "      display:flex;\n",
              "      flex-wrap:wrap;\n",
              "      gap: 12px;\n",
              "    }\n",
              "\n",
              "    .colab-df-convert {\n",
              "      background-color: #E8F0FE;\n",
              "      border: none;\n",
              "      border-radius: 50%;\n",
              "      cursor: pointer;\n",
              "      display: none;\n",
              "      fill: #1967D2;\n",
              "      height: 32px;\n",
              "      padding: 0 0 0 0;\n",
              "      width: 32px;\n",
              "    }\n",
              "\n",
              "    .colab-df-convert:hover {\n",
              "      background-color: #E2EBFA;\n",
              "      box-shadow: 0px 1px 2px rgba(60, 64, 67, 0.3), 0px 1px 3px 1px rgba(60, 64, 67, 0.15);\n",
              "      fill: #174EA6;\n",
              "    }\n",
              "\n",
              "    [theme=dark] .colab-df-convert {\n",
              "      background-color: #3B4455;\n",
              "      fill: #D2E3FC;\n",
              "    }\n",
              "\n",
              "    [theme=dark] .colab-df-convert:hover {\n",
              "      background-color: #434B5C;\n",
              "      box-shadow: 0px 1px 3px 1px rgba(0, 0, 0, 0.15);\n",
              "      filter: drop-shadow(0px 1px 2px rgba(0, 0, 0, 0.3));\n",
              "      fill: #FFFFFF;\n",
              "    }\n",
              "  </style>\n",
              "\n",
              "      <script>\n",
              "        const buttonEl =\n",
              "          document.querySelector('#df-b3f393b5-2c86-4e49-a36a-3cfc0226c334 button.colab-df-convert');\n",
              "        buttonEl.style.display =\n",
              "          google.colab.kernel.accessAllowed ? 'block' : 'none';\n",
              "\n",
              "        async function convertToInteractive(key) {\n",
              "          const element = document.querySelector('#df-b3f393b5-2c86-4e49-a36a-3cfc0226c334');\n",
              "          const dataTable =\n",
              "            await google.colab.kernel.invokeFunction('convertToInteractive',\n",
              "                                                     [key], {});\n",
              "          if (!dataTable) return;\n",
              "\n",
              "          const docLinkHtml = 'Like what you see? Visit the ' +\n",
              "            '<a target=\"_blank\" href=https://colab.research.google.com/notebooks/data_table.ipynb>data table notebook</a>'\n",
              "            + ' to learn more about interactive tables.';\n",
              "          element.innerHTML = '';\n",
              "          dataTable['output_type'] = 'display_data';\n",
              "          await google.colab.output.renderOutput(dataTable, element);\n",
              "          const docLink = document.createElement('div');\n",
              "          docLink.innerHTML = docLinkHtml;\n",
              "          element.appendChild(docLink);\n",
              "        }\n",
              "      </script>\n",
              "    </div>\n",
              "  </div>\n",
              "  "
            ]
          },
          "metadata": {},
          "execution_count": 13
        }
      ]
    },
    {
      "cell_type": "markdown",
      "source": [
        "## **แสดง Columns ที่สนใจ**"
      ],
      "metadata": {
        "id": "gXxmmi_tCM-v"
      }
    },
    {
      "cell_type": "code",
      "source": [
        "data_exportrice = merged_2[['Months','ข้าว']]\n",
        "data_exportrice  # print data ดูว่ามันหน้าตาเป็นยังไง"
      ],
      "metadata": {
        "colab": {
          "base_uri": "https://localhost:8080/",
          "height": 0
        },
        "id": "RyO4car0EspS",
        "outputId": "ccc1aaea-f9e4-40bc-ef1a-740b8e21f5ae"
      },
      "execution_count": 14,
      "outputs": [
        {
          "output_type": "execute_result",
          "data": {
            "text/plain": [
              "     Months         ข้าว\n",
              "0         1  15536428007\n",
              "1         2  14717660237\n",
              "2         3  20183614418\n",
              "3         4  15096164762\n",
              "4         5  21296515946\n",
              "..      ...          ...\n",
              "130     131  12771322292\n",
              "131     132  12522650304\n",
              "132     133   7431170164\n",
              "133     134   9675354365\n",
              "134     135  10375363830\n",
              "\n",
              "[135 rows x 2 columns]"
            ],
            "text/html": [
              "\n",
              "  <div id=\"df-3bceecbb-ae21-4dd2-8cd0-e62c7e9aad85\">\n",
              "    <div class=\"colab-df-container\">\n",
              "      <div>\n",
              "<style scoped>\n",
              "    .dataframe tbody tr th:only-of-type {\n",
              "        vertical-align: middle;\n",
              "    }\n",
              "\n",
              "    .dataframe tbody tr th {\n",
              "        vertical-align: top;\n",
              "    }\n",
              "\n",
              "    .dataframe thead th {\n",
              "        text-align: right;\n",
              "    }\n",
              "</style>\n",
              "<table border=\"1\" class=\"dataframe\">\n",
              "  <thead>\n",
              "    <tr style=\"text-align: right;\">\n",
              "      <th></th>\n",
              "      <th>Months</th>\n",
              "      <th>ข้าว</th>\n",
              "    </tr>\n",
              "  </thead>\n",
              "  <tbody>\n",
              "    <tr>\n",
              "      <th>0</th>\n",
              "      <td>1</td>\n",
              "      <td>15536428007</td>\n",
              "    </tr>\n",
              "    <tr>\n",
              "      <th>1</th>\n",
              "      <td>2</td>\n",
              "      <td>14717660237</td>\n",
              "    </tr>\n",
              "    <tr>\n",
              "      <th>2</th>\n",
              "      <td>3</td>\n",
              "      <td>20183614418</td>\n",
              "    </tr>\n",
              "    <tr>\n",
              "      <th>3</th>\n",
              "      <td>4</td>\n",
              "      <td>15096164762</td>\n",
              "    </tr>\n",
              "    <tr>\n",
              "      <th>4</th>\n",
              "      <td>5</td>\n",
              "      <td>21296515946</td>\n",
              "    </tr>\n",
              "    <tr>\n",
              "      <th>...</th>\n",
              "      <td>...</td>\n",
              "      <td>...</td>\n",
              "    </tr>\n",
              "    <tr>\n",
              "      <th>130</th>\n",
              "      <td>131</td>\n",
              "      <td>12771322292</td>\n",
              "    </tr>\n",
              "    <tr>\n",
              "      <th>131</th>\n",
              "      <td>132</td>\n",
              "      <td>12522650304</td>\n",
              "    </tr>\n",
              "    <tr>\n",
              "      <th>132</th>\n",
              "      <td>133</td>\n",
              "      <td>7431170164</td>\n",
              "    </tr>\n",
              "    <tr>\n",
              "      <th>133</th>\n",
              "      <td>134</td>\n",
              "      <td>9675354365</td>\n",
              "    </tr>\n",
              "    <tr>\n",
              "      <th>134</th>\n",
              "      <td>135</td>\n",
              "      <td>10375363830</td>\n",
              "    </tr>\n",
              "  </tbody>\n",
              "</table>\n",
              "<p>135 rows × 2 columns</p>\n",
              "</div>\n",
              "      <button class=\"colab-df-convert\" onclick=\"convertToInteractive('df-3bceecbb-ae21-4dd2-8cd0-e62c7e9aad85')\"\n",
              "              title=\"Convert this dataframe to an interactive table.\"\n",
              "              style=\"display:none;\">\n",
              "        \n",
              "  <svg xmlns=\"http://www.w3.org/2000/svg\" height=\"24px\"viewBox=\"0 0 24 24\"\n",
              "       width=\"24px\">\n",
              "    <path d=\"M0 0h24v24H0V0z\" fill=\"none\"/>\n",
              "    <path d=\"M18.56 5.44l.94 2.06.94-2.06 2.06-.94-2.06-.94-.94-2.06-.94 2.06-2.06.94zm-11 1L8.5 8.5l.94-2.06 2.06-.94-2.06-.94L8.5 2.5l-.94 2.06-2.06.94zm10 10l.94 2.06.94-2.06 2.06-.94-2.06-.94-.94-2.06-.94 2.06-2.06.94z\"/><path d=\"M17.41 7.96l-1.37-1.37c-.4-.4-.92-.59-1.43-.59-.52 0-1.04.2-1.43.59L10.3 9.45l-7.72 7.72c-.78.78-.78 2.05 0 2.83L4 21.41c.39.39.9.59 1.41.59.51 0 1.02-.2 1.41-.59l7.78-7.78 2.81-2.81c.8-.78.8-2.07 0-2.86zM5.41 20L4 18.59l7.72-7.72 1.47 1.35L5.41 20z\"/>\n",
              "  </svg>\n",
              "      </button>\n",
              "      \n",
              "  <style>\n",
              "    .colab-df-container {\n",
              "      display:flex;\n",
              "      flex-wrap:wrap;\n",
              "      gap: 12px;\n",
              "    }\n",
              "\n",
              "    .colab-df-convert {\n",
              "      background-color: #E8F0FE;\n",
              "      border: none;\n",
              "      border-radius: 50%;\n",
              "      cursor: pointer;\n",
              "      display: none;\n",
              "      fill: #1967D2;\n",
              "      height: 32px;\n",
              "      padding: 0 0 0 0;\n",
              "      width: 32px;\n",
              "    }\n",
              "\n",
              "    .colab-df-convert:hover {\n",
              "      background-color: #E2EBFA;\n",
              "      box-shadow: 0px 1px 2px rgba(60, 64, 67, 0.3), 0px 1px 3px 1px rgba(60, 64, 67, 0.15);\n",
              "      fill: #174EA6;\n",
              "    }\n",
              "\n",
              "    [theme=dark] .colab-df-convert {\n",
              "      background-color: #3B4455;\n",
              "      fill: #D2E3FC;\n",
              "    }\n",
              "\n",
              "    [theme=dark] .colab-df-convert:hover {\n",
              "      background-color: #434B5C;\n",
              "      box-shadow: 0px 1px 3px 1px rgba(0, 0, 0, 0.15);\n",
              "      filter: drop-shadow(0px 1px 2px rgba(0, 0, 0, 0.3));\n",
              "      fill: #FFFFFF;\n",
              "    }\n",
              "  </style>\n",
              "\n",
              "      <script>\n",
              "        const buttonEl =\n",
              "          document.querySelector('#df-3bceecbb-ae21-4dd2-8cd0-e62c7e9aad85 button.colab-df-convert');\n",
              "        buttonEl.style.display =\n",
              "          google.colab.kernel.accessAllowed ? 'block' : 'none';\n",
              "\n",
              "        async function convertToInteractive(key) {\n",
              "          const element = document.querySelector('#df-3bceecbb-ae21-4dd2-8cd0-e62c7e9aad85');\n",
              "          const dataTable =\n",
              "            await google.colab.kernel.invokeFunction('convertToInteractive',\n",
              "                                                     [key], {});\n",
              "          if (!dataTable) return;\n",
              "\n",
              "          const docLinkHtml = 'Like what you see? Visit the ' +\n",
              "            '<a target=\"_blank\" href=https://colab.research.google.com/notebooks/data_table.ipynb>data table notebook</a>'\n",
              "            + ' to learn more about interactive tables.';\n",
              "          element.innerHTML = '';\n",
              "          dataTable['output_type'] = 'display_data';\n",
              "          await google.colab.output.renderOutput(dataTable, element);\n",
              "          const docLink = document.createElement('div');\n",
              "          docLink.innerHTML = docLinkHtml;\n",
              "          element.appendChild(docLink);\n",
              "        }\n",
              "      </script>\n",
              "    </div>\n",
              "  </div>\n",
              "  "
            ]
          },
          "metadata": {},
          "execution_count": 14
        }
      ]
    },
    {
      "cell_type": "markdown",
      "source": [
        "## **ตรวจสอบค่า Missing ของตาราง data_export**"
      ],
      "metadata": {
        "id": "-CLWDp58GrkD"
      }
    },
    {
      "cell_type": "code",
      "source": [
        "data_exportrice.isnull().any() # ดูว่าคอลัมน์ไหนมีค่า missing บ้าง สรุปคือทุกคอลัมน์ไม่มีค่า  missing"
      ],
      "metadata": {
        "colab": {
          "base_uri": "https://localhost:8080/"
        },
        "id": "q1End0YJFE0O",
        "outputId": "a0a4daaf-a781-4060-bc3e-55d64a57fcf2"
      },
      "execution_count": 15,
      "outputs": [
        {
          "output_type": "execute_result",
          "data": {
            "text/plain": [
              "Months    False\n",
              "ข้าว      False\n",
              "dtype: bool"
            ]
          },
          "metadata": {},
          "execution_count": 15
        }
      ]
    },
    {
      "cell_type": "code",
      "source": [
        "data_exportrice.isnull().sum() # จะต้องได้ค่าเป็น 0 (คือไม่มีข้อมูลสูญหาย)"
      ],
      "metadata": {
        "colab": {
          "base_uri": "https://localhost:8080/"
        },
        "id": "Mg0AyVNwG20G",
        "outputId": "23c3aca9-adb6-4391-bf14-1c42113b2f8a"
      },
      "execution_count": 16,
      "outputs": [
        {
          "output_type": "execute_result",
          "data": {
            "text/plain": [
              "Months    0\n",
              "ข้าว      0\n",
              "dtype: int64"
            ]
          },
          "metadata": {},
          "execution_count": 16
        }
      ]
    },
    {
      "cell_type": "code",
      "source": [
        "data_exportrice.shape # ตรวจสอบขนาดของข้อมูลว่ามีกี่แถว กี่คอลัมน์ ได้เป็น (135, 6) ก็คือมี 135 เดือน 6 คอลัมน์ ได้แก่ มูลค่าการส่งออกข้าว, มูลค่าการส่งออกยางพารา, มูลค่าการส่งออกมันสำปะหลัง, อัตราแลกเปลี่ยน และดัชนี SET 100"
      ],
      "metadata": {
        "colab": {
          "base_uri": "https://localhost:8080/"
        },
        "id": "1QHj_m2jHB4p",
        "outputId": "7d3a4148-317b-47a0-a580-9e13c8ed926a"
      },
      "execution_count": 17,
      "outputs": [
        {
          "output_type": "execute_result",
          "data": {
            "text/plain": [
              "(135, 2)"
            ]
          },
          "metadata": {},
          "execution_count": 17
        }
      ]
    },
    {
      "cell_type": "code",
      "source": [
        "from pandas import DataFrame\n",
        "from pandas import concat"
      ],
      "metadata": {
        "id": "131or4SRNxdP"
      },
      "execution_count": 18,
      "outputs": []
    },
    {
      "cell_type": "code",
      "source": [
        "# Function สำหรับ Preproces ข้อมูลอนุกรมเวลา (Time Series) แบบหลายตัวแปร (Multivariate Forecasting)\n",
        "def series_to_supervised(data, n_in=1, n_out=1, dropnan=True):\n",
        "    n_vars = 1 if type(data) is list else data.shape[1]\n",
        "    df = pd.DataFrame(data)\n",
        "    cols, names = list(), list() \n",
        "\t# input sequence (t-n, ... t-1)  ลำดับการป้อนข้อมูล (t-n, ... t-1)\n",
        "    for i in range(n_in, 0, -1):\n",
        "        cols.append(df.shift(i))\n",
        "        names += [('var%d(t-%d)' % (j+1, i)) for j in range(n_vars)]\n",
        "\t# forecast sequence (t, t+1, ... t+n) ลำดับการคาดการณ์ (t, t + 1, ... t + n)\n",
        "    for i in range(0, n_out):\n",
        "        cols.append(df.shift(-i))\n",
        "        if i == 0:\n",
        "            names += [('var%d(t)' % (j+1)) for j in range(n_vars)]\n",
        "        else:\n",
        "            names += [('var%d(t+%d)' % (j+1, i)) for j in range(n_vars)]\n",
        "\t\n",
        "    # put it all together รวมทั้งหมดเข้าด้วยกัน\n",
        "    agg = concat(cols, axis=1)\n",
        "    agg.columns = names\n",
        "\t# drop rows with NaN values\n",
        "    if dropnan:\n",
        "        agg.dropna(inplace=True)\n",
        "    return agg\n",
        "\n",
        "data_drop = data_exportrice.drop('Months',axis=1)\n",
        "dataset = data_drop\n",
        "values = dataset.values\n",
        "values = values.astype('float32')\n",
        "data_drop.head()"
      ],
      "metadata": {
        "colab": {
          "base_uri": "https://localhost:8080/",
          "height": 206
        },
        "id": "JgJB3tUCODdL",
        "outputId": "cf356132-a82a-46dc-dc3b-a416e022d001"
      },
      "execution_count": 19,
      "outputs": [
        {
          "output_type": "execute_result",
          "data": {
            "text/plain": [
              "          ข้าว\n",
              "0  15536428007\n",
              "1  14717660237\n",
              "2  20183614418\n",
              "3  15096164762\n",
              "4  21296515946"
            ],
            "text/html": [
              "\n",
              "  <div id=\"df-6a113ff9-b555-435e-81d3-916e074758f9\">\n",
              "    <div class=\"colab-df-container\">\n",
              "      <div>\n",
              "<style scoped>\n",
              "    .dataframe tbody tr th:only-of-type {\n",
              "        vertical-align: middle;\n",
              "    }\n",
              "\n",
              "    .dataframe tbody tr th {\n",
              "        vertical-align: top;\n",
              "    }\n",
              "\n",
              "    .dataframe thead th {\n",
              "        text-align: right;\n",
              "    }\n",
              "</style>\n",
              "<table border=\"1\" class=\"dataframe\">\n",
              "  <thead>\n",
              "    <tr style=\"text-align: right;\">\n",
              "      <th></th>\n",
              "      <th>ข้าว</th>\n",
              "    </tr>\n",
              "  </thead>\n",
              "  <tbody>\n",
              "    <tr>\n",
              "      <th>0</th>\n",
              "      <td>15536428007</td>\n",
              "    </tr>\n",
              "    <tr>\n",
              "      <th>1</th>\n",
              "      <td>14717660237</td>\n",
              "    </tr>\n",
              "    <tr>\n",
              "      <th>2</th>\n",
              "      <td>20183614418</td>\n",
              "    </tr>\n",
              "    <tr>\n",
              "      <th>3</th>\n",
              "      <td>15096164762</td>\n",
              "    </tr>\n",
              "    <tr>\n",
              "      <th>4</th>\n",
              "      <td>21296515946</td>\n",
              "    </tr>\n",
              "  </tbody>\n",
              "</table>\n",
              "</div>\n",
              "      <button class=\"colab-df-convert\" onclick=\"convertToInteractive('df-6a113ff9-b555-435e-81d3-916e074758f9')\"\n",
              "              title=\"Convert this dataframe to an interactive table.\"\n",
              "              style=\"display:none;\">\n",
              "        \n",
              "  <svg xmlns=\"http://www.w3.org/2000/svg\" height=\"24px\"viewBox=\"0 0 24 24\"\n",
              "       width=\"24px\">\n",
              "    <path d=\"M0 0h24v24H0V0z\" fill=\"none\"/>\n",
              "    <path d=\"M18.56 5.44l.94 2.06.94-2.06 2.06-.94-2.06-.94-.94-2.06-.94 2.06-2.06.94zm-11 1L8.5 8.5l.94-2.06 2.06-.94-2.06-.94L8.5 2.5l-.94 2.06-2.06.94zm10 10l.94 2.06.94-2.06 2.06-.94-2.06-.94-.94-2.06-.94 2.06-2.06.94z\"/><path d=\"M17.41 7.96l-1.37-1.37c-.4-.4-.92-.59-1.43-.59-.52 0-1.04.2-1.43.59L10.3 9.45l-7.72 7.72c-.78.78-.78 2.05 0 2.83L4 21.41c.39.39.9.59 1.41.59.51 0 1.02-.2 1.41-.59l7.78-7.78 2.81-2.81c.8-.78.8-2.07 0-2.86zM5.41 20L4 18.59l7.72-7.72 1.47 1.35L5.41 20z\"/>\n",
              "  </svg>\n",
              "      </button>\n",
              "      \n",
              "  <style>\n",
              "    .colab-df-container {\n",
              "      display:flex;\n",
              "      flex-wrap:wrap;\n",
              "      gap: 12px;\n",
              "    }\n",
              "\n",
              "    .colab-df-convert {\n",
              "      background-color: #E8F0FE;\n",
              "      border: none;\n",
              "      border-radius: 50%;\n",
              "      cursor: pointer;\n",
              "      display: none;\n",
              "      fill: #1967D2;\n",
              "      height: 32px;\n",
              "      padding: 0 0 0 0;\n",
              "      width: 32px;\n",
              "    }\n",
              "\n",
              "    .colab-df-convert:hover {\n",
              "      background-color: #E2EBFA;\n",
              "      box-shadow: 0px 1px 2px rgba(60, 64, 67, 0.3), 0px 1px 3px 1px rgba(60, 64, 67, 0.15);\n",
              "      fill: #174EA6;\n",
              "    }\n",
              "\n",
              "    [theme=dark] .colab-df-convert {\n",
              "      background-color: #3B4455;\n",
              "      fill: #D2E3FC;\n",
              "    }\n",
              "\n",
              "    [theme=dark] .colab-df-convert:hover {\n",
              "      background-color: #434B5C;\n",
              "      box-shadow: 0px 1px 3px 1px rgba(0, 0, 0, 0.15);\n",
              "      filter: drop-shadow(0px 1px 2px rgba(0, 0, 0, 0.3));\n",
              "      fill: #FFFFFF;\n",
              "    }\n",
              "  </style>\n",
              "\n",
              "      <script>\n",
              "        const buttonEl =\n",
              "          document.querySelector('#df-6a113ff9-b555-435e-81d3-916e074758f9 button.colab-df-convert');\n",
              "        buttonEl.style.display =\n",
              "          google.colab.kernel.accessAllowed ? 'block' : 'none';\n",
              "\n",
              "        async function convertToInteractive(key) {\n",
              "          const element = document.querySelector('#df-6a113ff9-b555-435e-81d3-916e074758f9');\n",
              "          const dataTable =\n",
              "            await google.colab.kernel.invokeFunction('convertToInteractive',\n",
              "                                                     [key], {});\n",
              "          if (!dataTable) return;\n",
              "\n",
              "          const docLinkHtml = 'Like what you see? Visit the ' +\n",
              "            '<a target=\"_blank\" href=https://colab.research.google.com/notebooks/data_table.ipynb>data table notebook</a>'\n",
              "            + ' to learn more about interactive tables.';\n",
              "          element.innerHTML = '';\n",
              "          dataTable['output_type'] = 'display_data';\n",
              "          await google.colab.output.renderOutput(dataTable, element);\n",
              "          const docLink = document.createElement('div');\n",
              "          docLink.innerHTML = docLinkHtml;\n",
              "          element.appendChild(docLink);\n",
              "        }\n",
              "      </script>\n",
              "    </div>\n",
              "  </div>\n",
              "  "
            ]
          },
          "metadata": {},
          "execution_count": 19
        }
      ]
    },
    {
      "cell_type": "code",
      "source": [
        "# เนื่องจากข้อมูลมูลค่าการส่งออกข้าว เป็นค่าตัวเลขที่ค่อนข้างสูงถึงหลักล้าน ดังนั้นจึงทำการ Normalize ปรับค่าให้อยู่ระหว่าง 0 ถึง 1\n",
        "# ด้วยวิธี Min-Max Scaling \n",
        "from sklearn.preprocessing import MinMaxScaler\n",
        "sc = MinMaxScaler()\n",
        "data_sc = sc.fit_transform(dataset.values)\n",
        "data_sc[:10]"
      ],
      "metadata": {
        "id": "qACX3SgRSQr_",
        "colab": {
          "base_uri": "https://localhost:8080/"
        },
        "outputId": "e67c4e52-2212-47de-ddcf-c7336d5e6d3b"
      },
      "execution_count": 20,
      "outputs": [
        {
          "output_type": "execute_result",
          "data": {
            "text/plain": [
              "array([[0.57141541],\n",
              "       [0.52129607],\n",
              "       [0.85588421],\n",
              "       [0.54446552],\n",
              "       [0.92400839],\n",
              "       [0.74994089],\n",
              "       [0.66538398],\n",
              "       [0.69338758],\n",
              "       [0.43136446],\n",
              "       [0.46722753]])"
            ]
          },
          "metadata": {},
          "execution_count": 20
        }
      ]
    },
    {
      "cell_type": "code",
      "source": [
        "#ใช้ funtion supervised learning ในการ shift ข้อมูล\n",
        "reframed = series_to_supervised(data_sc , 12, 1)\n",
        "reframed.head()"
      ],
      "metadata": {
        "colab": {
          "base_uri": "https://localhost:8080/",
          "height": 206
        },
        "id": "kWDiWUPBMLNi",
        "outputId": "3e522dad-56f7-431d-d5bf-f5ffb0ab23ca"
      },
      "execution_count": 51,
      "outputs": [
        {
          "output_type": "execute_result",
          "data": {
            "text/plain": [
              "    var1(t-12)  var1(t-11)  var1(t-10)  var1(t-9)  var1(t-8)  var1(t-7)  \\\n",
              "12    0.571415    0.521296    0.855884   0.544466   0.924008   0.749941   \n",
              "13    0.521296    0.855884    0.544466   0.924008   0.749941   0.665384   \n",
              "14    0.855884    0.544466    0.924008   0.749941   0.665384   0.693388   \n",
              "15    0.544466    0.924008    0.749941   0.665384   0.693388   0.431364   \n",
              "16    0.924008    0.749941    0.665384   0.693388   0.431364   0.467228   \n",
              "\n",
              "    var1(t-6)  var1(t-5)  var1(t-4)  var1(t-3)  var1(t-2)  var1(t-1)   var1(t)  \n",
              "12   0.665384   0.693388   0.431364   0.467228   0.529278   0.356639  0.215473  \n",
              "13   0.693388   0.431364   0.467228   0.529278   0.356639   0.215473  0.388816  \n",
              "14   0.431364   0.467228   0.529278   0.356639   0.215473   0.388816  0.197336  \n",
              "15   0.467228   0.529278   0.356639   0.215473   0.388816   0.197336  0.258748  \n",
              "16   0.529278   0.356639   0.215473   0.388816   0.197336   0.258748  0.571475  "
            ],
            "text/html": [
              "\n",
              "  <div id=\"df-acec5c0e-9f0d-4594-afba-ad90060f2c6b\">\n",
              "    <div class=\"colab-df-container\">\n",
              "      <div>\n",
              "<style scoped>\n",
              "    .dataframe tbody tr th:only-of-type {\n",
              "        vertical-align: middle;\n",
              "    }\n",
              "\n",
              "    .dataframe tbody tr th {\n",
              "        vertical-align: top;\n",
              "    }\n",
              "\n",
              "    .dataframe thead th {\n",
              "        text-align: right;\n",
              "    }\n",
              "</style>\n",
              "<table border=\"1\" class=\"dataframe\">\n",
              "  <thead>\n",
              "    <tr style=\"text-align: right;\">\n",
              "      <th></th>\n",
              "      <th>var1(t-12)</th>\n",
              "      <th>var1(t-11)</th>\n",
              "      <th>var1(t-10)</th>\n",
              "      <th>var1(t-9)</th>\n",
              "      <th>var1(t-8)</th>\n",
              "      <th>var1(t-7)</th>\n",
              "      <th>var1(t-6)</th>\n",
              "      <th>var1(t-5)</th>\n",
              "      <th>var1(t-4)</th>\n",
              "      <th>var1(t-3)</th>\n",
              "      <th>var1(t-2)</th>\n",
              "      <th>var1(t-1)</th>\n",
              "      <th>var1(t)</th>\n",
              "    </tr>\n",
              "  </thead>\n",
              "  <tbody>\n",
              "    <tr>\n",
              "      <th>12</th>\n",
              "      <td>0.571415</td>\n",
              "      <td>0.521296</td>\n",
              "      <td>0.855884</td>\n",
              "      <td>0.544466</td>\n",
              "      <td>0.924008</td>\n",
              "      <td>0.749941</td>\n",
              "      <td>0.665384</td>\n",
              "      <td>0.693388</td>\n",
              "      <td>0.431364</td>\n",
              "      <td>0.467228</td>\n",
              "      <td>0.529278</td>\n",
              "      <td>0.356639</td>\n",
              "      <td>0.215473</td>\n",
              "    </tr>\n",
              "    <tr>\n",
              "      <th>13</th>\n",
              "      <td>0.521296</td>\n",
              "      <td>0.855884</td>\n",
              "      <td>0.544466</td>\n",
              "      <td>0.924008</td>\n",
              "      <td>0.749941</td>\n",
              "      <td>0.665384</td>\n",
              "      <td>0.693388</td>\n",
              "      <td>0.431364</td>\n",
              "      <td>0.467228</td>\n",
              "      <td>0.529278</td>\n",
              "      <td>0.356639</td>\n",
              "      <td>0.215473</td>\n",
              "      <td>0.388816</td>\n",
              "    </tr>\n",
              "    <tr>\n",
              "      <th>14</th>\n",
              "      <td>0.855884</td>\n",
              "      <td>0.544466</td>\n",
              "      <td>0.924008</td>\n",
              "      <td>0.749941</td>\n",
              "      <td>0.665384</td>\n",
              "      <td>0.693388</td>\n",
              "      <td>0.431364</td>\n",
              "      <td>0.467228</td>\n",
              "      <td>0.529278</td>\n",
              "      <td>0.356639</td>\n",
              "      <td>0.215473</td>\n",
              "      <td>0.388816</td>\n",
              "      <td>0.197336</td>\n",
              "    </tr>\n",
              "    <tr>\n",
              "      <th>15</th>\n",
              "      <td>0.544466</td>\n",
              "      <td>0.924008</td>\n",
              "      <td>0.749941</td>\n",
              "      <td>0.665384</td>\n",
              "      <td>0.693388</td>\n",
              "      <td>0.431364</td>\n",
              "      <td>0.467228</td>\n",
              "      <td>0.529278</td>\n",
              "      <td>0.356639</td>\n",
              "      <td>0.215473</td>\n",
              "      <td>0.388816</td>\n",
              "      <td>0.197336</td>\n",
              "      <td>0.258748</td>\n",
              "    </tr>\n",
              "    <tr>\n",
              "      <th>16</th>\n",
              "      <td>0.924008</td>\n",
              "      <td>0.749941</td>\n",
              "      <td>0.665384</td>\n",
              "      <td>0.693388</td>\n",
              "      <td>0.431364</td>\n",
              "      <td>0.467228</td>\n",
              "      <td>0.529278</td>\n",
              "      <td>0.356639</td>\n",
              "      <td>0.215473</td>\n",
              "      <td>0.388816</td>\n",
              "      <td>0.197336</td>\n",
              "      <td>0.258748</td>\n",
              "      <td>0.571475</td>\n",
              "    </tr>\n",
              "  </tbody>\n",
              "</table>\n",
              "</div>\n",
              "      <button class=\"colab-df-convert\" onclick=\"convertToInteractive('df-acec5c0e-9f0d-4594-afba-ad90060f2c6b')\"\n",
              "              title=\"Convert this dataframe to an interactive table.\"\n",
              "              style=\"display:none;\">\n",
              "        \n",
              "  <svg xmlns=\"http://www.w3.org/2000/svg\" height=\"24px\"viewBox=\"0 0 24 24\"\n",
              "       width=\"24px\">\n",
              "    <path d=\"M0 0h24v24H0V0z\" fill=\"none\"/>\n",
              "    <path d=\"M18.56 5.44l.94 2.06.94-2.06 2.06-.94-2.06-.94-.94-2.06-.94 2.06-2.06.94zm-11 1L8.5 8.5l.94-2.06 2.06-.94-2.06-.94L8.5 2.5l-.94 2.06-2.06.94zm10 10l.94 2.06.94-2.06 2.06-.94-2.06-.94-.94-2.06-.94 2.06-2.06.94z\"/><path d=\"M17.41 7.96l-1.37-1.37c-.4-.4-.92-.59-1.43-.59-.52 0-1.04.2-1.43.59L10.3 9.45l-7.72 7.72c-.78.78-.78 2.05 0 2.83L4 21.41c.39.39.9.59 1.41.59.51 0 1.02-.2 1.41-.59l7.78-7.78 2.81-2.81c.8-.78.8-2.07 0-2.86zM5.41 20L4 18.59l7.72-7.72 1.47 1.35L5.41 20z\"/>\n",
              "  </svg>\n",
              "      </button>\n",
              "      \n",
              "  <style>\n",
              "    .colab-df-container {\n",
              "      display:flex;\n",
              "      flex-wrap:wrap;\n",
              "      gap: 12px;\n",
              "    }\n",
              "\n",
              "    .colab-df-convert {\n",
              "      background-color: #E8F0FE;\n",
              "      border: none;\n",
              "      border-radius: 50%;\n",
              "      cursor: pointer;\n",
              "      display: none;\n",
              "      fill: #1967D2;\n",
              "      height: 32px;\n",
              "      padding: 0 0 0 0;\n",
              "      width: 32px;\n",
              "    }\n",
              "\n",
              "    .colab-df-convert:hover {\n",
              "      background-color: #E2EBFA;\n",
              "      box-shadow: 0px 1px 2px rgba(60, 64, 67, 0.3), 0px 1px 3px 1px rgba(60, 64, 67, 0.15);\n",
              "      fill: #174EA6;\n",
              "    }\n",
              "\n",
              "    [theme=dark] .colab-df-convert {\n",
              "      background-color: #3B4455;\n",
              "      fill: #D2E3FC;\n",
              "    }\n",
              "\n",
              "    [theme=dark] .colab-df-convert:hover {\n",
              "      background-color: #434B5C;\n",
              "      box-shadow: 0px 1px 3px 1px rgba(0, 0, 0, 0.15);\n",
              "      filter: drop-shadow(0px 1px 2px rgba(0, 0, 0, 0.3));\n",
              "      fill: #FFFFFF;\n",
              "    }\n",
              "  </style>\n",
              "\n",
              "      <script>\n",
              "        const buttonEl =\n",
              "          document.querySelector('#df-acec5c0e-9f0d-4594-afba-ad90060f2c6b button.colab-df-convert');\n",
              "        buttonEl.style.display =\n",
              "          google.colab.kernel.accessAllowed ? 'block' : 'none';\n",
              "\n",
              "        async function convertToInteractive(key) {\n",
              "          const element = document.querySelector('#df-acec5c0e-9f0d-4594-afba-ad90060f2c6b');\n",
              "          const dataTable =\n",
              "            await google.colab.kernel.invokeFunction('convertToInteractive',\n",
              "                                                     [key], {});\n",
              "          if (!dataTable) return;\n",
              "\n",
              "          const docLinkHtml = 'Like what you see? Visit the ' +\n",
              "            '<a target=\"_blank\" href=https://colab.research.google.com/notebooks/data_table.ipynb>data table notebook</a>'\n",
              "            + ' to learn more about interactive tables.';\n",
              "          element.innerHTML = '';\n",
              "          dataTable['output_type'] = 'display_data';\n",
              "          await google.colab.output.renderOutput(dataTable, element);\n",
              "          const docLink = document.createElement('div');\n",
              "          docLink.innerHTML = docLinkHtml;\n",
              "          element.appendChild(docLink);\n",
              "        }\n",
              "      </script>\n",
              "    </div>\n",
              "  </div>\n",
              "  "
            ]
          },
          "metadata": {},
          "execution_count": 51
        }
      ]
    },
    {
      "cell_type": "code",
      "source": [
        "# ทำการ Drop ข้อมูลที่ไม่ต้องการทำนาย\n",
        "reframed.drop(['var1(t)'], axis=1, inplace=True)\n",
        "reframed.head()"
      ],
      "metadata": {
        "colab": {
          "base_uri": "https://localhost:8080/",
          "height": 206
        },
        "id": "rf4TxjuxV7vt",
        "outputId": "6d233e1b-6c41-483c-c755-7f0a290c612e"
      },
      "execution_count": 53,
      "outputs": [
        {
          "output_type": "execute_result",
          "data": {
            "text/plain": [
              "    var1(t-12)  var1(t-11)  var1(t-10)  var1(t-9)  var1(t-8)  var1(t-7)  \\\n",
              "12    0.571415    0.521296    0.855884   0.544466   0.924008   0.749941   \n",
              "13    0.521296    0.855884    0.544466   0.924008   0.749941   0.665384   \n",
              "14    0.855884    0.544466    0.924008   0.749941   0.665384   0.693388   \n",
              "15    0.544466    0.924008    0.749941   0.665384   0.693388   0.431364   \n",
              "16    0.924008    0.749941    0.665384   0.693388   0.431364   0.467228   \n",
              "\n",
              "    var1(t-6)  var1(t-5)  var1(t-4)  var1(t-3)  var1(t-2)  var1(t-1)  \n",
              "12   0.665384   0.693388   0.431364   0.467228   0.529278   0.356639  \n",
              "13   0.693388   0.431364   0.467228   0.529278   0.356639   0.215473  \n",
              "14   0.431364   0.467228   0.529278   0.356639   0.215473   0.388816  \n",
              "15   0.467228   0.529278   0.356639   0.215473   0.388816   0.197336  \n",
              "16   0.529278   0.356639   0.215473   0.388816   0.197336   0.258748  "
            ],
            "text/html": [
              "\n",
              "  <div id=\"df-3022aba6-a06c-4335-ad79-c81ace195fc2\">\n",
              "    <div class=\"colab-df-container\">\n",
              "      <div>\n",
              "<style scoped>\n",
              "    .dataframe tbody tr th:only-of-type {\n",
              "        vertical-align: middle;\n",
              "    }\n",
              "\n",
              "    .dataframe tbody tr th {\n",
              "        vertical-align: top;\n",
              "    }\n",
              "\n",
              "    .dataframe thead th {\n",
              "        text-align: right;\n",
              "    }\n",
              "</style>\n",
              "<table border=\"1\" class=\"dataframe\">\n",
              "  <thead>\n",
              "    <tr style=\"text-align: right;\">\n",
              "      <th></th>\n",
              "      <th>var1(t-12)</th>\n",
              "      <th>var1(t-11)</th>\n",
              "      <th>var1(t-10)</th>\n",
              "      <th>var1(t-9)</th>\n",
              "      <th>var1(t-8)</th>\n",
              "      <th>var1(t-7)</th>\n",
              "      <th>var1(t-6)</th>\n",
              "      <th>var1(t-5)</th>\n",
              "      <th>var1(t-4)</th>\n",
              "      <th>var1(t-3)</th>\n",
              "      <th>var1(t-2)</th>\n",
              "      <th>var1(t-1)</th>\n",
              "    </tr>\n",
              "  </thead>\n",
              "  <tbody>\n",
              "    <tr>\n",
              "      <th>12</th>\n",
              "      <td>0.571415</td>\n",
              "      <td>0.521296</td>\n",
              "      <td>0.855884</td>\n",
              "      <td>0.544466</td>\n",
              "      <td>0.924008</td>\n",
              "      <td>0.749941</td>\n",
              "      <td>0.665384</td>\n",
              "      <td>0.693388</td>\n",
              "      <td>0.431364</td>\n",
              "      <td>0.467228</td>\n",
              "      <td>0.529278</td>\n",
              "      <td>0.356639</td>\n",
              "    </tr>\n",
              "    <tr>\n",
              "      <th>13</th>\n",
              "      <td>0.521296</td>\n",
              "      <td>0.855884</td>\n",
              "      <td>0.544466</td>\n",
              "      <td>0.924008</td>\n",
              "      <td>0.749941</td>\n",
              "      <td>0.665384</td>\n",
              "      <td>0.693388</td>\n",
              "      <td>0.431364</td>\n",
              "      <td>0.467228</td>\n",
              "      <td>0.529278</td>\n",
              "      <td>0.356639</td>\n",
              "      <td>0.215473</td>\n",
              "    </tr>\n",
              "    <tr>\n",
              "      <th>14</th>\n",
              "      <td>0.855884</td>\n",
              "      <td>0.544466</td>\n",
              "      <td>0.924008</td>\n",
              "      <td>0.749941</td>\n",
              "      <td>0.665384</td>\n",
              "      <td>0.693388</td>\n",
              "      <td>0.431364</td>\n",
              "      <td>0.467228</td>\n",
              "      <td>0.529278</td>\n",
              "      <td>0.356639</td>\n",
              "      <td>0.215473</td>\n",
              "      <td>0.388816</td>\n",
              "    </tr>\n",
              "    <tr>\n",
              "      <th>15</th>\n",
              "      <td>0.544466</td>\n",
              "      <td>0.924008</td>\n",
              "      <td>0.749941</td>\n",
              "      <td>0.665384</td>\n",
              "      <td>0.693388</td>\n",
              "      <td>0.431364</td>\n",
              "      <td>0.467228</td>\n",
              "      <td>0.529278</td>\n",
              "      <td>0.356639</td>\n",
              "      <td>0.215473</td>\n",
              "      <td>0.388816</td>\n",
              "      <td>0.197336</td>\n",
              "    </tr>\n",
              "    <tr>\n",
              "      <th>16</th>\n",
              "      <td>0.924008</td>\n",
              "      <td>0.749941</td>\n",
              "      <td>0.665384</td>\n",
              "      <td>0.693388</td>\n",
              "      <td>0.431364</td>\n",
              "      <td>0.467228</td>\n",
              "      <td>0.529278</td>\n",
              "      <td>0.356639</td>\n",
              "      <td>0.215473</td>\n",
              "      <td>0.388816</td>\n",
              "      <td>0.197336</td>\n",
              "      <td>0.258748</td>\n",
              "    </tr>\n",
              "  </tbody>\n",
              "</table>\n",
              "</div>\n",
              "      <button class=\"colab-df-convert\" onclick=\"convertToInteractive('df-3022aba6-a06c-4335-ad79-c81ace195fc2')\"\n",
              "              title=\"Convert this dataframe to an interactive table.\"\n",
              "              style=\"display:none;\">\n",
              "        \n",
              "  <svg xmlns=\"http://www.w3.org/2000/svg\" height=\"24px\"viewBox=\"0 0 24 24\"\n",
              "       width=\"24px\">\n",
              "    <path d=\"M0 0h24v24H0V0z\" fill=\"none\"/>\n",
              "    <path d=\"M18.56 5.44l.94 2.06.94-2.06 2.06-.94-2.06-.94-.94-2.06-.94 2.06-2.06.94zm-11 1L8.5 8.5l.94-2.06 2.06-.94-2.06-.94L8.5 2.5l-.94 2.06-2.06.94zm10 10l.94 2.06.94-2.06 2.06-.94-2.06-.94-.94-2.06-.94 2.06-2.06.94z\"/><path d=\"M17.41 7.96l-1.37-1.37c-.4-.4-.92-.59-1.43-.59-.52 0-1.04.2-1.43.59L10.3 9.45l-7.72 7.72c-.78.78-.78 2.05 0 2.83L4 21.41c.39.39.9.59 1.41.59.51 0 1.02-.2 1.41-.59l7.78-7.78 2.81-2.81c.8-.78.8-2.07 0-2.86zM5.41 20L4 18.59l7.72-7.72 1.47 1.35L5.41 20z\"/>\n",
              "  </svg>\n",
              "      </button>\n",
              "      \n",
              "  <style>\n",
              "    .colab-df-container {\n",
              "      display:flex;\n",
              "      flex-wrap:wrap;\n",
              "      gap: 12px;\n",
              "    }\n",
              "\n",
              "    .colab-df-convert {\n",
              "      background-color: #E8F0FE;\n",
              "      border: none;\n",
              "      border-radius: 50%;\n",
              "      cursor: pointer;\n",
              "      display: none;\n",
              "      fill: #1967D2;\n",
              "      height: 32px;\n",
              "      padding: 0 0 0 0;\n",
              "      width: 32px;\n",
              "    }\n",
              "\n",
              "    .colab-df-convert:hover {\n",
              "      background-color: #E2EBFA;\n",
              "      box-shadow: 0px 1px 2px rgba(60, 64, 67, 0.3), 0px 1px 3px 1px rgba(60, 64, 67, 0.15);\n",
              "      fill: #174EA6;\n",
              "    }\n",
              "\n",
              "    [theme=dark] .colab-df-convert {\n",
              "      background-color: #3B4455;\n",
              "      fill: #D2E3FC;\n",
              "    }\n",
              "\n",
              "    [theme=dark] .colab-df-convert:hover {\n",
              "      background-color: #434B5C;\n",
              "      box-shadow: 0px 1px 3px 1px rgba(0, 0, 0, 0.15);\n",
              "      filter: drop-shadow(0px 1px 2px rgba(0, 0, 0, 0.3));\n",
              "      fill: #FFFFFF;\n",
              "    }\n",
              "  </style>\n",
              "\n",
              "      <script>\n",
              "        const buttonEl =\n",
              "          document.querySelector('#df-3022aba6-a06c-4335-ad79-c81ace195fc2 button.colab-df-convert');\n",
              "        buttonEl.style.display =\n",
              "          google.colab.kernel.accessAllowed ? 'block' : 'none';\n",
              "\n",
              "        async function convertToInteractive(key) {\n",
              "          const element = document.querySelector('#df-3022aba6-a06c-4335-ad79-c81ace195fc2');\n",
              "          const dataTable =\n",
              "            await google.colab.kernel.invokeFunction('convertToInteractive',\n",
              "                                                     [key], {});\n",
              "          if (!dataTable) return;\n",
              "\n",
              "          const docLinkHtml = 'Like what you see? Visit the ' +\n",
              "            '<a target=\"_blank\" href=https://colab.research.google.com/notebooks/data_table.ipynb>data table notebook</a>'\n",
              "            + ' to learn more about interactive tables.';\n",
              "          element.innerHTML = '';\n",
              "          dataTable['output_type'] = 'display_data';\n",
              "          await google.colab.output.renderOutput(dataTable, element);\n",
              "          const docLink = document.createElement('div');\n",
              "          docLink.innerHTML = docLinkHtml;\n",
              "          element.appendChild(docLink);\n",
              "        }\n",
              "      </script>\n",
              "    </div>\n",
              "  </div>\n",
              "  "
            ]
          },
          "metadata": {},
          "execution_count": 53
        }
      ]
    },
    {
      "cell_type": "markdown",
      "source": [
        "## **แบ่งข้อมูลเป็น Train และ Test**"
      ],
      "metadata": {
        "id": "HsKUifX2apHK"
      }
    },
    {
      "cell_type": "code",
      "source": [
        "values = data_sc\n",
        "n_train_percent = 0.80# จำนวน Samples (หรือจำนวนเดือน) ที่ใช้ Train(80%)\n",
        "n_train = int(values.shape[0]*0.80)"
      ],
      "metadata": {
        "id": "akAdSw9rZSPz"
      },
      "execution_count": 23,
      "outputs": []
    },
    {
      "cell_type": "code",
      "source": [
        "# สร้างฟังก์ชันเพื่อเตรียมข้อมูลให้เป็นเมทริกซ์ (ใช้ step=1)\n",
        "def convertToMatrix(data, step=1): \n",
        "    X,Y = [], []\n",
        "    for i in range(len(data)-step):\n",
        "        d = i + step\n",
        "        X.append(data[i:d,])\n",
        "        Y.append(data[d,])\n",
        "    return np.array(X), np.array(Y)"
      ],
      "metadata": {
        "id": "t_tfLbLHJS6m"
      },
      "execution_count": 24,
      "outputs": []
    },
    {
      "cell_type": "code",
      "source": [
        "# นำข้อมูลที่ผ่านการ Normalize แล้ว ไปแบ่งเป็น Train และ Test\n",
        "train, test = values[0:n_train], values[n_train:]\n",
        "train.shape, test.shape  # ข้อมูลสำหรับ Train มีทั้งหมด 98 เดือน และข้อมูลสำหรับ Test มีทั้งหมด 25 เดือน "
      ],
      "metadata": {
        "colab": {
          "base_uri": "https://localhost:8080/"
        },
        "id": "THxvbbcOgbG5",
        "outputId": "46578367-f068-4ace-e24b-eb920f5524ee"
      },
      "execution_count": 25,
      "outputs": [
        {
          "output_type": "execute_result",
          "data": {
            "text/plain": [
              "((108, 1), (27, 1))"
            ]
          },
          "metadata": {},
          "execution_count": 25
        }
      ]
    },
    {
      "cell_type": "code",
      "source": [
        "import numpy as np\n",
        "import pandas as pd\n",
        "import matplotlib.pyplot as plt"
      ],
      "metadata": {
        "id": "zCzwNQFgh-zr"
      },
      "execution_count": 26,
      "outputs": []
    },
    {
      "cell_type": "code",
      "source": [
        "# reshape input to be 3D [samples, timesteps, features]\n",
        "step = 1\n",
        "x_train, y_train = convertToMatrix(train, step)\n",
        "x_test, y_test = convertToMatrix(test, step)\n",
        "print('Train Test (after conversion):' ,x_train.shape, x_test.shape,y_train.shape, y_test.shape)"
      ],
      "metadata": {
        "colab": {
          "base_uri": "https://localhost:8080/"
        },
        "id": "O1rho1c2XyLx",
        "outputId": "d25a584e-4542-4fc7-f05c-99a578658b23"
      },
      "execution_count": 27,
      "outputs": [
        {
          "output_type": "stream",
          "name": "stdout",
          "text": [
            "Train Test (after conversion): (107, 1, 1) (26, 1, 1) (107, 1) (26, 1)\n"
          ]
        }
      ]
    },
    {
      "cell_type": "markdown",
      "source": [
        "## **สร้างตัวแบบ ARFIMA**"
      ],
      "metadata": {
        "id": "zCJ81-Dra2Db"
      }
    },
    {
      "cell_type": "code",
      "source": [
        "import numpy as np\n",
        "import pandas as pd\n",
        "from scipy.stats import levy_stable, norm"
      ],
      "metadata": {
        "id": "mZww4_ofa7ip"
      },
      "execution_count": null,
      "outputs": []
    },
    {
      "cell_type": "code",
      "source": [
        "def get_weights(d, length, threshold=1e-5):\n",
        "    \"\"\"\n",
        "    Computes the weights for the fractionally differentiated features up to a given threshold\n",
        "    requirement for fixed-window fractional differencing.\n",
        "    \"\"\"\n",
        "    w, k, w_curr = [1.], 1, 1\n",
        "    \n",
        "    while(k < length):\n",
        "        w_curr = (-w[-1]/k*(d-k+1))\n",
        "        \n",
        "        if(abs(w_curr) <= threshold):    \n",
        "            break\n",
        "            \n",
        "        w.append(w_curr)\n",
        "        k += 1\n",
        "        \n",
        "    #reshape from a single row to a single column so they can be applied to time-series values easier\n",
        "    w = np.array(w[::-1]).reshape(-1,1)\n",
        "    \n",
        "    return w"
      ],
      "metadata": {
        "id": "WyPqgAARk6CQ"
      },
      "execution_count": null,
      "outputs": []
    },
    {
      "cell_type": "code",
      "source": [
        "def fracdiff_FFD(series, d, threshold = 1e-5):\n",
        "    \"\"\"Computes fractionally differentiated series using fixed-width window\"\"\"\n",
        "    weights = get_weights(d, len(series), threshold)\n",
        "    width = len(weights) - 1\n",
        "    df = {}\n",
        "    \n",
        "    for name in series.columns:\n",
        "        #forward fill through unavailable prices and create a temporary series to hold values\n",
        "        curr_series = series[[name]].fillna(method='ffill').dropna()\n",
        "        df_temp = pd.Series(dtype='float64')\n",
        "        \n",
        "        #loop through all values that fall into range to be fractionally differentiated\n",
        "        for iloc1 in range(width, curr_series.shape[0]):\n",
        "            #set values for first and last time-series point to be used in current pass of fractional\n",
        "                #difference\n",
        "            \n",
        "            loc0 = curr_series.index[iloc1-width]\n",
        "            loc1 = curr_series.index[iloc1]\n",
        "            \n",
        "            #make sure current value is valid\n",
        "            if not np.isfinite(curr_series.loc[loc1,name]):\n",
        "                continue\n",
        "            \n",
        "            #dot product of weights with values from first and last indices\n",
        "            df_temp.at[loc1] = np.dot(weights.T, curr_series.loc[loc0:loc1])[0,0]\n",
        "            \n",
        "        df[name] = df_temp.copy(deep=True)\n",
        "    df = pd.concat(df, axis=1)\n",
        "            \n",
        "    return df"
      ],
      "metadata": {
        "id": "qMXDippDk7oE"
      },
      "execution_count": null,
      "outputs": []
    },
    {
      "cell_type": "code",
      "source": [
        "def ma_model(params, n_points, noise_std = 1, noise_alpha = 2):\n",
        "    \"\"\"\n",
        "    Generate discrete series using MA process\n",
        "    Coefficients used by the MA process:\n",
        "        x[t] = params[1]*epsi[t-1] + params[2]*epsi[t-2] + ... + epsi[t]\n",
        "    \"\"\"\n",
        "    ma_order = len(params)\n",
        "    \n",
        "    if noise_alpha == 2:\n",
        "        noise = norm.rvs(scale=noise_std, size=(n_points + ma_order))\n",
        "    else:\n",
        "        noise = levy_stable.rvs(\n",
        "            noise_alpha, 0, scale=noise_std, size=(n_points + ma_order)\n",
        "        )\n",
        "\n",
        "    if ma_order == 0:\n",
        "        return noise\n",
        "    \n",
        "    ma_coeffs = np.append([1], params)\n",
        "    ma_series = np.zeros(n_points)\n",
        "    \n",
        "    for idx in range(ma_order, n_points + ma_order):\n",
        "        take_idx = np.arange(idx, idx - ma_order - 1, -1).astype(int)\n",
        "        ma_series[idx - ma_order] = np.dot(ma_coeffs, noise[take_idx])\n",
        "        \n",
        "    return ma_series[ma_order:]"
      ],
      "metadata": {
        "id": "eA0w3Flyk9X9"
      },
      "execution_count": null,
      "outputs": []
    },
    {
      "cell_type": "code",
      "source": [
        "def arma_model(params, noise):\n",
        "    \"\"\"\n",
        "    Generate discrete series using ARMA process\n",
        "    Coefficients used by the AR process:\n",
        "        x[t] = params[1]*x[t-1] + params[2]*x[t-2] + ... + epsi[t]\n",
        "    \"\"\"\n",
        "    ar_order = len(params)\n",
        "    \n",
        "    if ar_order == 0:\n",
        "        return noise\n",
        "    \n",
        "    n_points = len(noise)\n",
        "    arma_series = np.zeros(n_points + ar_order)\n",
        "    \n",
        "    for idx in range(ar_order, len(arma_series)):\n",
        "        take_idx = np.arange(idx - 1, idx - ar_order - 1, -1).astype(int)\n",
        "        arma_series[idx] = np.dot(params, arma_series[take_idx]) + noise.iloc[idx - ar_order]\n",
        "    \n",
        "    return arma_series[ar_order:]"
      ],
      "metadata": {
        "id": "sobisNAYk-tJ"
      },
      "execution_count": null,
      "outputs": []
    },
    {
      "cell_type": "code",
      "source": [
        "def arfima_sim(\n",
        "    ar_params,\n",
        "    d,\n",
        "    ma_params,\n",
        "    n_points,\n",
        "    noise_std = 1,\n",
        "    noise_alpha = 2,\n",
        "    warmup = 0):\n",
        "    \"\"\"Generate discrete series using ARFIMA process\"\"\"\n",
        "    ma_list = ma_model(\n",
        "        ma_params, n_points + warmup, noise_std=noise_std, noise_alpha=noise_alpha\n",
        "    )\n",
        "    ma_df = pd.DataFrame(ma_list, columns=[\"MA Series\"])\n",
        "    frac_ma = fracdiff_FFD(ma_df, d)\n",
        "    arfima_series = arma_model(ar_params, frac_ma)\n",
        "    return arfima_series[-n_points:]"
      ],
      "metadata": {
        "id": "8PiwWqf7lAtv"
      },
      "execution_count": null,
      "outputs": []
    },
    {
      "cell_type": "code",
      "source": [
        "import matplotlib.pyplot as plt\n",
        "def plot_weights(dRange, nPlots, length):\n",
        "    w = pd.DataFrame()\n",
        "    for d in np.linspace(dRange[0], dRange[1], nPlots):\n",
        "        w_ = get_weights(d, length)     \n",
        "        w_ = pd.DataFrame(w_, index=range(w_.shape[0])[::-1],\n",
        "                          columns=[round(d, 2)])\n",
        "        w = w.join(w_, how='outer')\n",
        "\n",
        "    w[np.isnan(w)] = 0\n",
        "    ax = w.plot(figsize=(20,10))\n",
        "    ax.legend(loc='upper right');\n",
        "    ax.set_facecolor('#383838')\n",
        "    ax.grid(True)\n",
        "\n",
        "    plt.show()\n",
        "\n",
        "plot_weights(dRange=[0, 1], nPlots=11, length=5)"
      ],
      "metadata": {
        "colab": {
          "base_uri": "https://localhost:8080/",
          "height": 335
        },
        "id": "DFqpJj6FlUpC",
        "outputId": "0aef328c-4380-4dc3-a881-bfe1870f46c7"
      },
      "execution_count": null,
      "outputs": [
        {
          "output_type": "display_data",
          "data": {
            "text/plain": [
              "<Figure size 1440x720 with 1 Axes>"
            ],
            "image/png": "[encoded data removed]"
          },
          "metadata": {
            "needs_background": "light"
          }
        }
      ]
    },
    {
      "cell_type": "code",
      "source": [
        "df_result = fracdiff_FFD(data_drop[['ข้าว']], 0.4244, 1e-5)\n",
        "df_result"
      ],
      "metadata": {
        "colab": {
          "base_uri": "https://localhost:8080/",
          "height": 81
        },
        "id": "kFcTTptwlc7q",
        "outputId": "e1791f66-a093-4df2-ffd6-2879f3092ab0"
      },
      "execution_count": null,
      "outputs": [
        {
          "output_type": "execute_result",
          "data": {
            "text/plain": [
              "         ข้าว\n",
              "134  0.046045"
            ],
            "text/html": [
              "\n",
              "  <div id=\"df-677b0601-7f54-43f0-a3a3-414b4192dc10\">\n",
              "    <div class=\"colab-df-container\">\n",
              "      <div>\n",
              "<style scoped>\n",
              "    .dataframe tbody tr th:only-of-type {\n",
              "        vertical-align: middle;\n",
              "    }\n",
              "\n",
              "    .dataframe tbody tr th {\n",
              "        vertical-align: top;\n",
              "    }\n",
              "\n",
              "    .dataframe thead th {\n",
              "        text-align: right;\n",
              "    }\n",
              "</style>\n",
              "<table border=\"1\" class=\"dataframe\">\n",
              "  <thead>\n",
              "    <tr style=\"text-align: right;\">\n",
              "      <th></th>\n",
              "      <th>ข้าว</th>\n",
              "    </tr>\n",
              "  </thead>\n",
              "  <tbody>\n",
              "    <tr>\n",
              "      <th>134</th>\n",
              "      <td>0.046045</td>\n",
              "    </tr>\n",
              "  </tbody>\n",
              "</table>\n",
              "</div>\n",
              "      <button class=\"colab-df-convert\" onclick=\"convertToInteractive('df-677b0601-7f54-43f0-a3a3-414b4192dc10')\"\n",
              "              title=\"Convert this dataframe to an interactive table.\"\n",
              "              style=\"display:none;\">\n",
              "        \n",
              "  <svg xmlns=\"http://www.w3.org/2000/svg\" height=\"24px\"viewBox=\"0 0 24 24\"\n",
              "       width=\"24px\">\n",
              "    <path d=\"M0 0h24v24H0V0z\" fill=\"none\"/>\n",
              "    <path d=\"M18.56 5.44l.94 2.06.94-2.06 2.06-.94-2.06-.94-.94-2.06-.94 2.06-2.06.94zm-11 1L8.5 8.5l.94-2.06 2.06-.94-2.06-.94L8.5 2.5l-.94 2.06-2.06.94zm10 10l.94 2.06.94-2.06 2.06-.94-2.06-.94-.94-2.06-.94 2.06-2.06.94z\"/><path d=\"M17.41 7.96l-1.37-1.37c-.4-.4-.92-.59-1.43-.59-.52 0-1.04.2-1.43.59L10.3 9.45l-7.72 7.72c-.78.78-.78 2.05 0 2.83L4 21.41c.39.39.9.59 1.41.59.51 0 1.02-.2 1.41-.59l7.78-7.78 2.81-2.81c.8-.78.8-2.07 0-2.86zM5.41 20L4 18.59l7.72-7.72 1.47 1.35L5.41 20z\"/>\n",
              "  </svg>\n",
              "      </button>\n",
              "      \n",
              "  <style>\n",
              "    .colab-df-container {\n",
              "      display:flex;\n",
              "      flex-wrap:wrap;\n",
              "      gap: 12px;\n",
              "    }\n",
              "\n",
              "    .colab-df-convert {\n",
              "      background-color: #E8F0FE;\n",
              "      border: none;\n",
              "      border-radius: 50%;\n",
              "      cursor: pointer;\n",
              "      display: none;\n",
              "      fill: #1967D2;\n",
              "      height: 32px;\n",
              "      padding: 0 0 0 0;\n",
              "      width: 32px;\n",
              "    }\n",
              "\n",
              "    .colab-df-convert:hover {\n",
              "      background-color: #E2EBFA;\n",
              "      box-shadow: 0px 1px 2px rgba(60, 64, 67, 0.3), 0px 1px 3px 1px rgba(60, 64, 67, 0.15);\n",
              "      fill: #174EA6;\n",
              "    }\n",
              "\n",
              "    [theme=dark] .colab-df-convert {\n",
              "      background-color: #3B4455;\n",
              "      fill: #D2E3FC;\n",
              "    }\n",
              "\n",
              "    [theme=dark] .colab-df-convert:hover {\n",
              "      background-color: #434B5C;\n",
              "      box-shadow: 0px 1px 3px 1px rgba(0, 0, 0, 0.15);\n",
              "      filter: drop-shadow(0px 1px 2px rgba(0, 0, 0, 0.3));\n",
              "      fill: #FFFFFF;\n",
              "    }\n",
              "  </style>\n",
              "\n",
              "      <script>\n",
              "        const buttonEl =\n",
              "          document.querySelector('#df-677b0601-7f54-43f0-a3a3-414b4192dc10 button.colab-df-convert');\n",
              "        buttonEl.style.display =\n",
              "          google.colab.kernel.accessAllowed ? 'block' : 'none';\n",
              "\n",
              "        async function convertToInteractive(key) {\n",
              "          const element = document.querySelector('#df-677b0601-7f54-43f0-a3a3-414b4192dc10');\n",
              "          const dataTable =\n",
              "            await google.colab.kernel.invokeFunction('convertToInteractive',\n",
              "                                                     [key], {});\n",
              "          if (!dataTable) return;\n",
              "\n",
              "          const docLinkHtml = 'Like what you see? Visit the ' +\n",
              "            '<a target=\"_blank\" href=https://colab.research.google.com/notebooks/data_table.ipynb>data table notebook</a>'\n",
              "            + ' to learn more about interactive tables.';\n",
              "          element.innerHTML = '';\n",
              "          dataTable['output_type'] = 'display_data';\n",
              "          await google.colab.output.renderOutput(dataTable, element);\n",
              "          const docLink = document.createElement('div');\n",
              "          docLink.innerHTML = docLinkHtml;\n",
              "          element.appendChild(docLink);\n",
              "        }\n",
              "      </script>\n",
              "    </div>\n",
              "  </div>\n",
              "  "
            ]
          },
          "metadata": {},
          "execution_count": 42
        }
      ]
    },
    {
      "cell_type": "code",
      "source": [
        "fig, ax1 = plt.subplots(figsize=(20,10))\n",
        "\n",
        "color1 = 'tab:blue'\n",
        "ax1.plot(df_result.index, df_result['ข้าว'], color=color1)\n",
        "ax1.set_facecolor('#383838')\n",
        "ax1.set_ylabel('Differentiated prices', color=color1)\n",
        "ax1.set_title('Fractionally differentiated BTC close price',\n",
        "          fontsize=16)\n",
        "ax1.grid(True)\n",
        "\n",
        "color2 = 'red'\n",
        "ax2 = ax1.twinx()\n",
        "ax2.plot(df_result.index,data_drop['ข้าว'].values[-(df_result.shape[0]):], color=color2, label='Prices')\n",
        "ax2.set_ylabel('Prices', color=color2)\n",
        "plt.show()"
      ],
      "metadata": {
        "colab": {
          "base_uri": "https://localhost:8080/",
          "height": 328
        },
        "id": "YY1mL8tMl8hv",
        "outputId": "531f540e-c6f7-4368-dc36-c6462db24569"
      },
      "execution_count": null,
      "outputs": [
        {
          "output_type": "display_data",
          "data": {
            "text/plain": [
              "<Figure size 1440x720 with 2 Axes>"
            ],
            "image/png": "[encoded data removed]"
          },
          "metadata": {
            "needs_background": "light"
          }
        }
      ]
    },
    {
      "cell_type": "code",
      "source": [
        "from statsmodels.tsa.stattools import adfuller\n",
        "\n",
        "adf = adfuller(df_result['ข้าว'])\n",
        "print(f\"p-value of BTC: {float(adf[1])}\")"
      ],
      "metadata": {
        "colab": {
          "base_uri": "https://localhost:8080/",
          "height": 358
        },
        "id": "6eJAUOsWm8UD",
        "outputId": "dcf3ef2d-68e7-4a80-ae95-98c78aa77c6f"
      },
      "execution_count": null,
      "outputs": [
        {
          "output_type": "error",
          "ename": "ValueError",
          "evalue": "ignored",
          "traceback": [
            "\u001b[0;31m---------------------------------------------------------------------------\u001b[0m",
            "\u001b[0;31mValueError\u001b[0m                                Traceback (most recent call last)",
            "\u001b[0;32m<ipython-input-47-026427379a0e>\u001b[0m in \u001b[0;36m<module>\u001b[0;34m\u001b[0m\n\u001b[1;32m      1\u001b[0m \u001b[0;32mfrom\u001b[0m \u001b[0mstatsmodels\u001b[0m\u001b[0;34m.\u001b[0m\u001b[0mtsa\u001b[0m\u001b[0;34m.\u001b[0m\u001b[0mstattools\u001b[0m \u001b[0;32mimport\u001b[0m \u001b[0madfuller\u001b[0m\u001b[0;34m\u001b[0m\u001b[0;34m\u001b[0m\u001b[0m\n\u001b[1;32m      2\u001b[0m \u001b[0;34m\u001b[0m\u001b[0m\n\u001b[0;32m----> 3\u001b[0;31m \u001b[0madf\u001b[0m \u001b[0;34m=\u001b[0m \u001b[0madfuller\u001b[0m\u001b[0;34m(\u001b[0m\u001b[0mdf_result\u001b[0m\u001b[0;34m[\u001b[0m\u001b[0;34m'ข้าว'\u001b[0m\u001b[0;34m]\u001b[0m\u001b[0;34m)\u001b[0m\u001b[0;34m\u001b[0m\u001b[0;34m\u001b[0m\u001b[0m\n\u001b[0m\u001b[1;32m      4\u001b[0m \u001b[0mprint\u001b[0m\u001b[0;34m(\u001b[0m\u001b[0;34mf\"p-value of BTC: {float(adf[1])}\"\u001b[0m\u001b[0;34m)\u001b[0m\u001b[0;34m\u001b[0m\u001b[0;34m\u001b[0m\u001b[0m\n",
            "\u001b[0;32m/usr/local/lib/python3.8/dist-packages/statsmodels/tsa/stattools.py\u001b[0m in \u001b[0;36madfuller\u001b[0;34m(x, maxlag, regression, autolag, store, regresults)\u001b[0m\n\u001b[1;32m    279\u001b[0m         \u001b[0mmaxlag\u001b[0m \u001b[0;34m=\u001b[0m \u001b[0mmin\u001b[0m\u001b[0;34m(\u001b[0m\u001b[0mnobs\u001b[0m \u001b[0;34m//\u001b[0m \u001b[0;36m2\u001b[0m \u001b[0;34m-\u001b[0m \u001b[0mntrend\u001b[0m \u001b[0;34m-\u001b[0m \u001b[0;36m1\u001b[0m\u001b[0;34m,\u001b[0m \u001b[0mmaxlag\u001b[0m\u001b[0;34m)\u001b[0m\u001b[0;34m\u001b[0m\u001b[0;34m\u001b[0m\u001b[0m\n\u001b[1;32m    280\u001b[0m         \u001b[0;32mif\u001b[0m \u001b[0mmaxlag\u001b[0m \u001b[0;34m<\u001b[0m \u001b[0;36m0\u001b[0m\u001b[0;34m:\u001b[0m\u001b[0;34m\u001b[0m\u001b[0;34m\u001b[0m\u001b[0m\n\u001b[0;32m--> 281\u001b[0;31m             raise ValueError(\n\u001b[0m\u001b[1;32m    282\u001b[0m                 \u001b[0;34m\"sample size is too short to use selected \"\u001b[0m\u001b[0;34m\u001b[0m\u001b[0;34m\u001b[0m\u001b[0m\n\u001b[1;32m    283\u001b[0m                 \u001b[0;34m\"regression component\"\u001b[0m\u001b[0;34m\u001b[0m\u001b[0;34m\u001b[0m\u001b[0m\n",
            "\u001b[0;31mValueError\u001b[0m: sample size is too short to use selected regression component"
          ]
        }
      ]
    },
    {
      "cell_type": "markdown",
      "source": [
        "## **สร้างตัวแบบ LSTM**"
      ],
      "metadata": {
        "id": "jq9YakdGgVx_"
      }
    },
    {
      "cell_type": "code",
      "source": [
        "# สร้างตัวแบบ LSTM โดยกำหนดจำนวน Cell (Units) จำนวน 50 \n",
        "model = Sequential()\n",
        "model.add(LSTM(50,activation=\"relu\", input_shape=(x_train.shape[1], \n",
        "x_train.shape[2])))"
      ],
      "metadata": {
        "id": "QiZ1iBFigQnE"
      },
      "execution_count": 28,
      "outputs": []
    },
    {
      "cell_type": "code",
      "source": [
        "# สร้าง hidden layer ตามขนาด output หรือจำนวนวันที่ต้องการ forecast\n",
        "model.add(Dense(1, activation=\"tanh\"))\n",
        "model.compile(loss='mean_squared_error', optimizer='adam')\n",
        "model.summary()"
      ],
      "metadata": {
        "colab": {
          "base_uri": "https://localhost:8080/"
        },
        "id": "YXUaSoXQi-om",
        "outputId": "1c1320d9-ba8b-4a0d-fa44-78a6c7a0c1ea"
      },
      "execution_count": 29,
      "outputs": [
        {
          "output_type": "stream",
          "name": "stdout",
          "text": [
            "Model: \"sequential\"\n",
            "_________________________________________________________________\n",
            " Layer (type)                Output Shape              Param #   \n",
            "=================================================================\n",
            " lstm (LSTM)                 (None, 50)                10400     \n",
            "                                                                 \n",
            " dense (Dense)               (None, 1)                 51        \n",
            "                                                                 \n",
            "=================================================================\n",
            "Total params: 10,451\n",
            "Trainable params: 10,451\n",
            "Non-trainable params: 0\n",
            "_________________________________________________________________\n"
          ]
        }
      ]
    },
    {
      "cell_type": "code",
      "source": [
        "# fit network\n",
        "history = model.fit(x_train, y_train, epochs=20, batch_size=1, verbose=2,\n",
        "validation_data = (x_test,y_test), shuffle=False)"
      ],
      "metadata": {
        "colab": {
          "base_uri": "https://localhost:8080/"
        },
        "id": "58rE8ZgwjP7J",
        "outputId": "2a95c393-acfc-4b75-b49c-356a4af072b1"
      },
      "execution_count": 30,
      "outputs": [
        {
          "output_type": "stream",
          "name": "stdout",
          "text": [
            "Epoch 1/20\n",
            "107/107 - 1s - loss: 0.1248 - val_loss: 0.0166 - 1s/epoch - 13ms/step\n",
            "Epoch 2/20\n",
            "107/107 - 0s - loss: 0.0381 - val_loss: 0.0376 - 260ms/epoch - 2ms/step\n",
            "Epoch 3/20\n",
            "107/107 - 0s - loss: 0.0292 - val_loss: 0.0436 - 254ms/epoch - 2ms/step\n",
            "Epoch 4/20\n",
            "107/107 - 0s - loss: 0.0290 - val_loss: 0.0439 - 293ms/epoch - 3ms/step\n",
            "Epoch 5/20\n",
            "107/107 - 0s - loss: 0.0290 - val_loss: 0.0437 - 267ms/epoch - 2ms/step\n",
            "Epoch 6/20\n",
            "107/107 - 0s - loss: 0.0290 - val_loss: 0.0434 - 248ms/epoch - 2ms/step\n",
            "Epoch 7/20\n",
            "107/107 - 0s - loss: 0.0290 - val_loss: 0.0431 - 276ms/epoch - 3ms/step\n",
            "Epoch 8/20\n",
            "107/107 - 0s - loss: 0.0290 - val_loss: 0.0429 - 253ms/epoch - 2ms/step\n",
            "Epoch 9/20\n",
            "107/107 - 0s - loss: 0.0290 - val_loss: 0.0426 - 282ms/epoch - 3ms/step\n",
            "Epoch 10/20\n",
            "107/107 - 0s - loss: 0.0289 - val_loss: 0.0423 - 290ms/epoch - 3ms/step\n",
            "Epoch 11/20\n",
            "107/107 - 0s - loss: 0.0289 - val_loss: 0.0421 - 292ms/epoch - 3ms/step\n",
            "Epoch 12/20\n",
            "107/107 - 0s - loss: 0.0289 - val_loss: 0.0418 - 496ms/epoch - 5ms/step\n",
            "Epoch 13/20\n",
            "107/107 - 1s - loss: 0.0289 - val_loss: 0.0416 - 1s/epoch - 10ms/step\n",
            "Epoch 14/20\n",
            "107/107 - 1s - loss: 0.0289 - val_loss: 0.0414 - 1s/epoch - 10ms/step\n",
            "Epoch 15/20\n",
            "107/107 - 1s - loss: 0.0289 - val_loss: 0.0411 - 766ms/epoch - 7ms/step\n",
            "Epoch 16/20\n",
            "107/107 - 1s - loss: 0.0289 - val_loss: 0.0409 - 812ms/epoch - 8ms/step\n",
            "Epoch 17/20\n",
            "107/107 - 1s - loss: 0.0289 - val_loss: 0.0407 - 857ms/epoch - 8ms/step\n",
            "Epoch 18/20\n",
            "107/107 - 1s - loss: 0.0289 - val_loss: 0.0406 - 540ms/epoch - 5ms/step\n",
            "Epoch 19/20\n",
            "107/107 - 0s - loss: 0.0289 - val_loss: 0.0404 - 496ms/epoch - 5ms/step\n",
            "Epoch 20/20\n",
            "107/107 - 1s - loss: 0.0289 - val_loss: 0.0402 - 549ms/epoch - 5ms/step\n"
          ]
        }
      ]
    },
    {
      "cell_type": "code",
      "source": [
        "# plot history\n",
        "pyplot.plot(history.history['loss'], label='train loss')\n",
        "pyplot.plot(history.history['val_loss'], label='test loss')\n",
        "pyplot.legend()\n",
        "pyplot.show()\n",
        "scores = model.evaluate(x_train, y_train, verbose=0)\n",
        "print(scores )"
      ],
      "metadata": {
        "colab": {
          "base_uri": "https://localhost:8080/",
          "height": 282
        },
        "id": "sEsEpxaylCIP",
        "outputId": "0e0d37ce-670c-48bc-af60-e65831e5cf97"
      },
      "execution_count": 31,
      "outputs": [
        {
          "output_type": "display_data",
          "data": {
            "text/plain": [
              "<Figure size 432x288 with 1 Axes>"
            ],
            "image/png": "[encoded data removed]"
          },
          "metadata": {
            "needs_background": "light"
          }
        },
        {
          "output_type": "stream",
          "name": "stdout",
          "text": [
            "0.028307316824793816\n"
          ]
        }
      ]
    },
    {
      "cell_type": "code",
      "source": [
        "trainpredict= model.predict(x_train)"
      ],
      "metadata": {
        "colab": {
          "base_uri": "https://localhost:8080/"
        },
        "id": "m1C30do3n4RI",
        "outputId": "6efda99f-2027-4e11-8f16-7ddd428abf64"
      },
      "execution_count": 32,
      "outputs": [
        {
          "output_type": "stream",
          "name": "stdout",
          "text": [
            "4/4 [==============================] - 0s 3ms/step\n"
          ]
        }
      ]
    },
    {
      "cell_type": "code",
      "source": [
        "# make a prediction ทำการทำนาย\n",
        "testpredict= model.predict(x_test)"
      ],
      "metadata": {
        "colab": {
          "base_uri": "https://localhost:8080/"
        },
        "id": "b8cM2jXDmMP8",
        "outputId": "059076b4-43fd-4edf-a544-95e7fc5e9d1b"
      },
      "execution_count": 33,
      "outputs": [
        {
          "output_type": "stream",
          "name": "stdout",
          "text": [
            "1/1 [==============================] - 0s 25ms/step\n"
          ]
        }
      ]
    },
    {
      "cell_type": "code",
      "source": [
        "from sklearn.metrics import mean_squared_error, r2_score, mean_absolute_error, mean_absolute_percentage_error"
      ],
      "metadata": {
        "id": "5Rw4fbHKmYRp"
      },
      "execution_count": 34,
      "outputs": []
    },
    {
      "cell_type": "code",
      "source": [
        "trainpredict"
      ],
      "metadata": {
        "colab": {
          "base_uri": "https://localhost:8080/"
        },
        "id": "qhuVVxqlcnkT",
        "outputId": "8bb263e3-ceb6-4088-8fdf-a284a22026c0"
      },
      "execution_count": 35,
      "outputs": [
        {
          "output_type": "execute_result",
          "data": {
            "text/plain": [
              "array([[0.49956584],\n",
              "       [0.48062503],\n",
              "       [0.59931016],\n",
              "       [0.4894166 ],\n",
              "       [0.6217695 ],\n",
              "       [0.56333596],\n",
              "       [0.533806  ],\n",
              "       [0.54367   ],\n",
              "       [0.4461622 ],\n",
              "       [0.4599647 ],\n",
              "       [0.4836583 ],\n",
              "       [0.4171984 ],\n",
              "       [0.36200038],\n",
              "       [0.42970017],\n",
              "       [0.35488686],\n",
              "       [0.37896255],\n",
              "       [0.49958795],\n",
              "       [0.35782567],\n",
              "       [0.4307168 ],\n",
              "       [0.40156507],\n",
              "       [0.34659576],\n",
              "       [0.5552597 ],\n",
              "       [0.46915296],\n",
              "       [0.37864333],\n",
              "       [0.42812112],\n",
              "       [0.35504943],\n",
              "       [0.39852798],\n",
              "       [0.34726837],\n",
              "       [0.3857994 ],\n",
              "       [0.34470096],\n",
              "       [0.44884992],\n",
              "       [0.39561987],\n",
              "       [0.3669469 ],\n",
              "       [0.4573842 ],\n",
              "       [0.38581938],\n",
              "       [0.4405818 ],\n",
              "       [0.4253975 ],\n",
              "       [0.42209694],\n",
              "       [0.4403139 ],\n",
              "       [0.40874085],\n",
              "       [0.45904884],\n",
              "       [0.44674373],\n",
              "       [0.47552523],\n",
              "       [0.48675346],\n",
              "       [0.4862647 ],\n",
              "       [0.5754367 ],\n",
              "       [0.42835355],\n",
              "       [0.64613116],\n",
              "       [0.3899603 ],\n",
              "       [0.4157365 ],\n",
              "       [0.4384186 ],\n",
              "       [0.40400234],\n",
              "       [0.46643585],\n",
              "       [0.3874388 ],\n",
              "       [0.4072455 ],\n",
              "       [0.39602685],\n",
              "       [0.41393912],\n",
              "       [0.5417816 ],\n",
              "       [0.4302773 ],\n",
              "       [0.5771076 ],\n",
              "       [0.50124097],\n",
              "       [0.44868895],\n",
              "       [0.49116054],\n",
              "       [0.3902099 ],\n",
              "       [0.40636727],\n",
              "       [0.40558118],\n",
              "       [0.31798378],\n",
              "       [0.38079342],\n",
              "       [0.4219304 ],\n",
              "       [0.43559003],\n",
              "       [0.5041188 ],\n",
              "       [0.5415024 ],\n",
              "       [0.4243931 ],\n",
              "       [0.458678  ],\n",
              "       [0.46889207],\n",
              "       [0.44647008],\n",
              "       [0.40710858],\n",
              "       [0.4874247 ],\n",
              "       [0.49010158],\n",
              "       [0.48309302],\n",
              "       [0.4360171 ],\n",
              "       [0.41497275],\n",
              "       [0.642675  ],\n",
              "       [0.5515296 ],\n",
              "       [0.4987636 ],\n",
              "       [0.4859911 ],\n",
              "       [0.4636067 ],\n",
              "       [0.46744204],\n",
              "       [0.44645262],\n",
              "       [0.48996416],\n",
              "       [0.46041366],\n",
              "       [0.5217103 ],\n",
              "       [0.49421787],\n",
              "       [0.49154904],\n",
              "       [0.5343052 ],\n",
              "       [0.5355623 ],\n",
              "       [0.49383724],\n",
              "       [0.40924284],\n",
              "       [0.43143928],\n",
              "       [0.4036714 ],\n",
              "       [0.4010211 ],\n",
              "       [0.36402914],\n",
              "       [0.35962105],\n",
              "       [0.3311544 ],\n",
              "       [0.3621586 ],\n",
              "       [0.37976825],\n",
              "       [0.38943905]], dtype=float32)"
            ]
          },
          "metadata": {},
          "execution_count": 35
        }
      ]
    },
    {
      "cell_type": "code",
      "source": [
        "#ทำ rescale ข้อมูลกลับ\n",
        "trainpredict_inv = sc.inverse_transform(trainpredict)\n",
        "testpredict_inv = sc.inverse_transform(testpredict)\n",
        "y_train_inv = sc.inverse_transform(y_train)\n",
        "y_test_inv = sc.inverse_transform(y_test)\n",
        "\n",
        "train_rmse = np.sqrt(mean_squared_error(y_train_inv, trainpredict_inv))\n",
        "test_rmse = np.sqrt(mean_squared_error(y_test_inv, testpredict_inv))\n",
        "print(train_rmse)\n",
        "print(test_rmse)"
      ],
      "metadata": {
        "colab": {
          "base_uri": "https://localhost:8080/"
        },
        "id": "FW8l8H-ZquQk",
        "outputId": "75471e7b-5b86-4576-d162-8e3382fb59cd"
      },
      "execution_count": 42,
      "outputs": [
        {
          "output_type": "stream",
          "name": "stdout",
          "text": [
            "2748557499.6752205\n",
            "3276437701.5645595\n"
          ]
        }
      ]
    },
    {
      "cell_type": "code",
      "source": [
        "prefix = np.empty(step).reshape(-1,1)\n",
        "prefix.fill(np.nan)\n",
        "trainpredict_inv = np.concatenate((prefix, trainpredict_inv), axis = 0)\n",
        "testpredict_inv = np.concatenate((prefix, testpredict_inv), axis = 0)\n",
        "\n",
        "predict_inv = np.concatenate((trainpredict_inv,testpredict_inv), axis = 0)"
      ],
      "metadata": {
        "id": "uDMX3WFLfo6h"
      },
      "execution_count": 45,
      "outputs": []
    },
    {
      "cell_type": "code",
      "source": [
        "plt.figure()\n",
        "plt.plot(dataset.values, lw=1.0, label = 'Dataset')\n",
        "plt.plot(predict_inv,'r',lw = 2.0, label = 'Predict')\n",
        "plt.axvline(n_train-step-1, c = 'm', lw = 1.0)\n",
        "plt.legend()\n",
        "plt.show()"
      ],
      "metadata": {
        "colab": {
          "base_uri": "https://localhost:8080/",
          "height": 276
        },
        "id": "FgS8BEu4gevB",
        "outputId": "45fe14e7-9ce3-4dad-e51e-2b58b7a675f1"
      },
      "execution_count": 56,
      "outputs": [
        {
          "output_type": "display_data",
          "data": {
            "text/plain": [
              "<Figure size 432x288 with 1 Axes>"
            ],
            "image/png": "[encoded data removed]"
          },
          "metadata": {
            "needs_background": "light"
          }
        }
      ]
    }
  ]
}